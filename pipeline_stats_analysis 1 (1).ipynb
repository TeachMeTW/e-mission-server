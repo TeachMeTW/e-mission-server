{
 "cells": [
  {
   "cell_type": "markdown",
   "metadata": {},
   "source": [
    "## Analysis of pipeline execution time across different branches"
   ]
  },
  {
   "cell_type": "code",
   "execution_count": 92,
   "metadata": {},
   "outputs": [
    {
     "name": "stdout",
     "output_type": "stream",
     "text": [
      "Requirement already satisfied: plotly in /Users/jackgreenlee/miniconda-23.5.2/envs/emission/lib/python3.9/site-packages (6.0.0)\n",
      "Requirement already satisfied: packaging in /Users/jackgreenlee/miniconda-23.5.2/envs/emission/lib/python3.9/site-packages (from plotly) (24.2)\n",
      "Requirement already satisfied: narwhals>=1.15.1 in /Users/jackgreenlee/miniconda-23.5.2/envs/emission/lib/python3.9/site-packages (from plotly) (1.24.1)\n",
      "Requirement already satisfied: nbformat in /Users/jackgreenlee/miniconda-23.5.2/envs/emission/lib/python3.9/site-packages (5.10.4)\n",
      "Requirement already satisfied: jupyter-core!=5.0.*,>=4.12 in /Users/jackgreenlee/miniconda-23.5.2/envs/emission/lib/python3.9/site-packages (from nbformat) (5.7.2)\n",
      "Requirement already satisfied: fastjsonschema>=2.15 in /Users/jackgreenlee/miniconda-23.5.2/envs/emission/lib/python3.9/site-packages (from nbformat) (2.21.1)\n",
      "Requirement already satisfied: jsonschema>=2.6 in /Users/jackgreenlee/miniconda-23.5.2/envs/emission/lib/python3.9/site-packages (from nbformat) (4.23.0)\n",
      "Requirement already satisfied: traitlets>=5.1 in /Users/jackgreenlee/miniconda-23.5.2/envs/emission/lib/python3.9/site-packages (from nbformat) (5.14.3)\n",
      "Requirement already satisfied: referencing>=0.28.4 in /Users/jackgreenlee/miniconda-23.5.2/envs/emission/lib/python3.9/site-packages (from jsonschema>=2.6->nbformat) (0.36.2)\n",
      "Requirement already satisfied: rpds-py>=0.7.1 in /Users/jackgreenlee/miniconda-23.5.2/envs/emission/lib/python3.9/site-packages (from jsonschema>=2.6->nbformat) (0.22.3)\n",
      "Requirement already satisfied: attrs>=22.2.0 in /Users/jackgreenlee/miniconda-23.5.2/envs/emission/lib/python3.9/site-packages (from jsonschema>=2.6->nbformat) (25.1.0)\n",
      "Requirement already satisfied: jsonschema-specifications>=2023.03.6 in /Users/jackgreenlee/miniconda-23.5.2/envs/emission/lib/python3.9/site-packages (from jsonschema>=2.6->nbformat) (2024.10.1)\n",
      "Requirement already satisfied: platformdirs>=2.5 in /Users/jackgreenlee/miniconda-23.5.2/envs/emission/lib/python3.9/site-packages (from jupyter-core!=5.0.*,>=4.12->nbformat) (4.3.6)\n",
      "Requirement already satisfied: typing-extensions>=4.4.0 in /Users/jackgreenlee/miniconda-23.5.2/envs/emission/lib/python3.9/site-packages (from referencing>=0.28.4->jsonschema>=2.6->nbformat) (4.12.2)\n"
     ]
    }
   ],
   "source": [
    "# dependencies for this notebook that aren't already in the 'emission' environment\n",
    "!pip install plotly\n",
    "!pip install nbformat\n",
    "\n",
    "# db_name = \"openpath_prod_ca_ebike\"\n",
    "# %env DB_HOST=mongodb://localhost:27017/$db_name\n",
    "\n",
    "from __future__ import annotations\n",
    "import subprocess\n",
    "import time\n",
    "import pandas as pd\n",
    "import plotly.express as px\n",
    "import arrow\n",
    "import emission.core.timer as ect\n",
    "import emission.storage.decorations.stats_queries as esds\n",
    "import emission.storage.timeseries.abstract_timeseries as esta\n",
    "import emission.storage.timeseries.timequery as estt"
   ]
  },
  {
   "cell_type": "code",
   "execution_count": 93,
   "metadata": {},
   "outputs": [
    {
     "name": "stdout",
     "output_type": "stream",
     "text": [
      "Checking out master to measure pipeline runtime\n",
      "M\t.gitignore\n",
      "M\temission/storage/timeseries/builtin_timeseries.py\n",
      "Already on 'master'\n",
      "Your branch is behind 'origin/master' by 7 commits, and can be fast-forwarded.\n",
      "  (use \"git pull\" to update your local branch)\n",
      "Config file not found, returning a copy of the environment variables instead...\n",
      "Retrieved config: {'DB_HOST': None, 'DB_RESULT_LIMIT': None}\n",
      "URL not formatted, defaulting to \"Stage_database\"\n",
      "Connecting to database URL localhost\n",
      "Namespace(all=True, platform=None, user_list=None, email_list=None, date=None, dry_run=False)\n",
      "INFO:root:About to delete 2072 analysis results\n",
      "INFO:root:About to delete entries with keys ['analysis/cleaned_place', 'analysis/cleaned_section', 'analysis/cleaned_stop', 'analysis/cleaned_trip', 'analysis/composite_trip', 'analysis/confirmed_place', 'analysis/confirmed_trip', 'analysis/expected_trip', 'analysis/inferred_labels', 'analysis/inferred_section', 'analysis/inferred_trip', 'analysis/recreated_location', 'analysis/smoothing', 'inference/labels', 'inference/prediction', 'segmentation/raw_place', 'segmentation/raw_section', 'segmentation/raw_stop', 'segmentation/raw_trip']\n",
      "INFO:root:About to delete 11 pipeline states\n",
      "INFO:root:this is not a dry run, result of removing analysis objects = <pymongo.results.DeleteResult object at 0x13dfb6430>\n",
      "INFO:root:this is not a dry run, result of removing pipeline states = <pymongo.results.DeleteResult object at 0x13dfb68e0>\n",
      "Config file not found, returning a copy of the environment variables instead...\n",
      "Retrieved config: {'DB_HOST': None, 'DB_RESULT_LIMIT': None}\n",
      "URL not formatted, defaulting to \"Stage_database\"\n",
      "Connecting to database URL localhost\n",
      "emission/tests/data/real_examples/shankari_2016-07-27\n",
      "Loading file emission/tests/data/real_examples/shankari_2016-07-27\n",
      "After registration, nrelop_dev-emulator-study_0 -> 6c467f8a-af5f-45ad-8eba-b1753e825ddd\n",
      "Finished loading 0 entries into the usercache and 3580 entries into the timeseries\n",
      "Config file not found, returning a copy of the environment variables instead...\n",
      "Retrieved config: {'DB_HOST': None, 'DB_RESULT_LIMIT': None}\n",
      "URL not formatted, defaulting to \"Stage_database\"\n",
      "Connecting to database URL localhost\n",
      "Trying to open debug.conf.json\n",
      "analysis.debug.conf.json not configured, falling back to sample, default configuration\n",
      "INFO:root:NOMINATIM_QUERY_URL: None\n",
      "Nominatim Query URL Configured: None\n",
      "Nominatim URL not configured, place decoding must happen on the client\n",
      "overpass not configured, falling back to public overpass api\n",
      "transit stops query not configured, falling back to default\n",
      "The Zen of Python, by Tim Peters\n",
      "\n",
      "Beautiful is better than ugly.\n",
      "Explicit is better than implicit.\n",
      "Simple is better than complex.\n",
      "Complex is better than complicated.\n",
      "Flat is better than nested.\n",
      "Sparse is better than dense.\n",
      "Readability counts.\n",
      "Special cases aren't special enough to break the rules.\n",
      "Although practicality beats purity.\n",
      "Errors should never pass silently.\n",
      "Unless explicitly silenced.\n",
      "In the face of ambiguity, refuse the temptation to guess.\n",
      "There should be one-- and preferably only one --obvious way to do it.\n",
      "Although that way may not be obvious at first unless you're Dutch.\n",
      "Now is better than never.\n",
      "Although never is often better than *right* now.\n",
      "If the implementation is hard to explain, it's a bad idea.\n",
      "If the implementation is easy to explain, it may be a good idea.\n",
      "Namespaces are one honking great idea -- let's do more of those!\n",
      "analysis.trip_model.conf.json not configured, falling back to sample, default configuration\n",
      "expectations.conf.json not configured, falling back to sample, default configuration\n",
      "ERROR:root:habitica not configured, game functions not supported\n",
      "Traceback (most recent call last):\n",
      "  File \"/Users/jackgreenlee/e-mission-server/emission/net/ext_service/habitica/proxy.py\", line 22, in <module>\n",
      "    key_file = open('conf/net/ext_service/habitica.json')\n",
      "FileNotFoundError: [Errno 2] No such file or directory: 'conf/net/ext_service/habitica.json'\n",
      "2025-02-03T14:33:35.333000-05:00**********UUID 6c467f8a-af5f-45ad-8eba-b1753e825ddd: moving to long term**********\n",
      "New entry count == 0 and skip_if_no_new_data = False, continuing\n",
      "2025-02-03T14:33:35.340341-05:00**********UUID 6c467f8a-af5f-45ad-8eba-b1753e825ddd: updating incoming user inputs**********\n",
      "2025-02-03T14:33:35.482314-05:00**********UUID 6c467f8a-af5f-45ad-8eba-b1753e825ddd: filter accuracy if needed**********\n",
      "2025-02-03T14:33:35.486933-05:00**********UUID 6c467f8a-af5f-45ad-8eba-b1753e825ddd: segmenting into trips**********\n",
      "2025-02-03T14:33:45.812003-05:00**********UUID 6c467f8a-af5f-45ad-8eba-b1753e825ddd: segmenting into sections**********\n",
      "/Users/jackgreenlee/e-mission-server/emission/analysis/intake/segmentation/section_segmentation_methods/flip_flop_detection.py:59: RuntimeWarning: invalid value encountered in scalar divide\n",
      "  sm.update({\"trip_pct\": (curr_section_time * 100)/total_trip_time})\n",
      "/Users/jackgreenlee/e-mission-server/emission/analysis/intake/segmentation/section_segmentation_methods/flip_flop_detection.py:59: RuntimeWarning: invalid value encountered in scalar divide\n",
      "  sm.update({\"trip_pct\": (curr_section_time * 100)/total_trip_time})\n",
      "2025-02-03T14:33:48.125412-05:00**********UUID 6c467f8a-af5f-45ad-8eba-b1753e825ddd: smoothing sections**********\n",
      "/Users/jackgreenlee/e-mission-server/emission/analysis/intake/cleaning/cleaning_methods/speed_outlier_detection.py:27: FutureWarning: The default value of numeric_only in DataFrame.quantile is deprecated. In a future version, it will default to False. Select only valid columns or specify the value of numeric_only to silence this warning.\n",
      "  quartile_vals = df_to_use.quantile([0.25, 0.75]).speed\n",
      "Caught error after splitting, the segment is not a cluster?! while processing section, skipping...\n",
      "Traceback (most recent call last):\n",
      "  File \"/Users/jackgreenlee/e-mission-server/emission/analysis/intake/cleaning/location_smoothing.py\", line 195, in get_points_to_filter\n",
      "    filtering_algo.filter(with_speeds_df)\n",
      "  File \"/Users/jackgreenlee/e-mission-server/emission/analysis/intake/cleaning/cleaning_methods/jump_smoothing.py\", line 251, in filter\n",
      "    self.mark_segment_states(start_segment_idx, SmoothZigzag.Direction.LEFT)\n",
      "  File \"/Users/jackgreenlee/e-mission-server/emission/analysis/intake/cleaning/cleaning_methods/jump_smoothing.py\", line 224, in mark_segment_states\n",
      "    assert curr_seg.is_cluster, \"after splitting, the segment is not a cluster?!\"\n",
      "AssertionError: after splitting, the segment is not a cluster?!\n",
      "/Users/jackgreenlee/e-mission-server/emission/analysis/intake/cleaning/cleaning_methods/speed_outlier_detection.py:27: FutureWarning: The default value of numeric_only in DataFrame.quantile is deprecated. In a future version, it will default to False. Select only valid columns or specify the value of numeric_only to silence this warning.\n",
      "  quartile_vals = df_to_use.quantile([0.25, 0.75]).speed\n",
      "/Users/jackgreenlee/e-mission-server/emission/analysis/intake/cleaning/cleaning_methods/speed_outlier_detection.py:27: FutureWarning: The default value of numeric_only in DataFrame.quantile is deprecated. In a future version, it will default to False. Select only valid columns or specify the value of numeric_only to silence this warning.\n",
      "  quartile_vals = df_to_use.quantile([0.25, 0.75]).speed\n",
      "/Users/jackgreenlee/e-mission-server/emission/analysis/intake/cleaning/cleaning_methods/speed_outlier_detection.py:27: FutureWarning: The default value of numeric_only in DataFrame.quantile is deprecated. In a future version, it will default to False. Select only valid columns or specify the value of numeric_only to silence this warning.\n",
      "  quartile_vals = df_to_use.quantile([0.25, 0.75]).speed\n",
      "/Users/jackgreenlee/e-mission-server/emission/analysis/intake/cleaning/cleaning_methods/speed_outlier_detection.py:27: FutureWarning: The default value of numeric_only in DataFrame.quantile is deprecated. In a future version, it will default to False. Select only valid columns or specify the value of numeric_only to silence this warning.\n",
      "  quartile_vals = df_to_use.quantile([0.25, 0.75]).speed\n",
      "/Users/jackgreenlee/e-mission-server/emission/analysis/intake/cleaning/cleaning_methods/speed_outlier_detection.py:27: FutureWarning: The default value of numeric_only in DataFrame.quantile is deprecated. In a future version, it will default to False. Select only valid columns or specify the value of numeric_only to silence this warning.\n",
      "  quartile_vals = df_to_use.quantile([0.25, 0.75]).speed\n",
      "/Users/jackgreenlee/e-mission-server/emission/analysis/intake/cleaning/cleaning_methods/speed_outlier_detection.py:27: FutureWarning: The default value of numeric_only in DataFrame.quantile is deprecated. In a future version, it will default to False. Select only valid columns or specify the value of numeric_only to silence this warning.\n",
      "  quartile_vals = df_to_use.quantile([0.25, 0.75]).speed\n",
      "/Users/jackgreenlee/e-mission-server/emission/analysis/intake/cleaning/cleaning_methods/speed_outlier_detection.py:27: FutureWarning: The default value of numeric_only in DataFrame.quantile is deprecated. In a future version, it will default to False. Select only valid columns or specify the value of numeric_only to silence this warning.\n",
      "  quartile_vals = df_to_use.quantile([0.25, 0.75]).speed\n",
      "/Users/jackgreenlee/e-mission-server/emission/analysis/intake/cleaning/cleaning_methods/speed_outlier_detection.py:27: FutureWarning: The default value of numeric_only in DataFrame.quantile is deprecated. In a future version, it will default to False. Select only valid columns or specify the value of numeric_only to silence this warning.\n",
      "  quartile_vals = df_to_use.quantile([0.25, 0.75]).speed\n",
      "/Users/jackgreenlee/e-mission-server/emission/analysis/intake/cleaning/cleaning_methods/speed_outlier_detection.py:27: FutureWarning: The default value of numeric_only in DataFrame.quantile is deprecated. In a future version, it will default to False. Select only valid columns or specify the value of numeric_only to silence this warning.\n",
      "  quartile_vals = df_to_use.quantile([0.25, 0.75]).speed\n",
      "/Users/jackgreenlee/e-mission-server/emission/analysis/intake/cleaning/cleaning_methods/speed_outlier_detection.py:27: FutureWarning: The default value of numeric_only in DataFrame.quantile is deprecated. In a future version, it will default to False. Select only valid columns or specify the value of numeric_only to silence this warning.\n",
      "  quartile_vals = df_to_use.quantile([0.25, 0.75]).speed\n",
      "/Users/jackgreenlee/e-mission-server/emission/analysis/intake/cleaning/cleaning_methods/speed_outlier_detection.py:27: FutureWarning: The default value of numeric_only in DataFrame.quantile is deprecated. In a future version, it will default to False. Select only valid columns or specify the value of numeric_only to silence this warning.\n",
      "  quartile_vals = df_to_use.quantile([0.25, 0.75]).speed\n",
      "/Users/jackgreenlee/e-mission-server/emission/analysis/intake/cleaning/cleaning_methods/speed_outlier_detection.py:27: FutureWarning: The default value of numeric_only in DataFrame.quantile is deprecated. In a future version, it will default to False. Select only valid columns or specify the value of numeric_only to silence this warning.\n",
      "  quartile_vals = df_to_use.quantile([0.25, 0.75]).speed\n",
      "/Users/jackgreenlee/e-mission-server/emission/analysis/intake/cleaning/cleaning_methods/speed_outlier_detection.py:27: FutureWarning: The default value of numeric_only in DataFrame.quantile is deprecated. In a future version, it will default to False. Select only valid columns or specify the value of numeric_only to silence this warning.\n",
      "  quartile_vals = df_to_use.quantile([0.25, 0.75]).speed\n",
      "/Users/jackgreenlee/e-mission-server/emission/analysis/intake/cleaning/cleaning_methods/speed_outlier_detection.py:27: FutureWarning: The default value of numeric_only in DataFrame.quantile is deprecated. In a future version, it will default to False. Select only valid columns or specify the value of numeric_only to silence this warning.\n",
      "  quartile_vals = df_to_use.quantile([0.25, 0.75]).speed\n",
      "/Users/jackgreenlee/e-mission-server/emission/analysis/intake/cleaning/cleaning_methods/speed_outlier_detection.py:27: FutureWarning: The default value of numeric_only in DataFrame.quantile is deprecated. In a future version, it will default to False. Select only valid columns or specify the value of numeric_only to silence this warning.\n",
      "  quartile_vals = df_to_use.quantile([0.25, 0.75]).speed\n",
      "/Users/jackgreenlee/e-mission-server/emission/analysis/intake/cleaning/cleaning_methods/speed_outlier_detection.py:27: FutureWarning: The default value of numeric_only in DataFrame.quantile is deprecated. In a future version, it will default to False. Select only valid columns or specify the value of numeric_only to silence this warning.\n",
      "  quartile_vals = df_to_use.quantile([0.25, 0.75]).speed\n",
      "/Users/jackgreenlee/e-mission-server/emission/analysis/intake/cleaning/cleaning_methods/speed_outlier_detection.py:27: FutureWarning: The default value of numeric_only in DataFrame.quantile is deprecated. In a future version, it will default to False. Select only valid columns or specify the value of numeric_only to silence this warning.\n",
      "  quartile_vals = df_to_use.quantile([0.25, 0.75]).speed\n",
      "/Users/jackgreenlee/e-mission-server/emission/analysis/intake/cleaning/cleaning_methods/speed_outlier_detection.py:27: FutureWarning: The default value of numeric_only in DataFrame.quantile is deprecated. In a future version, it will default to False. Select only valid columns or specify the value of numeric_only to silence this warning.\n",
      "  quartile_vals = df_to_use.quantile([0.25, 0.75]).speed\n",
      "/Users/jackgreenlee/e-mission-server/emission/analysis/intake/cleaning/cleaning_methods/speed_outlier_detection.py:27: FutureWarning: The default value of numeric_only in DataFrame.quantile is deprecated. In a future version, it will default to False. Select only valid columns or specify the value of numeric_only to silence this warning.\n",
      "  quartile_vals = df_to_use.quantile([0.25, 0.75]).speed\n",
      "/Users/jackgreenlee/e-mission-server/emission/analysis/intake/cleaning/cleaning_methods/speed_outlier_detection.py:27: FutureWarning: The default value of numeric_only in DataFrame.quantile is deprecated. In a future version, it will default to False. Select only valid columns or specify the value of numeric_only to silence this warning.\n",
      "  quartile_vals = df_to_use.quantile([0.25, 0.75]).speed\n",
      "/Users/jackgreenlee/e-mission-server/emission/analysis/intake/cleaning/cleaning_methods/speed_outlier_detection.py:27: FutureWarning: The default value of numeric_only in DataFrame.quantile is deprecated. In a future version, it will default to False. Select only valid columns or specify the value of numeric_only to silence this warning.\n",
      "  quartile_vals = df_to_use.quantile([0.25, 0.75]).speed\n",
      "/Users/jackgreenlee/e-mission-server/emission/analysis/intake/cleaning/cleaning_methods/speed_outlier_detection.py:27: FutureWarning: The default value of numeric_only in DataFrame.quantile is deprecated. In a future version, it will default to False. Select only valid columns or specify the value of numeric_only to silence this warning.\n",
      "  quartile_vals = df_to_use.quantile([0.25, 0.75]).speed\n",
      "/Users/jackgreenlee/e-mission-server/emission/analysis/intake/cleaning/cleaning_methods/speed_outlier_detection.py:27: FutureWarning: The default value of numeric_only in DataFrame.quantile is deprecated. In a future version, it will default to False. Select only valid columns or specify the value of numeric_only to silence this warning.\n",
      "  quartile_vals = df_to_use.quantile([0.25, 0.75]).speed\n",
      "/Users/jackgreenlee/e-mission-server/emission/analysis/intake/cleaning/cleaning_methods/speed_outlier_detection.py:27: FutureWarning: The default value of numeric_only in DataFrame.quantile is deprecated. In a future version, it will default to False. Select only valid columns or specify the value of numeric_only to silence this warning.\n",
      "  quartile_vals = df_to_use.quantile([0.25, 0.75]).speed\n",
      "/Users/jackgreenlee/e-mission-server/emission/analysis/intake/cleaning/cleaning_methods/speed_outlier_detection.py:27: FutureWarning: The default value of numeric_only in DataFrame.quantile is deprecated. In a future version, it will default to False. Select only valid columns or specify the value of numeric_only to silence this warning.\n",
      "  quartile_vals = df_to_use.quantile([0.25, 0.75]).speed\n",
      "/Users/jackgreenlee/e-mission-server/emission/analysis/intake/cleaning/cleaning_methods/speed_outlier_detection.py:27: FutureWarning: The default value of numeric_only in DataFrame.quantile is deprecated. In a future version, it will default to False. Select only valid columns or specify the value of numeric_only to silence this warning.\n",
      "  quartile_vals = df_to_use.quantile([0.25, 0.75]).speed\n",
      "/Users/jackgreenlee/e-mission-server/emission/analysis/intake/cleaning/cleaning_methods/speed_outlier_detection.py:27: FutureWarning: The default value of numeric_only in DataFrame.quantile is deprecated. In a future version, it will default to False. Select only valid columns or specify the value of numeric_only to silence this warning.\n",
      "  quartile_vals = df_to_use.quantile([0.25, 0.75]).speed\n",
      "/Users/jackgreenlee/e-mission-server/emission/analysis/intake/cleaning/cleaning_methods/speed_outlier_detection.py:27: FutureWarning: The default value of numeric_only in DataFrame.quantile is deprecated. In a future version, it will default to False. Select only valid columns or specify the value of numeric_only to silence this warning.\n",
      "  quartile_vals = df_to_use.quantile([0.25, 0.75]).speed\n",
      "/Users/jackgreenlee/e-mission-server/emission/analysis/intake/cleaning/cleaning_methods/speed_outlier_detection.py:27: FutureWarning: The default value of numeric_only in DataFrame.quantile is deprecated. In a future version, it will default to False. Select only valid columns or specify the value of numeric_only to silence this warning.\n",
      "  quartile_vals = df_to_use.quantile([0.25, 0.75]).speed\n",
      "/Users/jackgreenlee/e-mission-server/emission/analysis/intake/cleaning/cleaning_methods/speed_outlier_detection.py:27: FutureWarning: The default value of numeric_only in DataFrame.quantile is deprecated. In a future version, it will default to False. Select only valid columns or specify the value of numeric_only to silence this warning.\n",
      "  quartile_vals = df_to_use.quantile([0.25, 0.75]).speed\n",
      "/Users/jackgreenlee/e-mission-server/emission/analysis/intake/cleaning/cleaning_methods/speed_outlier_detection.py:27: FutureWarning: The default value of numeric_only in DataFrame.quantile is deprecated. In a future version, it will default to False. Select only valid columns or specify the value of numeric_only to silence this warning.\n",
      "  quartile_vals = df_to_use.quantile([0.25, 0.75]).speed\n",
      "/Users/jackgreenlee/e-mission-server/emission/analysis/intake/cleaning/cleaning_methods/speed_outlier_detection.py:27: FutureWarning: The default value of numeric_only in DataFrame.quantile is deprecated. In a future version, it will default to False. Select only valid columns or specify the value of numeric_only to silence this warning.\n",
      "  quartile_vals = df_to_use.quantile([0.25, 0.75]).speed\n",
      "/Users/jackgreenlee/e-mission-server/emission/analysis/intake/cleaning/cleaning_methods/speed_outlier_detection.py:27: FutureWarning: The default value of numeric_only in DataFrame.quantile is deprecated. In a future version, it will default to False. Select only valid columns or specify the value of numeric_only to silence this warning.\n",
      "  quartile_vals = df_to_use.quantile([0.25, 0.75]).speed\n",
      "/Users/jackgreenlee/e-mission-server/emission/analysis/intake/cleaning/cleaning_methods/speed_outlier_detection.py:27: FutureWarning: The default value of numeric_only in DataFrame.quantile is deprecated. In a future version, it will default to False. Select only valid columns or specify the value of numeric_only to silence this warning.\n",
      "  quartile_vals = df_to_use.quantile([0.25, 0.75]).speed\n",
      "/Users/jackgreenlee/e-mission-server/emission/analysis/intake/cleaning/cleaning_methods/speed_outlier_detection.py:27: FutureWarning: The default value of numeric_only in DataFrame.quantile is deprecated. In a future version, it will default to False. Select only valid columns or specify the value of numeric_only to silence this warning.\n",
      "  quartile_vals = df_to_use.quantile([0.25, 0.75]).speed\n",
      "/Users/jackgreenlee/e-mission-server/emission/analysis/intake/cleaning/cleaning_methods/speed_outlier_detection.py:27: FutureWarning: The default value of numeric_only in DataFrame.quantile is deprecated. In a future version, it will default to False. Select only valid columns or specify the value of numeric_only to silence this warning.\n",
      "  quartile_vals = df_to_use.quantile([0.25, 0.75]).speed\n",
      "/Users/jackgreenlee/e-mission-server/emission/analysis/intake/cleaning/cleaning_methods/speed_outlier_detection.py:27: FutureWarning: The default value of numeric_only in DataFrame.quantile is deprecated. In a future version, it will default to False. Select only valid columns or specify the value of numeric_only to silence this warning.\n",
      "  quartile_vals = df_to_use.quantile([0.25, 0.75]).speed\n",
      "/Users/jackgreenlee/e-mission-server/emission/analysis/intake/cleaning/cleaning_methods/speed_outlier_detection.py:27: FutureWarning: The default value of numeric_only in DataFrame.quantile is deprecated. In a future version, it will default to False. Select only valid columns or specify the value of numeric_only to silence this warning.\n",
      "  quartile_vals = df_to_use.quantile([0.25, 0.75]).speed\n",
      "/Users/jackgreenlee/e-mission-server/emission/analysis/intake/cleaning/cleaning_methods/speed_outlier_detection.py:27: FutureWarning: The default value of numeric_only in DataFrame.quantile is deprecated. In a future version, it will default to False. Select only valid columns or specify the value of numeric_only to silence this warning.\n",
      "  quartile_vals = df_to_use.quantile([0.25, 0.75]).speed\n",
      "2025-02-03T14:33:48.719629-05:00**********UUID 6c467f8a-af5f-45ad-8eba-b1753e825ddd: cleaning and resampling timeline**********\n",
      "/Users/jackgreenlee/e-mission-server/emission/analysis/intake/cleaning/cleaning_methods/speed_outlier_detection.py:27: FutureWarning: The default value of numeric_only in DataFrame.quantile is deprecated. In a future version, it will default to False. Select only valid columns or specify the value of numeric_only to silence this warning.\n",
      "  quartile_vals = df_to_use.quantile([0.25, 0.75]).speed\n",
      "/Users/jackgreenlee/e-mission-server/emission/analysis/intake/cleaning/cleaning_methods/speed_outlier_detection.py:27: FutureWarning: The default value of numeric_only in DataFrame.quantile is deprecated. In a future version, it will default to False. Select only valid columns or specify the value of numeric_only to silence this warning.\n",
      "  quartile_vals = df_to_use.quantile([0.25, 0.75]).speed\n",
      "/Users/jackgreenlee/e-mission-server/emission/analysis/intake/cleaning/cleaning_methods/speed_outlier_detection.py:27: FutureWarning: The default value of numeric_only in DataFrame.quantile is deprecated. In a future version, it will default to False. Select only valid columns or specify the value of numeric_only to silence this warning.\n",
      "  quartile_vals = df_to_use.quantile([0.25, 0.75]).speed\n",
      "/Users/jackgreenlee/e-mission-server/emission/analysis/intake/cleaning/cleaning_methods/speed_outlier_detection.py:27: FutureWarning: The default value of numeric_only in DataFrame.quantile is deprecated. In a future version, it will default to False. Select only valid columns or specify the value of numeric_only to silence this warning.\n",
      "  quartile_vals = df_to_use.quantile([0.25, 0.75]).speed\n",
      "/Users/jackgreenlee/e-mission-server/emission/analysis/intake/cleaning/cleaning_methods/speed_outlier_detection.py:27: FutureWarning: The default value of numeric_only in DataFrame.quantile is deprecated. In a future version, it will default to False. Select only valid columns or specify the value of numeric_only to silence this warning.\n",
      "  quartile_vals = df_to_use.quantile([0.25, 0.75]).speed\n",
      "/Users/jackgreenlee/e-mission-server/emission/analysis/intake/cleaning/cleaning_methods/speed_outlier_detection.py:27: FutureWarning: The default value of numeric_only in DataFrame.quantile is deprecated. In a future version, it will default to False. Select only valid columns or specify the value of numeric_only to silence this warning.\n",
      "  quartile_vals = df_to_use.quantile([0.25, 0.75]).speed\n",
      "/Users/jackgreenlee/e-mission-server/emission/analysis/intake/cleaning/cleaning_methods/speed_outlier_detection.py:27: FutureWarning: The default value of numeric_only in DataFrame.quantile is deprecated. In a future version, it will default to False. Select only valid columns or specify the value of numeric_only to silence this warning.\n",
      "  quartile_vals = df_to_use.quantile([0.25, 0.75]).speed\n",
      "/Users/jackgreenlee/e-mission-server/emission/analysis/intake/cleaning/cleaning_methods/speed_outlier_detection.py:27: FutureWarning: The default value of numeric_only in DataFrame.quantile is deprecated. In a future version, it will default to False. Select only valid columns or specify the value of numeric_only to silence this warning.\n",
      "  quartile_vals = df_to_use.quantile([0.25, 0.75]).speed\n",
      "/Users/jackgreenlee/e-mission-server/emission/analysis/intake/cleaning/cleaning_methods/speed_outlier_detection.py:27: FutureWarning: The default value of numeric_only in DataFrame.quantile is deprecated. In a future version, it will default to False. Select only valid columns or specify the value of numeric_only to silence this warning.\n",
      "  quartile_vals = df_to_use.quantile([0.25, 0.75]).speed\n",
      "/Users/jackgreenlee/e-mission-server/emission/analysis/intake/cleaning/cleaning_methods/speed_outlier_detection.py:27: FutureWarning: The default value of numeric_only in DataFrame.quantile is deprecated. In a future version, it will default to False. Select only valid columns or specify the value of numeric_only to silence this warning.\n",
      "  quartile_vals = df_to_use.quantile([0.25, 0.75]).speed\n",
      "/Users/jackgreenlee/e-mission-server/emission/analysis/intake/cleaning/cleaning_methods/speed_outlier_detection.py:27: FutureWarning: The default value of numeric_only in DataFrame.quantile is deprecated. In a future version, it will default to False. Select only valid columns or specify the value of numeric_only to silence this warning.\n",
      "  quartile_vals = df_to_use.quantile([0.25, 0.75]).speed\n",
      "/Users/jackgreenlee/e-mission-server/emission/analysis/intake/cleaning/cleaning_methods/speed_outlier_detection.py:27: FutureWarning: The default value of numeric_only in DataFrame.quantile is deprecated. In a future version, it will default to False. Select only valid columns or specify the value of numeric_only to silence this warning.\n",
      "  quartile_vals = df_to_use.quantile([0.25, 0.75]).speed\n",
      "/Users/jackgreenlee/e-mission-server/emission/analysis/intake/cleaning/cleaning_methods/speed_outlier_detection.py:27: FutureWarning: The default value of numeric_only in DataFrame.quantile is deprecated. In a future version, it will default to False. Select only valid columns or specify the value of numeric_only to silence this warning.\n",
      "  quartile_vals = df_to_use.quantile([0.25, 0.75]).speed\n",
      "/Users/jackgreenlee/e-mission-server/emission/analysis/intake/cleaning/cleaning_methods/speed_outlier_detection.py:27: FutureWarning: The default value of numeric_only in DataFrame.quantile is deprecated. In a future version, it will default to False. Select only valid columns or specify the value of numeric_only to silence this warning.\n",
      "  quartile_vals = df_to_use.quantile([0.25, 0.75]).speed\n",
      "/Users/jackgreenlee/e-mission-server/emission/analysis/intake/cleaning/cleaning_methods/speed_outlier_detection.py:27: FutureWarning: The default value of numeric_only in DataFrame.quantile is deprecated. In a future version, it will default to False. Select only valid columns or specify the value of numeric_only to silence this warning.\n",
      "  quartile_vals = df_to_use.quantile([0.25, 0.75]).speed\n",
      "/Users/jackgreenlee/e-mission-server/emission/analysis/intake/cleaning/cleaning_methods/speed_outlier_detection.py:27: FutureWarning: The default value of numeric_only in DataFrame.quantile is deprecated. In a future version, it will default to False. Select only valid columns or specify the value of numeric_only to silence this warning.\n",
      "  quartile_vals = df_to_use.quantile([0.25, 0.75]).speed\n",
      "/Users/jackgreenlee/e-mission-server/emission/analysis/intake/cleaning/cleaning_methods/speed_outlier_detection.py:27: FutureWarning: The default value of numeric_only in DataFrame.quantile is deprecated. In a future version, it will default to False. Select only valid columns or specify the value of numeric_only to silence this warning.\n",
      "  quartile_vals = df_to_use.quantile([0.25, 0.75]).speed\n",
      "/Users/jackgreenlee/e-mission-server/emission/analysis/intake/cleaning/cleaning_methods/speed_outlier_detection.py:27: FutureWarning: The default value of numeric_only in DataFrame.quantile is deprecated. In a future version, it will default to False. Select only valid columns or specify the value of numeric_only to silence this warning.\n",
      "  quartile_vals = df_to_use.quantile([0.25, 0.75]).speed\n",
      "/Users/jackgreenlee/e-mission-server/emission/analysis/intake/cleaning/cleaning_methods/speed_outlier_detection.py:27: FutureWarning: The default value of numeric_only in DataFrame.quantile is deprecated. In a future version, it will default to False. Select only valid columns or specify the value of numeric_only to silence this warning.\n",
      "  quartile_vals = df_to_use.quantile([0.25, 0.75]).speed\n",
      "2025-02-03T14:33:51.680582-05:00**********UUID 6c467f8a-af5f-45ad-8eba-b1753e825ddd: inferring transportation mode**********\n",
      "2025-02-03T14:34:14.066844-05:00**********UUID 6c467f8a-af5f-45ad-8eba-b1753e825ddd: inferring labels**********\n",
      "2025-02-03T14:34:14.131837-05:00**********UUID 6c467f8a-af5f-45ad-8eba-b1753e825ddd: populating expectations**********\n",
      "2025-02-03T14:34:14.163308-05:00**********UUID 6c467f8a-af5f-45ad-8eba-b1753e825ddd: creating confirmed objects **********\n",
      "2025-02-03T14:34:16.901167-05:00**********UUID 6c467f8a-af5f-45ad-8eba-b1753e825ddd: creating composite objects **********\n",
      "2025-02-03T14:34:17.774089-05:00**********UUID 6c467f8a-af5f-45ad-8eba-b1753e825ddd: storing user stats **********\n",
      "2025-02-03T14:34:17.783698-05:00**********UUID 6c467f8a-af5f-45ad-8eba-b1753e825ddd: storing pipeline independent user stats **********\n",
      "Ran pipeline on master, TimeQuery data.ts with range [1738611214.1475396, 1738611258.368105)\n",
      "Switching back to master\n",
      "M\t.gitignore\n",
      "M\temission/storage/timeseries/builtin_timeseries.py\n",
      "Already on 'master'\n",
      "Your branch is behind 'origin/master' by 7 commits, and can be fast-forwarded.\n",
      "  (use \"git pull\" to update your local branch)\n",
      "Checking out segmentation_optimization to measure pipeline runtime\n",
      "M\t.gitignore\n",
      "M\temission/storage/timeseries/builtin_timeseries.py\n",
      "Switched to branch 'segmentation_optimization'\n",
      "Your branch is up to date with 'jgreenlee/segmentation_optimization'.\n",
      "Config file not found, returning a copy of the environment variables instead...\n",
      "Retrieved config: {'DB_HOST': None, 'DB_RESULT_LIMIT': None}\n",
      "URL not formatted, defaulting to \"Stage_database\"\n",
      "Connecting to database URL localhost\n",
      "Namespace(all=True, platform=None, user_list=None, email_list=None, date=None, dry_run=False)\n",
      "INFO:root:About to delete 2072 analysis results\n",
      "INFO:root:About to delete entries with keys ['analysis/cleaned_place', 'analysis/cleaned_section', 'analysis/cleaned_stop', 'analysis/cleaned_trip', 'analysis/composite_trip', 'analysis/confirmed_place', 'analysis/confirmed_trip', 'analysis/expected_trip', 'analysis/inferred_labels', 'analysis/inferred_section', 'analysis/inferred_trip', 'analysis/recreated_location', 'analysis/smoothing', 'inference/labels', 'inference/prediction', 'segmentation/raw_place', 'segmentation/raw_section', 'segmentation/raw_stop', 'segmentation/raw_trip']\n",
      "INFO:root:About to delete 11 pipeline states\n",
      "INFO:root:this is not a dry run, result of removing analysis objects = <pymongo.results.DeleteResult object at 0x134c04d00>\n",
      "INFO:root:this is not a dry run, result of removing pipeline states = <pymongo.results.DeleteResult object at 0x134c04790>\n",
      "Config file not found, returning a copy of the environment variables instead...\n",
      "Retrieved config: {'DB_HOST': None, 'DB_RESULT_LIMIT': None}\n",
      "URL not formatted, defaulting to \"Stage_database\"\n",
      "Connecting to database URL localhost\n",
      "emission/tests/data/real_examples/shankari_2016-07-27\n",
      "Loading file emission/tests/data/real_examples/shankari_2016-07-27\n",
      "After registration, nrelop_dev-emulator-study_0 -> 6c467f8a-af5f-45ad-8eba-b1753e825ddd\n",
      "Finished loading 0 entries into the usercache and 3580 entries into the timeseries\n",
      "Config file not found, returning a copy of the environment variables instead...\n",
      "Retrieved config: {'DB_HOST': None, 'DB_RESULT_LIMIT': None}\n",
      "URL not formatted, defaulting to \"Stage_database\"\n",
      "Connecting to database URL localhost\n",
      "Trying to open debug.conf.json\n",
      "analysis.debug.conf.json not configured, falling back to sample, default configuration\n",
      "INFO:root:NOMINATIM_QUERY_URL: None\n",
      "Nominatim Query URL Configured: None\n",
      "Nominatim URL not configured, place decoding must happen on the client\n",
      "overpass not configured, falling back to public overpass api\n",
      "transit stops query not configured, falling back to default\n",
      "The Zen of Python, by Tim Peters\n",
      "\n",
      "Beautiful is better than ugly.\n",
      "Explicit is better than implicit.\n",
      "Simple is better than complex.\n",
      "Complex is better than complicated.\n",
      "Flat is better than nested.\n",
      "Sparse is better than dense.\n",
      "Readability counts.\n",
      "Special cases aren't special enough to break the rules.\n",
      "Although practicality beats purity.\n",
      "Errors should never pass silently.\n",
      "Unless explicitly silenced.\n",
      "In the face of ambiguity, refuse the temptation to guess.\n",
      "There should be one-- and preferably only one --obvious way to do it.\n",
      "Although that way may not be obvious at first unless you're Dutch.\n",
      "Now is better than never.\n",
      "Although never is often better than *right* now.\n",
      "If the implementation is hard to explain, it's a bad idea.\n",
      "If the implementation is easy to explain, it may be a good idea.\n",
      "Namespaces are one honking great idea -- let's do more of those!\n",
      "analysis.trip_model.conf.json not configured, falling back to sample, default configuration\n",
      "expectations.conf.json not configured, falling back to sample, default configuration\n",
      "ERROR:root:habitica not configured, game functions not supported\n",
      "Traceback (most recent call last):\n",
      "  File \"/Users/jackgreenlee/e-mission-server/emission/net/ext_service/habitica/proxy.py\", line 22, in <module>\n",
      "    key_file = open('conf/net/ext_service/habitica.json')\n",
      "FileNotFoundError: [Errno 2] No such file or directory: 'conf/net/ext_service/habitica.json'\n",
      "2025-02-03T14:34:23.702669-05:00**********UUID 6c467f8a-af5f-45ad-8eba-b1753e825ddd: moving to long term**********\n",
      "New entry count == 0 and skip_if_no_new_data = False, continuing\n",
      "2025-02-03T14:34:23.710534-05:00**********UUID 6c467f8a-af5f-45ad-8eba-b1753e825ddd: updating incoming user inputs**********\n",
      "2025-02-03T14:34:23.853148-05:00**********UUID 6c467f8a-af5f-45ad-8eba-b1753e825ddd: filter accuracy if needed**********\n",
      "2025-02-03T14:34:23.857729-05:00**********UUID 6c467f8a-af5f-45ad-8eba-b1753e825ddd: segmenting into trips**********\n",
      "2025-02-03T14:34:29.043045-05:00**********UUID 6c467f8a-af5f-45ad-8eba-b1753e825ddd: segmenting into sections**********\n",
      "/Users/jackgreenlee/e-mission-server/emission/analysis/intake/segmentation/section_segmentation_methods/flip_flop_detection.py:59: RuntimeWarning: invalid value encountered in scalar divide\n",
      "  sm.update({\"trip_pct\": (curr_section_time * 100)/total_trip_time})\n",
      "/Users/jackgreenlee/e-mission-server/emission/analysis/intake/segmentation/section_segmentation_methods/flip_flop_detection.py:59: RuntimeWarning: invalid value encountered in scalar divide\n",
      "  sm.update({\"trip_pct\": (curr_section_time * 100)/total_trip_time})\n",
      "2025-02-03T14:34:31.290887-05:00**********UUID 6c467f8a-af5f-45ad-8eba-b1753e825ddd: smoothing sections**********\n",
      "/Users/jackgreenlee/e-mission-server/emission/analysis/intake/cleaning/cleaning_methods/speed_outlier_detection.py:27: FutureWarning: The default value of numeric_only in DataFrame.quantile is deprecated. In a future version, it will default to False. Select only valid columns or specify the value of numeric_only to silence this warning.\n",
      "  quartile_vals = df_to_use.quantile([0.25, 0.75]).speed\n",
      "Caught error after splitting, the segment is not a cluster?! while processing section, skipping...\n",
      "Traceback (most recent call last):\n",
      "  File \"/Users/jackgreenlee/e-mission-server/emission/analysis/intake/cleaning/location_smoothing.py\", line 195, in get_points_to_filter\n",
      "    filtering_algo.filter(with_speeds_df)\n",
      "  File \"/Users/jackgreenlee/e-mission-server/emission/analysis/intake/cleaning/cleaning_methods/jump_smoothing.py\", line 251, in filter\n",
      "    self.mark_segment_states(start_segment_idx, SmoothZigzag.Direction.LEFT)\n",
      "  File \"/Users/jackgreenlee/e-mission-server/emission/analysis/intake/cleaning/cleaning_methods/jump_smoothing.py\", line 224, in mark_segment_states\n",
      "    assert curr_seg.is_cluster, \"after splitting, the segment is not a cluster?!\"\n",
      "AssertionError: after splitting, the segment is not a cluster?!\n",
      "/Users/jackgreenlee/e-mission-server/emission/analysis/intake/cleaning/cleaning_methods/speed_outlier_detection.py:27: FutureWarning: The default value of numeric_only in DataFrame.quantile is deprecated. In a future version, it will default to False. Select only valid columns or specify the value of numeric_only to silence this warning.\n",
      "  quartile_vals = df_to_use.quantile([0.25, 0.75]).speed\n",
      "/Users/jackgreenlee/e-mission-server/emission/analysis/intake/cleaning/cleaning_methods/speed_outlier_detection.py:27: FutureWarning: The default value of numeric_only in DataFrame.quantile is deprecated. In a future version, it will default to False. Select only valid columns or specify the value of numeric_only to silence this warning.\n",
      "  quartile_vals = df_to_use.quantile([0.25, 0.75]).speed\n",
      "/Users/jackgreenlee/e-mission-server/emission/analysis/intake/cleaning/cleaning_methods/speed_outlier_detection.py:27: FutureWarning: The default value of numeric_only in DataFrame.quantile is deprecated. In a future version, it will default to False. Select only valid columns or specify the value of numeric_only to silence this warning.\n",
      "  quartile_vals = df_to_use.quantile([0.25, 0.75]).speed\n",
      "/Users/jackgreenlee/e-mission-server/emission/analysis/intake/cleaning/cleaning_methods/speed_outlier_detection.py:27: FutureWarning: The default value of numeric_only in DataFrame.quantile is deprecated. In a future version, it will default to False. Select only valid columns or specify the value of numeric_only to silence this warning.\n",
      "  quartile_vals = df_to_use.quantile([0.25, 0.75]).speed\n",
      "/Users/jackgreenlee/e-mission-server/emission/analysis/intake/cleaning/cleaning_methods/speed_outlier_detection.py:27: FutureWarning: The default value of numeric_only in DataFrame.quantile is deprecated. In a future version, it will default to False. Select only valid columns or specify the value of numeric_only to silence this warning.\n",
      "  quartile_vals = df_to_use.quantile([0.25, 0.75]).speed\n",
      "/Users/jackgreenlee/e-mission-server/emission/analysis/intake/cleaning/cleaning_methods/speed_outlier_detection.py:27: FutureWarning: The default value of numeric_only in DataFrame.quantile is deprecated. In a future version, it will default to False. Select only valid columns or specify the value of numeric_only to silence this warning.\n",
      "  quartile_vals = df_to_use.quantile([0.25, 0.75]).speed\n",
      "/Users/jackgreenlee/e-mission-server/emission/analysis/intake/cleaning/cleaning_methods/speed_outlier_detection.py:27: FutureWarning: The default value of numeric_only in DataFrame.quantile is deprecated. In a future version, it will default to False. Select only valid columns or specify the value of numeric_only to silence this warning.\n",
      "  quartile_vals = df_to_use.quantile([0.25, 0.75]).speed\n",
      "/Users/jackgreenlee/e-mission-server/emission/analysis/intake/cleaning/cleaning_methods/speed_outlier_detection.py:27: FutureWarning: The default value of numeric_only in DataFrame.quantile is deprecated. In a future version, it will default to False. Select only valid columns or specify the value of numeric_only to silence this warning.\n",
      "  quartile_vals = df_to_use.quantile([0.25, 0.75]).speed\n",
      "/Users/jackgreenlee/e-mission-server/emission/analysis/intake/cleaning/cleaning_methods/speed_outlier_detection.py:27: FutureWarning: The default value of numeric_only in DataFrame.quantile is deprecated. In a future version, it will default to False. Select only valid columns or specify the value of numeric_only to silence this warning.\n",
      "  quartile_vals = df_to_use.quantile([0.25, 0.75]).speed\n",
      "/Users/jackgreenlee/e-mission-server/emission/analysis/intake/cleaning/cleaning_methods/speed_outlier_detection.py:27: FutureWarning: The default value of numeric_only in DataFrame.quantile is deprecated. In a future version, it will default to False. Select only valid columns or specify the value of numeric_only to silence this warning.\n",
      "  quartile_vals = df_to_use.quantile([0.25, 0.75]).speed\n",
      "/Users/jackgreenlee/e-mission-server/emission/analysis/intake/cleaning/cleaning_methods/speed_outlier_detection.py:27: FutureWarning: The default value of numeric_only in DataFrame.quantile is deprecated. In a future version, it will default to False. Select only valid columns or specify the value of numeric_only to silence this warning.\n",
      "  quartile_vals = df_to_use.quantile([0.25, 0.75]).speed\n",
      "/Users/jackgreenlee/e-mission-server/emission/analysis/intake/cleaning/cleaning_methods/speed_outlier_detection.py:27: FutureWarning: The default value of numeric_only in DataFrame.quantile is deprecated. In a future version, it will default to False. Select only valid columns or specify the value of numeric_only to silence this warning.\n",
      "  quartile_vals = df_to_use.quantile([0.25, 0.75]).speed\n",
      "/Users/jackgreenlee/e-mission-server/emission/analysis/intake/cleaning/cleaning_methods/speed_outlier_detection.py:27: FutureWarning: The default value of numeric_only in DataFrame.quantile is deprecated. In a future version, it will default to False. Select only valid columns or specify the value of numeric_only to silence this warning.\n",
      "  quartile_vals = df_to_use.quantile([0.25, 0.75]).speed\n",
      "/Users/jackgreenlee/e-mission-server/emission/analysis/intake/cleaning/cleaning_methods/speed_outlier_detection.py:27: FutureWarning: The default value of numeric_only in DataFrame.quantile is deprecated. In a future version, it will default to False. Select only valid columns or specify the value of numeric_only to silence this warning.\n",
      "  quartile_vals = df_to_use.quantile([0.25, 0.75]).speed\n",
      "/Users/jackgreenlee/e-mission-server/emission/analysis/intake/cleaning/cleaning_methods/speed_outlier_detection.py:27: FutureWarning: The default value of numeric_only in DataFrame.quantile is deprecated. In a future version, it will default to False. Select only valid columns or specify the value of numeric_only to silence this warning.\n",
      "  quartile_vals = df_to_use.quantile([0.25, 0.75]).speed\n",
      "/Users/jackgreenlee/e-mission-server/emission/analysis/intake/cleaning/cleaning_methods/speed_outlier_detection.py:27: FutureWarning: The default value of numeric_only in DataFrame.quantile is deprecated. In a future version, it will default to False. Select only valid columns or specify the value of numeric_only to silence this warning.\n",
      "  quartile_vals = df_to_use.quantile([0.25, 0.75]).speed\n",
      "/Users/jackgreenlee/e-mission-server/emission/analysis/intake/cleaning/cleaning_methods/speed_outlier_detection.py:27: FutureWarning: The default value of numeric_only in DataFrame.quantile is deprecated. In a future version, it will default to False. Select only valid columns or specify the value of numeric_only to silence this warning.\n",
      "  quartile_vals = df_to_use.quantile([0.25, 0.75]).speed\n",
      "/Users/jackgreenlee/e-mission-server/emission/analysis/intake/cleaning/cleaning_methods/speed_outlier_detection.py:27: FutureWarning: The default value of numeric_only in DataFrame.quantile is deprecated. In a future version, it will default to False. Select only valid columns or specify the value of numeric_only to silence this warning.\n",
      "  quartile_vals = df_to_use.quantile([0.25, 0.75]).speed\n",
      "/Users/jackgreenlee/e-mission-server/emission/analysis/intake/cleaning/cleaning_methods/speed_outlier_detection.py:27: FutureWarning: The default value of numeric_only in DataFrame.quantile is deprecated. In a future version, it will default to False. Select only valid columns or specify the value of numeric_only to silence this warning.\n",
      "  quartile_vals = df_to_use.quantile([0.25, 0.75]).speed\n",
      "/Users/jackgreenlee/e-mission-server/emission/analysis/intake/cleaning/cleaning_methods/speed_outlier_detection.py:27: FutureWarning: The default value of numeric_only in DataFrame.quantile is deprecated. In a future version, it will default to False. Select only valid columns or specify the value of numeric_only to silence this warning.\n",
      "  quartile_vals = df_to_use.quantile([0.25, 0.75]).speed\n",
      "/Users/jackgreenlee/e-mission-server/emission/analysis/intake/cleaning/cleaning_methods/speed_outlier_detection.py:27: FutureWarning: The default value of numeric_only in DataFrame.quantile is deprecated. In a future version, it will default to False. Select only valid columns or specify the value of numeric_only to silence this warning.\n",
      "  quartile_vals = df_to_use.quantile([0.25, 0.75]).speed\n",
      "/Users/jackgreenlee/e-mission-server/emission/analysis/intake/cleaning/cleaning_methods/speed_outlier_detection.py:27: FutureWarning: The default value of numeric_only in DataFrame.quantile is deprecated. In a future version, it will default to False. Select only valid columns or specify the value of numeric_only to silence this warning.\n",
      "  quartile_vals = df_to_use.quantile([0.25, 0.75]).speed\n",
      "/Users/jackgreenlee/e-mission-server/emission/analysis/intake/cleaning/cleaning_methods/speed_outlier_detection.py:27: FutureWarning: The default value of numeric_only in DataFrame.quantile is deprecated. In a future version, it will default to False. Select only valid columns or specify the value of numeric_only to silence this warning.\n",
      "  quartile_vals = df_to_use.quantile([0.25, 0.75]).speed\n",
      "/Users/jackgreenlee/e-mission-server/emission/analysis/intake/cleaning/cleaning_methods/speed_outlier_detection.py:27: FutureWarning: The default value of numeric_only in DataFrame.quantile is deprecated. In a future version, it will default to False. Select only valid columns or specify the value of numeric_only to silence this warning.\n",
      "  quartile_vals = df_to_use.quantile([0.25, 0.75]).speed\n",
      "/Users/jackgreenlee/e-mission-server/emission/analysis/intake/cleaning/cleaning_methods/speed_outlier_detection.py:27: FutureWarning: The default value of numeric_only in DataFrame.quantile is deprecated. In a future version, it will default to False. Select only valid columns or specify the value of numeric_only to silence this warning.\n",
      "  quartile_vals = df_to_use.quantile([0.25, 0.75]).speed\n",
      "/Users/jackgreenlee/e-mission-server/emission/analysis/intake/cleaning/cleaning_methods/speed_outlier_detection.py:27: FutureWarning: The default value of numeric_only in DataFrame.quantile is deprecated. In a future version, it will default to False. Select only valid columns or specify the value of numeric_only to silence this warning.\n",
      "  quartile_vals = df_to_use.quantile([0.25, 0.75]).speed\n",
      "/Users/jackgreenlee/e-mission-server/emission/analysis/intake/cleaning/cleaning_methods/speed_outlier_detection.py:27: FutureWarning: The default value of numeric_only in DataFrame.quantile is deprecated. In a future version, it will default to False. Select only valid columns or specify the value of numeric_only to silence this warning.\n",
      "  quartile_vals = df_to_use.quantile([0.25, 0.75]).speed\n",
      "/Users/jackgreenlee/e-mission-server/emission/analysis/intake/cleaning/cleaning_methods/speed_outlier_detection.py:27: FutureWarning: The default value of numeric_only in DataFrame.quantile is deprecated. In a future version, it will default to False. Select only valid columns or specify the value of numeric_only to silence this warning.\n",
      "  quartile_vals = df_to_use.quantile([0.25, 0.75]).speed\n",
      "/Users/jackgreenlee/e-mission-server/emission/analysis/intake/cleaning/cleaning_methods/speed_outlier_detection.py:27: FutureWarning: The default value of numeric_only in DataFrame.quantile is deprecated. In a future version, it will default to False. Select only valid columns or specify the value of numeric_only to silence this warning.\n",
      "  quartile_vals = df_to_use.quantile([0.25, 0.75]).speed\n",
      "/Users/jackgreenlee/e-mission-server/emission/analysis/intake/cleaning/cleaning_methods/speed_outlier_detection.py:27: FutureWarning: The default value of numeric_only in DataFrame.quantile is deprecated. In a future version, it will default to False. Select only valid columns or specify the value of numeric_only to silence this warning.\n",
      "  quartile_vals = df_to_use.quantile([0.25, 0.75]).speed\n",
      "/Users/jackgreenlee/e-mission-server/emission/analysis/intake/cleaning/cleaning_methods/speed_outlier_detection.py:27: FutureWarning: The default value of numeric_only in DataFrame.quantile is deprecated. In a future version, it will default to False. Select only valid columns or specify the value of numeric_only to silence this warning.\n",
      "  quartile_vals = df_to_use.quantile([0.25, 0.75]).speed\n",
      "/Users/jackgreenlee/e-mission-server/emission/analysis/intake/cleaning/cleaning_methods/speed_outlier_detection.py:27: FutureWarning: The default value of numeric_only in DataFrame.quantile is deprecated. In a future version, it will default to False. Select only valid columns or specify the value of numeric_only to silence this warning.\n",
      "  quartile_vals = df_to_use.quantile([0.25, 0.75]).speed\n",
      "/Users/jackgreenlee/e-mission-server/emission/analysis/intake/cleaning/cleaning_methods/speed_outlier_detection.py:27: FutureWarning: The default value of numeric_only in DataFrame.quantile is deprecated. In a future version, it will default to False. Select only valid columns or specify the value of numeric_only to silence this warning.\n",
      "  quartile_vals = df_to_use.quantile([0.25, 0.75]).speed\n",
      "/Users/jackgreenlee/e-mission-server/emission/analysis/intake/cleaning/cleaning_methods/speed_outlier_detection.py:27: FutureWarning: The default value of numeric_only in DataFrame.quantile is deprecated. In a future version, it will default to False. Select only valid columns or specify the value of numeric_only to silence this warning.\n",
      "  quartile_vals = df_to_use.quantile([0.25, 0.75]).speed\n",
      "/Users/jackgreenlee/e-mission-server/emission/analysis/intake/cleaning/cleaning_methods/speed_outlier_detection.py:27: FutureWarning: The default value of numeric_only in DataFrame.quantile is deprecated. In a future version, it will default to False. Select only valid columns or specify the value of numeric_only to silence this warning.\n",
      "  quartile_vals = df_to_use.quantile([0.25, 0.75]).speed\n",
      "/Users/jackgreenlee/e-mission-server/emission/analysis/intake/cleaning/cleaning_methods/speed_outlier_detection.py:27: FutureWarning: The default value of numeric_only in DataFrame.quantile is deprecated. In a future version, it will default to False. Select only valid columns or specify the value of numeric_only to silence this warning.\n",
      "  quartile_vals = df_to_use.quantile([0.25, 0.75]).speed\n",
      "/Users/jackgreenlee/e-mission-server/emission/analysis/intake/cleaning/cleaning_methods/speed_outlier_detection.py:27: FutureWarning: The default value of numeric_only in DataFrame.quantile is deprecated. In a future version, it will default to False. Select only valid columns or specify the value of numeric_only to silence this warning.\n",
      "  quartile_vals = df_to_use.quantile([0.25, 0.75]).speed\n",
      "/Users/jackgreenlee/e-mission-server/emission/analysis/intake/cleaning/cleaning_methods/speed_outlier_detection.py:27: FutureWarning: The default value of numeric_only in DataFrame.quantile is deprecated. In a future version, it will default to False. Select only valid columns or specify the value of numeric_only to silence this warning.\n",
      "  quartile_vals = df_to_use.quantile([0.25, 0.75]).speed\n",
      "/Users/jackgreenlee/e-mission-server/emission/analysis/intake/cleaning/cleaning_methods/speed_outlier_detection.py:27: FutureWarning: The default value of numeric_only in DataFrame.quantile is deprecated. In a future version, it will default to False. Select only valid columns or specify the value of numeric_only to silence this warning.\n",
      "  quartile_vals = df_to_use.quantile([0.25, 0.75]).speed\n",
      "2025-02-03T14:34:31.967610-05:00**********UUID 6c467f8a-af5f-45ad-8eba-b1753e825ddd: cleaning and resampling timeline**********\n",
      "/Users/jackgreenlee/e-mission-server/emission/analysis/intake/cleaning/cleaning_methods/speed_outlier_detection.py:27: FutureWarning: The default value of numeric_only in DataFrame.quantile is deprecated. In a future version, it will default to False. Select only valid columns or specify the value of numeric_only to silence this warning.\n",
      "  quartile_vals = df_to_use.quantile([0.25, 0.75]).speed\n",
      "/Users/jackgreenlee/e-mission-server/emission/analysis/intake/cleaning/cleaning_methods/speed_outlier_detection.py:27: FutureWarning: The default value of numeric_only in DataFrame.quantile is deprecated. In a future version, it will default to False. Select only valid columns or specify the value of numeric_only to silence this warning.\n",
      "  quartile_vals = df_to_use.quantile([0.25, 0.75]).speed\n",
      "/Users/jackgreenlee/e-mission-server/emission/analysis/intake/cleaning/cleaning_methods/speed_outlier_detection.py:27: FutureWarning: The default value of numeric_only in DataFrame.quantile is deprecated. In a future version, it will default to False. Select only valid columns or specify the value of numeric_only to silence this warning.\n",
      "  quartile_vals = df_to_use.quantile([0.25, 0.75]).speed\n",
      "/Users/jackgreenlee/e-mission-server/emission/analysis/intake/cleaning/cleaning_methods/speed_outlier_detection.py:27: FutureWarning: The default value of numeric_only in DataFrame.quantile is deprecated. In a future version, it will default to False. Select only valid columns or specify the value of numeric_only to silence this warning.\n",
      "  quartile_vals = df_to_use.quantile([0.25, 0.75]).speed\n",
      "/Users/jackgreenlee/e-mission-server/emission/analysis/intake/cleaning/cleaning_methods/speed_outlier_detection.py:27: FutureWarning: The default value of numeric_only in DataFrame.quantile is deprecated. In a future version, it will default to False. Select only valid columns or specify the value of numeric_only to silence this warning.\n",
      "  quartile_vals = df_to_use.quantile([0.25, 0.75]).speed\n",
      "/Users/jackgreenlee/e-mission-server/emission/analysis/intake/cleaning/cleaning_methods/speed_outlier_detection.py:27: FutureWarning: The default value of numeric_only in DataFrame.quantile is deprecated. In a future version, it will default to False. Select only valid columns or specify the value of numeric_only to silence this warning.\n",
      "  quartile_vals = df_to_use.quantile([0.25, 0.75]).speed\n",
      "/Users/jackgreenlee/e-mission-server/emission/analysis/intake/cleaning/cleaning_methods/speed_outlier_detection.py:27: FutureWarning: The default value of numeric_only in DataFrame.quantile is deprecated. In a future version, it will default to False. Select only valid columns or specify the value of numeric_only to silence this warning.\n",
      "  quartile_vals = df_to_use.quantile([0.25, 0.75]).speed\n",
      "/Users/jackgreenlee/e-mission-server/emission/analysis/intake/cleaning/cleaning_methods/speed_outlier_detection.py:27: FutureWarning: The default value of numeric_only in DataFrame.quantile is deprecated. In a future version, it will default to False. Select only valid columns or specify the value of numeric_only to silence this warning.\n",
      "  quartile_vals = df_to_use.quantile([0.25, 0.75]).speed\n",
      "/Users/jackgreenlee/e-mission-server/emission/analysis/intake/cleaning/cleaning_methods/speed_outlier_detection.py:27: FutureWarning: The default value of numeric_only in DataFrame.quantile is deprecated. In a future version, it will default to False. Select only valid columns or specify the value of numeric_only to silence this warning.\n",
      "  quartile_vals = df_to_use.quantile([0.25, 0.75]).speed\n",
      "/Users/jackgreenlee/e-mission-server/emission/analysis/intake/cleaning/cleaning_methods/speed_outlier_detection.py:27: FutureWarning: The default value of numeric_only in DataFrame.quantile is deprecated. In a future version, it will default to False. Select only valid columns or specify the value of numeric_only to silence this warning.\n",
      "  quartile_vals = df_to_use.quantile([0.25, 0.75]).speed\n",
      "/Users/jackgreenlee/e-mission-server/emission/analysis/intake/cleaning/cleaning_methods/speed_outlier_detection.py:27: FutureWarning: The default value of numeric_only in DataFrame.quantile is deprecated. In a future version, it will default to False. Select only valid columns or specify the value of numeric_only to silence this warning.\n",
      "  quartile_vals = df_to_use.quantile([0.25, 0.75]).speed\n",
      "/Users/jackgreenlee/e-mission-server/emission/analysis/intake/cleaning/cleaning_methods/speed_outlier_detection.py:27: FutureWarning: The default value of numeric_only in DataFrame.quantile is deprecated. In a future version, it will default to False. Select only valid columns or specify the value of numeric_only to silence this warning.\n",
      "  quartile_vals = df_to_use.quantile([0.25, 0.75]).speed\n",
      "/Users/jackgreenlee/e-mission-server/emission/analysis/intake/cleaning/cleaning_methods/speed_outlier_detection.py:27: FutureWarning: The default value of numeric_only in DataFrame.quantile is deprecated. In a future version, it will default to False. Select only valid columns or specify the value of numeric_only to silence this warning.\n",
      "  quartile_vals = df_to_use.quantile([0.25, 0.75]).speed\n",
      "/Users/jackgreenlee/e-mission-server/emission/analysis/intake/cleaning/cleaning_methods/speed_outlier_detection.py:27: FutureWarning: The default value of numeric_only in DataFrame.quantile is deprecated. In a future version, it will default to False. Select only valid columns or specify the value of numeric_only to silence this warning.\n",
      "  quartile_vals = df_to_use.quantile([0.25, 0.75]).speed\n",
      "/Users/jackgreenlee/e-mission-server/emission/analysis/intake/cleaning/cleaning_methods/speed_outlier_detection.py:27: FutureWarning: The default value of numeric_only in DataFrame.quantile is deprecated. In a future version, it will default to False. Select only valid columns or specify the value of numeric_only to silence this warning.\n",
      "  quartile_vals = df_to_use.quantile([0.25, 0.75]).speed\n",
      "/Users/jackgreenlee/e-mission-server/emission/analysis/intake/cleaning/cleaning_methods/speed_outlier_detection.py:27: FutureWarning: The default value of numeric_only in DataFrame.quantile is deprecated. In a future version, it will default to False. Select only valid columns or specify the value of numeric_only to silence this warning.\n",
      "  quartile_vals = df_to_use.quantile([0.25, 0.75]).speed\n",
      "/Users/jackgreenlee/e-mission-server/emission/analysis/intake/cleaning/cleaning_methods/speed_outlier_detection.py:27: FutureWarning: The default value of numeric_only in DataFrame.quantile is deprecated. In a future version, it will default to False. Select only valid columns or specify the value of numeric_only to silence this warning.\n",
      "  quartile_vals = df_to_use.quantile([0.25, 0.75]).speed\n",
      "/Users/jackgreenlee/e-mission-server/emission/analysis/intake/cleaning/cleaning_methods/speed_outlier_detection.py:27: FutureWarning: The default value of numeric_only in DataFrame.quantile is deprecated. In a future version, it will default to False. Select only valid columns or specify the value of numeric_only to silence this warning.\n",
      "  quartile_vals = df_to_use.quantile([0.25, 0.75]).speed\n",
      "/Users/jackgreenlee/e-mission-server/emission/analysis/intake/cleaning/cleaning_methods/speed_outlier_detection.py:27: FutureWarning: The default value of numeric_only in DataFrame.quantile is deprecated. In a future version, it will default to False. Select only valid columns or specify the value of numeric_only to silence this warning.\n",
      "  quartile_vals = df_to_use.quantile([0.25, 0.75]).speed\n",
      "2025-02-03T14:34:35.026432-05:00**********UUID 6c467f8a-af5f-45ad-8eba-b1753e825ddd: inferring transportation mode**********\n",
      "2025-02-03T14:34:50.074025-05:00**********UUID 6c467f8a-af5f-45ad-8eba-b1753e825ddd: inferring labels**********\n",
      "2025-02-03T14:34:50.159957-05:00**********UUID 6c467f8a-af5f-45ad-8eba-b1753e825ddd: populating expectations**********\n",
      "2025-02-03T14:34:50.197198-05:00**********UUID 6c467f8a-af5f-45ad-8eba-b1753e825ddd: creating confirmed objects **********\n",
      "2025-02-03T14:34:52.887575-05:00**********UUID 6c467f8a-af5f-45ad-8eba-b1753e825ddd: creating composite objects **********\n",
      "2025-02-03T14:34:53.743176-05:00**********UUID 6c467f8a-af5f-45ad-8eba-b1753e825ddd: storing user stats **********\n",
      "2025-02-03T14:34:53.751076-05:00**********UUID 6c467f8a-af5f-45ad-8eba-b1753e825ddd: storing pipeline independent user stats **********\n",
      "Ran pipeline on segmentation_optimization, TimeQuery data.ts with range [1738611262.785293, 1738611294.428213)\n",
      "Switching back to master\n",
      "M\t.gitignore\n",
      "M\temission/storage/timeseries/builtin_timeseries.py\n",
      "Switched to branch 'master'\n",
      "Your branch is behind 'origin/master' by 7 commits, and can be fast-forwarded.\n",
      "  (use \"git pull\" to update your local branch)\n",
      "Checking out segmentation_polars to measure pipeline runtime\n",
      "error: Your local changes to the following files would be overwritten by checkout:\n",
      "\temission/storage/timeseries/builtin_timeseries.py\n",
      "Please commit your changes or stash them before you switch branches.\n",
      "Aborting\n",
      "Config file not found, returning a copy of the environment variables instead...\n",
      "Retrieved config: {'DB_HOST': None, 'DB_RESULT_LIMIT': None}\n",
      "URL not formatted, defaulting to \"Stage_database\"\n",
      "Connecting to database URL localhost\n",
      "Namespace(all=True, platform=None, user_list=None, email_list=None, date=None, dry_run=False)\n",
      "INFO:root:About to delete 2072 analysis results\n",
      "INFO:root:About to delete entries with keys ['analysis/cleaned_place', 'analysis/cleaned_section', 'analysis/cleaned_stop', 'analysis/cleaned_trip', 'analysis/composite_trip', 'analysis/confirmed_place', 'analysis/confirmed_trip', 'analysis/expected_trip', 'analysis/inferred_labels', 'analysis/inferred_section', 'analysis/inferred_trip', 'analysis/recreated_location', 'analysis/smoothing', 'inference/labels', 'inference/prediction', 'segmentation/raw_place', 'segmentation/raw_section', 'segmentation/raw_stop', 'segmentation/raw_trip']\n",
      "INFO:root:About to delete 11 pipeline states\n",
      "INFO:root:this is not a dry run, result of removing analysis objects = <pymongo.results.DeleteResult object at 0x1138c4d00>\n",
      "INFO:root:this is not a dry run, result of removing pipeline states = <pymongo.results.DeleteResult object at 0x1138c4790>\n",
      "Config file not found, returning a copy of the environment variables instead...\n",
      "Retrieved config: {'DB_HOST': None, 'DB_RESULT_LIMIT': None}\n",
      "URL not formatted, defaulting to \"Stage_database\"\n",
      "Connecting to database URL localhost\n",
      "emission/tests/data/real_examples/shankari_2016-07-27\n",
      "Loading file emission/tests/data/real_examples/shankari_2016-07-27\n",
      "After registration, nrelop_dev-emulator-study_0 -> 6c467f8a-af5f-45ad-8eba-b1753e825ddd\n",
      "Finished loading 0 entries into the usercache and 3580 entries into the timeseries\n",
      "Config file not found, returning a copy of the environment variables instead...\n",
      "Retrieved config: {'DB_HOST': None, 'DB_RESULT_LIMIT': None}\n",
      "URL not formatted, defaulting to \"Stage_database\"\n",
      "Connecting to database URL localhost\n",
      "Trying to open debug.conf.json\n",
      "analysis.debug.conf.json not configured, falling back to sample, default configuration\n",
      "INFO:root:NOMINATIM_QUERY_URL: None\n",
      "Nominatim Query URL Configured: None\n",
      "Nominatim URL not configured, place decoding must happen on the client\n",
      "overpass not configured, falling back to public overpass api\n",
      "transit stops query not configured, falling back to default\n",
      "The Zen of Python, by Tim Peters\n",
      "\n",
      "Beautiful is better than ugly.\n",
      "Explicit is better than implicit.\n",
      "Simple is better than complex.\n",
      "Complex is better than complicated.\n",
      "Flat is better than nested.\n",
      "Sparse is better than dense.\n",
      "Readability counts.\n",
      "Special cases aren't special enough to break the rules.\n",
      "Although practicality beats purity.\n",
      "Errors should never pass silently.\n",
      "Unless explicitly silenced.\n",
      "In the face of ambiguity, refuse the temptation to guess.\n",
      "There should be one-- and preferably only one --obvious way to do it.\n",
      "Although that way may not be obvious at first unless you're Dutch.\n",
      "Now is better than never.\n",
      "Although never is often better than *right* now.\n",
      "If the implementation is hard to explain, it's a bad idea.\n",
      "If the implementation is easy to explain, it may be a good idea.\n",
      "Namespaces are one honking great idea -- let's do more of those!\n",
      "analysis.trip_model.conf.json not configured, falling back to sample, default configuration\n",
      "expectations.conf.json not configured, falling back to sample, default configuration\n",
      "ERROR:root:habitica not configured, game functions not supported\n",
      "Traceback (most recent call last):\n",
      "  File \"/Users/jackgreenlee/e-mission-server/emission/net/ext_service/habitica/proxy.py\", line 22, in <module>\n",
      "    key_file = open('conf/net/ext_service/habitica.json')\n",
      "FileNotFoundError: [Errno 2] No such file or directory: 'conf/net/ext_service/habitica.json'\n",
      "2025-02-03T14:34:59.677359-05:00**********UUID 6c467f8a-af5f-45ad-8eba-b1753e825ddd: moving to long term**********\n",
      "New entry count == 0 and skip_if_no_new_data = False, continuing\n",
      "2025-02-03T14:34:59.682876-05:00**********UUID 6c467f8a-af5f-45ad-8eba-b1753e825ddd: updating incoming user inputs**********\n",
      "2025-02-03T14:34:59.824164-05:00**********UUID 6c467f8a-af5f-45ad-8eba-b1753e825ddd: filter accuracy if needed**********\n",
      "2025-02-03T14:34:59.828301-05:00**********UUID 6c467f8a-af5f-45ad-8eba-b1753e825ddd: segmenting into trips**********\n",
      "2025-02-03T14:35:09.774976-05:00**********UUID 6c467f8a-af5f-45ad-8eba-b1753e825ddd: segmenting into sections**********\n",
      "/Users/jackgreenlee/e-mission-server/emission/analysis/intake/segmentation/section_segmentation_methods/flip_flop_detection.py:59: RuntimeWarning: invalid value encountered in scalar divide\n",
      "  sm.update({\"trip_pct\": (curr_section_time * 100)/total_trip_time})\n",
      "/Users/jackgreenlee/e-mission-server/emission/analysis/intake/segmentation/section_segmentation_methods/flip_flop_detection.py:59: RuntimeWarning: invalid value encountered in scalar divide\n",
      "  sm.update({\"trip_pct\": (curr_section_time * 100)/total_trip_time})\n",
      "2025-02-03T14:35:12.101300-05:00**********UUID 6c467f8a-af5f-45ad-8eba-b1753e825ddd: smoothing sections**********\n",
      "/Users/jackgreenlee/e-mission-server/emission/analysis/intake/cleaning/cleaning_methods/speed_outlier_detection.py:27: FutureWarning: The default value of numeric_only in DataFrame.quantile is deprecated. In a future version, it will default to False. Select only valid columns or specify the value of numeric_only to silence this warning.\n",
      "  quartile_vals = df_to_use.quantile([0.25, 0.75]).speed\n",
      "Caught error after splitting, the segment is not a cluster?! while processing section, skipping...\n",
      "Traceback (most recent call last):\n",
      "  File \"/Users/jackgreenlee/e-mission-server/emission/analysis/intake/cleaning/location_smoothing.py\", line 195, in get_points_to_filter\n",
      "    filtering_algo.filter(with_speeds_df)\n",
      "  File \"/Users/jackgreenlee/e-mission-server/emission/analysis/intake/cleaning/cleaning_methods/jump_smoothing.py\", line 251, in filter\n",
      "    self.mark_segment_states(start_segment_idx, SmoothZigzag.Direction.LEFT)\n",
      "  File \"/Users/jackgreenlee/e-mission-server/emission/analysis/intake/cleaning/cleaning_methods/jump_smoothing.py\", line 224, in mark_segment_states\n",
      "    assert curr_seg.is_cluster, \"after splitting, the segment is not a cluster?!\"\n",
      "AssertionError: after splitting, the segment is not a cluster?!\n",
      "/Users/jackgreenlee/e-mission-server/emission/analysis/intake/cleaning/cleaning_methods/speed_outlier_detection.py:27: FutureWarning: The default value of numeric_only in DataFrame.quantile is deprecated. In a future version, it will default to False. Select only valid columns or specify the value of numeric_only to silence this warning.\n",
      "  quartile_vals = df_to_use.quantile([0.25, 0.75]).speed\n",
      "/Users/jackgreenlee/e-mission-server/emission/analysis/intake/cleaning/cleaning_methods/speed_outlier_detection.py:27: FutureWarning: The default value of numeric_only in DataFrame.quantile is deprecated. In a future version, it will default to False. Select only valid columns or specify the value of numeric_only to silence this warning.\n",
      "  quartile_vals = df_to_use.quantile([0.25, 0.75]).speed\n",
      "/Users/jackgreenlee/e-mission-server/emission/analysis/intake/cleaning/cleaning_methods/speed_outlier_detection.py:27: FutureWarning: The default value of numeric_only in DataFrame.quantile is deprecated. In a future version, it will default to False. Select only valid columns or specify the value of numeric_only to silence this warning.\n",
      "  quartile_vals = df_to_use.quantile([0.25, 0.75]).speed\n",
      "/Users/jackgreenlee/e-mission-server/emission/analysis/intake/cleaning/cleaning_methods/speed_outlier_detection.py:27: FutureWarning: The default value of numeric_only in DataFrame.quantile is deprecated. In a future version, it will default to False. Select only valid columns or specify the value of numeric_only to silence this warning.\n",
      "  quartile_vals = df_to_use.quantile([0.25, 0.75]).speed\n",
      "/Users/jackgreenlee/e-mission-server/emission/analysis/intake/cleaning/cleaning_methods/speed_outlier_detection.py:27: FutureWarning: The default value of numeric_only in DataFrame.quantile is deprecated. In a future version, it will default to False. Select only valid columns or specify the value of numeric_only to silence this warning.\n",
      "  quartile_vals = df_to_use.quantile([0.25, 0.75]).speed\n",
      "/Users/jackgreenlee/e-mission-server/emission/analysis/intake/cleaning/cleaning_methods/speed_outlier_detection.py:27: FutureWarning: The default value of numeric_only in DataFrame.quantile is deprecated. In a future version, it will default to False. Select only valid columns or specify the value of numeric_only to silence this warning.\n",
      "  quartile_vals = df_to_use.quantile([0.25, 0.75]).speed\n",
      "/Users/jackgreenlee/e-mission-server/emission/analysis/intake/cleaning/cleaning_methods/speed_outlier_detection.py:27: FutureWarning: The default value of numeric_only in DataFrame.quantile is deprecated. In a future version, it will default to False. Select only valid columns or specify the value of numeric_only to silence this warning.\n",
      "  quartile_vals = df_to_use.quantile([0.25, 0.75]).speed\n",
      "/Users/jackgreenlee/e-mission-server/emission/analysis/intake/cleaning/cleaning_methods/speed_outlier_detection.py:27: FutureWarning: The default value of numeric_only in DataFrame.quantile is deprecated. In a future version, it will default to False. Select only valid columns or specify the value of numeric_only to silence this warning.\n",
      "  quartile_vals = df_to_use.quantile([0.25, 0.75]).speed\n",
      "/Users/jackgreenlee/e-mission-server/emission/analysis/intake/cleaning/cleaning_methods/speed_outlier_detection.py:27: FutureWarning: The default value of numeric_only in DataFrame.quantile is deprecated. In a future version, it will default to False. Select only valid columns or specify the value of numeric_only to silence this warning.\n",
      "  quartile_vals = df_to_use.quantile([0.25, 0.75]).speed\n",
      "/Users/jackgreenlee/e-mission-server/emission/analysis/intake/cleaning/cleaning_methods/speed_outlier_detection.py:27: FutureWarning: The default value of numeric_only in DataFrame.quantile is deprecated. In a future version, it will default to False. Select only valid columns or specify the value of numeric_only to silence this warning.\n",
      "  quartile_vals = df_to_use.quantile([0.25, 0.75]).speed\n",
      "/Users/jackgreenlee/e-mission-server/emission/analysis/intake/cleaning/cleaning_methods/speed_outlier_detection.py:27: FutureWarning: The default value of numeric_only in DataFrame.quantile is deprecated. In a future version, it will default to False. Select only valid columns or specify the value of numeric_only to silence this warning.\n",
      "  quartile_vals = df_to_use.quantile([0.25, 0.75]).speed\n",
      "/Users/jackgreenlee/e-mission-server/emission/analysis/intake/cleaning/cleaning_methods/speed_outlier_detection.py:27: FutureWarning: The default value of numeric_only in DataFrame.quantile is deprecated. In a future version, it will default to False. Select only valid columns or specify the value of numeric_only to silence this warning.\n",
      "  quartile_vals = df_to_use.quantile([0.25, 0.75]).speed\n",
      "/Users/jackgreenlee/e-mission-server/emission/analysis/intake/cleaning/cleaning_methods/speed_outlier_detection.py:27: FutureWarning: The default value of numeric_only in DataFrame.quantile is deprecated. In a future version, it will default to False. Select only valid columns or specify the value of numeric_only to silence this warning.\n",
      "  quartile_vals = df_to_use.quantile([0.25, 0.75]).speed\n",
      "/Users/jackgreenlee/e-mission-server/emission/analysis/intake/cleaning/cleaning_methods/speed_outlier_detection.py:27: FutureWarning: The default value of numeric_only in DataFrame.quantile is deprecated. In a future version, it will default to False. Select only valid columns or specify the value of numeric_only to silence this warning.\n",
      "  quartile_vals = df_to_use.quantile([0.25, 0.75]).speed\n",
      "/Users/jackgreenlee/e-mission-server/emission/analysis/intake/cleaning/cleaning_methods/speed_outlier_detection.py:27: FutureWarning: The default value of numeric_only in DataFrame.quantile is deprecated. In a future version, it will default to False. Select only valid columns or specify the value of numeric_only to silence this warning.\n",
      "  quartile_vals = df_to_use.quantile([0.25, 0.75]).speed\n",
      "/Users/jackgreenlee/e-mission-server/emission/analysis/intake/cleaning/cleaning_methods/speed_outlier_detection.py:27: FutureWarning: The default value of numeric_only in DataFrame.quantile is deprecated. In a future version, it will default to False. Select only valid columns or specify the value of numeric_only to silence this warning.\n",
      "  quartile_vals = df_to_use.quantile([0.25, 0.75]).speed\n",
      "/Users/jackgreenlee/e-mission-server/emission/analysis/intake/cleaning/cleaning_methods/speed_outlier_detection.py:27: FutureWarning: The default value of numeric_only in DataFrame.quantile is deprecated. In a future version, it will default to False. Select only valid columns or specify the value of numeric_only to silence this warning.\n",
      "  quartile_vals = df_to_use.quantile([0.25, 0.75]).speed\n",
      "/Users/jackgreenlee/e-mission-server/emission/analysis/intake/cleaning/cleaning_methods/speed_outlier_detection.py:27: FutureWarning: The default value of numeric_only in DataFrame.quantile is deprecated. In a future version, it will default to False. Select only valid columns or specify the value of numeric_only to silence this warning.\n",
      "  quartile_vals = df_to_use.quantile([0.25, 0.75]).speed\n",
      "/Users/jackgreenlee/e-mission-server/emission/analysis/intake/cleaning/cleaning_methods/speed_outlier_detection.py:27: FutureWarning: The default value of numeric_only in DataFrame.quantile is deprecated. In a future version, it will default to False. Select only valid columns or specify the value of numeric_only to silence this warning.\n",
      "  quartile_vals = df_to_use.quantile([0.25, 0.75]).speed\n",
      "/Users/jackgreenlee/e-mission-server/emission/analysis/intake/cleaning/cleaning_methods/speed_outlier_detection.py:27: FutureWarning: The default value of numeric_only in DataFrame.quantile is deprecated. In a future version, it will default to False. Select only valid columns or specify the value of numeric_only to silence this warning.\n",
      "  quartile_vals = df_to_use.quantile([0.25, 0.75]).speed\n",
      "/Users/jackgreenlee/e-mission-server/emission/analysis/intake/cleaning/cleaning_methods/speed_outlier_detection.py:27: FutureWarning: The default value of numeric_only in DataFrame.quantile is deprecated. In a future version, it will default to False. Select only valid columns or specify the value of numeric_only to silence this warning.\n",
      "  quartile_vals = df_to_use.quantile([0.25, 0.75]).speed\n",
      "/Users/jackgreenlee/e-mission-server/emission/analysis/intake/cleaning/cleaning_methods/speed_outlier_detection.py:27: FutureWarning: The default value of numeric_only in DataFrame.quantile is deprecated. In a future version, it will default to False. Select only valid columns or specify the value of numeric_only to silence this warning.\n",
      "  quartile_vals = df_to_use.quantile([0.25, 0.75]).speed\n",
      "/Users/jackgreenlee/e-mission-server/emission/analysis/intake/cleaning/cleaning_methods/speed_outlier_detection.py:27: FutureWarning: The default value of numeric_only in DataFrame.quantile is deprecated. In a future version, it will default to False. Select only valid columns or specify the value of numeric_only to silence this warning.\n",
      "  quartile_vals = df_to_use.quantile([0.25, 0.75]).speed\n",
      "/Users/jackgreenlee/e-mission-server/emission/analysis/intake/cleaning/cleaning_methods/speed_outlier_detection.py:27: FutureWarning: The default value of numeric_only in DataFrame.quantile is deprecated. In a future version, it will default to False. Select only valid columns or specify the value of numeric_only to silence this warning.\n",
      "  quartile_vals = df_to_use.quantile([0.25, 0.75]).speed\n",
      "/Users/jackgreenlee/e-mission-server/emission/analysis/intake/cleaning/cleaning_methods/speed_outlier_detection.py:27: FutureWarning: The default value of numeric_only in DataFrame.quantile is deprecated. In a future version, it will default to False. Select only valid columns or specify the value of numeric_only to silence this warning.\n",
      "  quartile_vals = df_to_use.quantile([0.25, 0.75]).speed\n",
      "/Users/jackgreenlee/e-mission-server/emission/analysis/intake/cleaning/cleaning_methods/speed_outlier_detection.py:27: FutureWarning: The default value of numeric_only in DataFrame.quantile is deprecated. In a future version, it will default to False. Select only valid columns or specify the value of numeric_only to silence this warning.\n",
      "  quartile_vals = df_to_use.quantile([0.25, 0.75]).speed\n",
      "/Users/jackgreenlee/e-mission-server/emission/analysis/intake/cleaning/cleaning_methods/speed_outlier_detection.py:27: FutureWarning: The default value of numeric_only in DataFrame.quantile is deprecated. In a future version, it will default to False. Select only valid columns or specify the value of numeric_only to silence this warning.\n",
      "  quartile_vals = df_to_use.quantile([0.25, 0.75]).speed\n",
      "/Users/jackgreenlee/e-mission-server/emission/analysis/intake/cleaning/cleaning_methods/speed_outlier_detection.py:27: FutureWarning: The default value of numeric_only in DataFrame.quantile is deprecated. In a future version, it will default to False. Select only valid columns or specify the value of numeric_only to silence this warning.\n",
      "  quartile_vals = df_to_use.quantile([0.25, 0.75]).speed\n",
      "/Users/jackgreenlee/e-mission-server/emission/analysis/intake/cleaning/cleaning_methods/speed_outlier_detection.py:27: FutureWarning: The default value of numeric_only in DataFrame.quantile is deprecated. In a future version, it will default to False. Select only valid columns or specify the value of numeric_only to silence this warning.\n",
      "  quartile_vals = df_to_use.quantile([0.25, 0.75]).speed\n",
      "/Users/jackgreenlee/e-mission-server/emission/analysis/intake/cleaning/cleaning_methods/speed_outlier_detection.py:27: FutureWarning: The default value of numeric_only in DataFrame.quantile is deprecated. In a future version, it will default to False. Select only valid columns or specify the value of numeric_only to silence this warning.\n",
      "  quartile_vals = df_to_use.quantile([0.25, 0.75]).speed\n",
      "/Users/jackgreenlee/e-mission-server/emission/analysis/intake/cleaning/cleaning_methods/speed_outlier_detection.py:27: FutureWarning: The default value of numeric_only in DataFrame.quantile is deprecated. In a future version, it will default to False. Select only valid columns or specify the value of numeric_only to silence this warning.\n",
      "  quartile_vals = df_to_use.quantile([0.25, 0.75]).speed\n",
      "/Users/jackgreenlee/e-mission-server/emission/analysis/intake/cleaning/cleaning_methods/speed_outlier_detection.py:27: FutureWarning: The default value of numeric_only in DataFrame.quantile is deprecated. In a future version, it will default to False. Select only valid columns or specify the value of numeric_only to silence this warning.\n",
      "  quartile_vals = df_to_use.quantile([0.25, 0.75]).speed\n",
      "/Users/jackgreenlee/e-mission-server/emission/analysis/intake/cleaning/cleaning_methods/speed_outlier_detection.py:27: FutureWarning: The default value of numeric_only in DataFrame.quantile is deprecated. In a future version, it will default to False. Select only valid columns or specify the value of numeric_only to silence this warning.\n",
      "  quartile_vals = df_to_use.quantile([0.25, 0.75]).speed\n",
      "/Users/jackgreenlee/e-mission-server/emission/analysis/intake/cleaning/cleaning_methods/speed_outlier_detection.py:27: FutureWarning: The default value of numeric_only in DataFrame.quantile is deprecated. In a future version, it will default to False. Select only valid columns or specify the value of numeric_only to silence this warning.\n",
      "  quartile_vals = df_to_use.quantile([0.25, 0.75]).speed\n",
      "/Users/jackgreenlee/e-mission-server/emission/analysis/intake/cleaning/cleaning_methods/speed_outlier_detection.py:27: FutureWarning: The default value of numeric_only in DataFrame.quantile is deprecated. In a future version, it will default to False. Select only valid columns or specify the value of numeric_only to silence this warning.\n",
      "  quartile_vals = df_to_use.quantile([0.25, 0.75]).speed\n",
      "/Users/jackgreenlee/e-mission-server/emission/analysis/intake/cleaning/cleaning_methods/speed_outlier_detection.py:27: FutureWarning: The default value of numeric_only in DataFrame.quantile is deprecated. In a future version, it will default to False. Select only valid columns or specify the value of numeric_only to silence this warning.\n",
      "  quartile_vals = df_to_use.quantile([0.25, 0.75]).speed\n",
      "/Users/jackgreenlee/e-mission-server/emission/analysis/intake/cleaning/cleaning_methods/speed_outlier_detection.py:27: FutureWarning: The default value of numeric_only in DataFrame.quantile is deprecated. In a future version, it will default to False. Select only valid columns or specify the value of numeric_only to silence this warning.\n",
      "  quartile_vals = df_to_use.quantile([0.25, 0.75]).speed\n",
      "/Users/jackgreenlee/e-mission-server/emission/analysis/intake/cleaning/cleaning_methods/speed_outlier_detection.py:27: FutureWarning: The default value of numeric_only in DataFrame.quantile is deprecated. In a future version, it will default to False. Select only valid columns or specify the value of numeric_only to silence this warning.\n",
      "  quartile_vals = df_to_use.quantile([0.25, 0.75]).speed\n",
      "/Users/jackgreenlee/e-mission-server/emission/analysis/intake/cleaning/cleaning_methods/speed_outlier_detection.py:27: FutureWarning: The default value of numeric_only in DataFrame.quantile is deprecated. In a future version, it will default to False. Select only valid columns or specify the value of numeric_only to silence this warning.\n",
      "  quartile_vals = df_to_use.quantile([0.25, 0.75]).speed\n",
      "2025-02-03T14:35:12.776992-05:00**********UUID 6c467f8a-af5f-45ad-8eba-b1753e825ddd: cleaning and resampling timeline**********\n",
      "/Users/jackgreenlee/e-mission-server/emission/analysis/intake/cleaning/cleaning_methods/speed_outlier_detection.py:27: FutureWarning: The default value of numeric_only in DataFrame.quantile is deprecated. In a future version, it will default to False. Select only valid columns or specify the value of numeric_only to silence this warning.\n",
      "  quartile_vals = df_to_use.quantile([0.25, 0.75]).speed\n",
      "/Users/jackgreenlee/e-mission-server/emission/analysis/intake/cleaning/cleaning_methods/speed_outlier_detection.py:27: FutureWarning: The default value of numeric_only in DataFrame.quantile is deprecated. In a future version, it will default to False. Select only valid columns or specify the value of numeric_only to silence this warning.\n",
      "  quartile_vals = df_to_use.quantile([0.25, 0.75]).speed\n",
      "/Users/jackgreenlee/e-mission-server/emission/analysis/intake/cleaning/cleaning_methods/speed_outlier_detection.py:27: FutureWarning: The default value of numeric_only in DataFrame.quantile is deprecated. In a future version, it will default to False. Select only valid columns or specify the value of numeric_only to silence this warning.\n",
      "  quartile_vals = df_to_use.quantile([0.25, 0.75]).speed\n",
      "/Users/jackgreenlee/e-mission-server/emission/analysis/intake/cleaning/cleaning_methods/speed_outlier_detection.py:27: FutureWarning: The default value of numeric_only in DataFrame.quantile is deprecated. In a future version, it will default to False. Select only valid columns or specify the value of numeric_only to silence this warning.\n",
      "  quartile_vals = df_to_use.quantile([0.25, 0.75]).speed\n",
      "/Users/jackgreenlee/e-mission-server/emission/analysis/intake/cleaning/cleaning_methods/speed_outlier_detection.py:27: FutureWarning: The default value of numeric_only in DataFrame.quantile is deprecated. In a future version, it will default to False. Select only valid columns or specify the value of numeric_only to silence this warning.\n",
      "  quartile_vals = df_to_use.quantile([0.25, 0.75]).speed\n",
      "/Users/jackgreenlee/e-mission-server/emission/analysis/intake/cleaning/cleaning_methods/speed_outlier_detection.py:27: FutureWarning: The default value of numeric_only in DataFrame.quantile is deprecated. In a future version, it will default to False. Select only valid columns or specify the value of numeric_only to silence this warning.\n",
      "  quartile_vals = df_to_use.quantile([0.25, 0.75]).speed\n",
      "/Users/jackgreenlee/e-mission-server/emission/analysis/intake/cleaning/cleaning_methods/speed_outlier_detection.py:27: FutureWarning: The default value of numeric_only in DataFrame.quantile is deprecated. In a future version, it will default to False. Select only valid columns or specify the value of numeric_only to silence this warning.\n",
      "  quartile_vals = df_to_use.quantile([0.25, 0.75]).speed\n",
      "/Users/jackgreenlee/e-mission-server/emission/analysis/intake/cleaning/cleaning_methods/speed_outlier_detection.py:27: FutureWarning: The default value of numeric_only in DataFrame.quantile is deprecated. In a future version, it will default to False. Select only valid columns or specify the value of numeric_only to silence this warning.\n",
      "  quartile_vals = df_to_use.quantile([0.25, 0.75]).speed\n",
      "/Users/jackgreenlee/e-mission-server/emission/analysis/intake/cleaning/cleaning_methods/speed_outlier_detection.py:27: FutureWarning: The default value of numeric_only in DataFrame.quantile is deprecated. In a future version, it will default to False. Select only valid columns or specify the value of numeric_only to silence this warning.\n",
      "  quartile_vals = df_to_use.quantile([0.25, 0.75]).speed\n",
      "/Users/jackgreenlee/e-mission-server/emission/analysis/intake/cleaning/cleaning_methods/speed_outlier_detection.py:27: FutureWarning: The default value of numeric_only in DataFrame.quantile is deprecated. In a future version, it will default to False. Select only valid columns or specify the value of numeric_only to silence this warning.\n",
      "  quartile_vals = df_to_use.quantile([0.25, 0.75]).speed\n",
      "/Users/jackgreenlee/e-mission-server/emission/analysis/intake/cleaning/cleaning_methods/speed_outlier_detection.py:27: FutureWarning: The default value of numeric_only in DataFrame.quantile is deprecated. In a future version, it will default to False. Select only valid columns or specify the value of numeric_only to silence this warning.\n",
      "  quartile_vals = df_to_use.quantile([0.25, 0.75]).speed\n",
      "/Users/jackgreenlee/e-mission-server/emission/analysis/intake/cleaning/cleaning_methods/speed_outlier_detection.py:27: FutureWarning: The default value of numeric_only in DataFrame.quantile is deprecated. In a future version, it will default to False. Select only valid columns or specify the value of numeric_only to silence this warning.\n",
      "  quartile_vals = df_to_use.quantile([0.25, 0.75]).speed\n",
      "/Users/jackgreenlee/e-mission-server/emission/analysis/intake/cleaning/cleaning_methods/speed_outlier_detection.py:27: FutureWarning: The default value of numeric_only in DataFrame.quantile is deprecated. In a future version, it will default to False. Select only valid columns or specify the value of numeric_only to silence this warning.\n",
      "  quartile_vals = df_to_use.quantile([0.25, 0.75]).speed\n",
      "/Users/jackgreenlee/e-mission-server/emission/analysis/intake/cleaning/cleaning_methods/speed_outlier_detection.py:27: FutureWarning: The default value of numeric_only in DataFrame.quantile is deprecated. In a future version, it will default to False. Select only valid columns or specify the value of numeric_only to silence this warning.\n",
      "  quartile_vals = df_to_use.quantile([0.25, 0.75]).speed\n",
      "/Users/jackgreenlee/e-mission-server/emission/analysis/intake/cleaning/cleaning_methods/speed_outlier_detection.py:27: FutureWarning: The default value of numeric_only in DataFrame.quantile is deprecated. In a future version, it will default to False. Select only valid columns or specify the value of numeric_only to silence this warning.\n",
      "  quartile_vals = df_to_use.quantile([0.25, 0.75]).speed\n",
      "/Users/jackgreenlee/e-mission-server/emission/analysis/intake/cleaning/cleaning_methods/speed_outlier_detection.py:27: FutureWarning: The default value of numeric_only in DataFrame.quantile is deprecated. In a future version, it will default to False. Select only valid columns or specify the value of numeric_only to silence this warning.\n",
      "  quartile_vals = df_to_use.quantile([0.25, 0.75]).speed\n",
      "/Users/jackgreenlee/e-mission-server/emission/analysis/intake/cleaning/cleaning_methods/speed_outlier_detection.py:27: FutureWarning: The default value of numeric_only in DataFrame.quantile is deprecated. In a future version, it will default to False. Select only valid columns or specify the value of numeric_only to silence this warning.\n",
      "  quartile_vals = df_to_use.quantile([0.25, 0.75]).speed\n",
      "/Users/jackgreenlee/e-mission-server/emission/analysis/intake/cleaning/cleaning_methods/speed_outlier_detection.py:27: FutureWarning: The default value of numeric_only in DataFrame.quantile is deprecated. In a future version, it will default to False. Select only valid columns or specify the value of numeric_only to silence this warning.\n",
      "  quartile_vals = df_to_use.quantile([0.25, 0.75]).speed\n",
      "/Users/jackgreenlee/e-mission-server/emission/analysis/intake/cleaning/cleaning_methods/speed_outlier_detection.py:27: FutureWarning: The default value of numeric_only in DataFrame.quantile is deprecated. In a future version, it will default to False. Select only valid columns or specify the value of numeric_only to silence this warning.\n",
      "  quartile_vals = df_to_use.quantile([0.25, 0.75]).speed\n",
      "2025-02-03T14:35:15.927659-05:00**********UUID 6c467f8a-af5f-45ad-8eba-b1753e825ddd: inferring transportation mode**********\n",
      "2025-02-03T14:35:31.137373-05:00**********UUID 6c467f8a-af5f-45ad-8eba-b1753e825ddd: inferring labels**********\n",
      "2025-02-03T14:35:31.219353-05:00**********UUID 6c467f8a-af5f-45ad-8eba-b1753e825ddd: populating expectations**********\n",
      "2025-02-03T14:35:31.257227-05:00**********UUID 6c467f8a-af5f-45ad-8eba-b1753e825ddd: creating confirmed objects **********\n",
      "2025-02-03T14:35:34.056486-05:00**********UUID 6c467f8a-af5f-45ad-8eba-b1753e825ddd: creating composite objects **********\n",
      "2025-02-03T14:35:34.921734-05:00**********UUID 6c467f8a-af5f-45ad-8eba-b1753e825ddd: storing user stats **********\n",
      "2025-02-03T14:35:34.930184-05:00**********UUID 6c467f8a-af5f-45ad-8eba-b1753e825ddd: storing pipeline independent user stats **********\n",
      "Ran pipeline on segmentation_polars, TimeQuery data.ts with range [1738611298.771203, 1738611335.434453)\n",
      "Switching back to master\n",
      "M\t.gitignore\n",
      "M\temission/storage/timeseries/builtin_timeseries.py\n",
      "Already on 'master'\n",
      "Your branch is behind 'origin/master' by 7 commits, and can be fast-forwarded.\n",
      "  (use \"git pull\" to update your local branch)\n"
     ]
    }
   ],
   "source": [
    "branches = {'master': {}, 'segmentation_optimization': {}, 'segmentation_polars': {}}\n",
    "\n",
    "day = \"shankari_2016-07-27\"\n",
    "opcode = \"nrelop_dev-emulator-study_0\"\n",
    "\n",
    "curr_git_branch_name = subprocess.check_output(['git', 'rev-parse', '--abbrev-ref', 'HEAD']).decode('utf-8').strip()\n",
    "\n",
    "for branch_name in branches.keys():\n",
    "    print(f\"Checking out {branch_name} to measure pipeline runtime\")\n",
    "    !git checkout $branch_name\n",
    "    !./e-mission-py.bash ./bin/reset_pipeline.py --all\n",
    "    !./e-mission-py.bash bin/debug/load_timeline_for_day_and_user.py emission/tests/data/real_examples/$day $opcode\n",
    "    with ect.Timer() as t:\n",
    "        !./e-mission-py.bash bin/debug/intake_single_user.py -e $opcode\n",
    "    \n",
    "    now = time.time()\n",
    "    tq = estt.TimeQuery(\"data.ts\", now - t.elapsed, now)\n",
    "    print(f\"Ran pipeline on {branch_name}, {tq}\")\n",
    "    branches[branch_name]['tq'] = tq\n",
    "\n",
    "    print(f\"Switching back to {curr_git_branch_name}\")\n",
    "    !git checkout $curr_git_branch_name\n",
    "\n",
    "\n",
    "# !./e-mission-py.bash ./bin/reset_pipeline.py --all\n",
    "# if db_host:=os.environ.get('DB_HOST'):\n",
    "#     with ect.Timer() as t:\n",
    "#         !./e-mission-py.bash ./bin/intake_multiprocess.py 5\n",
    "#     esds.store_pipeline_time(None, f\"{curr_git_branch_name}_intake_multiprocess/{db_host}\", time.time(), t.elapsed)"
   ]
  },
  {
   "cell_type": "code",
   "execution_count": 94,
   "metadata": {},
   "outputs": [
    {
     "data": {
      "application/vnd.plotly.v1+json": {
       "config": {
        "plotlyServerURL": "https://plot.ly"
       },
       "data": [
        {
         "hovertemplate": "branch_name=master<br>reading=%{x}<br>name=%{y}<extra></extra>",
         "legendgroup": "master",
         "marker": {
          "color": "#636efa",
          "pattern": {
           "shape": ""
          }
         },
         "name": "master",
         "orientation": "h",
         "showlegend": true,
         "textposition": "auto",
         "type": "bar",
         "x": [
          0.0016298329999955286,
          0.009076041000000146,
          0.872373875000001,
          2.737271374999999,
          0.03069954200000069,
          0.06427404199999387,
          22.384871916,
          2.960315833000001,
          0.5935794999999988,
          2.312852834000001,
          10.324328,
          0.0038693750000000637,
          0.06684525000000008,
          0.005629958999999962
         ],
         "xaxis": "x",
         "y": [
          "STORE_PIPELINE_INDEPENDENT_USER_STATS",
          "STORE_PIPELINE_DEPENDENT_USER_STATS",
          "CREATE_COMPOSITE_OBJECTS",
          "CREATE_CONFIRMED_OBJECTS",
          "EXPECTATION_POPULATION",
          "LABEL_INFERENCE",
          "MODE_INFERENCE",
          "CLEAN_RESAMPLING",
          "JUMP_SMOOTHING",
          "SECTION_SEGMENTATION",
          "TRIP_SEGMENTATION",
          "ACCURACY_FILTERING",
          "USER_INPUT_MATCH_INCOMING",
          "USERCACHE"
         ],
         "yaxis": "y"
        },
        {
         "hovertemplate": "branch_name=segmentation_optimization<br>reading=%{x}<br>name=%{y}<extra></extra>",
         "legendgroup": "segmentation_optimization",
         "marker": {
          "color": "#EF553B",
          "pattern": {
           "shape": ""
          }
         },
         "name": "segmentation_optimization",
         "orientation": "h",
         "showlegend": true,
         "textposition": "auto",
         "type": "bar",
         "x": [
          0.0017474589999970647,
          0.007384375000000887,
          0.8549970840000007,
          2.689813291,
          0.03621229099999823,
          0.08492716700000003,
          15.046360207999998,
          3.0577647920000004,
          0.6760624160000006,
          2.2472730829999996,
          5.183692125,
          0.003866582999999979,
          0.07729016600000005,
          0.006152540999999956
         ],
         "xaxis": "x",
         "y": [
          "STORE_PIPELINE_INDEPENDENT_USER_STATS",
          "STORE_PIPELINE_DEPENDENT_USER_STATS",
          "CREATE_COMPOSITE_OBJECTS",
          "CREATE_CONFIRMED_OBJECTS",
          "EXPECTATION_POPULATION",
          "LABEL_INFERENCE",
          "MODE_INFERENCE",
          "CLEAN_RESAMPLING",
          "JUMP_SMOOTHING",
          "SECTION_SEGMENTATION",
          "TRIP_SEGMENTATION",
          "ACCURACY_FILTERING",
          "USER_INPUT_MATCH_INCOMING",
          "USERCACHE"
         ],
         "yaxis": "y"
        },
        {
         "hovertemplate": "branch_name=segmentation_polars<br>reading=%{x}<br>name=%{y}<extra></extra>",
         "legendgroup": "segmentation_polars",
         "marker": {
          "color": "#00cc96",
          "pattern": {
           "shape": ""
          }
         },
         "name": "segmentation_polars",
         "orientation": "h",
         "showlegend": true,
         "textposition": "auto",
         "type": "bar",
         "x": [
          0.0018728749999965544,
          0.007909708999996212,
          0.8645148749999976,
          2.7985580420000034,
          0.036805291999996825,
          0.08095933300000269,
          15.208373000000002,
          3.1500702909999987,
          0.6747506670000014,
          2.3257756250000003,
          9.945890375,
          0.0035245839999999973,
          0.066808541,
          0.004043582999999962
         ],
         "xaxis": "x",
         "y": [
          "STORE_PIPELINE_INDEPENDENT_USER_STATS",
          "STORE_PIPELINE_DEPENDENT_USER_STATS",
          "CREATE_COMPOSITE_OBJECTS",
          "CREATE_CONFIRMED_OBJECTS",
          "EXPECTATION_POPULATION",
          "LABEL_INFERENCE",
          "MODE_INFERENCE",
          "CLEAN_RESAMPLING",
          "JUMP_SMOOTHING",
          "SECTION_SEGMENTATION",
          "TRIP_SEGMENTATION",
          "ACCURACY_FILTERING",
          "USER_INPUT_MATCH_INCOMING",
          "USERCACHE"
         ],
         "yaxis": "y"
        }
       ],
       "layout": {
        "barmode": "group",
        "legend": {
         "title": {
          "text": "branch_name"
         },
         "tracegroupgap": 0,
         "xanchor": "right",
         "yanchor": "bottom"
        },
        "margin": {
         "t": 60
        },
        "template": {
         "data": {
          "bar": [
           {
            "error_x": {
             "color": "#2a3f5f"
            },
            "error_y": {
             "color": "#2a3f5f"
            },
            "marker": {
             "line": {
              "color": "#E5ECF6",
              "width": 0.5
             },
             "pattern": {
              "fillmode": "overlay",
              "size": 10,
              "solidity": 0.2
             }
            },
            "type": "bar"
           }
          ],
          "barpolar": [
           {
            "marker": {
             "line": {
              "color": "#E5ECF6",
              "width": 0.5
             },
             "pattern": {
              "fillmode": "overlay",
              "size": 10,
              "solidity": 0.2
             }
            },
            "type": "barpolar"
           }
          ],
          "carpet": [
           {
            "aaxis": {
             "endlinecolor": "#2a3f5f",
             "gridcolor": "white",
             "linecolor": "white",
             "minorgridcolor": "white",
             "startlinecolor": "#2a3f5f"
            },
            "baxis": {
             "endlinecolor": "#2a3f5f",
             "gridcolor": "white",
             "linecolor": "white",
             "minorgridcolor": "white",
             "startlinecolor": "#2a3f5f"
            },
            "type": "carpet"
           }
          ],
          "choropleth": [
           {
            "colorbar": {
             "outlinewidth": 0,
             "ticks": ""
            },
            "type": "choropleth"
           }
          ],
          "contour": [
           {
            "colorbar": {
             "outlinewidth": 0,
             "ticks": ""
            },
            "colorscale": [
             [
              0,
              "#0d0887"
             ],
             [
              0.1111111111111111,
              "#46039f"
             ],
             [
              0.2222222222222222,
              "#7201a8"
             ],
             [
              0.3333333333333333,
              "#9c179e"
             ],
             [
              0.4444444444444444,
              "#bd3786"
             ],
             [
              0.5555555555555556,
              "#d8576b"
             ],
             [
              0.6666666666666666,
              "#ed7953"
             ],
             [
              0.7777777777777778,
              "#fb9f3a"
             ],
             [
              0.8888888888888888,
              "#fdca26"
             ],
             [
              1,
              "#f0f921"
             ]
            ],
            "type": "contour"
           }
          ],
          "contourcarpet": [
           {
            "colorbar": {
             "outlinewidth": 0,
             "ticks": ""
            },
            "type": "contourcarpet"
           }
          ],
          "heatmap": [
           {
            "colorbar": {
             "outlinewidth": 0,
             "ticks": ""
            },
            "colorscale": [
             [
              0,
              "#0d0887"
             ],
             [
              0.1111111111111111,
              "#46039f"
             ],
             [
              0.2222222222222222,
              "#7201a8"
             ],
             [
              0.3333333333333333,
              "#9c179e"
             ],
             [
              0.4444444444444444,
              "#bd3786"
             ],
             [
              0.5555555555555556,
              "#d8576b"
             ],
             [
              0.6666666666666666,
              "#ed7953"
             ],
             [
              0.7777777777777778,
              "#fb9f3a"
             ],
             [
              0.8888888888888888,
              "#fdca26"
             ],
             [
              1,
              "#f0f921"
             ]
            ],
            "type": "heatmap"
           }
          ],
          "histogram": [
           {
            "marker": {
             "pattern": {
              "fillmode": "overlay",
              "size": 10,
              "solidity": 0.2
             }
            },
            "type": "histogram"
           }
          ],
          "histogram2d": [
           {
            "colorbar": {
             "outlinewidth": 0,
             "ticks": ""
            },
            "colorscale": [
             [
              0,
              "#0d0887"
             ],
             [
              0.1111111111111111,
              "#46039f"
             ],
             [
              0.2222222222222222,
              "#7201a8"
             ],
             [
              0.3333333333333333,
              "#9c179e"
             ],
             [
              0.4444444444444444,
              "#bd3786"
             ],
             [
              0.5555555555555556,
              "#d8576b"
             ],
             [
              0.6666666666666666,
              "#ed7953"
             ],
             [
              0.7777777777777778,
              "#fb9f3a"
             ],
             [
              0.8888888888888888,
              "#fdca26"
             ],
             [
              1,
              "#f0f921"
             ]
            ],
            "type": "histogram2d"
           }
          ],
          "histogram2dcontour": [
           {
            "colorbar": {
             "outlinewidth": 0,
             "ticks": ""
            },
            "colorscale": [
             [
              0,
              "#0d0887"
             ],
             [
              0.1111111111111111,
              "#46039f"
             ],
             [
              0.2222222222222222,
              "#7201a8"
             ],
             [
              0.3333333333333333,
              "#9c179e"
             ],
             [
              0.4444444444444444,
              "#bd3786"
             ],
             [
              0.5555555555555556,
              "#d8576b"
             ],
             [
              0.6666666666666666,
              "#ed7953"
             ],
             [
              0.7777777777777778,
              "#fb9f3a"
             ],
             [
              0.8888888888888888,
              "#fdca26"
             ],
             [
              1,
              "#f0f921"
             ]
            ],
            "type": "histogram2dcontour"
           }
          ],
          "mesh3d": [
           {
            "colorbar": {
             "outlinewidth": 0,
             "ticks": ""
            },
            "type": "mesh3d"
           }
          ],
          "parcoords": [
           {
            "line": {
             "colorbar": {
              "outlinewidth": 0,
              "ticks": ""
             }
            },
            "type": "parcoords"
           }
          ],
          "pie": [
           {
            "automargin": true,
            "type": "pie"
           }
          ],
          "scatter": [
           {
            "fillpattern": {
             "fillmode": "overlay",
             "size": 10,
             "solidity": 0.2
            },
            "type": "scatter"
           }
          ],
          "scatter3d": [
           {
            "line": {
             "colorbar": {
              "outlinewidth": 0,
              "ticks": ""
             }
            },
            "marker": {
             "colorbar": {
              "outlinewidth": 0,
              "ticks": ""
             }
            },
            "type": "scatter3d"
           }
          ],
          "scattercarpet": [
           {
            "marker": {
             "colorbar": {
              "outlinewidth": 0,
              "ticks": ""
             }
            },
            "type": "scattercarpet"
           }
          ],
          "scattergeo": [
           {
            "marker": {
             "colorbar": {
              "outlinewidth": 0,
              "ticks": ""
             }
            },
            "type": "scattergeo"
           }
          ],
          "scattergl": [
           {
            "marker": {
             "colorbar": {
              "outlinewidth": 0,
              "ticks": ""
             }
            },
            "type": "scattergl"
           }
          ],
          "scattermap": [
           {
            "marker": {
             "colorbar": {
              "outlinewidth": 0,
              "ticks": ""
             }
            },
            "type": "scattermap"
           }
          ],
          "scattermapbox": [
           {
            "marker": {
             "colorbar": {
              "outlinewidth": 0,
              "ticks": ""
             }
            },
            "type": "scattermapbox"
           }
          ],
          "scatterpolar": [
           {
            "marker": {
             "colorbar": {
              "outlinewidth": 0,
              "ticks": ""
             }
            },
            "type": "scatterpolar"
           }
          ],
          "scatterpolargl": [
           {
            "marker": {
             "colorbar": {
              "outlinewidth": 0,
              "ticks": ""
             }
            },
            "type": "scatterpolargl"
           }
          ],
          "scatterternary": [
           {
            "marker": {
             "colorbar": {
              "outlinewidth": 0,
              "ticks": ""
             }
            },
            "type": "scatterternary"
           }
          ],
          "surface": [
           {
            "colorbar": {
             "outlinewidth": 0,
             "ticks": ""
            },
            "colorscale": [
             [
              0,
              "#0d0887"
             ],
             [
              0.1111111111111111,
              "#46039f"
             ],
             [
              0.2222222222222222,
              "#7201a8"
             ],
             [
              0.3333333333333333,
              "#9c179e"
             ],
             [
              0.4444444444444444,
              "#bd3786"
             ],
             [
              0.5555555555555556,
              "#d8576b"
             ],
             [
              0.6666666666666666,
              "#ed7953"
             ],
             [
              0.7777777777777778,
              "#fb9f3a"
             ],
             [
              0.8888888888888888,
              "#fdca26"
             ],
             [
              1,
              "#f0f921"
             ]
            ],
            "type": "surface"
           }
          ],
          "table": [
           {
            "cells": {
             "fill": {
              "color": "#EBF0F8"
             },
             "line": {
              "color": "white"
             }
            },
            "header": {
             "fill": {
              "color": "#C8D4E3"
             },
             "line": {
              "color": "white"
             }
            },
            "type": "table"
           }
          ]
         },
         "layout": {
          "annotationdefaults": {
           "arrowcolor": "#2a3f5f",
           "arrowhead": 0,
           "arrowwidth": 1
          },
          "autotypenumbers": "strict",
          "coloraxis": {
           "colorbar": {
            "outlinewidth": 0,
            "ticks": ""
           }
          },
          "colorscale": {
           "diverging": [
            [
             0,
             "#8e0152"
            ],
            [
             0.1,
             "#c51b7d"
            ],
            [
             0.2,
             "#de77ae"
            ],
            [
             0.3,
             "#f1b6da"
            ],
            [
             0.4,
             "#fde0ef"
            ],
            [
             0.5,
             "#f7f7f7"
            ],
            [
             0.6,
             "#e6f5d0"
            ],
            [
             0.7,
             "#b8e186"
            ],
            [
             0.8,
             "#7fbc41"
            ],
            [
             0.9,
             "#4d9221"
            ],
            [
             1,
             "#276419"
            ]
           ],
           "sequential": [
            [
             0,
             "#0d0887"
            ],
            [
             0.1111111111111111,
             "#46039f"
            ],
            [
             0.2222222222222222,
             "#7201a8"
            ],
            [
             0.3333333333333333,
             "#9c179e"
            ],
            [
             0.4444444444444444,
             "#bd3786"
            ],
            [
             0.5555555555555556,
             "#d8576b"
            ],
            [
             0.6666666666666666,
             "#ed7953"
            ],
            [
             0.7777777777777778,
             "#fb9f3a"
            ],
            [
             0.8888888888888888,
             "#fdca26"
            ],
            [
             1,
             "#f0f921"
            ]
           ],
           "sequentialminus": [
            [
             0,
             "#0d0887"
            ],
            [
             0.1111111111111111,
             "#46039f"
            ],
            [
             0.2222222222222222,
             "#7201a8"
            ],
            [
             0.3333333333333333,
             "#9c179e"
            ],
            [
             0.4444444444444444,
             "#bd3786"
            ],
            [
             0.5555555555555556,
             "#d8576b"
            ],
            [
             0.6666666666666666,
             "#ed7953"
            ],
            [
             0.7777777777777778,
             "#fb9f3a"
            ],
            [
             0.8888888888888888,
             "#fdca26"
            ],
            [
             1,
             "#f0f921"
            ]
           ]
          },
          "colorway": [
           "#636efa",
           "#EF553B",
           "#00cc96",
           "#ab63fa",
           "#FFA15A",
           "#19d3f3",
           "#FF6692",
           "#B6E880",
           "#FF97FF",
           "#FECB52"
          ],
          "font": {
           "color": "#2a3f5f"
          },
          "geo": {
           "bgcolor": "white",
           "lakecolor": "white",
           "landcolor": "#E5ECF6",
           "showlakes": true,
           "showland": true,
           "subunitcolor": "white"
          },
          "hoverlabel": {
           "align": "left"
          },
          "hovermode": "closest",
          "mapbox": {
           "style": "light"
          },
          "paper_bgcolor": "white",
          "plot_bgcolor": "#E5ECF6",
          "polar": {
           "angularaxis": {
            "gridcolor": "white",
            "linecolor": "white",
            "ticks": ""
           },
           "bgcolor": "#E5ECF6",
           "radialaxis": {
            "gridcolor": "white",
            "linecolor": "white",
            "ticks": ""
           }
          },
          "scene": {
           "xaxis": {
            "backgroundcolor": "#E5ECF6",
            "gridcolor": "white",
            "gridwidth": 2,
            "linecolor": "white",
            "showbackground": true,
            "ticks": "",
            "zerolinecolor": "white"
           },
           "yaxis": {
            "backgroundcolor": "#E5ECF6",
            "gridcolor": "white",
            "gridwidth": 2,
            "linecolor": "white",
            "showbackground": true,
            "ticks": "",
            "zerolinecolor": "white"
           },
           "zaxis": {
            "backgroundcolor": "#E5ECF6",
            "gridcolor": "white",
            "gridwidth": 2,
            "linecolor": "white",
            "showbackground": true,
            "ticks": "",
            "zerolinecolor": "white"
           }
          },
          "shapedefaults": {
           "line": {
            "color": "#2a3f5f"
           }
          },
          "ternary": {
           "aaxis": {
            "gridcolor": "white",
            "linecolor": "white",
            "ticks": ""
           },
           "baxis": {
            "gridcolor": "white",
            "linecolor": "white",
            "ticks": ""
           },
           "bgcolor": "#E5ECF6",
           "caxis": {
            "gridcolor": "white",
            "linecolor": "white",
            "ticks": ""
           }
          },
          "title": {
           "x": 0.05
          },
          "xaxis": {
           "automargin": true,
           "gridcolor": "white",
           "linecolor": "white",
           "ticks": "",
           "title": {
            "standoff": 15
           },
           "zerolinecolor": "white",
           "zerolinewidth": 2
          },
          "yaxis": {
           "automargin": true,
           "gridcolor": "white",
           "linecolor": "white",
           "ticks": "",
           "title": {
            "standoff": 15
           },
           "zerolinecolor": "white",
           "zerolinewidth": 2
          }
         }
        },
        "title": {
         "text": "Pipeline stage runtimes (shankari_2016-07-27)"
        },
        "xaxis": {
         "anchor": "y",
         "domain": [
          0,
          1
         ],
         "title": {
          "text": "reading"
         }
        },
        "yaxis": {
         "anchor": "x",
         "domain": [
          0,
          1
         ],
         "dtick": 1,
         "title": {
          "text": "name"
         }
        }
       }
      }
     },
     "metadata": {},
     "output_type": "display_data"
    }
   ],
   "source": [
    "ts = esta.TimeSeries.get_aggregate_time_series()\n",
    "\n",
    "pipeline_stats_dfs = [\n",
    "    ts.get_data_df('stats/pipeline_time', time_query=stats['tq']).assign(branch_name=branch_name)\n",
    "    for branch_name, stats in branches.items()\n",
    "]\n",
    "pipeline_stats_df = pd.concat(pipeline_stats_dfs)\n",
    "\n",
    "pipeline_stages_df = pipeline_stats_df[\n",
    "    pipeline_stats_df['name'].str.isupper() & ~pipeline_stats_df['name'].str.contains('/')\n",
    "]\n",
    "fig = px.bar(\n",
    "    pipeline_stages_df,\n",
    "    y=\"name\",\n",
    "    x=\"reading\",\n",
    "    color=\"branch_name\",\n",
    "    orientation=\"h\",\n",
    ")\n",
    "fig.update_layout(\n",
    "    title=f\"Pipeline stage runtimes ({day})\",\n",
    "    barmode='group',\n",
    "    yaxis=dict(dtick=1),\n",
    "    legend=dict(\n",
    "        yanchor=\"bottom\",\n",
    "        xanchor=\"right\",\n",
    "    )\n",
    ")\n",
    "fig.show()"
   ]
  },
  {
   "cell_type": "code",
   "execution_count": 97,
   "metadata": {},
   "outputs": [
    {
     "data": {
      "application/vnd.plotly.v1+json": {
       "config": {
        "plotlyServerURL": "https://plot.ly"
       },
       "data": [
        {
         "hovertemplate": "branch_name=master<br>reading=%{x}<br>name=%{y}<extra></extra>",
         "legendgroup": "master",
         "marker": {
          "color": "#636efa",
          "pattern": {
           "shape": ""
          }
         },
         "name": "master",
         "orientation": "h",
         "showlegend": true,
         "textposition": "auto",
         "type": "bar",
         "x": [
          0.28109766700000094,
          9.681948459,
          9.27296825,
          0.014457499999998902,
          0.006503583000000646,
          0.007942459000000568,
          0.0068293750000005815,
          0.007917415999999733,
          0.009731500000000892,
          0.009007624999998853,
          0.007996416000001005,
          0.008246458000000345,
          0.007363249999999155,
          0.00823233300000048,
          0.009156959000000242,
          0.01028166600000091,
          0.010429499999998981,
          0.008085875000000797,
          0.009570625000000277,
          0.009145374999999234,
          0.009809999999999874,
          0.009760874999999558,
          0.00974491699999902,
          0.00964291700000075,
          0.010365541000000533,
          0.010603250000000841,
          0.009512332999999984,
          0.008375583000001185,
          0.008851374999998995,
          0.00890691600000082,
          0.009655083000000175,
          0.012761375000000186,
          0.011811416000000463,
          0.011401167000000711,
          0.011109167000000753,
          0.0158012499999991,
          0.0000704999999996403,
          0.01561329199999939,
          0.010584458000000296,
          0.011295207999999946,
          0.013099042000000338,
          0.013451124999999564,
          0.01311099999999854,
          0.011544374999999718,
          0.00881408300000075,
          0.007984791000000158,
          0.009772833000001313,
          0.008376958999999573,
          0.009179874999999171,
          0.00816437499999978,
          0.007731500000000224,
          0.00811558300000037,
          0.008251500000000078,
          0.008053750000000193,
          0.01099504200000112,
          0.010457875000000172,
          0.007362958999999947,
          0.007732791999998767,
          0.007402666999999141,
          0.007104625000000198,
          0.006682207999999079,
          0.007587666000000937,
          0.0071537910000003535,
          0.008700624999999462,
          0.007219750000000857,
          0.011078375000000307,
          0.0091902079999997,
          0.007078083000001456,
          0.005934416000000553,
          0.0064088749999999806,
          0.007117541999999588,
          0.0072286249999997665,
          0.007906667000000311,
          0.006588917000000194,
          0.007257666000000995,
          0.006688207999999918,
          0.009342790999999906,
          0.009689583000000113,
          0.009160666999999734,
          0.009758332999998842,
          0.009861499999999523,
          0.012905374999998998,
          0.01295541700000058,
          0.009553833000000012,
          0.010235500000000286,
          0.010976291000000415,
          0.009711708999999402,
          0.009215499999999821,
          0.009064207999999851,
          0.010689582999999558,
          0.00935008399999937,
          0.010155334000000238,
          0.009251583000001062,
          0.012610541000000808,
          0.00004595799999940198,
          0.01034912500000118,
          0.009466583000000028,
          0.008052375000000112,
          0.008686209000000389,
          0.008216208000000336,
          0.007728292000001247,
          0.00776824999999981,
          0.00763120799999939,
          0.007968625000000173,
          0.00963283399999959,
          0.007689082999998931,
          0.007830916999999715,
          0.008447999999999567,
          0.008283833999998436,
          0.008406334000000015,
          0.007384040999999897,
          0.010496124999999523,
          0.00004716599999987636,
          0.006732583999999875,
          0.006745999999999697,
          0.006713916000000708,
          0.0063600000000008095,
          0.008410874999999152,
          0.006398457999999607,
          0.008694124999999886,
          0.008361834000000457,
          0.007312042000000574,
          0.008181125000000122,
          0.006471083000000988,
          0.008205249999999609,
          0.006261832999999939,
          0.0064672500000000355,
          0.009506958999999426,
          0.008713667000000314,
          0.007819208000000799,
          0.010846125000000484,
          0.008990875000000287,
          0.007915750000000443,
          0.007376917000000205,
          0.009277792000000673,
          0.008314957999999706,
          0.009245583000000224,
          0.008436417000000418,
          0.011135917000000717,
          0.008480875000000054,
          0.00783874999999945,
          0.0084690829999996,
          0.008160999999999419,
          0.00004587500000141631,
          0.01149170800000121,
          0.008222915999999358,
          0.0074525409999992576,
          0.007621374999999375,
          0.008053750000000193,
          0.006148167000000981,
          0.0076819999999990785,
          0.0063397919999985675,
          0.006362666000001127,
          0.007195459000000071,
          0.008593459000000081,
          0.006785583000000983,
          0.006543541000000985,
          0.009680166999999074,
          0.00004679200000090589,
          0.007106375000001108,
          0.011815291999999644,
          0.00734841699999933,
          0.011456125000000483,
          0.007526874999999933,
          0.007061750000000089,
          0.007571667000000559,
          0.007195125000000857,
          0.01048495899999935,
          0.009422541999999368,
          0.006890000000000285,
          0.00920416700000004,
          0.006854166000000106,
          0.008609625000000065,
          0.009369249999998885,
          0.009216916999999825,
          0.009672667000000246,
          0.009656999999998916,
          0.009321041999999835,
          0.008832458999998849,
          0.008713082999999955,
          0.009516707999999596,
          0.009183459000000838,
          0.008600125000000958,
          0.009096959000000737,
          0.009245459000000622,
          0.008528874999999658,
          0.00914308300000144,
          0.009224958000000782,
          0.009757707999998644,
          0.010737999999999914,
          0.009944875000000408,
          0.009261833999998359,
          0.009772416000000561,
          0.009048499999998683,
          0.009075667000001175,
          0.009648000000000323,
          0.013120291999999978,
          0.010918374999999259,
          0.00876179099999952,
          0.008496667000001068,
          0.008671458000000243,
          0.008634999999999948,
          0.007005250000000629,
          0.006362208999998842,
          0.0071839160000006785,
          0.008279749999999808,
          0.00005991699999974287,
          0.009782124999999198,
          0.009437458000000731,
          0.008755333999999948,
          0.009267792000001052,
          0.009475667000000243,
          0.00843041699999958,
          0.008615666000000743,
          0.008173749999999202,
          0.010492791000000778,
          0.00004320899999932237,
          0.009004957999998453,
          0.008629041999999032,
          0.009574667000000758,
          0.009355583000001388,
          0.008897583000001319,
          0.00866100000000003,
          0.00831183300000049,
          0.009055999999999287,
          0.00890741699999964,
          0.0088090420000011,
          0.00848958399999944,
          0.009130583999999331,
          0.01034141700000113,
          0.009724290999999496,
          0.009693915999999803,
          0.009928666000000419,
          0.010299749999999719,
          0.00970191600000092,
          0.010120166000000097,
          0.01018654100000127,
          0.009171500000000776,
          0.008974207999999706,
          0.007303333999999495,
          0.006844334000000174,
          0.008615999999999957,
          0.008563249999999911,
          0.005994209000000694,
          0.006393166000000505,
          0.007028417000000786,
          0.006932916000000233,
          0.006728833000000378,
          0.006786292000001026,
          0.007513250000000582,
          0.006727417000000457,
          0.008472958999998781,
          0.00961258299999912,
          0.009361290999999383,
          0.011327666999999764,
          0.011777792000000176,
          0.009244041999998842,
          0.007726375000000729,
          0.007677707999999228,
          0.008360292000000769,
          0.00982429100000104,
          0.008907916000000071,
          0.007832082999998491,
          0.008225250000000628,
          0.008774000000000726,
          0.009476041999999296,
          0.01081629199999945,
          0.000046417000000076314,
          0.008856374999998806,
          0.009666917000000552,
          0.00878137499999987,
          0.008438625000000144,
          0.00899662499999998,
          0.009112124999999693,
          0.008143999999999707,
          0.008935959000000437,
          0.00793324999999978,
          0.009280208999999928,
          0.008011832999999413,
          0.008424209000000182,
          0.008491084000000093,
          0.008322833000000252,
          0.008010083000000279,
          0.00935383299999959,
          0.007902625000000718,
          0.008930708000000287,
          0.009096207999999883,
          0.00005054100000023709,
          0.011724416999999931,
          0.011263249999999836,
          0.007668375000000616,
          0.0074655410000001865,
          0.006762292000000336,
          0.006789916999999868,
          0.008209374999999852,
          0.008449916000000002,
          0.008704499999999449,
          0.008169665999999687,
          0.008342875000000305,
          0.013543333000000324,
          0.00004425000000018997,
          0.008638874999999935,
          0.006614040999999737,
          0.008643666000000216,
          0.006890541999999833,
          0.00824691599999916,
          0.009098250000000085,
          0.008387208000000257,
          0.008845500000000506,
          0.0091682500000001,
          0.009246000000000087,
          0.009451417000000184,
          0.013563042000000358,
          0.00962691700000029,
          0.00004950000000025767,
          0.011334375000000563,
          0.00957108299999998,
          0.00965187500000031,
          0.009234625000000385,
          0.008646624999999908,
          0.007870333000000507,
          0.009061791999999791,
          0.008300125000000769,
          0.010231125000000674,
          0.007733750000000761,
          0.00773570800000023,
          0.009752167000000256,
          0.00005545900000036852,
          0.013843291999999785,
          0.011843875000000281,
          0.0069391670000005234,
          0.007884583000000056,
          0.006570707999999925,
          0.007718416999999533,
          0.006212457999999366,
          0.006493916000000155,
          0.006552708000000074,
          0.006572333999999458,
          0.000047000000000352316,
          0.010642875000000274,
          0.0062050420000003825,
          0.006918833000000291,
          0.006380416999999916,
          0.006331166000000721,
          0.00806562500000041,
          0.009214582999999443,
          0.00924075000000002,
          0.009505625000000073,
          0.00004683299999985735,
          0.012484791999999523,
          0.013786792000000325,
          0.01214487500000061,
          0.011289541000000014,
          0.010181249999999586,
          0.010040416999999913,
          0.010265124999999209,
          0.00907104199999953,
          0.010145665999999665,
          0.009446250000000767,
          0.008683500000000066,
          0.008772666999999679,
          0.009351707999999626,
          0.008655749999999962,
          0.008367124999999476,
          0.00815441700000008,
          0.008919000000000565,
          0.008266250000000142,
          0.008080458000000235,
          0.008182833000000223,
          0.00934879199999994,
          0.008178749999999901,
          0.009038665999999473,
          0.006805833000000483,
          0.007859666999999959,
          0.007713833000000392,
          0.011223249999999574,
          0.00834537500000021,
          0.008580750000000137,
          0.009196582999999592,
          0.008447416000000096,
          0.007171749999999477,
          0.0067144999999992905,
          0.006953792000000014,
          0.006632500000000263,
          0.00708608299999991,
          0.00881541600000002,
          0.007955374999999876,
          0.0083726249999998,
          0.008412959000000164,
          0.009420916999999918,
          0.006999583999999892,
          0.009028582999999202,
          0.00005787500000042911,
          0.00875283299999996,
          0.008954249999999497,
          0.009275041000000428,
          0.007844708999999561,
          0.008308167000000033,
          0.011803083000000214,
          0.010407875000000288,
          0.010410000000000252,
          0.009822166999999382,
          0.010239540999999797,
          0.011042792000000468,
          0.009054415999999677,
          0.01053362499999988,
          0.008811249999999937,
          0.00993458299999972,
          0.007912415999999922,
          0.007695666000000045,
          0.007494583999999804,
          0.00874508400000007,
          0.009709792000000661,
          0.011250999999999678,
          0.009521042000000257,
          0.010846749999999794,
          0.008104749999999328,
          0.008451791999999791,
          0.0076145829999996195,
          0.00885962500000037,
          0.008327167000000024,
          0.008036790999999432,
          0.009204707999999506,
          0.007417166999999836,
          0.007187292000000234,
          0.007623958000000819,
          0.007089665999999717,
          0.008773832999999343,
          0.010007332999999896,
          0.008584040999999765,
          0.011098833000000141,
          0.010882792000000308,
          0.010014166999999574,
          0.011370582999999712,
          0.009971249999999543,
          0.010664291000000325,
          0.012353292000000238,
          0.00850441600000007,
          0.01160395799999936,
          0.010081709000000494,
          0.011104500000000073,
          0.009394832999999991,
          0.008479583000000623,
          0.008799999999999919,
          0.008355667000000011,
          0.0075952500000004974,
          0.008387667000000043,
          0.008391458000000185,
          0.008852791999999887,
          0.008327459000000204,
          0.008290917000000064,
          0.00830341700000048,
          0.008192874999999766,
          0.007704874999999944,
          0.006685708000000012,
          0.008479249999999716,
          0.009152708000000231,
          0.008600459000000171,
          0.008358083000000072,
          0.008555124999999997,
          0.008625541999999875,
          0.007973750000000557,
          0.009133124999999964,
          0.007138332999999442,
          0.009416457999999572,
          0.006394457999999936,
          0.0070146669999999745,
          0.010195167000000005,
          0.000049082999999505716,
          0.009994292000000016,
          0.008159958000000245,
          0.007849708000000177,
          0.00789641600000035,
          0.0075585000000000235,
          0.011294666999999592,
          0.014694834000000156,
          0.010955124999999732,
          0.008880707999999515,
          0.008756209000000403,
          0.00809179199999921,
          0.012478791999999572,
          0.00871429100000043,
          0.00848866699999995,
          0.010537167000000736,
          0.008651417000000272,
          0.01351883400000009,
          0.00005179199999982842,
          0.012554791999999537,
          0.010257458999999969,
          0.010992250000000148,
          0.010630374999999859,
          0.011154291000000427,
          0.010105375000000194,
          0.011044624999999364,
          0.011208416999999748,
          0.008853374999999275,
          0.00836429200000044,
          0.00005570799999965459,
          0.010533999999999821,
          0.008250333000000332,
          0.007882166999999995,
          0.011948457999999995,
          0.006698208999999622,
          0.008768874999999454,
          0.007362999999999786,
          0.006990709000000095,
          0.007101417000000332,
          0.007294167000000407,
          0.007509750000000537,
          0.007616333999999725,
          0.006887500000000379,
          0.007603500000000096,
          0.00768616600000005,
          0.007040416999999799,
          0.007348166999999961,
          0.0070961249999994536,
          0.00787666699999967,
          0.007419041000000348,
          0.007267332999999709,
          0.007557708000000218,
          0.008164874999999405,
          0.0067486249999992864,
          0.007714625000000197,
          0.007771667000000093,
          0.008043917000000178,
          0.008081459000000457,
          0.00706745799999986,
          0.007149041999999994,
          0.007153624999999941,
          0.006719582999999751,
          0.0073463340000001764,
          0.007346291000000171,
          0.007163084000000097,
          0.006432249999999584,
          0.006887417000000617,
          0.006802208999999948,
          0.006994624999999921,
          0.007268167000000325,
          0.008375583999999492,
          0.009835334000000806,
          0.009235166999999933,
          0.00014116699999977556,
          0.009603459000000036,
          0.009148749999999595,
          0.011177458999999779,
          0.010792083000000119,
          0.009231292000000835,
          0.010279749999999588,
          0.008264542000000041,
          0.009961166999999271,
          0.008423542000000062,
          0.007666625000000593,
          0.0074920419999999766,
          0.008656874999999786,
          0.010057250000000018,
          0.011931416000000361,
          0.011704667000000057,
          0.011154792000000135,
          0.011407874999999734,
          0.013469875000000187,
          0.009252667000000159,
          0.009563584000000347,
          0.008717792000000557,
          0.009133166999999887,
          0.009236499999999204,
          0.009610707999999413,
          0.00949687499999996,
          0.009048208999999474,
          0.0096401669999997,
          0.009433167000000076,
          0.00863904200000043,
          0.009137667000000071,
          0.008693082999999824,
          0.008979958000000288,
          0.007765249999999391,
          0.008511833000000024,
          0.008525167000000167,
          0.008931332999999597,
          0.010990249999999868,
          0.009023582999999391,
          0.008849666000000589,
          0.00834358399999946,
          0.008516874999999757,
          0.010074375000000302,
          0.010167583000000313,
          0.010529374999999952,
          0.008573000000000164,
          0.009592542000000037,
          0.007619083000000693,
          0.007589791000000012,
          0.009210083000000147,
          0.007748958000000528,
          0.007568082999999781,
          0.008244833000000007,
          0.007115458000000352,
          0.00749787500000032,
          0.008036874999999277,
          0.008849541000000016,
          0.009496167,
          0.009484125000000176,
          0.010512208999999828,
          0.008792332999999708,
          0.009242291999999708,
          0.009701249999999995,
          0.007128583000000077,
          0.009359209000000313,
          0.009987125000000319,
          0.012360457999999852,
          0.011683749999999549,
          0.010838833999999409,
          0.013184292000000042,
          0.014526416999999903,
          0.012368791000000101,
          0.009799541000000467,
          0.011476334000000143,
          0.009207458000000113,
          0.011947957999999925,
          0.009149999999999991,
          0.011263457999999726,
          0.010225374999999648,
          0.010479832999999772,
          0.011405667000000008,
          0.010846166000000323,
          0.007737749999999988,
          0.006616707999999694,
          0.008612749999999725,
          0.009183082999999925,
          0.008241833000000032,
          0.007332916000000189,
          0.008529207999999677,
          0.006756791999999567,
          0.007611459000000043,
          0.00685816699999986,
          0.008249790999999895,
          0.011935250000000064,
          0.01311416600000026,
          0.00004945899999997394,
          0.015096750000000103,
          0.008318375000000433,
          0.008986624999999915,
          0.008041084000000254,
          0.008746541999999913,
          0.00967812499999976,
          0.01073829199999965,
          0.008462499999999817,
          0.007681665999999865,
          0.008979458000000218,
          0.008083499999999688,
          0.01096908299999999,
          0.007476209000000011,
          0.00866350000000038,
          0.008059166000000229,
          0.031594042000000044,
          0.036778417000000285,
          0.009352499999999875,
          0.009088124999999891,
          0.009591832999999994,
          0.008711874999999925,
          0.008135209000000199,
          0.00854345799999967,
          0.000047416999999772,
          0.008398708999999727,
          0.006502958000000003,
          0.009185999999999694,
          0.0074784999999999435,
          0.009124332999999929,
          0.007396583000000234,
          0.006982499999999892,
          0.007530041999999959,
          0.007035790999999847,
          0.006752041000000375,
          0.00711529199999994,
          0.000049332999999762706,
          0.008230084000000026,
          0.007603875000000038,
          0.009141000000000066,
          0.009648667,
          0.0076567079999998455,
          0.010422249999999966,
          0.010183333000000072,
          0.013847957999999938,
          0.018264457999999983,
          0.000050125000000011966,
          0.011714541999999994,
          0.011168458000000214,
          0.011098958999999908,
          0.011133542000000052,
          0.010598792000000135,
          0.009604040999999786,
          0.011091332999999981,
          0.010718917000000161,
          0.01062445799999967,
          0.015140040999999993,
          0.00005308400000014757,
          0.01043666700000001,
          0.010296916999999794,
          0.008537708999999616,
          0.007752917000000359,
          0.007923208999999876,
          0.007738416000000026,
          0.00726516700000035,
          0.009345832999999804,
          0.007322707999999789,
          0.007473916999999997,
          0.0073750000000001315,
          0.0073767079999997875,
          0.008297875000000232,
          0.00994087499999985,
          0.012828125000000412,
          0.008804374999999975,
          0.008846790999999854,
          0.0083506670000002,
          0.0068611250000003565,
          0.0075464169999999164,
          0.007015792000000243,
          0.007295916999999985,
          0.0070669170000003945,
          0.007331750000000081,
          0.009581083000000046,
          0.008436832999999755,
          0.013233542000000043,
          0.010298041999999619,
          0.007231083999999832,
          0.007073708000000067,
          0.007822250000000253,
          0.007558375000000339,
          0.008751917000000109,
          0.007246625000000062,
          0.008204125000000229,
          0.007324457999999812,
          0.007740334000000182,
          0.0072688749999998414,
          0.007746125000000159,
          0.008998749999999944,
          0.007659625000000059,
          0.007509665999999804,
          0.006986833999999664,
          0.00675062500000001,
          0.007040707999999896,
          0.0068707500000000366,
          0.007206416000000271,
          0.00884462500000005,
          0.007343209000000073,
          0.008587166999999951,
          0.007394208000000013,
          0.008483583000000294,
          0.00835087500000009,
          0.00848595899999971,
          0.007639957999999947,
          0.008767999999999887,
          0.011790500000000037,
          0.011016625000000335,
          0.01231458399999985,
          0.010183834000000225,
          0.016481250000000003,
          0.007856000000000307,
          0.008631208000000168,
          0.008172500000000138,
          0.00834579199999963,
          0.008073875000000008,
          0.013297624999999869,
          0.008888666999999906,
          0.008671749999999978,
          0.008275709000000298,
          0.007886291999999795,
          0.011217750000000137,
          0.015623167000000215,
          0.012422915999999784,
          0.009972166000000282,
          0.009962041000000088,
          0.010460249999999949,
          0.009507709000000197,
          0.010204208000000214,
          0.010236750000000239,
          0.010454874999999753,
          0.010465792000000196,
          0.013370915999999955,
          0.011432749999999992,
          0.010431874999999868,
          0.010739250000000089,
          0.020138291999999947,
          0.00005504099999997791,
          0.35226316700000004
         ],
         "xaxis": "x",
         "y": [
          "TRIP_SEGMENTATION/create_places_and_trips",
          "TRIP_SEGMENTATION/segment_into_trips",
          "TRIP_SEGMENTATION/segment_into_trips_time/loop",
          "TRIP_SEGMENTATION/segment_into_trips_time/has_trip_ended",
          "TRIP_SEGMENTATION/segment_into_trips_time/has_trip_ended",
          "TRIP_SEGMENTATION/segment_into_trips_time/has_trip_ended",
          "TRIP_SEGMENTATION/segment_into_trips_time/has_trip_ended",
          "TRIP_SEGMENTATION/segment_into_trips_time/has_trip_ended",
          "TRIP_SEGMENTATION/segment_into_trips_time/has_trip_ended",
          "TRIP_SEGMENTATION/segment_into_trips_time/has_trip_ended",
          "TRIP_SEGMENTATION/segment_into_trips_time/has_trip_ended",
          "TRIP_SEGMENTATION/segment_into_trips_time/has_trip_ended",
          "TRIP_SEGMENTATION/segment_into_trips_time/has_trip_ended",
          "TRIP_SEGMENTATION/segment_into_trips_time/has_trip_ended",
          "TRIP_SEGMENTATION/segment_into_trips_time/has_trip_ended",
          "TRIP_SEGMENTATION/segment_into_trips_time/has_trip_ended",
          "TRIP_SEGMENTATION/segment_into_trips_time/has_trip_ended",
          "TRIP_SEGMENTATION/segment_into_trips_time/has_trip_ended",
          "TRIP_SEGMENTATION/segment_into_trips_time/has_trip_ended",
          "TRIP_SEGMENTATION/segment_into_trips_time/has_trip_ended",
          "TRIP_SEGMENTATION/segment_into_trips_time/has_trip_ended",
          "TRIP_SEGMENTATION/segment_into_trips_time/has_trip_ended",
          "TRIP_SEGMENTATION/segment_into_trips_time/has_trip_ended",
          "TRIP_SEGMENTATION/segment_into_trips_time/has_trip_ended",
          "TRIP_SEGMENTATION/segment_into_trips_time/has_trip_ended",
          "TRIP_SEGMENTATION/segment_into_trips_time/has_trip_ended",
          "TRIP_SEGMENTATION/segment_into_trips_time/has_trip_ended",
          "TRIP_SEGMENTATION/segment_into_trips_time/has_trip_ended",
          "TRIP_SEGMENTATION/segment_into_trips_time/has_trip_ended",
          "TRIP_SEGMENTATION/segment_into_trips_time/has_trip_ended",
          "TRIP_SEGMENTATION/segment_into_trips_time/has_trip_ended",
          "TRIP_SEGMENTATION/segment_into_trips_time/has_trip_ended",
          "TRIP_SEGMENTATION/segment_into_trips_time/has_trip_ended",
          "TRIP_SEGMENTATION/segment_into_trips_time/has_trip_ended",
          "TRIP_SEGMENTATION/segment_into_trips_time/has_trip_ended",
          "TRIP_SEGMENTATION/segment_into_trips_time/has_trip_ended",
          "TRIP_SEGMENTATION/segment_into_trips_time/has_trip_ended",
          "TRIP_SEGMENTATION/segment_into_trips_time/has_trip_ended",
          "TRIP_SEGMENTATION/segment_into_trips_time/has_trip_ended",
          "TRIP_SEGMENTATION/segment_into_trips_time/has_trip_ended",
          "TRIP_SEGMENTATION/segment_into_trips_time/has_trip_ended",
          "TRIP_SEGMENTATION/segment_into_trips_time/has_trip_ended",
          "TRIP_SEGMENTATION/segment_into_trips_time/has_trip_ended",
          "TRIP_SEGMENTATION/segment_into_trips_time/has_trip_ended",
          "TRIP_SEGMENTATION/segment_into_trips_time/has_trip_ended",
          "TRIP_SEGMENTATION/segment_into_trips_time/has_trip_ended",
          "TRIP_SEGMENTATION/segment_into_trips_time/has_trip_ended",
          "TRIP_SEGMENTATION/segment_into_trips_time/has_trip_ended",
          "TRIP_SEGMENTATION/segment_into_trips_time/has_trip_ended",
          "TRIP_SEGMENTATION/segment_into_trips_time/has_trip_ended",
          "TRIP_SEGMENTATION/segment_into_trips_time/has_trip_ended",
          "TRIP_SEGMENTATION/segment_into_trips_time/has_trip_ended",
          "TRIP_SEGMENTATION/segment_into_trips_time/has_trip_ended",
          "TRIP_SEGMENTATION/segment_into_trips_time/has_trip_ended",
          "TRIP_SEGMENTATION/segment_into_trips_time/has_trip_ended",
          "TRIP_SEGMENTATION/segment_into_trips_time/has_trip_ended",
          "TRIP_SEGMENTATION/segment_into_trips_time/has_trip_ended",
          "TRIP_SEGMENTATION/segment_into_trips_time/has_trip_ended",
          "TRIP_SEGMENTATION/segment_into_trips_time/has_trip_ended",
          "TRIP_SEGMENTATION/segment_into_trips_time/has_trip_ended",
          "TRIP_SEGMENTATION/segment_into_trips_time/has_trip_ended",
          "TRIP_SEGMENTATION/segment_into_trips_time/has_trip_ended",
          "TRIP_SEGMENTATION/segment_into_trips_time/has_trip_ended",
          "TRIP_SEGMENTATION/segment_into_trips_time/has_trip_ended",
          "TRIP_SEGMENTATION/segment_into_trips_time/has_trip_ended",
          "TRIP_SEGMENTATION/segment_into_trips_time/has_trip_ended",
          "TRIP_SEGMENTATION/segment_into_trips_time/has_trip_ended",
          "TRIP_SEGMENTATION/segment_into_trips_time/has_trip_ended",
          "TRIP_SEGMENTATION/segment_into_trips_time/has_trip_ended",
          "TRIP_SEGMENTATION/segment_into_trips_time/has_trip_ended",
          "TRIP_SEGMENTATION/segment_into_trips_time/has_trip_ended",
          "TRIP_SEGMENTATION/segment_into_trips_time/has_trip_ended",
          "TRIP_SEGMENTATION/segment_into_trips_time/has_trip_ended",
          "TRIP_SEGMENTATION/segment_into_trips_time/has_trip_ended",
          "TRIP_SEGMENTATION/segment_into_trips_time/has_trip_ended",
          "TRIP_SEGMENTATION/segment_into_trips_time/has_trip_ended",
          "TRIP_SEGMENTATION/segment_into_trips_time/has_trip_ended",
          "TRIP_SEGMENTATION/segment_into_trips_time/has_trip_ended",
          "TRIP_SEGMENTATION/segment_into_trips_time/has_trip_ended",
          "TRIP_SEGMENTATION/segment_into_trips_time/has_trip_ended",
          "TRIP_SEGMENTATION/segment_into_trips_time/has_trip_ended",
          "TRIP_SEGMENTATION/segment_into_trips_time/has_trip_ended",
          "TRIP_SEGMENTATION/segment_into_trips_time/has_trip_ended",
          "TRIP_SEGMENTATION/segment_into_trips_time/has_trip_ended",
          "TRIP_SEGMENTATION/segment_into_trips_time/has_trip_ended",
          "TRIP_SEGMENTATION/segment_into_trips_time/has_trip_ended",
          "TRIP_SEGMENTATION/segment_into_trips_time/has_trip_ended",
          "TRIP_SEGMENTATION/segment_into_trips_time/has_trip_ended",
          "TRIP_SEGMENTATION/segment_into_trips_time/has_trip_ended",
          "TRIP_SEGMENTATION/segment_into_trips_time/has_trip_ended",
          "TRIP_SEGMENTATION/segment_into_trips_time/has_trip_ended",
          "TRIP_SEGMENTATION/segment_into_trips_time/has_trip_ended",
          "TRIP_SEGMENTATION/segment_into_trips_time/has_trip_ended",
          "TRIP_SEGMENTATION/segment_into_trips_time/has_trip_ended",
          "TRIP_SEGMENTATION/segment_into_trips_time/has_trip_ended",
          "TRIP_SEGMENTATION/segment_into_trips_time/has_trip_ended",
          "TRIP_SEGMENTATION/segment_into_trips_time/has_trip_ended",
          "TRIP_SEGMENTATION/segment_into_trips_time/has_trip_ended",
          "TRIP_SEGMENTATION/segment_into_trips_time/has_trip_ended",
          "TRIP_SEGMENTATION/segment_into_trips_time/has_trip_ended",
          "TRIP_SEGMENTATION/segment_into_trips_time/has_trip_ended",
          "TRIP_SEGMENTATION/segment_into_trips_time/has_trip_ended",
          "TRIP_SEGMENTATION/segment_into_trips_time/has_trip_ended",
          "TRIP_SEGMENTATION/segment_into_trips_time/has_trip_ended",
          "TRIP_SEGMENTATION/segment_into_trips_time/has_trip_ended",
          "TRIP_SEGMENTATION/segment_into_trips_time/has_trip_ended",
          "TRIP_SEGMENTATION/segment_into_trips_time/has_trip_ended",
          "TRIP_SEGMENTATION/segment_into_trips_time/has_trip_ended",
          "TRIP_SEGMENTATION/segment_into_trips_time/has_trip_ended",
          "TRIP_SEGMENTATION/segment_into_trips_time/has_trip_ended",
          "TRIP_SEGMENTATION/segment_into_trips_time/has_trip_ended",
          "TRIP_SEGMENTATION/segment_into_trips_time/has_trip_ended",
          "TRIP_SEGMENTATION/segment_into_trips_time/has_trip_ended",
          "TRIP_SEGMENTATION/segment_into_trips_time/has_trip_ended",
          "TRIP_SEGMENTATION/segment_into_trips_time/has_trip_ended",
          "TRIP_SEGMENTATION/segment_into_trips_time/has_trip_ended",
          "TRIP_SEGMENTATION/segment_into_trips_time/has_trip_ended",
          "TRIP_SEGMENTATION/segment_into_trips_time/has_trip_ended",
          "TRIP_SEGMENTATION/segment_into_trips_time/has_trip_ended",
          "TRIP_SEGMENTATION/segment_into_trips_time/has_trip_ended",
          "TRIP_SEGMENTATION/segment_into_trips_time/has_trip_ended",
          "TRIP_SEGMENTATION/segment_into_trips_time/has_trip_ended",
          "TRIP_SEGMENTATION/segment_into_trips_time/has_trip_ended",
          "TRIP_SEGMENTATION/segment_into_trips_time/has_trip_ended",
          "TRIP_SEGMENTATION/segment_into_trips_time/has_trip_ended",
          "TRIP_SEGMENTATION/segment_into_trips_time/has_trip_ended",
          "TRIP_SEGMENTATION/segment_into_trips_time/has_trip_ended",
          "TRIP_SEGMENTATION/segment_into_trips_time/has_trip_ended",
          "TRIP_SEGMENTATION/segment_into_trips_time/has_trip_ended",
          "TRIP_SEGMENTATION/segment_into_trips_time/has_trip_ended",
          "TRIP_SEGMENTATION/segment_into_trips_time/has_trip_ended",
          "TRIP_SEGMENTATION/segment_into_trips_time/has_trip_ended",
          "TRIP_SEGMENTATION/segment_into_trips_time/has_trip_ended",
          "TRIP_SEGMENTATION/segment_into_trips_time/has_trip_ended",
          "TRIP_SEGMENTATION/segment_into_trips_time/has_trip_ended",
          "TRIP_SEGMENTATION/segment_into_trips_time/has_trip_ended",
          "TRIP_SEGMENTATION/segment_into_trips_time/has_trip_ended",
          "TRIP_SEGMENTATION/segment_into_trips_time/has_trip_ended",
          "TRIP_SEGMENTATION/segment_into_trips_time/has_trip_ended",
          "TRIP_SEGMENTATION/segment_into_trips_time/has_trip_ended",
          "TRIP_SEGMENTATION/segment_into_trips_time/has_trip_ended",
          "TRIP_SEGMENTATION/segment_into_trips_time/has_trip_ended",
          "TRIP_SEGMENTATION/segment_into_trips_time/has_trip_ended",
          "TRIP_SEGMENTATION/segment_into_trips_time/has_trip_ended",
          "TRIP_SEGMENTATION/segment_into_trips_time/has_trip_ended",
          "TRIP_SEGMENTATION/segment_into_trips_time/has_trip_ended",
          "TRIP_SEGMENTATION/segment_into_trips_time/has_trip_ended",
          "TRIP_SEGMENTATION/segment_into_trips_time/has_trip_ended",
          "TRIP_SEGMENTATION/segment_into_trips_time/has_trip_ended",
          "TRIP_SEGMENTATION/segment_into_trips_time/has_trip_ended",
          "TRIP_SEGMENTATION/segment_into_trips_time/has_trip_ended",
          "TRIP_SEGMENTATION/segment_into_trips_time/has_trip_ended",
          "TRIP_SEGMENTATION/segment_into_trips_time/has_trip_ended",
          "TRIP_SEGMENTATION/segment_into_trips_time/has_trip_ended",
          "TRIP_SEGMENTATION/segment_into_trips_time/has_trip_ended",
          "TRIP_SEGMENTATION/segment_into_trips_time/has_trip_ended",
          "TRIP_SEGMENTATION/segment_into_trips_time/has_trip_ended",
          "TRIP_SEGMENTATION/segment_into_trips_time/has_trip_ended",
          "TRIP_SEGMENTATION/segment_into_trips_time/has_trip_ended",
          "TRIP_SEGMENTATION/segment_into_trips_time/has_trip_ended",
          "TRIP_SEGMENTATION/segment_into_trips_time/has_trip_ended",
          "TRIP_SEGMENTATION/segment_into_trips_time/has_trip_ended",
          "TRIP_SEGMENTATION/segment_into_trips_time/has_trip_ended",
          "TRIP_SEGMENTATION/segment_into_trips_time/has_trip_ended",
          "TRIP_SEGMENTATION/segment_into_trips_time/has_trip_ended",
          "TRIP_SEGMENTATION/segment_into_trips_time/has_trip_ended",
          "TRIP_SEGMENTATION/segment_into_trips_time/has_trip_ended",
          "TRIP_SEGMENTATION/segment_into_trips_time/has_trip_ended",
          "TRIP_SEGMENTATION/segment_into_trips_time/has_trip_ended",
          "TRIP_SEGMENTATION/segment_into_trips_time/has_trip_ended",
          "TRIP_SEGMENTATION/segment_into_trips_time/has_trip_ended",
          "TRIP_SEGMENTATION/segment_into_trips_time/has_trip_ended",
          "TRIP_SEGMENTATION/segment_into_trips_time/has_trip_ended",
          "TRIP_SEGMENTATION/segment_into_trips_time/has_trip_ended",
          "TRIP_SEGMENTATION/segment_into_trips_time/has_trip_ended",
          "TRIP_SEGMENTATION/segment_into_trips_time/has_trip_ended",
          "TRIP_SEGMENTATION/segment_into_trips_time/has_trip_ended",
          "TRIP_SEGMENTATION/segment_into_trips_time/has_trip_ended",
          "TRIP_SEGMENTATION/segment_into_trips_time/has_trip_ended",
          "TRIP_SEGMENTATION/segment_into_trips_time/has_trip_ended",
          "TRIP_SEGMENTATION/segment_into_trips_time/has_trip_ended",
          "TRIP_SEGMENTATION/segment_into_trips_time/has_trip_ended",
          "TRIP_SEGMENTATION/segment_into_trips_time/has_trip_ended",
          "TRIP_SEGMENTATION/segment_into_trips_time/has_trip_ended",
          "TRIP_SEGMENTATION/segment_into_trips_time/has_trip_ended",
          "TRIP_SEGMENTATION/segment_into_trips_time/has_trip_ended",
          "TRIP_SEGMENTATION/segment_into_trips_time/has_trip_ended",
          "TRIP_SEGMENTATION/segment_into_trips_time/has_trip_ended",
          "TRIP_SEGMENTATION/segment_into_trips_time/has_trip_ended",
          "TRIP_SEGMENTATION/segment_into_trips_time/has_trip_ended",
          "TRIP_SEGMENTATION/segment_into_trips_time/has_trip_ended",
          "TRIP_SEGMENTATION/segment_into_trips_time/has_trip_ended",
          "TRIP_SEGMENTATION/segment_into_trips_time/has_trip_ended",
          "TRIP_SEGMENTATION/segment_into_trips_time/has_trip_ended",
          "TRIP_SEGMENTATION/segment_into_trips_time/has_trip_ended",
          "TRIP_SEGMENTATION/segment_into_trips_time/has_trip_ended",
          "TRIP_SEGMENTATION/segment_into_trips_time/has_trip_ended",
          "TRIP_SEGMENTATION/segment_into_trips_time/has_trip_ended",
          "TRIP_SEGMENTATION/segment_into_trips_time/has_trip_ended",
          "TRIP_SEGMENTATION/segment_into_trips_time/has_trip_ended",
          "TRIP_SEGMENTATION/segment_into_trips_time/has_trip_ended",
          "TRIP_SEGMENTATION/segment_into_trips_time/has_trip_ended",
          "TRIP_SEGMENTATION/segment_into_trips_time/has_trip_ended",
          "TRIP_SEGMENTATION/segment_into_trips_time/has_trip_ended",
          "TRIP_SEGMENTATION/segment_into_trips_time/has_trip_ended",
          "TRIP_SEGMENTATION/segment_into_trips_time/has_trip_ended",
          "TRIP_SEGMENTATION/segment_into_trips_time/has_trip_ended",
          "TRIP_SEGMENTATION/segment_into_trips_time/has_trip_ended",
          "TRIP_SEGMENTATION/segment_into_trips_time/has_trip_ended",
          "TRIP_SEGMENTATION/segment_into_trips_time/has_trip_ended",
          "TRIP_SEGMENTATION/segment_into_trips_time/has_trip_ended",
          "TRIP_SEGMENTATION/segment_into_trips_time/has_trip_ended",
          "TRIP_SEGMENTATION/segment_into_trips_time/has_trip_ended",
          "TRIP_SEGMENTATION/segment_into_trips_time/has_trip_ended",
          "TRIP_SEGMENTATION/segment_into_trips_time/has_trip_ended",
          "TRIP_SEGMENTATION/segment_into_trips_time/has_trip_ended",
          "TRIP_SEGMENTATION/segment_into_trips_time/has_trip_ended",
          "TRIP_SEGMENTATION/segment_into_trips_time/has_trip_ended",
          "TRIP_SEGMENTATION/segment_into_trips_time/has_trip_ended",
          "TRIP_SEGMENTATION/segment_into_trips_time/has_trip_ended",
          "TRIP_SEGMENTATION/segment_into_trips_time/has_trip_ended",
          "TRIP_SEGMENTATION/segment_into_trips_time/has_trip_ended",
          "TRIP_SEGMENTATION/segment_into_trips_time/has_trip_ended",
          "TRIP_SEGMENTATION/segment_into_trips_time/has_trip_ended",
          "TRIP_SEGMENTATION/segment_into_trips_time/has_trip_ended",
          "TRIP_SEGMENTATION/segment_into_trips_time/has_trip_ended",
          "TRIP_SEGMENTATION/segment_into_trips_time/has_trip_ended",
          "TRIP_SEGMENTATION/segment_into_trips_time/has_trip_ended",
          "TRIP_SEGMENTATION/segment_into_trips_time/has_trip_ended",
          "TRIP_SEGMENTATION/segment_into_trips_time/has_trip_ended",
          "TRIP_SEGMENTATION/segment_into_trips_time/has_trip_ended",
          "TRIP_SEGMENTATION/segment_into_trips_time/has_trip_ended",
          "TRIP_SEGMENTATION/segment_into_trips_time/has_trip_ended",
          "TRIP_SEGMENTATION/segment_into_trips_time/has_trip_ended",
          "TRIP_SEGMENTATION/segment_into_trips_time/has_trip_ended",
          "TRIP_SEGMENTATION/segment_into_trips_time/has_trip_ended",
          "TRIP_SEGMENTATION/segment_into_trips_time/has_trip_ended",
          "TRIP_SEGMENTATION/segment_into_trips_time/has_trip_ended",
          "TRIP_SEGMENTATION/segment_into_trips_time/has_trip_ended",
          "TRIP_SEGMENTATION/segment_into_trips_time/has_trip_ended",
          "TRIP_SEGMENTATION/segment_into_trips_time/has_trip_ended",
          "TRIP_SEGMENTATION/segment_into_trips_time/has_trip_ended",
          "TRIP_SEGMENTATION/segment_into_trips_time/has_trip_ended",
          "TRIP_SEGMENTATION/segment_into_trips_time/has_trip_ended",
          "TRIP_SEGMENTATION/segment_into_trips_time/has_trip_ended",
          "TRIP_SEGMENTATION/segment_into_trips_time/has_trip_ended",
          "TRIP_SEGMENTATION/segment_into_trips_time/has_trip_ended",
          "TRIP_SEGMENTATION/segment_into_trips_time/has_trip_ended",
          "TRIP_SEGMENTATION/segment_into_trips_time/has_trip_ended",
          "TRIP_SEGMENTATION/segment_into_trips_time/has_trip_ended",
          "TRIP_SEGMENTATION/segment_into_trips_time/has_trip_ended",
          "TRIP_SEGMENTATION/segment_into_trips_time/has_trip_ended",
          "TRIP_SEGMENTATION/segment_into_trips_time/has_trip_ended",
          "TRIP_SEGMENTATION/segment_into_trips_time/has_trip_ended",
          "TRIP_SEGMENTATION/segment_into_trips_time/has_trip_ended",
          "TRIP_SEGMENTATION/segment_into_trips_time/has_trip_ended",
          "TRIP_SEGMENTATION/segment_into_trips_time/has_trip_ended",
          "TRIP_SEGMENTATION/segment_into_trips_time/has_trip_ended",
          "TRIP_SEGMENTATION/segment_into_trips_time/has_trip_ended",
          "TRIP_SEGMENTATION/segment_into_trips_time/has_trip_ended",
          "TRIP_SEGMENTATION/segment_into_trips_time/has_trip_ended",
          "TRIP_SEGMENTATION/segment_into_trips_time/has_trip_ended",
          "TRIP_SEGMENTATION/segment_into_trips_time/has_trip_ended",
          "TRIP_SEGMENTATION/segment_into_trips_time/has_trip_ended",
          "TRIP_SEGMENTATION/segment_into_trips_time/has_trip_ended",
          "TRIP_SEGMENTATION/segment_into_trips_time/has_trip_ended",
          "TRIP_SEGMENTATION/segment_into_trips_time/has_trip_ended",
          "TRIP_SEGMENTATION/segment_into_trips_time/has_trip_ended",
          "TRIP_SEGMENTATION/segment_into_trips_time/has_trip_ended",
          "TRIP_SEGMENTATION/segment_into_trips_time/has_trip_ended",
          "TRIP_SEGMENTATION/segment_into_trips_time/has_trip_ended",
          "TRIP_SEGMENTATION/segment_into_trips_time/has_trip_ended",
          "TRIP_SEGMENTATION/segment_into_trips_time/has_trip_ended",
          "TRIP_SEGMENTATION/segment_into_trips_time/has_trip_ended",
          "TRIP_SEGMENTATION/segment_into_trips_time/has_trip_ended",
          "TRIP_SEGMENTATION/segment_into_trips_time/has_trip_ended",
          "TRIP_SEGMENTATION/segment_into_trips_time/has_trip_ended",
          "TRIP_SEGMENTATION/segment_into_trips_time/has_trip_ended",
          "TRIP_SEGMENTATION/segment_into_trips_time/has_trip_ended",
          "TRIP_SEGMENTATION/segment_into_trips_time/has_trip_ended",
          "TRIP_SEGMENTATION/segment_into_trips_time/has_trip_ended",
          "TRIP_SEGMENTATION/segment_into_trips_time/has_trip_ended",
          "TRIP_SEGMENTATION/segment_into_trips_time/has_trip_ended",
          "TRIP_SEGMENTATION/segment_into_trips_time/has_trip_ended",
          "TRIP_SEGMENTATION/segment_into_trips_time/has_trip_ended",
          "TRIP_SEGMENTATION/segment_into_trips_time/has_trip_ended",
          "TRIP_SEGMENTATION/segment_into_trips_time/has_trip_ended",
          "TRIP_SEGMENTATION/segment_into_trips_time/has_trip_ended",
          "TRIP_SEGMENTATION/segment_into_trips_time/has_trip_ended",
          "TRIP_SEGMENTATION/segment_into_trips_time/has_trip_ended",
          "TRIP_SEGMENTATION/segment_into_trips_time/has_trip_ended",
          "TRIP_SEGMENTATION/segment_into_trips_time/has_trip_ended",
          "TRIP_SEGMENTATION/segment_into_trips_time/has_trip_ended",
          "TRIP_SEGMENTATION/segment_into_trips_time/has_trip_ended",
          "TRIP_SEGMENTATION/segment_into_trips_time/has_trip_ended",
          "TRIP_SEGMENTATION/segment_into_trips_time/has_trip_ended",
          "TRIP_SEGMENTATION/segment_into_trips_time/has_trip_ended",
          "TRIP_SEGMENTATION/segment_into_trips_time/has_trip_ended",
          "TRIP_SEGMENTATION/segment_into_trips_time/has_trip_ended",
          "TRIP_SEGMENTATION/segment_into_trips_time/has_trip_ended",
          "TRIP_SEGMENTATION/segment_into_trips_time/has_trip_ended",
          "TRIP_SEGMENTATION/segment_into_trips_time/has_trip_ended",
          "TRIP_SEGMENTATION/segment_into_trips_time/has_trip_ended",
          "TRIP_SEGMENTATION/segment_into_trips_time/has_trip_ended",
          "TRIP_SEGMENTATION/segment_into_trips_time/has_trip_ended",
          "TRIP_SEGMENTATION/segment_into_trips_time/has_trip_ended",
          "TRIP_SEGMENTATION/segment_into_trips_time/has_trip_ended",
          "TRIP_SEGMENTATION/segment_into_trips_time/has_trip_ended",
          "TRIP_SEGMENTATION/segment_into_trips_time/has_trip_ended",
          "TRIP_SEGMENTATION/segment_into_trips_time/has_trip_ended",
          "TRIP_SEGMENTATION/segment_into_trips_time/has_trip_ended",
          "TRIP_SEGMENTATION/segment_into_trips_time/has_trip_ended",
          "TRIP_SEGMENTATION/segment_into_trips_time/has_trip_ended",
          "TRIP_SEGMENTATION/segment_into_trips_time/has_trip_ended",
          "TRIP_SEGMENTATION/segment_into_trips_time/has_trip_ended",
          "TRIP_SEGMENTATION/segment_into_trips_time/has_trip_ended",
          "TRIP_SEGMENTATION/segment_into_trips_time/has_trip_ended",
          "TRIP_SEGMENTATION/segment_into_trips_time/has_trip_ended",
          "TRIP_SEGMENTATION/segment_into_trips_time/has_trip_ended",
          "TRIP_SEGMENTATION/segment_into_trips_time/has_trip_ended",
          "TRIP_SEGMENTATION/segment_into_trips_time/has_trip_ended",
          "TRIP_SEGMENTATION/segment_into_trips_time/has_trip_ended",
          "TRIP_SEGMENTATION/segment_into_trips_time/has_trip_ended",
          "TRIP_SEGMENTATION/segment_into_trips_time/has_trip_ended",
          "TRIP_SEGMENTATION/segment_into_trips_time/has_trip_ended",
          "TRIP_SEGMENTATION/segment_into_trips_time/has_trip_ended",
          "TRIP_SEGMENTATION/segment_into_trips_time/has_trip_ended",
          "TRIP_SEGMENTATION/segment_into_trips_time/has_trip_ended",
          "TRIP_SEGMENTATION/segment_into_trips_time/has_trip_ended",
          "TRIP_SEGMENTATION/segment_into_trips_time/has_trip_ended",
          "TRIP_SEGMENTATION/segment_into_trips_time/has_trip_ended",
          "TRIP_SEGMENTATION/segment_into_trips_time/has_trip_ended",
          "TRIP_SEGMENTATION/segment_into_trips_time/has_trip_ended",
          "TRIP_SEGMENTATION/segment_into_trips_time/has_trip_ended",
          "TRIP_SEGMENTATION/segment_into_trips_time/has_trip_ended",
          "TRIP_SEGMENTATION/segment_into_trips_time/has_trip_ended",
          "TRIP_SEGMENTATION/segment_into_trips_time/has_trip_ended",
          "TRIP_SEGMENTATION/segment_into_trips_time/has_trip_ended",
          "TRIP_SEGMENTATION/segment_into_trips_time/has_trip_ended",
          "TRIP_SEGMENTATION/segment_into_trips_time/has_trip_ended",
          "TRIP_SEGMENTATION/segment_into_trips_time/has_trip_ended",
          "TRIP_SEGMENTATION/segment_into_trips_time/has_trip_ended",
          "TRIP_SEGMENTATION/segment_into_trips_time/has_trip_ended",
          "TRIP_SEGMENTATION/segment_into_trips_time/has_trip_ended",
          "TRIP_SEGMENTATION/segment_into_trips_time/has_trip_ended",
          "TRIP_SEGMENTATION/segment_into_trips_time/has_trip_ended",
          "TRIP_SEGMENTATION/segment_into_trips_time/has_trip_ended",
          "TRIP_SEGMENTATION/segment_into_trips_time/has_trip_ended",
          "TRIP_SEGMENTATION/segment_into_trips_time/has_trip_ended",
          "TRIP_SEGMENTATION/segment_into_trips_time/has_trip_ended",
          "TRIP_SEGMENTATION/segment_into_trips_time/has_trip_ended",
          "TRIP_SEGMENTATION/segment_into_trips_time/has_trip_ended",
          "TRIP_SEGMENTATION/segment_into_trips_time/has_trip_ended",
          "TRIP_SEGMENTATION/segment_into_trips_time/has_trip_ended",
          "TRIP_SEGMENTATION/segment_into_trips_time/has_trip_ended",
          "TRIP_SEGMENTATION/segment_into_trips_time/has_trip_ended",
          "TRIP_SEGMENTATION/segment_into_trips_time/has_trip_ended",
          "TRIP_SEGMENTATION/segment_into_trips_time/has_trip_ended",
          "TRIP_SEGMENTATION/segment_into_trips_time/has_trip_ended",
          "TRIP_SEGMENTATION/segment_into_trips_time/has_trip_ended",
          "TRIP_SEGMENTATION/segment_into_trips_time/has_trip_ended",
          "TRIP_SEGMENTATION/segment_into_trips_time/has_trip_ended",
          "TRIP_SEGMENTATION/segment_into_trips_time/has_trip_ended",
          "TRIP_SEGMENTATION/segment_into_trips_time/has_trip_ended",
          "TRIP_SEGMENTATION/segment_into_trips_time/has_trip_ended",
          "TRIP_SEGMENTATION/segment_into_trips_time/has_trip_ended",
          "TRIP_SEGMENTATION/segment_into_trips_time/has_trip_ended",
          "TRIP_SEGMENTATION/segment_into_trips_time/has_trip_ended",
          "TRIP_SEGMENTATION/segment_into_trips_time/has_trip_ended",
          "TRIP_SEGMENTATION/segment_into_trips_time/has_trip_ended",
          "TRIP_SEGMENTATION/segment_into_trips_time/has_trip_ended",
          "TRIP_SEGMENTATION/segment_into_trips_time/has_trip_ended",
          "TRIP_SEGMENTATION/segment_into_trips_time/has_trip_ended",
          "TRIP_SEGMENTATION/segment_into_trips_time/has_trip_ended",
          "TRIP_SEGMENTATION/segment_into_trips_time/has_trip_ended",
          "TRIP_SEGMENTATION/segment_into_trips_time/has_trip_ended",
          "TRIP_SEGMENTATION/segment_into_trips_time/has_trip_ended",
          "TRIP_SEGMENTATION/segment_into_trips_time/has_trip_ended",
          "TRIP_SEGMENTATION/segment_into_trips_time/has_trip_ended",
          "TRIP_SEGMENTATION/segment_into_trips_time/has_trip_ended",
          "TRIP_SEGMENTATION/segment_into_trips_time/has_trip_ended",
          "TRIP_SEGMENTATION/segment_into_trips_time/has_trip_ended",
          "TRIP_SEGMENTATION/segment_into_trips_time/has_trip_ended",
          "TRIP_SEGMENTATION/segment_into_trips_time/has_trip_ended",
          "TRIP_SEGMENTATION/segment_into_trips_time/has_trip_ended",
          "TRIP_SEGMENTATION/segment_into_trips_time/has_trip_ended",
          "TRIP_SEGMENTATION/segment_into_trips_time/has_trip_ended",
          "TRIP_SEGMENTATION/segment_into_trips_time/has_trip_ended",
          "TRIP_SEGMENTATION/segment_into_trips_time/has_trip_ended",
          "TRIP_SEGMENTATION/segment_into_trips_time/has_trip_ended",
          "TRIP_SEGMENTATION/segment_into_trips_time/has_trip_ended",
          "TRIP_SEGMENTATION/segment_into_trips_time/has_trip_ended",
          "TRIP_SEGMENTATION/segment_into_trips_time/has_trip_ended",
          "TRIP_SEGMENTATION/segment_into_trips_time/has_trip_ended",
          "TRIP_SEGMENTATION/segment_into_trips_time/has_trip_ended",
          "TRIP_SEGMENTATION/segment_into_trips_time/has_trip_ended",
          "TRIP_SEGMENTATION/segment_into_trips_time/has_trip_ended",
          "TRIP_SEGMENTATION/segment_into_trips_time/has_trip_ended",
          "TRIP_SEGMENTATION/segment_into_trips_time/has_trip_ended",
          "TRIP_SEGMENTATION/segment_into_trips_time/has_trip_ended",
          "TRIP_SEGMENTATION/segment_into_trips_time/has_trip_ended",
          "TRIP_SEGMENTATION/segment_into_trips_time/has_trip_ended",
          "TRIP_SEGMENTATION/segment_into_trips_time/has_trip_ended",
          "TRIP_SEGMENTATION/segment_into_trips_time/has_trip_ended",
          "TRIP_SEGMENTATION/segment_into_trips_time/has_trip_ended",
          "TRIP_SEGMENTATION/segment_into_trips_time/has_trip_ended",
          "TRIP_SEGMENTATION/segment_into_trips_time/has_trip_ended",
          "TRIP_SEGMENTATION/segment_into_trips_time/has_trip_ended",
          "TRIP_SEGMENTATION/segment_into_trips_time/has_trip_ended",
          "TRIP_SEGMENTATION/segment_into_trips_time/has_trip_ended",
          "TRIP_SEGMENTATION/segment_into_trips_time/has_trip_ended",
          "TRIP_SEGMENTATION/segment_into_trips_time/has_trip_ended",
          "TRIP_SEGMENTATION/segment_into_trips_time/has_trip_ended",
          "TRIP_SEGMENTATION/segment_into_trips_time/has_trip_ended",
          "TRIP_SEGMENTATION/segment_into_trips_time/has_trip_ended",
          "TRIP_SEGMENTATION/segment_into_trips_time/has_trip_ended",
          "TRIP_SEGMENTATION/segment_into_trips_time/has_trip_ended",
          "TRIP_SEGMENTATION/segment_into_trips_time/has_trip_ended",
          "TRIP_SEGMENTATION/segment_into_trips_time/has_trip_ended",
          "TRIP_SEGMENTATION/segment_into_trips_time/has_trip_ended",
          "TRIP_SEGMENTATION/segment_into_trips_time/has_trip_ended",
          "TRIP_SEGMENTATION/segment_into_trips_time/has_trip_ended",
          "TRIP_SEGMENTATION/segment_into_trips_time/has_trip_ended",
          "TRIP_SEGMENTATION/segment_into_trips_time/has_trip_ended",
          "TRIP_SEGMENTATION/segment_into_trips_time/has_trip_ended",
          "TRIP_SEGMENTATION/segment_into_trips_time/has_trip_ended",
          "TRIP_SEGMENTATION/segment_into_trips_time/has_trip_ended",
          "TRIP_SEGMENTATION/segment_into_trips_time/has_trip_ended",
          "TRIP_SEGMENTATION/segment_into_trips_time/has_trip_ended",
          "TRIP_SEGMENTATION/segment_into_trips_time/has_trip_ended",
          "TRIP_SEGMENTATION/segment_into_trips_time/has_trip_ended",
          "TRIP_SEGMENTATION/segment_into_trips_time/has_trip_ended",
          "TRIP_SEGMENTATION/segment_into_trips_time/has_trip_ended",
          "TRIP_SEGMENTATION/segment_into_trips_time/has_trip_ended",
          "TRIP_SEGMENTATION/segment_into_trips_time/has_trip_ended",
          "TRIP_SEGMENTATION/segment_into_trips_time/has_trip_ended",
          "TRIP_SEGMENTATION/segment_into_trips_time/has_trip_ended",
          "TRIP_SEGMENTATION/segment_into_trips_time/has_trip_ended",
          "TRIP_SEGMENTATION/segment_into_trips_time/has_trip_ended",
          "TRIP_SEGMENTATION/segment_into_trips_time/has_trip_ended",
          "TRIP_SEGMENTATION/segment_into_trips_time/has_trip_ended",
          "TRIP_SEGMENTATION/segment_into_trips_time/has_trip_ended",
          "TRIP_SEGMENTATION/segment_into_trips_time/has_trip_ended",
          "TRIP_SEGMENTATION/segment_into_trips_time/has_trip_ended",
          "TRIP_SEGMENTATION/segment_into_trips_time/has_trip_ended",
          "TRIP_SEGMENTATION/segment_into_trips_time/has_trip_ended",
          "TRIP_SEGMENTATION/segment_into_trips_time/has_trip_ended",
          "TRIP_SEGMENTATION/segment_into_trips_time/has_trip_ended",
          "TRIP_SEGMENTATION/segment_into_trips_time/has_trip_ended",
          "TRIP_SEGMENTATION/segment_into_trips_time/has_trip_ended",
          "TRIP_SEGMENTATION/segment_into_trips_time/has_trip_ended",
          "TRIP_SEGMENTATION/segment_into_trips_time/has_trip_ended",
          "TRIP_SEGMENTATION/segment_into_trips_time/has_trip_ended",
          "TRIP_SEGMENTATION/segment_into_trips_time/has_trip_ended",
          "TRIP_SEGMENTATION/segment_into_trips_time/has_trip_ended",
          "TRIP_SEGMENTATION/segment_into_trips_time/has_trip_ended",
          "TRIP_SEGMENTATION/segment_into_trips_time/has_trip_ended",
          "TRIP_SEGMENTATION/segment_into_trips_time/has_trip_ended",
          "TRIP_SEGMENTATION/segment_into_trips_time/has_trip_ended",
          "TRIP_SEGMENTATION/segment_into_trips_time/has_trip_ended",
          "TRIP_SEGMENTATION/segment_into_trips_time/has_trip_ended",
          "TRIP_SEGMENTATION/segment_into_trips_time/has_trip_ended",
          "TRIP_SEGMENTATION/segment_into_trips_time/has_trip_ended",
          "TRIP_SEGMENTATION/segment_into_trips_time/has_trip_ended",
          "TRIP_SEGMENTATION/segment_into_trips_time/has_trip_ended",
          "TRIP_SEGMENTATION/segment_into_trips_time/has_trip_ended",
          "TRIP_SEGMENTATION/segment_into_trips_time/has_trip_ended",
          "TRIP_SEGMENTATION/segment_into_trips_time/has_trip_ended",
          "TRIP_SEGMENTATION/segment_into_trips_time/has_trip_ended",
          "TRIP_SEGMENTATION/segment_into_trips_time/has_trip_ended",
          "TRIP_SEGMENTATION/segment_into_trips_time/has_trip_ended",
          "TRIP_SEGMENTATION/segment_into_trips_time/has_trip_ended",
          "TRIP_SEGMENTATION/segment_into_trips_time/has_trip_ended",
          "TRIP_SEGMENTATION/segment_into_trips_time/has_trip_ended",
          "TRIP_SEGMENTATION/segment_into_trips_time/has_trip_ended",
          "TRIP_SEGMENTATION/segment_into_trips_time/has_trip_ended",
          "TRIP_SEGMENTATION/segment_into_trips_time/has_trip_ended",
          "TRIP_SEGMENTATION/segment_into_trips_time/has_trip_ended",
          "TRIP_SEGMENTATION/segment_into_trips_time/has_trip_ended",
          "TRIP_SEGMENTATION/segment_into_trips_time/has_trip_ended",
          "TRIP_SEGMENTATION/segment_into_trips_time/has_trip_ended",
          "TRIP_SEGMENTATION/segment_into_trips_time/has_trip_ended",
          "TRIP_SEGMENTATION/segment_into_trips_time/has_trip_ended",
          "TRIP_SEGMENTATION/segment_into_trips_time/has_trip_ended",
          "TRIP_SEGMENTATION/segment_into_trips_time/has_trip_ended",
          "TRIP_SEGMENTATION/segment_into_trips_time/has_trip_ended",
          "TRIP_SEGMENTATION/segment_into_trips_time/has_trip_ended",
          "TRIP_SEGMENTATION/segment_into_trips_time/has_trip_ended",
          "TRIP_SEGMENTATION/segment_into_trips_time/has_trip_ended",
          "TRIP_SEGMENTATION/segment_into_trips_time/has_trip_ended",
          "TRIP_SEGMENTATION/segment_into_trips_time/has_trip_ended",
          "TRIP_SEGMENTATION/segment_into_trips_time/has_trip_ended",
          "TRIP_SEGMENTATION/segment_into_trips_time/has_trip_ended",
          "TRIP_SEGMENTATION/segment_into_trips_time/has_trip_ended",
          "TRIP_SEGMENTATION/segment_into_trips_time/has_trip_ended",
          "TRIP_SEGMENTATION/segment_into_trips_time/has_trip_ended",
          "TRIP_SEGMENTATION/segment_into_trips_time/has_trip_ended",
          "TRIP_SEGMENTATION/segment_into_trips_time/has_trip_ended",
          "TRIP_SEGMENTATION/segment_into_trips_time/has_trip_ended",
          "TRIP_SEGMENTATION/segment_into_trips_time/has_trip_ended",
          "TRIP_SEGMENTATION/segment_into_trips_time/has_trip_ended",
          "TRIP_SEGMENTATION/segment_into_trips_time/has_trip_ended",
          "TRIP_SEGMENTATION/segment_into_trips_time/has_trip_ended",
          "TRIP_SEGMENTATION/segment_into_trips_time/has_trip_ended",
          "TRIP_SEGMENTATION/segment_into_trips_time/has_trip_ended",
          "TRIP_SEGMENTATION/segment_into_trips_time/has_trip_ended",
          "TRIP_SEGMENTATION/segment_into_trips_time/has_trip_ended",
          "TRIP_SEGMENTATION/segment_into_trips_time/has_trip_ended",
          "TRIP_SEGMENTATION/segment_into_trips_time/has_trip_ended",
          "TRIP_SEGMENTATION/segment_into_trips_time/has_trip_ended",
          "TRIP_SEGMENTATION/segment_into_trips_time/has_trip_ended",
          "TRIP_SEGMENTATION/segment_into_trips_time/has_trip_ended",
          "TRIP_SEGMENTATION/segment_into_trips_time/has_trip_ended",
          "TRIP_SEGMENTATION/segment_into_trips_time/has_trip_ended",
          "TRIP_SEGMENTATION/segment_into_trips_time/has_trip_ended",
          "TRIP_SEGMENTATION/segment_into_trips_time/has_trip_ended",
          "TRIP_SEGMENTATION/segment_into_trips_time/has_trip_ended",
          "TRIP_SEGMENTATION/segment_into_trips_time/has_trip_ended",
          "TRIP_SEGMENTATION/segment_into_trips_time/has_trip_ended",
          "TRIP_SEGMENTATION/segment_into_trips_time/has_trip_ended",
          "TRIP_SEGMENTATION/segment_into_trips_time/has_trip_ended",
          "TRIP_SEGMENTATION/segment_into_trips_time/has_trip_ended",
          "TRIP_SEGMENTATION/segment_into_trips_time/has_trip_ended",
          "TRIP_SEGMENTATION/segment_into_trips_time/has_trip_ended",
          "TRIP_SEGMENTATION/segment_into_trips_time/has_trip_ended",
          "TRIP_SEGMENTATION/segment_into_trips_time/has_trip_ended",
          "TRIP_SEGMENTATION/segment_into_trips_time/has_trip_ended",
          "TRIP_SEGMENTATION/segment_into_trips_time/has_trip_ended",
          "TRIP_SEGMENTATION/segment_into_trips_time/has_trip_ended",
          "TRIP_SEGMENTATION/segment_into_trips_time/has_trip_ended",
          "TRIP_SEGMENTATION/segment_into_trips_time/has_trip_ended",
          "TRIP_SEGMENTATION/segment_into_trips_time/has_trip_ended",
          "TRIP_SEGMENTATION/segment_into_trips_time/has_trip_ended",
          "TRIP_SEGMENTATION/segment_into_trips_time/has_trip_ended",
          "TRIP_SEGMENTATION/segment_into_trips_time/has_trip_ended",
          "TRIP_SEGMENTATION/segment_into_trips_time/has_trip_ended",
          "TRIP_SEGMENTATION/segment_into_trips_time/has_trip_ended",
          "TRIP_SEGMENTATION/segment_into_trips_time/has_trip_ended",
          "TRIP_SEGMENTATION/segment_into_trips_time/has_trip_ended",
          "TRIP_SEGMENTATION/segment_into_trips_time/has_trip_ended",
          "TRIP_SEGMENTATION/segment_into_trips_time/has_trip_ended",
          "TRIP_SEGMENTATION/segment_into_trips_time/has_trip_ended",
          "TRIP_SEGMENTATION/segment_into_trips_time/has_trip_ended",
          "TRIP_SEGMENTATION/segment_into_trips_time/has_trip_ended",
          "TRIP_SEGMENTATION/segment_into_trips_time/has_trip_ended",
          "TRIP_SEGMENTATION/segment_into_trips_time/has_trip_ended",
          "TRIP_SEGMENTATION/segment_into_trips_time/has_trip_ended",
          "TRIP_SEGMENTATION/segment_into_trips_time/has_trip_ended",
          "TRIP_SEGMENTATION/segment_into_trips_time/has_trip_ended",
          "TRIP_SEGMENTATION/segment_into_trips_time/has_trip_ended",
          "TRIP_SEGMENTATION/segment_into_trips_time/has_trip_ended",
          "TRIP_SEGMENTATION/segment_into_trips_time/has_trip_ended",
          "TRIP_SEGMENTATION/segment_into_trips_time/has_trip_ended",
          "TRIP_SEGMENTATION/segment_into_trips_time/has_trip_ended",
          "TRIP_SEGMENTATION/segment_into_trips_time/has_trip_ended",
          "TRIP_SEGMENTATION/segment_into_trips_time/has_trip_ended",
          "TRIP_SEGMENTATION/segment_into_trips_time/has_trip_ended",
          "TRIP_SEGMENTATION/segment_into_trips_time/has_trip_ended",
          "TRIP_SEGMENTATION/segment_into_trips_time/has_trip_ended",
          "TRIP_SEGMENTATION/segment_into_trips_time/has_trip_ended",
          "TRIP_SEGMENTATION/segment_into_trips_time/has_trip_ended",
          "TRIP_SEGMENTATION/segment_into_trips_time/has_trip_ended",
          "TRIP_SEGMENTATION/segment_into_trips_time/has_trip_ended",
          "TRIP_SEGMENTATION/segment_into_trips_time/has_trip_ended",
          "TRIP_SEGMENTATION/segment_into_trips_time/has_trip_ended",
          "TRIP_SEGMENTATION/segment_into_trips_time/has_trip_ended",
          "TRIP_SEGMENTATION/segment_into_trips_time/has_trip_ended",
          "TRIP_SEGMENTATION/segment_into_trips_time/has_trip_ended",
          "TRIP_SEGMENTATION/segment_into_trips_time/has_trip_ended",
          "TRIP_SEGMENTATION/segment_into_trips_time/has_trip_ended",
          "TRIP_SEGMENTATION/segment_into_trips_time/has_trip_ended",
          "TRIP_SEGMENTATION/segment_into_trips_time/has_trip_ended",
          "TRIP_SEGMENTATION/segment_into_trips_time/has_trip_ended",
          "TRIP_SEGMENTATION/segment_into_trips_time/has_trip_ended",
          "TRIP_SEGMENTATION/segment_into_trips_time/has_trip_ended",
          "TRIP_SEGMENTATION/segment_into_trips_time/has_trip_ended",
          "TRIP_SEGMENTATION/segment_into_trips_time/has_trip_ended",
          "TRIP_SEGMENTATION/segment_into_trips_time/has_trip_ended",
          "TRIP_SEGMENTATION/segment_into_trips_time/has_trip_ended",
          "TRIP_SEGMENTATION/segment_into_trips_time/has_trip_ended",
          "TRIP_SEGMENTATION/segment_into_trips_time/has_trip_ended",
          "TRIP_SEGMENTATION/segment_into_trips_time/has_trip_ended",
          "TRIP_SEGMENTATION/segment_into_trips_time/has_trip_ended",
          "TRIP_SEGMENTATION/segment_into_trips_time/has_trip_ended",
          "TRIP_SEGMENTATION/segment_into_trips_time/has_trip_ended",
          "TRIP_SEGMENTATION/segment_into_trips_time/has_trip_ended",
          "TRIP_SEGMENTATION/segment_into_trips_time/has_trip_ended",
          "TRIP_SEGMENTATION/segment_into_trips_time/has_trip_ended",
          "TRIP_SEGMENTATION/segment_into_trips_time/has_trip_ended",
          "TRIP_SEGMENTATION/segment_into_trips_time/has_trip_ended",
          "TRIP_SEGMENTATION/segment_into_trips_time/has_trip_ended",
          "TRIP_SEGMENTATION/segment_into_trips_time/has_trip_ended",
          "TRIP_SEGMENTATION/segment_into_trips_time/has_trip_ended",
          "TRIP_SEGMENTATION/segment_into_trips_time/has_trip_ended",
          "TRIP_SEGMENTATION/segment_into_trips_time/has_trip_ended",
          "TRIP_SEGMENTATION/segment_into_trips_time/has_trip_ended",
          "TRIP_SEGMENTATION/segment_into_trips_time/has_trip_ended",
          "TRIP_SEGMENTATION/segment_into_trips_time/has_trip_ended",
          "TRIP_SEGMENTATION/segment_into_trips_time/has_trip_ended",
          "TRIP_SEGMENTATION/segment_into_trips_time/has_trip_ended",
          "TRIP_SEGMENTATION/segment_into_trips_time/has_trip_ended",
          "TRIP_SEGMENTATION/segment_into_trips_time/has_trip_ended",
          "TRIP_SEGMENTATION/segment_into_trips_time/has_trip_ended",
          "TRIP_SEGMENTATION/segment_into_trips_time/has_trip_ended",
          "TRIP_SEGMENTATION/segment_into_trips_time/has_trip_ended",
          "TRIP_SEGMENTATION/segment_into_trips_time/has_trip_ended",
          "TRIP_SEGMENTATION/segment_into_trips_time/has_trip_ended",
          "TRIP_SEGMENTATION/segment_into_trips_time/has_trip_ended",
          "TRIP_SEGMENTATION/segment_into_trips_time/has_trip_ended",
          "TRIP_SEGMENTATION/segment_into_trips_time/has_trip_ended",
          "TRIP_SEGMENTATION/segment_into_trips_time/has_trip_ended",
          "TRIP_SEGMENTATION/segment_into_trips_time/has_trip_ended",
          "TRIP_SEGMENTATION/segment_into_trips_time/has_trip_ended",
          "TRIP_SEGMENTATION/segment_into_trips_time/has_trip_ended",
          "TRIP_SEGMENTATION/segment_into_trips_time/has_trip_ended",
          "TRIP_SEGMENTATION/segment_into_trips_time/has_trip_ended",
          "TRIP_SEGMENTATION/segment_into_trips_time/has_trip_ended",
          "TRIP_SEGMENTATION/segment_into_trips_time/has_trip_ended",
          "TRIP_SEGMENTATION/segment_into_trips_time/has_trip_ended",
          "TRIP_SEGMENTATION/segment_into_trips_time/has_trip_ended",
          "TRIP_SEGMENTATION/segment_into_trips_time/has_trip_ended",
          "TRIP_SEGMENTATION/segment_into_trips_time/has_trip_ended",
          "TRIP_SEGMENTATION/segment_into_trips_time/has_trip_ended",
          "TRIP_SEGMENTATION/segment_into_trips_time/has_trip_ended",
          "TRIP_SEGMENTATION/segment_into_trips_time/has_trip_ended",
          "TRIP_SEGMENTATION/segment_into_trips_time/has_trip_ended",
          "TRIP_SEGMENTATION/segment_into_trips_time/has_trip_ended",
          "TRIP_SEGMENTATION/segment_into_trips_time/has_trip_ended",
          "TRIP_SEGMENTATION/segment_into_trips_time/has_trip_ended",
          "TRIP_SEGMENTATION/segment_into_trips_time/has_trip_ended",
          "TRIP_SEGMENTATION/segment_into_trips_time/has_trip_ended",
          "TRIP_SEGMENTATION/segment_into_trips_time/has_trip_ended",
          "TRIP_SEGMENTATION/segment_into_trips_time/has_trip_ended",
          "TRIP_SEGMENTATION/segment_into_trips_time/has_trip_ended",
          "TRIP_SEGMENTATION/segment_into_trips_time/has_trip_ended",
          "TRIP_SEGMENTATION/segment_into_trips_time/has_trip_ended",
          "TRIP_SEGMENTATION/segment_into_trips_time/has_trip_ended",
          "TRIP_SEGMENTATION/segment_into_trips_time/has_trip_ended",
          "TRIP_SEGMENTATION/segment_into_trips_time/has_trip_ended",
          "TRIP_SEGMENTATION/segment_into_trips_time/has_trip_ended",
          "TRIP_SEGMENTATION/segment_into_trips_time/has_trip_ended",
          "TRIP_SEGMENTATION/segment_into_trips_time/has_trip_ended",
          "TRIP_SEGMENTATION/segment_into_trips_time/has_trip_ended",
          "TRIP_SEGMENTATION/segment_into_trips_time/has_trip_ended",
          "TRIP_SEGMENTATION/segment_into_trips_time/has_trip_ended",
          "TRIP_SEGMENTATION/segment_into_trips_time/has_trip_ended",
          "TRIP_SEGMENTATION/segment_into_trips_time/has_trip_ended",
          "TRIP_SEGMENTATION/segment_into_trips_time/has_trip_ended",
          "TRIP_SEGMENTATION/segment_into_trips_time/has_trip_ended",
          "TRIP_SEGMENTATION/segment_into_trips_time/has_trip_ended",
          "TRIP_SEGMENTATION/segment_into_trips_time/has_trip_ended",
          "TRIP_SEGMENTATION/segment_into_trips_time/has_trip_ended",
          "TRIP_SEGMENTATION/segment_into_trips_time/has_trip_ended",
          "TRIP_SEGMENTATION/segment_into_trips_time/has_trip_ended",
          "TRIP_SEGMENTATION/segment_into_trips_time/has_trip_ended",
          "TRIP_SEGMENTATION/segment_into_trips_time/has_trip_ended",
          "TRIP_SEGMENTATION/segment_into_trips_time/has_trip_ended",
          "TRIP_SEGMENTATION/segment_into_trips_time/has_trip_ended",
          "TRIP_SEGMENTATION/segment_into_trips_time/has_trip_ended",
          "TRIP_SEGMENTATION/segment_into_trips_time/has_trip_ended",
          "TRIP_SEGMENTATION/segment_into_trips_time/has_trip_ended",
          "TRIP_SEGMENTATION/segment_into_trips_time/has_trip_ended",
          "TRIP_SEGMENTATION/segment_into_trips_time/has_trip_ended",
          "TRIP_SEGMENTATION/segment_into_trips_time/has_trip_ended",
          "TRIP_SEGMENTATION/segment_into_trips_time/has_trip_ended",
          "TRIP_SEGMENTATION/segment_into_trips_time/has_trip_ended",
          "TRIP_SEGMENTATION/segment_into_trips_time/has_trip_ended",
          "TRIP_SEGMENTATION/segment_into_trips_time/has_trip_ended",
          "TRIP_SEGMENTATION/segment_into_trips_time/has_trip_ended",
          "TRIP_SEGMENTATION/segment_into_trips_time/has_trip_ended",
          "TRIP_SEGMENTATION/segment_into_trips_time/has_trip_ended",
          "TRIP_SEGMENTATION/segment_into_trips_time/has_trip_ended",
          "TRIP_SEGMENTATION/segment_into_trips_time/has_trip_ended",
          "TRIP_SEGMENTATION/segment_into_trips_time/has_trip_ended",
          "TRIP_SEGMENTATION/segment_into_trips_time/has_trip_ended",
          "TRIP_SEGMENTATION/segment_into_trips_time/has_trip_ended",
          "TRIP_SEGMENTATION/segment_into_trips_time/has_trip_ended",
          "TRIP_SEGMENTATION/segment_into_trips_time/has_trip_ended",
          "TRIP_SEGMENTATION/segment_into_trips_time/has_trip_ended",
          "TRIP_SEGMENTATION/segment_into_trips_time/has_trip_ended",
          "TRIP_SEGMENTATION/segment_into_trips_time/has_trip_ended",
          "TRIP_SEGMENTATION/segment_into_trips_time/has_trip_ended",
          "TRIP_SEGMENTATION/segment_into_trips_time/has_trip_ended",
          "TRIP_SEGMENTATION/segment_into_trips_time/has_trip_ended",
          "TRIP_SEGMENTATION/segment_into_trips_time/has_trip_ended",
          "TRIP_SEGMENTATION/segment_into_trips_time/has_trip_ended",
          "TRIP_SEGMENTATION/segment_into_trips_time/has_trip_ended",
          "TRIP_SEGMENTATION/segment_into_trips_time/has_trip_ended",
          "TRIP_SEGMENTATION/segment_into_trips_time/has_trip_ended",
          "TRIP_SEGMENTATION/segment_into_trips_time/has_trip_ended",
          "TRIP_SEGMENTATION/segment_into_trips_time/has_trip_ended",
          "TRIP_SEGMENTATION/segment_into_trips_time/has_trip_ended",
          "TRIP_SEGMENTATION/segment_into_trips_time/has_trip_ended",
          "TRIP_SEGMENTATION/segment_into_trips_time/has_trip_ended",
          "TRIP_SEGMENTATION/segment_into_trips_time/has_trip_ended",
          "TRIP_SEGMENTATION/segment_into_trips_time/has_trip_ended",
          "TRIP_SEGMENTATION/segment_into_trips_time/has_trip_ended",
          "TRIP_SEGMENTATION/segment_into_trips_time/has_trip_ended",
          "TRIP_SEGMENTATION/segment_into_trips_time/has_trip_ended",
          "TRIP_SEGMENTATION/segment_into_trips_time/has_trip_ended",
          "TRIP_SEGMENTATION/segment_into_trips_time/has_trip_ended",
          "TRIP_SEGMENTATION/segment_into_trips_time/has_trip_ended",
          "TRIP_SEGMENTATION/segment_into_trips_time/has_trip_ended",
          "TRIP_SEGMENTATION/segment_into_trips_time/has_trip_ended",
          "TRIP_SEGMENTATION/segment_into_trips_time/has_trip_ended",
          "TRIP_SEGMENTATION/segment_into_trips_time/has_trip_ended",
          "TRIP_SEGMENTATION/segment_into_trips_time/has_trip_ended",
          "TRIP_SEGMENTATION/segment_into_trips_time/has_trip_ended",
          "TRIP_SEGMENTATION/segment_into_trips_time/has_trip_ended",
          "TRIP_SEGMENTATION/segment_into_trips_time/has_trip_ended",
          "TRIP_SEGMENTATION/segment_into_trips_time/has_trip_ended",
          "TRIP_SEGMENTATION/segment_into_trips_time/has_trip_ended",
          "TRIP_SEGMENTATION/segment_into_trips_time/has_trip_ended",
          "TRIP_SEGMENTATION/segment_into_trips_time/has_trip_ended",
          "TRIP_SEGMENTATION/segment_into_trips_time/has_trip_ended",
          "TRIP_SEGMENTATION/segment_into_trips_time/has_trip_ended",
          "TRIP_SEGMENTATION/segment_into_trips_time/has_trip_ended",
          "TRIP_SEGMENTATION/segment_into_trips_time/has_trip_ended",
          "TRIP_SEGMENTATION/segment_into_trips_time/has_trip_ended",
          "TRIP_SEGMENTATION/segment_into_trips_time/has_trip_ended",
          "TRIP_SEGMENTATION/segment_into_trips_time/has_trip_ended",
          "TRIP_SEGMENTATION/segment_into_trips_time/has_trip_ended",
          "TRIP_SEGMENTATION/segment_into_trips_time/has_trip_ended",
          "TRIP_SEGMENTATION/segment_into_trips_time/has_trip_ended",
          "TRIP_SEGMENTATION/segment_into_trips_time/has_trip_ended",
          "TRIP_SEGMENTATION/segment_into_trips_time/has_trip_ended",
          "TRIP_SEGMENTATION/segment_into_trips_time/has_trip_ended",
          "TRIP_SEGMENTATION/segment_into_trips_time/has_trip_ended",
          "TRIP_SEGMENTATION/segment_into_trips_time/has_trip_ended",
          "TRIP_SEGMENTATION/segment_into_trips_time/has_trip_ended",
          "TRIP_SEGMENTATION/segment_into_trips_time/has_trip_ended",
          "TRIP_SEGMENTATION/segment_into_trips_time/has_trip_ended",
          "TRIP_SEGMENTATION/segment_into_trips_time/has_trip_ended",
          "TRIP_SEGMENTATION/segment_into_trips_time/has_trip_ended",
          "TRIP_SEGMENTATION/segment_into_trips_time/has_trip_ended",
          "TRIP_SEGMENTATION/segment_into_trips_time/has_trip_ended",
          "TRIP_SEGMENTATION/segment_into_trips_time/has_trip_ended",
          "TRIP_SEGMENTATION/segment_into_trips_time/has_trip_ended",
          "TRIP_SEGMENTATION/segment_into_trips_time/has_trip_ended",
          "TRIP_SEGMENTATION/segment_into_trips_time/has_trip_ended",
          "TRIP_SEGMENTATION/segment_into_trips_time/has_trip_ended",
          "TRIP_SEGMENTATION/segment_into_trips_time/has_trip_ended",
          "TRIP_SEGMENTATION/segment_into_trips_time/has_trip_ended",
          "TRIP_SEGMENTATION/segment_into_trips_time/has_trip_ended",
          "TRIP_SEGMENTATION/segment_into_trips_time/has_trip_ended",
          "TRIP_SEGMENTATION/segment_into_trips_time/has_trip_ended",
          "TRIP_SEGMENTATION/segment_into_trips_time/has_trip_ended",
          "TRIP_SEGMENTATION/segment_into_trips_time/has_trip_ended",
          "TRIP_SEGMENTATION/segment_into_trips_time/has_trip_ended",
          "TRIP_SEGMENTATION/segment_into_trips_time/has_trip_ended",
          "TRIP_SEGMENTATION/segment_into_trips_time/has_trip_ended",
          "TRIP_SEGMENTATION/segment_into_trips_time/has_trip_ended",
          "TRIP_SEGMENTATION/segment_into_trips_time/has_trip_ended",
          "TRIP_SEGMENTATION/segment_into_trips_time/has_trip_ended",
          "TRIP_SEGMENTATION/segment_into_trips_time/has_trip_ended",
          "TRIP_SEGMENTATION/segment_into_trips_time/has_trip_ended",
          "TRIP_SEGMENTATION/segment_into_trips_time/has_trip_ended",
          "TRIP_SEGMENTATION/segment_into_trips_time/has_trip_ended",
          "TRIP_SEGMENTATION/segment_into_trips_time/has_trip_ended",
          "TRIP_SEGMENTATION/segment_into_trips_time/has_trip_ended",
          "TRIP_SEGMENTATION/segment_into_trips_time/has_trip_ended",
          "TRIP_SEGMENTATION/segment_into_trips_time/has_trip_ended",
          "TRIP_SEGMENTATION/segment_into_trips_time/has_trip_ended",
          "TRIP_SEGMENTATION/segment_into_trips_time/has_trip_ended",
          "TRIP_SEGMENTATION/segment_into_trips_time/has_trip_ended",
          "TRIP_SEGMENTATION/segment_into_trips_time/has_trip_ended",
          "TRIP_SEGMENTATION/segment_into_trips_time/has_trip_ended",
          "TRIP_SEGMENTATION/segment_into_trips_time/has_trip_ended",
          "TRIP_SEGMENTATION/segment_into_trips_time/has_trip_ended",
          "TRIP_SEGMENTATION/segment_into_trips_time/has_trip_ended",
          "TRIP_SEGMENTATION/segment_into_trips_time/has_trip_ended",
          "TRIP_SEGMENTATION/segment_into_trips_time/has_trip_ended",
          "TRIP_SEGMENTATION/segment_into_trips_time/has_trip_ended",
          "TRIP_SEGMENTATION/segment_into_trips_time/has_trip_ended",
          "TRIP_SEGMENTATION/segment_into_trips_time/has_trip_ended",
          "TRIP_SEGMENTATION/segment_into_trips_time/has_trip_ended",
          "TRIP_SEGMENTATION/segment_into_trips_time/has_trip_ended",
          "TRIP_SEGMENTATION/segment_into_trips_time/has_trip_ended",
          "TRIP_SEGMENTATION/segment_into_trips_time/has_trip_ended",
          "TRIP_SEGMENTATION/segment_into_trips_time/has_trip_ended",
          "TRIP_SEGMENTATION/segment_into_trips_time/has_trip_ended",
          "TRIP_SEGMENTATION/segment_into_trips_time/has_trip_ended",
          "TRIP_SEGMENTATION/get_data_df"
         ],
         "yaxis": "y"
        },
        {
         "hovertemplate": "branch_name=segmentation_optimization<br>reading=%{x}<br>name=%{y}<extra></extra>",
         "legendgroup": "segmentation_optimization",
         "marker": {
          "color": "#EF553B",
          "pattern": {
           "shape": ""
          }
         },
         "name": "segmentation_optimization",
         "orientation": "h",
         "showlegend": true,
         "textposition": "auto",
         "type": "bar",
         "x": [
          0.28614316600000045,
          4.5158400830000005,
          4.302554458,
          0.0034168330000001745,
          0.0021717499999995837,
          0.0015082499999996557,
          0.0012102919999996686,
          0.0011964999999998227,
          0.001353457999999641,
          0.0013842920000000092,
          0.0013721669999995356,
          0.001603332999999374,
          0.0019772089999996467,
          0.0012562499999999588,
          0.0013257500000003475,
          0.0014053340000002024,
          0.0013385829999998933,
          0.0014836250000005435,
          0.0016248329999992706,
          0.0021029160000001212,
          0.0015684579999994952,
          0.0013516250000007446,
          0.0016036670000003639,
          0.0019964999999997346,
          0.0012569999999998416,
          0.0012095830000005137,
          0.0010684999999996947,
          0.0010773330000004577,
          0.0009940000000003835,
          0.001115500000000047,
          0.0010363749999999783,
          0.0012166250000005263,
          0.001498666999999898,
          0.001250917000000129,
          0.0011262499999995512,
          0.0030191670000006,
          0.000043290999999889834,
          0.0031552079999999094,
          0.0014840419999995191,
          0.0016014169999998273,
          0.002163249999999728,
          0.0015756250000000804,
          0.0015535419999999078,
          0.002040708000000002,
          0.0017722500000001418,
          0.0025531660000002177,
          0.002154416999999853,
          0.0016620420000004188,
          0.0016348750000005907,
          0.0013009159999999298,
          0.0015224159999993603,
          0.0016051670000001295,
          0.0014435419999996313,
          0.0011547079999996157,
          0.002867250000000432,
          0.002812624999999791,
          0.001389624999999839,
          0.0013592909999999847,
          0.0014681249999997092,
          0.0016249170000000035,
          0.002059791999999838,
          0.002381707999999705,
          0.0018090419999996499,
          0.00169662499999923,
          0.0019698749999994547,
          0.0032554999999998557,
          0.0033016249999997527,
          0.0014959169999997357,
          0.001782999999999646,
          0.0016076670000000348,
          0.001491665999999725,
          0.0015403329999994497,
          0.0015217920000001328,
          0.0017886670000004656,
          0.002253875000000072,
          0.002894667000000517,
          0.002674332999999862,
          0.0018374169999999523,
          0.0021977919999995876,
          0.0020587089999999364,
          0.002509875000000328,
          0.003953250000000352,
          0.004121958000000703,
          0.0023489169999999504,
          0.0023960000000000647,
          0.002599291999999309,
          0.0024431249999992133,
          0.0025097499999997552,
          0.002931541999999787,
          0.0025515419999999622,
          0.002255166000000308,
          0.002400083000000386,
          0.0027464159999999183,
          0.004367833000000765,
          0.00004404099999977262,
          0.003256458000000073,
          0.003220416000000448,
          0.0028302089999998614,
          0.002304291999999819,
          0.0023648330000005657,
          0.0025816670000002873,
          0.002775332999999769,
          0.002621833999999268,
          0.002455750000000201,
          0.0023754579999994974,
          0.002656209000000409,
          0.002854125000000707,
          0.002349374999999654,
          0.0021605840000002985,
          0.0029060000000002972,
          0.002388000000000723,
          0.003953542000000532,
          0.00005966599999940314,
          0.00301979199999991,
          0.0025369169999995833,
          0.0023705420000004196,
          0.002754583999999838,
          0.002307000000000059,
          0.0016470829999999381,
          0.001431167000000677,
          0.0012828750000002387,
          0.0014027909999994037,
          0.0017796249999992853,
          0.0020787079999999847,
          0.0019925000000000637,
          0.0015472920000005885,
          0.0016382919999999856,
          0.0017550410000000127,
          0.0017010000000006187,
          0.001863583000000446,
          0.0022199999999994446,
          0.002234500000000139,
          0.0026246670000000805,
          0.0014813340000001674,
          0.0014541250000004169,
          0.0011605000000001198,
          0.0013073750000005546,
          0.0011620830000005355,
          0.001298999999999495,
          0.0013356670000002069,
          0.0017597919999996492,
          0.0013170829999999967,
          0.0013572909999997052,
          0.000043291999999972575,
          0.003160709000000317,
          0.00113029099999995,
          0.0010862920000000997,
          0.001170040999999955,
          0.0010652499999999065,
          0.0010720840000004728,
          0.0012317499999996429,
          0.0012254169999996734,
          0.0012784159999998934,
          0.0015095000000000525,
          0.001774333999999378,
          0.0015779170000005394,
          0.00229508299999992,
          0.003273375000000023,
          0.00004991700000012145,
          0.0018346250000007558,
          0.001862541000000384,
          0.0018988750000001886,
          0.002517125000000675,
          0.005763207999999409,
          0.010833290999999967,
          0.006877999999999496,
          0.0031917080000001263,
          0.0031329160000002076,
          0.002710749999999429,
          0.0037910840000003887,
          0.0036342910000000117,
          0.0034069999999992717,
          0.002879250000000333,
          0.002506417000000205,
          0.0025274590000003982,
          0.002878332999999955,
          0.0029127500000001305,
          0.003083167000000664,
          0.003398832999999435,
          0.0037409999999997723,
          0.0033005829999996905,
          0.0028724169999998495,
          0.0028156670000001327,
          0.0029114580000006995,
          0.002489957999999959,
          0.0029456249999997297,
          0.003461292000000782,
          0.003269375000000352,
          0.003183458999999722,
          0.003104042000000362,
          0.002642250000000068,
          0.0024400829999997597,
          0.002760625000000516,
          0.0032299579999994776,
          0.0033629580000003045,
          0.00271654099999985,
          0.0023654589999999587,
          0.0026449169999995803,
          0.002972707999999713,
          0.0028729160000002807,
          0.0025196249999996922,
          0.0026876670000000047,
          0.003293750000000095,
          0.0035771249999996257,
          0.0026752920000001623,
          0.0023886669999999555,
          0.00006145799999934809,
          0.0029212499999999864,
          0.0035827910000003627,
          0.0024362499999996956,
          0.003070750000000011,
          0.0032503330000004382,
          0.00251416699999929,
          0.0027016670000001852,
          0.0025067920000001465,
          0.0030671249999993933,
          0.000046709000000255685,
          0.003296624999999942,
          0.0030531660000008287,
          0.003029917000000104,
          0.002971542000000049,
          0.003252542000000247,
          0.0027819579999999178,
          0.002522500000000427,
          0.0016267500000006763,
          0.0015542920000006788,
          0.0019542919999997466,
          0.0018219579999998459,
          0.0017158339999996386,
          0.0015918340000000697,
          0.001509791000000149,
          0.0014700840000001492,
          0.0017528750000002091,
          0.001734749999999785,
          0.001828333000000626,
          0.0016804169999993235,
          0.0016199590000001152,
          0.0017290829999998536,
          0.0017466250000000016,
          0.0015179160000000635,
          0.0013422079999996228,
          0.0014300419999999647,
          0.0016428749999999326,
          0.0014757909999998375,
          0.0014744999999996011,
          0.0015099999999996783,
          0.0017292080000004262,
          0.0020844999999996006,
          0.00175158299999989,
          0.002617333999999971,
          0.0013397079999997175,
          0.0012554580000001536,
          0.0012339160000003346,
          0.0013127080000003843,
          0.0013895000000001545,
          0.001579665999999591,
          0.0017043750000000912,
          0.0021943750000001927,
          0.00166937499999964,
          0.0018996250000000714,
          0.002191708999999875,
          0.0014695839999996352,
          0.001376416000000269,
          0.0015966669999993854,
          0.0017315830000006471,
          0.002004792000000144,
          0.004306707999999659,
          0.0000497079999997041,
          0.0021239580000003144,
          0.0024160000000001958,
          0.0017446250000006103,
          0.0017580420000005148,
          0.0017857500000006965,
          0.002005542000000027,
          0.0017736660000000626,
          0.0014028750000001367,
          0.0015394589999999653,
          0.0017372500000005786,
          0.0017103750000000417,
          0.001785292000000105,
          0.001374666999999441,
          0.0017994999999997319,
          0.0013727920000006222,
          0.0015131660000005098,
          0.0016937920000001938,
          0.0017412080000003272,
          0.002373290999999611,
          0.000047542000000788676,
          0.004090125000000278,
          0.003563875000000216,
          0.00183995899999978,
          0.001505124999999552,
          0.001547582999999797,
          0.0014799999999999258,
          0.0014369999999992444,
          0.0013133329999996946,
          0.0012970409999999433,
          0.001399249999999519,
          0.0015935830000000095,
          0.0035433750000004594,
          0.000043333999999894957,
          0.002233583999999844,
          0.0018930829999996845,
          0.001641790999999948,
          0.001997416999999224,
          0.0022035420000001693,
          0.0026300419999998326,
          0.0024375000000000924,
          0.0028823750000004367,
          0.002473042000000092,
          0.0022547079999997166,
          0.0024147079999998766,
          0.004483624999999769,
          0.0026039579999999063,
          0.0000478750000003636,
          0.0030960000000002097,
          0.0022717080000003165,
          0.002216457999999921,
          0.002339832999999736,
          0.002128459000000138,
          0.0022522499999997336,
          0.002171499999999771,
          0.0024512079999996494,
          0.0024051659999999586,
          0.0017289169999998855,
          0.002455166999999925,
          0.0025116249999999063,
          0.00005337499999980011,
          0.004361208000000172,
          0.0040223749999999114,
          0.0021238750000001083,
          0.002502290999999879,
          0.002152791999999959,
          0.0025404170000000725,
          0.002787958999999951,
          0.003025540999999965,
          0.002003332999999774,
          0.0027203330000000747,
          0.000044874999999944265,
          0.005369333999999615,
          0.002295541999999706,
          0.0022558750000003513,
          0.002411082999999703,
          0.0021000839999998355,
          0.001965124999999901,
          0.0019037910000001546,
          0.0017155409999998206,
          0.0020102920000000246,
          0.00004937500000012918,
          0.001879333000000205,
          0.0018727080000000562,
          0.0019882500000001357,
          0.0015665000000000262,
          0.0017578750000000198,
          0.0019234169999999828,
          0.0023368330000002047,
          0.0015997500000000109,
          0.0016809160000001988,
          0.001695583000000056,
          0.0020347079999996076,
          0.002188707999999817,
          0.0028499589999997355,
          0.0032432920000000642,
          0.002749208000000003,
          0.0028809169999997053,
          0.0026620420000003087,
          0.0030544580000002597,
          0.0017167920000003,
          0.00210683300000003,
          0.0017073750000000665,
          0.0020180829999998373,
          0.0015627079999998017,
          0.0014877499999998989,
          0.0016728750000001291,
          0.001577292000000341,
          0.0018530829999998666,
          0.001575750000000209,
          0.0017717500000000719,
          0.0014521670000000597,
          0.0016706250000000367,
          0.0018862080000001669,
          0.0017969589999999869,
          0.0019724999999999326,
          0.0023129160000001647,
          0.0026641250000003502,
          0.0022876670000000487,
          0.0026983750000000306,
          0.0021793339999995887,
          0.00186300000000017,
          0.002235792000000014,
          0.002007832999999959,
          0.0029472090000002282,
          0.00004466699999960966,
          0.0032654159999996324,
          0.003153042000000106,
          0.003460292000000198,
          0.0045655419999999225,
          0.003821499999999922,
          0.0038310839999997626,
          0.00388329200000026,
          0.0027735830000001904,
          0.002685041999999971,
          0.0017329159999999177,
          0.0020231250000000145,
          0.0017730409999998642,
          0.0020291670000003315,
          0.0020255419999997137,
          0.0025941250000003357,
          0.002315083000000051,
          0.0025747920000003255,
          0.0027238750000000422,
          0.0022238749999998753,
          0.0016897500000001564,
          0.0017358750000000533,
          0.0024028750000000265,
          0.0014999169999998507,
          0.0016848330000001077,
          0.0015132079999999881,
          0.00178079199999992,
          0.0024420419999997556,
          0.002864457999999903,
          0.0031080829999998727,
          0.003079000000000054,
          0.003386499999999959,
          0.0027845829999999516,
          0.0046345409999997145,
          0.007112833000000318,
          0.008235957999999766,
          0.011663165999999947,
          0.008260834000000106,
          0.003169125000000328,
          0.007659666999999981,
          0.002900459000000133,
          0.0010469579999998757,
          0.001153041999999882,
          0.0016957920000000293,
          0.0012370829999999167,
          0.0013622919999995986,
          0.0013853340000000713,
          0.002031582999999948,
          0.0012663330000002304,
          0.0010641670000000047,
          0.0011655830000001366,
          0.0013898340000002563,
          0.0010806670000000906,
          0.00112375000000009,
          0.0011610000000001897,
          0.0012341670000002303,
          0.0011702499999999283,
          0.001138583999999998,
          0.0013556669999998938,
          0.0014848750000000521,
          0.0015896660000001006,
          0.0017229159999998522,
          0.0019989580000001617,
          0.0016669579999999407,
          0.0013750830000001102,
          0.0011799579999998144,
          0.00166937499999964,
          0.0011882499999997798,
          0.001129124999999842,
          0.0010888750000002112,
          0.0012740839999998421,
          0.001260000000000261,
          0.0010690410000000483,
          0.0011767499999999487,
          0.0010543749999998298,
          0.0030828750000000404,
          0.000042999999999793204,
          0.0016232079999998206,
          0.0013762079999999344,
          0.0012738329999999465,
          0.0016029589999999594,
          0.0016050829999998406,
          0.0022556670000000167,
          0.0013644170000000067,
          0.00117762499999996,
          0.0013299170000000693,
          0.0013337920000000558,
          0.001131582999999825,
          0.0016103749999998307,
          0.0010961670000000368,
          0.0013504580000001098,
          0.0014859160000000315,
          0.0013700000000000934,
          0.003060875000000074,
          0.00004291700000003118,
          0.0018068339999999239,
          0.0012809169999998815,
          0.001404165999999929,
          0.0015569580000001082,
          0.0013454589999999378,
          0.001373125000000197,
          0.0014524579999997123,
          0.0014696669999998413,
          0.0016002080000001584,
          0.001705958000000063,
          0.00004679200000001771,
          0.0023955840000002837,
          0.0015095000000000525,
          0.0014225830000000883,
          0.001715833,
          0.0013704580000002409,
          0.0012482909999995684,
          0.0014027080000000858,
          0.0013255000000000905,
          0.0012986249999999977,
          0.0012602500000000738,
          0.0011725830000002269,
          0.0013240419999998032,
          0.0012957920000000733,
          0.0014577500000001464,
          0.0015995410000000376,
          0.0016374159999998916,
          0.0019434170000001139,
          0.0026630420000000044,
          0.002136957999999911,
          0.0014650410000003333,
          0.0016063750000001598,
          0.0014496670000001544,
          0.001534667000000045,
          0.0018668339999998729,
          0.00209550000000025,
          0.0010164169999997696,
          0.0010793749999997715,
          0.0013755840000002628,
          0.0012227089999998775,
          0.0010062500000000973,
          0.0012893329999998926,
          0.0012894999999999435,
          0.0012257500000001365,
          0.0010263749999999128,
          0.0010818749999996768,
          0.0012530000000001706,
          0.0010302920000002658,
          0.0012352079999997656,
          0.001596416000000378,
          0.0016725830000003938,
          0.0012525409999999404,
          0.0014686249999997791,
          0.0013304590000000616,
          0.000042749999999980304,
          0.002146499999999829,
          0.0015139999999997933,
          0.0011883329999999859,
          0.001083250000000202,
          0.0010357920000001464,
          0.0010307090000001295,
          0.0010101250000000839,
          0.00102291699999979,
          0.0010501659999997415,
          0.0009999999999998899,
          0.001122917000000001,
          0.0010227910000000229,
          0.0010465829999999343,
          0.001047332999999817,
          0.0010801249999996543,
          0.0011883749999999083,
          0.0010649579999997272,
          0.0010460410000003861,
          0.0011624999999999552,
          0.0010188330000002743,
          0.0010510829999996751,
          0.0012262920000001287,
          0.0009607499999999547,
          0.0011447079999999943,
          0.0011762910000001625,
          0.001122583999999982,
          0.0010940000000001504,
          0.0011285420000000101,
          0.0013401669999999477,
          0.0010351250000000256,
          0.000996416,
          0.0010358749999999084,
          0.001129124999999842,
          0.0012279579999998624,
          0.001348791999999932,
          0.0017718339999999166,
          0.0018732500000000485,
          0.0014784169999999541,
          0.0016896669999999503,
          0.0012503330000002144,
          0.0013401669999999477,
          0.0018238339999996356,
          0.0019792079999998435,
          0.001847082999999916,
          0.001473958000000053,
          0.0016153340000002459,
          0.0016332500000002526,
          0.002012000000000125,
          0.0017116249999999944,
          0.0013147920000000646,
          0.0013185000000000002,
          0.0013422499999999893,
          0.0012821670000002783,
          0.0014966670000000626,
          0.0012961670000000147,
          0.0013952910000001317,
          0.0011267919999999876,
          0.0013344170000002542,
          0.001403167000000316,
          0.0014347500000000402,
          0.0013339999999999463,
          0.0014350420000002195,
          0.0015298339999998412,
          0.0015166670000001936,
          0.0017108749999996675,
          0.00163583299999992,
          0.0015867079999996037,
          0.001952874999999743,
          0.002324415999999996,
          0.002853625000000193,
          0.0021537919999996546,
          0.0023738749999999698,
          0.0013677080000000785,
          0.0013726249999996831,
          0.0011006249999998552,
          0.0010712079999999347,
          0.0013210830000001117,
          0.0012324580000000473,
          0.0012646250000001302,
          0.001027166999999718,
          0.0010144999999996962,
          0.0009482919999999062,
          0.0009925829999999358,
          0.0010335839999999763,
          0.0011091670000000775,
          0.0012351250000000036,
          0.001307249999999982,
          0.0014203749999999182,
          0.0009685829999996898,
          0.0010286669999999276,
          0.0011752920000001055,
          0.0012015839999999223,
          0.0027165000000000106,
          0.003314999999999735,
          0.000043332999999812216,
          0.0030464580000000296,
          0.0011952079999999476,
          0.0010547499999997711,
          0.0010269580000001888,
          0.001189291999999842,
          0.0010670419999998515,
          0.0012419159999996765,
          0.0012089579999998712,
          0.0013375829999997535,
          0.001570666999999748,
          0.0020575830000000295,
          0.0027462090000001105,
          0.002485666999999747,
          0.002347499999999947,
          0.0018935829999997544,
          0.0014083750000000173,
          0.0016817499999999264,
          0.0015064580000001548,
          0.0016735419999998058,
          0.001986040999999883,
          0.0021552080000000196,
          0.0015048329999998167,
          0.0018291670000003535,
          0.00005004199999980585,
          0.0021623750000001607,
          0.0019263750000000357,
          0.002061875000000324,
          0.0031631249999999334,
          0.0018139999999999823,
          0.0020013340000000213,
          0.0018671659999998091,
          0.0017284159999997328,
          0.0016918750000001204,
          0.001711582999999628,
          0.002572042000000163,
          0.00004766599999994625,
          0.0020905409999998348,
          0.0017948329999999402,
          0.0019171669999997754,
          0.0022171660000003257,
          0.001522040999999863,
          0.001566666999999633,
          0.0016473750000001175,
          0.0016670839999997078,
          0.0037155410000000444,
          0.00004658300000004445,
          0.002583000000000002,
          0.0014507090000002165,
          0.00156604100000024,
          0.0017863330000000843,
          0.001609042000000116,
          0.0017136670000001963,
          0.001505124999999996,
          0.0017323750000000082,
          0.002040541999999812,
          0.004217457999999841,
          0.00004758399999982288,
          0.002136000000000138,
          0.0016790840000000529,
          0.0017222080000001139,
          0.0022196249999999473,
          0.002420209000000062,
          0.0017805829999999467,
          0.0024574159999999345,
          0.0021773329999998925,
          0.0030948339999998797,
          0.006485083000000058,
          0.0018224999999998381,
          0.001743499999999898,
          0.0018671249999999695,
          0.0021618329999999464,
          0.002300541999999961,
          0.0020871250000000785,
          0.0023820830000000903,
          0.0023256659999999485,
          0.0019666250000001106,
          0.0021394580000000385,
          0.0028731659999998715,
          0.0022214590000000367,
          0.001825625000000164,
          0.0016048330000000277,
          0.0016921249999999333,
          0.001860458999999981,
          0.0031993749999998933,
          0.003198334000000136,
          0.0015263749999998577,
          0.001693458000000092,
          0.001848875000000083,
          0.001882834000000111,
          0.0018189589999999534,
          0.001696791999999947,
          0.001916792000000056,
          0.001855082999999924,
          0.0017631659999999272,
          0.002308209000000172,
          0.002788041999999935,
          0.00202562499999992,
          0.0020450839999999193,
          0.0028915840000001136,
          0.0016503750000000927,
          0.001595583000000067,
          0.0016572500000000545,
          0.0019604579999998872,
          0.0016017500000000684,
          0.001559084000000155,
          0.0016568750000001131,
          0.002054250000000035,
          0.002241584000000074,
          0.0024922079999998292,
          0.0017049169999998615,
          0.0015780829999998414,
          0.0014249170000000255,
          0.001515582999999987,
          0.0016147920000000315,
          0.0023340000000000583,
          0.0018332500000000085,
          0.001567832999999963,
          0.0017207500000000486,
          0.002364625000000009,
          0.0021230420000000194,
          0.0017960839999999756,
          0.002030540999999886,
          0.0018025829999999132,
          0.002020791999999938,
          0.0026861250000000947,
          0.003149416999999932,
          0.00248383299999988,
          0.003125124999999951,
          0.003131709000000038,
          0.0031918330000000328,
          0.002147167000000172,
          0.0029327499999998174,
          0.003266749999999874,
          0.003167458999999928,
          0.0032962500000000006,
          0.003849790999999936,
          0.003997166999999857,
          0.0037277499999999186,
          0.004177040999999937,
          0.003390416000000007,
          0.00329808400000009,
          0.003808457999999959,
          0.004139332999999912,
          0.005351875000000117,
          0.000046959000000068585,
          0.36486549999999995
         ],
         "xaxis": "x",
         "y": [
          "TRIP_SEGMENTATION/create_places_and_trips",
          "TRIP_SEGMENTATION/segment_into_trips",
          "TRIP_SEGMENTATION/segment_into_trips_time/loop",
          "TRIP_SEGMENTATION/segment_into_trips_time/has_trip_ended",
          "TRIP_SEGMENTATION/segment_into_trips_time/has_trip_ended",
          "TRIP_SEGMENTATION/segment_into_trips_time/has_trip_ended",
          "TRIP_SEGMENTATION/segment_into_trips_time/has_trip_ended",
          "TRIP_SEGMENTATION/segment_into_trips_time/has_trip_ended",
          "TRIP_SEGMENTATION/segment_into_trips_time/has_trip_ended",
          "TRIP_SEGMENTATION/segment_into_trips_time/has_trip_ended",
          "TRIP_SEGMENTATION/segment_into_trips_time/has_trip_ended",
          "TRIP_SEGMENTATION/segment_into_trips_time/has_trip_ended",
          "TRIP_SEGMENTATION/segment_into_trips_time/has_trip_ended",
          "TRIP_SEGMENTATION/segment_into_trips_time/has_trip_ended",
          "TRIP_SEGMENTATION/segment_into_trips_time/has_trip_ended",
          "TRIP_SEGMENTATION/segment_into_trips_time/has_trip_ended",
          "TRIP_SEGMENTATION/segment_into_trips_time/has_trip_ended",
          "TRIP_SEGMENTATION/segment_into_trips_time/has_trip_ended",
          "TRIP_SEGMENTATION/segment_into_trips_time/has_trip_ended",
          "TRIP_SEGMENTATION/segment_into_trips_time/has_trip_ended",
          "TRIP_SEGMENTATION/segment_into_trips_time/has_trip_ended",
          "TRIP_SEGMENTATION/segment_into_trips_time/has_trip_ended",
          "TRIP_SEGMENTATION/segment_into_trips_time/has_trip_ended",
          "TRIP_SEGMENTATION/segment_into_trips_time/has_trip_ended",
          "TRIP_SEGMENTATION/segment_into_trips_time/has_trip_ended",
          "TRIP_SEGMENTATION/segment_into_trips_time/has_trip_ended",
          "TRIP_SEGMENTATION/segment_into_trips_time/has_trip_ended",
          "TRIP_SEGMENTATION/segment_into_trips_time/has_trip_ended",
          "TRIP_SEGMENTATION/segment_into_trips_time/has_trip_ended",
          "TRIP_SEGMENTATION/segment_into_trips_time/has_trip_ended",
          "TRIP_SEGMENTATION/segment_into_trips_time/has_trip_ended",
          "TRIP_SEGMENTATION/segment_into_trips_time/has_trip_ended",
          "TRIP_SEGMENTATION/segment_into_trips_time/has_trip_ended",
          "TRIP_SEGMENTATION/segment_into_trips_time/has_trip_ended",
          "TRIP_SEGMENTATION/segment_into_trips_time/has_trip_ended",
          "TRIP_SEGMENTATION/segment_into_trips_time/has_trip_ended",
          "TRIP_SEGMENTATION/segment_into_trips_time/has_trip_ended",
          "TRIP_SEGMENTATION/segment_into_trips_time/has_trip_ended",
          "TRIP_SEGMENTATION/segment_into_trips_time/has_trip_ended",
          "TRIP_SEGMENTATION/segment_into_trips_time/has_trip_ended",
          "TRIP_SEGMENTATION/segment_into_trips_time/has_trip_ended",
          "TRIP_SEGMENTATION/segment_into_trips_time/has_trip_ended",
          "TRIP_SEGMENTATION/segment_into_trips_time/has_trip_ended",
          "TRIP_SEGMENTATION/segment_into_trips_time/has_trip_ended",
          "TRIP_SEGMENTATION/segment_into_trips_time/has_trip_ended",
          "TRIP_SEGMENTATION/segment_into_trips_time/has_trip_ended",
          "TRIP_SEGMENTATION/segment_into_trips_time/has_trip_ended",
          "TRIP_SEGMENTATION/segment_into_trips_time/has_trip_ended",
          "TRIP_SEGMENTATION/segment_into_trips_time/has_trip_ended",
          "TRIP_SEGMENTATION/segment_into_trips_time/has_trip_ended",
          "TRIP_SEGMENTATION/segment_into_trips_time/has_trip_ended",
          "TRIP_SEGMENTATION/segment_into_trips_time/has_trip_ended",
          "TRIP_SEGMENTATION/segment_into_trips_time/has_trip_ended",
          "TRIP_SEGMENTATION/segment_into_trips_time/has_trip_ended",
          "TRIP_SEGMENTATION/segment_into_trips_time/has_trip_ended",
          "TRIP_SEGMENTATION/segment_into_trips_time/has_trip_ended",
          "TRIP_SEGMENTATION/segment_into_trips_time/has_trip_ended",
          "TRIP_SEGMENTATION/segment_into_trips_time/has_trip_ended",
          "TRIP_SEGMENTATION/segment_into_trips_time/has_trip_ended",
          "TRIP_SEGMENTATION/segment_into_trips_time/has_trip_ended",
          "TRIP_SEGMENTATION/segment_into_trips_time/has_trip_ended",
          "TRIP_SEGMENTATION/segment_into_trips_time/has_trip_ended",
          "TRIP_SEGMENTATION/segment_into_trips_time/has_trip_ended",
          "TRIP_SEGMENTATION/segment_into_trips_time/has_trip_ended",
          "TRIP_SEGMENTATION/segment_into_trips_time/has_trip_ended",
          "TRIP_SEGMENTATION/segment_into_trips_time/has_trip_ended",
          "TRIP_SEGMENTATION/segment_into_trips_time/has_trip_ended",
          "TRIP_SEGMENTATION/segment_into_trips_time/has_trip_ended",
          "TRIP_SEGMENTATION/segment_into_trips_time/has_trip_ended",
          "TRIP_SEGMENTATION/segment_into_trips_time/has_trip_ended",
          "TRIP_SEGMENTATION/segment_into_trips_time/has_trip_ended",
          "TRIP_SEGMENTATION/segment_into_trips_time/has_trip_ended",
          "TRIP_SEGMENTATION/segment_into_trips_time/has_trip_ended",
          "TRIP_SEGMENTATION/segment_into_trips_time/has_trip_ended",
          "TRIP_SEGMENTATION/segment_into_trips_time/has_trip_ended",
          "TRIP_SEGMENTATION/segment_into_trips_time/has_trip_ended",
          "TRIP_SEGMENTATION/segment_into_trips_time/has_trip_ended",
          "TRIP_SEGMENTATION/segment_into_trips_time/has_trip_ended",
          "TRIP_SEGMENTATION/segment_into_trips_time/has_trip_ended",
          "TRIP_SEGMENTATION/segment_into_trips_time/has_trip_ended",
          "TRIP_SEGMENTATION/segment_into_trips_time/has_trip_ended",
          "TRIP_SEGMENTATION/segment_into_trips_time/has_trip_ended",
          "TRIP_SEGMENTATION/segment_into_trips_time/has_trip_ended",
          "TRIP_SEGMENTATION/segment_into_trips_time/has_trip_ended",
          "TRIP_SEGMENTATION/segment_into_trips_time/has_trip_ended",
          "TRIP_SEGMENTATION/segment_into_trips_time/has_trip_ended",
          "TRIP_SEGMENTATION/segment_into_trips_time/has_trip_ended",
          "TRIP_SEGMENTATION/segment_into_trips_time/has_trip_ended",
          "TRIP_SEGMENTATION/segment_into_trips_time/has_trip_ended",
          "TRIP_SEGMENTATION/segment_into_trips_time/has_trip_ended",
          "TRIP_SEGMENTATION/segment_into_trips_time/has_trip_ended",
          "TRIP_SEGMENTATION/segment_into_trips_time/has_trip_ended",
          "TRIP_SEGMENTATION/segment_into_trips_time/has_trip_ended",
          "TRIP_SEGMENTATION/segment_into_trips_time/has_trip_ended",
          "TRIP_SEGMENTATION/segment_into_trips_time/has_trip_ended",
          "TRIP_SEGMENTATION/segment_into_trips_time/has_trip_ended",
          "TRIP_SEGMENTATION/segment_into_trips_time/has_trip_ended",
          "TRIP_SEGMENTATION/segment_into_trips_time/has_trip_ended",
          "TRIP_SEGMENTATION/segment_into_trips_time/has_trip_ended",
          "TRIP_SEGMENTATION/segment_into_trips_time/has_trip_ended",
          "TRIP_SEGMENTATION/segment_into_trips_time/has_trip_ended",
          "TRIP_SEGMENTATION/segment_into_trips_time/has_trip_ended",
          "TRIP_SEGMENTATION/segment_into_trips_time/has_trip_ended",
          "TRIP_SEGMENTATION/segment_into_trips_time/has_trip_ended",
          "TRIP_SEGMENTATION/segment_into_trips_time/has_trip_ended",
          "TRIP_SEGMENTATION/segment_into_trips_time/has_trip_ended",
          "TRIP_SEGMENTATION/segment_into_trips_time/has_trip_ended",
          "TRIP_SEGMENTATION/segment_into_trips_time/has_trip_ended",
          "TRIP_SEGMENTATION/segment_into_trips_time/has_trip_ended",
          "TRIP_SEGMENTATION/segment_into_trips_time/has_trip_ended",
          "TRIP_SEGMENTATION/segment_into_trips_time/has_trip_ended",
          "TRIP_SEGMENTATION/segment_into_trips_time/has_trip_ended",
          "TRIP_SEGMENTATION/segment_into_trips_time/has_trip_ended",
          "TRIP_SEGMENTATION/segment_into_trips_time/has_trip_ended",
          "TRIP_SEGMENTATION/segment_into_trips_time/has_trip_ended",
          "TRIP_SEGMENTATION/segment_into_trips_time/has_trip_ended",
          "TRIP_SEGMENTATION/segment_into_trips_time/has_trip_ended",
          "TRIP_SEGMENTATION/segment_into_trips_time/has_trip_ended",
          "TRIP_SEGMENTATION/segment_into_trips_time/has_trip_ended",
          "TRIP_SEGMENTATION/segment_into_trips_time/has_trip_ended",
          "TRIP_SEGMENTATION/segment_into_trips_time/has_trip_ended",
          "TRIP_SEGMENTATION/segment_into_trips_time/has_trip_ended",
          "TRIP_SEGMENTATION/segment_into_trips_time/has_trip_ended",
          "TRIP_SEGMENTATION/segment_into_trips_time/has_trip_ended",
          "TRIP_SEGMENTATION/segment_into_trips_time/has_trip_ended",
          "TRIP_SEGMENTATION/segment_into_trips_time/has_trip_ended",
          "TRIP_SEGMENTATION/segment_into_trips_time/has_trip_ended",
          "TRIP_SEGMENTATION/segment_into_trips_time/has_trip_ended",
          "TRIP_SEGMENTATION/segment_into_trips_time/has_trip_ended",
          "TRIP_SEGMENTATION/segment_into_trips_time/has_trip_ended",
          "TRIP_SEGMENTATION/segment_into_trips_time/has_trip_ended",
          "TRIP_SEGMENTATION/segment_into_trips_time/has_trip_ended",
          "TRIP_SEGMENTATION/segment_into_trips_time/has_trip_ended",
          "TRIP_SEGMENTATION/segment_into_trips_time/has_trip_ended",
          "TRIP_SEGMENTATION/segment_into_trips_time/has_trip_ended",
          "TRIP_SEGMENTATION/segment_into_trips_time/has_trip_ended",
          "TRIP_SEGMENTATION/segment_into_trips_time/has_trip_ended",
          "TRIP_SEGMENTATION/segment_into_trips_time/has_trip_ended",
          "TRIP_SEGMENTATION/segment_into_trips_time/has_trip_ended",
          "TRIP_SEGMENTATION/segment_into_trips_time/has_trip_ended",
          "TRIP_SEGMENTATION/segment_into_trips_time/has_trip_ended",
          "TRIP_SEGMENTATION/segment_into_trips_time/has_trip_ended",
          "TRIP_SEGMENTATION/segment_into_trips_time/has_trip_ended",
          "TRIP_SEGMENTATION/segment_into_trips_time/has_trip_ended",
          "TRIP_SEGMENTATION/segment_into_trips_time/has_trip_ended",
          "TRIP_SEGMENTATION/segment_into_trips_time/has_trip_ended",
          "TRIP_SEGMENTATION/segment_into_trips_time/has_trip_ended",
          "TRIP_SEGMENTATION/segment_into_trips_time/has_trip_ended",
          "TRIP_SEGMENTATION/segment_into_trips_time/has_trip_ended",
          "TRIP_SEGMENTATION/segment_into_trips_time/has_trip_ended",
          "TRIP_SEGMENTATION/segment_into_trips_time/has_trip_ended",
          "TRIP_SEGMENTATION/segment_into_trips_time/has_trip_ended",
          "TRIP_SEGMENTATION/segment_into_trips_time/has_trip_ended",
          "TRIP_SEGMENTATION/segment_into_trips_time/has_trip_ended",
          "TRIP_SEGMENTATION/segment_into_trips_time/has_trip_ended",
          "TRIP_SEGMENTATION/segment_into_trips_time/has_trip_ended",
          "TRIP_SEGMENTATION/segment_into_trips_time/has_trip_ended",
          "TRIP_SEGMENTATION/segment_into_trips_time/has_trip_ended",
          "TRIP_SEGMENTATION/segment_into_trips_time/has_trip_ended",
          "TRIP_SEGMENTATION/segment_into_trips_time/has_trip_ended",
          "TRIP_SEGMENTATION/segment_into_trips_time/has_trip_ended",
          "TRIP_SEGMENTATION/segment_into_trips_time/has_trip_ended",
          "TRIP_SEGMENTATION/segment_into_trips_time/has_trip_ended",
          "TRIP_SEGMENTATION/segment_into_trips_time/has_trip_ended",
          "TRIP_SEGMENTATION/segment_into_trips_time/has_trip_ended",
          "TRIP_SEGMENTATION/segment_into_trips_time/has_trip_ended",
          "TRIP_SEGMENTATION/segment_into_trips_time/has_trip_ended",
          "TRIP_SEGMENTATION/segment_into_trips_time/has_trip_ended",
          "TRIP_SEGMENTATION/segment_into_trips_time/has_trip_ended",
          "TRIP_SEGMENTATION/segment_into_trips_time/has_trip_ended",
          "TRIP_SEGMENTATION/segment_into_trips_time/has_trip_ended",
          "TRIP_SEGMENTATION/segment_into_trips_time/has_trip_ended",
          "TRIP_SEGMENTATION/segment_into_trips_time/has_trip_ended",
          "TRIP_SEGMENTATION/segment_into_trips_time/has_trip_ended",
          "TRIP_SEGMENTATION/segment_into_trips_time/has_trip_ended",
          "TRIP_SEGMENTATION/segment_into_trips_time/has_trip_ended",
          "TRIP_SEGMENTATION/segment_into_trips_time/has_trip_ended",
          "TRIP_SEGMENTATION/segment_into_trips_time/has_trip_ended",
          "TRIP_SEGMENTATION/segment_into_trips_time/has_trip_ended",
          "TRIP_SEGMENTATION/segment_into_trips_time/has_trip_ended",
          "TRIP_SEGMENTATION/segment_into_trips_time/has_trip_ended",
          "TRIP_SEGMENTATION/segment_into_trips_time/has_trip_ended",
          "TRIP_SEGMENTATION/segment_into_trips_time/has_trip_ended",
          "TRIP_SEGMENTATION/segment_into_trips_time/has_trip_ended",
          "TRIP_SEGMENTATION/segment_into_trips_time/has_trip_ended",
          "TRIP_SEGMENTATION/segment_into_trips_time/has_trip_ended",
          "TRIP_SEGMENTATION/segment_into_trips_time/has_trip_ended",
          "TRIP_SEGMENTATION/segment_into_trips_time/has_trip_ended",
          "TRIP_SEGMENTATION/segment_into_trips_time/has_trip_ended",
          "TRIP_SEGMENTATION/segment_into_trips_time/has_trip_ended",
          "TRIP_SEGMENTATION/segment_into_trips_time/has_trip_ended",
          "TRIP_SEGMENTATION/segment_into_trips_time/has_trip_ended",
          "TRIP_SEGMENTATION/segment_into_trips_time/has_trip_ended",
          "TRIP_SEGMENTATION/segment_into_trips_time/has_trip_ended",
          "TRIP_SEGMENTATION/segment_into_trips_time/has_trip_ended",
          "TRIP_SEGMENTATION/segment_into_trips_time/has_trip_ended",
          "TRIP_SEGMENTATION/segment_into_trips_time/has_trip_ended",
          "TRIP_SEGMENTATION/segment_into_trips_time/has_trip_ended",
          "TRIP_SEGMENTATION/segment_into_trips_time/has_trip_ended",
          "TRIP_SEGMENTATION/segment_into_trips_time/has_trip_ended",
          "TRIP_SEGMENTATION/segment_into_trips_time/has_trip_ended",
          "TRIP_SEGMENTATION/segment_into_trips_time/has_trip_ended",
          "TRIP_SEGMENTATION/segment_into_trips_time/has_trip_ended",
          "TRIP_SEGMENTATION/segment_into_trips_time/has_trip_ended",
          "TRIP_SEGMENTATION/segment_into_trips_time/has_trip_ended",
          "TRIP_SEGMENTATION/segment_into_trips_time/has_trip_ended",
          "TRIP_SEGMENTATION/segment_into_trips_time/has_trip_ended",
          "TRIP_SEGMENTATION/segment_into_trips_time/has_trip_ended",
          "TRIP_SEGMENTATION/segment_into_trips_time/has_trip_ended",
          "TRIP_SEGMENTATION/segment_into_trips_time/has_trip_ended",
          "TRIP_SEGMENTATION/segment_into_trips_time/has_trip_ended",
          "TRIP_SEGMENTATION/segment_into_trips_time/has_trip_ended",
          "TRIP_SEGMENTATION/segment_into_trips_time/has_trip_ended",
          "TRIP_SEGMENTATION/segment_into_trips_time/has_trip_ended",
          "TRIP_SEGMENTATION/segment_into_trips_time/has_trip_ended",
          "TRIP_SEGMENTATION/segment_into_trips_time/has_trip_ended",
          "TRIP_SEGMENTATION/segment_into_trips_time/has_trip_ended",
          "TRIP_SEGMENTATION/segment_into_trips_time/has_trip_ended",
          "TRIP_SEGMENTATION/segment_into_trips_time/has_trip_ended",
          "TRIP_SEGMENTATION/segment_into_trips_time/has_trip_ended",
          "TRIP_SEGMENTATION/segment_into_trips_time/has_trip_ended",
          "TRIP_SEGMENTATION/segment_into_trips_time/has_trip_ended",
          "TRIP_SEGMENTATION/segment_into_trips_time/has_trip_ended",
          "TRIP_SEGMENTATION/segment_into_trips_time/has_trip_ended",
          "TRIP_SEGMENTATION/segment_into_trips_time/has_trip_ended",
          "TRIP_SEGMENTATION/segment_into_trips_time/has_trip_ended",
          "TRIP_SEGMENTATION/segment_into_trips_time/has_trip_ended",
          "TRIP_SEGMENTATION/segment_into_trips_time/has_trip_ended",
          "TRIP_SEGMENTATION/segment_into_trips_time/has_trip_ended",
          "TRIP_SEGMENTATION/segment_into_trips_time/has_trip_ended",
          "TRIP_SEGMENTATION/segment_into_trips_time/has_trip_ended",
          "TRIP_SEGMENTATION/segment_into_trips_time/has_trip_ended",
          "TRIP_SEGMENTATION/segment_into_trips_time/has_trip_ended",
          "TRIP_SEGMENTATION/segment_into_trips_time/has_trip_ended",
          "TRIP_SEGMENTATION/segment_into_trips_time/has_trip_ended",
          "TRIP_SEGMENTATION/segment_into_trips_time/has_trip_ended",
          "TRIP_SEGMENTATION/segment_into_trips_time/has_trip_ended",
          "TRIP_SEGMENTATION/segment_into_trips_time/has_trip_ended",
          "TRIP_SEGMENTATION/segment_into_trips_time/has_trip_ended",
          "TRIP_SEGMENTATION/segment_into_trips_time/has_trip_ended",
          "TRIP_SEGMENTATION/segment_into_trips_time/has_trip_ended",
          "TRIP_SEGMENTATION/segment_into_trips_time/has_trip_ended",
          "TRIP_SEGMENTATION/segment_into_trips_time/has_trip_ended",
          "TRIP_SEGMENTATION/segment_into_trips_time/has_trip_ended",
          "TRIP_SEGMENTATION/segment_into_trips_time/has_trip_ended",
          "TRIP_SEGMENTATION/segment_into_trips_time/has_trip_ended",
          "TRIP_SEGMENTATION/segment_into_trips_time/has_trip_ended",
          "TRIP_SEGMENTATION/segment_into_trips_time/has_trip_ended",
          "TRIP_SEGMENTATION/segment_into_trips_time/has_trip_ended",
          "TRIP_SEGMENTATION/segment_into_trips_time/has_trip_ended",
          "TRIP_SEGMENTATION/segment_into_trips_time/has_trip_ended",
          "TRIP_SEGMENTATION/segment_into_trips_time/has_trip_ended",
          "TRIP_SEGMENTATION/segment_into_trips_time/has_trip_ended",
          "TRIP_SEGMENTATION/segment_into_trips_time/has_trip_ended",
          "TRIP_SEGMENTATION/segment_into_trips_time/has_trip_ended",
          "TRIP_SEGMENTATION/segment_into_trips_time/has_trip_ended",
          "TRIP_SEGMENTATION/segment_into_trips_time/has_trip_ended",
          "TRIP_SEGMENTATION/segment_into_trips_time/has_trip_ended",
          "TRIP_SEGMENTATION/segment_into_trips_time/has_trip_ended",
          "TRIP_SEGMENTATION/segment_into_trips_time/has_trip_ended",
          "TRIP_SEGMENTATION/segment_into_trips_time/has_trip_ended",
          "TRIP_SEGMENTATION/segment_into_trips_time/has_trip_ended",
          "TRIP_SEGMENTATION/segment_into_trips_time/has_trip_ended",
          "TRIP_SEGMENTATION/segment_into_trips_time/has_trip_ended",
          "TRIP_SEGMENTATION/segment_into_trips_time/has_trip_ended",
          "TRIP_SEGMENTATION/segment_into_trips_time/has_trip_ended",
          "TRIP_SEGMENTATION/segment_into_trips_time/has_trip_ended",
          "TRIP_SEGMENTATION/segment_into_trips_time/has_trip_ended",
          "TRIP_SEGMENTATION/segment_into_trips_time/has_trip_ended",
          "TRIP_SEGMENTATION/segment_into_trips_time/has_trip_ended",
          "TRIP_SEGMENTATION/segment_into_trips_time/has_trip_ended",
          "TRIP_SEGMENTATION/segment_into_trips_time/has_trip_ended",
          "TRIP_SEGMENTATION/segment_into_trips_time/has_trip_ended",
          "TRIP_SEGMENTATION/segment_into_trips_time/has_trip_ended",
          "TRIP_SEGMENTATION/segment_into_trips_time/has_trip_ended",
          "TRIP_SEGMENTATION/segment_into_trips_time/has_trip_ended",
          "TRIP_SEGMENTATION/segment_into_trips_time/has_trip_ended",
          "TRIP_SEGMENTATION/segment_into_trips_time/has_trip_ended",
          "TRIP_SEGMENTATION/segment_into_trips_time/has_trip_ended",
          "TRIP_SEGMENTATION/segment_into_trips_time/has_trip_ended",
          "TRIP_SEGMENTATION/segment_into_trips_time/has_trip_ended",
          "TRIP_SEGMENTATION/segment_into_trips_time/has_trip_ended",
          "TRIP_SEGMENTATION/segment_into_trips_time/has_trip_ended",
          "TRIP_SEGMENTATION/segment_into_trips_time/has_trip_ended",
          "TRIP_SEGMENTATION/segment_into_trips_time/has_trip_ended",
          "TRIP_SEGMENTATION/segment_into_trips_time/has_trip_ended",
          "TRIP_SEGMENTATION/segment_into_trips_time/has_trip_ended",
          "TRIP_SEGMENTATION/segment_into_trips_time/has_trip_ended",
          "TRIP_SEGMENTATION/segment_into_trips_time/has_trip_ended",
          "TRIP_SEGMENTATION/segment_into_trips_time/has_trip_ended",
          "TRIP_SEGMENTATION/segment_into_trips_time/has_trip_ended",
          "TRIP_SEGMENTATION/segment_into_trips_time/has_trip_ended",
          "TRIP_SEGMENTATION/segment_into_trips_time/has_trip_ended",
          "TRIP_SEGMENTATION/segment_into_trips_time/has_trip_ended",
          "TRIP_SEGMENTATION/segment_into_trips_time/has_trip_ended",
          "TRIP_SEGMENTATION/segment_into_trips_time/has_trip_ended",
          "TRIP_SEGMENTATION/segment_into_trips_time/has_trip_ended",
          "TRIP_SEGMENTATION/segment_into_trips_time/has_trip_ended",
          "TRIP_SEGMENTATION/segment_into_trips_time/has_trip_ended",
          "TRIP_SEGMENTATION/segment_into_trips_time/has_trip_ended",
          "TRIP_SEGMENTATION/segment_into_trips_time/has_trip_ended",
          "TRIP_SEGMENTATION/segment_into_trips_time/has_trip_ended",
          "TRIP_SEGMENTATION/segment_into_trips_time/has_trip_ended",
          "TRIP_SEGMENTATION/segment_into_trips_time/has_trip_ended",
          "TRIP_SEGMENTATION/segment_into_trips_time/has_trip_ended",
          "TRIP_SEGMENTATION/segment_into_trips_time/has_trip_ended",
          "TRIP_SEGMENTATION/segment_into_trips_time/has_trip_ended",
          "TRIP_SEGMENTATION/segment_into_trips_time/has_trip_ended",
          "TRIP_SEGMENTATION/segment_into_trips_time/has_trip_ended",
          "TRIP_SEGMENTATION/segment_into_trips_time/has_trip_ended",
          "TRIP_SEGMENTATION/segment_into_trips_time/has_trip_ended",
          "TRIP_SEGMENTATION/segment_into_trips_time/has_trip_ended",
          "TRIP_SEGMENTATION/segment_into_trips_time/has_trip_ended",
          "TRIP_SEGMENTATION/segment_into_trips_time/has_trip_ended",
          "TRIP_SEGMENTATION/segment_into_trips_time/has_trip_ended",
          "TRIP_SEGMENTATION/segment_into_trips_time/has_trip_ended",
          "TRIP_SEGMENTATION/segment_into_trips_time/has_trip_ended",
          "TRIP_SEGMENTATION/segment_into_trips_time/has_trip_ended",
          "TRIP_SEGMENTATION/segment_into_trips_time/has_trip_ended",
          "TRIP_SEGMENTATION/segment_into_trips_time/has_trip_ended",
          "TRIP_SEGMENTATION/segment_into_trips_time/has_trip_ended",
          "TRIP_SEGMENTATION/segment_into_trips_time/has_trip_ended",
          "TRIP_SEGMENTATION/segment_into_trips_time/has_trip_ended",
          "TRIP_SEGMENTATION/segment_into_trips_time/has_trip_ended",
          "TRIP_SEGMENTATION/segment_into_trips_time/has_trip_ended",
          "TRIP_SEGMENTATION/segment_into_trips_time/has_trip_ended",
          "TRIP_SEGMENTATION/segment_into_trips_time/has_trip_ended",
          "TRIP_SEGMENTATION/segment_into_trips_time/has_trip_ended",
          "TRIP_SEGMENTATION/segment_into_trips_time/has_trip_ended",
          "TRIP_SEGMENTATION/segment_into_trips_time/has_trip_ended",
          "TRIP_SEGMENTATION/segment_into_trips_time/has_trip_ended",
          "TRIP_SEGMENTATION/segment_into_trips_time/has_trip_ended",
          "TRIP_SEGMENTATION/segment_into_trips_time/has_trip_ended",
          "TRIP_SEGMENTATION/segment_into_trips_time/has_trip_ended",
          "TRIP_SEGMENTATION/segment_into_trips_time/has_trip_ended",
          "TRIP_SEGMENTATION/segment_into_trips_time/has_trip_ended",
          "TRIP_SEGMENTATION/segment_into_trips_time/has_trip_ended",
          "TRIP_SEGMENTATION/segment_into_trips_time/has_trip_ended",
          "TRIP_SEGMENTATION/segment_into_trips_time/has_trip_ended",
          "TRIP_SEGMENTATION/segment_into_trips_time/has_trip_ended",
          "TRIP_SEGMENTATION/segment_into_trips_time/has_trip_ended",
          "TRIP_SEGMENTATION/segment_into_trips_time/has_trip_ended",
          "TRIP_SEGMENTATION/segment_into_trips_time/has_trip_ended",
          "TRIP_SEGMENTATION/segment_into_trips_time/has_trip_ended",
          "TRIP_SEGMENTATION/segment_into_trips_time/has_trip_ended",
          "TRIP_SEGMENTATION/segment_into_trips_time/has_trip_ended",
          "TRIP_SEGMENTATION/segment_into_trips_time/has_trip_ended",
          "TRIP_SEGMENTATION/segment_into_trips_time/has_trip_ended",
          "TRIP_SEGMENTATION/segment_into_trips_time/has_trip_ended",
          "TRIP_SEGMENTATION/segment_into_trips_time/has_trip_ended",
          "TRIP_SEGMENTATION/segment_into_trips_time/has_trip_ended",
          "TRIP_SEGMENTATION/segment_into_trips_time/has_trip_ended",
          "TRIP_SEGMENTATION/segment_into_trips_time/has_trip_ended",
          "TRIP_SEGMENTATION/segment_into_trips_time/has_trip_ended",
          "TRIP_SEGMENTATION/segment_into_trips_time/has_trip_ended",
          "TRIP_SEGMENTATION/segment_into_trips_time/has_trip_ended",
          "TRIP_SEGMENTATION/segment_into_trips_time/has_trip_ended",
          "TRIP_SEGMENTATION/segment_into_trips_time/has_trip_ended",
          "TRIP_SEGMENTATION/segment_into_trips_time/has_trip_ended",
          "TRIP_SEGMENTATION/segment_into_trips_time/has_trip_ended",
          "TRIP_SEGMENTATION/segment_into_trips_time/has_trip_ended",
          "TRIP_SEGMENTATION/segment_into_trips_time/has_trip_ended",
          "TRIP_SEGMENTATION/segment_into_trips_time/has_trip_ended",
          "TRIP_SEGMENTATION/segment_into_trips_time/has_trip_ended",
          "TRIP_SEGMENTATION/segment_into_trips_time/has_trip_ended",
          "TRIP_SEGMENTATION/segment_into_trips_time/has_trip_ended",
          "TRIP_SEGMENTATION/segment_into_trips_time/has_trip_ended",
          "TRIP_SEGMENTATION/segment_into_trips_time/has_trip_ended",
          "TRIP_SEGMENTATION/segment_into_trips_time/has_trip_ended",
          "TRIP_SEGMENTATION/segment_into_trips_time/has_trip_ended",
          "TRIP_SEGMENTATION/segment_into_trips_time/has_trip_ended",
          "TRIP_SEGMENTATION/segment_into_trips_time/has_trip_ended",
          "TRIP_SEGMENTATION/segment_into_trips_time/has_trip_ended",
          "TRIP_SEGMENTATION/segment_into_trips_time/has_trip_ended",
          "TRIP_SEGMENTATION/segment_into_trips_time/has_trip_ended",
          "TRIP_SEGMENTATION/segment_into_trips_time/has_trip_ended",
          "TRIP_SEGMENTATION/segment_into_trips_time/has_trip_ended",
          "TRIP_SEGMENTATION/segment_into_trips_time/has_trip_ended",
          "TRIP_SEGMENTATION/segment_into_trips_time/has_trip_ended",
          "TRIP_SEGMENTATION/segment_into_trips_time/has_trip_ended",
          "TRIP_SEGMENTATION/segment_into_trips_time/has_trip_ended",
          "TRIP_SEGMENTATION/segment_into_trips_time/has_trip_ended",
          "TRIP_SEGMENTATION/segment_into_trips_time/has_trip_ended",
          "TRIP_SEGMENTATION/segment_into_trips_time/has_trip_ended",
          "TRIP_SEGMENTATION/segment_into_trips_time/has_trip_ended",
          "TRIP_SEGMENTATION/segment_into_trips_time/has_trip_ended",
          "TRIP_SEGMENTATION/segment_into_trips_time/has_trip_ended",
          "TRIP_SEGMENTATION/segment_into_trips_time/has_trip_ended",
          "TRIP_SEGMENTATION/segment_into_trips_time/has_trip_ended",
          "TRIP_SEGMENTATION/segment_into_trips_time/has_trip_ended",
          "TRIP_SEGMENTATION/segment_into_trips_time/has_trip_ended",
          "TRIP_SEGMENTATION/segment_into_trips_time/has_trip_ended",
          "TRIP_SEGMENTATION/segment_into_trips_time/has_trip_ended",
          "TRIP_SEGMENTATION/segment_into_trips_time/has_trip_ended",
          "TRIP_SEGMENTATION/segment_into_trips_time/has_trip_ended",
          "TRIP_SEGMENTATION/segment_into_trips_time/has_trip_ended",
          "TRIP_SEGMENTATION/segment_into_trips_time/has_trip_ended",
          "TRIP_SEGMENTATION/segment_into_trips_time/has_trip_ended",
          "TRIP_SEGMENTATION/segment_into_trips_time/has_trip_ended",
          "TRIP_SEGMENTATION/segment_into_trips_time/has_trip_ended",
          "TRIP_SEGMENTATION/segment_into_trips_time/has_trip_ended",
          "TRIP_SEGMENTATION/segment_into_trips_time/has_trip_ended",
          "TRIP_SEGMENTATION/segment_into_trips_time/has_trip_ended",
          "TRIP_SEGMENTATION/segment_into_trips_time/has_trip_ended",
          "TRIP_SEGMENTATION/segment_into_trips_time/has_trip_ended",
          "TRIP_SEGMENTATION/segment_into_trips_time/has_trip_ended",
          "TRIP_SEGMENTATION/segment_into_trips_time/has_trip_ended",
          "TRIP_SEGMENTATION/segment_into_trips_time/has_trip_ended",
          "TRIP_SEGMENTATION/segment_into_trips_time/has_trip_ended",
          "TRIP_SEGMENTATION/segment_into_trips_time/has_trip_ended",
          "TRIP_SEGMENTATION/segment_into_trips_time/has_trip_ended",
          "TRIP_SEGMENTATION/segment_into_trips_time/has_trip_ended",
          "TRIP_SEGMENTATION/segment_into_trips_time/has_trip_ended",
          "TRIP_SEGMENTATION/segment_into_trips_time/has_trip_ended",
          "TRIP_SEGMENTATION/segment_into_trips_time/has_trip_ended",
          "TRIP_SEGMENTATION/segment_into_trips_time/has_trip_ended",
          "TRIP_SEGMENTATION/segment_into_trips_time/has_trip_ended",
          "TRIP_SEGMENTATION/segment_into_trips_time/has_trip_ended",
          "TRIP_SEGMENTATION/segment_into_trips_time/has_trip_ended",
          "TRIP_SEGMENTATION/segment_into_trips_time/has_trip_ended",
          "TRIP_SEGMENTATION/segment_into_trips_time/has_trip_ended",
          "TRIP_SEGMENTATION/segment_into_trips_time/has_trip_ended",
          "TRIP_SEGMENTATION/segment_into_trips_time/has_trip_ended",
          "TRIP_SEGMENTATION/segment_into_trips_time/has_trip_ended",
          "TRIP_SEGMENTATION/segment_into_trips_time/has_trip_ended",
          "TRIP_SEGMENTATION/segment_into_trips_time/has_trip_ended",
          "TRIP_SEGMENTATION/segment_into_trips_time/has_trip_ended",
          "TRIP_SEGMENTATION/segment_into_trips_time/has_trip_ended",
          "TRIP_SEGMENTATION/segment_into_trips_time/has_trip_ended",
          "TRIP_SEGMENTATION/segment_into_trips_time/has_trip_ended",
          "TRIP_SEGMENTATION/segment_into_trips_time/has_trip_ended",
          "TRIP_SEGMENTATION/segment_into_trips_time/has_trip_ended",
          "TRIP_SEGMENTATION/segment_into_trips_time/has_trip_ended",
          "TRIP_SEGMENTATION/segment_into_trips_time/has_trip_ended",
          "TRIP_SEGMENTATION/segment_into_trips_time/has_trip_ended",
          "TRIP_SEGMENTATION/segment_into_trips_time/has_trip_ended",
          "TRIP_SEGMENTATION/segment_into_trips_time/has_trip_ended",
          "TRIP_SEGMENTATION/segment_into_trips_time/has_trip_ended",
          "TRIP_SEGMENTATION/segment_into_trips_time/has_trip_ended",
          "TRIP_SEGMENTATION/segment_into_trips_time/has_trip_ended",
          "TRIP_SEGMENTATION/segment_into_trips_time/has_trip_ended",
          "TRIP_SEGMENTATION/segment_into_trips_time/has_trip_ended",
          "TRIP_SEGMENTATION/segment_into_trips_time/has_trip_ended",
          "TRIP_SEGMENTATION/segment_into_trips_time/has_trip_ended",
          "TRIP_SEGMENTATION/segment_into_trips_time/has_trip_ended",
          "TRIP_SEGMENTATION/segment_into_trips_time/has_trip_ended",
          "TRIP_SEGMENTATION/segment_into_trips_time/has_trip_ended",
          "TRIP_SEGMENTATION/segment_into_trips_time/has_trip_ended",
          "TRIP_SEGMENTATION/segment_into_trips_time/has_trip_ended",
          "TRIP_SEGMENTATION/segment_into_trips_time/has_trip_ended",
          "TRIP_SEGMENTATION/segment_into_trips_time/has_trip_ended",
          "TRIP_SEGMENTATION/segment_into_trips_time/has_trip_ended",
          "TRIP_SEGMENTATION/segment_into_trips_time/has_trip_ended",
          "TRIP_SEGMENTATION/segment_into_trips_time/has_trip_ended",
          "TRIP_SEGMENTATION/segment_into_trips_time/has_trip_ended",
          "TRIP_SEGMENTATION/segment_into_trips_time/has_trip_ended",
          "TRIP_SEGMENTATION/segment_into_trips_time/has_trip_ended",
          "TRIP_SEGMENTATION/segment_into_trips_time/has_trip_ended",
          "TRIP_SEGMENTATION/segment_into_trips_time/has_trip_ended",
          "TRIP_SEGMENTATION/segment_into_trips_time/has_trip_ended",
          "TRIP_SEGMENTATION/segment_into_trips_time/has_trip_ended",
          "TRIP_SEGMENTATION/segment_into_trips_time/has_trip_ended",
          "TRIP_SEGMENTATION/segment_into_trips_time/has_trip_ended",
          "TRIP_SEGMENTATION/segment_into_trips_time/has_trip_ended",
          "TRIP_SEGMENTATION/segment_into_trips_time/has_trip_ended",
          "TRIP_SEGMENTATION/segment_into_trips_time/has_trip_ended",
          "TRIP_SEGMENTATION/segment_into_trips_time/has_trip_ended",
          "TRIP_SEGMENTATION/segment_into_trips_time/has_trip_ended",
          "TRIP_SEGMENTATION/segment_into_trips_time/has_trip_ended",
          "TRIP_SEGMENTATION/segment_into_trips_time/has_trip_ended",
          "TRIP_SEGMENTATION/segment_into_trips_time/has_trip_ended",
          "TRIP_SEGMENTATION/segment_into_trips_time/has_trip_ended",
          "TRIP_SEGMENTATION/segment_into_trips_time/has_trip_ended",
          "TRIP_SEGMENTATION/segment_into_trips_time/has_trip_ended",
          "TRIP_SEGMENTATION/segment_into_trips_time/has_trip_ended",
          "TRIP_SEGMENTATION/segment_into_trips_time/has_trip_ended",
          "TRIP_SEGMENTATION/segment_into_trips_time/has_trip_ended",
          "TRIP_SEGMENTATION/segment_into_trips_time/has_trip_ended",
          "TRIP_SEGMENTATION/segment_into_trips_time/has_trip_ended",
          "TRIP_SEGMENTATION/segment_into_trips_time/has_trip_ended",
          "TRIP_SEGMENTATION/segment_into_trips_time/has_trip_ended",
          "TRIP_SEGMENTATION/segment_into_trips_time/has_trip_ended",
          "TRIP_SEGMENTATION/segment_into_trips_time/has_trip_ended",
          "TRIP_SEGMENTATION/segment_into_trips_time/has_trip_ended",
          "TRIP_SEGMENTATION/segment_into_trips_time/has_trip_ended",
          "TRIP_SEGMENTATION/segment_into_trips_time/has_trip_ended",
          "TRIP_SEGMENTATION/segment_into_trips_time/has_trip_ended",
          "TRIP_SEGMENTATION/segment_into_trips_time/has_trip_ended",
          "TRIP_SEGMENTATION/segment_into_trips_time/has_trip_ended",
          "TRIP_SEGMENTATION/segment_into_trips_time/has_trip_ended",
          "TRIP_SEGMENTATION/segment_into_trips_time/has_trip_ended",
          "TRIP_SEGMENTATION/segment_into_trips_time/has_trip_ended",
          "TRIP_SEGMENTATION/segment_into_trips_time/has_trip_ended",
          "TRIP_SEGMENTATION/segment_into_trips_time/has_trip_ended",
          "TRIP_SEGMENTATION/segment_into_trips_time/has_trip_ended",
          "TRIP_SEGMENTATION/segment_into_trips_time/has_trip_ended",
          "TRIP_SEGMENTATION/segment_into_trips_time/has_trip_ended",
          "TRIP_SEGMENTATION/segment_into_trips_time/has_trip_ended",
          "TRIP_SEGMENTATION/segment_into_trips_time/has_trip_ended",
          "TRIP_SEGMENTATION/segment_into_trips_time/has_trip_ended",
          "TRIP_SEGMENTATION/segment_into_trips_time/has_trip_ended",
          "TRIP_SEGMENTATION/segment_into_trips_time/has_trip_ended",
          "TRIP_SEGMENTATION/segment_into_trips_time/has_trip_ended",
          "TRIP_SEGMENTATION/segment_into_trips_time/has_trip_ended",
          "TRIP_SEGMENTATION/segment_into_trips_time/has_trip_ended",
          "TRIP_SEGMENTATION/segment_into_trips_time/has_trip_ended",
          "TRIP_SEGMENTATION/segment_into_trips_time/has_trip_ended",
          "TRIP_SEGMENTATION/segment_into_trips_time/has_trip_ended",
          "TRIP_SEGMENTATION/segment_into_trips_time/has_trip_ended",
          "TRIP_SEGMENTATION/segment_into_trips_time/has_trip_ended",
          "TRIP_SEGMENTATION/segment_into_trips_time/has_trip_ended",
          "TRIP_SEGMENTATION/segment_into_trips_time/has_trip_ended",
          "TRIP_SEGMENTATION/segment_into_trips_time/has_trip_ended",
          "TRIP_SEGMENTATION/segment_into_trips_time/has_trip_ended",
          "TRIP_SEGMENTATION/segment_into_trips_time/has_trip_ended",
          "TRIP_SEGMENTATION/segment_into_trips_time/has_trip_ended",
          "TRIP_SEGMENTATION/segment_into_trips_time/has_trip_ended",
          "TRIP_SEGMENTATION/segment_into_trips_time/has_trip_ended",
          "TRIP_SEGMENTATION/segment_into_trips_time/has_trip_ended",
          "TRIP_SEGMENTATION/segment_into_trips_time/has_trip_ended",
          "TRIP_SEGMENTATION/segment_into_trips_time/has_trip_ended",
          "TRIP_SEGMENTATION/segment_into_trips_time/has_trip_ended",
          "TRIP_SEGMENTATION/segment_into_trips_time/has_trip_ended",
          "TRIP_SEGMENTATION/segment_into_trips_time/has_trip_ended",
          "TRIP_SEGMENTATION/segment_into_trips_time/has_trip_ended",
          "TRIP_SEGMENTATION/segment_into_trips_time/has_trip_ended",
          "TRIP_SEGMENTATION/segment_into_trips_time/has_trip_ended",
          "TRIP_SEGMENTATION/segment_into_trips_time/has_trip_ended",
          "TRIP_SEGMENTATION/segment_into_trips_time/has_trip_ended",
          "TRIP_SEGMENTATION/segment_into_trips_time/has_trip_ended",
          "TRIP_SEGMENTATION/segment_into_trips_time/has_trip_ended",
          "TRIP_SEGMENTATION/segment_into_trips_time/has_trip_ended",
          "TRIP_SEGMENTATION/segment_into_trips_time/has_trip_ended",
          "TRIP_SEGMENTATION/segment_into_trips_time/has_trip_ended",
          "TRIP_SEGMENTATION/segment_into_trips_time/has_trip_ended",
          "TRIP_SEGMENTATION/segment_into_trips_time/has_trip_ended",
          "TRIP_SEGMENTATION/segment_into_trips_time/has_trip_ended",
          "TRIP_SEGMENTATION/segment_into_trips_time/has_trip_ended",
          "TRIP_SEGMENTATION/segment_into_trips_time/has_trip_ended",
          "TRIP_SEGMENTATION/segment_into_trips_time/has_trip_ended",
          "TRIP_SEGMENTATION/segment_into_trips_time/has_trip_ended",
          "TRIP_SEGMENTATION/segment_into_trips_time/has_trip_ended",
          "TRIP_SEGMENTATION/segment_into_trips_time/has_trip_ended",
          "TRIP_SEGMENTATION/segment_into_trips_time/has_trip_ended",
          "TRIP_SEGMENTATION/segment_into_trips_time/has_trip_ended",
          "TRIP_SEGMENTATION/segment_into_trips_time/has_trip_ended",
          "TRIP_SEGMENTATION/segment_into_trips_time/has_trip_ended",
          "TRIP_SEGMENTATION/segment_into_trips_time/has_trip_ended",
          "TRIP_SEGMENTATION/segment_into_trips_time/has_trip_ended",
          "TRIP_SEGMENTATION/segment_into_trips_time/has_trip_ended",
          "TRIP_SEGMENTATION/segment_into_trips_time/has_trip_ended",
          "TRIP_SEGMENTATION/segment_into_trips_time/has_trip_ended",
          "TRIP_SEGMENTATION/segment_into_trips_time/has_trip_ended",
          "TRIP_SEGMENTATION/segment_into_trips_time/has_trip_ended",
          "TRIP_SEGMENTATION/segment_into_trips_time/has_trip_ended",
          "TRIP_SEGMENTATION/segment_into_trips_time/has_trip_ended",
          "TRIP_SEGMENTATION/segment_into_trips_time/has_trip_ended",
          "TRIP_SEGMENTATION/segment_into_trips_time/has_trip_ended",
          "TRIP_SEGMENTATION/segment_into_trips_time/has_trip_ended",
          "TRIP_SEGMENTATION/segment_into_trips_time/has_trip_ended",
          "TRIP_SEGMENTATION/segment_into_trips_time/has_trip_ended",
          "TRIP_SEGMENTATION/segment_into_trips_time/has_trip_ended",
          "TRIP_SEGMENTATION/segment_into_trips_time/has_trip_ended",
          "TRIP_SEGMENTATION/segment_into_trips_time/has_trip_ended",
          "TRIP_SEGMENTATION/segment_into_trips_time/has_trip_ended",
          "TRIP_SEGMENTATION/segment_into_trips_time/has_trip_ended",
          "TRIP_SEGMENTATION/segment_into_trips_time/has_trip_ended",
          "TRIP_SEGMENTATION/segment_into_trips_time/has_trip_ended",
          "TRIP_SEGMENTATION/segment_into_trips_time/has_trip_ended",
          "TRIP_SEGMENTATION/segment_into_trips_time/has_trip_ended",
          "TRIP_SEGMENTATION/segment_into_trips_time/has_trip_ended",
          "TRIP_SEGMENTATION/segment_into_trips_time/has_trip_ended",
          "TRIP_SEGMENTATION/segment_into_trips_time/has_trip_ended",
          "TRIP_SEGMENTATION/segment_into_trips_time/has_trip_ended",
          "TRIP_SEGMENTATION/segment_into_trips_time/has_trip_ended",
          "TRIP_SEGMENTATION/segment_into_trips_time/has_trip_ended",
          "TRIP_SEGMENTATION/segment_into_trips_time/has_trip_ended",
          "TRIP_SEGMENTATION/segment_into_trips_time/has_trip_ended",
          "TRIP_SEGMENTATION/segment_into_trips_time/has_trip_ended",
          "TRIP_SEGMENTATION/segment_into_trips_time/has_trip_ended",
          "TRIP_SEGMENTATION/segment_into_trips_time/has_trip_ended",
          "TRIP_SEGMENTATION/segment_into_trips_time/has_trip_ended",
          "TRIP_SEGMENTATION/segment_into_trips_time/has_trip_ended",
          "TRIP_SEGMENTATION/segment_into_trips_time/has_trip_ended",
          "TRIP_SEGMENTATION/segment_into_trips_time/has_trip_ended",
          "TRIP_SEGMENTATION/segment_into_trips_time/has_trip_ended",
          "TRIP_SEGMENTATION/segment_into_trips_time/has_trip_ended",
          "TRIP_SEGMENTATION/segment_into_trips_time/has_trip_ended",
          "TRIP_SEGMENTATION/segment_into_trips_time/has_trip_ended",
          "TRIP_SEGMENTATION/segment_into_trips_time/has_trip_ended",
          "TRIP_SEGMENTATION/segment_into_trips_time/has_trip_ended",
          "TRIP_SEGMENTATION/segment_into_trips_time/has_trip_ended",
          "TRIP_SEGMENTATION/segment_into_trips_time/has_trip_ended",
          "TRIP_SEGMENTATION/segment_into_trips_time/has_trip_ended",
          "TRIP_SEGMENTATION/segment_into_trips_time/has_trip_ended",
          "TRIP_SEGMENTATION/segment_into_trips_time/has_trip_ended",
          "TRIP_SEGMENTATION/segment_into_trips_time/has_trip_ended",
          "TRIP_SEGMENTATION/segment_into_trips_time/has_trip_ended",
          "TRIP_SEGMENTATION/segment_into_trips_time/has_trip_ended",
          "TRIP_SEGMENTATION/segment_into_trips_time/has_trip_ended",
          "TRIP_SEGMENTATION/segment_into_trips_time/has_trip_ended",
          "TRIP_SEGMENTATION/segment_into_trips_time/has_trip_ended",
          "TRIP_SEGMENTATION/segment_into_trips_time/has_trip_ended",
          "TRIP_SEGMENTATION/segment_into_trips_time/has_trip_ended",
          "TRIP_SEGMENTATION/segment_into_trips_time/has_trip_ended",
          "TRIP_SEGMENTATION/segment_into_trips_time/has_trip_ended",
          "TRIP_SEGMENTATION/segment_into_trips_time/has_trip_ended",
          "TRIP_SEGMENTATION/segment_into_trips_time/has_trip_ended",
          "TRIP_SEGMENTATION/segment_into_trips_time/has_trip_ended",
          "TRIP_SEGMENTATION/segment_into_trips_time/has_trip_ended",
          "TRIP_SEGMENTATION/segment_into_trips_time/has_trip_ended",
          "TRIP_SEGMENTATION/segment_into_trips_time/has_trip_ended",
          "TRIP_SEGMENTATION/segment_into_trips_time/has_trip_ended",
          "TRIP_SEGMENTATION/segment_into_trips_time/has_trip_ended",
          "TRIP_SEGMENTATION/segment_into_trips_time/has_trip_ended",
          "TRIP_SEGMENTATION/segment_into_trips_time/has_trip_ended",
          "TRIP_SEGMENTATION/segment_into_trips_time/has_trip_ended",
          "TRIP_SEGMENTATION/segment_into_trips_time/has_trip_ended",
          "TRIP_SEGMENTATION/segment_into_trips_time/has_trip_ended",
          "TRIP_SEGMENTATION/segment_into_trips_time/has_trip_ended",
          "TRIP_SEGMENTATION/segment_into_trips_time/has_trip_ended",
          "TRIP_SEGMENTATION/segment_into_trips_time/has_trip_ended",
          "TRIP_SEGMENTATION/segment_into_trips_time/has_trip_ended",
          "TRIP_SEGMENTATION/segment_into_trips_time/has_trip_ended",
          "TRIP_SEGMENTATION/segment_into_trips_time/has_trip_ended",
          "TRIP_SEGMENTATION/segment_into_trips_time/has_trip_ended",
          "TRIP_SEGMENTATION/segment_into_trips_time/has_trip_ended",
          "TRIP_SEGMENTATION/segment_into_trips_time/has_trip_ended",
          "TRIP_SEGMENTATION/segment_into_trips_time/has_trip_ended",
          "TRIP_SEGMENTATION/segment_into_trips_time/has_trip_ended",
          "TRIP_SEGMENTATION/segment_into_trips_time/has_trip_ended",
          "TRIP_SEGMENTATION/segment_into_trips_time/has_trip_ended",
          "TRIP_SEGMENTATION/segment_into_trips_time/has_trip_ended",
          "TRIP_SEGMENTATION/segment_into_trips_time/has_trip_ended",
          "TRIP_SEGMENTATION/segment_into_trips_time/has_trip_ended",
          "TRIP_SEGMENTATION/segment_into_trips_time/has_trip_ended",
          "TRIP_SEGMENTATION/segment_into_trips_time/has_trip_ended",
          "TRIP_SEGMENTATION/segment_into_trips_time/has_trip_ended",
          "TRIP_SEGMENTATION/segment_into_trips_time/has_trip_ended",
          "TRIP_SEGMENTATION/segment_into_trips_time/has_trip_ended",
          "TRIP_SEGMENTATION/segment_into_trips_time/has_trip_ended",
          "TRIP_SEGMENTATION/segment_into_trips_time/has_trip_ended",
          "TRIP_SEGMENTATION/segment_into_trips_time/has_trip_ended",
          "TRIP_SEGMENTATION/segment_into_trips_time/has_trip_ended",
          "TRIP_SEGMENTATION/segment_into_trips_time/has_trip_ended",
          "TRIP_SEGMENTATION/segment_into_trips_time/has_trip_ended",
          "TRIP_SEGMENTATION/segment_into_trips_time/has_trip_ended",
          "TRIP_SEGMENTATION/segment_into_trips_time/has_trip_ended",
          "TRIP_SEGMENTATION/segment_into_trips_time/has_trip_ended",
          "TRIP_SEGMENTATION/segment_into_trips_time/has_trip_ended",
          "TRIP_SEGMENTATION/segment_into_trips_time/has_trip_ended",
          "TRIP_SEGMENTATION/segment_into_trips_time/has_trip_ended",
          "TRIP_SEGMENTATION/segment_into_trips_time/has_trip_ended",
          "TRIP_SEGMENTATION/segment_into_trips_time/has_trip_ended",
          "TRIP_SEGMENTATION/segment_into_trips_time/has_trip_ended",
          "TRIP_SEGMENTATION/segment_into_trips_time/has_trip_ended",
          "TRIP_SEGMENTATION/segment_into_trips_time/has_trip_ended",
          "TRIP_SEGMENTATION/segment_into_trips_time/has_trip_ended",
          "TRIP_SEGMENTATION/segment_into_trips_time/has_trip_ended",
          "TRIP_SEGMENTATION/segment_into_trips_time/has_trip_ended",
          "TRIP_SEGMENTATION/segment_into_trips_time/has_trip_ended",
          "TRIP_SEGMENTATION/segment_into_trips_time/has_trip_ended",
          "TRIP_SEGMENTATION/segment_into_trips_time/has_trip_ended",
          "TRIP_SEGMENTATION/segment_into_trips_time/has_trip_ended",
          "TRIP_SEGMENTATION/segment_into_trips_time/has_trip_ended",
          "TRIP_SEGMENTATION/segment_into_trips_time/has_trip_ended",
          "TRIP_SEGMENTATION/segment_into_trips_time/has_trip_ended",
          "TRIP_SEGMENTATION/segment_into_trips_time/has_trip_ended",
          "TRIP_SEGMENTATION/segment_into_trips_time/has_trip_ended",
          "TRIP_SEGMENTATION/segment_into_trips_time/has_trip_ended",
          "TRIP_SEGMENTATION/segment_into_trips_time/has_trip_ended",
          "TRIP_SEGMENTATION/segment_into_trips_time/has_trip_ended",
          "TRIP_SEGMENTATION/segment_into_trips_time/has_trip_ended",
          "TRIP_SEGMENTATION/segment_into_trips_time/has_trip_ended",
          "TRIP_SEGMENTATION/segment_into_trips_time/has_trip_ended",
          "TRIP_SEGMENTATION/segment_into_trips_time/has_trip_ended",
          "TRIP_SEGMENTATION/segment_into_trips_time/has_trip_ended",
          "TRIP_SEGMENTATION/segment_into_trips_time/has_trip_ended",
          "TRIP_SEGMENTATION/segment_into_trips_time/has_trip_ended",
          "TRIP_SEGMENTATION/segment_into_trips_time/has_trip_ended",
          "TRIP_SEGMENTATION/segment_into_trips_time/has_trip_ended",
          "TRIP_SEGMENTATION/segment_into_trips_time/has_trip_ended",
          "TRIP_SEGMENTATION/segment_into_trips_time/has_trip_ended",
          "TRIP_SEGMENTATION/segment_into_trips_time/has_trip_ended",
          "TRIP_SEGMENTATION/segment_into_trips_time/has_trip_ended",
          "TRIP_SEGMENTATION/segment_into_trips_time/has_trip_ended",
          "TRIP_SEGMENTATION/segment_into_trips_time/has_trip_ended",
          "TRIP_SEGMENTATION/segment_into_trips_time/has_trip_ended",
          "TRIP_SEGMENTATION/segment_into_trips_time/has_trip_ended",
          "TRIP_SEGMENTATION/segment_into_trips_time/has_trip_ended",
          "TRIP_SEGMENTATION/segment_into_trips_time/has_trip_ended",
          "TRIP_SEGMENTATION/segment_into_trips_time/has_trip_ended",
          "TRIP_SEGMENTATION/segment_into_trips_time/has_trip_ended",
          "TRIP_SEGMENTATION/segment_into_trips_time/has_trip_ended",
          "TRIP_SEGMENTATION/segment_into_trips_time/has_trip_ended",
          "TRIP_SEGMENTATION/segment_into_trips_time/has_trip_ended",
          "TRIP_SEGMENTATION/segment_into_trips_time/has_trip_ended",
          "TRIP_SEGMENTATION/segment_into_trips_time/has_trip_ended",
          "TRIP_SEGMENTATION/segment_into_trips_time/has_trip_ended",
          "TRIP_SEGMENTATION/segment_into_trips_time/has_trip_ended",
          "TRIP_SEGMENTATION/segment_into_trips_time/has_trip_ended",
          "TRIP_SEGMENTATION/segment_into_trips_time/has_trip_ended",
          "TRIP_SEGMENTATION/segment_into_trips_time/has_trip_ended",
          "TRIP_SEGMENTATION/segment_into_trips_time/has_trip_ended",
          "TRIP_SEGMENTATION/segment_into_trips_time/has_trip_ended",
          "TRIP_SEGMENTATION/segment_into_trips_time/has_trip_ended",
          "TRIP_SEGMENTATION/segment_into_trips_time/has_trip_ended",
          "TRIP_SEGMENTATION/segment_into_trips_time/has_trip_ended",
          "TRIP_SEGMENTATION/segment_into_trips_time/has_trip_ended",
          "TRIP_SEGMENTATION/segment_into_trips_time/has_trip_ended",
          "TRIP_SEGMENTATION/segment_into_trips_time/has_trip_ended",
          "TRIP_SEGMENTATION/segment_into_trips_time/has_trip_ended",
          "TRIP_SEGMENTATION/segment_into_trips_time/has_trip_ended",
          "TRIP_SEGMENTATION/segment_into_trips_time/has_trip_ended",
          "TRIP_SEGMENTATION/segment_into_trips_time/has_trip_ended",
          "TRIP_SEGMENTATION/segment_into_trips_time/has_trip_ended",
          "TRIP_SEGMENTATION/segment_into_trips_time/has_trip_ended",
          "TRIP_SEGMENTATION/segment_into_trips_time/has_trip_ended",
          "TRIP_SEGMENTATION/segment_into_trips_time/has_trip_ended",
          "TRIP_SEGMENTATION/segment_into_trips_time/has_trip_ended",
          "TRIP_SEGMENTATION/segment_into_trips_time/has_trip_ended",
          "TRIP_SEGMENTATION/segment_into_trips_time/has_trip_ended",
          "TRIP_SEGMENTATION/segment_into_trips_time/has_trip_ended",
          "TRIP_SEGMENTATION/segment_into_trips_time/has_trip_ended",
          "TRIP_SEGMENTATION/segment_into_trips_time/has_trip_ended",
          "TRIP_SEGMENTATION/segment_into_trips_time/has_trip_ended",
          "TRIP_SEGMENTATION/segment_into_trips_time/has_trip_ended",
          "TRIP_SEGMENTATION/segment_into_trips_time/has_trip_ended",
          "TRIP_SEGMENTATION/segment_into_trips_time/has_trip_ended",
          "TRIP_SEGMENTATION/segment_into_trips_time/has_trip_ended",
          "TRIP_SEGMENTATION/segment_into_trips_time/has_trip_ended",
          "TRIP_SEGMENTATION/segment_into_trips_time/has_trip_ended",
          "TRIP_SEGMENTATION/segment_into_trips_time/has_trip_ended",
          "TRIP_SEGMENTATION/segment_into_trips_time/has_trip_ended",
          "TRIP_SEGMENTATION/segment_into_trips_time/has_trip_ended",
          "TRIP_SEGMENTATION/segment_into_trips_time/has_trip_ended",
          "TRIP_SEGMENTATION/segment_into_trips_time/has_trip_ended",
          "TRIP_SEGMENTATION/segment_into_trips_time/has_trip_ended",
          "TRIP_SEGMENTATION/segment_into_trips_time/has_trip_ended",
          "TRIP_SEGMENTATION/segment_into_trips_time/has_trip_ended",
          "TRIP_SEGMENTATION/segment_into_trips_time/has_trip_ended",
          "TRIP_SEGMENTATION/segment_into_trips_time/has_trip_ended",
          "TRIP_SEGMENTATION/segment_into_trips_time/has_trip_ended",
          "TRIP_SEGMENTATION/segment_into_trips_time/has_trip_ended",
          "TRIP_SEGMENTATION/segment_into_trips_time/has_trip_ended",
          "TRIP_SEGMENTATION/segment_into_trips_time/has_trip_ended",
          "TRIP_SEGMENTATION/segment_into_trips_time/has_trip_ended",
          "TRIP_SEGMENTATION/segment_into_trips_time/has_trip_ended",
          "TRIP_SEGMENTATION/segment_into_trips_time/has_trip_ended",
          "TRIP_SEGMENTATION/segment_into_trips_time/has_trip_ended",
          "TRIP_SEGMENTATION/segment_into_trips_time/has_trip_ended",
          "TRIP_SEGMENTATION/segment_into_trips_time/has_trip_ended",
          "TRIP_SEGMENTATION/segment_into_trips_time/has_trip_ended",
          "TRIP_SEGMENTATION/segment_into_trips_time/has_trip_ended",
          "TRIP_SEGMENTATION/segment_into_trips_time/has_trip_ended",
          "TRIP_SEGMENTATION/segment_into_trips_time/has_trip_ended",
          "TRIP_SEGMENTATION/segment_into_trips_time/has_trip_ended",
          "TRIP_SEGMENTATION/segment_into_trips_time/has_trip_ended",
          "TRIP_SEGMENTATION/segment_into_trips_time/has_trip_ended",
          "TRIP_SEGMENTATION/segment_into_trips_time/has_trip_ended",
          "TRIP_SEGMENTATION/segment_into_trips_time/has_trip_ended",
          "TRIP_SEGMENTATION/segment_into_trips_time/has_trip_ended",
          "TRIP_SEGMENTATION/segment_into_trips_time/has_trip_ended",
          "TRIP_SEGMENTATION/segment_into_trips_time/has_trip_ended",
          "TRIP_SEGMENTATION/segment_into_trips_time/has_trip_ended",
          "TRIP_SEGMENTATION/segment_into_trips_time/has_trip_ended",
          "TRIP_SEGMENTATION/segment_into_trips_time/has_trip_ended",
          "TRIP_SEGMENTATION/segment_into_trips_time/has_trip_ended",
          "TRIP_SEGMENTATION/segment_into_trips_time/has_trip_ended",
          "TRIP_SEGMENTATION/segment_into_trips_time/has_trip_ended",
          "TRIP_SEGMENTATION/segment_into_trips_time/has_trip_ended",
          "TRIP_SEGMENTATION/segment_into_trips_time/has_trip_ended",
          "TRIP_SEGMENTATION/segment_into_trips_time/has_trip_ended",
          "TRIP_SEGMENTATION/segment_into_trips_time/has_trip_ended",
          "TRIP_SEGMENTATION/segment_into_trips_time/has_trip_ended",
          "TRIP_SEGMENTATION/segment_into_trips_time/has_trip_ended",
          "TRIP_SEGMENTATION/segment_into_trips_time/has_trip_ended",
          "TRIP_SEGMENTATION/segment_into_trips_time/has_trip_ended",
          "TRIP_SEGMENTATION/segment_into_trips_time/has_trip_ended",
          "TRIP_SEGMENTATION/segment_into_trips_time/has_trip_ended",
          "TRIP_SEGMENTATION/segment_into_trips_time/has_trip_ended",
          "TRIP_SEGMENTATION/segment_into_trips_time/has_trip_ended",
          "TRIP_SEGMENTATION/get_data_df"
         ],
         "yaxis": "y"
        },
        {
         "hovertemplate": "branch_name=segmentation_polars<br>reading=%{x}<br>name=%{y}<extra></extra>",
         "legendgroup": "segmentation_polars",
         "marker": {
          "color": "#00cc96",
          "pattern": {
           "shape": ""
          }
         },
         "name": "segmentation_polars",
         "orientation": "h",
         "showlegend": true,
         "textposition": "auto",
         "type": "bar",
         "x": [
          0.24874341700000002,
          9.245469375,
          8.737698458999999,
          0.009377707999998819,
          0.006439667000000426,
          0.006008624999999768,
          0.005742791999999497,
          0.005817208999999934,
          0.0056802919999991985,
          0.00630208299999957,
          0.005546083000000479,
          0.006025749999999164,
          0.005897707999999113,
          0.005815291999999417,
          0.006095999999999435,
          0.00866841600000079,
          0.006341708000000779,
          0.0069507499999996725,
          0.0064957500000009105,
          0.0073703329999990075,
          0.007255167000000284,
          0.01449712500000011,
          0.03636129200000049,
          0.014158167000001498,
          0.012332999999999927,
          0.006165499999999824,
          0.005819625000000883,
          0.00581441699999985,
          0.0061007919999997995,
          0.007862042000001068,
          0.006848791999999548,
          0.007397958000000315,
          0.0077674160000000825,
          0.0058832500000001176,
          0.005877416000000579,
          0.009202875000001498,
          0.00004666700000122148,
          0.009605500000001044,
          0.00699424999999998,
          0.00701616699999974,
          0.019302375000000538,
          0.01662391600000035,
          0.009134084000001153,
          0.006466375000000468,
          0.009035874999998583,
          0.006438124999998962,
          0.009065459000000331,
          0.010081124999999247,
          0.009011083000000752,
          0.008711041999999836,
          0.00888512499999905,
          0.008664082999999323,
          0.00600599999999929,
          0.008463167000000382,
          0.012082749999999365,
          0.01066104200000062,
          0.006897500000000889,
          0.005681415999999828,
          0.005726209000000537,
          0.007336999999999705,
          0.005466500000000707,
          0.008380125000000405,
          0.005671457999998353,
          0.0077911249999989,
          0.006118500000001248,
          0.009392124999999751,
          0.00920345900000008,
          0.006082833000000676,
          0.006358625000000728,
          0.006309791999999703,
          0.010114625000001709,
          0.010044749999998714,
          0.010067875000000726,
          0.008070958999999434,
          0.005929832999999718,
          0.006220457999999596,
          0.00773099999999971,
          0.006311249999999546,
          0.007360667000000376,
          0.006007125000000002,
          0.008808042000000071,
          0.01256024999999994,
          0.013562249999999665,
          0.0066187499999994515,
          0.00785766699999968,
          0.009204625000000632,
          0.010012166999999295,
          0.00832333399999996,
          0.009981374999998849,
          0.008783582999999595,
          0.008522792000000834,
          0.008991207999999418,
          0.006932208000000273,
          0.012558000000000291,
          0.00004416700000042795,
          0.010548791999999807,
          0.010039540999999375,
          0.009310249999998632,
          0.01067308300000036,
          0.009803124999999469,
          0.008576707999999655,
          0.009878249999999866,
          0.006881707999999875,
          0.008596624999999136,
          0.0060002089999997565,
          0.007863874999999965,
          0.00576854200000021,
          0.007197457999998491,
          0.006036124999999615,
          0.009514833000000777,
          0.006470207999999644,
          0.01021366700000037,
          0.000053749999999297415,
          0.006086250000000959,
          0.006020041999999393,
          0.006136791999999502,
          0.00970266699999911,
          0.009740875000000315,
          0.010571917000000042,
          0.009726125000000252,
          0.006158958000000325,
          0.005997541999999356,
          0.00596083299999961,
          0.006113500000001437,
          0.009050708000000185,
          0.005787708000001501,
          0.0057677500000004045,
          0.006023582999999277,
          0.006166541999998998,
          0.005878707999999122,
          0.006304290999999296,
          0.005940167000000329,
          0.006440791000001056,
          0.0063670000000009,
          0.006108291000000321,
          0.006181458999998668,
          0.00569295899999922,
          0.005515459000001499,
          0.006063708000001,
          0.006537249999999162,
          0.005742417000000444,
          0.006155749999999571,
          0.007074624999999557,
          0.0000444579999996364,
          0.012179333000000625,
          0.014639000000000735,
          0.016335584000000125,
          0.0438036249999989,
          0.02058399999999949,
          0.007562041999999991,
          0.005856208000000862,
          0.006518500000000316,
          0.006195374999999004,
          0.006299625000000475,
          0.00704354099999982,
          0.006733249999999913,
          0.007030666000000352,
          0.015363540999999259,
          0.000055584000000052924,
          0.006984499999999727,
          0.011954041999999276,
          0.010298917000000074,
          0.009633583999999473,
          0.009035292000000084,
          0.008186666999998593,
          0.00979225000000028,
          0.005665875000000042,
          0.007980084000001497,
          0.008557750000001363,
          0.006040209000000019,
          0.009040125000000288,
          0.0062677500000010156,
          0.009240500000000651,
          0.007846209000000215,
          0.008809541999999837,
          0.009366416999998961,
          0.006500125000000523,
          0.006214708999999985,
          0.007420958999999172,
          0.008076709000000903,
          0.00604933299999999,
          0.0076797500000012064,
          0.006133167000001549,
          0.009295207999999278,
          0.006213959000000102,
          0.006948875000000854,
          0.009669083000000356,
          0.006391291999999993,
          0.007587250000000267,
          0.00654866600000048,
          0.010404249999998783,
          0.008713249999999562,
          0.009832417000000149,
          0.009549542000000244,
          0.008507291000000805,
          0.007787957999999762,
          0.009801666999999625,
          0.00935708399999946,
          0.009176958999999485,
          0.009321375000000742,
          0.005881875000000036,
          0.006032333000000278,
          0.006011500000001391,
          0.006178874999999806,
          0.006117749999999589,
          0.006127334000000317,
          0.000049875000000199066,
          0.012369291999998921,
          0.0059455420000009696,
          0.007514875000000032,
          0.0089640830000004,
          0.0056058750000005375,
          0.005339125000000777,
          0.006908917000000514,
          0.007816374999999098,
          0.010870750000000484,
          0.00004599999999932436,
          0.008180959000000598,
          0.0055425410000005115,
          0.005359916999999825,
          0.00592720799999924,
          0.005802959000000385,
          0.005960749999999848,
          0.006763207999998855,
          0.005938125000000127,
          0.006387209000001448,
          0.006801708999999434,
          0.005721999999998673,
          0.005935959000000324,
          0.005712374999999881,
          0.005829041000000146,
          0.005998749999999831,
          0.006114916999999664,
          0.006356458000000842,
          0.006289708000000616,
          0.006313667000000578,
          0.006303666000000874,
          0.007045874999999313,
          0.0060128749999996955,
          0.0061236670000006654,
          0.006196249999999459,
          0.006038041999999244,
          0.006266999999999356,
          0.0059939580000003545,
          0.006211458000000114,
          0.008302542000000024,
          0.006691707999999963,
          0.006328292000000069,
          0.007451207999999987,
          0.006813124999999864,
          0.006401208000000658,
          0.0064130420000001465,
          0.007835667000000157,
          0.007275583000000196,
          0.006999624999999732,
          0.007829667000000207,
          0.007885541000000273,
          0.0069885420000002085,
          0.011503167000000758,
          0.009071582999999883,
          0.011057042000000017,
          0.015306167000000315,
          0.012782583999999986,
          0.015186749999999805,
          0.012393125000000005,
          0.013815375000000074,
          0.01777504200000024,
          0.00006183300000017766,
          0.013214417000000367,
          0.013364582999999541,
          0.01110433399999966,
          0.011897874999999836,
          0.010583457999999268,
          0.011405958000000105,
          0.010808209000000346,
          0.01154116599999977,
          0.012351874999999346,
          0.021356041999999853,
          0.006591333000000255,
          0.008086291999999773,
          0.01041087499999982,
          0.009462375000000023,
          0.008550624999999812,
          0.008089249999999382,
          0.006551667000000094,
          0.007845917000000036,
          0.00947316699999945,
          0.00004875000000037488,
          0.01312575000000038,
          0.011698625000000185,
          0.006850040999999862,
          0.007067499999999782,
          0.006844916999999562,
          0.007349291999999785,
          0.00711870800000014,
          0.008875999999999884,
          0.006673583999999622,
          0.0069212079999996234,
          0.007223999999999897,
          0.016578707999999942,
          0.00006104200000045523,
          0.013541000000000025,
          0.014088167000000595,
          0.01119095800000025,
          0.009006207999999738,
          0.007233207999999713,
          0.006903166999999932,
          0.006909459000000062,
          0.007393999999999679,
          0.0068955830000003715,
          0.007122542000000287,
          0.007694708000000716,
          0.014741707999999853,
          0.0076644590000007895,
          0.0000624170000005364,
          0.011994125000000189,
          0.01090054200000079,
          0.010078874999999599,
          0.010951291999999668,
          0.014091374999999573,
          0.012106334000000274,
          0.0073578339999995634,
          0.007040541999999483,
          0.013727874999999834,
          0.009630000000000472,
          0.010036374999999431,
          0.012491291999999987,
          0.000056417000000585915,
          0.015546457999999319,
          0.013665540999999948,
          0.008983666999999862,
          0.010391832999999906,
          0.006620707999999809,
          0.006850041999999945,
          0.006639375000000669,
          0.008560875000000578,
          0.007331416000000424,
          0.01056424999999983,
          0.0000564590000005083,
          0.01318758299999967,
          0.008125542000000152,
          0.007257124999999753,
          0.010442667000000405,
          0.0065905840000004545,
          0.007989792000000051,
          0.011313834000000078,
          0.007668791999999591,
          0.010884082999999656,
          0.0000508340000004992,
          0.006821667000000531,
          0.008937999999999668,
          0.00932554200000002,
          0.006645750000000561,
          0.008218417000000144,
          0.006330417000000033,
          0.010031457999999382,
          0.006765415999999469,
          0.00805029200000007,
          0.00724604200000023,
          0.007017499999999899,
          0.009971333000000193,
          0.007900833000000773,
          0.009500958999999476,
          0.0069485419999999465,
          0.008108874999999571,
          0.006729499999999611,
          0.0097283749999999,
          0.006719332999999494,
          0.008506832999999325,
          0.006605999999999668,
          0.008172625000000266,
          0.009025041000000122,
          0.006765792000000381,
          0.009655833000000058,
          0.010293625000000084,
          0.009937499999999488,
          0.008637417000000092,
          0.009249457999999322,
          0.006328249999999258,
          0.006117833000000239,
          0.006073291999999952,
          0.006131874999999454,
          0.006480875000000275,
          0.006659791999999776,
          0.008228124999999586,
          0.0064674159999995595,
          0.007402459000000583,
          0.005983874999999195,
          0.0058105410000006685,
          0.007165416000000313,
          0.006123209000000074,
          0.007215209000000833,
          0.00005045899999966963,
          0.010521499999999406,
          0.00554279099999988,
          0.00974266700000026,
          0.00597154100000008,
          0.006279374999999199,
          0.005917874999999739,
          0.006458665999999447,
          0.006636834000000036,
          0.006161832999999284,
          0.006172457999999992,
          0.006712750000000156,
          0.008090667000000273,
          0.008625957999999656,
          0.007614042000000154,
          0.010575042000000145,
          0.009371707999999757,
          0.006597499999999812,
          0.008207917000000009,
          0.009385375000000806,
          0.007051791999999502,
          0.010888292000000632,
          0.010894374999999457,
          0.006729790999999707,
          0.007770666999999953,
          0.007383874999999485,
          0.010529374999999952,
          0.010534875000000277,
          0.009998957999999725,
          0.010729125000000117,
          0.006965499999999736,
          0.009067791999999741,
          0.01001504200000003,
          0.00618458399999966,
          0.006986374999999434,
          0.0067329579999997335,
          0.006696457999999517,
          0.0068088749999999365,
          0.007417334000000331,
          0.00968850000000021,
          0.009123957999999988,
          0.008204416999999964,
          0.00695537500000043,
          0.00950479199999954,
          0.012099042000000004,
          0.010071458000000533,
          0.010194417000000122,
          0.010293040999999725,
          0.008084042000000125,
          0.00798483300000008,
          0.008209124999999595,
          0.00961862499999988,
          0.0057504580000005134,
          0.0077002079999992645,
          0.005923540999999588,
          0.006888541000000359,
          0.006412333000000103,
          0.007308958999999504,
          0.01543770799999944,
          0.0064156659999996535,
          0.007980333000000783,
          0.009123333000000677,
          0.008378125000000125,
          0.006077083000000094,
          0.007440665999999929,
          0.007749125000000134,
          0.006191417000000143,
          0.0076221670000000685,
          0.006223917000000689,
          0.007335042000000236,
          0.006317750000000011,
          0.008565541000000287,
          0.010315832999999941,
          0.009252707999999998,
          0.009284209000000487,
          0.012715875000000487,
          0.000050125000000456055,
          0.006192915999999826,
          0.006887333999999967,
          0.006091458000000216,
          0.005717250000000007,
          0.006047041999999614,
          0.006137791999999642,
          0.006855749999999716,
          0.006841666999999774,
          0.010199583000000345,
          0.007997291999999767,
          0.00857083299999939,
          0.008238915999999818,
          0.010504666000000107,
          0.006560708000000304,
          0.008003541999999975,
          0.006571999999999356,
          0.012546541999999938,
          0.00004995799999996109,
          0.007653791000000076,
          0.006392958000000171,
          0.0060619580000000894,
          0.006564125000000587,
          0.0067772079999999235,
          0.006179125000000063,
          0.006585667000000406,
          0.00653795800000001,
          0.006704165999999567,
          0.013700000000000045,
          0.00005249999999978883,
          0.006597874999999753,
          0.008822750000000212,
          0.009087666000000105,
          0.007289042000000023,
          0.007825999999999667,
          0.0070621669999999526,
          0.010563000000000322,
          0.010351666999999232,
          0.009805332999999194,
          0.010869000000000462,
          0.010200208000000544,
          0.008980249999999579,
          0.010365291000000276,
          0.006085291000000659,
          0.010714334000000214,
          0.00857449999999993,
          0.009731249999999747,
          0.009559416999999293,
          0.00954170899999962,
          0.006337624999999569,
          0.005654916999999315,
          0.006104875000000121,
          0.0067320419999994385,
          0.0055429999999994095,
          0.009360291000000132,
          0.0062727090000000985,
          0.008017375000000548,
          0.00714595799999973,
          0.0058100410000001546,
          0.007229124999999392,
          0.005831208000000032,
          0.005793416000000384,
          0.005731458999999717,
          0.005742249999999949,
          0.00616633400000044,
          0.008357082999999932,
          0.008940833000000481,
          0.009982625000000134,
          0.009545208000000471,
          0.006012917000000506,
          0.006436125000000459,
          0.006182958000000127,
          0.008933707999999818,
          0.00005108399999986801,
          0.007171999999999734,
          0.008717458000000455,
          0.010250667000000213,
          0.006503084000000214,
          0.01007562499999981,
          0.0063026669999999285,
          0.008754208000000041,
          0.0060839580000005,
          0.00781749999999981,
          0.0060247919999998345,
          0.00908508400000052,
          0.005915457999999596,
          0.008380583000000108,
          0.00995458299999985,
          0.006622374999999181,
          0.009432125000000013,
          0.006404959000000154,
          0.008349499999999566,
          0.0095826670000001,
          0.008988999999999692,
          0.009015082999999535,
          0.009385209000000394,
          0.008296624999999835,
          0.007340334000000226,
          0.007033082999999607,
          0.007076334000000628,
          0.0067232500000002915,
          0.007005083000000134,
          0.009473083000000493,
          0.011256834000000104,
          0.01074683400000076,
          0.010470083999999602,
          0.009282583000000066,
          0.009546124999999961,
          0.0063170420000000505,
          0.007845958999999958,
          0.006341124999999614,
          0.0067987499999997425,
          0.006550209000000251,
          0.007287292000000001,
          0.0066915000000005165,
          0.007364916999999416,
          0.006575542000000212,
          0.00715062500000041,
          0.006547249999999671,
          0.0103943330000007,
          0.007250209000000396,
          0.010583458000000157,
          0.009767166000000493,
          0.007139459000000237,
          0.008871249999999886,
          0.009394499999999972,
          0.0077350830000000315,
          0.010926416999999855,
          0.010975417000000043,
          0.012176541000000096,
          0.010928165999999795,
          0.011533249999999828,
          0.011704916000000232,
          0.010765541000000045,
          0.01068254099999999,
          0.010153166999999907,
          0.010220540999999805,
          0.010468959000000222,
          0.010131333999999992,
          0.011920041000000214,
          0.0070310000000000095,
          0.007182874999999811,
          0.0074744170000000665,
          0.010538874999999948,
          0.010626208000000137,
          0.01071487499999968,
          0.010020208999999891,
          0.010368542000000147,
          0.010484791000000104,
          0.008470958000000195,
          0.008487042000000056,
          0.01092083300000013,
          0.01057137500000005,
          0.009896250000000162,
          0.00945283299999966,
          0.009424917000000033,
          0.009301999999999921,
          0.00917283400000013,
          0.007145374999999898,
          0.008847083999999672,
          0.006679040999999941,
          0.009253917000000111,
          0.009370166000000069,
          0.006781832999999793,
          0.00954766600000001,
          0.006707708000000423,
          0.012312667000000221,
          0.012377250000000117,
          0.0000483749999999894,
          0.010743082999999931,
          0.0061167919999998155,
          0.006650082999999807,
          0.006369541999999839,
          0.0068348329999996515,
          0.007197042000000042,
          0.00627762499999962,
          0.006025750000000052,
          0.006547375000000244,
          0.006368542000000144,
          0.00625787500000019,
          0.010509416999999743,
          0.00659112499999992,
          0.007635416999999922,
          0.007778915999999914,
          0.03474516700000008,
          0.01726529099999974,
          0.006880666999999896,
          0.006813624999999934,
          0.0076049579999999395,
          0.008152417000000245,
          0.007678375000000237,
          0.008302958999999888,
          0.00005333399999996047,
          0.009480165999999901,
          0.006174791999999929,
          0.009657625000000003,
          0.006388042000000205,
          0.006859041000000232,
          0.0065942910000003074,
          0.0066608750000001216,
          0.007358541999999968,
          0.007542874999999949,
          0.007895667000000106,
          0.010390500000000191,
          0.00005495800000021589,
          0.01066766699999988,
          0.01067358400000007,
          0.010715250000000065,
          0.009854916999999741,
          0.009317499999999868,
          0.00891058400000011,
          0.006735417000000243,
          0.010406333000000156,
          0.012378416999999864,
          0.000053499999999928605,
          0.010323875000000093,
          0.011888332999999918,
          0.006655874999999867,
          0.007550291999999903,
          0.006430541999999928,
          0.0073772910000000635,
          0.006202791999999846,
          0.008985707999999981,
          0.0059591670000003205,
          0.011043459000000144,
          0.000050583999999798124,
          0.010688124999999715,
          0.009794499999999928,
          0.006079291999999903,
          0.006537541999999785,
          0.006582499999999936,
          0.006680124999999926,
          0.007162875000000124,
          0.0064109160000001,
          0.007176458999999635,
          0.008243250000000035,
          0.007578709000000128,
          0.008162916999999936,
          0.009418916,
          0.010083874999999853,
          0.010584000000000149,
          0.008974457999999963,
          0.009490249999999811,
          0.006190124999999824,
          0.008289916999999924,
          0.008265790999999911,
          0.009940708999999881,
          0.007308999999999788,
          0.009596375000000101,
          0.0069553330000000635,
          0.012866250000000079,
          0.01045308399999989,
          0.013515374999999885,
          0.014188666999999988,
          0.009635625000000037,
          0.006447416000000317,
          0.008375832999999666,
          0.008878375000000105,
          0.006094792000000293,
          0.009324915999999739,
          0.00665779199999994,
          0.00882358399999994,
          0.006885542000000022,
          0.009760249999999804,
          0.00726699999999969,
          0.008927083999999752,
          0.006911915999999962,
          0.00781300000000007,
          0.008352291000000012,
          0.009142542000000198,
          0.008682999999999996,
          0.009714042000000145,
          0.006590833000000185,
          0.010167374999999979,
          0.006158333000000127,
          0.006265749999999848,
          0.006174292000000303,
          0.006096249999999692,
          0.009768750000000104,
          0.005992707999999958,
          0.006251708999999828,
          0.006162833000000312,
          0.006429208000000131,
          0.006218458999999843,
          0.006244209000000112,
          0.006616624999999932,
          0.008998000000000062,
          0.00818466700000009,
          0.007922333999999864,
          0.009031084000000078,
          0.00823395799999993,
          0.006238791999999993,
          0.006765083000000338,
          0.005990708000000122,
          0.0070553329999998304,
          0.008009041999999855,
          0.006024708999999628,
          0.007756500000000166,
          0.008141375000000117,
          0.00895966700000006,
          0.00920570800000009,
          0.008747209000000034,
          0.007664166000000083,
          0.00789029199999991,
          0.008882292000000014,
          0.009362957999999866,
          0.011935958000000024,
          0.006445915999999885,
          0.006323333000000098,
          0.009339999999999904,
          0.006944124999999968,
          0.008405917000000152,
          0.013985834000000086,
          0.000055458000000063734,
          0.440556375
         ],
         "xaxis": "x",
         "y": [
          "TRIP_SEGMENTATION/create_places_and_trips",
          "TRIP_SEGMENTATION/segment_into_trips",
          "TRIP_SEGMENTATION/segment_into_trips_time/loop",
          "TRIP_SEGMENTATION/segment_into_trips_time/has_trip_ended",
          "TRIP_SEGMENTATION/segment_into_trips_time/has_trip_ended",
          "TRIP_SEGMENTATION/segment_into_trips_time/has_trip_ended",
          "TRIP_SEGMENTATION/segment_into_trips_time/has_trip_ended",
          "TRIP_SEGMENTATION/segment_into_trips_time/has_trip_ended",
          "TRIP_SEGMENTATION/segment_into_trips_time/has_trip_ended",
          "TRIP_SEGMENTATION/segment_into_trips_time/has_trip_ended",
          "TRIP_SEGMENTATION/segment_into_trips_time/has_trip_ended",
          "TRIP_SEGMENTATION/segment_into_trips_time/has_trip_ended",
          "TRIP_SEGMENTATION/segment_into_trips_time/has_trip_ended",
          "TRIP_SEGMENTATION/segment_into_trips_time/has_trip_ended",
          "TRIP_SEGMENTATION/segment_into_trips_time/has_trip_ended",
          "TRIP_SEGMENTATION/segment_into_trips_time/has_trip_ended",
          "TRIP_SEGMENTATION/segment_into_trips_time/has_trip_ended",
          "TRIP_SEGMENTATION/segment_into_trips_time/has_trip_ended",
          "TRIP_SEGMENTATION/segment_into_trips_time/has_trip_ended",
          "TRIP_SEGMENTATION/segment_into_trips_time/has_trip_ended",
          "TRIP_SEGMENTATION/segment_into_trips_time/has_trip_ended",
          "TRIP_SEGMENTATION/segment_into_trips_time/has_trip_ended",
          "TRIP_SEGMENTATION/segment_into_trips_time/has_trip_ended",
          "TRIP_SEGMENTATION/segment_into_trips_time/has_trip_ended",
          "TRIP_SEGMENTATION/segment_into_trips_time/has_trip_ended",
          "TRIP_SEGMENTATION/segment_into_trips_time/has_trip_ended",
          "TRIP_SEGMENTATION/segment_into_trips_time/has_trip_ended",
          "TRIP_SEGMENTATION/segment_into_trips_time/has_trip_ended",
          "TRIP_SEGMENTATION/segment_into_trips_time/has_trip_ended",
          "TRIP_SEGMENTATION/segment_into_trips_time/has_trip_ended",
          "TRIP_SEGMENTATION/segment_into_trips_time/has_trip_ended",
          "TRIP_SEGMENTATION/segment_into_trips_time/has_trip_ended",
          "TRIP_SEGMENTATION/segment_into_trips_time/has_trip_ended",
          "TRIP_SEGMENTATION/segment_into_trips_time/has_trip_ended",
          "TRIP_SEGMENTATION/segment_into_trips_time/has_trip_ended",
          "TRIP_SEGMENTATION/segment_into_trips_time/has_trip_ended",
          "TRIP_SEGMENTATION/segment_into_trips_time/has_trip_ended",
          "TRIP_SEGMENTATION/segment_into_trips_time/has_trip_ended",
          "TRIP_SEGMENTATION/segment_into_trips_time/has_trip_ended",
          "TRIP_SEGMENTATION/segment_into_trips_time/has_trip_ended",
          "TRIP_SEGMENTATION/segment_into_trips_time/has_trip_ended",
          "TRIP_SEGMENTATION/segment_into_trips_time/has_trip_ended",
          "TRIP_SEGMENTATION/segment_into_trips_time/has_trip_ended",
          "TRIP_SEGMENTATION/segment_into_trips_time/has_trip_ended",
          "TRIP_SEGMENTATION/segment_into_trips_time/has_trip_ended",
          "TRIP_SEGMENTATION/segment_into_trips_time/has_trip_ended",
          "TRIP_SEGMENTATION/segment_into_trips_time/has_trip_ended",
          "TRIP_SEGMENTATION/segment_into_trips_time/has_trip_ended",
          "TRIP_SEGMENTATION/segment_into_trips_time/has_trip_ended",
          "TRIP_SEGMENTATION/segment_into_trips_time/has_trip_ended",
          "TRIP_SEGMENTATION/segment_into_trips_time/has_trip_ended",
          "TRIP_SEGMENTATION/segment_into_trips_time/has_trip_ended",
          "TRIP_SEGMENTATION/segment_into_trips_time/has_trip_ended",
          "TRIP_SEGMENTATION/segment_into_trips_time/has_trip_ended",
          "TRIP_SEGMENTATION/segment_into_trips_time/has_trip_ended",
          "TRIP_SEGMENTATION/segment_into_trips_time/has_trip_ended",
          "TRIP_SEGMENTATION/segment_into_trips_time/has_trip_ended",
          "TRIP_SEGMENTATION/segment_into_trips_time/has_trip_ended",
          "TRIP_SEGMENTATION/segment_into_trips_time/has_trip_ended",
          "TRIP_SEGMENTATION/segment_into_trips_time/has_trip_ended",
          "TRIP_SEGMENTATION/segment_into_trips_time/has_trip_ended",
          "TRIP_SEGMENTATION/segment_into_trips_time/has_trip_ended",
          "TRIP_SEGMENTATION/segment_into_trips_time/has_trip_ended",
          "TRIP_SEGMENTATION/segment_into_trips_time/has_trip_ended",
          "TRIP_SEGMENTATION/segment_into_trips_time/has_trip_ended",
          "TRIP_SEGMENTATION/segment_into_trips_time/has_trip_ended",
          "TRIP_SEGMENTATION/segment_into_trips_time/has_trip_ended",
          "TRIP_SEGMENTATION/segment_into_trips_time/has_trip_ended",
          "TRIP_SEGMENTATION/segment_into_trips_time/has_trip_ended",
          "TRIP_SEGMENTATION/segment_into_trips_time/has_trip_ended",
          "TRIP_SEGMENTATION/segment_into_trips_time/has_trip_ended",
          "TRIP_SEGMENTATION/segment_into_trips_time/has_trip_ended",
          "TRIP_SEGMENTATION/segment_into_trips_time/has_trip_ended",
          "TRIP_SEGMENTATION/segment_into_trips_time/has_trip_ended",
          "TRIP_SEGMENTATION/segment_into_trips_time/has_trip_ended",
          "TRIP_SEGMENTATION/segment_into_trips_time/has_trip_ended",
          "TRIP_SEGMENTATION/segment_into_trips_time/has_trip_ended",
          "TRIP_SEGMENTATION/segment_into_trips_time/has_trip_ended",
          "TRIP_SEGMENTATION/segment_into_trips_time/has_trip_ended",
          "TRIP_SEGMENTATION/segment_into_trips_time/has_trip_ended",
          "TRIP_SEGMENTATION/segment_into_trips_time/has_trip_ended",
          "TRIP_SEGMENTATION/segment_into_trips_time/has_trip_ended",
          "TRIP_SEGMENTATION/segment_into_trips_time/has_trip_ended",
          "TRIP_SEGMENTATION/segment_into_trips_time/has_trip_ended",
          "TRIP_SEGMENTATION/segment_into_trips_time/has_trip_ended",
          "TRIP_SEGMENTATION/segment_into_trips_time/has_trip_ended",
          "TRIP_SEGMENTATION/segment_into_trips_time/has_trip_ended",
          "TRIP_SEGMENTATION/segment_into_trips_time/has_trip_ended",
          "TRIP_SEGMENTATION/segment_into_trips_time/has_trip_ended",
          "TRIP_SEGMENTATION/segment_into_trips_time/has_trip_ended",
          "TRIP_SEGMENTATION/segment_into_trips_time/has_trip_ended",
          "TRIP_SEGMENTATION/segment_into_trips_time/has_trip_ended",
          "TRIP_SEGMENTATION/segment_into_trips_time/has_trip_ended",
          "TRIP_SEGMENTATION/segment_into_trips_time/has_trip_ended",
          "TRIP_SEGMENTATION/segment_into_trips_time/has_trip_ended",
          "TRIP_SEGMENTATION/segment_into_trips_time/has_trip_ended",
          "TRIP_SEGMENTATION/segment_into_trips_time/has_trip_ended",
          "TRIP_SEGMENTATION/segment_into_trips_time/has_trip_ended",
          "TRIP_SEGMENTATION/segment_into_trips_time/has_trip_ended",
          "TRIP_SEGMENTATION/segment_into_trips_time/has_trip_ended",
          "TRIP_SEGMENTATION/segment_into_trips_time/has_trip_ended",
          "TRIP_SEGMENTATION/segment_into_trips_time/has_trip_ended",
          "TRIP_SEGMENTATION/segment_into_trips_time/has_trip_ended",
          "TRIP_SEGMENTATION/segment_into_trips_time/has_trip_ended",
          "TRIP_SEGMENTATION/segment_into_trips_time/has_trip_ended",
          "TRIP_SEGMENTATION/segment_into_trips_time/has_trip_ended",
          "TRIP_SEGMENTATION/segment_into_trips_time/has_trip_ended",
          "TRIP_SEGMENTATION/segment_into_trips_time/has_trip_ended",
          "TRIP_SEGMENTATION/segment_into_trips_time/has_trip_ended",
          "TRIP_SEGMENTATION/segment_into_trips_time/has_trip_ended",
          "TRIP_SEGMENTATION/segment_into_trips_time/has_trip_ended",
          "TRIP_SEGMENTATION/segment_into_trips_time/has_trip_ended",
          "TRIP_SEGMENTATION/segment_into_trips_time/has_trip_ended",
          "TRIP_SEGMENTATION/segment_into_trips_time/has_trip_ended",
          "TRIP_SEGMENTATION/segment_into_trips_time/has_trip_ended",
          "TRIP_SEGMENTATION/segment_into_trips_time/has_trip_ended",
          "TRIP_SEGMENTATION/segment_into_trips_time/has_trip_ended",
          "TRIP_SEGMENTATION/segment_into_trips_time/has_trip_ended",
          "TRIP_SEGMENTATION/segment_into_trips_time/has_trip_ended",
          "TRIP_SEGMENTATION/segment_into_trips_time/has_trip_ended",
          "TRIP_SEGMENTATION/segment_into_trips_time/has_trip_ended",
          "TRIP_SEGMENTATION/segment_into_trips_time/has_trip_ended",
          "TRIP_SEGMENTATION/segment_into_trips_time/has_trip_ended",
          "TRIP_SEGMENTATION/segment_into_trips_time/has_trip_ended",
          "TRIP_SEGMENTATION/segment_into_trips_time/has_trip_ended",
          "TRIP_SEGMENTATION/segment_into_trips_time/has_trip_ended",
          "TRIP_SEGMENTATION/segment_into_trips_time/has_trip_ended",
          "TRIP_SEGMENTATION/segment_into_trips_time/has_trip_ended",
          "TRIP_SEGMENTATION/segment_into_trips_time/has_trip_ended",
          "TRIP_SEGMENTATION/segment_into_trips_time/has_trip_ended",
          "TRIP_SEGMENTATION/segment_into_trips_time/has_trip_ended",
          "TRIP_SEGMENTATION/segment_into_trips_time/has_trip_ended",
          "TRIP_SEGMENTATION/segment_into_trips_time/has_trip_ended",
          "TRIP_SEGMENTATION/segment_into_trips_time/has_trip_ended",
          "TRIP_SEGMENTATION/segment_into_trips_time/has_trip_ended",
          "TRIP_SEGMENTATION/segment_into_trips_time/has_trip_ended",
          "TRIP_SEGMENTATION/segment_into_trips_time/has_trip_ended",
          "TRIP_SEGMENTATION/segment_into_trips_time/has_trip_ended",
          "TRIP_SEGMENTATION/segment_into_trips_time/has_trip_ended",
          "TRIP_SEGMENTATION/segment_into_trips_time/has_trip_ended",
          "TRIP_SEGMENTATION/segment_into_trips_time/has_trip_ended",
          "TRIP_SEGMENTATION/segment_into_trips_time/has_trip_ended",
          "TRIP_SEGMENTATION/segment_into_trips_time/has_trip_ended",
          "TRIP_SEGMENTATION/segment_into_trips_time/has_trip_ended",
          "TRIP_SEGMENTATION/segment_into_trips_time/has_trip_ended",
          "TRIP_SEGMENTATION/segment_into_trips_time/has_trip_ended",
          "TRIP_SEGMENTATION/segment_into_trips_time/has_trip_ended",
          "TRIP_SEGMENTATION/segment_into_trips_time/has_trip_ended",
          "TRIP_SEGMENTATION/segment_into_trips_time/has_trip_ended",
          "TRIP_SEGMENTATION/segment_into_trips_time/has_trip_ended",
          "TRIP_SEGMENTATION/segment_into_trips_time/has_trip_ended",
          "TRIP_SEGMENTATION/segment_into_trips_time/has_trip_ended",
          "TRIP_SEGMENTATION/segment_into_trips_time/has_trip_ended",
          "TRIP_SEGMENTATION/segment_into_trips_time/has_trip_ended",
          "TRIP_SEGMENTATION/segment_into_trips_time/has_trip_ended",
          "TRIP_SEGMENTATION/segment_into_trips_time/has_trip_ended",
          "TRIP_SEGMENTATION/segment_into_trips_time/has_trip_ended",
          "TRIP_SEGMENTATION/segment_into_trips_time/has_trip_ended",
          "TRIP_SEGMENTATION/segment_into_trips_time/has_trip_ended",
          "TRIP_SEGMENTATION/segment_into_trips_time/has_trip_ended",
          "TRIP_SEGMENTATION/segment_into_trips_time/has_trip_ended",
          "TRIP_SEGMENTATION/segment_into_trips_time/has_trip_ended",
          "TRIP_SEGMENTATION/segment_into_trips_time/has_trip_ended",
          "TRIP_SEGMENTATION/segment_into_trips_time/has_trip_ended",
          "TRIP_SEGMENTATION/segment_into_trips_time/has_trip_ended",
          "TRIP_SEGMENTATION/segment_into_trips_time/has_trip_ended",
          "TRIP_SEGMENTATION/segment_into_trips_time/has_trip_ended",
          "TRIP_SEGMENTATION/segment_into_trips_time/has_trip_ended",
          "TRIP_SEGMENTATION/segment_into_trips_time/has_trip_ended",
          "TRIP_SEGMENTATION/segment_into_trips_time/has_trip_ended",
          "TRIP_SEGMENTATION/segment_into_trips_time/has_trip_ended",
          "TRIP_SEGMENTATION/segment_into_trips_time/has_trip_ended",
          "TRIP_SEGMENTATION/segment_into_trips_time/has_trip_ended",
          "TRIP_SEGMENTATION/segment_into_trips_time/has_trip_ended",
          "TRIP_SEGMENTATION/segment_into_trips_time/has_trip_ended",
          "TRIP_SEGMENTATION/segment_into_trips_time/has_trip_ended",
          "TRIP_SEGMENTATION/segment_into_trips_time/has_trip_ended",
          "TRIP_SEGMENTATION/segment_into_trips_time/has_trip_ended",
          "TRIP_SEGMENTATION/segment_into_trips_time/has_trip_ended",
          "TRIP_SEGMENTATION/segment_into_trips_time/has_trip_ended",
          "TRIP_SEGMENTATION/segment_into_trips_time/has_trip_ended",
          "TRIP_SEGMENTATION/segment_into_trips_time/has_trip_ended",
          "TRIP_SEGMENTATION/segment_into_trips_time/has_trip_ended",
          "TRIP_SEGMENTATION/segment_into_trips_time/has_trip_ended",
          "TRIP_SEGMENTATION/segment_into_trips_time/has_trip_ended",
          "TRIP_SEGMENTATION/segment_into_trips_time/has_trip_ended",
          "TRIP_SEGMENTATION/segment_into_trips_time/has_trip_ended",
          "TRIP_SEGMENTATION/segment_into_trips_time/has_trip_ended",
          "TRIP_SEGMENTATION/segment_into_trips_time/has_trip_ended",
          "TRIP_SEGMENTATION/segment_into_trips_time/has_trip_ended",
          "TRIP_SEGMENTATION/segment_into_trips_time/has_trip_ended",
          "TRIP_SEGMENTATION/segment_into_trips_time/has_trip_ended",
          "TRIP_SEGMENTATION/segment_into_trips_time/has_trip_ended",
          "TRIP_SEGMENTATION/segment_into_trips_time/has_trip_ended",
          "TRIP_SEGMENTATION/segment_into_trips_time/has_trip_ended",
          "TRIP_SEGMENTATION/segment_into_trips_time/has_trip_ended",
          "TRIP_SEGMENTATION/segment_into_trips_time/has_trip_ended",
          "TRIP_SEGMENTATION/segment_into_trips_time/has_trip_ended",
          "TRIP_SEGMENTATION/segment_into_trips_time/has_trip_ended",
          "TRIP_SEGMENTATION/segment_into_trips_time/has_trip_ended",
          "TRIP_SEGMENTATION/segment_into_trips_time/has_trip_ended",
          "TRIP_SEGMENTATION/segment_into_trips_time/has_trip_ended",
          "TRIP_SEGMENTATION/segment_into_trips_time/has_trip_ended",
          "TRIP_SEGMENTATION/segment_into_trips_time/has_trip_ended",
          "TRIP_SEGMENTATION/segment_into_trips_time/has_trip_ended",
          "TRIP_SEGMENTATION/segment_into_trips_time/has_trip_ended",
          "TRIP_SEGMENTATION/segment_into_trips_time/has_trip_ended",
          "TRIP_SEGMENTATION/segment_into_trips_time/has_trip_ended",
          "TRIP_SEGMENTATION/segment_into_trips_time/has_trip_ended",
          "TRIP_SEGMENTATION/segment_into_trips_time/has_trip_ended",
          "TRIP_SEGMENTATION/segment_into_trips_time/has_trip_ended",
          "TRIP_SEGMENTATION/segment_into_trips_time/has_trip_ended",
          "TRIP_SEGMENTATION/segment_into_trips_time/has_trip_ended",
          "TRIP_SEGMENTATION/segment_into_trips_time/has_trip_ended",
          "TRIP_SEGMENTATION/segment_into_trips_time/has_trip_ended",
          "TRIP_SEGMENTATION/segment_into_trips_time/has_trip_ended",
          "TRIP_SEGMENTATION/segment_into_trips_time/has_trip_ended",
          "TRIP_SEGMENTATION/segment_into_trips_time/has_trip_ended",
          "TRIP_SEGMENTATION/segment_into_trips_time/has_trip_ended",
          "TRIP_SEGMENTATION/segment_into_trips_time/has_trip_ended",
          "TRIP_SEGMENTATION/segment_into_trips_time/has_trip_ended",
          "TRIP_SEGMENTATION/segment_into_trips_time/has_trip_ended",
          "TRIP_SEGMENTATION/segment_into_trips_time/has_trip_ended",
          "TRIP_SEGMENTATION/segment_into_trips_time/has_trip_ended",
          "TRIP_SEGMENTATION/segment_into_trips_time/has_trip_ended",
          "TRIP_SEGMENTATION/segment_into_trips_time/has_trip_ended",
          "TRIP_SEGMENTATION/segment_into_trips_time/has_trip_ended",
          "TRIP_SEGMENTATION/segment_into_trips_time/has_trip_ended",
          "TRIP_SEGMENTATION/segment_into_trips_time/has_trip_ended",
          "TRIP_SEGMENTATION/segment_into_trips_time/has_trip_ended",
          "TRIP_SEGMENTATION/segment_into_trips_time/has_trip_ended",
          "TRIP_SEGMENTATION/segment_into_trips_time/has_trip_ended",
          "TRIP_SEGMENTATION/segment_into_trips_time/has_trip_ended",
          "TRIP_SEGMENTATION/segment_into_trips_time/has_trip_ended",
          "TRIP_SEGMENTATION/segment_into_trips_time/has_trip_ended",
          "TRIP_SEGMENTATION/segment_into_trips_time/has_trip_ended",
          "TRIP_SEGMENTATION/segment_into_trips_time/has_trip_ended",
          "TRIP_SEGMENTATION/segment_into_trips_time/has_trip_ended",
          "TRIP_SEGMENTATION/segment_into_trips_time/has_trip_ended",
          "TRIP_SEGMENTATION/segment_into_trips_time/has_trip_ended",
          "TRIP_SEGMENTATION/segment_into_trips_time/has_trip_ended",
          "TRIP_SEGMENTATION/segment_into_trips_time/has_trip_ended",
          "TRIP_SEGMENTATION/segment_into_trips_time/has_trip_ended",
          "TRIP_SEGMENTATION/segment_into_trips_time/has_trip_ended",
          "TRIP_SEGMENTATION/segment_into_trips_time/has_trip_ended",
          "TRIP_SEGMENTATION/segment_into_trips_time/has_trip_ended",
          "TRIP_SEGMENTATION/segment_into_trips_time/has_trip_ended",
          "TRIP_SEGMENTATION/segment_into_trips_time/has_trip_ended",
          "TRIP_SEGMENTATION/segment_into_trips_time/has_trip_ended",
          "TRIP_SEGMENTATION/segment_into_trips_time/has_trip_ended",
          "TRIP_SEGMENTATION/segment_into_trips_time/has_trip_ended",
          "TRIP_SEGMENTATION/segment_into_trips_time/has_trip_ended",
          "TRIP_SEGMENTATION/segment_into_trips_time/has_trip_ended",
          "TRIP_SEGMENTATION/segment_into_trips_time/has_trip_ended",
          "TRIP_SEGMENTATION/segment_into_trips_time/has_trip_ended",
          "TRIP_SEGMENTATION/segment_into_trips_time/has_trip_ended",
          "TRIP_SEGMENTATION/segment_into_trips_time/has_trip_ended",
          "TRIP_SEGMENTATION/segment_into_trips_time/has_trip_ended",
          "TRIP_SEGMENTATION/segment_into_trips_time/has_trip_ended",
          "TRIP_SEGMENTATION/segment_into_trips_time/has_trip_ended",
          "TRIP_SEGMENTATION/segment_into_trips_time/has_trip_ended",
          "TRIP_SEGMENTATION/segment_into_trips_time/has_trip_ended",
          "TRIP_SEGMENTATION/segment_into_trips_time/has_trip_ended",
          "TRIP_SEGMENTATION/segment_into_trips_time/has_trip_ended",
          "TRIP_SEGMENTATION/segment_into_trips_time/has_trip_ended",
          "TRIP_SEGMENTATION/segment_into_trips_time/has_trip_ended",
          "TRIP_SEGMENTATION/segment_into_trips_time/has_trip_ended",
          "TRIP_SEGMENTATION/segment_into_trips_time/has_trip_ended",
          "TRIP_SEGMENTATION/segment_into_trips_time/has_trip_ended",
          "TRIP_SEGMENTATION/segment_into_trips_time/has_trip_ended",
          "TRIP_SEGMENTATION/segment_into_trips_time/has_trip_ended",
          "TRIP_SEGMENTATION/segment_into_trips_time/has_trip_ended",
          "TRIP_SEGMENTATION/segment_into_trips_time/has_trip_ended",
          "TRIP_SEGMENTATION/segment_into_trips_time/has_trip_ended",
          "TRIP_SEGMENTATION/segment_into_trips_time/has_trip_ended",
          "TRIP_SEGMENTATION/segment_into_trips_time/has_trip_ended",
          "TRIP_SEGMENTATION/segment_into_trips_time/has_trip_ended",
          "TRIP_SEGMENTATION/segment_into_trips_time/has_trip_ended",
          "TRIP_SEGMENTATION/segment_into_trips_time/has_trip_ended",
          "TRIP_SEGMENTATION/segment_into_trips_time/has_trip_ended",
          "TRIP_SEGMENTATION/segment_into_trips_time/has_trip_ended",
          "TRIP_SEGMENTATION/segment_into_trips_time/has_trip_ended",
          "TRIP_SEGMENTATION/segment_into_trips_time/has_trip_ended",
          "TRIP_SEGMENTATION/segment_into_trips_time/has_trip_ended",
          "TRIP_SEGMENTATION/segment_into_trips_time/has_trip_ended",
          "TRIP_SEGMENTATION/segment_into_trips_time/has_trip_ended",
          "TRIP_SEGMENTATION/segment_into_trips_time/has_trip_ended",
          "TRIP_SEGMENTATION/segment_into_trips_time/has_trip_ended",
          "TRIP_SEGMENTATION/segment_into_trips_time/has_trip_ended",
          "TRIP_SEGMENTATION/segment_into_trips_time/has_trip_ended",
          "TRIP_SEGMENTATION/segment_into_trips_time/has_trip_ended",
          "TRIP_SEGMENTATION/segment_into_trips_time/has_trip_ended",
          "TRIP_SEGMENTATION/segment_into_trips_time/has_trip_ended",
          "TRIP_SEGMENTATION/segment_into_trips_time/has_trip_ended",
          "TRIP_SEGMENTATION/segment_into_trips_time/has_trip_ended",
          "TRIP_SEGMENTATION/segment_into_trips_time/has_trip_ended",
          "TRIP_SEGMENTATION/segment_into_trips_time/has_trip_ended",
          "TRIP_SEGMENTATION/segment_into_trips_time/has_trip_ended",
          "TRIP_SEGMENTATION/segment_into_trips_time/has_trip_ended",
          "TRIP_SEGMENTATION/segment_into_trips_time/has_trip_ended",
          "TRIP_SEGMENTATION/segment_into_trips_time/has_trip_ended",
          "TRIP_SEGMENTATION/segment_into_trips_time/has_trip_ended",
          "TRIP_SEGMENTATION/segment_into_trips_time/has_trip_ended",
          "TRIP_SEGMENTATION/segment_into_trips_time/has_trip_ended",
          "TRIP_SEGMENTATION/segment_into_trips_time/has_trip_ended",
          "TRIP_SEGMENTATION/segment_into_trips_time/has_trip_ended",
          "TRIP_SEGMENTATION/segment_into_trips_time/has_trip_ended",
          "TRIP_SEGMENTATION/segment_into_trips_time/has_trip_ended",
          "TRIP_SEGMENTATION/segment_into_trips_time/has_trip_ended",
          "TRIP_SEGMENTATION/segment_into_trips_time/has_trip_ended",
          "TRIP_SEGMENTATION/segment_into_trips_time/has_trip_ended",
          "TRIP_SEGMENTATION/segment_into_trips_time/has_trip_ended",
          "TRIP_SEGMENTATION/segment_into_trips_time/has_trip_ended",
          "TRIP_SEGMENTATION/segment_into_trips_time/has_trip_ended",
          "TRIP_SEGMENTATION/segment_into_trips_time/has_trip_ended",
          "TRIP_SEGMENTATION/segment_into_trips_time/has_trip_ended",
          "TRIP_SEGMENTATION/segment_into_trips_time/has_trip_ended",
          "TRIP_SEGMENTATION/segment_into_trips_time/has_trip_ended",
          "TRIP_SEGMENTATION/segment_into_trips_time/has_trip_ended",
          "TRIP_SEGMENTATION/segment_into_trips_time/has_trip_ended",
          "TRIP_SEGMENTATION/segment_into_trips_time/has_trip_ended",
          "TRIP_SEGMENTATION/segment_into_trips_time/has_trip_ended",
          "TRIP_SEGMENTATION/segment_into_trips_time/has_trip_ended",
          "TRIP_SEGMENTATION/segment_into_trips_time/has_trip_ended",
          "TRIP_SEGMENTATION/segment_into_trips_time/has_trip_ended",
          "TRIP_SEGMENTATION/segment_into_trips_time/has_trip_ended",
          "TRIP_SEGMENTATION/segment_into_trips_time/has_trip_ended",
          "TRIP_SEGMENTATION/segment_into_trips_time/has_trip_ended",
          "TRIP_SEGMENTATION/segment_into_trips_time/has_trip_ended",
          "TRIP_SEGMENTATION/segment_into_trips_time/has_trip_ended",
          "TRIP_SEGMENTATION/segment_into_trips_time/has_trip_ended",
          "TRIP_SEGMENTATION/segment_into_trips_time/has_trip_ended",
          "TRIP_SEGMENTATION/segment_into_trips_time/has_trip_ended",
          "TRIP_SEGMENTATION/segment_into_trips_time/has_trip_ended",
          "TRIP_SEGMENTATION/segment_into_trips_time/has_trip_ended",
          "TRIP_SEGMENTATION/segment_into_trips_time/has_trip_ended",
          "TRIP_SEGMENTATION/segment_into_trips_time/has_trip_ended",
          "TRIP_SEGMENTATION/segment_into_trips_time/has_trip_ended",
          "TRIP_SEGMENTATION/segment_into_trips_time/has_trip_ended",
          "TRIP_SEGMENTATION/segment_into_trips_time/has_trip_ended",
          "TRIP_SEGMENTATION/segment_into_trips_time/has_trip_ended",
          "TRIP_SEGMENTATION/segment_into_trips_time/has_trip_ended",
          "TRIP_SEGMENTATION/segment_into_trips_time/has_trip_ended",
          "TRIP_SEGMENTATION/segment_into_trips_time/has_trip_ended",
          "TRIP_SEGMENTATION/segment_into_trips_time/has_trip_ended",
          "TRIP_SEGMENTATION/segment_into_trips_time/has_trip_ended",
          "TRIP_SEGMENTATION/segment_into_trips_time/has_trip_ended",
          "TRIP_SEGMENTATION/segment_into_trips_time/has_trip_ended",
          "TRIP_SEGMENTATION/segment_into_trips_time/has_trip_ended",
          "TRIP_SEGMENTATION/segment_into_trips_time/has_trip_ended",
          "TRIP_SEGMENTATION/segment_into_trips_time/has_trip_ended",
          "TRIP_SEGMENTATION/segment_into_trips_time/has_trip_ended",
          "TRIP_SEGMENTATION/segment_into_trips_time/has_trip_ended",
          "TRIP_SEGMENTATION/segment_into_trips_time/has_trip_ended",
          "TRIP_SEGMENTATION/segment_into_trips_time/has_trip_ended",
          "TRIP_SEGMENTATION/segment_into_trips_time/has_trip_ended",
          "TRIP_SEGMENTATION/segment_into_trips_time/has_trip_ended",
          "TRIP_SEGMENTATION/segment_into_trips_time/has_trip_ended",
          "TRIP_SEGMENTATION/segment_into_trips_time/has_trip_ended",
          "TRIP_SEGMENTATION/segment_into_trips_time/has_trip_ended",
          "TRIP_SEGMENTATION/segment_into_trips_time/has_trip_ended",
          "TRIP_SEGMENTATION/segment_into_trips_time/has_trip_ended",
          "TRIP_SEGMENTATION/segment_into_trips_time/has_trip_ended",
          "TRIP_SEGMENTATION/segment_into_trips_time/has_trip_ended",
          "TRIP_SEGMENTATION/segment_into_trips_time/has_trip_ended",
          "TRIP_SEGMENTATION/segment_into_trips_time/has_trip_ended",
          "TRIP_SEGMENTATION/segment_into_trips_time/has_trip_ended",
          "TRIP_SEGMENTATION/segment_into_trips_time/has_trip_ended",
          "TRIP_SEGMENTATION/segment_into_trips_time/has_trip_ended",
          "TRIP_SEGMENTATION/segment_into_trips_time/has_trip_ended",
          "TRIP_SEGMENTATION/segment_into_trips_time/has_trip_ended",
          "TRIP_SEGMENTATION/segment_into_trips_time/has_trip_ended",
          "TRIP_SEGMENTATION/segment_into_trips_time/has_trip_ended",
          "TRIP_SEGMENTATION/segment_into_trips_time/has_trip_ended",
          "TRIP_SEGMENTATION/segment_into_trips_time/has_trip_ended",
          "TRIP_SEGMENTATION/segment_into_trips_time/has_trip_ended",
          "TRIP_SEGMENTATION/segment_into_trips_time/has_trip_ended",
          "TRIP_SEGMENTATION/segment_into_trips_time/has_trip_ended",
          "TRIP_SEGMENTATION/segment_into_trips_time/has_trip_ended",
          "TRIP_SEGMENTATION/segment_into_trips_time/has_trip_ended",
          "TRIP_SEGMENTATION/segment_into_trips_time/has_trip_ended",
          "TRIP_SEGMENTATION/segment_into_trips_time/has_trip_ended",
          "TRIP_SEGMENTATION/segment_into_trips_time/has_trip_ended",
          "TRIP_SEGMENTATION/segment_into_trips_time/has_trip_ended",
          "TRIP_SEGMENTATION/segment_into_trips_time/has_trip_ended",
          "TRIP_SEGMENTATION/segment_into_trips_time/has_trip_ended",
          "TRIP_SEGMENTATION/segment_into_trips_time/has_trip_ended",
          "TRIP_SEGMENTATION/segment_into_trips_time/has_trip_ended",
          "TRIP_SEGMENTATION/segment_into_trips_time/has_trip_ended",
          "TRIP_SEGMENTATION/segment_into_trips_time/has_trip_ended",
          "TRIP_SEGMENTATION/segment_into_trips_time/has_trip_ended",
          "TRIP_SEGMENTATION/segment_into_trips_time/has_trip_ended",
          "TRIP_SEGMENTATION/segment_into_trips_time/has_trip_ended",
          "TRIP_SEGMENTATION/segment_into_trips_time/has_trip_ended",
          "TRIP_SEGMENTATION/segment_into_trips_time/has_trip_ended",
          "TRIP_SEGMENTATION/segment_into_trips_time/has_trip_ended",
          "TRIP_SEGMENTATION/segment_into_trips_time/has_trip_ended",
          "TRIP_SEGMENTATION/segment_into_trips_time/has_trip_ended",
          "TRIP_SEGMENTATION/segment_into_trips_time/has_trip_ended",
          "TRIP_SEGMENTATION/segment_into_trips_time/has_trip_ended",
          "TRIP_SEGMENTATION/segment_into_trips_time/has_trip_ended",
          "TRIP_SEGMENTATION/segment_into_trips_time/has_trip_ended",
          "TRIP_SEGMENTATION/segment_into_trips_time/has_trip_ended",
          "TRIP_SEGMENTATION/segment_into_trips_time/has_trip_ended",
          "TRIP_SEGMENTATION/segment_into_trips_time/has_trip_ended",
          "TRIP_SEGMENTATION/segment_into_trips_time/has_trip_ended",
          "TRIP_SEGMENTATION/segment_into_trips_time/has_trip_ended",
          "TRIP_SEGMENTATION/segment_into_trips_time/has_trip_ended",
          "TRIP_SEGMENTATION/segment_into_trips_time/has_trip_ended",
          "TRIP_SEGMENTATION/segment_into_trips_time/has_trip_ended",
          "TRIP_SEGMENTATION/segment_into_trips_time/has_trip_ended",
          "TRIP_SEGMENTATION/segment_into_trips_time/has_trip_ended",
          "TRIP_SEGMENTATION/segment_into_trips_time/has_trip_ended",
          "TRIP_SEGMENTATION/segment_into_trips_time/has_trip_ended",
          "TRIP_SEGMENTATION/segment_into_trips_time/has_trip_ended",
          "TRIP_SEGMENTATION/segment_into_trips_time/has_trip_ended",
          "TRIP_SEGMENTATION/segment_into_trips_time/has_trip_ended",
          "TRIP_SEGMENTATION/segment_into_trips_time/has_trip_ended",
          "TRIP_SEGMENTATION/segment_into_trips_time/has_trip_ended",
          "TRIP_SEGMENTATION/segment_into_trips_time/has_trip_ended",
          "TRIP_SEGMENTATION/segment_into_trips_time/has_trip_ended",
          "TRIP_SEGMENTATION/segment_into_trips_time/has_trip_ended",
          "TRIP_SEGMENTATION/segment_into_trips_time/has_trip_ended",
          "TRIP_SEGMENTATION/segment_into_trips_time/has_trip_ended",
          "TRIP_SEGMENTATION/segment_into_trips_time/has_trip_ended",
          "TRIP_SEGMENTATION/segment_into_trips_time/has_trip_ended",
          "TRIP_SEGMENTATION/segment_into_trips_time/has_trip_ended",
          "TRIP_SEGMENTATION/segment_into_trips_time/has_trip_ended",
          "TRIP_SEGMENTATION/segment_into_trips_time/has_trip_ended",
          "TRIP_SEGMENTATION/segment_into_trips_time/has_trip_ended",
          "TRIP_SEGMENTATION/segment_into_trips_time/has_trip_ended",
          "TRIP_SEGMENTATION/segment_into_trips_time/has_trip_ended",
          "TRIP_SEGMENTATION/segment_into_trips_time/has_trip_ended",
          "TRIP_SEGMENTATION/segment_into_trips_time/has_trip_ended",
          "TRIP_SEGMENTATION/segment_into_trips_time/has_trip_ended",
          "TRIP_SEGMENTATION/segment_into_trips_time/has_trip_ended",
          "TRIP_SEGMENTATION/segment_into_trips_time/has_trip_ended",
          "TRIP_SEGMENTATION/segment_into_trips_time/has_trip_ended",
          "TRIP_SEGMENTATION/segment_into_trips_time/has_trip_ended",
          "TRIP_SEGMENTATION/segment_into_trips_time/has_trip_ended",
          "TRIP_SEGMENTATION/segment_into_trips_time/has_trip_ended",
          "TRIP_SEGMENTATION/segment_into_trips_time/has_trip_ended",
          "TRIP_SEGMENTATION/segment_into_trips_time/has_trip_ended",
          "TRIP_SEGMENTATION/segment_into_trips_time/has_trip_ended",
          "TRIP_SEGMENTATION/segment_into_trips_time/has_trip_ended",
          "TRIP_SEGMENTATION/segment_into_trips_time/has_trip_ended",
          "TRIP_SEGMENTATION/segment_into_trips_time/has_trip_ended",
          "TRIP_SEGMENTATION/segment_into_trips_time/has_trip_ended",
          "TRIP_SEGMENTATION/segment_into_trips_time/has_trip_ended",
          "TRIP_SEGMENTATION/segment_into_trips_time/has_trip_ended",
          "TRIP_SEGMENTATION/segment_into_trips_time/has_trip_ended",
          "TRIP_SEGMENTATION/segment_into_trips_time/has_trip_ended",
          "TRIP_SEGMENTATION/segment_into_trips_time/has_trip_ended",
          "TRIP_SEGMENTATION/segment_into_trips_time/has_trip_ended",
          "TRIP_SEGMENTATION/segment_into_trips_time/has_trip_ended",
          "TRIP_SEGMENTATION/segment_into_trips_time/has_trip_ended",
          "TRIP_SEGMENTATION/segment_into_trips_time/has_trip_ended",
          "TRIP_SEGMENTATION/segment_into_trips_time/has_trip_ended",
          "TRIP_SEGMENTATION/segment_into_trips_time/has_trip_ended",
          "TRIP_SEGMENTATION/segment_into_trips_time/has_trip_ended",
          "TRIP_SEGMENTATION/segment_into_trips_time/has_trip_ended",
          "TRIP_SEGMENTATION/segment_into_trips_time/has_trip_ended",
          "TRIP_SEGMENTATION/segment_into_trips_time/has_trip_ended",
          "TRIP_SEGMENTATION/segment_into_trips_time/has_trip_ended",
          "TRIP_SEGMENTATION/segment_into_trips_time/has_trip_ended",
          "TRIP_SEGMENTATION/segment_into_trips_time/has_trip_ended",
          "TRIP_SEGMENTATION/segment_into_trips_time/has_trip_ended",
          "TRIP_SEGMENTATION/segment_into_trips_time/has_trip_ended",
          "TRIP_SEGMENTATION/segment_into_trips_time/has_trip_ended",
          "TRIP_SEGMENTATION/segment_into_trips_time/has_trip_ended",
          "TRIP_SEGMENTATION/segment_into_trips_time/has_trip_ended",
          "TRIP_SEGMENTATION/segment_into_trips_time/has_trip_ended",
          "TRIP_SEGMENTATION/segment_into_trips_time/has_trip_ended",
          "TRIP_SEGMENTATION/segment_into_trips_time/has_trip_ended",
          "TRIP_SEGMENTATION/segment_into_trips_time/has_trip_ended",
          "TRIP_SEGMENTATION/segment_into_trips_time/has_trip_ended",
          "TRIP_SEGMENTATION/segment_into_trips_time/has_trip_ended",
          "TRIP_SEGMENTATION/segment_into_trips_time/has_trip_ended",
          "TRIP_SEGMENTATION/segment_into_trips_time/has_trip_ended",
          "TRIP_SEGMENTATION/segment_into_trips_time/has_trip_ended",
          "TRIP_SEGMENTATION/segment_into_trips_time/has_trip_ended",
          "TRIP_SEGMENTATION/segment_into_trips_time/has_trip_ended",
          "TRIP_SEGMENTATION/segment_into_trips_time/has_trip_ended",
          "TRIP_SEGMENTATION/segment_into_trips_time/has_trip_ended",
          "TRIP_SEGMENTATION/segment_into_trips_time/has_trip_ended",
          "TRIP_SEGMENTATION/segment_into_trips_time/has_trip_ended",
          "TRIP_SEGMENTATION/segment_into_trips_time/has_trip_ended",
          "TRIP_SEGMENTATION/segment_into_trips_time/has_trip_ended",
          "TRIP_SEGMENTATION/segment_into_trips_time/has_trip_ended",
          "TRIP_SEGMENTATION/segment_into_trips_time/has_trip_ended",
          "TRIP_SEGMENTATION/segment_into_trips_time/has_trip_ended",
          "TRIP_SEGMENTATION/segment_into_trips_time/has_trip_ended",
          "TRIP_SEGMENTATION/segment_into_trips_time/has_trip_ended",
          "TRIP_SEGMENTATION/segment_into_trips_time/has_trip_ended",
          "TRIP_SEGMENTATION/segment_into_trips_time/has_trip_ended",
          "TRIP_SEGMENTATION/segment_into_trips_time/has_trip_ended",
          "TRIP_SEGMENTATION/segment_into_trips_time/has_trip_ended",
          "TRIP_SEGMENTATION/segment_into_trips_time/has_trip_ended",
          "TRIP_SEGMENTATION/segment_into_trips_time/has_trip_ended",
          "TRIP_SEGMENTATION/segment_into_trips_time/has_trip_ended",
          "TRIP_SEGMENTATION/segment_into_trips_time/has_trip_ended",
          "TRIP_SEGMENTATION/segment_into_trips_time/has_trip_ended",
          "TRIP_SEGMENTATION/segment_into_trips_time/has_trip_ended",
          "TRIP_SEGMENTATION/segment_into_trips_time/has_trip_ended",
          "TRIP_SEGMENTATION/segment_into_trips_time/has_trip_ended",
          "TRIP_SEGMENTATION/segment_into_trips_time/has_trip_ended",
          "TRIP_SEGMENTATION/segment_into_trips_time/has_trip_ended",
          "TRIP_SEGMENTATION/segment_into_trips_time/has_trip_ended",
          "TRIP_SEGMENTATION/segment_into_trips_time/has_trip_ended",
          "TRIP_SEGMENTATION/segment_into_trips_time/has_trip_ended",
          "TRIP_SEGMENTATION/segment_into_trips_time/has_trip_ended",
          "TRIP_SEGMENTATION/segment_into_trips_time/has_trip_ended",
          "TRIP_SEGMENTATION/segment_into_trips_time/has_trip_ended",
          "TRIP_SEGMENTATION/segment_into_trips_time/has_trip_ended",
          "TRIP_SEGMENTATION/segment_into_trips_time/has_trip_ended",
          "TRIP_SEGMENTATION/segment_into_trips_time/has_trip_ended",
          "TRIP_SEGMENTATION/segment_into_trips_time/has_trip_ended",
          "TRIP_SEGMENTATION/segment_into_trips_time/has_trip_ended",
          "TRIP_SEGMENTATION/segment_into_trips_time/has_trip_ended",
          "TRIP_SEGMENTATION/segment_into_trips_time/has_trip_ended",
          "TRIP_SEGMENTATION/segment_into_trips_time/has_trip_ended",
          "TRIP_SEGMENTATION/segment_into_trips_time/has_trip_ended",
          "TRIP_SEGMENTATION/segment_into_trips_time/has_trip_ended",
          "TRIP_SEGMENTATION/segment_into_trips_time/has_trip_ended",
          "TRIP_SEGMENTATION/segment_into_trips_time/has_trip_ended",
          "TRIP_SEGMENTATION/segment_into_trips_time/has_trip_ended",
          "TRIP_SEGMENTATION/segment_into_trips_time/has_trip_ended",
          "TRIP_SEGMENTATION/segment_into_trips_time/has_trip_ended",
          "TRIP_SEGMENTATION/segment_into_trips_time/has_trip_ended",
          "TRIP_SEGMENTATION/segment_into_trips_time/has_trip_ended",
          "TRIP_SEGMENTATION/segment_into_trips_time/has_trip_ended",
          "TRIP_SEGMENTATION/segment_into_trips_time/has_trip_ended",
          "TRIP_SEGMENTATION/segment_into_trips_time/has_trip_ended",
          "TRIP_SEGMENTATION/segment_into_trips_time/has_trip_ended",
          "TRIP_SEGMENTATION/segment_into_trips_time/has_trip_ended",
          "TRIP_SEGMENTATION/segment_into_trips_time/has_trip_ended",
          "TRIP_SEGMENTATION/segment_into_trips_time/has_trip_ended",
          "TRIP_SEGMENTATION/segment_into_trips_time/has_trip_ended",
          "TRIP_SEGMENTATION/segment_into_trips_time/has_trip_ended",
          "TRIP_SEGMENTATION/segment_into_trips_time/has_trip_ended",
          "TRIP_SEGMENTATION/segment_into_trips_time/has_trip_ended",
          "TRIP_SEGMENTATION/segment_into_trips_time/has_trip_ended",
          "TRIP_SEGMENTATION/segment_into_trips_time/has_trip_ended",
          "TRIP_SEGMENTATION/segment_into_trips_time/has_trip_ended",
          "TRIP_SEGMENTATION/segment_into_trips_time/has_trip_ended",
          "TRIP_SEGMENTATION/segment_into_trips_time/has_trip_ended",
          "TRIP_SEGMENTATION/segment_into_trips_time/has_trip_ended",
          "TRIP_SEGMENTATION/segment_into_trips_time/has_trip_ended",
          "TRIP_SEGMENTATION/segment_into_trips_time/has_trip_ended",
          "TRIP_SEGMENTATION/segment_into_trips_time/has_trip_ended",
          "TRIP_SEGMENTATION/segment_into_trips_time/has_trip_ended",
          "TRIP_SEGMENTATION/segment_into_trips_time/has_trip_ended",
          "TRIP_SEGMENTATION/segment_into_trips_time/has_trip_ended",
          "TRIP_SEGMENTATION/segment_into_trips_time/has_trip_ended",
          "TRIP_SEGMENTATION/segment_into_trips_time/has_trip_ended",
          "TRIP_SEGMENTATION/segment_into_trips_time/has_trip_ended",
          "TRIP_SEGMENTATION/segment_into_trips_time/has_trip_ended",
          "TRIP_SEGMENTATION/segment_into_trips_time/has_trip_ended",
          "TRIP_SEGMENTATION/segment_into_trips_time/has_trip_ended",
          "TRIP_SEGMENTATION/segment_into_trips_time/has_trip_ended",
          "TRIP_SEGMENTATION/segment_into_trips_time/has_trip_ended",
          "TRIP_SEGMENTATION/segment_into_trips_time/has_trip_ended",
          "TRIP_SEGMENTATION/segment_into_trips_time/has_trip_ended",
          "TRIP_SEGMENTATION/segment_into_trips_time/has_trip_ended",
          "TRIP_SEGMENTATION/segment_into_trips_time/has_trip_ended",
          "TRIP_SEGMENTATION/segment_into_trips_time/has_trip_ended",
          "TRIP_SEGMENTATION/segment_into_trips_time/has_trip_ended",
          "TRIP_SEGMENTATION/segment_into_trips_time/has_trip_ended",
          "TRIP_SEGMENTATION/segment_into_trips_time/has_trip_ended",
          "TRIP_SEGMENTATION/segment_into_trips_time/has_trip_ended",
          "TRIP_SEGMENTATION/segment_into_trips_time/has_trip_ended",
          "TRIP_SEGMENTATION/segment_into_trips_time/has_trip_ended",
          "TRIP_SEGMENTATION/segment_into_trips_time/has_trip_ended",
          "TRIP_SEGMENTATION/segment_into_trips_time/has_trip_ended",
          "TRIP_SEGMENTATION/segment_into_trips_time/has_trip_ended",
          "TRIP_SEGMENTATION/segment_into_trips_time/has_trip_ended",
          "TRIP_SEGMENTATION/segment_into_trips_time/has_trip_ended",
          "TRIP_SEGMENTATION/segment_into_trips_time/has_trip_ended",
          "TRIP_SEGMENTATION/segment_into_trips_time/has_trip_ended",
          "TRIP_SEGMENTATION/segment_into_trips_time/has_trip_ended",
          "TRIP_SEGMENTATION/segment_into_trips_time/has_trip_ended",
          "TRIP_SEGMENTATION/segment_into_trips_time/has_trip_ended",
          "TRIP_SEGMENTATION/segment_into_trips_time/has_trip_ended",
          "TRIP_SEGMENTATION/segment_into_trips_time/has_trip_ended",
          "TRIP_SEGMENTATION/segment_into_trips_time/has_trip_ended",
          "TRIP_SEGMENTATION/segment_into_trips_time/has_trip_ended",
          "TRIP_SEGMENTATION/segment_into_trips_time/has_trip_ended",
          "TRIP_SEGMENTATION/segment_into_trips_time/has_trip_ended",
          "TRIP_SEGMENTATION/segment_into_trips_time/has_trip_ended",
          "TRIP_SEGMENTATION/segment_into_trips_time/has_trip_ended",
          "TRIP_SEGMENTATION/segment_into_trips_time/has_trip_ended",
          "TRIP_SEGMENTATION/segment_into_trips_time/has_trip_ended",
          "TRIP_SEGMENTATION/segment_into_trips_time/has_trip_ended",
          "TRIP_SEGMENTATION/segment_into_trips_time/has_trip_ended",
          "TRIP_SEGMENTATION/segment_into_trips_time/has_trip_ended",
          "TRIP_SEGMENTATION/segment_into_trips_time/has_trip_ended",
          "TRIP_SEGMENTATION/segment_into_trips_time/has_trip_ended",
          "TRIP_SEGMENTATION/segment_into_trips_time/has_trip_ended",
          "TRIP_SEGMENTATION/segment_into_trips_time/has_trip_ended",
          "TRIP_SEGMENTATION/segment_into_trips_time/has_trip_ended",
          "TRIP_SEGMENTATION/segment_into_trips_time/has_trip_ended",
          "TRIP_SEGMENTATION/segment_into_trips_time/has_trip_ended",
          "TRIP_SEGMENTATION/segment_into_trips_time/has_trip_ended",
          "TRIP_SEGMENTATION/segment_into_trips_time/has_trip_ended",
          "TRIP_SEGMENTATION/segment_into_trips_time/has_trip_ended",
          "TRIP_SEGMENTATION/segment_into_trips_time/has_trip_ended",
          "TRIP_SEGMENTATION/segment_into_trips_time/has_trip_ended",
          "TRIP_SEGMENTATION/segment_into_trips_time/has_trip_ended",
          "TRIP_SEGMENTATION/segment_into_trips_time/has_trip_ended",
          "TRIP_SEGMENTATION/segment_into_trips_time/has_trip_ended",
          "TRIP_SEGMENTATION/segment_into_trips_time/has_trip_ended",
          "TRIP_SEGMENTATION/segment_into_trips_time/has_trip_ended",
          "TRIP_SEGMENTATION/segment_into_trips_time/has_trip_ended",
          "TRIP_SEGMENTATION/segment_into_trips_time/has_trip_ended",
          "TRIP_SEGMENTATION/segment_into_trips_time/has_trip_ended",
          "TRIP_SEGMENTATION/segment_into_trips_time/has_trip_ended",
          "TRIP_SEGMENTATION/segment_into_trips_time/has_trip_ended",
          "TRIP_SEGMENTATION/segment_into_trips_time/has_trip_ended",
          "TRIP_SEGMENTATION/segment_into_trips_time/has_trip_ended",
          "TRIP_SEGMENTATION/segment_into_trips_time/has_trip_ended",
          "TRIP_SEGMENTATION/segment_into_trips_time/has_trip_ended",
          "TRIP_SEGMENTATION/segment_into_trips_time/has_trip_ended",
          "TRIP_SEGMENTATION/segment_into_trips_time/has_trip_ended",
          "TRIP_SEGMENTATION/segment_into_trips_time/has_trip_ended",
          "TRIP_SEGMENTATION/segment_into_trips_time/has_trip_ended",
          "TRIP_SEGMENTATION/segment_into_trips_time/has_trip_ended",
          "TRIP_SEGMENTATION/segment_into_trips_time/has_trip_ended",
          "TRIP_SEGMENTATION/segment_into_trips_time/has_trip_ended",
          "TRIP_SEGMENTATION/segment_into_trips_time/has_trip_ended",
          "TRIP_SEGMENTATION/segment_into_trips_time/has_trip_ended",
          "TRIP_SEGMENTATION/segment_into_trips_time/has_trip_ended",
          "TRIP_SEGMENTATION/segment_into_trips_time/has_trip_ended",
          "TRIP_SEGMENTATION/segment_into_trips_time/has_trip_ended",
          "TRIP_SEGMENTATION/segment_into_trips_time/has_trip_ended",
          "TRIP_SEGMENTATION/segment_into_trips_time/has_trip_ended",
          "TRIP_SEGMENTATION/segment_into_trips_time/has_trip_ended",
          "TRIP_SEGMENTATION/segment_into_trips_time/has_trip_ended",
          "TRIP_SEGMENTATION/segment_into_trips_time/has_trip_ended",
          "TRIP_SEGMENTATION/segment_into_trips_time/has_trip_ended",
          "TRIP_SEGMENTATION/segment_into_trips_time/has_trip_ended",
          "TRIP_SEGMENTATION/segment_into_trips_time/has_trip_ended",
          "TRIP_SEGMENTATION/segment_into_trips_time/has_trip_ended",
          "TRIP_SEGMENTATION/segment_into_trips_time/has_trip_ended",
          "TRIP_SEGMENTATION/segment_into_trips_time/has_trip_ended",
          "TRIP_SEGMENTATION/segment_into_trips_time/has_trip_ended",
          "TRIP_SEGMENTATION/segment_into_trips_time/has_trip_ended",
          "TRIP_SEGMENTATION/segment_into_trips_time/has_trip_ended",
          "TRIP_SEGMENTATION/segment_into_trips_time/has_trip_ended",
          "TRIP_SEGMENTATION/segment_into_trips_time/has_trip_ended",
          "TRIP_SEGMENTATION/segment_into_trips_time/has_trip_ended",
          "TRIP_SEGMENTATION/segment_into_trips_time/has_trip_ended",
          "TRIP_SEGMENTATION/segment_into_trips_time/has_trip_ended",
          "TRIP_SEGMENTATION/segment_into_trips_time/has_trip_ended",
          "TRIP_SEGMENTATION/segment_into_trips_time/has_trip_ended",
          "TRIP_SEGMENTATION/segment_into_trips_time/has_trip_ended",
          "TRIP_SEGMENTATION/segment_into_trips_time/has_trip_ended",
          "TRIP_SEGMENTATION/segment_into_trips_time/has_trip_ended",
          "TRIP_SEGMENTATION/segment_into_trips_time/has_trip_ended",
          "TRIP_SEGMENTATION/segment_into_trips_time/has_trip_ended",
          "TRIP_SEGMENTATION/segment_into_trips_time/has_trip_ended",
          "TRIP_SEGMENTATION/segment_into_trips_time/has_trip_ended",
          "TRIP_SEGMENTATION/segment_into_trips_time/has_trip_ended",
          "TRIP_SEGMENTATION/segment_into_trips_time/has_trip_ended",
          "TRIP_SEGMENTATION/segment_into_trips_time/has_trip_ended",
          "TRIP_SEGMENTATION/segment_into_trips_time/has_trip_ended",
          "TRIP_SEGMENTATION/segment_into_trips_time/has_trip_ended",
          "TRIP_SEGMENTATION/segment_into_trips_time/has_trip_ended",
          "TRIP_SEGMENTATION/segment_into_trips_time/has_trip_ended",
          "TRIP_SEGMENTATION/segment_into_trips_time/has_trip_ended",
          "TRIP_SEGMENTATION/segment_into_trips_time/has_trip_ended",
          "TRIP_SEGMENTATION/segment_into_trips_time/has_trip_ended",
          "TRIP_SEGMENTATION/segment_into_trips_time/has_trip_ended",
          "TRIP_SEGMENTATION/segment_into_trips_time/has_trip_ended",
          "TRIP_SEGMENTATION/segment_into_trips_time/has_trip_ended",
          "TRIP_SEGMENTATION/segment_into_trips_time/has_trip_ended",
          "TRIP_SEGMENTATION/segment_into_trips_time/has_trip_ended",
          "TRIP_SEGMENTATION/segment_into_trips_time/has_trip_ended",
          "TRIP_SEGMENTATION/segment_into_trips_time/has_trip_ended",
          "TRIP_SEGMENTATION/segment_into_trips_time/has_trip_ended",
          "TRIP_SEGMENTATION/segment_into_trips_time/has_trip_ended",
          "TRIP_SEGMENTATION/segment_into_trips_time/has_trip_ended",
          "TRIP_SEGMENTATION/segment_into_trips_time/has_trip_ended",
          "TRIP_SEGMENTATION/segment_into_trips_time/has_trip_ended",
          "TRIP_SEGMENTATION/segment_into_trips_time/has_trip_ended",
          "TRIP_SEGMENTATION/segment_into_trips_time/has_trip_ended",
          "TRIP_SEGMENTATION/segment_into_trips_time/has_trip_ended",
          "TRIP_SEGMENTATION/segment_into_trips_time/has_trip_ended",
          "TRIP_SEGMENTATION/segment_into_trips_time/has_trip_ended",
          "TRIP_SEGMENTATION/segment_into_trips_time/has_trip_ended",
          "TRIP_SEGMENTATION/segment_into_trips_time/has_trip_ended",
          "TRIP_SEGMENTATION/segment_into_trips_time/has_trip_ended",
          "TRIP_SEGMENTATION/segment_into_trips_time/has_trip_ended",
          "TRIP_SEGMENTATION/segment_into_trips_time/has_trip_ended",
          "TRIP_SEGMENTATION/segment_into_trips_time/has_trip_ended",
          "TRIP_SEGMENTATION/segment_into_trips_time/has_trip_ended",
          "TRIP_SEGMENTATION/segment_into_trips_time/has_trip_ended",
          "TRIP_SEGMENTATION/segment_into_trips_time/has_trip_ended",
          "TRIP_SEGMENTATION/segment_into_trips_time/has_trip_ended",
          "TRIP_SEGMENTATION/segment_into_trips_time/has_trip_ended",
          "TRIP_SEGMENTATION/segment_into_trips_time/has_trip_ended",
          "TRIP_SEGMENTATION/segment_into_trips_time/has_trip_ended",
          "TRIP_SEGMENTATION/segment_into_trips_time/has_trip_ended",
          "TRIP_SEGMENTATION/segment_into_trips_time/has_trip_ended",
          "TRIP_SEGMENTATION/segment_into_trips_time/has_trip_ended",
          "TRIP_SEGMENTATION/segment_into_trips_time/has_trip_ended",
          "TRIP_SEGMENTATION/segment_into_trips_time/has_trip_ended",
          "TRIP_SEGMENTATION/segment_into_trips_time/has_trip_ended",
          "TRIP_SEGMENTATION/segment_into_trips_time/has_trip_ended",
          "TRIP_SEGMENTATION/segment_into_trips_time/has_trip_ended",
          "TRIP_SEGMENTATION/segment_into_trips_time/has_trip_ended",
          "TRIP_SEGMENTATION/segment_into_trips_time/has_trip_ended",
          "TRIP_SEGMENTATION/segment_into_trips_time/has_trip_ended",
          "TRIP_SEGMENTATION/segment_into_trips_time/has_trip_ended",
          "TRIP_SEGMENTATION/segment_into_trips_time/has_trip_ended",
          "TRIP_SEGMENTATION/segment_into_trips_time/has_trip_ended",
          "TRIP_SEGMENTATION/segment_into_trips_time/has_trip_ended",
          "TRIP_SEGMENTATION/segment_into_trips_time/has_trip_ended",
          "TRIP_SEGMENTATION/segment_into_trips_time/has_trip_ended",
          "TRIP_SEGMENTATION/segment_into_trips_time/has_trip_ended",
          "TRIP_SEGMENTATION/segment_into_trips_time/has_trip_ended",
          "TRIP_SEGMENTATION/segment_into_trips_time/has_trip_ended",
          "TRIP_SEGMENTATION/segment_into_trips_time/has_trip_ended",
          "TRIP_SEGMENTATION/segment_into_trips_time/has_trip_ended",
          "TRIP_SEGMENTATION/segment_into_trips_time/has_trip_ended",
          "TRIP_SEGMENTATION/segment_into_trips_time/has_trip_ended",
          "TRIP_SEGMENTATION/segment_into_trips_time/has_trip_ended",
          "TRIP_SEGMENTATION/segment_into_trips_time/has_trip_ended",
          "TRIP_SEGMENTATION/segment_into_trips_time/has_trip_ended",
          "TRIP_SEGMENTATION/segment_into_trips_time/has_trip_ended",
          "TRIP_SEGMENTATION/segment_into_trips_time/has_trip_ended",
          "TRIP_SEGMENTATION/segment_into_trips_time/has_trip_ended",
          "TRIP_SEGMENTATION/segment_into_trips_time/has_trip_ended",
          "TRIP_SEGMENTATION/segment_into_trips_time/has_trip_ended",
          "TRIP_SEGMENTATION/segment_into_trips_time/has_trip_ended",
          "TRIP_SEGMENTATION/segment_into_trips_time/has_trip_ended",
          "TRIP_SEGMENTATION/segment_into_trips_time/has_trip_ended",
          "TRIP_SEGMENTATION/segment_into_trips_time/has_trip_ended",
          "TRIP_SEGMENTATION/segment_into_trips_time/has_trip_ended",
          "TRIP_SEGMENTATION/segment_into_trips_time/has_trip_ended",
          "TRIP_SEGMENTATION/segment_into_trips_time/has_trip_ended",
          "TRIP_SEGMENTATION/segment_into_trips_time/has_trip_ended",
          "TRIP_SEGMENTATION/segment_into_trips_time/has_trip_ended",
          "TRIP_SEGMENTATION/segment_into_trips_time/has_trip_ended",
          "TRIP_SEGMENTATION/segment_into_trips_time/has_trip_ended",
          "TRIP_SEGMENTATION/segment_into_trips_time/has_trip_ended",
          "TRIP_SEGMENTATION/segment_into_trips_time/has_trip_ended",
          "TRIP_SEGMENTATION/segment_into_trips_time/has_trip_ended",
          "TRIP_SEGMENTATION/segment_into_trips_time/has_trip_ended",
          "TRIP_SEGMENTATION/segment_into_trips_time/has_trip_ended",
          "TRIP_SEGMENTATION/segment_into_trips_time/has_trip_ended",
          "TRIP_SEGMENTATION/segment_into_trips_time/has_trip_ended",
          "TRIP_SEGMENTATION/segment_into_trips_time/has_trip_ended",
          "TRIP_SEGMENTATION/segment_into_trips_time/has_trip_ended",
          "TRIP_SEGMENTATION/segment_into_trips_time/has_trip_ended",
          "TRIP_SEGMENTATION/segment_into_trips_time/has_trip_ended",
          "TRIP_SEGMENTATION/segment_into_trips_time/has_trip_ended",
          "TRIP_SEGMENTATION/segment_into_trips_time/has_trip_ended",
          "TRIP_SEGMENTATION/segment_into_trips_time/has_trip_ended",
          "TRIP_SEGMENTATION/segment_into_trips_time/has_trip_ended",
          "TRIP_SEGMENTATION/segment_into_trips_time/has_trip_ended",
          "TRIP_SEGMENTATION/segment_into_trips_time/has_trip_ended",
          "TRIP_SEGMENTATION/segment_into_trips_time/has_trip_ended",
          "TRIP_SEGMENTATION/segment_into_trips_time/has_trip_ended",
          "TRIP_SEGMENTATION/segment_into_trips_time/has_trip_ended",
          "TRIP_SEGMENTATION/segment_into_trips_time/has_trip_ended",
          "TRIP_SEGMENTATION/segment_into_trips_time/has_trip_ended",
          "TRIP_SEGMENTATION/segment_into_trips_time/has_trip_ended",
          "TRIP_SEGMENTATION/segment_into_trips_time/has_trip_ended",
          "TRIP_SEGMENTATION/segment_into_trips_time/has_trip_ended",
          "TRIP_SEGMENTATION/segment_into_trips_time/has_trip_ended",
          "TRIP_SEGMENTATION/segment_into_trips_time/has_trip_ended",
          "TRIP_SEGMENTATION/segment_into_trips_time/has_trip_ended",
          "TRIP_SEGMENTATION/segment_into_trips_time/has_trip_ended",
          "TRIP_SEGMENTATION/segment_into_trips_time/has_trip_ended",
          "TRIP_SEGMENTATION/segment_into_trips_time/has_trip_ended",
          "TRIP_SEGMENTATION/segment_into_trips_time/has_trip_ended",
          "TRIP_SEGMENTATION/segment_into_trips_time/has_trip_ended",
          "TRIP_SEGMENTATION/segment_into_trips_time/has_trip_ended",
          "TRIP_SEGMENTATION/segment_into_trips_time/has_trip_ended",
          "TRIP_SEGMENTATION/segment_into_trips_time/has_trip_ended",
          "TRIP_SEGMENTATION/segment_into_trips_time/has_trip_ended",
          "TRIP_SEGMENTATION/segment_into_trips_time/has_trip_ended",
          "TRIP_SEGMENTATION/get_data_df"
         ],
         "yaxis": "y"
        }
       ],
       "layout": {
        "barmode": "group",
        "legend": {
         "title": {
          "text": "branch_name"
         },
         "tracegroupgap": 0,
         "xanchor": "right",
         "yanchor": "bottom"
        },
        "margin": {
         "t": 60
        },
        "template": {
         "data": {
          "bar": [
           {
            "error_x": {
             "color": "#2a3f5f"
            },
            "error_y": {
             "color": "#2a3f5f"
            },
            "marker": {
             "line": {
              "color": "#E5ECF6",
              "width": 0.5
             },
             "pattern": {
              "fillmode": "overlay",
              "size": 10,
              "solidity": 0.2
             }
            },
            "type": "bar"
           }
          ],
          "barpolar": [
           {
            "marker": {
             "line": {
              "color": "#E5ECF6",
              "width": 0.5
             },
             "pattern": {
              "fillmode": "overlay",
              "size": 10,
              "solidity": 0.2
             }
            },
            "type": "barpolar"
           }
          ],
          "carpet": [
           {
            "aaxis": {
             "endlinecolor": "#2a3f5f",
             "gridcolor": "white",
             "linecolor": "white",
             "minorgridcolor": "white",
             "startlinecolor": "#2a3f5f"
            },
            "baxis": {
             "endlinecolor": "#2a3f5f",
             "gridcolor": "white",
             "linecolor": "white",
             "minorgridcolor": "white",
             "startlinecolor": "#2a3f5f"
            },
            "type": "carpet"
           }
          ],
          "choropleth": [
           {
            "colorbar": {
             "outlinewidth": 0,
             "ticks": ""
            },
            "type": "choropleth"
           }
          ],
          "contour": [
           {
            "colorbar": {
             "outlinewidth": 0,
             "ticks": ""
            },
            "colorscale": [
             [
              0,
              "#0d0887"
             ],
             [
              0.1111111111111111,
              "#46039f"
             ],
             [
              0.2222222222222222,
              "#7201a8"
             ],
             [
              0.3333333333333333,
              "#9c179e"
             ],
             [
              0.4444444444444444,
              "#bd3786"
             ],
             [
              0.5555555555555556,
              "#d8576b"
             ],
             [
              0.6666666666666666,
              "#ed7953"
             ],
             [
              0.7777777777777778,
              "#fb9f3a"
             ],
             [
              0.8888888888888888,
              "#fdca26"
             ],
             [
              1,
              "#f0f921"
             ]
            ],
            "type": "contour"
           }
          ],
          "contourcarpet": [
           {
            "colorbar": {
             "outlinewidth": 0,
             "ticks": ""
            },
            "type": "contourcarpet"
           }
          ],
          "heatmap": [
           {
            "colorbar": {
             "outlinewidth": 0,
             "ticks": ""
            },
            "colorscale": [
             [
              0,
              "#0d0887"
             ],
             [
              0.1111111111111111,
              "#46039f"
             ],
             [
              0.2222222222222222,
              "#7201a8"
             ],
             [
              0.3333333333333333,
              "#9c179e"
             ],
             [
              0.4444444444444444,
              "#bd3786"
             ],
             [
              0.5555555555555556,
              "#d8576b"
             ],
             [
              0.6666666666666666,
              "#ed7953"
             ],
             [
              0.7777777777777778,
              "#fb9f3a"
             ],
             [
              0.8888888888888888,
              "#fdca26"
             ],
             [
              1,
              "#f0f921"
             ]
            ],
            "type": "heatmap"
           }
          ],
          "histogram": [
           {
            "marker": {
             "pattern": {
              "fillmode": "overlay",
              "size": 10,
              "solidity": 0.2
             }
            },
            "type": "histogram"
           }
          ],
          "histogram2d": [
           {
            "colorbar": {
             "outlinewidth": 0,
             "ticks": ""
            },
            "colorscale": [
             [
              0,
              "#0d0887"
             ],
             [
              0.1111111111111111,
              "#46039f"
             ],
             [
              0.2222222222222222,
              "#7201a8"
             ],
             [
              0.3333333333333333,
              "#9c179e"
             ],
             [
              0.4444444444444444,
              "#bd3786"
             ],
             [
              0.5555555555555556,
              "#d8576b"
             ],
             [
              0.6666666666666666,
              "#ed7953"
             ],
             [
              0.7777777777777778,
              "#fb9f3a"
             ],
             [
              0.8888888888888888,
              "#fdca26"
             ],
             [
              1,
              "#f0f921"
             ]
            ],
            "type": "histogram2d"
           }
          ],
          "histogram2dcontour": [
           {
            "colorbar": {
             "outlinewidth": 0,
             "ticks": ""
            },
            "colorscale": [
             [
              0,
              "#0d0887"
             ],
             [
              0.1111111111111111,
              "#46039f"
             ],
             [
              0.2222222222222222,
              "#7201a8"
             ],
             [
              0.3333333333333333,
              "#9c179e"
             ],
             [
              0.4444444444444444,
              "#bd3786"
             ],
             [
              0.5555555555555556,
              "#d8576b"
             ],
             [
              0.6666666666666666,
              "#ed7953"
             ],
             [
              0.7777777777777778,
              "#fb9f3a"
             ],
             [
              0.8888888888888888,
              "#fdca26"
             ],
             [
              1,
              "#f0f921"
             ]
            ],
            "type": "histogram2dcontour"
           }
          ],
          "mesh3d": [
           {
            "colorbar": {
             "outlinewidth": 0,
             "ticks": ""
            },
            "type": "mesh3d"
           }
          ],
          "parcoords": [
           {
            "line": {
             "colorbar": {
              "outlinewidth": 0,
              "ticks": ""
             }
            },
            "type": "parcoords"
           }
          ],
          "pie": [
           {
            "automargin": true,
            "type": "pie"
           }
          ],
          "scatter": [
           {
            "fillpattern": {
             "fillmode": "overlay",
             "size": 10,
             "solidity": 0.2
            },
            "type": "scatter"
           }
          ],
          "scatter3d": [
           {
            "line": {
             "colorbar": {
              "outlinewidth": 0,
              "ticks": ""
             }
            },
            "marker": {
             "colorbar": {
              "outlinewidth": 0,
              "ticks": ""
             }
            },
            "type": "scatter3d"
           }
          ],
          "scattercarpet": [
           {
            "marker": {
             "colorbar": {
              "outlinewidth": 0,
              "ticks": ""
             }
            },
            "type": "scattercarpet"
           }
          ],
          "scattergeo": [
           {
            "marker": {
             "colorbar": {
              "outlinewidth": 0,
              "ticks": ""
             }
            },
            "type": "scattergeo"
           }
          ],
          "scattergl": [
           {
            "marker": {
             "colorbar": {
              "outlinewidth": 0,
              "ticks": ""
             }
            },
            "type": "scattergl"
           }
          ],
          "scattermap": [
           {
            "marker": {
             "colorbar": {
              "outlinewidth": 0,
              "ticks": ""
             }
            },
            "type": "scattermap"
           }
          ],
          "scattermapbox": [
           {
            "marker": {
             "colorbar": {
              "outlinewidth": 0,
              "ticks": ""
             }
            },
            "type": "scattermapbox"
           }
          ],
          "scatterpolar": [
           {
            "marker": {
             "colorbar": {
              "outlinewidth": 0,
              "ticks": ""
             }
            },
            "type": "scatterpolar"
           }
          ],
          "scatterpolargl": [
           {
            "marker": {
             "colorbar": {
              "outlinewidth": 0,
              "ticks": ""
             }
            },
            "type": "scatterpolargl"
           }
          ],
          "scatterternary": [
           {
            "marker": {
             "colorbar": {
              "outlinewidth": 0,
              "ticks": ""
             }
            },
            "type": "scatterternary"
           }
          ],
          "surface": [
           {
            "colorbar": {
             "outlinewidth": 0,
             "ticks": ""
            },
            "colorscale": [
             [
              0,
              "#0d0887"
             ],
             [
              0.1111111111111111,
              "#46039f"
             ],
             [
              0.2222222222222222,
              "#7201a8"
             ],
             [
              0.3333333333333333,
              "#9c179e"
             ],
             [
              0.4444444444444444,
              "#bd3786"
             ],
             [
              0.5555555555555556,
              "#d8576b"
             ],
             [
              0.6666666666666666,
              "#ed7953"
             ],
             [
              0.7777777777777778,
              "#fb9f3a"
             ],
             [
              0.8888888888888888,
              "#fdca26"
             ],
             [
              1,
              "#f0f921"
             ]
            ],
            "type": "surface"
           }
          ],
          "table": [
           {
            "cells": {
             "fill": {
              "color": "#EBF0F8"
             },
             "line": {
              "color": "white"
             }
            },
            "header": {
             "fill": {
              "color": "#C8D4E3"
             },
             "line": {
              "color": "white"
             }
            },
            "type": "table"
           }
          ]
         },
         "layout": {
          "annotationdefaults": {
           "arrowcolor": "#2a3f5f",
           "arrowhead": 0,
           "arrowwidth": 1
          },
          "autotypenumbers": "strict",
          "coloraxis": {
           "colorbar": {
            "outlinewidth": 0,
            "ticks": ""
           }
          },
          "colorscale": {
           "diverging": [
            [
             0,
             "#8e0152"
            ],
            [
             0.1,
             "#c51b7d"
            ],
            [
             0.2,
             "#de77ae"
            ],
            [
             0.3,
             "#f1b6da"
            ],
            [
             0.4,
             "#fde0ef"
            ],
            [
             0.5,
             "#f7f7f7"
            ],
            [
             0.6,
             "#e6f5d0"
            ],
            [
             0.7,
             "#b8e186"
            ],
            [
             0.8,
             "#7fbc41"
            ],
            [
             0.9,
             "#4d9221"
            ],
            [
             1,
             "#276419"
            ]
           ],
           "sequential": [
            [
             0,
             "#0d0887"
            ],
            [
             0.1111111111111111,
             "#46039f"
            ],
            [
             0.2222222222222222,
             "#7201a8"
            ],
            [
             0.3333333333333333,
             "#9c179e"
            ],
            [
             0.4444444444444444,
             "#bd3786"
            ],
            [
             0.5555555555555556,
             "#d8576b"
            ],
            [
             0.6666666666666666,
             "#ed7953"
            ],
            [
             0.7777777777777778,
             "#fb9f3a"
            ],
            [
             0.8888888888888888,
             "#fdca26"
            ],
            [
             1,
             "#f0f921"
            ]
           ],
           "sequentialminus": [
            [
             0,
             "#0d0887"
            ],
            [
             0.1111111111111111,
             "#46039f"
            ],
            [
             0.2222222222222222,
             "#7201a8"
            ],
            [
             0.3333333333333333,
             "#9c179e"
            ],
            [
             0.4444444444444444,
             "#bd3786"
            ],
            [
             0.5555555555555556,
             "#d8576b"
            ],
            [
             0.6666666666666666,
             "#ed7953"
            ],
            [
             0.7777777777777778,
             "#fb9f3a"
            ],
            [
             0.8888888888888888,
             "#fdca26"
            ],
            [
             1,
             "#f0f921"
            ]
           ]
          },
          "colorway": [
           "#636efa",
           "#EF553B",
           "#00cc96",
           "#ab63fa",
           "#FFA15A",
           "#19d3f3",
           "#FF6692",
           "#B6E880",
           "#FF97FF",
           "#FECB52"
          ],
          "font": {
           "color": "#2a3f5f"
          },
          "geo": {
           "bgcolor": "white",
           "lakecolor": "white",
           "landcolor": "#E5ECF6",
           "showlakes": true,
           "showland": true,
           "subunitcolor": "white"
          },
          "hoverlabel": {
           "align": "left"
          },
          "hovermode": "closest",
          "mapbox": {
           "style": "light"
          },
          "paper_bgcolor": "white",
          "plot_bgcolor": "#E5ECF6",
          "polar": {
           "angularaxis": {
            "gridcolor": "white",
            "linecolor": "white",
            "ticks": ""
           },
           "bgcolor": "#E5ECF6",
           "radialaxis": {
            "gridcolor": "white",
            "linecolor": "white",
            "ticks": ""
           }
          },
          "scene": {
           "xaxis": {
            "backgroundcolor": "#E5ECF6",
            "gridcolor": "white",
            "gridwidth": 2,
            "linecolor": "white",
            "showbackground": true,
            "ticks": "",
            "zerolinecolor": "white"
           },
           "yaxis": {
            "backgroundcolor": "#E5ECF6",
            "gridcolor": "white",
            "gridwidth": 2,
            "linecolor": "white",
            "showbackground": true,
            "ticks": "",
            "zerolinecolor": "white"
           },
           "zaxis": {
            "backgroundcolor": "#E5ECF6",
            "gridcolor": "white",
            "gridwidth": 2,
            "linecolor": "white",
            "showbackground": true,
            "ticks": "",
            "zerolinecolor": "white"
           }
          },
          "shapedefaults": {
           "line": {
            "color": "#2a3f5f"
           }
          },
          "ternary": {
           "aaxis": {
            "gridcolor": "white",
            "linecolor": "white",
            "ticks": ""
           },
           "baxis": {
            "gridcolor": "white",
            "linecolor": "white",
            "ticks": ""
           },
           "bgcolor": "#E5ECF6",
           "caxis": {
            "gridcolor": "white",
            "linecolor": "white",
            "ticks": ""
           }
          },
          "title": {
           "x": 0.05
          },
          "xaxis": {
           "automargin": true,
           "gridcolor": "white",
           "linecolor": "white",
           "ticks": "",
           "title": {
            "standoff": 15
           },
           "zerolinecolor": "white",
           "zerolinewidth": 2
          },
          "yaxis": {
           "automargin": true,
           "gridcolor": "white",
           "linecolor": "white",
           "ticks": "",
           "title": {
            "standoff": 15
           },
           "zerolinecolor": "white",
           "zerolinewidth": 2
          }
         }
        },
        "title": {
         "text": "Trip segmentation substage runtimes (shankari_2016-07-27)"
        },
        "xaxis": {
         "anchor": "y",
         "domain": [
          0,
          1
         ],
         "title": {
          "text": "reading"
         }
        },
        "yaxis": {
         "anchor": "x",
         "domain": [
          0,
          1
         ],
         "title": {
          "text": "name"
         }
        }
       }
      }
     },
     "metadata": {},
     "output_type": "display_data"
    }
   ],
   "source": [
    "trip_segmentation_df = pipeline_stats_df[\n",
    "    pipeline_stats_df['name'].str.contains('TRIP_SEGMENTATION/')\n",
    "]\n",
    "fig = px.bar(\n",
    "    trip_segmentation_df,\n",
    "    y=\"name\",\n",
    "    x=\"reading\",\n",
    "    color=\"branch_name\",\n",
    "    orientation=\"h\",\n",
    ")\n",
    "fig.update_layout(\n",
    "    title=f\"Trip segmentation substage runtimes ({day})\",\n",
    "    barmode='group',\n",
    "    legend=dict(\n",
    "        yanchor=\"bottom\",\n",
    "        xanchor=\"right\",\n",
    "    )\n",
    ")\n",
    "fig.show()"
   ]
  },
  {
   "cell_type": "code",
   "execution_count": 98,
   "metadata": {},
   "outputs": [
    {
     "data": {
      "application/vnd.plotly.v1+json": {
       "config": {
        "plotlyServerURL": "https://plot.ly"
       },
       "data": [
        {
         "hovertemplate": "index=%{y}<br>value=%{x}<extra></extra>",
         "legendgroup": "master",
         "marker": {
          "color": "#636efa",
          "pattern": {
           "shape": ""
          }
         },
         "name": "master",
         "orientation": "h",
         "showlegend": true,
         "textposition": "auto",
         "type": "bar",
         "x": {
          "bdata": "sg8=",
          "dtype": "i2"
         },
         "xaxis": "x",
         "y": [
          "master"
         ],
         "yaxis": "y"
        },
        {
         "hovertemplate": "index=%{y}<br>value=%{x}<extra></extra>",
         "legendgroup": "segmentation_optimization",
         "marker": {
          "color": "#EF553B",
          "pattern": {
           "shape": ""
          }
         },
         "name": "segmentation_optimization",
         "orientation": "h",
         "showlegend": true,
         "textposition": "auto",
         "type": "bar",
         "x": {
          "bdata": "6gM=",
          "dtype": "i2"
         },
         "xaxis": "x",
         "y": [
          "segmentation_optimization"
         ],
         "yaxis": "y"
        },
        {
         "hovertemplate": "index=%{y}<br>value=%{x}<extra></extra>",
         "legendgroup": "segmentation_polars",
         "marker": {
          "color": "#00cc96",
          "pattern": {
           "shape": ""
          }
         },
         "name": "segmentation_polars",
         "orientation": "h",
         "showlegend": true,
         "textposition": "auto",
         "type": "bar",
         "x": {
          "bdata": "sg8=",
          "dtype": "i2"
         },
         "xaxis": "x",
         "y": [
          "segmentation_polars"
         ],
         "yaxis": "y"
        }
       ],
       "layout": {
        "barmode": "group",
        "legend": {
         "title": {
          "text": "index"
         },
         "tracegroupgap": 0,
         "xanchor": "right",
         "yanchor": "bottom"
        },
        "margin": {
         "t": 60
        },
        "template": {
         "data": {
          "bar": [
           {
            "error_x": {
             "color": "#2a3f5f"
            },
            "error_y": {
             "color": "#2a3f5f"
            },
            "marker": {
             "line": {
              "color": "#E5ECF6",
              "width": 0.5
             },
             "pattern": {
              "fillmode": "overlay",
              "size": 10,
              "solidity": 0.2
             }
            },
            "type": "bar"
           }
          ],
          "barpolar": [
           {
            "marker": {
             "line": {
              "color": "#E5ECF6",
              "width": 0.5
             },
             "pattern": {
              "fillmode": "overlay",
              "size": 10,
              "solidity": 0.2
             }
            },
            "type": "barpolar"
           }
          ],
          "carpet": [
           {
            "aaxis": {
             "endlinecolor": "#2a3f5f",
             "gridcolor": "white",
             "linecolor": "white",
             "minorgridcolor": "white",
             "startlinecolor": "#2a3f5f"
            },
            "baxis": {
             "endlinecolor": "#2a3f5f",
             "gridcolor": "white",
             "linecolor": "white",
             "minorgridcolor": "white",
             "startlinecolor": "#2a3f5f"
            },
            "type": "carpet"
           }
          ],
          "choropleth": [
           {
            "colorbar": {
             "outlinewidth": 0,
             "ticks": ""
            },
            "type": "choropleth"
           }
          ],
          "contour": [
           {
            "colorbar": {
             "outlinewidth": 0,
             "ticks": ""
            },
            "colorscale": [
             [
              0,
              "#0d0887"
             ],
             [
              0.1111111111111111,
              "#46039f"
             ],
             [
              0.2222222222222222,
              "#7201a8"
             ],
             [
              0.3333333333333333,
              "#9c179e"
             ],
             [
              0.4444444444444444,
              "#bd3786"
             ],
             [
              0.5555555555555556,
              "#d8576b"
             ],
             [
              0.6666666666666666,
              "#ed7953"
             ],
             [
              0.7777777777777778,
              "#fb9f3a"
             ],
             [
              0.8888888888888888,
              "#fdca26"
             ],
             [
              1,
              "#f0f921"
             ]
            ],
            "type": "contour"
           }
          ],
          "contourcarpet": [
           {
            "colorbar": {
             "outlinewidth": 0,
             "ticks": ""
            },
            "type": "contourcarpet"
           }
          ],
          "heatmap": [
           {
            "colorbar": {
             "outlinewidth": 0,
             "ticks": ""
            },
            "colorscale": [
             [
              0,
              "#0d0887"
             ],
             [
              0.1111111111111111,
              "#46039f"
             ],
             [
              0.2222222222222222,
              "#7201a8"
             ],
             [
              0.3333333333333333,
              "#9c179e"
             ],
             [
              0.4444444444444444,
              "#bd3786"
             ],
             [
              0.5555555555555556,
              "#d8576b"
             ],
             [
              0.6666666666666666,
              "#ed7953"
             ],
             [
              0.7777777777777778,
              "#fb9f3a"
             ],
             [
              0.8888888888888888,
              "#fdca26"
             ],
             [
              1,
              "#f0f921"
             ]
            ],
            "type": "heatmap"
           }
          ],
          "histogram": [
           {
            "marker": {
             "pattern": {
              "fillmode": "overlay",
              "size": 10,
              "solidity": 0.2
             }
            },
            "type": "histogram"
           }
          ],
          "histogram2d": [
           {
            "colorbar": {
             "outlinewidth": 0,
             "ticks": ""
            },
            "colorscale": [
             [
              0,
              "#0d0887"
             ],
             [
              0.1111111111111111,
              "#46039f"
             ],
             [
              0.2222222222222222,
              "#7201a8"
             ],
             [
              0.3333333333333333,
              "#9c179e"
             ],
             [
              0.4444444444444444,
              "#bd3786"
             ],
             [
              0.5555555555555556,
              "#d8576b"
             ],
             [
              0.6666666666666666,
              "#ed7953"
             ],
             [
              0.7777777777777778,
              "#fb9f3a"
             ],
             [
              0.8888888888888888,
              "#fdca26"
             ],
             [
              1,
              "#f0f921"
             ]
            ],
            "type": "histogram2d"
           }
          ],
          "histogram2dcontour": [
           {
            "colorbar": {
             "outlinewidth": 0,
             "ticks": ""
            },
            "colorscale": [
             [
              0,
              "#0d0887"
             ],
             [
              0.1111111111111111,
              "#46039f"
             ],
             [
              0.2222222222222222,
              "#7201a8"
             ],
             [
              0.3333333333333333,
              "#9c179e"
             ],
             [
              0.4444444444444444,
              "#bd3786"
             ],
             [
              0.5555555555555556,
              "#d8576b"
             ],
             [
              0.6666666666666666,
              "#ed7953"
             ],
             [
              0.7777777777777778,
              "#fb9f3a"
             ],
             [
              0.8888888888888888,
              "#fdca26"
             ],
             [
              1,
              "#f0f921"
             ]
            ],
            "type": "histogram2dcontour"
           }
          ],
          "mesh3d": [
           {
            "colorbar": {
             "outlinewidth": 0,
             "ticks": ""
            },
            "type": "mesh3d"
           }
          ],
          "parcoords": [
           {
            "line": {
             "colorbar": {
              "outlinewidth": 0,
              "ticks": ""
             }
            },
            "type": "parcoords"
           }
          ],
          "pie": [
           {
            "automargin": true,
            "type": "pie"
           }
          ],
          "scatter": [
           {
            "fillpattern": {
             "fillmode": "overlay",
             "size": 10,
             "solidity": 0.2
            },
            "type": "scatter"
           }
          ],
          "scatter3d": [
           {
            "line": {
             "colorbar": {
              "outlinewidth": 0,
              "ticks": ""
             }
            },
            "marker": {
             "colorbar": {
              "outlinewidth": 0,
              "ticks": ""
             }
            },
            "type": "scatter3d"
           }
          ],
          "scattercarpet": [
           {
            "marker": {
             "colorbar": {
              "outlinewidth": 0,
              "ticks": ""
             }
            },
            "type": "scattercarpet"
           }
          ],
          "scattergeo": [
           {
            "marker": {
             "colorbar": {
              "outlinewidth": 0,
              "ticks": ""
             }
            },
            "type": "scattergeo"
           }
          ],
          "scattergl": [
           {
            "marker": {
             "colorbar": {
              "outlinewidth": 0,
              "ticks": ""
             }
            },
            "type": "scattergl"
           }
          ],
          "scattermap": [
           {
            "marker": {
             "colorbar": {
              "outlinewidth": 0,
              "ticks": ""
             }
            },
            "type": "scattermap"
           }
          ],
          "scattermapbox": [
           {
            "marker": {
             "colorbar": {
              "outlinewidth": 0,
              "ticks": ""
             }
            },
            "type": "scattermapbox"
           }
          ],
          "scatterpolar": [
           {
            "marker": {
             "colorbar": {
              "outlinewidth": 0,
              "ticks": ""
             }
            },
            "type": "scatterpolar"
           }
          ],
          "scatterpolargl": [
           {
            "marker": {
             "colorbar": {
              "outlinewidth": 0,
              "ticks": ""
             }
            },
            "type": "scatterpolargl"
           }
          ],
          "scatterternary": [
           {
            "marker": {
             "colorbar": {
              "outlinewidth": 0,
              "ticks": ""
             }
            },
            "type": "scatterternary"
           }
          ],
          "surface": [
           {
            "colorbar": {
             "outlinewidth": 0,
             "ticks": ""
            },
            "colorscale": [
             [
              0,
              "#0d0887"
             ],
             [
              0.1111111111111111,
              "#46039f"
             ],
             [
              0.2222222222222222,
              "#7201a8"
             ],
             [
              0.3333333333333333,
              "#9c179e"
             ],
             [
              0.4444444444444444,
              "#bd3786"
             ],
             [
              0.5555555555555556,
              "#d8576b"
             ],
             [
              0.6666666666666666,
              "#ed7953"
             ],
             [
              0.7777777777777778,
              "#fb9f3a"
             ],
             [
              0.8888888888888888,
              "#fdca26"
             ],
             [
              1,
              "#f0f921"
             ]
            ],
            "type": "surface"
           }
          ],
          "table": [
           {
            "cells": {
             "fill": {
              "color": "#EBF0F8"
             },
             "line": {
              "color": "white"
             }
            },
            "header": {
             "fill": {
              "color": "#C8D4E3"
             },
             "line": {
              "color": "white"
             }
            },
            "type": "table"
           }
          ]
         },
         "layout": {
          "annotationdefaults": {
           "arrowcolor": "#2a3f5f",
           "arrowhead": 0,
           "arrowwidth": 1
          },
          "autotypenumbers": "strict",
          "coloraxis": {
           "colorbar": {
            "outlinewidth": 0,
            "ticks": ""
           }
          },
          "colorscale": {
           "diverging": [
            [
             0,
             "#8e0152"
            ],
            [
             0.1,
             "#c51b7d"
            ],
            [
             0.2,
             "#de77ae"
            ],
            [
             0.3,
             "#f1b6da"
            ],
            [
             0.4,
             "#fde0ef"
            ],
            [
             0.5,
             "#f7f7f7"
            ],
            [
             0.6,
             "#e6f5d0"
            ],
            [
             0.7,
             "#b8e186"
            ],
            [
             0.8,
             "#7fbc41"
            ],
            [
             0.9,
             "#4d9221"
            ],
            [
             1,
             "#276419"
            ]
           ],
           "sequential": [
            [
             0,
             "#0d0887"
            ],
            [
             0.1111111111111111,
             "#46039f"
            ],
            [
             0.2222222222222222,
             "#7201a8"
            ],
            [
             0.3333333333333333,
             "#9c179e"
            ],
            [
             0.4444444444444444,
             "#bd3786"
            ],
            [
             0.5555555555555556,
             "#d8576b"
            ],
            [
             0.6666666666666666,
             "#ed7953"
            ],
            [
             0.7777777777777778,
             "#fb9f3a"
            ],
            [
             0.8888888888888888,
             "#fdca26"
            ],
            [
             1,
             "#f0f921"
            ]
           ],
           "sequentialminus": [
            [
             0,
             "#0d0887"
            ],
            [
             0.1111111111111111,
             "#46039f"
            ],
            [
             0.2222222222222222,
             "#7201a8"
            ],
            [
             0.3333333333333333,
             "#9c179e"
            ],
            [
             0.4444444444444444,
             "#bd3786"
            ],
            [
             0.5555555555555556,
             "#d8576b"
            ],
            [
             0.6666666666666666,
             "#ed7953"
            ],
            [
             0.7777777777777778,
             "#fb9f3a"
            ],
            [
             0.8888888888888888,
             "#fdca26"
            ],
            [
             1,
             "#f0f921"
            ]
           ]
          },
          "colorway": [
           "#636efa",
           "#EF553B",
           "#00cc96",
           "#ab63fa",
           "#FFA15A",
           "#19d3f3",
           "#FF6692",
           "#B6E880",
           "#FF97FF",
           "#FECB52"
          ],
          "font": {
           "color": "#2a3f5f"
          },
          "geo": {
           "bgcolor": "white",
           "lakecolor": "white",
           "landcolor": "#E5ECF6",
           "showlakes": true,
           "showland": true,
           "subunitcolor": "white"
          },
          "hoverlabel": {
           "align": "left"
          },
          "hovermode": "closest",
          "mapbox": {
           "style": "light"
          },
          "paper_bgcolor": "white",
          "plot_bgcolor": "#E5ECF6",
          "polar": {
           "angularaxis": {
            "gridcolor": "white",
            "linecolor": "white",
            "ticks": ""
           },
           "bgcolor": "#E5ECF6",
           "radialaxis": {
            "gridcolor": "white",
            "linecolor": "white",
            "ticks": ""
           }
          },
          "scene": {
           "xaxis": {
            "backgroundcolor": "#E5ECF6",
            "gridcolor": "white",
            "gridwidth": 2,
            "linecolor": "white",
            "showbackground": true,
            "ticks": "",
            "zerolinecolor": "white"
           },
           "yaxis": {
            "backgroundcolor": "#E5ECF6",
            "gridcolor": "white",
            "gridwidth": 2,
            "linecolor": "white",
            "showbackground": true,
            "ticks": "",
            "zerolinecolor": "white"
           },
           "zaxis": {
            "backgroundcolor": "#E5ECF6",
            "gridcolor": "white",
            "gridwidth": 2,
            "linecolor": "white",
            "showbackground": true,
            "ticks": "",
            "zerolinecolor": "white"
           }
          },
          "shapedefaults": {
           "line": {
            "color": "#2a3f5f"
           }
          },
          "ternary": {
           "aaxis": {
            "gridcolor": "white",
            "linecolor": "white",
            "ticks": ""
           },
           "baxis": {
            "gridcolor": "white",
            "linecolor": "white",
            "ticks": ""
           },
           "bgcolor": "#E5ECF6",
           "caxis": {
            "gridcolor": "white",
            "linecolor": "white",
            "ticks": ""
           }
          },
          "title": {
           "x": 0.05
          },
          "xaxis": {
           "automargin": true,
           "gridcolor": "white",
           "linecolor": "white",
           "ticks": "",
           "title": {
            "standoff": 15
           },
           "zerolinecolor": "white",
           "zerolinewidth": 2
          },
          "yaxis": {
           "automargin": true,
           "gridcolor": "white",
           "linecolor": "white",
           "ticks": "",
           "title": {
            "standoff": 15
           },
           "zerolinecolor": "white",
           "zerolinewidth": 2
          }
         }
        },
        "title": {
         "text": "Calls to _get_entries_for_timeseries during pipeline (shankari_2016-07-27)"
        },
        "xaxis": {
         "anchor": "y",
         "domain": [
          0,
          1
         ],
         "title": {
          "text": "value"
         }
        },
        "yaxis": {
         "anchor": "x",
         "categoryarray": [
          "segmentation_polars",
          "segmentation_optimization",
          "master"
         ],
         "categoryorder": "array",
         "domain": [
          0,
          1
         ],
         "title": {
          "text": "index"
         }
        }
       }
      }
     },
     "metadata": {},
     "output_type": "display_data"
    }
   ],
   "source": [
    "db_calls_df = pipeline_stats_df[\n",
    "    pipeline_stats_df['name'] == 'get_entries_for_timeseries'\n",
    "]\n",
    "db_calls_counts_df = db_calls_df['branch_name'].value_counts(sort=False)\n",
    "\n",
    "fig = px.bar(\n",
    "    db_calls_counts_df,\n",
    "    color=db_calls_counts_df.index,\n",
    "    orientation=\"h\",\n",
    ")\n",
    "fig.update_layout(\n",
    "    title=f\"Calls to _get_entries_for_timeseries during pipeline ({day})\",\n",
    "    barmode='group',\n",
    "    legend=dict(\n",
    "        yanchor=\"bottom\",\n",
    "        xanchor=\"right\",\n",
    "    )\n",
    ")\n",
    "fig.show()"
   ]
  },
  {
   "cell_type": "code",
   "execution_count": 99,
   "metadata": {},
   "outputs": [
    {
     "data": {
      "application/vnd.plotly.v1+json": {
       "config": {
        "plotlyServerURL": "https://plot.ly"
       },
       "data": [
        {
         "hovertemplate": "index=%{y}<br>value=%{x}<extra></extra>",
         "legendgroup": "master",
         "marker": {
          "color": "#636efa",
          "pattern": {
           "shape": ""
          }
         },
         "name": "master",
         "orientation": "h",
         "showlegend": true,
         "textposition": "auto",
         "type": "bar",
         "x": {
          "bdata": "AAw=",
          "dtype": "i2"
         },
         "xaxis": "x",
         "y": [
          "master"
         ],
         "yaxis": "y"
        },
        {
         "hovertemplate": "index=%{y}<br>value=%{x}<extra></extra>",
         "legendgroup": "segmentation_optimization",
         "marker": {
          "color": "#EF553B",
          "pattern": {
           "shape": ""
          }
         },
         "name": "segmentation_optimization",
         "orientation": "h",
         "showlegend": true,
         "textposition": "auto",
         "type": "bar",
         "x": {
          "bdata": "OA==",
          "dtype": "i1"
         },
         "xaxis": "x",
         "y": [
          "segmentation_optimization"
         ],
         "yaxis": "y"
        },
        {
         "hovertemplate": "index=%{y}<br>value=%{x}<extra></extra>",
         "legendgroup": "segmentation_polars",
         "marker": {
          "color": "#00cc96",
          "pattern": {
           "shape": ""
          }
         },
         "name": "segmentation_polars",
         "orientation": "h",
         "showlegend": true,
         "textposition": "auto",
         "type": "bar",
         "x": {
          "bdata": "AAw=",
          "dtype": "i2"
         },
         "xaxis": "x",
         "y": [
          "segmentation_polars"
         ],
         "yaxis": "y"
        }
       ],
       "layout": {
        "barmode": "group",
        "legend": {
         "title": {
          "text": "index"
         },
         "tracegroupgap": 0,
         "xanchor": "right",
         "yanchor": "bottom"
        },
        "margin": {
         "t": 60
        },
        "template": {
         "data": {
          "bar": [
           {
            "error_x": {
             "color": "#2a3f5f"
            },
            "error_y": {
             "color": "#2a3f5f"
            },
            "marker": {
             "line": {
              "color": "#E5ECF6",
              "width": 0.5
             },
             "pattern": {
              "fillmode": "overlay",
              "size": 10,
              "solidity": 0.2
             }
            },
            "type": "bar"
           }
          ],
          "barpolar": [
           {
            "marker": {
             "line": {
              "color": "#E5ECF6",
              "width": 0.5
             },
             "pattern": {
              "fillmode": "overlay",
              "size": 10,
              "solidity": 0.2
             }
            },
            "type": "barpolar"
           }
          ],
          "carpet": [
           {
            "aaxis": {
             "endlinecolor": "#2a3f5f",
             "gridcolor": "white",
             "linecolor": "white",
             "minorgridcolor": "white",
             "startlinecolor": "#2a3f5f"
            },
            "baxis": {
             "endlinecolor": "#2a3f5f",
             "gridcolor": "white",
             "linecolor": "white",
             "minorgridcolor": "white",
             "startlinecolor": "#2a3f5f"
            },
            "type": "carpet"
           }
          ],
          "choropleth": [
           {
            "colorbar": {
             "outlinewidth": 0,
             "ticks": ""
            },
            "type": "choropleth"
           }
          ],
          "contour": [
           {
            "colorbar": {
             "outlinewidth": 0,
             "ticks": ""
            },
            "colorscale": [
             [
              0,
              "#0d0887"
             ],
             [
              0.1111111111111111,
              "#46039f"
             ],
             [
              0.2222222222222222,
              "#7201a8"
             ],
             [
              0.3333333333333333,
              "#9c179e"
             ],
             [
              0.4444444444444444,
              "#bd3786"
             ],
             [
              0.5555555555555556,
              "#d8576b"
             ],
             [
              0.6666666666666666,
              "#ed7953"
             ],
             [
              0.7777777777777778,
              "#fb9f3a"
             ],
             [
              0.8888888888888888,
              "#fdca26"
             ],
             [
              1,
              "#f0f921"
             ]
            ],
            "type": "contour"
           }
          ],
          "contourcarpet": [
           {
            "colorbar": {
             "outlinewidth": 0,
             "ticks": ""
            },
            "type": "contourcarpet"
           }
          ],
          "heatmap": [
           {
            "colorbar": {
             "outlinewidth": 0,
             "ticks": ""
            },
            "colorscale": [
             [
              0,
              "#0d0887"
             ],
             [
              0.1111111111111111,
              "#46039f"
             ],
             [
              0.2222222222222222,
              "#7201a8"
             ],
             [
              0.3333333333333333,
              "#9c179e"
             ],
             [
              0.4444444444444444,
              "#bd3786"
             ],
             [
              0.5555555555555556,
              "#d8576b"
             ],
             [
              0.6666666666666666,
              "#ed7953"
             ],
             [
              0.7777777777777778,
              "#fb9f3a"
             ],
             [
              0.8888888888888888,
              "#fdca26"
             ],
             [
              1,
              "#f0f921"
             ]
            ],
            "type": "heatmap"
           }
          ],
          "histogram": [
           {
            "marker": {
             "pattern": {
              "fillmode": "overlay",
              "size": 10,
              "solidity": 0.2
             }
            },
            "type": "histogram"
           }
          ],
          "histogram2d": [
           {
            "colorbar": {
             "outlinewidth": 0,
             "ticks": ""
            },
            "colorscale": [
             [
              0,
              "#0d0887"
             ],
             [
              0.1111111111111111,
              "#46039f"
             ],
             [
              0.2222222222222222,
              "#7201a8"
             ],
             [
              0.3333333333333333,
              "#9c179e"
             ],
             [
              0.4444444444444444,
              "#bd3786"
             ],
             [
              0.5555555555555556,
              "#d8576b"
             ],
             [
              0.6666666666666666,
              "#ed7953"
             ],
             [
              0.7777777777777778,
              "#fb9f3a"
             ],
             [
              0.8888888888888888,
              "#fdca26"
             ],
             [
              1,
              "#f0f921"
             ]
            ],
            "type": "histogram2d"
           }
          ],
          "histogram2dcontour": [
           {
            "colorbar": {
             "outlinewidth": 0,
             "ticks": ""
            },
            "colorscale": [
             [
              0,
              "#0d0887"
             ],
             [
              0.1111111111111111,
              "#46039f"
             ],
             [
              0.2222222222222222,
              "#7201a8"
             ],
             [
              0.3333333333333333,
              "#9c179e"
             ],
             [
              0.4444444444444444,
              "#bd3786"
             ],
             [
              0.5555555555555556,
              "#d8576b"
             ],
             [
              0.6666666666666666,
              "#ed7953"
             ],
             [
              0.7777777777777778,
              "#fb9f3a"
             ],
             [
              0.8888888888888888,
              "#fdca26"
             ],
             [
              1,
              "#f0f921"
             ]
            ],
            "type": "histogram2dcontour"
           }
          ],
          "mesh3d": [
           {
            "colorbar": {
             "outlinewidth": 0,
             "ticks": ""
            },
            "type": "mesh3d"
           }
          ],
          "parcoords": [
           {
            "line": {
             "colorbar": {
              "outlinewidth": 0,
              "ticks": ""
             }
            },
            "type": "parcoords"
           }
          ],
          "pie": [
           {
            "automargin": true,
            "type": "pie"
           }
          ],
          "scatter": [
           {
            "fillpattern": {
             "fillmode": "overlay",
             "size": 10,
             "solidity": 0.2
            },
            "type": "scatter"
           }
          ],
          "scatter3d": [
           {
            "line": {
             "colorbar": {
              "outlinewidth": 0,
              "ticks": ""
             }
            },
            "marker": {
             "colorbar": {
              "outlinewidth": 0,
              "ticks": ""
             }
            },
            "type": "scatter3d"
           }
          ],
          "scattercarpet": [
           {
            "marker": {
             "colorbar": {
              "outlinewidth": 0,
              "ticks": ""
             }
            },
            "type": "scattercarpet"
           }
          ],
          "scattergeo": [
           {
            "marker": {
             "colorbar": {
              "outlinewidth": 0,
              "ticks": ""
             }
            },
            "type": "scattergeo"
           }
          ],
          "scattergl": [
           {
            "marker": {
             "colorbar": {
              "outlinewidth": 0,
              "ticks": ""
             }
            },
            "type": "scattergl"
           }
          ],
          "scattermap": [
           {
            "marker": {
             "colorbar": {
              "outlinewidth": 0,
              "ticks": ""
             }
            },
            "type": "scattermap"
           }
          ],
          "scattermapbox": [
           {
            "marker": {
             "colorbar": {
              "outlinewidth": 0,
              "ticks": ""
             }
            },
            "type": "scattermapbox"
           }
          ],
          "scatterpolar": [
           {
            "marker": {
             "colorbar": {
              "outlinewidth": 0,
              "ticks": ""
             }
            },
            "type": "scatterpolar"
           }
          ],
          "scatterpolargl": [
           {
            "marker": {
             "colorbar": {
              "outlinewidth": 0,
              "ticks": ""
             }
            },
            "type": "scatterpolargl"
           }
          ],
          "scatterternary": [
           {
            "marker": {
             "colorbar": {
              "outlinewidth": 0,
              "ticks": ""
             }
            },
            "type": "scatterternary"
           }
          ],
          "surface": [
           {
            "colorbar": {
             "outlinewidth": 0,
             "ticks": ""
            },
            "colorscale": [
             [
              0,
              "#0d0887"
             ],
             [
              0.1111111111111111,
              "#46039f"
             ],
             [
              0.2222222222222222,
              "#7201a8"
             ],
             [
              0.3333333333333333,
              "#9c179e"
             ],
             [
              0.4444444444444444,
              "#bd3786"
             ],
             [
              0.5555555555555556,
              "#d8576b"
             ],
             [
              0.6666666666666666,
              "#ed7953"
             ],
             [
              0.7777777777777778,
              "#fb9f3a"
             ],
             [
              0.8888888888888888,
              "#fdca26"
             ],
             [
              1,
              "#f0f921"
             ]
            ],
            "type": "surface"
           }
          ],
          "table": [
           {
            "cells": {
             "fill": {
              "color": "#EBF0F8"
             },
             "line": {
              "color": "white"
             }
            },
            "header": {
             "fill": {
              "color": "#C8D4E3"
             },
             "line": {
              "color": "white"
             }
            },
            "type": "table"
           }
          ]
         },
         "layout": {
          "annotationdefaults": {
           "arrowcolor": "#2a3f5f",
           "arrowhead": 0,
           "arrowwidth": 1
          },
          "autotypenumbers": "strict",
          "coloraxis": {
           "colorbar": {
            "outlinewidth": 0,
            "ticks": ""
           }
          },
          "colorscale": {
           "diverging": [
            [
             0,
             "#8e0152"
            ],
            [
             0.1,
             "#c51b7d"
            ],
            [
             0.2,
             "#de77ae"
            ],
            [
             0.3,
             "#f1b6da"
            ],
            [
             0.4,
             "#fde0ef"
            ],
            [
             0.5,
             "#f7f7f7"
            ],
            [
             0.6,
             "#e6f5d0"
            ],
            [
             0.7,
             "#b8e186"
            ],
            [
             0.8,
             "#7fbc41"
            ],
            [
             0.9,
             "#4d9221"
            ],
            [
             1,
             "#276419"
            ]
           ],
           "sequential": [
            [
             0,
             "#0d0887"
            ],
            [
             0.1111111111111111,
             "#46039f"
            ],
            [
             0.2222222222222222,
             "#7201a8"
            ],
            [
             0.3333333333333333,
             "#9c179e"
            ],
            [
             0.4444444444444444,
             "#bd3786"
            ],
            [
             0.5555555555555556,
             "#d8576b"
            ],
            [
             0.6666666666666666,
             "#ed7953"
            ],
            [
             0.7777777777777778,
             "#fb9f3a"
            ],
            [
             0.8888888888888888,
             "#fdca26"
            ],
            [
             1,
             "#f0f921"
            ]
           ],
           "sequentialminus": [
            [
             0,
             "#0d0887"
            ],
            [
             0.1111111111111111,
             "#46039f"
            ],
            [
             0.2222222222222222,
             "#7201a8"
            ],
            [
             0.3333333333333333,
             "#9c179e"
            ],
            [
             0.4444444444444444,
             "#bd3786"
            ],
            [
             0.5555555555555556,
             "#d8576b"
            ],
            [
             0.6666666666666666,
             "#ed7953"
            ],
            [
             0.7777777777777778,
             "#fb9f3a"
            ],
            [
             0.8888888888888888,
             "#fdca26"
            ],
            [
             1,
             "#f0f921"
            ]
           ]
          },
          "colorway": [
           "#636efa",
           "#EF553B",
           "#00cc96",
           "#ab63fa",
           "#FFA15A",
           "#19d3f3",
           "#FF6692",
           "#B6E880",
           "#FF97FF",
           "#FECB52"
          ],
          "font": {
           "color": "#2a3f5f"
          },
          "geo": {
           "bgcolor": "white",
           "lakecolor": "white",
           "landcolor": "#E5ECF6",
           "showlakes": true,
           "showland": true,
           "subunitcolor": "white"
          },
          "hoverlabel": {
           "align": "left"
          },
          "hovermode": "closest",
          "mapbox": {
           "style": "light"
          },
          "paper_bgcolor": "white",
          "plot_bgcolor": "#E5ECF6",
          "polar": {
           "angularaxis": {
            "gridcolor": "white",
            "linecolor": "white",
            "ticks": ""
           },
           "bgcolor": "#E5ECF6",
           "radialaxis": {
            "gridcolor": "white",
            "linecolor": "white",
            "ticks": ""
           }
          },
          "scene": {
           "xaxis": {
            "backgroundcolor": "#E5ECF6",
            "gridcolor": "white",
            "gridwidth": 2,
            "linecolor": "white",
            "showbackground": true,
            "ticks": "",
            "zerolinecolor": "white"
           },
           "yaxis": {
            "backgroundcolor": "#E5ECF6",
            "gridcolor": "white",
            "gridwidth": 2,
            "linecolor": "white",
            "showbackground": true,
            "ticks": "",
            "zerolinecolor": "white"
           },
           "zaxis": {
            "backgroundcolor": "#E5ECF6",
            "gridcolor": "white",
            "gridwidth": 2,
            "linecolor": "white",
            "showbackground": true,
            "ticks": "",
            "zerolinecolor": "white"
           }
          },
          "shapedefaults": {
           "line": {
            "color": "#2a3f5f"
           }
          },
          "ternary": {
           "aaxis": {
            "gridcolor": "white",
            "linecolor": "white",
            "ticks": ""
           },
           "baxis": {
            "gridcolor": "white",
            "linecolor": "white",
            "ticks": ""
           },
           "bgcolor": "#E5ECF6",
           "caxis": {
            "gridcolor": "white",
            "linecolor": "white",
            "ticks": ""
           }
          },
          "title": {
           "x": 0.05
          },
          "xaxis": {
           "automargin": true,
           "gridcolor": "white",
           "linecolor": "white",
           "ticks": "",
           "title": {
            "standoff": 15
           },
           "zerolinecolor": "white",
           "zerolinewidth": 2
          },
          "yaxis": {
           "automargin": true,
           "gridcolor": "white",
           "linecolor": "white",
           "ticks": "",
           "title": {
            "standoff": 15
           },
           "zerolinecolor": "white",
           "zerolinewidth": 2
          }
         }
        },
        "title": {
         "text": "Calls to _get_entries_for_timeseries during trip segmentation (shankari_2016-07-27)"
        },
        "xaxis": {
         "anchor": "y",
         "domain": [
          0,
          1
         ],
         "title": {
          "text": "value"
         }
        },
        "yaxis": {
         "anchor": "x",
         "categoryarray": [
          "segmentation_polars",
          "segmentation_optimization",
          "master"
         ],
         "categoryorder": "array",
         "domain": [
          0,
          1
         ],
         "title": {
          "text": "index"
         }
        }
       }
      }
     },
     "metadata": {},
     "output_type": "display_data"
    }
   ],
   "source": [
    "trip_segmentation_db_calls_dfs = []\n",
    "\n",
    "branches_trip_segmentation_tqs = []\n",
    "for branch_name in branches.keys():\n",
    "    trip_segmentation = pipeline_stages_df[\n",
    "        (pipeline_stages_df['name'] == 'TRIP_SEGMENTATION') &\n",
    "        (pipeline_stages_df['branch_name'] == branch_name)\n",
    "    ].iloc[0]\n",
    "    trip_segmentation_db_calls = db_calls_df[\n",
    "        (db_calls_df['ts'] < trip_segmentation['ts'])\n",
    "        & (db_calls_df['ts'] > trip_segmentation['ts'] - trip_segmentation['reading'])\n",
    "    ]\n",
    "    trip_segmentation_db_calls_dfs.append(trip_segmentation_db_calls)\n",
    "\n",
    "trip_segmentation_db_calls_counts_df = pd.concat(trip_segmentation_db_calls_dfs)['branch_name'].value_counts(sort=False)\n",
    "fig = px.bar(\n",
    "    trip_segmentation_db_calls_counts_df,\n",
    "    color=trip_segmentation_db_calls_counts_df.index,\n",
    "    orientation=\"h\",\n",
    ")\n",
    "fig.update_layout(\n",
    "    title=f\"Calls to _get_entries_for_timeseries during trip segmentation ({day})\",\n",
    "    barmode='group',\n",
    "    legend=dict(\n",
    "        yanchor=\"bottom\",\n",
    "        xanchor=\"right\",\n",
    "    )\n",
    ")\n",
    "fig.show()"
   ]
  }
 ],
 "metadata": {
  "kernelspec": {
   "display_name": "emission",
   "language": "python",
   "name": "python3"
  },
  "language_info": {
   "codemirror_mode": {
    "name": "ipython",
    "version": 3
   },
   "file_extension": ".py",
   "mimetype": "text/x-python",
   "name": "python",
   "nbconvert_exporter": "python",
   "pygments_lexer": "ipython3",
   "version": "3.9.21"
  }
 },
 "nbformat": 4,
 "nbformat_minor": 2
}
