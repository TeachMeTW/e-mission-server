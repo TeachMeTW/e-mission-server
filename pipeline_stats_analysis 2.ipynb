{
 "cells": [
  {
   "cell_type": "markdown",
   "metadata": {},
   "source": [
    "## Analysis of pipeline execution time across different branches"
   ]
  },
  {
   "cell_type": "code",
   "execution_count": 103,
   "metadata": {},
   "outputs": [
    {
     "name": "stdout",
     "output_type": "stream",
     "text": [
      "Requirement already satisfied: plotly in /Users/jackgreenlee/miniconda-23.5.2/envs/emission/lib/python3.9/site-packages (6.0.0)\n",
      "Requirement already satisfied: narwhals>=1.15.1 in /Users/jackgreenlee/miniconda-23.5.2/envs/emission/lib/python3.9/site-packages (from plotly) (1.24.1)\n",
      "Requirement already satisfied: packaging in /Users/jackgreenlee/miniconda-23.5.2/envs/emission/lib/python3.9/site-packages (from plotly) (24.2)\n",
      "Requirement already satisfied: nbformat in /Users/jackgreenlee/miniconda-23.5.2/envs/emission/lib/python3.9/site-packages (5.10.4)\n",
      "Requirement already satisfied: traitlets>=5.1 in /Users/jackgreenlee/miniconda-23.5.2/envs/emission/lib/python3.9/site-packages (from nbformat) (5.14.3)\n",
      "Requirement already satisfied: fastjsonschema>=2.15 in /Users/jackgreenlee/miniconda-23.5.2/envs/emission/lib/python3.9/site-packages (from nbformat) (2.21.1)\n",
      "Requirement already satisfied: jupyter-core!=5.0.*,>=4.12 in /Users/jackgreenlee/miniconda-23.5.2/envs/emission/lib/python3.9/site-packages (from nbformat) (5.7.2)\n",
      "Requirement already satisfied: jsonschema>=2.6 in /Users/jackgreenlee/miniconda-23.5.2/envs/emission/lib/python3.9/site-packages (from nbformat) (4.23.0)\n",
      "Requirement already satisfied: referencing>=0.28.4 in /Users/jackgreenlee/miniconda-23.5.2/envs/emission/lib/python3.9/site-packages (from jsonschema>=2.6->nbformat) (0.36.2)\n",
      "Requirement already satisfied: rpds-py>=0.7.1 in /Users/jackgreenlee/miniconda-23.5.2/envs/emission/lib/python3.9/site-packages (from jsonschema>=2.6->nbformat) (0.22.3)\n",
      "Requirement already satisfied: attrs>=22.2.0 in /Users/jackgreenlee/miniconda-23.5.2/envs/emission/lib/python3.9/site-packages (from jsonschema>=2.6->nbformat) (25.1.0)\n",
      "Requirement already satisfied: jsonschema-specifications>=2023.03.6 in /Users/jackgreenlee/miniconda-23.5.2/envs/emission/lib/python3.9/site-packages (from jsonschema>=2.6->nbformat) (2024.10.1)\n",
      "Requirement already satisfied: platformdirs>=2.5 in /Users/jackgreenlee/miniconda-23.5.2/envs/emission/lib/python3.9/site-packages (from jupyter-core!=5.0.*,>=4.12->nbformat) (4.3.6)\n",
      "Requirement already satisfied: typing-extensions>=4.4.0 in /Users/jackgreenlee/miniconda-23.5.2/envs/emission/lib/python3.9/site-packages (from referencing>=0.28.4->jsonschema>=2.6->nbformat) (4.12.2)\n"
     ]
    }
   ],
   "source": [
    "# dependencies for this notebook that aren't already in the 'emission' environment\n",
    "!pip install plotly\n",
    "!pip install nbformat\n",
    "\n",
    "# db_name = \"openpath_prod_ca_ebike\"\n",
    "# %env DB_HOST=mongodb://localhost:27017/$db_name\n",
    "\n",
    "from __future__ import annotations\n",
    "import subprocess\n",
    "import time\n",
    "import pandas as pd\n",
    "import plotly.express as px\n",
    "import emission.core.timer as ect\n",
    "import emission.storage.decorations.stats_queries as esds\n",
    "import emission.storage.timeseries.abstract_timeseries as esta\n",
    "import emission.storage.timeseries.timequery as estt"
   ]
  },
  {
   "cell_type": "code",
   "execution_count": 104,
   "metadata": {},
   "outputs": [
    {
     "name": "stdout",
     "output_type": "stream",
     "text": [
      "Loading ['shankari_2016-08-04'] for nrelop_dev-emulator-study_0\n",
      "Config file not found, returning a copy of the environment variables instead...\n",
      "Retrieved config: {'DB_HOST': None, 'DB_RESULT_LIMIT': None}\n",
      "URL not formatted, defaulting to \"Stage_database\"\n",
      "Connecting to database URL localhost\n",
      "usage: purge_user [-h] (-e USER_EMAIL | -u USER_UUID) [-p]\n",
      "purge_user: error: argument -e/--user_email: expected one argument\n",
      "Config file not found, returning a copy of the environment variables instead...\n",
      "Retrieved config: {'DB_HOST': None, 'DB_RESULT_LIMIT': None}\n",
      "URL not formatted, defaulting to \"Stage_database\"\n",
      "Connecting to database URL localhost\n",
      "emission/tests/data/real_examples/shankari_2016-08-04\n",
      "Loading file emission/tests/data/real_examples/shankari_2016-08-04\n",
      "After registration, nrelop_dev-emulator-study_0 -> bb6c7318-52f7-4e0f-a51b-c3f802f3b567\n",
      "Finished loading 0 entries into the usercache and 2667 entries into the timeseries\n",
      "Checking out 47ab8be28a1682f841b3d6a03cbe0f9fe0515e0f to measure pipeline runtime\n",
      "M\t.gitignore\n",
      "M\temission/storage/timeseries/builtin_timeseries.py\n",
      "Note: switching to '47ab8be28a1682f841b3d6a03cbe0f9fe0515e0f'.\n",
      "\n",
      "You are in 'detached HEAD' state. You can look around, make experimental\n",
      "changes and commit them, and you can discard any commits you make in this\n",
      "state without impacting any branches by switching back to a branch.\n",
      "\n",
      "If you want to create a new branch to retain commits you create, you may\n",
      "do so (now or later) by using -c with the switch command. Example:\n",
      "\n",
      "  git switch -c <new-branch-name>\n",
      "\n",
      "Or undo this operation with:\n",
      "\n",
      "  git switch -\n",
      "\n",
      "Turn off this advice by setting config variable advice.detachedHead to false\n",
      "\n",
      "HEAD is now at 47ab8be2 Merge pull request #1011 from shankari/go_back_to_confirmed_trips\n",
      "Config file not found, returning a copy of the environment variables instead...\n",
      "Retrieved config: {'DB_HOST': None, 'DB_RESULT_LIMIT': None}\n",
      "URL not formatted, defaulting to \"Stage_database\"\n",
      "Connecting to database URL localhost\n",
      "Namespace(all=True, platform=None, user_list=None, email_list=None, date=None, dry_run=False)\n",
      "INFO:root:About to delete 0 analysis results\n",
      "INFO:root:About to delete entries with keys []\n",
      "INFO:root:About to delete 0 pipeline states\n",
      "INFO:root:this is not a dry run, result of removing analysis objects = <pymongo.results.DeleteResult object at 0x13c1f5cd0>\n",
      "INFO:root:this is not a dry run, result of removing pipeline states = <pymongo.results.DeleteResult object at 0x13c1f5ee0>\n",
      "Config file not found, returning a copy of the environment variables instead...\n",
      "Retrieved config: {'DB_HOST': None, 'DB_RESULT_LIMIT': None}\n",
      "URL not formatted, defaulting to \"Stage_database\"\n",
      "Connecting to database URL localhost\n",
      "Trying to open debug.conf.json\n",
      "analysis.debug.conf.json not configured, falling back to sample, default configuration\n",
      "INFO:root:NOMINATIM_QUERY_URL: None\n",
      "Nominatim Query URL Configured: None\n",
      "Nominatim URL not configured, place decoding must happen on the client\n",
      "overpass not configured, falling back to public overpass api\n",
      "transit stops query not configured, falling back to default\n",
      "The Zen of Python, by Tim Peters\n",
      "\n",
      "Beautiful is better than ugly.\n",
      "Explicit is better than implicit.\n",
      "Simple is better than complex.\n",
      "Complex is better than complicated.\n",
      "Flat is better than nested.\n",
      "Sparse is better than dense.\n",
      "Readability counts.\n",
      "Special cases aren't special enough to break the rules.\n",
      "Although practicality beats purity.\n",
      "Errors should never pass silently.\n",
      "Unless explicitly silenced.\n",
      "In the face of ambiguity, refuse the temptation to guess.\n",
      "There should be one-- and preferably only one --obvious way to do it.\n",
      "Although that way may not be obvious at first unless you're Dutch.\n",
      "Now is better than never.\n",
      "Although never is often better than *right* now.\n",
      "If the implementation is hard to explain, it's a bad idea.\n",
      "If the implementation is easy to explain, it may be a good idea.\n",
      "Namespaces are one honking great idea -- let's do more of those!\n",
      "analysis.trip_model.conf.json not configured, falling back to sample, default configuration\n",
      "expectations.conf.json not configured, falling back to sample, default configuration\n",
      "ERROR:root:habitica not configured, game functions not supported\n",
      "Traceback (most recent call last):\n",
      "  File \"/Users/jackgreenlee/e-mission-server/emission/net/ext_service/habitica/proxy.py\", line 22, in <module>\n",
      "    key_file = open('conf/net/ext_service/habitica.json')\n",
      "FileNotFoundError: [Errno 2] No such file or directory: 'conf/net/ext_service/habitica.json'\n",
      "2025-02-10T02:49:12.983167-05:00**********UUID bb6c7318-52f7-4e0f-a51b-c3f802f3b567: moving to long term**********\n",
      "New entry count == 0 and skip_if_no_new_data = False, continuing\n",
      "2025-02-10T02:49:12.989544-05:00**********UUID bb6c7318-52f7-4e0f-a51b-c3f802f3b567: updating incoming user inputs**********\n",
      "2025-02-10T02:49:13.079905-05:00**********UUID bb6c7318-52f7-4e0f-a51b-c3f802f3b567: filter accuracy if needed**********\n",
      "2025-02-10T02:49:13.083785-05:00**********UUID bb6c7318-52f7-4e0f-a51b-c3f802f3b567: segmenting into trips**********\n",
      "2025-02-10T02:49:22.026462-05:00**********UUID bb6c7318-52f7-4e0f-a51b-c3f802f3b567: segmenting into sections**********\n",
      "/Users/jackgreenlee/e-mission-server/emission/analysis/intake/segmentation/section_segmentation_methods/flip_flop_detection.py:59: RuntimeWarning: invalid value encountered in scalar divide\n",
      "  sm.update({\"trip_pct\": (curr_section_time * 100)/total_trip_time})\n",
      "/Users/jackgreenlee/e-mission-server/emission/analysis/intake/segmentation/section_segmentation_methods/flip_flop_detection.py:59: RuntimeWarning: invalid value encountered in scalar divide\n",
      "  sm.update({\"trip_pct\": (curr_section_time * 100)/total_trip_time})\n",
      "2025-02-10T02:49:22.973309-05:00**********UUID bb6c7318-52f7-4e0f-a51b-c3f802f3b567: smoothing sections**********\n",
      "/Users/jackgreenlee/e-mission-server/emission/analysis/intake/cleaning/cleaning_methods/speed_outlier_detection.py:27: FutureWarning: The default value of numeric_only in DataFrame.quantile is deprecated. In a future version, it will default to False. Select only valid columns or specify the value of numeric_only to silence this warning.\n",
      "  quartile_vals = df_to_use.quantile([0.25, 0.75]).speed\n",
      "/Users/jackgreenlee/e-mission-server/emission/analysis/intake/cleaning/cleaning_methods/speed_outlier_detection.py:27: FutureWarning: The default value of numeric_only in DataFrame.quantile is deprecated. In a future version, it will default to False. Select only valid columns or specify the value of numeric_only to silence this warning.\n",
      "  quartile_vals = df_to_use.quantile([0.25, 0.75]).speed\n",
      "/Users/jackgreenlee/e-mission-server/emission/analysis/intake/cleaning/cleaning_methods/speed_outlier_detection.py:27: FutureWarning: The default value of numeric_only in DataFrame.quantile is deprecated. In a future version, it will default to False. Select only valid columns or specify the value of numeric_only to silence this warning.\n",
      "  quartile_vals = df_to_use.quantile([0.25, 0.75]).speed\n",
      "/Users/jackgreenlee/e-mission-server/emission/analysis/intake/cleaning/cleaning_methods/speed_outlier_detection.py:27: FutureWarning: The default value of numeric_only in DataFrame.quantile is deprecated. In a future version, it will default to False. Select only valid columns or specify the value of numeric_only to silence this warning.\n",
      "  quartile_vals = df_to_use.quantile([0.25, 0.75]).speed\n",
      "/Users/jackgreenlee/e-mission-server/emission/analysis/intake/cleaning/cleaning_methods/speed_outlier_detection.py:27: FutureWarning: The default value of numeric_only in DataFrame.quantile is deprecated. In a future version, it will default to False. Select only valid columns or specify the value of numeric_only to silence this warning.\n",
      "  quartile_vals = df_to_use.quantile([0.25, 0.75]).speed\n",
      "/Users/jackgreenlee/e-mission-server/emission/analysis/intake/cleaning/cleaning_methods/speed_outlier_detection.py:27: FutureWarning: The default value of numeric_only in DataFrame.quantile is deprecated. In a future version, it will default to False. Select only valid columns or specify the value of numeric_only to silence this warning.\n",
      "  quartile_vals = df_to_use.quantile([0.25, 0.75]).speed\n",
      "/Users/jackgreenlee/e-mission-server/emission/analysis/intake/cleaning/cleaning_methods/speed_outlier_detection.py:27: FutureWarning: The default value of numeric_only in DataFrame.quantile is deprecated. In a future version, it will default to False. Select only valid columns or specify the value of numeric_only to silence this warning.\n",
      "  quartile_vals = df_to_use.quantile([0.25, 0.75]).speed\n",
      "/Users/jackgreenlee/e-mission-server/emission/analysis/intake/cleaning/cleaning_methods/speed_outlier_detection.py:27: FutureWarning: The default value of numeric_only in DataFrame.quantile is deprecated. In a future version, it will default to False. Select only valid columns or specify the value of numeric_only to silence this warning.\n",
      "  quartile_vals = df_to_use.quantile([0.25, 0.75]).speed\n",
      "/Users/jackgreenlee/e-mission-server/emission/analysis/intake/cleaning/cleaning_methods/speed_outlier_detection.py:27: FutureWarning: The default value of numeric_only in DataFrame.quantile is deprecated. In a future version, it will default to False. Select only valid columns or specify the value of numeric_only to silence this warning.\n",
      "  quartile_vals = df_to_use.quantile([0.25, 0.75]).speed\n",
      "/Users/jackgreenlee/e-mission-server/emission/analysis/intake/cleaning/cleaning_methods/speed_outlier_detection.py:27: FutureWarning: The default value of numeric_only in DataFrame.quantile is deprecated. In a future version, it will default to False. Select only valid columns or specify the value of numeric_only to silence this warning.\n",
      "  quartile_vals = df_to_use.quantile([0.25, 0.75]).speed\n",
      "/Users/jackgreenlee/e-mission-server/emission/analysis/intake/cleaning/cleaning_methods/speed_outlier_detection.py:27: FutureWarning: The default value of numeric_only in DataFrame.quantile is deprecated. In a future version, it will default to False. Select only valid columns or specify the value of numeric_only to silence this warning.\n",
      "  quartile_vals = df_to_use.quantile([0.25, 0.75]).speed\n",
      "2025-02-10T02:49:23.157045-05:00**********UUID bb6c7318-52f7-4e0f-a51b-c3f802f3b567: cleaning and resampling timeline**********\n",
      "/Users/jackgreenlee/e-mission-server/emission/analysis/intake/cleaning/cleaning_methods/speed_outlier_detection.py:27: FutureWarning: The default value of numeric_only in DataFrame.quantile is deprecated. In a future version, it will default to False. Select only valid columns or specify the value of numeric_only to silence this warning.\n",
      "  quartile_vals = df_to_use.quantile([0.25, 0.75]).speed\n",
      "/Users/jackgreenlee/e-mission-server/emission/analysis/intake/cleaning/cleaning_methods/speed_outlier_detection.py:27: FutureWarning: The default value of numeric_only in DataFrame.quantile is deprecated. In a future version, it will default to False. Select only valid columns or specify the value of numeric_only to silence this warning.\n",
      "  quartile_vals = df_to_use.quantile([0.25, 0.75]).speed\n",
      "/Users/jackgreenlee/e-mission-server/emission/analysis/intake/cleaning/cleaning_methods/speed_outlier_detection.py:27: FutureWarning: The default value of numeric_only in DataFrame.quantile is deprecated. In a future version, it will default to False. Select only valid columns or specify the value of numeric_only to silence this warning.\n",
      "  quartile_vals = df_to_use.quantile([0.25, 0.75]).speed\n",
      "/Users/jackgreenlee/e-mission-server/emission/analysis/intake/cleaning/cleaning_methods/speed_outlier_detection.py:27: FutureWarning: The default value of numeric_only in DataFrame.quantile is deprecated. In a future version, it will default to False. Select only valid columns or specify the value of numeric_only to silence this warning.\n",
      "  quartile_vals = df_to_use.quantile([0.25, 0.75]).speed\n",
      "/Users/jackgreenlee/e-mission-server/emission/analysis/intake/cleaning/cleaning_methods/speed_outlier_detection.py:27: FutureWarning: The default value of numeric_only in DataFrame.quantile is deprecated. In a future version, it will default to False. Select only valid columns or specify the value of numeric_only to silence this warning.\n",
      "  quartile_vals = df_to_use.quantile([0.25, 0.75]).speed\n",
      "/Users/jackgreenlee/e-mission-server/emission/analysis/intake/cleaning/cleaning_methods/speed_outlier_detection.py:27: FutureWarning: The default value of numeric_only in DataFrame.quantile is deprecated. In a future version, it will default to False. Select only valid columns or specify the value of numeric_only to silence this warning.\n",
      "  quartile_vals = df_to_use.quantile([0.25, 0.75]).speed\n",
      "/Users/jackgreenlee/e-mission-server/emission/analysis/intake/cleaning/cleaning_methods/speed_outlier_detection.py:27: FutureWarning: The default value of numeric_only in DataFrame.quantile is deprecated. In a future version, it will default to False. Select only valid columns or specify the value of numeric_only to silence this warning.\n",
      "  quartile_vals = df_to_use.quantile([0.25, 0.75]).speed\n",
      "2025-02-10T02:49:24.537826-05:00**********UUID bb6c7318-52f7-4e0f-a51b-c3f802f3b567: inferring transportation mode**********\n",
      "2025-02-10T02:49:29.841449-05:00**********UUID bb6c7318-52f7-4e0f-a51b-c3f802f3b567: inferring labels**********\n",
      "2025-02-10T02:49:29.911569-05:00**********UUID bb6c7318-52f7-4e0f-a51b-c3f802f3b567: populating expectations**********\n",
      "2025-02-10T02:49:29.935879-05:00**********UUID bb6c7318-52f7-4e0f-a51b-c3f802f3b567: creating confirmed objects **********\n",
      "2025-02-10T02:49:31.077099-05:00**********UUID bb6c7318-52f7-4e0f-a51b-c3f802f3b567: creating composite objects **********\n",
      "2025-02-10T02:49:31.435412-05:00**********UUID bb6c7318-52f7-4e0f-a51b-c3f802f3b567: storing user stats **********\n",
      "2025-02-10T02:49:31.442937-05:00**********UUID bb6c7318-52f7-4e0f-a51b-c3f802f3b567: storing pipeline independent user stats **********\n",
      "Ran pipeline on 47ab8be28a1682f841b3d6a03cbe0f9fe0515e0f, TimeQuery data.ts with range [1739173752.168404, 1739173771.918978)\n"
     ]
    },
    {
     "data": {
      "text/html": [
       "<div>\n",
       "<style scoped>\n",
       "    .dataframe tbody tr th:only-of-type {\n",
       "        vertical-align: middle;\n",
       "    }\n",
       "\n",
       "    .dataframe tbody tr th {\n",
       "        vertical-align: top;\n",
       "    }\n",
       "\n",
       "    .dataframe thead th {\n",
       "        text-align: right;\n",
       "    }\n",
       "</style>\n",
       "<table border=\"1\" class=\"dataframe\">\n",
       "  <thead>\n",
       "    <tr style=\"text-align: right;\">\n",
       "      <th></th>\n",
       "      <th>start_ts</th>\n",
       "      <th>end_ts</th>\n",
       "    </tr>\n",
       "  </thead>\n",
       "  <tbody>\n",
       "    <tr>\n",
       "      <th>0</th>\n",
       "      <td>1470341031.23</td>\n",
       "      <td>1470342912.00</td>\n",
       "    </tr>\n",
       "    <tr>\n",
       "      <th>1</th>\n",
       "      <td>1470343292.14</td>\n",
       "      <td>1470351348.72</td>\n",
       "    </tr>\n",
       "    <tr>\n",
       "      <th>2</th>\n",
       "      <td>1470352238.74</td>\n",
       "      <td>1470352844.00</td>\n",
       "    </tr>\n",
       "    <tr>\n",
       "      <th>3</th>\n",
       "      <td>1470354036.96</td>\n",
       "      <td>1470354172.71</td>\n",
       "    </tr>\n",
       "    <tr>\n",
       "      <th>4</th>\n",
       "      <td>1470354386.56</td>\n",
       "      <td>1470355132.00</td>\n",
       "    </tr>\n",
       "    <tr>\n",
       "      <th>5</th>\n",
       "      <td>1470355612.59</td>\n",
       "      <td>1470355893.16</td>\n",
       "    </tr>\n",
       "    <tr>\n",
       "      <th>6</th>\n",
       "      <td>1470356315.84</td>\n",
       "      <td>1470357252.57</td>\n",
       "    </tr>\n",
       "    <tr>\n",
       "      <th>7</th>\n",
       "      <td>1470357578.29</td>\n",
       "      <td>1470363534.71</td>\n",
       "    </tr>\n",
       "    <tr>\n",
       "      <th>8</th>\n",
       "      <td>1470364485.74</td>\n",
       "      <td>1470364718.35</td>\n",
       "    </tr>\n",
       "  </tbody>\n",
       "</table>\n",
       "</div>"
      ],
      "text/plain": [
       "       start_ts        end_ts\n",
       "0 1470341031.23 1470342912.00\n",
       "1 1470343292.14 1470351348.72\n",
       "2 1470352238.74 1470352844.00\n",
       "3 1470354036.96 1470354172.71\n",
       "4 1470354386.56 1470355132.00\n",
       "5 1470355612.59 1470355893.16\n",
       "6 1470356315.84 1470357252.57\n",
       "7 1470357578.29 1470363534.71\n",
       "8 1470364485.74 1470364718.35"
      ]
     },
     "metadata": {},
     "output_type": "display_data"
    },
    {
     "name": "stdout",
     "output_type": "stream",
     "text": [
      "Checking out master to measure pipeline runtime\n",
      "M\t.gitignore\n",
      "M\temission/storage/timeseries/builtin_timeseries.py\n",
      "Previous HEAD position was 47ab8be2 Merge pull request #1011 from shankari/go_back_to_confirmed_trips\n",
      "Switched to branch 'master'\n",
      "Your branch is up to date with 'origin/master'.\n",
      "Config file not found, returning a copy of the environment variables instead...\n",
      "Retrieved config: {'DB_HOST': None, 'DB_RESULT_LIMIT': None}\n",
      "URL not formatted, defaulting to \"Stage_database\"\n",
      "Connecting to database URL localhost\n",
      "Namespace(all=True, platform=None, user_list=None, email_list=None, date=None, dry_run=False)\n",
      "INFO:root:About to delete 796 analysis results\n",
      "INFO:root:About to delete entries with keys ['analysis/cleaned_place', 'analysis/cleaned_section', 'analysis/cleaned_trip', 'analysis/composite_trip', 'analysis/confirmed_place', 'analysis/confirmed_trip', 'analysis/expected_trip', 'analysis/inferred_labels', 'analysis/inferred_section', 'analysis/inferred_trip', 'analysis/recreated_location', 'analysis/smoothing', 'inference/labels', 'inference/prediction', 'segmentation/raw_place', 'segmentation/raw_section', 'segmentation/raw_trip']\n",
      "INFO:root:About to delete 11 pipeline states\n",
      "INFO:root:this is not a dry run, result of removing analysis objects = <pymongo.results.DeleteResult object at 0x13dc03cd0>\n",
      "INFO:root:this is not a dry run, result of removing pipeline states = <pymongo.results.DeleteResult object at 0x13dc03d30>\n",
      "Config file not found, returning a copy of the environment variables instead...\n",
      "Retrieved config: {'DB_HOST': None, 'DB_RESULT_LIMIT': None}\n",
      "URL not formatted, defaulting to \"Stage_database\"\n",
      "Connecting to database URL localhost\n",
      "Trying to open debug.conf.json\n",
      "analysis.debug.conf.json not configured, falling back to sample, default configuration\n",
      "INFO:root:NOMINATIM_QUERY_URL: None\n",
      "Nominatim Query URL Configured: None\n",
      "Nominatim URL not configured, place decoding must happen on the client\n",
      "overpass not configured, falling back to public overpass api\n",
      "transit stops query not configured, falling back to default\n",
      "The Zen of Python, by Tim Peters\n",
      "\n",
      "Beautiful is better than ugly.\n",
      "Explicit is better than implicit.\n",
      "Simple is better than complex.\n",
      "Complex is better than complicated.\n",
      "Flat is better than nested.\n",
      "Sparse is better than dense.\n",
      "Readability counts.\n",
      "Special cases aren't special enough to break the rules.\n",
      "Although practicality beats purity.\n",
      "Errors should never pass silently.\n",
      "Unless explicitly silenced.\n",
      "In the face of ambiguity, refuse the temptation to guess.\n",
      "There should be one-- and preferably only one --obvious way to do it.\n",
      "Although that way may not be obvious at first unless you're Dutch.\n",
      "Now is better than never.\n",
      "Although never is often better than *right* now.\n",
      "If the implementation is hard to explain, it's a bad idea.\n",
      "If the implementation is easy to explain, it may be a good idea.\n",
      "Namespaces are one honking great idea -- let's do more of those!\n",
      "analysis.trip_model.conf.json not configured, falling back to sample, default configuration\n",
      "expectations.conf.json not configured, falling back to sample, default configuration\n",
      "ERROR:root:habitica not configured, game functions not supported\n",
      "Traceback (most recent call last):\n",
      "  File \"/Users/jackgreenlee/e-mission-server/emission/net/ext_service/habitica/proxy.py\", line 22, in <module>\n",
      "    key_file = open('conf/net/ext_service/habitica.json')\n",
      "FileNotFoundError: [Errno 2] No such file or directory: 'conf/net/ext_service/habitica.json'\n",
      "2025-02-10T02:49:34.181395-05:00**********UUID bb6c7318-52f7-4e0f-a51b-c3f802f3b567: moving to long term**********\n",
      "New entry count == 0 and skip_if_no_new_data = False, continuing\n",
      "2025-02-10T02:49:34.191480-05:00**********UUID bb6c7318-52f7-4e0f-a51b-c3f802f3b567: updating incoming user inputs**********\n",
      "2025-02-10T02:49:34.278042-05:00**********UUID bb6c7318-52f7-4e0f-a51b-c3f802f3b567: filter accuracy if needed**********\n",
      "2025-02-10T02:49:34.282117-05:00**********UUID bb6c7318-52f7-4e0f-a51b-c3f802f3b567: segmenting into trips**********\n",
      "2025-02-10T02:49:37.739945-05:00**********UUID bb6c7318-52f7-4e0f-a51b-c3f802f3b567: segmenting into sections**********\n",
      "/Users/jackgreenlee/e-mission-server/emission/analysis/intake/segmentation/section_segmentation_methods/flip_flop_detection.py:59: RuntimeWarning: invalid value encountered in scalar divide\n",
      "  sm.update({\"trip_pct\": (curr_section_time * 100)/total_trip_time})\n",
      "/Users/jackgreenlee/e-mission-server/emission/analysis/intake/segmentation/section_segmentation_methods/flip_flop_detection.py:59: RuntimeWarning: invalid value encountered in scalar divide\n",
      "  sm.update({\"trip_pct\": (curr_section_time * 100)/total_trip_time})\n",
      "2025-02-10T02:49:38.694482-05:00**********UUID bb6c7318-52f7-4e0f-a51b-c3f802f3b567: smoothing sections**********\n",
      "/Users/jackgreenlee/e-mission-server/emission/analysis/intake/cleaning/cleaning_methods/speed_outlier_detection.py:27: FutureWarning: The default value of numeric_only in DataFrame.quantile is deprecated. In a future version, it will default to False. Select only valid columns or specify the value of numeric_only to silence this warning.\n",
      "  quartile_vals = df_to_use.quantile([0.25, 0.75]).speed\n",
      "/Users/jackgreenlee/e-mission-server/emission/analysis/intake/cleaning/cleaning_methods/speed_outlier_detection.py:27: FutureWarning: The default value of numeric_only in DataFrame.quantile is deprecated. In a future version, it will default to False. Select only valid columns or specify the value of numeric_only to silence this warning.\n",
      "  quartile_vals = df_to_use.quantile([0.25, 0.75]).speed\n",
      "/Users/jackgreenlee/e-mission-server/emission/analysis/intake/cleaning/cleaning_methods/speed_outlier_detection.py:27: FutureWarning: The default value of numeric_only in DataFrame.quantile is deprecated. In a future version, it will default to False. Select only valid columns or specify the value of numeric_only to silence this warning.\n",
      "  quartile_vals = df_to_use.quantile([0.25, 0.75]).speed\n",
      "/Users/jackgreenlee/e-mission-server/emission/analysis/intake/cleaning/cleaning_methods/speed_outlier_detection.py:27: FutureWarning: The default value of numeric_only in DataFrame.quantile is deprecated. In a future version, it will default to False. Select only valid columns or specify the value of numeric_only to silence this warning.\n",
      "  quartile_vals = df_to_use.quantile([0.25, 0.75]).speed\n",
      "/Users/jackgreenlee/e-mission-server/emission/analysis/intake/cleaning/cleaning_methods/speed_outlier_detection.py:27: FutureWarning: The default value of numeric_only in DataFrame.quantile is deprecated. In a future version, it will default to False. Select only valid columns or specify the value of numeric_only to silence this warning.\n",
      "  quartile_vals = df_to_use.quantile([0.25, 0.75]).speed\n",
      "/Users/jackgreenlee/e-mission-server/emission/analysis/intake/cleaning/cleaning_methods/speed_outlier_detection.py:27: FutureWarning: The default value of numeric_only in DataFrame.quantile is deprecated. In a future version, it will default to False. Select only valid columns or specify the value of numeric_only to silence this warning.\n",
      "  quartile_vals = df_to_use.quantile([0.25, 0.75]).speed\n",
      "/Users/jackgreenlee/e-mission-server/emission/analysis/intake/cleaning/cleaning_methods/speed_outlier_detection.py:27: FutureWarning: The default value of numeric_only in DataFrame.quantile is deprecated. In a future version, it will default to False. Select only valid columns or specify the value of numeric_only to silence this warning.\n",
      "  quartile_vals = df_to_use.quantile([0.25, 0.75]).speed\n",
      "/Users/jackgreenlee/e-mission-server/emission/analysis/intake/cleaning/cleaning_methods/speed_outlier_detection.py:27: FutureWarning: The default value of numeric_only in DataFrame.quantile is deprecated. In a future version, it will default to False. Select only valid columns or specify the value of numeric_only to silence this warning.\n",
      "  quartile_vals = df_to_use.quantile([0.25, 0.75]).speed\n",
      "/Users/jackgreenlee/e-mission-server/emission/analysis/intake/cleaning/cleaning_methods/speed_outlier_detection.py:27: FutureWarning: The default value of numeric_only in DataFrame.quantile is deprecated. In a future version, it will default to False. Select only valid columns or specify the value of numeric_only to silence this warning.\n",
      "  quartile_vals = df_to_use.quantile([0.25, 0.75]).speed\n",
      "/Users/jackgreenlee/e-mission-server/emission/analysis/intake/cleaning/cleaning_methods/speed_outlier_detection.py:27: FutureWarning: The default value of numeric_only in DataFrame.quantile is deprecated. In a future version, it will default to False. Select only valid columns or specify the value of numeric_only to silence this warning.\n",
      "  quartile_vals = df_to_use.quantile([0.25, 0.75]).speed\n",
      "/Users/jackgreenlee/e-mission-server/emission/analysis/intake/cleaning/cleaning_methods/speed_outlier_detection.py:27: FutureWarning: The default value of numeric_only in DataFrame.quantile is deprecated. In a future version, it will default to False. Select only valid columns or specify the value of numeric_only to silence this warning.\n",
      "  quartile_vals = df_to_use.quantile([0.25, 0.75]).speed\n",
      "2025-02-10T02:49:38.863566-05:00**********UUID bb6c7318-52f7-4e0f-a51b-c3f802f3b567: cleaning and resampling timeline**********\n",
      "/Users/jackgreenlee/e-mission-server/emission/analysis/intake/cleaning/cleaning_methods/speed_outlier_detection.py:27: FutureWarning: The default value of numeric_only in DataFrame.quantile is deprecated. In a future version, it will default to False. Select only valid columns or specify the value of numeric_only to silence this warning.\n",
      "  quartile_vals = df_to_use.quantile([0.25, 0.75]).speed\n",
      "/Users/jackgreenlee/e-mission-server/emission/analysis/intake/cleaning/cleaning_methods/speed_outlier_detection.py:27: FutureWarning: The default value of numeric_only in DataFrame.quantile is deprecated. In a future version, it will default to False. Select only valid columns or specify the value of numeric_only to silence this warning.\n",
      "  quartile_vals = df_to_use.quantile([0.25, 0.75]).speed\n",
      "/Users/jackgreenlee/e-mission-server/emission/analysis/intake/cleaning/cleaning_methods/speed_outlier_detection.py:27: FutureWarning: The default value of numeric_only in DataFrame.quantile is deprecated. In a future version, it will default to False. Select only valid columns or specify the value of numeric_only to silence this warning.\n",
      "  quartile_vals = df_to_use.quantile([0.25, 0.75]).speed\n",
      "/Users/jackgreenlee/e-mission-server/emission/analysis/intake/cleaning/cleaning_methods/speed_outlier_detection.py:27: FutureWarning: The default value of numeric_only in DataFrame.quantile is deprecated. In a future version, it will default to False. Select only valid columns or specify the value of numeric_only to silence this warning.\n",
      "  quartile_vals = df_to_use.quantile([0.25, 0.75]).speed\n",
      "/Users/jackgreenlee/e-mission-server/emission/analysis/intake/cleaning/cleaning_methods/speed_outlier_detection.py:27: FutureWarning: The default value of numeric_only in DataFrame.quantile is deprecated. In a future version, it will default to False. Select only valid columns or specify the value of numeric_only to silence this warning.\n",
      "  quartile_vals = df_to_use.quantile([0.25, 0.75]).speed\n",
      "/Users/jackgreenlee/e-mission-server/emission/analysis/intake/cleaning/cleaning_methods/speed_outlier_detection.py:27: FutureWarning: The default value of numeric_only in DataFrame.quantile is deprecated. In a future version, it will default to False. Select only valid columns or specify the value of numeric_only to silence this warning.\n",
      "  quartile_vals = df_to_use.quantile([0.25, 0.75]).speed\n",
      "/Users/jackgreenlee/e-mission-server/emission/analysis/intake/cleaning/cleaning_methods/speed_outlier_detection.py:27: FutureWarning: The default value of numeric_only in DataFrame.quantile is deprecated. In a future version, it will default to False. Select only valid columns or specify the value of numeric_only to silence this warning.\n",
      "  quartile_vals = df_to_use.quantile([0.25, 0.75]).speed\n",
      "2025-02-10T02:49:40.246726-05:00**********UUID bb6c7318-52f7-4e0f-a51b-c3f802f3b567: inferring transportation mode**********\n",
      "2025-02-10T02:49:45.426154-05:00**********UUID bb6c7318-52f7-4e0f-a51b-c3f802f3b567: inferring labels**********\n",
      "2025-02-10T02:49:45.505897-05:00**********UUID bb6c7318-52f7-4e0f-a51b-c3f802f3b567: populating expectations**********\n",
      "2025-02-10T02:49:45.542222-05:00**********UUID bb6c7318-52f7-4e0f-a51b-c3f802f3b567: creating confirmed objects **********\n",
      "2025-02-10T02:49:46.814932-05:00**********UUID bb6c7318-52f7-4e0f-a51b-c3f802f3b567: creating composite objects **********\n",
      "2025-02-10T02:49:47.189236-05:00**********UUID bb6c7318-52f7-4e0f-a51b-c3f802f3b567: storing user stats **********\n",
      "2025-02-10T02:49:47.197072-05:00**********UUID bb6c7318-52f7-4e0f-a51b-c3f802f3b567: storing pipeline independent user stats **********\n",
      "Ran pipeline on master, TimeQuery data.ts with range [1739173773.3684251, 1739173787.6681678)\n"
     ]
    },
    {
     "data": {
      "text/html": [
       "<div>\n",
       "<style scoped>\n",
       "    .dataframe tbody tr th:only-of-type {\n",
       "        vertical-align: middle;\n",
       "    }\n",
       "\n",
       "    .dataframe tbody tr th {\n",
       "        vertical-align: top;\n",
       "    }\n",
       "\n",
       "    .dataframe thead th {\n",
       "        text-align: right;\n",
       "    }\n",
       "</style>\n",
       "<table border=\"1\" class=\"dataframe\">\n",
       "  <thead>\n",
       "    <tr style=\"text-align: right;\">\n",
       "      <th></th>\n",
       "      <th>start_ts</th>\n",
       "      <th>end_ts</th>\n",
       "    </tr>\n",
       "  </thead>\n",
       "  <tbody>\n",
       "    <tr>\n",
       "      <th>0</th>\n",
       "      <td>1470341031.23</td>\n",
       "      <td>1470342912.00</td>\n",
       "    </tr>\n",
       "    <tr>\n",
       "      <th>1</th>\n",
       "      <td>1470343292.14</td>\n",
       "      <td>1470351348.72</td>\n",
       "    </tr>\n",
       "    <tr>\n",
       "      <th>2</th>\n",
       "      <td>1470352238.74</td>\n",
       "      <td>1470352844.00</td>\n",
       "    </tr>\n",
       "    <tr>\n",
       "      <th>3</th>\n",
       "      <td>1470354036.96</td>\n",
       "      <td>1470354172.71</td>\n",
       "    </tr>\n",
       "    <tr>\n",
       "      <th>4</th>\n",
       "      <td>1470354386.56</td>\n",
       "      <td>1470355132.00</td>\n",
       "    </tr>\n",
       "    <tr>\n",
       "      <th>5</th>\n",
       "      <td>1470355612.59</td>\n",
       "      <td>1470355893.16</td>\n",
       "    </tr>\n",
       "    <tr>\n",
       "      <th>6</th>\n",
       "      <td>1470356315.84</td>\n",
       "      <td>1470357252.57</td>\n",
       "    </tr>\n",
       "    <tr>\n",
       "      <th>7</th>\n",
       "      <td>1470357578.29</td>\n",
       "      <td>1470363534.71</td>\n",
       "    </tr>\n",
       "    <tr>\n",
       "      <th>8</th>\n",
       "      <td>1470364485.74</td>\n",
       "      <td>1470364718.35</td>\n",
       "    </tr>\n",
       "  </tbody>\n",
       "</table>\n",
       "</div>"
      ],
      "text/plain": [
       "       start_ts        end_ts\n",
       "0 1470341031.23 1470342912.00\n",
       "1 1470343292.14 1470351348.72\n",
       "2 1470352238.74 1470352844.00\n",
       "3 1470354036.96 1470354172.71\n",
       "4 1470354386.56 1470355132.00\n",
       "5 1470355612.59 1470355893.16\n",
       "6 1470356315.84 1470357252.57\n",
       "7 1470357578.29 1470363534.71\n",
       "8 1470364485.74 1470364718.35"
      ]
     },
     "metadata": {},
     "output_type": "display_data"
    },
    {
     "name": "stdout",
     "output_type": "stream",
     "text": [
      "Checking out fe6035ab43fa539235ad8bff982b1db5af615c3f to measure pipeline runtime\n",
      "M\t.gitignore\n",
      "M\temission/storage/timeseries/builtin_timeseries.py\n",
      "Note: switching to 'fe6035ab43fa539235ad8bff982b1db5af615c3f'.\n",
      "\n",
      "You are in 'detached HEAD' state. You can look around, make experimental\n",
      "changes and commit them, and you can discard any commits you make in this\n",
      "state without impacting any branches by switching back to a branch.\n",
      "\n",
      "If you want to create a new branch to retain commits you create, you may\n",
      "do so (now or later) by using -c with the switch command. Example:\n",
      "\n",
      "  git switch -c <new-branch-name>\n",
      "\n",
      "Or undo this operation with:\n",
      "\n",
      "  git switch -\n",
      "\n",
      "Turn off this advice by setting config variable advice.detachedHead to false\n",
      "\n",
      "HEAD is now at fe6035ab rename variables for clarity\n",
      "Config file not found, returning a copy of the environment variables instead...\n",
      "Retrieved config: {'DB_HOST': None, 'DB_RESULT_LIMIT': None}\n",
      "URL not formatted, defaulting to \"Stage_database\"\n",
      "Connecting to database URL localhost\n",
      "Namespace(all=True, platform=None, user_list=None, email_list=None, date=None, dry_run=False)\n",
      "INFO:root:About to delete 796 analysis results\n",
      "INFO:root:About to delete entries with keys ['analysis/cleaned_place', 'analysis/cleaned_section', 'analysis/cleaned_trip', 'analysis/composite_trip', 'analysis/confirmed_place', 'analysis/confirmed_trip', 'analysis/expected_trip', 'analysis/inferred_labels', 'analysis/inferred_section', 'analysis/inferred_trip', 'analysis/recreated_location', 'analysis/smoothing', 'inference/labels', 'inference/prediction', 'segmentation/raw_place', 'segmentation/raw_section', 'segmentation/raw_trip']\n",
      "INFO:root:About to delete 11 pipeline states\n",
      "INFO:root:this is not a dry run, result of removing analysis objects = <pymongo.results.DeleteResult object at 0x150b79bb0>\n",
      "INFO:root:this is not a dry run, result of removing pipeline states = <pymongo.results.DeleteResult object at 0x150b79ee0>\n",
      "Config file not found, returning a copy of the environment variables instead...\n",
      "Retrieved config: {'DB_HOST': None, 'DB_RESULT_LIMIT': None}\n",
      "URL not formatted, defaulting to \"Stage_database\"\n",
      "Connecting to database URL localhost\n",
      "Trying to open debug.conf.json\n",
      "analysis.debug.conf.json not configured, falling back to sample, default configuration\n",
      "INFO:root:NOMINATIM_QUERY_URL: None\n",
      "Nominatim Query URL Configured: None\n",
      "Nominatim URL not configured, place decoding must happen on the client\n",
      "overpass not configured, falling back to public overpass api\n",
      "transit stops query not configured, falling back to default\n",
      "The Zen of Python, by Tim Peters\n",
      "\n",
      "Beautiful is better than ugly.\n",
      "Explicit is better than implicit.\n",
      "Simple is better than complex.\n",
      "Complex is better than complicated.\n",
      "Flat is better than nested.\n",
      "Sparse is better than dense.\n",
      "Readability counts.\n",
      "Special cases aren't special enough to break the rules.\n",
      "Although practicality beats purity.\n",
      "Errors should never pass silently.\n",
      "Unless explicitly silenced.\n",
      "In the face of ambiguity, refuse the temptation to guess.\n",
      "There should be one-- and preferably only one --obvious way to do it.\n",
      "Although that way may not be obvious at first unless you're Dutch.\n",
      "Now is better than never.\n",
      "Although never is often better than *right* now.\n",
      "If the implementation is hard to explain, it's a bad idea.\n",
      "If the implementation is easy to explain, it may be a good idea.\n",
      "Namespaces are one honking great idea -- let's do more of those!\n",
      "analysis.trip_model.conf.json not configured, falling back to sample, default configuration\n",
      "expectations.conf.json not configured, falling back to sample, default configuration\n",
      "ERROR:root:habitica not configured, game functions not supported\n",
      "Traceback (most recent call last):\n",
      "  File \"/Users/jackgreenlee/e-mission-server/emission/net/ext_service/habitica/proxy.py\", line 22, in <module>\n",
      "    key_file = open('conf/net/ext_service/habitica.json')\n",
      "FileNotFoundError: [Errno 2] No such file or directory: 'conf/net/ext_service/habitica.json'\n",
      "2025-02-10T02:49:49.904235-05:00**********UUID bb6c7318-52f7-4e0f-a51b-c3f802f3b567: moving to long term**********\n",
      "New entry count == 0 and skip_if_no_new_data = False, continuing\n",
      "2025-02-10T02:49:49.912234-05:00**********UUID bb6c7318-52f7-4e0f-a51b-c3f802f3b567: updating incoming user inputs**********\n",
      "2025-02-10T02:49:49.998734-05:00**********UUID bb6c7318-52f7-4e0f-a51b-c3f802f3b567: filter accuracy if needed**********\n",
      "2025-02-10T02:49:50.002480-05:00**********UUID bb6c7318-52f7-4e0f-a51b-c3f802f3b567: segmenting into trips**********\n",
      "2025-02-10T02:49:50.857000-05:00**********UUID bb6c7318-52f7-4e0f-a51b-c3f802f3b567: segmenting into sections**********\n",
      "/Users/jackgreenlee/e-mission-server/emission/analysis/intake/segmentation/section_segmentation_methods/flip_flop_detection.py:59: RuntimeWarning: invalid value encountered in scalar divide\n",
      "  sm.update({\"trip_pct\": (curr_section_time * 100)/total_trip_time})\n",
      "/Users/jackgreenlee/e-mission-server/emission/analysis/intake/segmentation/section_segmentation_methods/flip_flop_detection.py:59: RuntimeWarning: invalid value encountered in scalar divide\n",
      "  sm.update({\"trip_pct\": (curr_section_time * 100)/total_trip_time})\n",
      "2025-02-10T02:49:51.811462-05:00**********UUID bb6c7318-52f7-4e0f-a51b-c3f802f3b567: smoothing sections**********\n",
      "/Users/jackgreenlee/e-mission-server/emission/analysis/intake/cleaning/cleaning_methods/speed_outlier_detection.py:27: FutureWarning: The default value of numeric_only in DataFrame.quantile is deprecated. In a future version, it will default to False. Select only valid columns or specify the value of numeric_only to silence this warning.\n",
      "  quartile_vals = df_to_use.quantile([0.25, 0.75]).speed\n",
      "/Users/jackgreenlee/e-mission-server/emission/analysis/intake/cleaning/cleaning_methods/speed_outlier_detection.py:27: FutureWarning: The default value of numeric_only in DataFrame.quantile is deprecated. In a future version, it will default to False. Select only valid columns or specify the value of numeric_only to silence this warning.\n",
      "  quartile_vals = df_to_use.quantile([0.25, 0.75]).speed\n",
      "/Users/jackgreenlee/e-mission-server/emission/analysis/intake/cleaning/cleaning_methods/speed_outlier_detection.py:27: FutureWarning: The default value of numeric_only in DataFrame.quantile is deprecated. In a future version, it will default to False. Select only valid columns or specify the value of numeric_only to silence this warning.\n",
      "  quartile_vals = df_to_use.quantile([0.25, 0.75]).speed\n",
      "/Users/jackgreenlee/e-mission-server/emission/analysis/intake/cleaning/cleaning_methods/speed_outlier_detection.py:27: FutureWarning: The default value of numeric_only in DataFrame.quantile is deprecated. In a future version, it will default to False. Select only valid columns or specify the value of numeric_only to silence this warning.\n",
      "  quartile_vals = df_to_use.quantile([0.25, 0.75]).speed\n",
      "/Users/jackgreenlee/e-mission-server/emission/analysis/intake/cleaning/cleaning_methods/speed_outlier_detection.py:27: FutureWarning: The default value of numeric_only in DataFrame.quantile is deprecated. In a future version, it will default to False. Select only valid columns or specify the value of numeric_only to silence this warning.\n",
      "  quartile_vals = df_to_use.quantile([0.25, 0.75]).speed\n",
      "/Users/jackgreenlee/e-mission-server/emission/analysis/intake/cleaning/cleaning_methods/speed_outlier_detection.py:27: FutureWarning: The default value of numeric_only in DataFrame.quantile is deprecated. In a future version, it will default to False. Select only valid columns or specify the value of numeric_only to silence this warning.\n",
      "  quartile_vals = df_to_use.quantile([0.25, 0.75]).speed\n",
      "/Users/jackgreenlee/e-mission-server/emission/analysis/intake/cleaning/cleaning_methods/speed_outlier_detection.py:27: FutureWarning: The default value of numeric_only in DataFrame.quantile is deprecated. In a future version, it will default to False. Select only valid columns or specify the value of numeric_only to silence this warning.\n",
      "  quartile_vals = df_to_use.quantile([0.25, 0.75]).speed\n",
      "/Users/jackgreenlee/e-mission-server/emission/analysis/intake/cleaning/cleaning_methods/speed_outlier_detection.py:27: FutureWarning: The default value of numeric_only in DataFrame.quantile is deprecated. In a future version, it will default to False. Select only valid columns or specify the value of numeric_only to silence this warning.\n",
      "  quartile_vals = df_to_use.quantile([0.25, 0.75]).speed\n",
      "/Users/jackgreenlee/e-mission-server/emission/analysis/intake/cleaning/cleaning_methods/speed_outlier_detection.py:27: FutureWarning: The default value of numeric_only in DataFrame.quantile is deprecated. In a future version, it will default to False. Select only valid columns or specify the value of numeric_only to silence this warning.\n",
      "  quartile_vals = df_to_use.quantile([0.25, 0.75]).speed\n",
      "/Users/jackgreenlee/e-mission-server/emission/analysis/intake/cleaning/cleaning_methods/speed_outlier_detection.py:27: FutureWarning: The default value of numeric_only in DataFrame.quantile is deprecated. In a future version, it will default to False. Select only valid columns or specify the value of numeric_only to silence this warning.\n",
      "  quartile_vals = df_to_use.quantile([0.25, 0.75]).speed\n",
      "/Users/jackgreenlee/e-mission-server/emission/analysis/intake/cleaning/cleaning_methods/speed_outlier_detection.py:27: FutureWarning: The default value of numeric_only in DataFrame.quantile is deprecated. In a future version, it will default to False. Select only valid columns or specify the value of numeric_only to silence this warning.\n",
      "  quartile_vals = df_to_use.quantile([0.25, 0.75]).speed\n",
      "2025-02-10T02:49:51.999080-05:00**********UUID bb6c7318-52f7-4e0f-a51b-c3f802f3b567: cleaning and resampling timeline**********\n",
      "/Users/jackgreenlee/e-mission-server/emission/analysis/intake/cleaning/cleaning_methods/speed_outlier_detection.py:27: FutureWarning: The default value of numeric_only in DataFrame.quantile is deprecated. In a future version, it will default to False. Select only valid columns or specify the value of numeric_only to silence this warning.\n",
      "  quartile_vals = df_to_use.quantile([0.25, 0.75]).speed\n",
      "/Users/jackgreenlee/e-mission-server/emission/analysis/intake/cleaning/cleaning_methods/speed_outlier_detection.py:27: FutureWarning: The default value of numeric_only in DataFrame.quantile is deprecated. In a future version, it will default to False. Select only valid columns or specify the value of numeric_only to silence this warning.\n",
      "  quartile_vals = df_to_use.quantile([0.25, 0.75]).speed\n",
      "/Users/jackgreenlee/e-mission-server/emission/analysis/intake/cleaning/cleaning_methods/speed_outlier_detection.py:27: FutureWarning: The default value of numeric_only in DataFrame.quantile is deprecated. In a future version, it will default to False. Select only valid columns or specify the value of numeric_only to silence this warning.\n",
      "  quartile_vals = df_to_use.quantile([0.25, 0.75]).speed\n",
      "/Users/jackgreenlee/e-mission-server/emission/analysis/intake/cleaning/cleaning_methods/speed_outlier_detection.py:27: FutureWarning: The default value of numeric_only in DataFrame.quantile is deprecated. In a future version, it will default to False. Select only valid columns or specify the value of numeric_only to silence this warning.\n",
      "  quartile_vals = df_to_use.quantile([0.25, 0.75]).speed\n",
      "/Users/jackgreenlee/e-mission-server/emission/analysis/intake/cleaning/cleaning_methods/speed_outlier_detection.py:27: FutureWarning: The default value of numeric_only in DataFrame.quantile is deprecated. In a future version, it will default to False. Select only valid columns or specify the value of numeric_only to silence this warning.\n",
      "  quartile_vals = df_to_use.quantile([0.25, 0.75]).speed\n",
      "/Users/jackgreenlee/e-mission-server/emission/analysis/intake/cleaning/cleaning_methods/speed_outlier_detection.py:27: FutureWarning: The default value of numeric_only in DataFrame.quantile is deprecated. In a future version, it will default to False. Select only valid columns or specify the value of numeric_only to silence this warning.\n",
      "  quartile_vals = df_to_use.quantile([0.25, 0.75]).speed\n",
      "/Users/jackgreenlee/e-mission-server/emission/analysis/intake/cleaning/cleaning_methods/speed_outlier_detection.py:27: FutureWarning: The default value of numeric_only in DataFrame.quantile is deprecated. In a future version, it will default to False. Select only valid columns or specify the value of numeric_only to silence this warning.\n",
      "  quartile_vals = df_to_use.quantile([0.25, 0.75]).speed\n",
      "2025-02-10T02:49:53.396693-05:00**********UUID bb6c7318-52f7-4e0f-a51b-c3f802f3b567: inferring transportation mode**********\n",
      "2025-02-10T02:49:58.621608-05:00**********UUID bb6c7318-52f7-4e0f-a51b-c3f802f3b567: inferring labels**********\n",
      "2025-02-10T02:49:58.688287-05:00**********UUID bb6c7318-52f7-4e0f-a51b-c3f802f3b567: populating expectations**********\n",
      "2025-02-10T02:49:58.720722-05:00**********UUID bb6c7318-52f7-4e0f-a51b-c3f802f3b567: creating confirmed objects **********\n",
      "2025-02-10T02:49:59.948389-05:00**********UUID bb6c7318-52f7-4e0f-a51b-c3f802f3b567: creating composite objects **********\n",
      "2025-02-10T02:50:00.322177-05:00**********UUID bb6c7318-52f7-4e0f-a51b-c3f802f3b567: storing user stats **********\n",
      "2025-02-10T02:50:00.329843-05:00**********UUID bb6c7318-52f7-4e0f-a51b-c3f802f3b567: storing pipeline independent user stats **********\n",
      "Ran pipeline on fe6035ab43fa539235ad8bff982b1db5af615c3f, TimeQuery data.ts with range [1739173789.0670068, 1739173800.812595)\n"
     ]
    },
    {
     "data": {
      "text/html": [
       "<div>\n",
       "<style scoped>\n",
       "    .dataframe tbody tr th:only-of-type {\n",
       "        vertical-align: middle;\n",
       "    }\n",
       "\n",
       "    .dataframe tbody tr th {\n",
       "        vertical-align: top;\n",
       "    }\n",
       "\n",
       "    .dataframe thead th {\n",
       "        text-align: right;\n",
       "    }\n",
       "</style>\n",
       "<table border=\"1\" class=\"dataframe\">\n",
       "  <thead>\n",
       "    <tr style=\"text-align: right;\">\n",
       "      <th></th>\n",
       "      <th>start_ts</th>\n",
       "      <th>end_ts</th>\n",
       "    </tr>\n",
       "  </thead>\n",
       "  <tbody>\n",
       "    <tr>\n",
       "      <th>0</th>\n",
       "      <td>1470341031.23</td>\n",
       "      <td>1470342912.00</td>\n",
       "    </tr>\n",
       "    <tr>\n",
       "      <th>1</th>\n",
       "      <td>1470343292.14</td>\n",
       "      <td>1470351348.72</td>\n",
       "    </tr>\n",
       "    <tr>\n",
       "      <th>2</th>\n",
       "      <td>1470352238.74</td>\n",
       "      <td>1470352844.00</td>\n",
       "    </tr>\n",
       "    <tr>\n",
       "      <th>3</th>\n",
       "      <td>1470354036.96</td>\n",
       "      <td>1470354172.71</td>\n",
       "    </tr>\n",
       "    <tr>\n",
       "      <th>4</th>\n",
       "      <td>1470354386.56</td>\n",
       "      <td>1470355132.00</td>\n",
       "    </tr>\n",
       "    <tr>\n",
       "      <th>5</th>\n",
       "      <td>1470355612.59</td>\n",
       "      <td>1470355893.16</td>\n",
       "    </tr>\n",
       "    <tr>\n",
       "      <th>6</th>\n",
       "      <td>1470356315.84</td>\n",
       "      <td>1470357252.57</td>\n",
       "    </tr>\n",
       "    <tr>\n",
       "      <th>7</th>\n",
       "      <td>1470357578.29</td>\n",
       "      <td>1470363534.71</td>\n",
       "    </tr>\n",
       "    <tr>\n",
       "      <th>8</th>\n",
       "      <td>1470364485.74</td>\n",
       "      <td>1470364718.35</td>\n",
       "    </tr>\n",
       "  </tbody>\n",
       "</table>\n",
       "</div>"
      ],
      "text/plain": [
       "       start_ts        end_ts\n",
       "0 1470341031.23 1470342912.00\n",
       "1 1470343292.14 1470351348.72\n",
       "2 1470352238.74 1470352844.00\n",
       "3 1470354036.96 1470354172.71\n",
       "4 1470354386.56 1470355132.00\n",
       "5 1470355612.59 1470355893.16\n",
       "6 1470356315.84 1470357252.57\n",
       "7 1470357578.29 1470363534.71\n",
       "8 1470364485.74 1470364718.35"
      ]
     },
     "metadata": {},
     "output_type": "display_data"
    },
    {
     "name": "stdout",
     "output_type": "stream",
     "text": [
      "Checking out vectorized_segmentation to measure pipeline runtime\n",
      "M\t.gitignore\n",
      "M\temission/storage/timeseries/builtin_timeseries.py\n",
      "Previous HEAD position was fe6035ab rename variables for clarity\n",
      "Switched to branch 'vectorized_segmentation'\n",
      "Your branch is up to date with 'jgreenlee/vectorized_segmentation'.\n",
      "Config file not found, returning a copy of the environment variables instead...\n",
      "Retrieved config: {'DB_HOST': None, 'DB_RESULT_LIMIT': None}\n",
      "URL not formatted, defaulting to \"Stage_database\"\n",
      "Connecting to database URL localhost\n",
      "Namespace(all=True, platform=None, user_list=None, email_list=None, date=None, dry_run=False)\n",
      "INFO:root:About to delete 796 analysis results\n",
      "INFO:root:About to delete entries with keys ['analysis/cleaned_place', 'analysis/cleaned_section', 'analysis/cleaned_trip', 'analysis/composite_trip', 'analysis/confirmed_place', 'analysis/confirmed_trip', 'analysis/expected_trip', 'analysis/inferred_labels', 'analysis/inferred_section', 'analysis/inferred_trip', 'analysis/recreated_location', 'analysis/smoothing', 'inference/labels', 'inference/prediction', 'segmentation/raw_place', 'segmentation/raw_section', 'segmentation/raw_trip']\n",
      "INFO:root:About to delete 11 pipeline states\n",
      "INFO:root:this is not a dry run, result of removing analysis objects = <pymongo.results.DeleteResult object at 0x12633cbb0>\n",
      "INFO:root:this is not a dry run, result of removing pipeline states = <pymongo.results.DeleteResult object at 0x12633cee0>\n",
      "Config file not found, returning a copy of the environment variables instead...\n",
      "Retrieved config: {'DB_HOST': None, 'DB_RESULT_LIMIT': None}\n",
      "URL not formatted, defaulting to \"Stage_database\"\n",
      "Connecting to database URL localhost\n",
      "Trying to open debug.conf.json\n",
      "analysis.debug.conf.json not configured, falling back to sample, default configuration\n",
      "INFO:root:NOMINATIM_QUERY_URL: None\n",
      "Nominatim Query URL Configured: None\n",
      "Nominatim URL not configured, place decoding must happen on the client\n",
      "overpass not configured, falling back to public overpass api\n",
      "transit stops query not configured, falling back to default\n",
      "The Zen of Python, by Tim Peters\n",
      "\n",
      "Beautiful is better than ugly.\n",
      "Explicit is better than implicit.\n",
      "Simple is better than complex.\n",
      "Complex is better than complicated.\n",
      "Flat is better than nested.\n",
      "Sparse is better than dense.\n",
      "Readability counts.\n",
      "Special cases aren't special enough to break the rules.\n",
      "Although practicality beats purity.\n",
      "Errors should never pass silently.\n",
      "Unless explicitly silenced.\n",
      "In the face of ambiguity, refuse the temptation to guess.\n",
      "There should be one-- and preferably only one --obvious way to do it.\n",
      "Although that way may not be obvious at first unless you're Dutch.\n",
      "Now is better than never.\n",
      "Although never is often better than *right* now.\n",
      "If the implementation is hard to explain, it's a bad idea.\n",
      "If the implementation is easy to explain, it may be a good idea.\n",
      "Namespaces are one honking great idea -- let's do more of those!\n",
      "analysis.trip_model.conf.json not configured, falling back to sample, default configuration\n",
      "expectations.conf.json not configured, falling back to sample, default configuration\n",
      "ERROR:root:habitica not configured, game functions not supported\n",
      "Traceback (most recent call last):\n",
      "  File \"/Users/jackgreenlee/e-mission-server/emission/net/ext_service/habitica/proxy.py\", line 22, in <module>\n",
      "    key_file = open('conf/net/ext_service/habitica.json')\n",
      "FileNotFoundError: [Errno 2] No such file or directory: 'conf/net/ext_service/habitica.json'\n",
      "2025-02-10T02:50:03.055098-05:00**********UUID bb6c7318-52f7-4e0f-a51b-c3f802f3b567: moving to long term**********\n",
      "New entry count == 0 and skip_if_no_new_data = False, continuing\n",
      "2025-02-10T02:50:03.062708-05:00**********UUID bb6c7318-52f7-4e0f-a51b-c3f802f3b567: updating incoming user inputs**********\n",
      "2025-02-10T02:50:03.151690-05:00**********UUID bb6c7318-52f7-4e0f-a51b-c3f802f3b567: filter accuracy if needed**********\n",
      "2025-02-10T02:50:03.155786-05:00**********UUID bb6c7318-52f7-4e0f-a51b-c3f802f3b567: segmenting into trips**********\n",
      "2025-02-10T02:50:03.473721-05:00**********UUID bb6c7318-52f7-4e0f-a51b-c3f802f3b567: segmenting into sections**********\n",
      "/Users/jackgreenlee/e-mission-server/emission/analysis/intake/segmentation/section_segmentation_methods/flip_flop_detection.py:59: RuntimeWarning: invalid value encountered in scalar divide\n",
      "  sm.update({\"trip_pct\": (curr_section_time * 100)/total_trip_time})\n",
      "/Users/jackgreenlee/e-mission-server/emission/analysis/intake/segmentation/section_segmentation_methods/flip_flop_detection.py:59: RuntimeWarning: invalid value encountered in scalar divide\n",
      "  sm.update({\"trip_pct\": (curr_section_time * 100)/total_trip_time})\n",
      "2025-02-10T02:50:04.450984-05:00**********UUID bb6c7318-52f7-4e0f-a51b-c3f802f3b567: smoothing sections**********\n",
      "/Users/jackgreenlee/e-mission-server/emission/analysis/intake/cleaning/cleaning_methods/speed_outlier_detection.py:27: FutureWarning: The default value of numeric_only in DataFrame.quantile is deprecated. In a future version, it will default to False. Select only valid columns or specify the value of numeric_only to silence this warning.\n",
      "  quartile_vals = df_to_use.quantile([0.25, 0.75]).speed\n",
      "/Users/jackgreenlee/e-mission-server/emission/analysis/intake/cleaning/cleaning_methods/speed_outlier_detection.py:27: FutureWarning: The default value of numeric_only in DataFrame.quantile is deprecated. In a future version, it will default to False. Select only valid columns or specify the value of numeric_only to silence this warning.\n",
      "  quartile_vals = df_to_use.quantile([0.25, 0.75]).speed\n",
      "/Users/jackgreenlee/e-mission-server/emission/analysis/intake/cleaning/cleaning_methods/speed_outlier_detection.py:27: FutureWarning: The default value of numeric_only in DataFrame.quantile is deprecated. In a future version, it will default to False. Select only valid columns or specify the value of numeric_only to silence this warning.\n",
      "  quartile_vals = df_to_use.quantile([0.25, 0.75]).speed\n",
      "/Users/jackgreenlee/e-mission-server/emission/analysis/intake/cleaning/cleaning_methods/speed_outlier_detection.py:27: FutureWarning: The default value of numeric_only in DataFrame.quantile is deprecated. In a future version, it will default to False. Select only valid columns or specify the value of numeric_only to silence this warning.\n",
      "  quartile_vals = df_to_use.quantile([0.25, 0.75]).speed\n",
      "/Users/jackgreenlee/e-mission-server/emission/analysis/intake/cleaning/cleaning_methods/speed_outlier_detection.py:27: FutureWarning: The default value of numeric_only in DataFrame.quantile is deprecated. In a future version, it will default to False. Select only valid columns or specify the value of numeric_only to silence this warning.\n",
      "  quartile_vals = df_to_use.quantile([0.25, 0.75]).speed\n",
      "/Users/jackgreenlee/e-mission-server/emission/analysis/intake/cleaning/cleaning_methods/speed_outlier_detection.py:27: FutureWarning: The default value of numeric_only in DataFrame.quantile is deprecated. In a future version, it will default to False. Select only valid columns or specify the value of numeric_only to silence this warning.\n",
      "  quartile_vals = df_to_use.quantile([0.25, 0.75]).speed\n",
      "/Users/jackgreenlee/e-mission-server/emission/analysis/intake/cleaning/cleaning_methods/speed_outlier_detection.py:27: FutureWarning: The default value of numeric_only in DataFrame.quantile is deprecated. In a future version, it will default to False. Select only valid columns or specify the value of numeric_only to silence this warning.\n",
      "  quartile_vals = df_to_use.quantile([0.25, 0.75]).speed\n",
      "/Users/jackgreenlee/e-mission-server/emission/analysis/intake/cleaning/cleaning_methods/speed_outlier_detection.py:27: FutureWarning: The default value of numeric_only in DataFrame.quantile is deprecated. In a future version, it will default to False. Select only valid columns or specify the value of numeric_only to silence this warning.\n",
      "  quartile_vals = df_to_use.quantile([0.25, 0.75]).speed\n",
      "/Users/jackgreenlee/e-mission-server/emission/analysis/intake/cleaning/cleaning_methods/speed_outlier_detection.py:27: FutureWarning: The default value of numeric_only in DataFrame.quantile is deprecated. In a future version, it will default to False. Select only valid columns or specify the value of numeric_only to silence this warning.\n",
      "  quartile_vals = df_to_use.quantile([0.25, 0.75]).speed\n",
      "/Users/jackgreenlee/e-mission-server/emission/analysis/intake/cleaning/cleaning_methods/speed_outlier_detection.py:27: FutureWarning: The default value of numeric_only in DataFrame.quantile is deprecated. In a future version, it will default to False. Select only valid columns or specify the value of numeric_only to silence this warning.\n",
      "  quartile_vals = df_to_use.quantile([0.25, 0.75]).speed\n",
      "/Users/jackgreenlee/e-mission-server/emission/analysis/intake/cleaning/cleaning_methods/speed_outlier_detection.py:27: FutureWarning: The default value of numeric_only in DataFrame.quantile is deprecated. In a future version, it will default to False. Select only valid columns or specify the value of numeric_only to silence this warning.\n",
      "  quartile_vals = df_to_use.quantile([0.25, 0.75]).speed\n",
      "2025-02-10T02:50:04.659994-05:00**********UUID bb6c7318-52f7-4e0f-a51b-c3f802f3b567: cleaning and resampling timeline**********\n",
      "/Users/jackgreenlee/e-mission-server/emission/analysis/intake/cleaning/cleaning_methods/speed_outlier_detection.py:27: FutureWarning: The default value of numeric_only in DataFrame.quantile is deprecated. In a future version, it will default to False. Select only valid columns or specify the value of numeric_only to silence this warning.\n",
      "  quartile_vals = df_to_use.quantile([0.25, 0.75]).speed\n",
      "/Users/jackgreenlee/e-mission-server/emission/analysis/intake/cleaning/cleaning_methods/speed_outlier_detection.py:27: FutureWarning: The default value of numeric_only in DataFrame.quantile is deprecated. In a future version, it will default to False. Select only valid columns or specify the value of numeric_only to silence this warning.\n",
      "  quartile_vals = df_to_use.quantile([0.25, 0.75]).speed\n",
      "/Users/jackgreenlee/e-mission-server/emission/analysis/intake/cleaning/cleaning_methods/speed_outlier_detection.py:27: FutureWarning: The default value of numeric_only in DataFrame.quantile is deprecated. In a future version, it will default to False. Select only valid columns or specify the value of numeric_only to silence this warning.\n",
      "  quartile_vals = df_to_use.quantile([0.25, 0.75]).speed\n",
      "/Users/jackgreenlee/e-mission-server/emission/analysis/intake/cleaning/cleaning_methods/speed_outlier_detection.py:27: FutureWarning: The default value of numeric_only in DataFrame.quantile is deprecated. In a future version, it will default to False. Select only valid columns or specify the value of numeric_only to silence this warning.\n",
      "  quartile_vals = df_to_use.quantile([0.25, 0.75]).speed\n",
      "/Users/jackgreenlee/e-mission-server/emission/analysis/intake/cleaning/cleaning_methods/speed_outlier_detection.py:27: FutureWarning: The default value of numeric_only in DataFrame.quantile is deprecated. In a future version, it will default to False. Select only valid columns or specify the value of numeric_only to silence this warning.\n",
      "  quartile_vals = df_to_use.quantile([0.25, 0.75]).speed\n",
      "/Users/jackgreenlee/e-mission-server/emission/analysis/intake/cleaning/cleaning_methods/speed_outlier_detection.py:27: FutureWarning: The default value of numeric_only in DataFrame.quantile is deprecated. In a future version, it will default to False. Select only valid columns or specify the value of numeric_only to silence this warning.\n",
      "  quartile_vals = df_to_use.quantile([0.25, 0.75]).speed\n",
      "/Users/jackgreenlee/e-mission-server/emission/analysis/intake/cleaning/cleaning_methods/speed_outlier_detection.py:27: FutureWarning: The default value of numeric_only in DataFrame.quantile is deprecated. In a future version, it will default to False. Select only valid columns or specify the value of numeric_only to silence this warning.\n",
      "  quartile_vals = df_to_use.quantile([0.25, 0.75]).speed\n",
      "2025-02-10T02:50:06.005279-05:00**********UUID bb6c7318-52f7-4e0f-a51b-c3f802f3b567: inferring transportation mode**********\n",
      "2025-02-10T02:50:12.018659-05:00**********UUID bb6c7318-52f7-4e0f-a51b-c3f802f3b567: inferring labels**********\n",
      "2025-02-10T02:50:12.074847-05:00**********UUID bb6c7318-52f7-4e0f-a51b-c3f802f3b567: populating expectations**********\n",
      "2025-02-10T02:50:12.106625-05:00**********UUID bb6c7318-52f7-4e0f-a51b-c3f802f3b567: creating confirmed objects **********\n",
      "2025-02-10T02:50:13.291551-05:00**********UUID bb6c7318-52f7-4e0f-a51b-c3f802f3b567: creating composite objects **********\n",
      "2025-02-10T02:50:13.682037-05:00**********UUID bb6c7318-52f7-4e0f-a51b-c3f802f3b567: storing user stats **********\n",
      "2025-02-10T02:50:13.691944-05:00**********UUID bb6c7318-52f7-4e0f-a51b-c3f802f3b567: storing pipeline independent user stats **********\n",
      "Ran pipeline on vectorized_segmentation, TimeQuery data.ts with range [1739173802.22333, 1739173814.463706)\n"
     ]
    },
    {
     "data": {
      "text/html": [
       "<div>\n",
       "<style scoped>\n",
       "    .dataframe tbody tr th:only-of-type {\n",
       "        vertical-align: middle;\n",
       "    }\n",
       "\n",
       "    .dataframe tbody tr th {\n",
       "        vertical-align: top;\n",
       "    }\n",
       "\n",
       "    .dataframe thead th {\n",
       "        text-align: right;\n",
       "    }\n",
       "</style>\n",
       "<table border=\"1\" class=\"dataframe\">\n",
       "  <thead>\n",
       "    <tr style=\"text-align: right;\">\n",
       "      <th></th>\n",
       "      <th>start_ts</th>\n",
       "      <th>end_ts</th>\n",
       "    </tr>\n",
       "  </thead>\n",
       "  <tbody>\n",
       "    <tr>\n",
       "      <th>0</th>\n",
       "      <td>1470341031.23</td>\n",
       "      <td>1470342912.00</td>\n",
       "    </tr>\n",
       "    <tr>\n",
       "      <th>1</th>\n",
       "      <td>1470343292.14</td>\n",
       "      <td>1470351348.72</td>\n",
       "    </tr>\n",
       "    <tr>\n",
       "      <th>2</th>\n",
       "      <td>1470352238.74</td>\n",
       "      <td>1470352844.00</td>\n",
       "    </tr>\n",
       "    <tr>\n",
       "      <th>3</th>\n",
       "      <td>1470354036.96</td>\n",
       "      <td>1470354172.71</td>\n",
       "    </tr>\n",
       "    <tr>\n",
       "      <th>4</th>\n",
       "      <td>1470354386.56</td>\n",
       "      <td>1470355132.00</td>\n",
       "    </tr>\n",
       "    <tr>\n",
       "      <th>5</th>\n",
       "      <td>1470355612.59</td>\n",
       "      <td>1470355893.16</td>\n",
       "    </tr>\n",
       "    <tr>\n",
       "      <th>6</th>\n",
       "      <td>1470356315.84</td>\n",
       "      <td>1470357252.57</td>\n",
       "    </tr>\n",
       "    <tr>\n",
       "      <th>7</th>\n",
       "      <td>1470357578.29</td>\n",
       "      <td>1470363534.71</td>\n",
       "    </tr>\n",
       "    <tr>\n",
       "      <th>8</th>\n",
       "      <td>1470364485.74</td>\n",
       "      <td>1470364718.35</td>\n",
       "    </tr>\n",
       "  </tbody>\n",
       "</table>\n",
       "</div>"
      ],
      "text/plain": [
       "       start_ts        end_ts\n",
       "0 1470341031.23 1470342912.00\n",
       "1 1470343292.14 1470351348.72\n",
       "2 1470352238.74 1470352844.00\n",
       "3 1470354036.96 1470354172.71\n",
       "4 1470354386.56 1470355132.00\n",
       "5 1470355612.59 1470355893.16\n",
       "6 1470356315.84 1470357252.57\n",
       "7 1470357578.29 1470363534.71\n",
       "8 1470364485.74 1470364718.35"
      ]
     },
     "metadata": {},
     "output_type": "display_data"
    },
    {
     "name": "stdout",
     "output_type": "stream",
     "text": [
      "Switching back to vectorized_segmentation\n",
      "M\t.gitignore\n",
      "M\temission/storage/timeseries/builtin_timeseries.py\n",
      "Already on 'vectorized_segmentation'\n",
      "Your branch is up to date with 'jgreenlee/vectorized_segmentation'.\n"
     ]
    }
   ],
   "source": [
    "OPCODE = \"nrelop_dev-emulator-study_0\"\n",
    "DAYS = [\n",
    "    # \"shankari_2016-07-22\",\n",
    "    # \"shankari_2016-07-25\",\n",
    "    # \"shankari_2016-07-27\",\n",
    "    \"shankari_2016-08-04\",\n",
    "    # \"shankari_2016-08-05\",\n",
    "]\n",
    "\n",
    "print(f\"Loading {DAYS} for {OPCODE}\")\n",
    "!./e-mission-py.bash bin/debug/purge_user.py -e $opcode\n",
    "for DAY in DAYS:\n",
    "    !./e-mission-py.bash bin/debug/load_timeline_for_day_and_user.py emission/tests/data/real_examples/$DAY $OPCODE\n",
    "\n",
    "branches = {\n",
    "    '47ab8be28a1682f841b3d6a03cbe0f9fe0515e0f': { 'label': 'baseline'},\n",
    "    'master': { 'label': 'master' },\n",
    "    'fe6035ab43fa539235ad8bff982b1db5af615c3f': { 'label': 'vectorized_segmentation (draft 1)' },\n",
    "    'vectorized_segmentation': { 'label': 'vectorized_segmentation (current)' },\n",
    "}\n",
    "\n",
    "curr_branch_name_name = subprocess.check_output(['git', 'rev-parse', '--abbrev-ref', 'HEAD']).decode('utf-8').strip()\n",
    "\n",
    "for branch_name in branches.keys():\n",
    "    print(f\"Checking out {branch_name} to measure pipeline runtime\")\n",
    "    !git checkout $branch_name\n",
    "    !./e-mission-py.bash ./bin/reset_pipeline.py --all\n",
    "    with ect.Timer() as t:\n",
    "        !./e-mission-py.bash bin/debug/intake_single_user.py -e $OPCODE\n",
    "    \n",
    "    now = time.time()\n",
    "    tq = estt.TimeQuery(\"data.ts\", now - t.elapsed, now)\n",
    "    print(f\"Ran pipeline on {branch_name}, {tq}\")\n",
    "    branches[branch_name]['tq'] = tq\n",
    "\n",
    "    confirmed_trips_df = esta.TimeSeries.get_aggregate_time_series().get_data_df(\"analysis/confirmed_trip\")\n",
    "    pd.set_option('display.float_format', '{:.2f}'.format)\n",
    "    display(confirmed_trips_df[['start_ts', 'end_ts', ]])\n",
    "\n",
    "print(f\"Switching back to {curr_branch_name_name}\")\n",
    "!git checkout $curr_branch_name_name"
   ]
  },
  {
   "cell_type": "code",
   "execution_count": 112,
   "metadata": {},
   "outputs": [
    {
     "data": {
      "application/vnd.plotly.v1+json": {
       "config": {
        "plotlyServerURL": "https://plot.ly"
       },
       "data": [
        {
         "hovertemplate": "branch=baseline<br>reading=%{x}<br>name=%{y}<extra></extra>",
         "legendgroup": "baseline",
         "marker": {
          "color": "#636efa",
          "pattern": {
           "shape": ""
          }
         },
         "name": "baseline",
         "orientation": "h",
         "showlegend": true,
         "textposition": "auto",
         "type": "bar",
         "x": [
          0.0019392499999995039,
          0.006880333999998101,
          0.3576233749999993,
          1.140708,
          0.023257167000000578,
          0.06922116699999847,
          5.302295667000001,
          1.3801524589999996,
          0.1827789580000001,
          0.9459197079999999,
          8.941848834,
          0.003311708999999996,
          0.076280083,
          0.004907333999999985
         ],
         "xaxis": "x",
         "y": [
          "STORE_PIPELINE_INDEPENDENT_USER_STATS",
          "STORE_PIPELINE_DEPENDENT_USER_STATS",
          "CREATE_COMPOSITE_OBJECTS",
          "CREATE_CONFIRMED_OBJECTS",
          "EXPECTATION_POPULATION",
          "LABEL_INFERENCE",
          "MODE_INFERENCE",
          "CLEAN_RESAMPLING",
          "JUMP_SMOOTHING",
          "SECTION_SEGMENTATION",
          "TRIP_SEGMENTATION",
          "ACCURACY_FILTERING",
          "USER_INPUT_MATCH_INCOMING",
          "USERCACHE"
         ],
         "yaxis": "y"
        },
        {
         "hovertemplate": "branch=master<br>reading=%{x}<br>name=%{y}<extra></extra>",
         "legendgroup": "master",
         "marker": {
          "color": "#EF553B",
          "pattern": {
           "shape": ""
          }
         },
         "name": "master",
         "orientation": "h",
         "showlegend": true,
         "textposition": "auto",
         "type": "bar",
         "x": [
          0.0018427079999998597,
          0.007298374999999524,
          0.3737696669999995,
          1.2714510000000008,
          0.03460370899999887,
          0.07788366700000005,
          5.177300207999999,
          1.3825181249999998,
          0.16838075000000075,
          0.9536386669999999,
          3.4567968330000003,
          0.0034612090000000206,
          0.06668812499999999,
          0.008284083999999914
         ],
         "xaxis": "x",
         "y": [
          "STORE_PIPELINE_INDEPENDENT_USER_STATS",
          "STORE_PIPELINE_DEPENDENT_USER_STATS",
          "CREATE_COMPOSITE_OBJECTS",
          "CREATE_CONFIRMED_OBJECTS",
          "EXPECTATION_POPULATION",
          "LABEL_INFERENCE",
          "MODE_INFERENCE",
          "CLEAN_RESAMPLING",
          "JUMP_SMOOTHING",
          "SECTION_SEGMENTATION",
          "TRIP_SEGMENTATION",
          "ACCURACY_FILTERING",
          "USER_INPUT_MATCH_INCOMING",
          "USERCACHE"
         ],
         "yaxis": "y"
        },
        {
         "hovertemplate": "branch=vectorized_segmentation (draft 1)<br>reading=%{x}<br>name=%{y}<extra></extra>",
         "legendgroup": "vectorized_segmentation (draft 1)",
         "marker": {
          "color": "#00cc96",
          "pattern": {
           "shape": ""
          }
         },
         "name": "vectorized_segmentation (draft 1)",
         "orientation": "h",
         "showlegend": true,
         "textposition": "auto",
         "type": "bar",
         "x": [
          0.0018225409999992337,
          0.006880750000000546,
          0.3736381669999993,
          1.2287292080000007,
          0.03127429100000079,
          0.06492949999999986,
          5.23191225,
          1.3969667920000002,
          0.18679187499999994,
          0.953263542,
          0.853492834,
          0.003187083000000035,
          0.06712754199999993,
          0.005987999999999993
         ],
         "xaxis": "x",
         "y": [
          "STORE_PIPELINE_INDEPENDENT_USER_STATS",
          "STORE_PIPELINE_DEPENDENT_USER_STATS",
          "CREATE_COMPOSITE_OBJECTS",
          "CREATE_CONFIRMED_OBJECTS",
          "EXPECTATION_POPULATION",
          "LABEL_INFERENCE",
          "MODE_INFERENCE",
          "CLEAN_RESAMPLING",
          "JUMP_SMOOTHING",
          "SECTION_SEGMENTATION",
          "TRIP_SEGMENTATION",
          "ACCURACY_FILTERING",
          "USER_INPUT_MATCH_INCOMING",
          "USERCACHE"
         ],
         "yaxis": "y"
        },
        {
         "hovertemplate": "branch=vectorized_segmentation (current)<br>reading=%{x}<br>name=%{y}<extra></extra>",
         "legendgroup": "vectorized_segmentation (current)",
         "marker": {
          "color": "#ab63fa",
          "pattern": {
           "shape": ""
          }
         },
         "name": "vectorized_segmentation (current)",
         "orientation": "h",
         "showlegend": true,
         "textposition": "auto",
         "type": "bar",
         "x": [
          0.002225209000000561,
          0.009045916999999903,
          0.38992887499999895,
          1.185018207999999,
          0.03052633300000096,
          0.05444954100000032,
          6.016063958999999,
          1.3458779169999997,
          0.20792633300000007,
          0.9771890420000002,
          0.31735370799999996,
          0.0034841660000000108,
          0.06812312500000006,
          0.006023541999999993
         ],
         "xaxis": "x",
         "y": [
          "STORE_PIPELINE_INDEPENDENT_USER_STATS",
          "STORE_PIPELINE_DEPENDENT_USER_STATS",
          "CREATE_COMPOSITE_OBJECTS",
          "CREATE_CONFIRMED_OBJECTS",
          "EXPECTATION_POPULATION",
          "LABEL_INFERENCE",
          "MODE_INFERENCE",
          "CLEAN_RESAMPLING",
          "JUMP_SMOOTHING",
          "SECTION_SEGMENTATION",
          "TRIP_SEGMENTATION",
          "ACCURACY_FILTERING",
          "USER_INPUT_MATCH_INCOMING",
          "USERCACHE"
         ],
         "yaxis": "y"
        }
       ],
       "layout": {
        "barmode": "group",
        "legend": {
         "title": {
          "text": "branch"
         },
         "tracegroupgap": 0,
         "x": 1,
         "xanchor": "right",
         "y": 0,
         "yref": "container"
        },
        "margin": {
         "t": 60
        },
        "template": {
         "data": {
          "bar": [
           {
            "error_x": {
             "color": "#2a3f5f"
            },
            "error_y": {
             "color": "#2a3f5f"
            },
            "marker": {
             "line": {
              "color": "#E5ECF6",
              "width": 0.5
             },
             "pattern": {
              "fillmode": "overlay",
              "size": 10,
              "solidity": 0.2
             }
            },
            "type": "bar"
           }
          ],
          "barpolar": [
           {
            "marker": {
             "line": {
              "color": "#E5ECF6",
              "width": 0.5
             },
             "pattern": {
              "fillmode": "overlay",
              "size": 10,
              "solidity": 0.2
             }
            },
            "type": "barpolar"
           }
          ],
          "carpet": [
           {
            "aaxis": {
             "endlinecolor": "#2a3f5f",
             "gridcolor": "white",
             "linecolor": "white",
             "minorgridcolor": "white",
             "startlinecolor": "#2a3f5f"
            },
            "baxis": {
             "endlinecolor": "#2a3f5f",
             "gridcolor": "white",
             "linecolor": "white",
             "minorgridcolor": "white",
             "startlinecolor": "#2a3f5f"
            },
            "type": "carpet"
           }
          ],
          "choropleth": [
           {
            "colorbar": {
             "outlinewidth": 0,
             "ticks": ""
            },
            "type": "choropleth"
           }
          ],
          "contour": [
           {
            "colorbar": {
             "outlinewidth": 0,
             "ticks": ""
            },
            "colorscale": [
             [
              0,
              "#0d0887"
             ],
             [
              0.1111111111111111,
              "#46039f"
             ],
             [
              0.2222222222222222,
              "#7201a8"
             ],
             [
              0.3333333333333333,
              "#9c179e"
             ],
             [
              0.4444444444444444,
              "#bd3786"
             ],
             [
              0.5555555555555556,
              "#d8576b"
             ],
             [
              0.6666666666666666,
              "#ed7953"
             ],
             [
              0.7777777777777778,
              "#fb9f3a"
             ],
             [
              0.8888888888888888,
              "#fdca26"
             ],
             [
              1,
              "#f0f921"
             ]
            ],
            "type": "contour"
           }
          ],
          "contourcarpet": [
           {
            "colorbar": {
             "outlinewidth": 0,
             "ticks": ""
            },
            "type": "contourcarpet"
           }
          ],
          "heatmap": [
           {
            "colorbar": {
             "outlinewidth": 0,
             "ticks": ""
            },
            "colorscale": [
             [
              0,
              "#0d0887"
             ],
             [
              0.1111111111111111,
              "#46039f"
             ],
             [
              0.2222222222222222,
              "#7201a8"
             ],
             [
              0.3333333333333333,
              "#9c179e"
             ],
             [
              0.4444444444444444,
              "#bd3786"
             ],
             [
              0.5555555555555556,
              "#d8576b"
             ],
             [
              0.6666666666666666,
              "#ed7953"
             ],
             [
              0.7777777777777778,
              "#fb9f3a"
             ],
             [
              0.8888888888888888,
              "#fdca26"
             ],
             [
              1,
              "#f0f921"
             ]
            ],
            "type": "heatmap"
           }
          ],
          "histogram": [
           {
            "marker": {
             "pattern": {
              "fillmode": "overlay",
              "size": 10,
              "solidity": 0.2
             }
            },
            "type": "histogram"
           }
          ],
          "histogram2d": [
           {
            "colorbar": {
             "outlinewidth": 0,
             "ticks": ""
            },
            "colorscale": [
             [
              0,
              "#0d0887"
             ],
             [
              0.1111111111111111,
              "#46039f"
             ],
             [
              0.2222222222222222,
              "#7201a8"
             ],
             [
              0.3333333333333333,
              "#9c179e"
             ],
             [
              0.4444444444444444,
              "#bd3786"
             ],
             [
              0.5555555555555556,
              "#d8576b"
             ],
             [
              0.6666666666666666,
              "#ed7953"
             ],
             [
              0.7777777777777778,
              "#fb9f3a"
             ],
             [
              0.8888888888888888,
              "#fdca26"
             ],
             [
              1,
              "#f0f921"
             ]
            ],
            "type": "histogram2d"
           }
          ],
          "histogram2dcontour": [
           {
            "colorbar": {
             "outlinewidth": 0,
             "ticks": ""
            },
            "colorscale": [
             [
              0,
              "#0d0887"
             ],
             [
              0.1111111111111111,
              "#46039f"
             ],
             [
              0.2222222222222222,
              "#7201a8"
             ],
             [
              0.3333333333333333,
              "#9c179e"
             ],
             [
              0.4444444444444444,
              "#bd3786"
             ],
             [
              0.5555555555555556,
              "#d8576b"
             ],
             [
              0.6666666666666666,
              "#ed7953"
             ],
             [
              0.7777777777777778,
              "#fb9f3a"
             ],
             [
              0.8888888888888888,
              "#fdca26"
             ],
             [
              1,
              "#f0f921"
             ]
            ],
            "type": "histogram2dcontour"
           }
          ],
          "mesh3d": [
           {
            "colorbar": {
             "outlinewidth": 0,
             "ticks": ""
            },
            "type": "mesh3d"
           }
          ],
          "parcoords": [
           {
            "line": {
             "colorbar": {
              "outlinewidth": 0,
              "ticks": ""
             }
            },
            "type": "parcoords"
           }
          ],
          "pie": [
           {
            "automargin": true,
            "type": "pie"
           }
          ],
          "scatter": [
           {
            "fillpattern": {
             "fillmode": "overlay",
             "size": 10,
             "solidity": 0.2
            },
            "type": "scatter"
           }
          ],
          "scatter3d": [
           {
            "line": {
             "colorbar": {
              "outlinewidth": 0,
              "ticks": ""
             }
            },
            "marker": {
             "colorbar": {
              "outlinewidth": 0,
              "ticks": ""
             }
            },
            "type": "scatter3d"
           }
          ],
          "scattercarpet": [
           {
            "marker": {
             "colorbar": {
              "outlinewidth": 0,
              "ticks": ""
             }
            },
            "type": "scattercarpet"
           }
          ],
          "scattergeo": [
           {
            "marker": {
             "colorbar": {
              "outlinewidth": 0,
              "ticks": ""
             }
            },
            "type": "scattergeo"
           }
          ],
          "scattergl": [
           {
            "marker": {
             "colorbar": {
              "outlinewidth": 0,
              "ticks": ""
             }
            },
            "type": "scattergl"
           }
          ],
          "scattermap": [
           {
            "marker": {
             "colorbar": {
              "outlinewidth": 0,
              "ticks": ""
             }
            },
            "type": "scattermap"
           }
          ],
          "scattermapbox": [
           {
            "marker": {
             "colorbar": {
              "outlinewidth": 0,
              "ticks": ""
             }
            },
            "type": "scattermapbox"
           }
          ],
          "scatterpolar": [
           {
            "marker": {
             "colorbar": {
              "outlinewidth": 0,
              "ticks": ""
             }
            },
            "type": "scatterpolar"
           }
          ],
          "scatterpolargl": [
           {
            "marker": {
             "colorbar": {
              "outlinewidth": 0,
              "ticks": ""
             }
            },
            "type": "scatterpolargl"
           }
          ],
          "scatterternary": [
           {
            "marker": {
             "colorbar": {
              "outlinewidth": 0,
              "ticks": ""
             }
            },
            "type": "scatterternary"
           }
          ],
          "surface": [
           {
            "colorbar": {
             "outlinewidth": 0,
             "ticks": ""
            },
            "colorscale": [
             [
              0,
              "#0d0887"
             ],
             [
              0.1111111111111111,
              "#46039f"
             ],
             [
              0.2222222222222222,
              "#7201a8"
             ],
             [
              0.3333333333333333,
              "#9c179e"
             ],
             [
              0.4444444444444444,
              "#bd3786"
             ],
             [
              0.5555555555555556,
              "#d8576b"
             ],
             [
              0.6666666666666666,
              "#ed7953"
             ],
             [
              0.7777777777777778,
              "#fb9f3a"
             ],
             [
              0.8888888888888888,
              "#fdca26"
             ],
             [
              1,
              "#f0f921"
             ]
            ],
            "type": "surface"
           }
          ],
          "table": [
           {
            "cells": {
             "fill": {
              "color": "#EBF0F8"
             },
             "line": {
              "color": "white"
             }
            },
            "header": {
             "fill": {
              "color": "#C8D4E3"
             },
             "line": {
              "color": "white"
             }
            },
            "type": "table"
           }
          ]
         },
         "layout": {
          "annotationdefaults": {
           "arrowcolor": "#2a3f5f",
           "arrowhead": 0,
           "arrowwidth": 1
          },
          "autotypenumbers": "strict",
          "coloraxis": {
           "colorbar": {
            "outlinewidth": 0,
            "ticks": ""
           }
          },
          "colorscale": {
           "diverging": [
            [
             0,
             "#8e0152"
            ],
            [
             0.1,
             "#c51b7d"
            ],
            [
             0.2,
             "#de77ae"
            ],
            [
             0.3,
             "#f1b6da"
            ],
            [
             0.4,
             "#fde0ef"
            ],
            [
             0.5,
             "#f7f7f7"
            ],
            [
             0.6,
             "#e6f5d0"
            ],
            [
             0.7,
             "#b8e186"
            ],
            [
             0.8,
             "#7fbc41"
            ],
            [
             0.9,
             "#4d9221"
            ],
            [
             1,
             "#276419"
            ]
           ],
           "sequential": [
            [
             0,
             "#0d0887"
            ],
            [
             0.1111111111111111,
             "#46039f"
            ],
            [
             0.2222222222222222,
             "#7201a8"
            ],
            [
             0.3333333333333333,
             "#9c179e"
            ],
            [
             0.4444444444444444,
             "#bd3786"
            ],
            [
             0.5555555555555556,
             "#d8576b"
            ],
            [
             0.6666666666666666,
             "#ed7953"
            ],
            [
             0.7777777777777778,
             "#fb9f3a"
            ],
            [
             0.8888888888888888,
             "#fdca26"
            ],
            [
             1,
             "#f0f921"
            ]
           ],
           "sequentialminus": [
            [
             0,
             "#0d0887"
            ],
            [
             0.1111111111111111,
             "#46039f"
            ],
            [
             0.2222222222222222,
             "#7201a8"
            ],
            [
             0.3333333333333333,
             "#9c179e"
            ],
            [
             0.4444444444444444,
             "#bd3786"
            ],
            [
             0.5555555555555556,
             "#d8576b"
            ],
            [
             0.6666666666666666,
             "#ed7953"
            ],
            [
             0.7777777777777778,
             "#fb9f3a"
            ],
            [
             0.8888888888888888,
             "#fdca26"
            ],
            [
             1,
             "#f0f921"
            ]
           ]
          },
          "colorway": [
           "#636efa",
           "#EF553B",
           "#00cc96",
           "#ab63fa",
           "#FFA15A",
           "#19d3f3",
           "#FF6692",
           "#B6E880",
           "#FF97FF",
           "#FECB52"
          ],
          "font": {
           "color": "#2a3f5f"
          },
          "geo": {
           "bgcolor": "white",
           "lakecolor": "white",
           "landcolor": "#E5ECF6",
           "showlakes": true,
           "showland": true,
           "subunitcolor": "white"
          },
          "hoverlabel": {
           "align": "left"
          },
          "hovermode": "closest",
          "mapbox": {
           "style": "light"
          },
          "paper_bgcolor": "white",
          "plot_bgcolor": "#E5ECF6",
          "polar": {
           "angularaxis": {
            "gridcolor": "white",
            "linecolor": "white",
            "ticks": ""
           },
           "bgcolor": "#E5ECF6",
           "radialaxis": {
            "gridcolor": "white",
            "linecolor": "white",
            "ticks": ""
           }
          },
          "scene": {
           "xaxis": {
            "backgroundcolor": "#E5ECF6",
            "gridcolor": "white",
            "gridwidth": 2,
            "linecolor": "white",
            "showbackground": true,
            "ticks": "",
            "zerolinecolor": "white"
           },
           "yaxis": {
            "backgroundcolor": "#E5ECF6",
            "gridcolor": "white",
            "gridwidth": 2,
            "linecolor": "white",
            "showbackground": true,
            "ticks": "",
            "zerolinecolor": "white"
           },
           "zaxis": {
            "backgroundcolor": "#E5ECF6",
            "gridcolor": "white",
            "gridwidth": 2,
            "linecolor": "white",
            "showbackground": true,
            "ticks": "",
            "zerolinecolor": "white"
           }
          },
          "shapedefaults": {
           "line": {
            "color": "#2a3f5f"
           }
          },
          "ternary": {
           "aaxis": {
            "gridcolor": "white",
            "linecolor": "white",
            "ticks": ""
           },
           "baxis": {
            "gridcolor": "white",
            "linecolor": "white",
            "ticks": ""
           },
           "bgcolor": "#E5ECF6",
           "caxis": {
            "gridcolor": "white",
            "linecolor": "white",
            "ticks": ""
           }
          },
          "title": {
           "x": 0.05
          },
          "xaxis": {
           "automargin": true,
           "gridcolor": "white",
           "linecolor": "white",
           "ticks": "",
           "title": {
            "standoff": 15
           },
           "zerolinecolor": "white",
           "zerolinewidth": 2
          },
          "yaxis": {
           "automargin": true,
           "gridcolor": "white",
           "linecolor": "white",
           "ticks": "",
           "title": {
            "standoff": 15
           },
           "zerolinecolor": "white",
           "zerolinewidth": 2
          }
         }
        },
        "title": {
         "text": "Pipeline stage runtimes ['shankari_2016-08-04']"
        },
        "xaxis": {
         "anchor": "y",
         "domain": [
          0,
          1
         ],
         "title": {
          "text": "reading"
         }
        },
        "yaxis": {
         "anchor": "x",
         "domain": [
          0,
          1
         ],
         "dtick": 1,
         "title": {
          "text": "name"
         }
        }
       }
      }
     },
     "metadata": {},
     "output_type": "display_data"
    },
    {
     "data": {
      "application/vnd.plotly.v1+json": {
       "config": {
        "plotlyServerURL": "https://plot.ly"
       },
       "data": [
        {
         "hovertemplate": "branch=baseline<br>reading=%{x}<br>name=%{y}<extra></extra>",
         "legendgroup": "baseline",
         "marker": {
          "color": "#636efa",
          "pattern": {
           "shape": ""
          }
         },
         "name": "baseline",
         "orientation": "h",
         "showlegend": true,
         "textposition": "auto",
         "type": "bar",
         "x": [
          8.941848834
         ],
         "xaxis": "x",
         "y": [
          "TRIP_SEGMENTATION"
         ],
         "yaxis": "y"
        },
        {
         "hovertemplate": "branch=master<br>reading=%{x}<br>name=%{y}<extra></extra>",
         "legendgroup": "master",
         "marker": {
          "color": "#EF553B",
          "pattern": {
           "shape": ""
          }
         },
         "name": "master",
         "orientation": "h",
         "showlegend": true,
         "textposition": "auto",
         "type": "bar",
         "x": [
          3.4567968330000003
         ],
         "xaxis": "x",
         "y": [
          "TRIP_SEGMENTATION"
         ],
         "yaxis": "y"
        },
        {
         "hovertemplate": "branch=vectorized_segmentation (draft 1)<br>reading=%{x}<br>name=%{y}<extra></extra>",
         "legendgroup": "vectorized_segmentation (draft 1)",
         "marker": {
          "color": "#00cc96",
          "pattern": {
           "shape": ""
          }
         },
         "name": "vectorized_segmentation (draft 1)",
         "orientation": "h",
         "showlegend": true,
         "textposition": "auto",
         "type": "bar",
         "x": [
          0.853492834
         ],
         "xaxis": "x",
         "y": [
          "TRIP_SEGMENTATION"
         ],
         "yaxis": "y"
        },
        {
         "hovertemplate": "branch=vectorized_segmentation (current)<br>reading=%{x}<br>name=%{y}<extra></extra>",
         "legendgroup": "vectorized_segmentation (current)",
         "marker": {
          "color": "#ab63fa",
          "pattern": {
           "shape": ""
          }
         },
         "name": "vectorized_segmentation (current)",
         "orientation": "h",
         "showlegend": true,
         "textposition": "auto",
         "type": "bar",
         "x": [
          0.31735370799999996
         ],
         "xaxis": "x",
         "y": [
          "TRIP_SEGMENTATION"
         ],
         "yaxis": "y"
        }
       ],
       "layout": {
        "barmode": "group",
        "legend": {
         "title": {
          "text": "branch"
         },
         "tracegroupgap": 0,
         "x": 1,
         "xanchor": "right",
         "y": 0,
         "yref": "container"
        },
        "margin": {
         "t": 60
        },
        "template": {
         "data": {
          "bar": [
           {
            "error_x": {
             "color": "#2a3f5f"
            },
            "error_y": {
             "color": "#2a3f5f"
            },
            "marker": {
             "line": {
              "color": "#E5ECF6",
              "width": 0.5
             },
             "pattern": {
              "fillmode": "overlay",
              "size": 10,
              "solidity": 0.2
             }
            },
            "type": "bar"
           }
          ],
          "barpolar": [
           {
            "marker": {
             "line": {
              "color": "#E5ECF6",
              "width": 0.5
             },
             "pattern": {
              "fillmode": "overlay",
              "size": 10,
              "solidity": 0.2
             }
            },
            "type": "barpolar"
           }
          ],
          "carpet": [
           {
            "aaxis": {
             "endlinecolor": "#2a3f5f",
             "gridcolor": "white",
             "linecolor": "white",
             "minorgridcolor": "white",
             "startlinecolor": "#2a3f5f"
            },
            "baxis": {
             "endlinecolor": "#2a3f5f",
             "gridcolor": "white",
             "linecolor": "white",
             "minorgridcolor": "white",
             "startlinecolor": "#2a3f5f"
            },
            "type": "carpet"
           }
          ],
          "choropleth": [
           {
            "colorbar": {
             "outlinewidth": 0,
             "ticks": ""
            },
            "type": "choropleth"
           }
          ],
          "contour": [
           {
            "colorbar": {
             "outlinewidth": 0,
             "ticks": ""
            },
            "colorscale": [
             [
              0,
              "#0d0887"
             ],
             [
              0.1111111111111111,
              "#46039f"
             ],
             [
              0.2222222222222222,
              "#7201a8"
             ],
             [
              0.3333333333333333,
              "#9c179e"
             ],
             [
              0.4444444444444444,
              "#bd3786"
             ],
             [
              0.5555555555555556,
              "#d8576b"
             ],
             [
              0.6666666666666666,
              "#ed7953"
             ],
             [
              0.7777777777777778,
              "#fb9f3a"
             ],
             [
              0.8888888888888888,
              "#fdca26"
             ],
             [
              1,
              "#f0f921"
             ]
            ],
            "type": "contour"
           }
          ],
          "contourcarpet": [
           {
            "colorbar": {
             "outlinewidth": 0,
             "ticks": ""
            },
            "type": "contourcarpet"
           }
          ],
          "heatmap": [
           {
            "colorbar": {
             "outlinewidth": 0,
             "ticks": ""
            },
            "colorscale": [
             [
              0,
              "#0d0887"
             ],
             [
              0.1111111111111111,
              "#46039f"
             ],
             [
              0.2222222222222222,
              "#7201a8"
             ],
             [
              0.3333333333333333,
              "#9c179e"
             ],
             [
              0.4444444444444444,
              "#bd3786"
             ],
             [
              0.5555555555555556,
              "#d8576b"
             ],
             [
              0.6666666666666666,
              "#ed7953"
             ],
             [
              0.7777777777777778,
              "#fb9f3a"
             ],
             [
              0.8888888888888888,
              "#fdca26"
             ],
             [
              1,
              "#f0f921"
             ]
            ],
            "type": "heatmap"
           }
          ],
          "histogram": [
           {
            "marker": {
             "pattern": {
              "fillmode": "overlay",
              "size": 10,
              "solidity": 0.2
             }
            },
            "type": "histogram"
           }
          ],
          "histogram2d": [
           {
            "colorbar": {
             "outlinewidth": 0,
             "ticks": ""
            },
            "colorscale": [
             [
              0,
              "#0d0887"
             ],
             [
              0.1111111111111111,
              "#46039f"
             ],
             [
              0.2222222222222222,
              "#7201a8"
             ],
             [
              0.3333333333333333,
              "#9c179e"
             ],
             [
              0.4444444444444444,
              "#bd3786"
             ],
             [
              0.5555555555555556,
              "#d8576b"
             ],
             [
              0.6666666666666666,
              "#ed7953"
             ],
             [
              0.7777777777777778,
              "#fb9f3a"
             ],
             [
              0.8888888888888888,
              "#fdca26"
             ],
             [
              1,
              "#f0f921"
             ]
            ],
            "type": "histogram2d"
           }
          ],
          "histogram2dcontour": [
           {
            "colorbar": {
             "outlinewidth": 0,
             "ticks": ""
            },
            "colorscale": [
             [
              0,
              "#0d0887"
             ],
             [
              0.1111111111111111,
              "#46039f"
             ],
             [
              0.2222222222222222,
              "#7201a8"
             ],
             [
              0.3333333333333333,
              "#9c179e"
             ],
             [
              0.4444444444444444,
              "#bd3786"
             ],
             [
              0.5555555555555556,
              "#d8576b"
             ],
             [
              0.6666666666666666,
              "#ed7953"
             ],
             [
              0.7777777777777778,
              "#fb9f3a"
             ],
             [
              0.8888888888888888,
              "#fdca26"
             ],
             [
              1,
              "#f0f921"
             ]
            ],
            "type": "histogram2dcontour"
           }
          ],
          "mesh3d": [
           {
            "colorbar": {
             "outlinewidth": 0,
             "ticks": ""
            },
            "type": "mesh3d"
           }
          ],
          "parcoords": [
           {
            "line": {
             "colorbar": {
              "outlinewidth": 0,
              "ticks": ""
             }
            },
            "type": "parcoords"
           }
          ],
          "pie": [
           {
            "automargin": true,
            "type": "pie"
           }
          ],
          "scatter": [
           {
            "fillpattern": {
             "fillmode": "overlay",
             "size": 10,
             "solidity": 0.2
            },
            "type": "scatter"
           }
          ],
          "scatter3d": [
           {
            "line": {
             "colorbar": {
              "outlinewidth": 0,
              "ticks": ""
             }
            },
            "marker": {
             "colorbar": {
              "outlinewidth": 0,
              "ticks": ""
             }
            },
            "type": "scatter3d"
           }
          ],
          "scattercarpet": [
           {
            "marker": {
             "colorbar": {
              "outlinewidth": 0,
              "ticks": ""
             }
            },
            "type": "scattercarpet"
           }
          ],
          "scattergeo": [
           {
            "marker": {
             "colorbar": {
              "outlinewidth": 0,
              "ticks": ""
             }
            },
            "type": "scattergeo"
           }
          ],
          "scattergl": [
           {
            "marker": {
             "colorbar": {
              "outlinewidth": 0,
              "ticks": ""
             }
            },
            "type": "scattergl"
           }
          ],
          "scattermap": [
           {
            "marker": {
             "colorbar": {
              "outlinewidth": 0,
              "ticks": ""
             }
            },
            "type": "scattermap"
           }
          ],
          "scattermapbox": [
           {
            "marker": {
             "colorbar": {
              "outlinewidth": 0,
              "ticks": ""
             }
            },
            "type": "scattermapbox"
           }
          ],
          "scatterpolar": [
           {
            "marker": {
             "colorbar": {
              "outlinewidth": 0,
              "ticks": ""
             }
            },
            "type": "scatterpolar"
           }
          ],
          "scatterpolargl": [
           {
            "marker": {
             "colorbar": {
              "outlinewidth": 0,
              "ticks": ""
             }
            },
            "type": "scatterpolargl"
           }
          ],
          "scatterternary": [
           {
            "marker": {
             "colorbar": {
              "outlinewidth": 0,
              "ticks": ""
             }
            },
            "type": "scatterternary"
           }
          ],
          "surface": [
           {
            "colorbar": {
             "outlinewidth": 0,
             "ticks": ""
            },
            "colorscale": [
             [
              0,
              "#0d0887"
             ],
             [
              0.1111111111111111,
              "#46039f"
             ],
             [
              0.2222222222222222,
              "#7201a8"
             ],
             [
              0.3333333333333333,
              "#9c179e"
             ],
             [
              0.4444444444444444,
              "#bd3786"
             ],
             [
              0.5555555555555556,
              "#d8576b"
             ],
             [
              0.6666666666666666,
              "#ed7953"
             ],
             [
              0.7777777777777778,
              "#fb9f3a"
             ],
             [
              0.8888888888888888,
              "#fdca26"
             ],
             [
              1,
              "#f0f921"
             ]
            ],
            "type": "surface"
           }
          ],
          "table": [
           {
            "cells": {
             "fill": {
              "color": "#EBF0F8"
             },
             "line": {
              "color": "white"
             }
            },
            "header": {
             "fill": {
              "color": "#C8D4E3"
             },
             "line": {
              "color": "white"
             }
            },
            "type": "table"
           }
          ]
         },
         "layout": {
          "annotationdefaults": {
           "arrowcolor": "#2a3f5f",
           "arrowhead": 0,
           "arrowwidth": 1
          },
          "autotypenumbers": "strict",
          "coloraxis": {
           "colorbar": {
            "outlinewidth": 0,
            "ticks": ""
           }
          },
          "colorscale": {
           "diverging": [
            [
             0,
             "#8e0152"
            ],
            [
             0.1,
             "#c51b7d"
            ],
            [
             0.2,
             "#de77ae"
            ],
            [
             0.3,
             "#f1b6da"
            ],
            [
             0.4,
             "#fde0ef"
            ],
            [
             0.5,
             "#f7f7f7"
            ],
            [
             0.6,
             "#e6f5d0"
            ],
            [
             0.7,
             "#b8e186"
            ],
            [
             0.8,
             "#7fbc41"
            ],
            [
             0.9,
             "#4d9221"
            ],
            [
             1,
             "#276419"
            ]
           ],
           "sequential": [
            [
             0,
             "#0d0887"
            ],
            [
             0.1111111111111111,
             "#46039f"
            ],
            [
             0.2222222222222222,
             "#7201a8"
            ],
            [
             0.3333333333333333,
             "#9c179e"
            ],
            [
             0.4444444444444444,
             "#bd3786"
            ],
            [
             0.5555555555555556,
             "#d8576b"
            ],
            [
             0.6666666666666666,
             "#ed7953"
            ],
            [
             0.7777777777777778,
             "#fb9f3a"
            ],
            [
             0.8888888888888888,
             "#fdca26"
            ],
            [
             1,
             "#f0f921"
            ]
           ],
           "sequentialminus": [
            [
             0,
             "#0d0887"
            ],
            [
             0.1111111111111111,
             "#46039f"
            ],
            [
             0.2222222222222222,
             "#7201a8"
            ],
            [
             0.3333333333333333,
             "#9c179e"
            ],
            [
             0.4444444444444444,
             "#bd3786"
            ],
            [
             0.5555555555555556,
             "#d8576b"
            ],
            [
             0.6666666666666666,
             "#ed7953"
            ],
            [
             0.7777777777777778,
             "#fb9f3a"
            ],
            [
             0.8888888888888888,
             "#fdca26"
            ],
            [
             1,
             "#f0f921"
            ]
           ]
          },
          "colorway": [
           "#636efa",
           "#EF553B",
           "#00cc96",
           "#ab63fa",
           "#FFA15A",
           "#19d3f3",
           "#FF6692",
           "#B6E880",
           "#FF97FF",
           "#FECB52"
          ],
          "font": {
           "color": "#2a3f5f"
          },
          "geo": {
           "bgcolor": "white",
           "lakecolor": "white",
           "landcolor": "#E5ECF6",
           "showlakes": true,
           "showland": true,
           "subunitcolor": "white"
          },
          "hoverlabel": {
           "align": "left"
          },
          "hovermode": "closest",
          "mapbox": {
           "style": "light"
          },
          "paper_bgcolor": "white",
          "plot_bgcolor": "#E5ECF6",
          "polar": {
           "angularaxis": {
            "gridcolor": "white",
            "linecolor": "white",
            "ticks": ""
           },
           "bgcolor": "#E5ECF6",
           "radialaxis": {
            "gridcolor": "white",
            "linecolor": "white",
            "ticks": ""
           }
          },
          "scene": {
           "xaxis": {
            "backgroundcolor": "#E5ECF6",
            "gridcolor": "white",
            "gridwidth": 2,
            "linecolor": "white",
            "showbackground": true,
            "ticks": "",
            "zerolinecolor": "white"
           },
           "yaxis": {
            "backgroundcolor": "#E5ECF6",
            "gridcolor": "white",
            "gridwidth": 2,
            "linecolor": "white",
            "showbackground": true,
            "ticks": "",
            "zerolinecolor": "white"
           },
           "zaxis": {
            "backgroundcolor": "#E5ECF6",
            "gridcolor": "white",
            "gridwidth": 2,
            "linecolor": "white",
            "showbackground": true,
            "ticks": "",
            "zerolinecolor": "white"
           }
          },
          "shapedefaults": {
           "line": {
            "color": "#2a3f5f"
           }
          },
          "ternary": {
           "aaxis": {
            "gridcolor": "white",
            "linecolor": "white",
            "ticks": ""
           },
           "baxis": {
            "gridcolor": "white",
            "linecolor": "white",
            "ticks": ""
           },
           "bgcolor": "#E5ECF6",
           "caxis": {
            "gridcolor": "white",
            "linecolor": "white",
            "ticks": ""
           }
          },
          "title": {
           "x": 0.05
          },
          "xaxis": {
           "automargin": true,
           "gridcolor": "white",
           "linecolor": "white",
           "ticks": "",
           "title": {
            "standoff": 15
           },
           "zerolinecolor": "white",
           "zerolinewidth": 2
          },
          "yaxis": {
           "automargin": true,
           "gridcolor": "white",
           "linecolor": "white",
           "ticks": "",
           "title": {
            "standoff": 15
           },
           "zerolinecolor": "white",
           "zerolinewidth": 2
          }
         }
        },
        "title": {
         "text": "Pipeline stage runtimes ['shankari_2016-08-04']"
        },
        "xaxis": {
         "anchor": "y",
         "domain": [
          0,
          1
         ],
         "title": {
          "text": "reading"
         }
        },
        "yaxis": {
         "anchor": "x",
         "domain": [
          0,
          1
         ],
         "dtick": 1,
         "title": {
          "text": "name"
         }
        }
       }
      }
     },
     "metadata": {},
     "output_type": "display_data"
    }
   ],
   "source": [
    "ts = esta.TimeSeries.get_aggregate_time_series()\n",
    "\n",
    "pipeline_stats_dfs = [\n",
    "    ts.get_data_df('stats/pipeline_time', time_query=branch_info['tq']).assign(branch=branch_info['label'])\n",
    "    for branch_name, branch_info in branches.items()\n",
    "]\n",
    "pipeline_stats_df = pd.concat(pipeline_stats_dfs)\n",
    "\n",
    "pipeline_stages_df = pipeline_stats_df[\n",
    "    pipeline_stats_df['name'].str.isupper() & ~pipeline_stats_df['name'].str.contains('/')\n",
    "]\n",
    "trip_segmentation_stage_df = pipeline_stages_df[\n",
    "    pipeline_stages_df['name'] == 'TRIP_SEGMENTATION'\n",
    "]\n",
    "\n",
    "for df in [pipeline_stages_df, trip_segmentation_stage_df]:\n",
    "    fig = px.bar(\n",
    "        df,\n",
    "        y=\"name\",\n",
    "        x=\"reading\",\n",
    "        color=\"branch\",\n",
    "        orientation=\"h\",\n",
    "    )\n",
    "    fig.update_layout(\n",
    "        title=f\"Pipeline stage runtimes {DAYS}\",\n",
    "        barmode='group',\n",
    "        yaxis=dict(dtick=1),\n",
    "        legend=dict(yref=\"container\", xanchor=\"right\", x=1, y=0),\n",
    "    )\n",
    "    fig.show()"
   ]
  },
  {
   "cell_type": "code",
   "execution_count": 106,
   "metadata": {},
   "outputs": [
    {
     "data": {
      "application/vnd.plotly.v1+json": {
       "config": {
        "plotlyServerURL": "https://plot.ly"
       },
       "data": [
        {
         "hovertemplate": "branch=baseline<br>reading=%{x}<br>name=%{y}<extra></extra>",
         "legendgroup": "baseline",
         "marker": {
          "color": "#636efa",
          "pattern": {
           "shape": ""
          }
         },
         "name": "baseline",
         "orientation": "h",
         "showlegend": true,
         "textposition": "auto",
         "type": "bar",
         "x": [
          0.04223612500000007,
          0.00005383400000003036,
          0.010303291999999908,
          0.006815042000000049,
          0.00987487500000006,
          0.009242167000000023,
          0.009106999999999976,
          0.007940292000000015,
          0.010234583999999991,
          0.008934708000000069,
          0.007580208000000033,
          0.006295874999999951,
          0.00930108399999996,
          0.008129249999999977,
          0.009604292000000014,
          0.008929500000000035,
          0.009670375000000009,
          0.008524707999999936,
          0.00880837500000009,
          0.008676166999999957,
          0.009220249999999819,
          0.010254624999999962,
          0.008731000000000044,
          0.009087375000000009,
          0.0245976670000001,
          0.0071990829999999395,
          0.006473458999999959,
          0.008657083999999982,
          0.00942091700000014,
          0.008721666999999877,
          0.00959945800000006,
          0.008524457999999902,
          0.010603750000000023,
          0.010893708000000002,
          0.008470583000000032,
          0.009911916000000076,
          0.009322416999999916,
          0.009982292000000115,
          0.009568250000000056,
          0.01023474999999996,
          0.010914832999999957,
          0.010078957999999805,
          0.010462791000000138,
          0.009850208999999888,
          0.009735542000000041,
          0.009149083000000058,
          0.007660458000000148,
          0.012919249999999938,
          0.0061708340000001805,
          0.006130166000000159,
          0.00972100000000009,
          0.007692500000000102,
          0.0067194159999999226,
          0.012556291999999969,
          0.008409082999999873,
          0.0064795830000001775,
          0.00997625000000002,
          0.006816707999999894,
          0.007811750000000117,
          0.005871541999999952,
          0.010271875000000152,
          0.008946584000000035,
          0.006323333000000098,
          0.010069125000000012,
          0.005987625000000163,
          0.007486791999999909,
          0.006431124999999982,
          0.006003707999999941,
          0.006134582999999916,
          0.005564042000000047,
          0.00592024999999996,
          0.005914624999999951,
          0.009780417000000208,
          0.007602541000000018,
          0.008007333000000116,
          0.006490791000000051,
          0.007038290999999974,
          0.006119832999999852,
          0.005824540999999961,
          0.006024958000000025,
          0.007318625000000134,
          0.005897291000000138,
          0.010794208999999944,
          0.007869750000000009,
          0.008458958000000072,
          0.009697124999999973,
          0.00868379099999994,
          0.006399875000000055,
          0.009070667000000032,
          0.007307167000000003,
          0.008518375000000189,
          0.009284166000000038,
          0.010677916999999981,
          0.00004729199999986555,
          0.009266875000000008,
          0.010436042000000034,
          0.008899167000000041,
          0.008198957999999923,
          0.007863166000000144,
          0.011097166999999963,
          0.00882104100000003,
          0.010678042000000332,
          0.009910958999999941,
          0.009529957999999894,
          0.00899545799999979,
          0.008076167000000023,
          0.006405958000000211,
          0.009589333999999727,
          0.010174499999999753,
          0.009495083000000015,
          0.00853745799999972,
          0.009106208000000393,
          0.006858290999999905,
          0.00626850000000001,
          0.006004040999999738,
          0.0060783339999996855,
          0.005930250000000026,
          0.00598412500000034,
          0.006131292000000066,
          0.00624029100000012,
          0.0067491249999998,
          0.00797879200000029,
          0.006077500000000402,
          0.009234499999999812,
          0.006278707999999966,
          0.007366625000000404,
          0.00808624999999985,
          0.008895084000000164,
          0.006516374999999908,
          0.009686249999999674,
          0.00979687500000015,
          0.007314249999999856,
          0.009867916000000143,
          0.006394165999999757,
          0.007838000000000012,
          0.006366416000000097,
          0.008722750000000001,
          0.009237499999999788,
          0.010098708000000123,
          0.006967249999999758,
          0.006250958000000306,
          0.00695870799999998,
          0.0063892079999998685,
          0.006009791999999958,
          0.006235708999999812,
          0.012863999999999987,
          0.006275916999999964,
          0.008248125000000162,
          0.006793249999999862,
          0.009806291999999939,
          0.009285957999999983,
          0.010044582999999996,
          0.008815916999999729,
          0.008640082999999965,
          0.010878207999999834,
          0.01120141600000002,
          0.007201958000000008,
          0.011868583000000044,
          0.00658270800000027,
          0.0066095409999999966,
          0.006869082999999776,
          0.006360915999999772,
          0.006434625000000249,
          0.006258834000000046,
          0.00609716700000007,
          0.0061761659999999274,
          0.009720375000000114,
          0.006251666999999905,
          0.008514708999999954,
          0.008892749999999783,
          0.009011332999999677,
          0.009613125,
          0.006037999999999766,
          0.006936832999999698,
          0.008545625000000001,
          0.00841208300000007,
          0.006325209000000331,
          0.008611750000000029,
          0.008777625000000011,
          0.008689874999999958,
          0.007221458999999708,
          0.008402084000000087,
          0.008215083999999706,
          0.009415542000000166,
          0.006946166000000087,
          0.008452874999999693,
          0.008844040999999692,
          0.009603666999999927,
          0.008704124999999951,
          0.008286666000000054,
          0.008941624999999842,
          0.006524208000000087,
          0.009982500000000005,
          0.009334332999999972,
          0.009741291000000096,
          0.009527333000000304,
          0.01195175000000015,
          0.009805624999999818,
          0.006739916999999984,
          0.0099468749999998,
          0.009721084000000157,
          0.01938316699999998,
          0.0069460839999999635,
          0.007562124999999753,
          0.006815334000000117,
          0.006339083999999939,
          0.006456666999999694,
          0.006345041999999967,
          0.006305291000000324,
          0.007177333000000008,
          0.00667370899999975,
          0.006068874999999974,
          0.006195665999999989,
          0.006230249999999771,
          0.010037666000000112,
          0.007022000000000084,
          0.007229042000000074,
          0.006983666999999638,
          0.009492958000000051,
          0.008777749999999696,
          0.009287749999999928,
          0.008598167000000156,
          0.009087750000000394,
          0.010873750000000015,
          0.010737416999999638,
          0.00936249999999994,
          0.009542917000000095,
          0.014196791999999903,
          0.0070584170000000945,
          0.00792624999999969,
          0.010098375000000104,
          0.008881750000000022,
          0.010009124999999841,
          0.006865707999999859,
          0.006953082999999971,
          0.009172416999999822,
          0.009512583000000241,
          0.010086625000000016,
          0.010052792000000199,
          0.010005834000000213,
          0.008667249999999793,
          0.008920625000000015,
          0.008698207999999763,
          0.008587125000000029,
          0.008805333000000193,
          0.008825583000000137,
          0.006628458000000226,
          0.0076317919999997486,
          0.00641999999999987,
          0.006016832999999888,
          0.005632832999999948,
          0.007160583999999748,
          0.0062530419999999864,
          0.005949374999999701,
          0.008888582999999617,
          0.006921708999999776,
          0.007754999999999956,
          0.008977708000000195,
          0.01111583400000038,
          0.009091290999999835,
          0.007451167000000147,
          0.007937333000000102,
          0.008438583000000222,
          0.007969666999999792,
          0.008912750000000358,
          0.010430583000000215,
          0.007726791000000066,
          0.009342750000000066,
          0.008096040999999943,
          0.007836415999999957,
          0.009578499999999934,
          0.009264833000000028,
          0.00857349999999979,
          0.00863158300000011,
          0.00930483300000029,
          0.009229082999999694,
          0.009070415999999248,
          0.008020541000000492,
          0.007664749999999998,
          0.008743833000000478,
          0.008837875000000217,
          0.009530415999999597,
          0.008668792000000813,
          0.00972037499999967,
          0.009309458000000603,
          0.00991291699999941,
          0.009380958999999578,
          0.015687125000000357,
          0.009251167000000393,
          0.009474417000000734,
          0.007044958999999906,
          0.006668915999999747,
          0.00640816700000002,
          0.010026625000000067,
          0.011519707999999795,
          0.00005287499999973022,
          0.012944291000000163,
          0.010533209000000099,
          0.008688999999999503,
          0.007628749999999407,
          0.008135582999999613,
          0.0069929579999996605,
          0.008535499999999807,
          0.006868040999999714,
          0.006386707999999963,
          0.01542704199999978,
          0.012520291000000405,
          0.009142041999999684,
          0.00919758300000062,
          0.009064707999999477,
          0.007272333000000408,
          0.009419915999999695,
          0.007875540999999764,
          0.012257541000000316,
          0.008245875000000069,
          0.007997291999999767,
          0.000049791999999548864,
          0.009283915999999337,
          0.006018874999999646,
          0.006610874999999794,
          0.006006874999999745,
          0.006037291000000167,
          0.00599445799999998,
          0.006246999999999225,
          0.005913125000000186,
          0.00591395799999983,
          0.00627374999999919,
          0.005948790999999787,
          0.00889920799999988,
          0.005709167000000015,
          0.006446000000000396,
          0.005811666999999687,
          0.005756583000000148,
          0.005593833999999909,
          0.006158666000000146,
          0.006827125000000045,
          0.006016999999999939,
          0.006374832999999747,
          0.006407332999999404,
          0.006363459000000127,
          0.00005029200000006284,
          0.005903707999999952,
          0.006519166999999548,
          0.006157832999999613,
          0.0058043330000003834,
          0.005968833999999923,
          0.006812667000000161,
          0.006768333000000126,
          0.0071608750000002885,
          0.007379917000000624,
          0.01340504199999959,
          0.009334959000000254,
          0.009037958000000401,
          0.008706167000000598,
          0.009435167000000355,
          0.009053916999999245,
          0.009950667000000024,
          0.010909875000000291,
          0.013299124999999634,
          0.009349041000000113,
          0.00994383399999954,
          0.009237624999999916,
          0.009130208000000195,
          0.00845079200000054,
          0.008863541000000197,
          0.009639041999999876,
          0.008627249999999975,
          0.009888292000000298,
          0.009369208999999934,
          0.008690707999999603,
          0.00849366699999976,
          0.008895125000000448,
          0.000045959000000372896,
          0.007932291999999563,
          0.005784792000000039,
          0.009170708000000083,
          0.006419790999999897,
          0.007734500000000644,
          0.006376915999999788,
          0.008096582999999491,
          0.00650262499999954,
          0.00004600000000021254,
          0.008606291999999627,
          0.008374499999999507,
          0.0087597499999994,
          0.0075390830000001685,
          0.005953083000000525,
          0.006094625000000242,
          0.006887915999999272,
          0.006148249999999855,
          0.011044416999999918,
          0.009956584000000213,
          0.000046415999999993574,
          0.008262375000000155,
          0.009082874999999824,
          0.008734624999999774,
          0.00864329199999947,
          0.009225167000000312,
          0.006384374999999665,
          0.009016916999999403,
          0.008754666000000633,
          0.008717292000000043,
          0.008665458000000292,
          0.009022167000000358,
          0.00896137500000016,
          0.009103999999999779,
          0.00966149999999999,
          0.009830499999999631,
          0.009115540999999894,
          0.01171370900000035,
          0.007135290999999988,
          0.007726833999999627,
          0.008987041999999335,
          0.0071751670000006484,
          0.011236750000000129,
          0.006257291999999914,
          0.006193666999999792,
          0.007746458999999817,
          0.006608166999999554,
          0.0061330420000000885,
          0.00595408399999986,
          0.007655749999999628,
          0.007939583999999833,
          0.00741237500000036,
          0.006208416999999855,
          0.008880208999999972,
          0.009855374999999889,
          0.00834270799999981,
          0.006827083000000123,
          0.009082291999999548,
          0.007723541999999917,
          0.006864000000000203,
          0.006340584000000149,
          0.006136458000000289,
          0.0064346669999997275,
          0.000051417000000775204,
          0.01292416700000043,
          0.007903250000000028,
          0.007165624999999842,
          0.007940792000000307,
          0.00849475000000055,
          0.007413957999999887,
          0.006515583000000547,
          0.008659459000000425,
          0.00808266599999996,
          0.005896334000000003,
          0.008543167000000018,
          0.006208790999999714,
          0.011253332999999976,
          0.005695625000000426,
          0.0078829589999998,
          0.01085070800000043,
          0.011471792000000036,
          0.009093249999999387,
          0.0091606250000007,
          0.008078832999999896,
          0.009525250000000263,
          0.0072362919999999775,
          0.0061410420000003185,
          0.008695041999999376,
          0.011918084000000384,
          0.007032292000000773,
          0.00608629099999991,
          0.009174458000000385,
          0.008695417000000205,
          0.007925457999999885,
          0.008327624999999728,
          0.008744457999999788,
          0.009042082999999757,
          0.011203208000000409,
          0.010623250000000084,
          0.009519582999999443,
          0.009300542000000078,
          0.009648333000000342,
          0.007177042000000355,
          0.00662808299999984,
          0.008089666000000051,
          0.009642417000000236,
          0.008850332999999821,
          0.006046791000000162,
          0.005827166999999633,
          0.008251542,
          0.009042207999999441,
          0.008995750000000413,
          0.007546999999999748,
          0.008280749999999948,
          0.008745082999999987,
          0.007193000000000005,
          0.008452333000000145,
          0.011248916000000442,
          0.009570832999999723,
          0.010613042000000128,
          0.009426917000000756,
          0.009882749999999163,
          0.01666737499999993,
          0.007708000000000048,
          0.006141500000000022,
          0.008003624999999737,
          0.011087208999999376,
          0.009444291999999521,
          0.009852834000000144,
          0.010828874999999627,
          0.00907104199999953,
          0.009397207999999324,
          0.010453958000000263,
          0.00843287500000045,
          0.00921450000000057,
          0.010336124999999363,
          0.008718749999999886,
          0.007621959000000622,
          0.00901087499999953,
          0.006454375000000567,
          0.006122207999999851,
          0.006433000000000355,
          0.006965375000000051,
          0.007392083000000049,
          0.007235792000000352,
          0.006204125000000005,
          0.008485916999999787,
          0.005980917000000474,
          0.006161665999999677,
          0.00598150000000075,
          0.007840917000000225,
          0.0071299999999991925,
          0.007529415999999678,
          0.0077762919999999625,
          0.009268499999999236,
          0.008445540999999501,
          0.007293374999999713,
          0.009108332999999469,
          0.007713959000000159,
          0.005780999999999814,
          0.013569500000000012,
          0.005903291999999283,
          0.009511999999999965,
          0.009005708000000112,
          0.009783374999999594,
          0.006829416000000421,
          0.006980165999999954,
          0.014855208000000175,
          0.009165374999999365,
          0.006794041999999223,
          0.006558749999999947,
          0.006229000000000262,
          0.006997542000000578,
          0.006310207999999484,
          0.006076541000000546,
          0.0061607920000001926,
          0.005762667000000832,
          0.0058330419999998995,
          0.00636391699999983,
          0.006137375000000667,
          0.006021209000000027,
          0.006434207999999941,
          0.006628165999999602,
          0.006255541999999892,
          0.0061084590000000105,
          0.006417749999999778,
          0.006512124999999536,
          0.006140708000000217,
          0.0065533750000001945,
          0.00602899999999984,
          0.006836125000000415,
          0.00675645799999991,
          0.0067202919999997945,
          0.006164625000000257,
          0.0058192500000000535,
          0.0063192499999997764,
          0.006431040999999915,
          0.009371875000000252,
          0.009800124999999937,
          0.006638582999999976,
          0.008997750000000693,
          0.010344916999999398,
          0.008194166000000003,
          0.008237375000000213,
          0.008642582999999426,
          0.008107707999999825,
          0.009271082999999791,
          0.015642167000000207,
          0.007782917000000111,
          0.007670415999999847,
          0.006453332999999617,
          0.006856040999999813,
          0.007921708000000471,
          0.009493374999999915,
          0.006836749999999725,
          0.008843542000000149,
          0.0095767500000008,
          0.007861416999999982,
          0.006192375000000361,
          0.008655042000000002,
          0.00843483299999992,
          0.008961166000000631,
          0.010076125000000324,
          0.010655666000000785,
          0.007321042000000055,
          0.0064357500000005174,
          0.005617833999999711,
          0.006283791999999622,
          0.006321708999999842,
          0.0062856250000002944,
          0.006856792000000667,
          0.0063493750000001015,
          0.007754000000000261,
          0.007101957999999797,
          0.008296334000000627,
          0.006224125000000136,
          0.008134625000000284,
          0.00666370800000049,
          0.009431791999999994,
          0.008771541999999855,
          0.009367582999999513,
          0.008757833999999853,
          0.00943437500000055,
          0.007889416999999455,
          0.009468583000000308,
          0.006190417000000004,
          0.005914667000000762,
          0.00610949999999999,
          0.008192084000000044,
          0.006907208999999526,
          0.007371750000000787,
          0.006435624999999945,
          0.007735957999999599,
          0.006570041999999887,
          0.0095488330000002,
          0.008901207999999272,
          0.006064458000000883,
          0.007140417000000454,
          0.005950125000000028,
          0.009078374999999639,
          0.005980208000000431,
          0.008568958000001459,
          0.0076902910000011815,
          0.006377250000001666,
          0.008269625000000502,
          0.007724582999999896,
          0.008378833000000085,
          0.008946500000000412,
          0.009029165999999478,
          0.008963791999999415,
          0.009853166000000968,
          0.00942041700000118,
          0.008666999999999092,
          0.006156499999999454,
          0.006250624999999843,
          0.007895458000000133,
          0.009043166999999741,
          0.009840666000000553,
          0.008469083999999683,
          0.009273792000000114,
          0.010527833000001152,
          0.008946500000000412,
          0.00937312499999976,
          0.009349374999999327,
          0.01026783400000042,
          0.009349582999998773,
          0.009776374999999504,
          0.008906542000000073,
          0.009233874999999614,
          0.009036000000000044,
          0.010265708000000373,
          0.00987895899999991,
          0.01348354199999946,
          0.00637562500000044,
          0.006401041000000163,
          0.01327741700000118,
          0.008678791999999547,
          0.006109166999999971,
          0.009735457999999753,
          0.009304332999999332,
          0.009356042000000286,
          0.00883370800000094,
          0.009310790999998986,
          0.010098542000001487,
          0.009977292000000304,
          0.00922979200000107,
          0.008121292000000224,
          0.009320333999999875,
          0.00734641699999905,
          0.006143208999999317,
          0.006353041000000559,
          0.009464250000000618,
          0.008201666999999802,
          0.008385374999999584,
          0.009316791999999907,
          0.009556750000001557,
          0.00900362500000007,
          0.00875112499999986,
          0.009061791000000596,
          0.00827225000000098,
          0.00877933399999975,
          0.008212374999999383,
          0.009087541999999615,
          0.00973562499999936,
          0.00823070800000103,
          0.008763750000001735,
          0.00918749999999946,
          0.00893345900000142,
          0.009652000000000882,
          0.009284125000000643,
          0.01046574999999983,
          0.009206541999999374,
          0.013982208999999912,
          0.01513604199999996,
          0.007967416999999699,
          0.008517541999999878,
          0.0070869170000005255,
          0.011047542000000021,
          0.010272125000000187,
          0.010834041999999044,
          0.009736666999998533,
          0.010217958000000138,
          0.011660167000000499,
          0.011286082999999891,
          0.011412667000000098,
          0.00873649999999948,
          0.008603541999999464,
          0.012074417000000892,
          0.007012749999999457,
          0.006434207999999941,
          0.006503291999999661,
          0.00741404200000062,
          0.006823499999999427,
          0.006011666999999221,
          0.0072959160000003465,
          0.009548249999999925,
          0.008258749999999537,
          0.008002040999999238,
          0.000048833000001025084,
          0.008722541000000916,
          0.005946749999999668,
          0.009428209000001075,
          0.006243083999999399,
          0.006109957999999693,
          0.008918125000000998,
          0.012372792000000743,
          0.009292541000000654,
          0.008061375000000481,
          0.006670082999999494,
          0.0000527919999999682,
          0.009639416000000622,
          0.007616666999998856,
          0.006229083000000912,
          0.006097999999999715,
          0.006752750000000418,
          0.009870665999999417,
          0.008106374999998778,
          0.007154165999999407,
          0.013019333999999105,
          0.006307291000000603,
          8.721662625,
          8.773171625,
          0.11933216599999952
         ],
         "xaxis": "x",
         "y": [
          "TRIP_SEGMENTATION/get_data_df",
          "TRIP_SEGMENTATION/segment_into_trips_time/has_trip_ended",
          "TRIP_SEGMENTATION/segment_into_trips_time/has_trip_ended",
          "TRIP_SEGMENTATION/segment_into_trips_time/has_trip_ended",
          "TRIP_SEGMENTATION/segment_into_trips_time/has_trip_ended",
          "TRIP_SEGMENTATION/segment_into_trips_time/has_trip_ended",
          "TRIP_SEGMENTATION/segment_into_trips_time/has_trip_ended",
          "TRIP_SEGMENTATION/segment_into_trips_time/has_trip_ended",
          "TRIP_SEGMENTATION/segment_into_trips_time/has_trip_ended",
          "TRIP_SEGMENTATION/segment_into_trips_time/has_trip_ended",
          "TRIP_SEGMENTATION/segment_into_trips_time/has_trip_ended",
          "TRIP_SEGMENTATION/segment_into_trips_time/has_trip_ended",
          "TRIP_SEGMENTATION/segment_into_trips_time/has_trip_ended",
          "TRIP_SEGMENTATION/segment_into_trips_time/has_trip_ended",
          "TRIP_SEGMENTATION/segment_into_trips_time/has_trip_ended",
          "TRIP_SEGMENTATION/segment_into_trips_time/has_trip_ended",
          "TRIP_SEGMENTATION/segment_into_trips_time/has_trip_ended",
          "TRIP_SEGMENTATION/segment_into_trips_time/has_trip_ended",
          "TRIP_SEGMENTATION/segment_into_trips_time/has_trip_ended",
          "TRIP_SEGMENTATION/segment_into_trips_time/has_trip_ended",
          "TRIP_SEGMENTATION/segment_into_trips_time/has_trip_ended",
          "TRIP_SEGMENTATION/segment_into_trips_time/has_trip_ended",
          "TRIP_SEGMENTATION/segment_into_trips_time/has_trip_ended",
          "TRIP_SEGMENTATION/segment_into_trips_time/has_trip_ended",
          "TRIP_SEGMENTATION/segment_into_trips_time/has_trip_ended",
          "TRIP_SEGMENTATION/segment_into_trips_time/has_trip_ended",
          "TRIP_SEGMENTATION/segment_into_trips_time/has_trip_ended",
          "TRIP_SEGMENTATION/segment_into_trips_time/has_trip_ended",
          "TRIP_SEGMENTATION/segment_into_trips_time/has_trip_ended",
          "TRIP_SEGMENTATION/segment_into_trips_time/has_trip_ended",
          "TRIP_SEGMENTATION/segment_into_trips_time/has_trip_ended",
          "TRIP_SEGMENTATION/segment_into_trips_time/has_trip_ended",
          "TRIP_SEGMENTATION/segment_into_trips_time/has_trip_ended",
          "TRIP_SEGMENTATION/segment_into_trips_time/has_trip_ended",
          "TRIP_SEGMENTATION/segment_into_trips_time/has_trip_ended",
          "TRIP_SEGMENTATION/segment_into_trips_time/has_trip_ended",
          "TRIP_SEGMENTATION/segment_into_trips_time/has_trip_ended",
          "TRIP_SEGMENTATION/segment_into_trips_time/has_trip_ended",
          "TRIP_SEGMENTATION/segment_into_trips_time/has_trip_ended",
          "TRIP_SEGMENTATION/segment_into_trips_time/has_trip_ended",
          "TRIP_SEGMENTATION/segment_into_trips_time/has_trip_ended",
          "TRIP_SEGMENTATION/segment_into_trips_time/has_trip_ended",
          "TRIP_SEGMENTATION/segment_into_trips_time/has_trip_ended",
          "TRIP_SEGMENTATION/segment_into_trips_time/has_trip_ended",
          "TRIP_SEGMENTATION/segment_into_trips_time/has_trip_ended",
          "TRIP_SEGMENTATION/segment_into_trips_time/has_trip_ended",
          "TRIP_SEGMENTATION/segment_into_trips_time/has_trip_ended",
          "TRIP_SEGMENTATION/segment_into_trips_time/has_trip_ended",
          "TRIP_SEGMENTATION/segment_into_trips_time/has_trip_ended",
          "TRIP_SEGMENTATION/segment_into_trips_time/has_trip_ended",
          "TRIP_SEGMENTATION/segment_into_trips_time/has_trip_ended",
          "TRIP_SEGMENTATION/segment_into_trips_time/has_trip_ended",
          "TRIP_SEGMENTATION/segment_into_trips_time/has_trip_ended",
          "TRIP_SEGMENTATION/segment_into_trips_time/has_trip_ended",
          "TRIP_SEGMENTATION/segment_into_trips_time/has_trip_ended",
          "TRIP_SEGMENTATION/segment_into_trips_time/has_trip_ended",
          "TRIP_SEGMENTATION/segment_into_trips_time/has_trip_ended",
          "TRIP_SEGMENTATION/segment_into_trips_time/has_trip_ended",
          "TRIP_SEGMENTATION/segment_into_trips_time/has_trip_ended",
          "TRIP_SEGMENTATION/segment_into_trips_time/has_trip_ended",
          "TRIP_SEGMENTATION/segment_into_trips_time/has_trip_ended",
          "TRIP_SEGMENTATION/segment_into_trips_time/has_trip_ended",
          "TRIP_SEGMENTATION/segment_into_trips_time/has_trip_ended",
          "TRIP_SEGMENTATION/segment_into_trips_time/has_trip_ended",
          "TRIP_SEGMENTATION/segment_into_trips_time/has_trip_ended",
          "TRIP_SEGMENTATION/segment_into_trips_time/has_trip_ended",
          "TRIP_SEGMENTATION/segment_into_trips_time/has_trip_ended",
          "TRIP_SEGMENTATION/segment_into_trips_time/has_trip_ended",
          "TRIP_SEGMENTATION/segment_into_trips_time/has_trip_ended",
          "TRIP_SEGMENTATION/segment_into_trips_time/has_trip_ended",
          "TRIP_SEGMENTATION/segment_into_trips_time/has_trip_ended",
          "TRIP_SEGMENTATION/segment_into_trips_time/has_trip_ended",
          "TRIP_SEGMENTATION/segment_into_trips_time/has_trip_ended",
          "TRIP_SEGMENTATION/segment_into_trips_time/has_trip_ended",
          "TRIP_SEGMENTATION/segment_into_trips_time/has_trip_ended",
          "TRIP_SEGMENTATION/segment_into_trips_time/has_trip_ended",
          "TRIP_SEGMENTATION/segment_into_trips_time/has_trip_ended",
          "TRIP_SEGMENTATION/segment_into_trips_time/has_trip_ended",
          "TRIP_SEGMENTATION/segment_into_trips_time/has_trip_ended",
          "TRIP_SEGMENTATION/segment_into_trips_time/has_trip_ended",
          "TRIP_SEGMENTATION/segment_into_trips_time/has_trip_ended",
          "TRIP_SEGMENTATION/segment_into_trips_time/has_trip_ended",
          "TRIP_SEGMENTATION/segment_into_trips_time/has_trip_ended",
          "TRIP_SEGMENTATION/segment_into_trips_time/has_trip_ended",
          "TRIP_SEGMENTATION/segment_into_trips_time/has_trip_ended",
          "TRIP_SEGMENTATION/segment_into_trips_time/has_trip_ended",
          "TRIP_SEGMENTATION/segment_into_trips_time/has_trip_ended",
          "TRIP_SEGMENTATION/segment_into_trips_time/has_trip_ended",
          "TRIP_SEGMENTATION/segment_into_trips_time/has_trip_ended",
          "TRIP_SEGMENTATION/segment_into_trips_time/has_trip_ended",
          "TRIP_SEGMENTATION/segment_into_trips_time/has_trip_ended",
          "TRIP_SEGMENTATION/segment_into_trips_time/has_trip_ended",
          "TRIP_SEGMENTATION/segment_into_trips_time/has_trip_ended",
          "TRIP_SEGMENTATION/segment_into_trips_time/has_trip_ended",
          "TRIP_SEGMENTATION/segment_into_trips_time/has_trip_ended",
          "TRIP_SEGMENTATION/segment_into_trips_time/has_trip_ended",
          "TRIP_SEGMENTATION/segment_into_trips_time/has_trip_ended",
          "TRIP_SEGMENTATION/segment_into_trips_time/has_trip_ended",
          "TRIP_SEGMENTATION/segment_into_trips_time/has_trip_ended",
          "TRIP_SEGMENTATION/segment_into_trips_time/has_trip_ended",
          "TRIP_SEGMENTATION/segment_into_trips_time/has_trip_ended",
          "TRIP_SEGMENTATION/segment_into_trips_time/has_trip_ended",
          "TRIP_SEGMENTATION/segment_into_trips_time/has_trip_ended",
          "TRIP_SEGMENTATION/segment_into_trips_time/has_trip_ended",
          "TRIP_SEGMENTATION/segment_into_trips_time/has_trip_ended",
          "TRIP_SEGMENTATION/segment_into_trips_time/has_trip_ended",
          "TRIP_SEGMENTATION/segment_into_trips_time/has_trip_ended",
          "TRIP_SEGMENTATION/segment_into_trips_time/has_trip_ended",
          "TRIP_SEGMENTATION/segment_into_trips_time/has_trip_ended",
          "TRIP_SEGMENTATION/segment_into_trips_time/has_trip_ended",
          "TRIP_SEGMENTATION/segment_into_trips_time/has_trip_ended",
          "TRIP_SEGMENTATION/segment_into_trips_time/has_trip_ended",
          "TRIP_SEGMENTATION/segment_into_trips_time/has_trip_ended",
          "TRIP_SEGMENTATION/segment_into_trips_time/has_trip_ended",
          "TRIP_SEGMENTATION/segment_into_trips_time/has_trip_ended",
          "TRIP_SEGMENTATION/segment_into_trips_time/has_trip_ended",
          "TRIP_SEGMENTATION/segment_into_trips_time/has_trip_ended",
          "TRIP_SEGMENTATION/segment_into_trips_time/has_trip_ended",
          "TRIP_SEGMENTATION/segment_into_trips_time/has_trip_ended",
          "TRIP_SEGMENTATION/segment_into_trips_time/has_trip_ended",
          "TRIP_SEGMENTATION/segment_into_trips_time/has_trip_ended",
          "TRIP_SEGMENTATION/segment_into_trips_time/has_trip_ended",
          "TRIP_SEGMENTATION/segment_into_trips_time/has_trip_ended",
          "TRIP_SEGMENTATION/segment_into_trips_time/has_trip_ended",
          "TRIP_SEGMENTATION/segment_into_trips_time/has_trip_ended",
          "TRIP_SEGMENTATION/segment_into_trips_time/has_trip_ended",
          "TRIP_SEGMENTATION/segment_into_trips_time/has_trip_ended",
          "TRIP_SEGMENTATION/segment_into_trips_time/has_trip_ended",
          "TRIP_SEGMENTATION/segment_into_trips_time/has_trip_ended",
          "TRIP_SEGMENTATION/segment_into_trips_time/has_trip_ended",
          "TRIP_SEGMENTATION/segment_into_trips_time/has_trip_ended",
          "TRIP_SEGMENTATION/segment_into_trips_time/has_trip_ended",
          "TRIP_SEGMENTATION/segment_into_trips_time/has_trip_ended",
          "TRIP_SEGMENTATION/segment_into_trips_time/has_trip_ended",
          "TRIP_SEGMENTATION/segment_into_trips_time/has_trip_ended",
          "TRIP_SEGMENTATION/segment_into_trips_time/has_trip_ended",
          "TRIP_SEGMENTATION/segment_into_trips_time/has_trip_ended",
          "TRIP_SEGMENTATION/segment_into_trips_time/has_trip_ended",
          "TRIP_SEGMENTATION/segment_into_trips_time/has_trip_ended",
          "TRIP_SEGMENTATION/segment_into_trips_time/has_trip_ended",
          "TRIP_SEGMENTATION/segment_into_trips_time/has_trip_ended",
          "TRIP_SEGMENTATION/segment_into_trips_time/has_trip_ended",
          "TRIP_SEGMENTATION/segment_into_trips_time/has_trip_ended",
          "TRIP_SEGMENTATION/segment_into_trips_time/has_trip_ended",
          "TRIP_SEGMENTATION/segment_into_trips_time/has_trip_ended",
          "TRIP_SEGMENTATION/segment_into_trips_time/has_trip_ended",
          "TRIP_SEGMENTATION/segment_into_trips_time/has_trip_ended",
          "TRIP_SEGMENTATION/segment_into_trips_time/has_trip_ended",
          "TRIP_SEGMENTATION/segment_into_trips_time/has_trip_ended",
          "TRIP_SEGMENTATION/segment_into_trips_time/has_trip_ended",
          "TRIP_SEGMENTATION/segment_into_trips_time/has_trip_ended",
          "TRIP_SEGMENTATION/segment_into_trips_time/has_trip_ended",
          "TRIP_SEGMENTATION/segment_into_trips_time/has_trip_ended",
          "TRIP_SEGMENTATION/segment_into_trips_time/has_trip_ended",
          "TRIP_SEGMENTATION/segment_into_trips_time/has_trip_ended",
          "TRIP_SEGMENTATION/segment_into_trips_time/has_trip_ended",
          "TRIP_SEGMENTATION/segment_into_trips_time/has_trip_ended",
          "TRIP_SEGMENTATION/segment_into_trips_time/has_trip_ended",
          "TRIP_SEGMENTATION/segment_into_trips_time/has_trip_ended",
          "TRIP_SEGMENTATION/segment_into_trips_time/has_trip_ended",
          "TRIP_SEGMENTATION/segment_into_trips_time/has_trip_ended",
          "TRIP_SEGMENTATION/segment_into_trips_time/has_trip_ended",
          "TRIP_SEGMENTATION/segment_into_trips_time/has_trip_ended",
          "TRIP_SEGMENTATION/segment_into_trips_time/has_trip_ended",
          "TRIP_SEGMENTATION/segment_into_trips_time/has_trip_ended",
          "TRIP_SEGMENTATION/segment_into_trips_time/has_trip_ended",
          "TRIP_SEGMENTATION/segment_into_trips_time/has_trip_ended",
          "TRIP_SEGMENTATION/segment_into_trips_time/has_trip_ended",
          "TRIP_SEGMENTATION/segment_into_trips_time/has_trip_ended",
          "TRIP_SEGMENTATION/segment_into_trips_time/has_trip_ended",
          "TRIP_SEGMENTATION/segment_into_trips_time/has_trip_ended",
          "TRIP_SEGMENTATION/segment_into_trips_time/has_trip_ended",
          "TRIP_SEGMENTATION/segment_into_trips_time/has_trip_ended",
          "TRIP_SEGMENTATION/segment_into_trips_time/has_trip_ended",
          "TRIP_SEGMENTATION/segment_into_trips_time/has_trip_ended",
          "TRIP_SEGMENTATION/segment_into_trips_time/has_trip_ended",
          "TRIP_SEGMENTATION/segment_into_trips_time/has_trip_ended",
          "TRIP_SEGMENTATION/segment_into_trips_time/has_trip_ended",
          "TRIP_SEGMENTATION/segment_into_trips_time/has_trip_ended",
          "TRIP_SEGMENTATION/segment_into_trips_time/has_trip_ended",
          "TRIP_SEGMENTATION/segment_into_trips_time/has_trip_ended",
          "TRIP_SEGMENTATION/segment_into_trips_time/has_trip_ended",
          "TRIP_SEGMENTATION/segment_into_trips_time/has_trip_ended",
          "TRIP_SEGMENTATION/segment_into_trips_time/has_trip_ended",
          "TRIP_SEGMENTATION/segment_into_trips_time/has_trip_ended",
          "TRIP_SEGMENTATION/segment_into_trips_time/has_trip_ended",
          "TRIP_SEGMENTATION/segment_into_trips_time/has_trip_ended",
          "TRIP_SEGMENTATION/segment_into_trips_time/has_trip_ended",
          "TRIP_SEGMENTATION/segment_into_trips_time/has_trip_ended",
          "TRIP_SEGMENTATION/segment_into_trips_time/has_trip_ended",
          "TRIP_SEGMENTATION/segment_into_trips_time/has_trip_ended",
          "TRIP_SEGMENTATION/segment_into_trips_time/has_trip_ended",
          "TRIP_SEGMENTATION/segment_into_trips_time/has_trip_ended",
          "TRIP_SEGMENTATION/segment_into_trips_time/has_trip_ended",
          "TRIP_SEGMENTATION/segment_into_trips_time/has_trip_ended",
          "TRIP_SEGMENTATION/segment_into_trips_time/has_trip_ended",
          "TRIP_SEGMENTATION/segment_into_trips_time/has_trip_ended",
          "TRIP_SEGMENTATION/segment_into_trips_time/has_trip_ended",
          "TRIP_SEGMENTATION/segment_into_trips_time/has_trip_ended",
          "TRIP_SEGMENTATION/segment_into_trips_time/has_trip_ended",
          "TRIP_SEGMENTATION/segment_into_trips_time/has_trip_ended",
          "TRIP_SEGMENTATION/segment_into_trips_time/has_trip_ended",
          "TRIP_SEGMENTATION/segment_into_trips_time/has_trip_ended",
          "TRIP_SEGMENTATION/segment_into_trips_time/has_trip_ended",
          "TRIP_SEGMENTATION/segment_into_trips_time/has_trip_ended",
          "TRIP_SEGMENTATION/segment_into_trips_time/has_trip_ended",
          "TRIP_SEGMENTATION/segment_into_trips_time/has_trip_ended",
          "TRIP_SEGMENTATION/segment_into_trips_time/has_trip_ended",
          "TRIP_SEGMENTATION/segment_into_trips_time/has_trip_ended",
          "TRIP_SEGMENTATION/segment_into_trips_time/has_trip_ended",
          "TRIP_SEGMENTATION/segment_into_trips_time/has_trip_ended",
          "TRIP_SEGMENTATION/segment_into_trips_time/has_trip_ended",
          "TRIP_SEGMENTATION/segment_into_trips_time/has_trip_ended",
          "TRIP_SEGMENTATION/segment_into_trips_time/has_trip_ended",
          "TRIP_SEGMENTATION/segment_into_trips_time/has_trip_ended",
          "TRIP_SEGMENTATION/segment_into_trips_time/has_trip_ended",
          "TRIP_SEGMENTATION/segment_into_trips_time/has_trip_ended",
          "TRIP_SEGMENTATION/segment_into_trips_time/has_trip_ended",
          "TRIP_SEGMENTATION/segment_into_trips_time/has_trip_ended",
          "TRIP_SEGMENTATION/segment_into_trips_time/has_trip_ended",
          "TRIP_SEGMENTATION/segment_into_trips_time/has_trip_ended",
          "TRIP_SEGMENTATION/segment_into_trips_time/has_trip_ended",
          "TRIP_SEGMENTATION/segment_into_trips_time/has_trip_ended",
          "TRIP_SEGMENTATION/segment_into_trips_time/has_trip_ended",
          "TRIP_SEGMENTATION/segment_into_trips_time/has_trip_ended",
          "TRIP_SEGMENTATION/segment_into_trips_time/has_trip_ended",
          "TRIP_SEGMENTATION/segment_into_trips_time/has_trip_ended",
          "TRIP_SEGMENTATION/segment_into_trips_time/has_trip_ended",
          "TRIP_SEGMENTATION/segment_into_trips_time/has_trip_ended",
          "TRIP_SEGMENTATION/segment_into_trips_time/has_trip_ended",
          "TRIP_SEGMENTATION/segment_into_trips_time/has_trip_ended",
          "TRIP_SEGMENTATION/segment_into_trips_time/has_trip_ended",
          "TRIP_SEGMENTATION/segment_into_trips_time/has_trip_ended",
          "TRIP_SEGMENTATION/segment_into_trips_time/has_trip_ended",
          "TRIP_SEGMENTATION/segment_into_trips_time/has_trip_ended",
          "TRIP_SEGMENTATION/segment_into_trips_time/has_trip_ended",
          "TRIP_SEGMENTATION/segment_into_trips_time/has_trip_ended",
          "TRIP_SEGMENTATION/segment_into_trips_time/has_trip_ended",
          "TRIP_SEGMENTATION/segment_into_trips_time/has_trip_ended",
          "TRIP_SEGMENTATION/segment_into_trips_time/has_trip_ended",
          "TRIP_SEGMENTATION/segment_into_trips_time/has_trip_ended",
          "TRIP_SEGMENTATION/segment_into_trips_time/has_trip_ended",
          "TRIP_SEGMENTATION/segment_into_trips_time/has_trip_ended",
          "TRIP_SEGMENTATION/segment_into_trips_time/has_trip_ended",
          "TRIP_SEGMENTATION/segment_into_trips_time/has_trip_ended",
          "TRIP_SEGMENTATION/segment_into_trips_time/has_trip_ended",
          "TRIP_SEGMENTATION/segment_into_trips_time/has_trip_ended",
          "TRIP_SEGMENTATION/segment_into_trips_time/has_trip_ended",
          "TRIP_SEGMENTATION/segment_into_trips_time/has_trip_ended",
          "TRIP_SEGMENTATION/segment_into_trips_time/has_trip_ended",
          "TRIP_SEGMENTATION/segment_into_trips_time/has_trip_ended",
          "TRIP_SEGMENTATION/segment_into_trips_time/has_trip_ended",
          "TRIP_SEGMENTATION/segment_into_trips_time/has_trip_ended",
          "TRIP_SEGMENTATION/segment_into_trips_time/has_trip_ended",
          "TRIP_SEGMENTATION/segment_into_trips_time/has_trip_ended",
          "TRIP_SEGMENTATION/segment_into_trips_time/has_trip_ended",
          "TRIP_SEGMENTATION/segment_into_trips_time/has_trip_ended",
          "TRIP_SEGMENTATION/segment_into_trips_time/has_trip_ended",
          "TRIP_SEGMENTATION/segment_into_trips_time/has_trip_ended",
          "TRIP_SEGMENTATION/segment_into_trips_time/has_trip_ended",
          "TRIP_SEGMENTATION/segment_into_trips_time/has_trip_ended",
          "TRIP_SEGMENTATION/segment_into_trips_time/has_trip_ended",
          "TRIP_SEGMENTATION/segment_into_trips_time/has_trip_ended",
          "TRIP_SEGMENTATION/segment_into_trips_time/has_trip_ended",
          "TRIP_SEGMENTATION/segment_into_trips_time/has_trip_ended",
          "TRIP_SEGMENTATION/segment_into_trips_time/has_trip_ended",
          "TRIP_SEGMENTATION/segment_into_trips_time/has_trip_ended",
          "TRIP_SEGMENTATION/segment_into_trips_time/has_trip_ended",
          "TRIP_SEGMENTATION/segment_into_trips_time/has_trip_ended",
          "TRIP_SEGMENTATION/segment_into_trips_time/has_trip_ended",
          "TRIP_SEGMENTATION/segment_into_trips_time/has_trip_ended",
          "TRIP_SEGMENTATION/segment_into_trips_time/has_trip_ended",
          "TRIP_SEGMENTATION/segment_into_trips_time/has_trip_ended",
          "TRIP_SEGMENTATION/segment_into_trips_time/has_trip_ended",
          "TRIP_SEGMENTATION/segment_into_trips_time/has_trip_ended",
          "TRIP_SEGMENTATION/segment_into_trips_time/has_trip_ended",
          "TRIP_SEGMENTATION/segment_into_trips_time/has_trip_ended",
          "TRIP_SEGMENTATION/segment_into_trips_time/has_trip_ended",
          "TRIP_SEGMENTATION/segment_into_trips_time/has_trip_ended",
          "TRIP_SEGMENTATION/segment_into_trips_time/has_trip_ended",
          "TRIP_SEGMENTATION/segment_into_trips_time/has_trip_ended",
          "TRIP_SEGMENTATION/segment_into_trips_time/has_trip_ended",
          "TRIP_SEGMENTATION/segment_into_trips_time/has_trip_ended",
          "TRIP_SEGMENTATION/segment_into_trips_time/has_trip_ended",
          "TRIP_SEGMENTATION/segment_into_trips_time/has_trip_ended",
          "TRIP_SEGMENTATION/segment_into_trips_time/has_trip_ended",
          "TRIP_SEGMENTATION/segment_into_trips_time/has_trip_ended",
          "TRIP_SEGMENTATION/segment_into_trips_time/has_trip_ended",
          "TRIP_SEGMENTATION/segment_into_trips_time/has_trip_ended",
          "TRIP_SEGMENTATION/segment_into_trips_time/has_trip_ended",
          "TRIP_SEGMENTATION/segment_into_trips_time/has_trip_ended",
          "TRIP_SEGMENTATION/segment_into_trips_time/has_trip_ended",
          "TRIP_SEGMENTATION/segment_into_trips_time/has_trip_ended",
          "TRIP_SEGMENTATION/segment_into_trips_time/has_trip_ended",
          "TRIP_SEGMENTATION/segment_into_trips_time/has_trip_ended",
          "TRIP_SEGMENTATION/segment_into_trips_time/has_trip_ended",
          "TRIP_SEGMENTATION/segment_into_trips_time/has_trip_ended",
          "TRIP_SEGMENTATION/segment_into_trips_time/has_trip_ended",
          "TRIP_SEGMENTATION/segment_into_trips_time/has_trip_ended",
          "TRIP_SEGMENTATION/segment_into_trips_time/has_trip_ended",
          "TRIP_SEGMENTATION/segment_into_trips_time/has_trip_ended",
          "TRIP_SEGMENTATION/segment_into_trips_time/has_trip_ended",
          "TRIP_SEGMENTATION/segment_into_trips_time/has_trip_ended",
          "TRIP_SEGMENTATION/segment_into_trips_time/has_trip_ended",
          "TRIP_SEGMENTATION/segment_into_trips_time/has_trip_ended",
          "TRIP_SEGMENTATION/segment_into_trips_time/has_trip_ended",
          "TRIP_SEGMENTATION/segment_into_trips_time/has_trip_ended",
          "TRIP_SEGMENTATION/segment_into_trips_time/has_trip_ended",
          "TRIP_SEGMENTATION/segment_into_trips_time/has_trip_ended",
          "TRIP_SEGMENTATION/segment_into_trips_time/has_trip_ended",
          "TRIP_SEGMENTATION/segment_into_trips_time/has_trip_ended",
          "TRIP_SEGMENTATION/segment_into_trips_time/has_trip_ended",
          "TRIP_SEGMENTATION/segment_into_trips_time/has_trip_ended",
          "TRIP_SEGMENTATION/segment_into_trips_time/has_trip_ended",
          "TRIP_SEGMENTATION/segment_into_trips_time/has_trip_ended",
          "TRIP_SEGMENTATION/segment_into_trips_time/has_trip_ended",
          "TRIP_SEGMENTATION/segment_into_trips_time/has_trip_ended",
          "TRIP_SEGMENTATION/segment_into_trips_time/has_trip_ended",
          "TRIP_SEGMENTATION/segment_into_trips_time/has_trip_ended",
          "TRIP_SEGMENTATION/segment_into_trips_time/has_trip_ended",
          "TRIP_SEGMENTATION/segment_into_trips_time/has_trip_ended",
          "TRIP_SEGMENTATION/segment_into_trips_time/has_trip_ended",
          "TRIP_SEGMENTATION/segment_into_trips_time/has_trip_ended",
          "TRIP_SEGMENTATION/segment_into_trips_time/has_trip_ended",
          "TRIP_SEGMENTATION/segment_into_trips_time/has_trip_ended",
          "TRIP_SEGMENTATION/segment_into_trips_time/has_trip_ended",
          "TRIP_SEGMENTATION/segment_into_trips_time/has_trip_ended",
          "TRIP_SEGMENTATION/segment_into_trips_time/has_trip_ended",
          "TRIP_SEGMENTATION/segment_into_trips_time/has_trip_ended",
          "TRIP_SEGMENTATION/segment_into_trips_time/has_trip_ended",
          "TRIP_SEGMENTATION/segment_into_trips_time/has_trip_ended",
          "TRIP_SEGMENTATION/segment_into_trips_time/has_trip_ended",
          "TRIP_SEGMENTATION/segment_into_trips_time/has_trip_ended",
          "TRIP_SEGMENTATION/segment_into_trips_time/has_trip_ended",
          "TRIP_SEGMENTATION/segment_into_trips_time/has_trip_ended",
          "TRIP_SEGMENTATION/segment_into_trips_time/has_trip_ended",
          "TRIP_SEGMENTATION/segment_into_trips_time/has_trip_ended",
          "TRIP_SEGMENTATION/segment_into_trips_time/has_trip_ended",
          "TRIP_SEGMENTATION/segment_into_trips_time/has_trip_ended",
          "TRIP_SEGMENTATION/segment_into_trips_time/has_trip_ended",
          "TRIP_SEGMENTATION/segment_into_trips_time/has_trip_ended",
          "TRIP_SEGMENTATION/segment_into_trips_time/has_trip_ended",
          "TRIP_SEGMENTATION/segment_into_trips_time/has_trip_ended",
          "TRIP_SEGMENTATION/segment_into_trips_time/has_trip_ended",
          "TRIP_SEGMENTATION/segment_into_trips_time/has_trip_ended",
          "TRIP_SEGMENTATION/segment_into_trips_time/has_trip_ended",
          "TRIP_SEGMENTATION/segment_into_trips_time/has_trip_ended",
          "TRIP_SEGMENTATION/segment_into_trips_time/has_trip_ended",
          "TRIP_SEGMENTATION/segment_into_trips_time/has_trip_ended",
          "TRIP_SEGMENTATION/segment_into_trips_time/has_trip_ended",
          "TRIP_SEGMENTATION/segment_into_trips_time/has_trip_ended",
          "TRIP_SEGMENTATION/segment_into_trips_time/has_trip_ended",
          "TRIP_SEGMENTATION/segment_into_trips_time/has_trip_ended",
          "TRIP_SEGMENTATION/segment_into_trips_time/has_trip_ended",
          "TRIP_SEGMENTATION/segment_into_trips_time/has_trip_ended",
          "TRIP_SEGMENTATION/segment_into_trips_time/has_trip_ended",
          "TRIP_SEGMENTATION/segment_into_trips_time/has_trip_ended",
          "TRIP_SEGMENTATION/segment_into_trips_time/has_trip_ended",
          "TRIP_SEGMENTATION/segment_into_trips_time/has_trip_ended",
          "TRIP_SEGMENTATION/segment_into_trips_time/has_trip_ended",
          "TRIP_SEGMENTATION/segment_into_trips_time/has_trip_ended",
          "TRIP_SEGMENTATION/segment_into_trips_time/has_trip_ended",
          "TRIP_SEGMENTATION/segment_into_trips_time/has_trip_ended",
          "TRIP_SEGMENTATION/segment_into_trips_time/has_trip_ended",
          "TRIP_SEGMENTATION/segment_into_trips_time/has_trip_ended",
          "TRIP_SEGMENTATION/segment_into_trips_time/has_trip_ended",
          "TRIP_SEGMENTATION/segment_into_trips_time/has_trip_ended",
          "TRIP_SEGMENTATION/segment_into_trips_time/has_trip_ended",
          "TRIP_SEGMENTATION/segment_into_trips_time/has_trip_ended",
          "TRIP_SEGMENTATION/segment_into_trips_time/has_trip_ended",
          "TRIP_SEGMENTATION/segment_into_trips_time/has_trip_ended",
          "TRIP_SEGMENTATION/segment_into_trips_time/has_trip_ended",
          "TRIP_SEGMENTATION/segment_into_trips_time/has_trip_ended",
          "TRIP_SEGMENTATION/segment_into_trips_time/has_trip_ended",
          "TRIP_SEGMENTATION/segment_into_trips_time/has_trip_ended",
          "TRIP_SEGMENTATION/segment_into_trips_time/has_trip_ended",
          "TRIP_SEGMENTATION/segment_into_trips_time/has_trip_ended",
          "TRIP_SEGMENTATION/segment_into_trips_time/has_trip_ended",
          "TRIP_SEGMENTATION/segment_into_trips_time/has_trip_ended",
          "TRIP_SEGMENTATION/segment_into_trips_time/has_trip_ended",
          "TRIP_SEGMENTATION/segment_into_trips_time/has_trip_ended",
          "TRIP_SEGMENTATION/segment_into_trips_time/has_trip_ended",
          "TRIP_SEGMENTATION/segment_into_trips_time/has_trip_ended",
          "TRIP_SEGMENTATION/segment_into_trips_time/has_trip_ended",
          "TRIP_SEGMENTATION/segment_into_trips_time/has_trip_ended",
          "TRIP_SEGMENTATION/segment_into_trips_time/has_trip_ended",
          "TRIP_SEGMENTATION/segment_into_trips_time/has_trip_ended",
          "TRIP_SEGMENTATION/segment_into_trips_time/has_trip_ended",
          "TRIP_SEGMENTATION/segment_into_trips_time/has_trip_ended",
          "TRIP_SEGMENTATION/segment_into_trips_time/has_trip_ended",
          "TRIP_SEGMENTATION/segment_into_trips_time/has_trip_ended",
          "TRIP_SEGMENTATION/segment_into_trips_time/has_trip_ended",
          "TRIP_SEGMENTATION/segment_into_trips_time/has_trip_ended",
          "TRIP_SEGMENTATION/segment_into_trips_time/has_trip_ended",
          "TRIP_SEGMENTATION/segment_into_trips_time/has_trip_ended",
          "TRIP_SEGMENTATION/segment_into_trips_time/has_trip_ended",
          "TRIP_SEGMENTATION/segment_into_trips_time/has_trip_ended",
          "TRIP_SEGMENTATION/segment_into_trips_time/has_trip_ended",
          "TRIP_SEGMENTATION/segment_into_trips_time/has_trip_ended",
          "TRIP_SEGMENTATION/segment_into_trips_time/has_trip_ended",
          "TRIP_SEGMENTATION/segment_into_trips_time/has_trip_ended",
          "TRIP_SEGMENTATION/segment_into_trips_time/has_trip_ended",
          "TRIP_SEGMENTATION/segment_into_trips_time/has_trip_ended",
          "TRIP_SEGMENTATION/segment_into_trips_time/has_trip_ended",
          "TRIP_SEGMENTATION/segment_into_trips_time/has_trip_ended",
          "TRIP_SEGMENTATION/segment_into_trips_time/has_trip_ended",
          "TRIP_SEGMENTATION/segment_into_trips_time/has_trip_ended",
          "TRIP_SEGMENTATION/segment_into_trips_time/has_trip_ended",
          "TRIP_SEGMENTATION/segment_into_trips_time/has_trip_ended",
          "TRIP_SEGMENTATION/segment_into_trips_time/has_trip_ended",
          "TRIP_SEGMENTATION/segment_into_trips_time/has_trip_ended",
          "TRIP_SEGMENTATION/segment_into_trips_time/has_trip_ended",
          "TRIP_SEGMENTATION/segment_into_trips_time/has_trip_ended",
          "TRIP_SEGMENTATION/segment_into_trips_time/has_trip_ended",
          "TRIP_SEGMENTATION/segment_into_trips_time/has_trip_ended",
          "TRIP_SEGMENTATION/segment_into_trips_time/has_trip_ended",
          "TRIP_SEGMENTATION/segment_into_trips_time/has_trip_ended",
          "TRIP_SEGMENTATION/segment_into_trips_time/has_trip_ended",
          "TRIP_SEGMENTATION/segment_into_trips_time/has_trip_ended",
          "TRIP_SEGMENTATION/segment_into_trips_time/has_trip_ended",
          "TRIP_SEGMENTATION/segment_into_trips_time/has_trip_ended",
          "TRIP_SEGMENTATION/segment_into_trips_time/has_trip_ended",
          "TRIP_SEGMENTATION/segment_into_trips_time/has_trip_ended",
          "TRIP_SEGMENTATION/segment_into_trips_time/has_trip_ended",
          "TRIP_SEGMENTATION/segment_into_trips_time/has_trip_ended",
          "TRIP_SEGMENTATION/segment_into_trips_time/has_trip_ended",
          "TRIP_SEGMENTATION/segment_into_trips_time/has_trip_ended",
          "TRIP_SEGMENTATION/segment_into_trips_time/has_trip_ended",
          "TRIP_SEGMENTATION/segment_into_trips_time/has_trip_ended",
          "TRIP_SEGMENTATION/segment_into_trips_time/has_trip_ended",
          "TRIP_SEGMENTATION/segment_into_trips_time/has_trip_ended",
          "TRIP_SEGMENTATION/segment_into_trips_time/has_trip_ended",
          "TRIP_SEGMENTATION/segment_into_trips_time/has_trip_ended",
          "TRIP_SEGMENTATION/segment_into_trips_time/has_trip_ended",
          "TRIP_SEGMENTATION/segment_into_trips_time/has_trip_ended",
          "TRIP_SEGMENTATION/segment_into_trips_time/has_trip_ended",
          "TRIP_SEGMENTATION/segment_into_trips_time/has_trip_ended",
          "TRIP_SEGMENTATION/segment_into_trips_time/has_trip_ended",
          "TRIP_SEGMENTATION/segment_into_trips_time/has_trip_ended",
          "TRIP_SEGMENTATION/segment_into_trips_time/has_trip_ended",
          "TRIP_SEGMENTATION/segment_into_trips_time/has_trip_ended",
          "TRIP_SEGMENTATION/segment_into_trips_time/has_trip_ended",
          "TRIP_SEGMENTATION/segment_into_trips_time/has_trip_ended",
          "TRIP_SEGMENTATION/segment_into_trips_time/has_trip_ended",
          "TRIP_SEGMENTATION/segment_into_trips_time/has_trip_ended",
          "TRIP_SEGMENTATION/segment_into_trips_time/has_trip_ended",
          "TRIP_SEGMENTATION/segment_into_trips_time/has_trip_ended",
          "TRIP_SEGMENTATION/segment_into_trips_time/has_trip_ended",
          "TRIP_SEGMENTATION/segment_into_trips_time/has_trip_ended",
          "TRIP_SEGMENTATION/segment_into_trips_time/has_trip_ended",
          "TRIP_SEGMENTATION/segment_into_trips_time/has_trip_ended",
          "TRIP_SEGMENTATION/segment_into_trips_time/has_trip_ended",
          "TRIP_SEGMENTATION/segment_into_trips_time/has_trip_ended",
          "TRIP_SEGMENTATION/segment_into_trips_time/has_trip_ended",
          "TRIP_SEGMENTATION/segment_into_trips_time/has_trip_ended",
          "TRIP_SEGMENTATION/segment_into_trips_time/has_trip_ended",
          "TRIP_SEGMENTATION/segment_into_trips_time/has_trip_ended",
          "TRIP_SEGMENTATION/segment_into_trips_time/has_trip_ended",
          "TRIP_SEGMENTATION/segment_into_trips_time/has_trip_ended",
          "TRIP_SEGMENTATION/segment_into_trips_time/has_trip_ended",
          "TRIP_SEGMENTATION/segment_into_trips_time/has_trip_ended",
          "TRIP_SEGMENTATION/segment_into_trips_time/has_trip_ended",
          "TRIP_SEGMENTATION/segment_into_trips_time/has_trip_ended",
          "TRIP_SEGMENTATION/segment_into_trips_time/has_trip_ended",
          "TRIP_SEGMENTATION/segment_into_trips_time/has_trip_ended",
          "TRIP_SEGMENTATION/segment_into_trips_time/has_trip_ended",
          "TRIP_SEGMENTATION/segment_into_trips_time/has_trip_ended",
          "TRIP_SEGMENTATION/segment_into_trips_time/has_trip_ended",
          "TRIP_SEGMENTATION/segment_into_trips_time/has_trip_ended",
          "TRIP_SEGMENTATION/segment_into_trips_time/has_trip_ended",
          "TRIP_SEGMENTATION/segment_into_trips_time/has_trip_ended",
          "TRIP_SEGMENTATION/segment_into_trips_time/has_trip_ended",
          "TRIP_SEGMENTATION/segment_into_trips_time/has_trip_ended",
          "TRIP_SEGMENTATION/segment_into_trips_time/has_trip_ended",
          "TRIP_SEGMENTATION/segment_into_trips_time/has_trip_ended",
          "TRIP_SEGMENTATION/segment_into_trips_time/has_trip_ended",
          "TRIP_SEGMENTATION/segment_into_trips_time/has_trip_ended",
          "TRIP_SEGMENTATION/segment_into_trips_time/has_trip_ended",
          "TRIP_SEGMENTATION/segment_into_trips_time/has_trip_ended",
          "TRIP_SEGMENTATION/segment_into_trips_time/has_trip_ended",
          "TRIP_SEGMENTATION/segment_into_trips_time/has_trip_ended",
          "TRIP_SEGMENTATION/segment_into_trips_time/has_trip_ended",
          "TRIP_SEGMENTATION/segment_into_trips_time/has_trip_ended",
          "TRIP_SEGMENTATION/segment_into_trips_time/has_trip_ended",
          "TRIP_SEGMENTATION/segment_into_trips_time/has_trip_ended",
          "TRIP_SEGMENTATION/segment_into_trips_time/has_trip_ended",
          "TRIP_SEGMENTATION/segment_into_trips_time/has_trip_ended",
          "TRIP_SEGMENTATION/segment_into_trips_time/has_trip_ended",
          "TRIP_SEGMENTATION/segment_into_trips_time/has_trip_ended",
          "TRIP_SEGMENTATION/segment_into_trips_time/has_trip_ended",
          "TRIP_SEGMENTATION/segment_into_trips_time/has_trip_ended",
          "TRIP_SEGMENTATION/segment_into_trips_time/has_trip_ended",
          "TRIP_SEGMENTATION/segment_into_trips_time/has_trip_ended",
          "TRIP_SEGMENTATION/segment_into_trips_time/has_trip_ended",
          "TRIP_SEGMENTATION/segment_into_trips_time/has_trip_ended",
          "TRIP_SEGMENTATION/segment_into_trips_time/has_trip_ended",
          "TRIP_SEGMENTATION/segment_into_trips_time/has_trip_ended",
          "TRIP_SEGMENTATION/segment_into_trips_time/has_trip_ended",
          "TRIP_SEGMENTATION/segment_into_trips_time/has_trip_ended",
          "TRIP_SEGMENTATION/segment_into_trips_time/has_trip_ended",
          "TRIP_SEGMENTATION/segment_into_trips_time/has_trip_ended",
          "TRIP_SEGMENTATION/segment_into_trips_time/has_trip_ended",
          "TRIP_SEGMENTATION/segment_into_trips_time/has_trip_ended",
          "TRIP_SEGMENTATION/segment_into_trips_time/has_trip_ended",
          "TRIP_SEGMENTATION/segment_into_trips_time/has_trip_ended",
          "TRIP_SEGMENTATION/segment_into_trips_time/has_trip_ended",
          "TRIP_SEGMENTATION/segment_into_trips_time/has_trip_ended",
          "TRIP_SEGMENTATION/segment_into_trips_time/has_trip_ended",
          "TRIP_SEGMENTATION/segment_into_trips_time/has_trip_ended",
          "TRIP_SEGMENTATION/segment_into_trips_time/has_trip_ended",
          "TRIP_SEGMENTATION/segment_into_trips_time/has_trip_ended",
          "TRIP_SEGMENTATION/segment_into_trips_time/has_trip_ended",
          "TRIP_SEGMENTATION/segment_into_trips_time/has_trip_ended",
          "TRIP_SEGMENTATION/segment_into_trips_time/has_trip_ended",
          "TRIP_SEGMENTATION/segment_into_trips_time/has_trip_ended",
          "TRIP_SEGMENTATION/segment_into_trips_time/has_trip_ended",
          "TRIP_SEGMENTATION/segment_into_trips_time/has_trip_ended",
          "TRIP_SEGMENTATION/segment_into_trips_time/has_trip_ended",
          "TRIP_SEGMENTATION/segment_into_trips_time/has_trip_ended",
          "TRIP_SEGMENTATION/segment_into_trips_time/has_trip_ended",
          "TRIP_SEGMENTATION/segment_into_trips_time/has_trip_ended",
          "TRIP_SEGMENTATION/segment_into_trips_time/has_trip_ended",
          "TRIP_SEGMENTATION/segment_into_trips_time/has_trip_ended",
          "TRIP_SEGMENTATION/segment_into_trips_time/has_trip_ended",
          "TRIP_SEGMENTATION/segment_into_trips_time/has_trip_ended",
          "TRIP_SEGMENTATION/segment_into_trips_time/has_trip_ended",
          "TRIP_SEGMENTATION/segment_into_trips_time/has_trip_ended",
          "TRIP_SEGMENTATION/segment_into_trips_time/has_trip_ended",
          "TRIP_SEGMENTATION/segment_into_trips_time/has_trip_ended",
          "TRIP_SEGMENTATION/segment_into_trips_time/has_trip_ended",
          "TRIP_SEGMENTATION/segment_into_trips_time/has_trip_ended",
          "TRIP_SEGMENTATION/segment_into_trips_time/has_trip_ended",
          "TRIP_SEGMENTATION/segment_into_trips_time/has_trip_ended",
          "TRIP_SEGMENTATION/segment_into_trips_time/has_trip_ended",
          "TRIP_SEGMENTATION/segment_into_trips_time/has_trip_ended",
          "TRIP_SEGMENTATION/segment_into_trips_time/has_trip_ended",
          "TRIP_SEGMENTATION/segment_into_trips_time/has_trip_ended",
          "TRIP_SEGMENTATION/segment_into_trips_time/has_trip_ended",
          "TRIP_SEGMENTATION/segment_into_trips_time/has_trip_ended",
          "TRIP_SEGMENTATION/segment_into_trips_time/has_trip_ended",
          "TRIP_SEGMENTATION/segment_into_trips_time/has_trip_ended",
          "TRIP_SEGMENTATION/segment_into_trips_time/has_trip_ended",
          "TRIP_SEGMENTATION/segment_into_trips_time/has_trip_ended",
          "TRIP_SEGMENTATION/segment_into_trips_time/has_trip_ended",
          "TRIP_SEGMENTATION/segment_into_trips_time/has_trip_ended",
          "TRIP_SEGMENTATION/segment_into_trips_time/has_trip_ended",
          "TRIP_SEGMENTATION/segment_into_trips_time/has_trip_ended",
          "TRIP_SEGMENTATION/segment_into_trips_time/has_trip_ended",
          "TRIP_SEGMENTATION/segment_into_trips_time/has_trip_ended",
          "TRIP_SEGMENTATION/segment_into_trips_time/has_trip_ended",
          "TRIP_SEGMENTATION/segment_into_trips_time/has_trip_ended",
          "TRIP_SEGMENTATION/segment_into_trips_time/has_trip_ended",
          "TRIP_SEGMENTATION/segment_into_trips_time/has_trip_ended",
          "TRIP_SEGMENTATION/segment_into_trips_time/has_trip_ended",
          "TRIP_SEGMENTATION/segment_into_trips_time/has_trip_ended",
          "TRIP_SEGMENTATION/segment_into_trips_time/has_trip_ended",
          "TRIP_SEGMENTATION/segment_into_trips_time/has_trip_ended",
          "TRIP_SEGMENTATION/segment_into_trips_time/has_trip_ended",
          "TRIP_SEGMENTATION/segment_into_trips_time/has_trip_ended",
          "TRIP_SEGMENTATION/segment_into_trips_time/has_trip_ended",
          "TRIP_SEGMENTATION/segment_into_trips_time/has_trip_ended",
          "TRIP_SEGMENTATION/segment_into_trips_time/has_trip_ended",
          "TRIP_SEGMENTATION/segment_into_trips_time/has_trip_ended",
          "TRIP_SEGMENTATION/segment_into_trips_time/has_trip_ended",
          "TRIP_SEGMENTATION/segment_into_trips_time/has_trip_ended",
          "TRIP_SEGMENTATION/segment_into_trips_time/has_trip_ended",
          "TRIP_SEGMENTATION/segment_into_trips_time/has_trip_ended",
          "TRIP_SEGMENTATION/segment_into_trips_time/has_trip_ended",
          "TRIP_SEGMENTATION/segment_into_trips_time/has_trip_ended",
          "TRIP_SEGMENTATION/segment_into_trips_time/has_trip_ended",
          "TRIP_SEGMENTATION/segment_into_trips_time/has_trip_ended",
          "TRIP_SEGMENTATION/segment_into_trips_time/has_trip_ended",
          "TRIP_SEGMENTATION/segment_into_trips_time/has_trip_ended",
          "TRIP_SEGMENTATION/segment_into_trips_time/has_trip_ended",
          "TRIP_SEGMENTATION/segment_into_trips_time/has_trip_ended",
          "TRIP_SEGMENTATION/segment_into_trips_time/has_trip_ended",
          "TRIP_SEGMENTATION/segment_into_trips_time/has_trip_ended",
          "TRIP_SEGMENTATION/segment_into_trips_time/has_trip_ended",
          "TRIP_SEGMENTATION/segment_into_trips_time/has_trip_ended",
          "TRIP_SEGMENTATION/segment_into_trips_time/has_trip_ended",
          "TRIP_SEGMENTATION/segment_into_trips_time/has_trip_ended",
          "TRIP_SEGMENTATION/segment_into_trips_time/has_trip_ended",
          "TRIP_SEGMENTATION/segment_into_trips_time/has_trip_ended",
          "TRIP_SEGMENTATION/segment_into_trips_time/has_trip_ended",
          "TRIP_SEGMENTATION/segment_into_trips_time/has_trip_ended",
          "TRIP_SEGMENTATION/segment_into_trips_time/has_trip_ended",
          "TRIP_SEGMENTATION/segment_into_trips_time/has_trip_ended",
          "TRIP_SEGMENTATION/segment_into_trips_time/has_trip_ended",
          "TRIP_SEGMENTATION/segment_into_trips_time/has_trip_ended",
          "TRIP_SEGMENTATION/segment_into_trips_time/has_trip_ended",
          "TRIP_SEGMENTATION/segment_into_trips_time/has_trip_ended",
          "TRIP_SEGMENTATION/segment_into_trips_time/has_trip_ended",
          "TRIP_SEGMENTATION/segment_into_trips_time/has_trip_ended",
          "TRIP_SEGMENTATION/segment_into_trips_time/has_trip_ended",
          "TRIP_SEGMENTATION/segment_into_trips_time/has_trip_ended",
          "TRIP_SEGMENTATION/segment_into_trips_time/has_trip_ended",
          "TRIP_SEGMENTATION/segment_into_trips_time/has_trip_ended",
          "TRIP_SEGMENTATION/segment_into_trips_time/has_trip_ended",
          "TRIP_SEGMENTATION/segment_into_trips_time/has_trip_ended",
          "TRIP_SEGMENTATION/segment_into_trips_time/has_trip_ended",
          "TRIP_SEGMENTATION/segment_into_trips_time/has_trip_ended",
          "TRIP_SEGMENTATION/segment_into_trips_time/has_trip_ended",
          "TRIP_SEGMENTATION/segment_into_trips_time/has_trip_ended",
          "TRIP_SEGMENTATION/segment_into_trips_time/has_trip_ended",
          "TRIP_SEGMENTATION/segment_into_trips_time/has_trip_ended",
          "TRIP_SEGMENTATION/segment_into_trips_time/has_trip_ended",
          "TRIP_SEGMENTATION/segment_into_trips_time/has_trip_ended",
          "TRIP_SEGMENTATION/segment_into_trips_time/has_trip_ended",
          "TRIP_SEGMENTATION/segment_into_trips_time/has_trip_ended",
          "TRIP_SEGMENTATION/segment_into_trips_time/has_trip_ended",
          "TRIP_SEGMENTATION/segment_into_trips_time/has_trip_ended",
          "TRIP_SEGMENTATION/segment_into_trips_time/has_trip_ended",
          "TRIP_SEGMENTATION/segment_into_trips_time/has_trip_ended",
          "TRIP_SEGMENTATION/segment_into_trips_time/has_trip_ended",
          "TRIP_SEGMENTATION/segment_into_trips_time/has_trip_ended",
          "TRIP_SEGMENTATION/segment_into_trips_time/has_trip_ended",
          "TRIP_SEGMENTATION/segment_into_trips_time/has_trip_ended",
          "TRIP_SEGMENTATION/segment_into_trips_time/has_trip_ended",
          "TRIP_SEGMENTATION/segment_into_trips_time/has_trip_ended",
          "TRIP_SEGMENTATION/segment_into_trips_time/has_trip_ended",
          "TRIP_SEGMENTATION/segment_into_trips_time/has_trip_ended",
          "TRIP_SEGMENTATION/segment_into_trips_time/has_trip_ended",
          "TRIP_SEGMENTATION/segment_into_trips_time/has_trip_ended",
          "TRIP_SEGMENTATION/segment_into_trips_time/has_trip_ended",
          "TRIP_SEGMENTATION/segment_into_trips_time/has_trip_ended",
          "TRIP_SEGMENTATION/segment_into_trips_time/has_trip_ended",
          "TRIP_SEGMENTATION/segment_into_trips_time/has_trip_ended",
          "TRIP_SEGMENTATION/segment_into_trips_time/has_trip_ended",
          "TRIP_SEGMENTATION/segment_into_trips_time/has_trip_ended",
          "TRIP_SEGMENTATION/segment_into_trips_time/has_trip_ended",
          "TRIP_SEGMENTATION/segment_into_trips_time/has_trip_ended",
          "TRIP_SEGMENTATION/segment_into_trips_time/has_trip_ended",
          "TRIP_SEGMENTATION/segment_into_trips_time/has_trip_ended",
          "TRIP_SEGMENTATION/segment_into_trips_time/has_trip_ended",
          "TRIP_SEGMENTATION/segment_into_trips_time/has_trip_ended",
          "TRIP_SEGMENTATION/segment_into_trips_time/has_trip_ended",
          "TRIP_SEGMENTATION/segment_into_trips_time/has_trip_ended",
          "TRIP_SEGMENTATION/segment_into_trips_time/has_trip_ended",
          "TRIP_SEGMENTATION/segment_into_trips_time/has_trip_ended",
          "TRIP_SEGMENTATION/segment_into_trips_time/has_trip_ended",
          "TRIP_SEGMENTATION/segment_into_trips_time/has_trip_ended",
          "TRIP_SEGMENTATION/segment_into_trips_time/has_trip_ended",
          "TRIP_SEGMENTATION/segment_into_trips_time/has_trip_ended",
          "TRIP_SEGMENTATION/segment_into_trips_time/has_trip_ended",
          "TRIP_SEGMENTATION/segment_into_trips_time/has_trip_ended",
          "TRIP_SEGMENTATION/segment_into_trips_time/has_trip_ended",
          "TRIP_SEGMENTATION/segment_into_trips_time/has_trip_ended",
          "TRIP_SEGMENTATION/segment_into_trips_time/has_trip_ended",
          "TRIP_SEGMENTATION/segment_into_trips_time/has_trip_ended",
          "TRIP_SEGMENTATION/segment_into_trips_time/has_trip_ended",
          "TRIP_SEGMENTATION/segment_into_trips_time/has_trip_ended",
          "TRIP_SEGMENTATION/segment_into_trips_time/has_trip_ended",
          "TRIP_SEGMENTATION/segment_into_trips_time/has_trip_ended",
          "TRIP_SEGMENTATION/segment_into_trips_time/has_trip_ended",
          "TRIP_SEGMENTATION/segment_into_trips_time/has_trip_ended",
          "TRIP_SEGMENTATION/segment_into_trips_time/has_trip_ended",
          "TRIP_SEGMENTATION/segment_into_trips_time/has_trip_ended",
          "TRIP_SEGMENTATION/segment_into_trips_time/has_trip_ended",
          "TRIP_SEGMENTATION/segment_into_trips_time/has_trip_ended",
          "TRIP_SEGMENTATION/segment_into_trips_time/has_trip_ended",
          "TRIP_SEGMENTATION/segment_into_trips_time/has_trip_ended",
          "TRIP_SEGMENTATION/segment_into_trips_time/has_trip_ended",
          "TRIP_SEGMENTATION/segment_into_trips_time/has_trip_ended",
          "TRIP_SEGMENTATION/segment_into_trips_time/has_trip_ended",
          "TRIP_SEGMENTATION/segment_into_trips_time/has_trip_ended",
          "TRIP_SEGMENTATION/segment_into_trips_time/has_trip_ended",
          "TRIP_SEGMENTATION/segment_into_trips_time/has_trip_ended",
          "TRIP_SEGMENTATION/segment_into_trips_time/has_trip_ended",
          "TRIP_SEGMENTATION/segment_into_trips_time/has_trip_ended",
          "TRIP_SEGMENTATION/segment_into_trips_time/has_trip_ended",
          "TRIP_SEGMENTATION/segment_into_trips_time/has_trip_ended",
          "TRIP_SEGMENTATION/segment_into_trips_time/has_trip_ended",
          "TRIP_SEGMENTATION/segment_into_trips_time/has_trip_ended",
          "TRIP_SEGMENTATION/segment_into_trips_time/has_trip_ended",
          "TRIP_SEGMENTATION/segment_into_trips_time/has_trip_ended",
          "TRIP_SEGMENTATION/segment_into_trips_time/has_trip_ended",
          "TRIP_SEGMENTATION/segment_into_trips_time/has_trip_ended",
          "TRIP_SEGMENTATION/segment_into_trips_time/has_trip_ended",
          "TRIP_SEGMENTATION/segment_into_trips_time/has_trip_ended",
          "TRIP_SEGMENTATION/segment_into_trips_time/has_trip_ended",
          "TRIP_SEGMENTATION/segment_into_trips_time/has_trip_ended",
          "TRIP_SEGMENTATION/segment_into_trips_time/has_trip_ended",
          "TRIP_SEGMENTATION/segment_into_trips_time/has_trip_ended",
          "TRIP_SEGMENTATION/segment_into_trips_time/has_trip_ended",
          "TRIP_SEGMENTATION/segment_into_trips_time/has_trip_ended",
          "TRIP_SEGMENTATION/segment_into_trips_time/has_trip_ended",
          "TRIP_SEGMENTATION/segment_into_trips_time/has_trip_ended",
          "TRIP_SEGMENTATION/segment_into_trips_time/has_trip_ended",
          "TRIP_SEGMENTATION/segment_into_trips_time/has_trip_ended",
          "TRIP_SEGMENTATION/segment_into_trips_time/has_trip_ended",
          "TRIP_SEGMENTATION/segment_into_trips_time/has_trip_ended",
          "TRIP_SEGMENTATION/segment_into_trips_time/has_trip_ended",
          "TRIP_SEGMENTATION/segment_into_trips_time/has_trip_ended",
          "TRIP_SEGMENTATION/segment_into_trips_time/has_trip_ended",
          "TRIP_SEGMENTATION/segment_into_trips_time/has_trip_ended",
          "TRIP_SEGMENTATION/segment_into_trips_time/has_trip_ended",
          "TRIP_SEGMENTATION/segment_into_trips_time/has_trip_ended",
          "TRIP_SEGMENTATION/segment_into_trips_time/has_trip_ended",
          "TRIP_SEGMENTATION/segment_into_trips_time/has_trip_ended",
          "TRIP_SEGMENTATION/segment_into_trips_time/has_trip_ended",
          "TRIP_SEGMENTATION/segment_into_trips_time/has_trip_ended",
          "TRIP_SEGMENTATION/segment_into_trips_time/has_trip_ended",
          "TRIP_SEGMENTATION/segment_into_trips_time/has_trip_ended",
          "TRIP_SEGMENTATION/segment_into_trips_time/has_trip_ended",
          "TRIP_SEGMENTATION/segment_into_trips_time/has_trip_ended",
          "TRIP_SEGMENTATION/segment_into_trips_time/has_trip_ended",
          "TRIP_SEGMENTATION/segment_into_trips_time/has_trip_ended",
          "TRIP_SEGMENTATION/segment_into_trips_time/has_trip_ended",
          "TRIP_SEGMENTATION/segment_into_trips_time/has_trip_ended",
          "TRIP_SEGMENTATION/segment_into_trips_time/has_trip_ended",
          "TRIP_SEGMENTATION/segment_into_trips_time/has_trip_ended",
          "TRIP_SEGMENTATION/segment_into_trips_time/has_trip_ended",
          "TRIP_SEGMENTATION/segment_into_trips_time/has_trip_ended",
          "TRIP_SEGMENTATION/segment_into_trips_time/has_trip_ended",
          "TRIP_SEGMENTATION/segment_into_trips_time/has_trip_ended",
          "TRIP_SEGMENTATION/segment_into_trips_time/has_trip_ended",
          "TRIP_SEGMENTATION/segment_into_trips_time/has_trip_ended",
          "TRIP_SEGMENTATION/segment_into_trips_time/has_trip_ended",
          "TRIP_SEGMENTATION/segment_into_trips_time/has_trip_ended",
          "TRIP_SEGMENTATION/segment_into_trips_time/has_trip_ended",
          "TRIP_SEGMENTATION/segment_into_trips_time/has_trip_ended",
          "TRIP_SEGMENTATION/segment_into_trips_time/has_trip_ended",
          "TRIP_SEGMENTATION/segment_into_trips_time/has_trip_ended",
          "TRIP_SEGMENTATION/segment_into_trips_time/has_trip_ended",
          "TRIP_SEGMENTATION/segment_into_trips_time/has_trip_ended",
          "TRIP_SEGMENTATION/segment_into_trips_time/has_trip_ended",
          "TRIP_SEGMENTATION/segment_into_trips_time/has_trip_ended",
          "TRIP_SEGMENTATION/segment_into_trips_time/has_trip_ended",
          "TRIP_SEGMENTATION/segment_into_trips_time/has_trip_ended",
          "TRIP_SEGMENTATION/segment_into_trips_time/has_trip_ended",
          "TRIP_SEGMENTATION/segment_into_trips_time/has_trip_ended",
          "TRIP_SEGMENTATION/segment_into_trips_time/has_trip_ended",
          "TRIP_SEGMENTATION/segment_into_trips_time/has_trip_ended",
          "TRIP_SEGMENTATION/segment_into_trips_time/has_trip_ended",
          "TRIP_SEGMENTATION/segment_into_trips_time/has_trip_ended",
          "TRIP_SEGMENTATION/segment_into_trips_time/has_trip_ended",
          "TRIP_SEGMENTATION/segment_into_trips_time/has_trip_ended",
          "TRIP_SEGMENTATION/segment_into_trips_time/has_trip_ended",
          "TRIP_SEGMENTATION/segment_into_trips_time/has_trip_ended",
          "TRIP_SEGMENTATION/segment_into_trips_time/has_trip_ended",
          "TRIP_SEGMENTATION/segment_into_trips_time/has_trip_ended",
          "TRIP_SEGMENTATION/segment_into_trips_time/has_trip_ended",
          "TRIP_SEGMENTATION/segment_into_trips_time/has_trip_ended",
          "TRIP_SEGMENTATION/segment_into_trips_time/has_trip_ended",
          "TRIP_SEGMENTATION/segment_into_trips_time/has_trip_ended",
          "TRIP_SEGMENTATION/segment_into_trips_time/has_trip_ended",
          "TRIP_SEGMENTATION/segment_into_trips_time/has_trip_ended",
          "TRIP_SEGMENTATION/segment_into_trips_time/has_trip_ended",
          "TRIP_SEGMENTATION/segment_into_trips_time/has_trip_ended",
          "TRIP_SEGMENTATION/segment_into_trips_time/has_trip_ended",
          "TRIP_SEGMENTATION/segment_into_trips_time/has_trip_ended",
          "TRIP_SEGMENTATION/segment_into_trips_time/has_trip_ended",
          "TRIP_SEGMENTATION/segment_into_trips_time/loop",
          "TRIP_SEGMENTATION/segment_into_trips",
          "TRIP_SEGMENTATION/create_places_and_trips"
         ],
         "yaxis": "y"
        },
        {
         "hovertemplate": "branch=master<br>reading=%{x}<br>name=%{y}<extra></extra>",
         "legendgroup": "master",
         "marker": {
          "color": "#EF553B",
          "pattern": {
           "shape": ""
          }
         },
         "name": "master",
         "orientation": "h",
         "showlegend": true,
         "textposition": "auto",
         "type": "bar",
         "x": [
          0.15248608299999944,
          3.2515403339999995,
          3.215522542,
          0.0006857089999998678,
          0.00042758300000045324,
          0.0003846659999995339,
          0.00045004099999967906,
          0.0003737089999997778,
          0.0003786659999995834,
          0.00039229099999982253,
          0.0003982499999999334,
          0.0004337500000000105,
          0.00046245900000041473,
          0.00004533300000009177,
          0.0007484579999998964,
          0.00037395799999995205,
          0.000539750000000172,
          0.00036833299999994296,
          0.0003671659999997523,
          0.0003642500000000659,
          0.00034270799999980284,
          0.00037424999999968733,
          0.00038387499999981145,
          0.0004399170000000119,
          0.000043833000000326194,
          0.0007312499999998501,
          0.00034979099999965513,
          0.0003844590000001702,
          0.0003563340000001247,
          0.00039400000000000546,
          0.00039145799999973363,
          0.0003767500000000368,
          0.00040512499999989515,
          0.00040020799999984646,
          0.0003581249999999869,
          0.0020081670000000607,
          0.0003638750000001245,
          0.00037116699999995006,
          0.0004092909999999783,
          0.0003992079999997067,
          0.00037191700000027694,
          0.00033695800000010934,
          0.00038079099999999144,
          0.00037549999999964,
          0.0005015409999997722,
          0.0004365840000000176,
          0.0005088340000001246,
          0.0004845410000000605,
          0.00040820899999971516,
          0.0004192500000002042,
          0.0003811670000000156,
          0.00048633300000000546,
          0.00039925000000007316,
          0.00038233400000020623,
          0.00044579200000027797,
          0.00036112499999996217,
          0.0004020000000002355,
          0.0004722919999999853,
          0.0006652080000000282,
          0.0003755420000000065,
          0.0004672499999998081,
          0.0004089160000000369,
          0.000356082999999785,
          0.000395417000000009,
          0.00037787500000030505,
          0.0003764579999998574,
          0.0004248330000002909,
          0.00045358300000009066,
          0.0004470830000000703,
          0.0004944999999998423,
          0.0005100840000000773,
          0.00044895899999986,
          0.0005930000000002877,
          0.00046999999999997044,
          0.0004489170000003817,
          0.0004414160000001388,
          0.0004811250000003042,
          0.0004581660000000376,
          0.0005255829999999406,
          0.00047537500000016664,
          0.0005098340000002644,
          0.000468082999999897,
          0.00048691600000028146,
          0.0004762500000001779,
          0.0004002909999996085,
          0.00046183399999977226,
          0.0004290000000000127,
          0.00048191600000002666,
          0.0004500419999997618,
          0.00046412500000014845,
          0.000492916000000232,
          0.00041100000000016124,
          0.0004472909999999608,
          0.0004468749999997357,
          0.00042658300000031346,
          0.0005091250000002212,
          0.0004444999999999588,
          0.00042016700000013785,
          0.00040541699999963043,
          0.0004337090000001709,
          0.00046349999999995006,
          0.00041395799999977,
          0.00045412500000008293,
          0.0004220419999998448,
          0.00042358299999989413,
          0.00047591600000007617,
          0.0004429159999999044,
          0.000429624999999767,
          0.0004144579999998399,
          0.0004861670000000373,
          0.00035454200000017977,
          0.00043300000000012773,
          0.00043166699999996894,
          0.0005017920000001119,
          0.000415084000000121,
          0.00044679199999997365,
          0.0004434169999996129,
          0.0003713330000003623,
          0.00039083299999997934,
          0.00036895800000014134,
          0.00043812500000006693,
          0.0004497500000000265,
          0.0004282920000000523,
          0.000529957999999997,
          0.00046683400000002706,
          0.0005555409999997707,
          0.000503750000000025,
          0.00045458299999978635,
          0.00042879100000003945,
          0.0005233339999999309,
          0.00042120800000011727,
          0.000401875000000107,
          0.0004130830000002028,
          0.00037754199999984195,
          0.00038966600000023277,
          0.0004279999999998729,
          0.00038874999999993776,
          0.00041395799999977,
          0.0004497500000000265,
          0.0003967080000002454,
          0.00038566599999967366,
          0.00041404200000005886,
          0.0003752920000001936,
          0.0004901669999997083,
          0.00045399999999995444,
          0.0004705419999999627,
          0.0004281250000000014,
          0.00044216700000010434,
          0.0004126669999999777,
          0.000443417000000057,
          0.0005308749999999307,
          0.00042604199999995984,
          0.00043366600000016575,
          0.0003937079999998261,
          0.0004606250000001033,
          0.0005071249999999417,
          0.00042845800000002043,
          0.0004916249999999955,
          0.000360000000000138,
          0.00045983300000029814,
          0.00044587500000004,
          0.00042241600000014756,
          0.0004900829999998635,
          0.00045154199999997147,
          0.0004448749999999002,
          0.0005484999999998408,
          0.0004937499999999595,
          0.0005466659999999735,
          0.0004702920000001498,
          0.0005143329999999224,
          0.0004892920000001411,
          0.00045824999999988236,
          0.0004918329999998861,
          0.0004645409999999295,
          0.00047200000000025,
          0.0005432079999998507,
          0.0004520409999999586,
          0.00048154100000008526,
          0.0004909159999999524,
          0.000510791000000399,
          0.000639166999999663,
          0.0006823329999998684,
          0.0006119589999999953,
          0.0006137920000002239,
          0.0005643339999998886,
          0.0005580420000002029,
          0.00045979100000037576,
          0.0006114159999999202,
          0.0006319580000000435,
          0.00045983300000029814,
          0.0005187499999999012,
          0.0004169169999999056,
          0.0004580830000002756,
          0.00045874999999995225,
          0.00042316600000003035,
          0.0004792499999997091,
          0.0004755420000002175,
          0.00041620799999986247,
          0.00045608400000007876,
          0.00043854099999984797,
          0.0004725419999997982,
          0.0004721670000003009,
          0.00047550000000029513,
          0.0004811250000003042,
          0.00046837500000007637,
          0.0005546249999999198,
          0.0005131670000002586,
          0.0005502499999998633,
          0.0005825420000000747,
          0.0005509579999998238,
          0.0005457079999997561,
          0.0004668329999999443,
          0.0006281669999999018,
          0.0005323750000001404,
          0.0004956250000001106,
          0.0005384589999999356,
          0.0004612500000003017,
          0.000524332999999988,
          0.00046316699999993105,
          0.0005462499999997483,
          0.0005112089999999014,
          0.0006271660000001233,
          0.0005908749999998797,
          0.0004883339999999237,
          0.0005461250000000639,
          0.00046816700000018585,
          0.0005184159999997995,
          0.000411166999999768,
          0.00047466700000020623,
          0.0006135839999998893,
          0.0004253329999999167,
          0.0004894160000001868,
          0.0005104579999999359,
          0.0006399159999999071,
          0.00044383300000028214,
          0.0005727499999998997,
          0.0005315829999998911,
          0.0005222499999999464,
          0.0005279579999997175,
          0.0007085000000000008,
          0.0005891249999998571,
          0.0004871670000001771,
          0.00042495900000005804,
          0.0005182500000002754,
          0.0005069999999998132,
          0.0004907499999999843,
          0.0005521250000000144,
          0.00041891600000010243,
          0.0004705839999998851,
          0.00045412500000008293,
          0.00037133400000000094,
          0.0004128749999998682,
          0.00043112499999997667,
          0.0004130419999999191,
          0.00043758300000007466,
          0.0004241669999998088,
          0.0004143749999996338,
          0.0004238330000001511,
          0.00038558299999991164,
          0.00046916699999988154,
          0.0004619580000002621,
          0.00042662499999979175,
          0.000427334000000279,
          0.0004549170000003322,
          0.0004919170000001749,
          0.0005454999999998655,
          0.0004379160000000937,
          0.00042108299999998877,
          0.00044704200000023064,
          0.0004875420000001185,
          0.0004947090000002596,
          0.0004886659999998599,
          0.000395750000000028,
          0.00042529200000007705,
          0.00045862499999982376,
          0.0004682910000002316,
          0.00047320899999991894,
          0.0004289580000000903,
          0.0005164999999998088,
          0.0005226250000003319,
          0.00047279099999997243,
          0.0004442920000000683,
          0.0004787909999999229,
          0.0004756669999999019,
          0.0004770830000002668,
          0.0004435420000001855,
          0.0004797089999999393,
          0.00047512499999990965,
          0.0004161670000000228,
          0.000500333000000186,
          0.00051208299999983,
          0.0004494170000000075,
          0.00041049999999964726,
          0.00041645800000011945,
          0.00036775000000011104,
          0.0003880840000003438,
          0.000408666000000224,
          0.0003944579999997089,
          0.0004099590000001818,
          0.0003917079999999906,
          0.000439499999999704,
          0.0004397080000000386,
          0.0020391250000000305,
          0.0020679169999997526,
          0.00048487500000016226,
          0.00038312499999992866,
          0.0004224169999997862,
          0.00037529100000011084,
          0.00043299999999968364,
          0.00046095799999967824,
          0.00039829199999985576,
          0.0004909170000000351,
          0.00044808300000021006,
          0.0003922080000000605,
          0.0004299580000002301,
          0.0003857499999999625,
          0.0004460410000000081,
          0.0003869579999999928,
          0.0022716250000001104,
          0.00004912499999987219,
          0.0007605000000001638,
          0.0005777920000000769,
          0.000477291999999796,
          0.0006493330000001407,
          0.0004781669999998073,
          0.0005671250000003347,
          0.000583750000000105,
          0.0005106670000003533,
          0.00047329200000012506,
          0.0005706669999998581,
          0.0004655000000002296,
          0.0004992090000000005,
          0.0004584589999998556,
          0.0005079580000000306,
          0.0004198749999999585,
          0.0005675410000001158,
          0.00048454200000014325,
          0.0005686670000000227,
          0.0005756250000001906,
          0.0008867499999998252,
          0.0006690000000002527,
          0.000545542000000232,
          0.0005435419999999525,
          0.0004295000000000826,
          0.00038987500000020603,
          0.00042604199999995984,
          0.0004161670000000228,
          0.0004180839999996522,
          0.00041495899999999253,
          0.0004628749999997517,
          0.0004186669999999282,
          0.0004572500000001867,
          0.0004447500000002158,
          0.00046441699999988373,
          0.00043649999999972877,
          0.0004078750000000575,
          0.00039200000000017,
          0.0003565839999999376,
          0.0003792920000003086,
          0.00033462499999981077,
          0.000340666000000045,
          0.00042258300000019844,
          0.000046417000000076314,
          0.0024379170000004002,
          0.0003845839999998546,
          0.0003962500000000979,
          0.0003872080000002498,
          0.00032504100000041447,
          0.0003340410000003402,
          0.0003701249999998879,
          0.000318791000000207,
          0.0003594170000003061,
          0.00037516599999998235,
          0.00004454199999992525,
          0.0006915419999997674,
          0.0004128749999998682,
          0.0004244579999999054,
          0.00041179099999988367,
          0.00037004100000004314,
          0.00035712500000029124,
          0.00035187499999977945,
          0.00045437499999989583,
          0.000043542000000229564,
          0.0006925840000002736,
          0.000521792000000243,
          0.00037737499999979107,
          0.00041120799999960767,
          0.00041808300000001353,
          0.00036895800000014134,
          0.0003707079999997198,
          0.0003879580000001326,
          0.0003873329999999342,
          0.0003867080000001799,
          0.0004115000000002311,
          0.00042262499999967673,
          0.0004088749999997532,
          0.0004443749999998303,
          0.0004288750000003283,
          0.00038129100000006133,
          0.0004021249999999199,
          0.0004556669999997709,
          0.00041941699999981097,
          0.0004561249999999184,
          0.0004630830000000863,
          0.000385624999999834,
          0.00037020900000017676,
          0.00041420899999966565,
          0.00036700000000022825,
          0.0003586669999999792,
          0.00039537500000008663,
          0.00037766699999997044,
          0.00034149999999977254,
          0.00033500000000019625,
          0.00033104099999992087,
          0.00004366699999991397,
          0.000700666000000183,
          0.00038791699999984885,
          0.0003999590000001163,
          0.0004238750000000735,
          0.0004041249999997554,
          0.0003586669999999792,
          0.0003808750000002803,
          0.00033429200000023584,
          0.0003667090000001316,
          0.0003574170000000265,
          0.0003557910000000497,
          0.002554417000000253,
          0.0003662499999999014,
          0.0003825829999999364,
          0.00039374999999974847,
          0.0004363329999996779,
          0.0003846670000000607,
          0.0003677920000000334,
          0.0003916250000002286,
          0.00039387499999987696,
          0.0003298339999999733,
          0.00034183300000023564,
          0.0019988749999999555,
          0.00004425000000018997,
          0.0006827910000000159,
          0.0004134169999998605,
          0.00042712499999986164,
          0.00035166699999988893,
          0.00035154199999976044,
          0.0004021249999999199,
          0.00034416700000017286,
          0.00039029099999998706,
          0.00036300000000011323,
          0.0024621250000000927,
          0.00035883299999994733,
          0.00040508300000041686,
          0.0003973749999999221,
          0.0004121670000003519,
          0.00034195799999992005,
          0.00037079200000000867,
          0.00033733300000005073,
          0.0003236659999998892,
          0.00038208399999994924,
          0.0004558750000001055,
          0.000048249999999860904,
          0.0023873750000000804,
          0.0003553329999999022,
          0.00037408300000008055,
          0.00045949999999983504,
          0.00041833400000035326,
          0.0004109169999999551,
          0.0003847920000001892,
          0.00048016700000008683,
          0.0003792919999998645,
          0.0003747080000000569,
          0.0003686250000001223,
          0.0003947080000001879,
          0.0003832080000001348,
          0.0004813749999998951,
          0.00041787499999990096,
          0.0004384579999998639,
          0.00046312500000000867,
          0.0004244579999999054,
          0.00038120900000016,
          0.0004310410000001319,
          0.0004501660000000296,
          0.0004082910000000606,
          0.00037070799999994186,
          0.0004034580000000787,
          0.0004498340000000933,
          0.0004833330000000302,
          0.0004664580000000029,
          0.00042329200000001954,
          0.00047874999999986123,
          0.00047558399999991785,
          0.0005654999999999966,
          0.0004422090000000267,
          0.0004608339999998545,
          0.0005461249999998419,
          0.0005094169999999565,
          0.00048362499999998754,
          0.0005712920000000565,
          0.0004161670000000228,
          0.00045895900000014755,
          0.00042545799999982314,
          0.0004259580000001151,
          0.00036662499999984277,
          0.00046845800000006044,
          0.00044245900000006166,
          0.00045650000000008184,
          0.00045179199999978437,
          0.00040908299999986575,
          0.00038904200000011713,
          0.0004781249999998849,
          0.00042949999999986055,
          0.0004605829999999589,
          0.000469875000000064,
          0.00046291700000011815,
          0.0005296669999999004,
          0.00040437500000001236,
          0.00046495900000009804,
          0.0004780829999999625,
          0.0004598339999999368,
          0.0003763750000000954,
          0.00045700000000015173,
          0.0004321669999998168,
          0.00047370800000012814,
          0.0004929999999998547,
          0.0004949169999999281,
          0.0004895410000000933,
          0.0003629169999999071,
          0.00039358299999991964,
          0.0003937919999998929,
          0.0004253749999998391,
          0.0004176659999999277,
          0.00040729100000014284,
          0.0004011250000000022,
          0.0003729580000000343,
          0.0004184579999999549,
          0.00037437500000003787,
          0.00038283399999983203,
          0.0004203339999999667,
          0.0004411659999998818,
          0.00047195899999996627,
          0.0005005409999998545,
          0.0004720839999998727,
          0.0005307080000001019,
          0.00043662499999985727,
          0.00042783299999982205,
          0.0004239169999999959,
          0.0004992919999999845,
          0.0004106669999999202,
          0.0005876250000000915,
          0.0004434159999999743,
          0.0004945419999999867,
          0.0004302500000001874,
          0.000507334000000137,
          0.00036645899999987464,
          0.00045779099999987416,
          0.00044129200000009305,
          0.0004377499999999035,
          0.0004285410000000045,
          0.0004389160000000114,
          0.00044191599999998665,
          0.0005361670000001428,
          0.0004759590000000813,
          0.0004806669999999347,
          0.00046199999999996244,
          0.0005603750000000574,
          0.00044200000000005346,
          0.0005382499999999624,
          0.00041358399999991136,
          0.0004399170000000119,
          0.00041525000000008916,
          0.0004709579999999658,
          0.0004277079999999156,
          0.0004649580000000153,
          0.00044554199999979893,
          0.0003999169999999719,
          0.00043999999999999595,
          0.0004453749999999701,
          0.00046245899999997064,
          0.0004524579999998224,
          0.0004571250000000582,
          0.00045520799999998474,
          0.000543832999999827,
          0.0004132909999998713,
          0.0003944999999998533,
          0.0004087909999999084,
          0.00041325000000003165,
          0.00045125000000001414,
          0.00037308299999994077,
          0.0003806669999999457,
          0.0004325830000000419,
          0.000437542000000013,
          0.0005415419999998949,
          0.00044474999999999376,
          0.0004668749999998667,
          0.00045087500000007275,
          0.0004428329999999203,
          0.0004693749999999941,
          0.0004421249999999599,
          0.00047766699999995943,
          0.0005116670000000489,
          0.000387417000000001,
          0.0004657499999998205,
          0.0004433329999999902,
          0.0005128329999999348,
          0.00044800000000000395,
          0.0004990000000000272,
          0.00038245800000002994,
          0.00046891700000006864,
          0.00045791600000000265,
          0.0005011669999999135,
          0.00037720799999996224,
          0.00039041699999997626,
          0.0004394580000000037,
          0.00043770900000006385,
          0.0004339999999998234,
          0.0004344170000001313,
          0.0004642080000001325,
          0.0004402500000000309,
          0.00045962499999996353,
          0.0004650830000001438,
          0.0005550420000000056,
          0.00040345799999985665,
          0.00044116699999996456,
          0.0004832919999999685,
          0.00037970800000008964,
          0.0005104590000000186,
          0.0004433329999999902,
          0.00043125000000010516,
          0.00043966699999997694,
          0.0003769160000000049,
          0.0004162500000000069,
          0.0003923750000001114,
          0.0004881249999999504,
          0.0003810840000000315,
          0.0004482919999999613,
          0.0004522080000000095,
          0.0005608329999999828,
          0.00043637500000004437,
          0.00045787499999994097,
          0.00041120800000005175,
          0.0004915000000000891,
          0.0004957080000000946,
          0.0004902499999999144,
          0.00046487500000003124,
          0.0004498339999998713,
          0.00043554199999995546,
          0.0004943330000000135,
          0.00044666699999984516,
          0.0004644170000001058,
          0.0004257500000000025,
          0.00048629099999986103,
          0.0004376669999999194,
          0.00045504099999993386,
          0.00043312499999981213,
          0.0004604590000001352,
          0.0004350830000001693,
          0.0003751670000000651,
          0.0004396249999998325,
          0.0004046669999999697,
          0.00041270799999981733,
          0.0004048329999999378,
          0.0004498339999998713,
          0.00004899999999996574,
          0.0008007910000000784,
          0.00045304099999987635,
          0.00045483300000004334,
          0.0004403340000000977,
          0.00044575000000013354,
          0.00038983400000014434,
          0.0005010839999999295,
          0.0005106249999999868,
          0.0004678750000000065,
          0.0005502499999998633,
          0.00043883300000002734,
          0.0005250000000001087,
          0.0004510410000000409,
          0.0005172499999999136,
          0.0004355000000000331,
          0.00047279200000005517,
          0.00043283300000007685,
          0.0004895839999998763,
          0.0004405830000000499,
          0.0005225829999999654,
          0.000543084000000027,
          0.00047629100000001756,
          0.00048041600000003903,
          0.00042837500000003637,
          0.0005867090000000186,
          0.00045716699999998056,
          0.0004320420000001324,
          0.00042670899999985856,
          0.00043404199999996784,
          0.00048279100000003794,
          0.0003715420000001135,
          0.00047079100000013696,
          0.0004381249999998449,
          0.0004794590000001264,
          0.00046554199999992996,
          0.0006176660000001277,
          0.0004884579999999694,
          0.000549542000000125,
          0.0006348750000000347,
          0.0004834580000001587,
          0.0004981250000000159,
          0.0006232500000000751,
          0.0004382499999999734,
          0.00041208300000006304,
          0.0003974589999999889,
          0.0004617909999999892,
          0.00039958300000009217,
          0.0004903749999998208,
          0.00047270799999998836,
          0.0005429580000000378,
          0.0005159999999999609,
          0.0005325410000001085,
          0.0004653749999998791,
          0.0005539999999999434,
          0.0004986659999999254,
          0.0005171670000001516,
          0.0004809580000000313,
          0.00047808300000007353,
          0.0004363339999999827,
          0.0005168329999999388,
          0.0005435000000000301,
          0.0005257499999999915,
          0.0005532499999999496,
          0.0005044169999999237,
          0.0005802500000000599,
          0.0005672920000000525,
          0.0007321250000000834,
          0.0008779999999999344,
          0.0005960000000000409,
          0.0029338749999999747,
          0.0011132910000000162,
          0.0017114169999999929,
          0.0005144169999999892,
          0.00047008300000006553,
          0.0006485410000000025,
          0.0004914579999999447,
          0.0005316249999999245,
          0.0004917089999999513,
          0.0004967500000000458,
          0.00047470800000004587,
          0.0005113329999999472,
          0.0005533749999999671,
          0.0004238330000000401,
          0.0005632500000000151,
          0.0004281670000000348,
          0.0004214169999999795,
          0.0006291670000000416,
          0.0004975830000000236,
          0.000558207999999949,
          0.000580083000000009,
          0.0023075840000000847,
          0.0000567919999999722,
          0.04456904100000003
         ],
         "xaxis": "x",
         "y": [
          "TRIP_SEGMENTATION/create_places_and_trips",
          "TRIP_SEGMENTATION/segment_into_trips",
          "TRIP_SEGMENTATION/segment_into_trips_time/loop",
          "TRIP_SEGMENTATION/segment_into_trips_time/has_trip_ended",
          "TRIP_SEGMENTATION/segment_into_trips_time/has_trip_ended",
          "TRIP_SEGMENTATION/segment_into_trips_time/has_trip_ended",
          "TRIP_SEGMENTATION/segment_into_trips_time/has_trip_ended",
          "TRIP_SEGMENTATION/segment_into_trips_time/has_trip_ended",
          "TRIP_SEGMENTATION/segment_into_trips_time/has_trip_ended",
          "TRIP_SEGMENTATION/segment_into_trips_time/has_trip_ended",
          "TRIP_SEGMENTATION/segment_into_trips_time/has_trip_ended",
          "TRIP_SEGMENTATION/segment_into_trips_time/has_trip_ended",
          "TRIP_SEGMENTATION/segment_into_trips_time/has_trip_ended",
          "TRIP_SEGMENTATION/segment_into_trips_time/has_trip_ended",
          "TRIP_SEGMENTATION/segment_into_trips_time/has_trip_ended",
          "TRIP_SEGMENTATION/segment_into_trips_time/has_trip_ended",
          "TRIP_SEGMENTATION/segment_into_trips_time/has_trip_ended",
          "TRIP_SEGMENTATION/segment_into_trips_time/has_trip_ended",
          "TRIP_SEGMENTATION/segment_into_trips_time/has_trip_ended",
          "TRIP_SEGMENTATION/segment_into_trips_time/has_trip_ended",
          "TRIP_SEGMENTATION/segment_into_trips_time/has_trip_ended",
          "TRIP_SEGMENTATION/segment_into_trips_time/has_trip_ended",
          "TRIP_SEGMENTATION/segment_into_trips_time/has_trip_ended",
          "TRIP_SEGMENTATION/segment_into_trips_time/has_trip_ended",
          "TRIP_SEGMENTATION/segment_into_trips_time/has_trip_ended",
          "TRIP_SEGMENTATION/segment_into_trips_time/has_trip_ended",
          "TRIP_SEGMENTATION/segment_into_trips_time/has_trip_ended",
          "TRIP_SEGMENTATION/segment_into_trips_time/has_trip_ended",
          "TRIP_SEGMENTATION/segment_into_trips_time/has_trip_ended",
          "TRIP_SEGMENTATION/segment_into_trips_time/has_trip_ended",
          "TRIP_SEGMENTATION/segment_into_trips_time/has_trip_ended",
          "TRIP_SEGMENTATION/segment_into_trips_time/has_trip_ended",
          "TRIP_SEGMENTATION/segment_into_trips_time/has_trip_ended",
          "TRIP_SEGMENTATION/segment_into_trips_time/has_trip_ended",
          "TRIP_SEGMENTATION/segment_into_trips_time/has_trip_ended",
          "TRIP_SEGMENTATION/segment_into_trips_time/has_trip_ended",
          "TRIP_SEGMENTATION/segment_into_trips_time/has_trip_ended",
          "TRIP_SEGMENTATION/segment_into_trips_time/has_trip_ended",
          "TRIP_SEGMENTATION/segment_into_trips_time/has_trip_ended",
          "TRIP_SEGMENTATION/segment_into_trips_time/has_trip_ended",
          "TRIP_SEGMENTATION/segment_into_trips_time/has_trip_ended",
          "TRIP_SEGMENTATION/segment_into_trips_time/has_trip_ended",
          "TRIP_SEGMENTATION/segment_into_trips_time/has_trip_ended",
          "TRIP_SEGMENTATION/segment_into_trips_time/has_trip_ended",
          "TRIP_SEGMENTATION/segment_into_trips_time/has_trip_ended",
          "TRIP_SEGMENTATION/segment_into_trips_time/has_trip_ended",
          "TRIP_SEGMENTATION/segment_into_trips_time/has_trip_ended",
          "TRIP_SEGMENTATION/segment_into_trips_time/has_trip_ended",
          "TRIP_SEGMENTATION/segment_into_trips_time/has_trip_ended",
          "TRIP_SEGMENTATION/segment_into_trips_time/has_trip_ended",
          "TRIP_SEGMENTATION/segment_into_trips_time/has_trip_ended",
          "TRIP_SEGMENTATION/segment_into_trips_time/has_trip_ended",
          "TRIP_SEGMENTATION/segment_into_trips_time/has_trip_ended",
          "TRIP_SEGMENTATION/segment_into_trips_time/has_trip_ended",
          "TRIP_SEGMENTATION/segment_into_trips_time/has_trip_ended",
          "TRIP_SEGMENTATION/segment_into_trips_time/has_trip_ended",
          "TRIP_SEGMENTATION/segment_into_trips_time/has_trip_ended",
          "TRIP_SEGMENTATION/segment_into_trips_time/has_trip_ended",
          "TRIP_SEGMENTATION/segment_into_trips_time/has_trip_ended",
          "TRIP_SEGMENTATION/segment_into_trips_time/has_trip_ended",
          "TRIP_SEGMENTATION/segment_into_trips_time/has_trip_ended",
          "TRIP_SEGMENTATION/segment_into_trips_time/has_trip_ended",
          "TRIP_SEGMENTATION/segment_into_trips_time/has_trip_ended",
          "TRIP_SEGMENTATION/segment_into_trips_time/has_trip_ended",
          "TRIP_SEGMENTATION/segment_into_trips_time/has_trip_ended",
          "TRIP_SEGMENTATION/segment_into_trips_time/has_trip_ended",
          "TRIP_SEGMENTATION/segment_into_trips_time/has_trip_ended",
          "TRIP_SEGMENTATION/segment_into_trips_time/has_trip_ended",
          "TRIP_SEGMENTATION/segment_into_trips_time/has_trip_ended",
          "TRIP_SEGMENTATION/segment_into_trips_time/has_trip_ended",
          "TRIP_SEGMENTATION/segment_into_trips_time/has_trip_ended",
          "TRIP_SEGMENTATION/segment_into_trips_time/has_trip_ended",
          "TRIP_SEGMENTATION/segment_into_trips_time/has_trip_ended",
          "TRIP_SEGMENTATION/segment_into_trips_time/has_trip_ended",
          "TRIP_SEGMENTATION/segment_into_trips_time/has_trip_ended",
          "TRIP_SEGMENTATION/segment_into_trips_time/has_trip_ended",
          "TRIP_SEGMENTATION/segment_into_trips_time/has_trip_ended",
          "TRIP_SEGMENTATION/segment_into_trips_time/has_trip_ended",
          "TRIP_SEGMENTATION/segment_into_trips_time/has_trip_ended",
          "TRIP_SEGMENTATION/segment_into_trips_time/has_trip_ended",
          "TRIP_SEGMENTATION/segment_into_trips_time/has_trip_ended",
          "TRIP_SEGMENTATION/segment_into_trips_time/has_trip_ended",
          "TRIP_SEGMENTATION/segment_into_trips_time/has_trip_ended",
          "TRIP_SEGMENTATION/segment_into_trips_time/has_trip_ended",
          "TRIP_SEGMENTATION/segment_into_trips_time/has_trip_ended",
          "TRIP_SEGMENTATION/segment_into_trips_time/has_trip_ended",
          "TRIP_SEGMENTATION/segment_into_trips_time/has_trip_ended",
          "TRIP_SEGMENTATION/segment_into_trips_time/has_trip_ended",
          "TRIP_SEGMENTATION/segment_into_trips_time/has_trip_ended",
          "TRIP_SEGMENTATION/segment_into_trips_time/has_trip_ended",
          "TRIP_SEGMENTATION/segment_into_trips_time/has_trip_ended",
          "TRIP_SEGMENTATION/segment_into_trips_time/has_trip_ended",
          "TRIP_SEGMENTATION/segment_into_trips_time/has_trip_ended",
          "TRIP_SEGMENTATION/segment_into_trips_time/has_trip_ended",
          "TRIP_SEGMENTATION/segment_into_trips_time/has_trip_ended",
          "TRIP_SEGMENTATION/segment_into_trips_time/has_trip_ended",
          "TRIP_SEGMENTATION/segment_into_trips_time/has_trip_ended",
          "TRIP_SEGMENTATION/segment_into_trips_time/has_trip_ended",
          "TRIP_SEGMENTATION/segment_into_trips_time/has_trip_ended",
          "TRIP_SEGMENTATION/segment_into_trips_time/has_trip_ended",
          "TRIP_SEGMENTATION/segment_into_trips_time/has_trip_ended",
          "TRIP_SEGMENTATION/segment_into_trips_time/has_trip_ended",
          "TRIP_SEGMENTATION/segment_into_trips_time/has_trip_ended",
          "TRIP_SEGMENTATION/segment_into_trips_time/has_trip_ended",
          "TRIP_SEGMENTATION/segment_into_trips_time/has_trip_ended",
          "TRIP_SEGMENTATION/segment_into_trips_time/has_trip_ended",
          "TRIP_SEGMENTATION/segment_into_trips_time/has_trip_ended",
          "TRIP_SEGMENTATION/segment_into_trips_time/has_trip_ended",
          "TRIP_SEGMENTATION/segment_into_trips_time/has_trip_ended",
          "TRIP_SEGMENTATION/segment_into_trips_time/has_trip_ended",
          "TRIP_SEGMENTATION/segment_into_trips_time/has_trip_ended",
          "TRIP_SEGMENTATION/segment_into_trips_time/has_trip_ended",
          "TRIP_SEGMENTATION/segment_into_trips_time/has_trip_ended",
          "TRIP_SEGMENTATION/segment_into_trips_time/has_trip_ended",
          "TRIP_SEGMENTATION/segment_into_trips_time/has_trip_ended",
          "TRIP_SEGMENTATION/segment_into_trips_time/has_trip_ended",
          "TRIP_SEGMENTATION/segment_into_trips_time/has_trip_ended",
          "TRIP_SEGMENTATION/segment_into_trips_time/has_trip_ended",
          "TRIP_SEGMENTATION/segment_into_trips_time/has_trip_ended",
          "TRIP_SEGMENTATION/segment_into_trips_time/has_trip_ended",
          "TRIP_SEGMENTATION/segment_into_trips_time/has_trip_ended",
          "TRIP_SEGMENTATION/segment_into_trips_time/has_trip_ended",
          "TRIP_SEGMENTATION/segment_into_trips_time/has_trip_ended",
          "TRIP_SEGMENTATION/segment_into_trips_time/has_trip_ended",
          "TRIP_SEGMENTATION/segment_into_trips_time/has_trip_ended",
          "TRIP_SEGMENTATION/segment_into_trips_time/has_trip_ended",
          "TRIP_SEGMENTATION/segment_into_trips_time/has_trip_ended",
          "TRIP_SEGMENTATION/segment_into_trips_time/has_trip_ended",
          "TRIP_SEGMENTATION/segment_into_trips_time/has_trip_ended",
          "TRIP_SEGMENTATION/segment_into_trips_time/has_trip_ended",
          "TRIP_SEGMENTATION/segment_into_trips_time/has_trip_ended",
          "TRIP_SEGMENTATION/segment_into_trips_time/has_trip_ended",
          "TRIP_SEGMENTATION/segment_into_trips_time/has_trip_ended",
          "TRIP_SEGMENTATION/segment_into_trips_time/has_trip_ended",
          "TRIP_SEGMENTATION/segment_into_trips_time/has_trip_ended",
          "TRIP_SEGMENTATION/segment_into_trips_time/has_trip_ended",
          "TRIP_SEGMENTATION/segment_into_trips_time/has_trip_ended",
          "TRIP_SEGMENTATION/segment_into_trips_time/has_trip_ended",
          "TRIP_SEGMENTATION/segment_into_trips_time/has_trip_ended",
          "TRIP_SEGMENTATION/segment_into_trips_time/has_trip_ended",
          "TRIP_SEGMENTATION/segment_into_trips_time/has_trip_ended",
          "TRIP_SEGMENTATION/segment_into_trips_time/has_trip_ended",
          "TRIP_SEGMENTATION/segment_into_trips_time/has_trip_ended",
          "TRIP_SEGMENTATION/segment_into_trips_time/has_trip_ended",
          "TRIP_SEGMENTATION/segment_into_trips_time/has_trip_ended",
          "TRIP_SEGMENTATION/segment_into_trips_time/has_trip_ended",
          "TRIP_SEGMENTATION/segment_into_trips_time/has_trip_ended",
          "TRIP_SEGMENTATION/segment_into_trips_time/has_trip_ended",
          "TRIP_SEGMENTATION/segment_into_trips_time/has_trip_ended",
          "TRIP_SEGMENTATION/segment_into_trips_time/has_trip_ended",
          "TRIP_SEGMENTATION/segment_into_trips_time/has_trip_ended",
          "TRIP_SEGMENTATION/segment_into_trips_time/has_trip_ended",
          "TRIP_SEGMENTATION/segment_into_trips_time/has_trip_ended",
          "TRIP_SEGMENTATION/segment_into_trips_time/has_trip_ended",
          "TRIP_SEGMENTATION/segment_into_trips_time/has_trip_ended",
          "TRIP_SEGMENTATION/segment_into_trips_time/has_trip_ended",
          "TRIP_SEGMENTATION/segment_into_trips_time/has_trip_ended",
          "TRIP_SEGMENTATION/segment_into_trips_time/has_trip_ended",
          "TRIP_SEGMENTATION/segment_into_trips_time/has_trip_ended",
          "TRIP_SEGMENTATION/segment_into_trips_time/has_trip_ended",
          "TRIP_SEGMENTATION/segment_into_trips_time/has_trip_ended",
          "TRIP_SEGMENTATION/segment_into_trips_time/has_trip_ended",
          "TRIP_SEGMENTATION/segment_into_trips_time/has_trip_ended",
          "TRIP_SEGMENTATION/segment_into_trips_time/has_trip_ended",
          "TRIP_SEGMENTATION/segment_into_trips_time/has_trip_ended",
          "TRIP_SEGMENTATION/segment_into_trips_time/has_trip_ended",
          "TRIP_SEGMENTATION/segment_into_trips_time/has_trip_ended",
          "TRIP_SEGMENTATION/segment_into_trips_time/has_trip_ended",
          "TRIP_SEGMENTATION/segment_into_trips_time/has_trip_ended",
          "TRIP_SEGMENTATION/segment_into_trips_time/has_trip_ended",
          "TRIP_SEGMENTATION/segment_into_trips_time/has_trip_ended",
          "TRIP_SEGMENTATION/segment_into_trips_time/has_trip_ended",
          "TRIP_SEGMENTATION/segment_into_trips_time/has_trip_ended",
          "TRIP_SEGMENTATION/segment_into_trips_time/has_trip_ended",
          "TRIP_SEGMENTATION/segment_into_trips_time/has_trip_ended",
          "TRIP_SEGMENTATION/segment_into_trips_time/has_trip_ended",
          "TRIP_SEGMENTATION/segment_into_trips_time/has_trip_ended",
          "TRIP_SEGMENTATION/segment_into_trips_time/has_trip_ended",
          "TRIP_SEGMENTATION/segment_into_trips_time/has_trip_ended",
          "TRIP_SEGMENTATION/segment_into_trips_time/has_trip_ended",
          "TRIP_SEGMENTATION/segment_into_trips_time/has_trip_ended",
          "TRIP_SEGMENTATION/segment_into_trips_time/has_trip_ended",
          "TRIP_SEGMENTATION/segment_into_trips_time/has_trip_ended",
          "TRIP_SEGMENTATION/segment_into_trips_time/has_trip_ended",
          "TRIP_SEGMENTATION/segment_into_trips_time/has_trip_ended",
          "TRIP_SEGMENTATION/segment_into_trips_time/has_trip_ended",
          "TRIP_SEGMENTATION/segment_into_trips_time/has_trip_ended",
          "TRIP_SEGMENTATION/segment_into_trips_time/has_trip_ended",
          "TRIP_SEGMENTATION/segment_into_trips_time/has_trip_ended",
          "TRIP_SEGMENTATION/segment_into_trips_time/has_trip_ended",
          "TRIP_SEGMENTATION/segment_into_trips_time/has_trip_ended",
          "TRIP_SEGMENTATION/segment_into_trips_time/has_trip_ended",
          "TRIP_SEGMENTATION/segment_into_trips_time/has_trip_ended",
          "TRIP_SEGMENTATION/segment_into_trips_time/has_trip_ended",
          "TRIP_SEGMENTATION/segment_into_trips_time/has_trip_ended",
          "TRIP_SEGMENTATION/segment_into_trips_time/has_trip_ended",
          "TRIP_SEGMENTATION/segment_into_trips_time/has_trip_ended",
          "TRIP_SEGMENTATION/segment_into_trips_time/has_trip_ended",
          "TRIP_SEGMENTATION/segment_into_trips_time/has_trip_ended",
          "TRIP_SEGMENTATION/segment_into_trips_time/has_trip_ended",
          "TRIP_SEGMENTATION/segment_into_trips_time/has_trip_ended",
          "TRIP_SEGMENTATION/segment_into_trips_time/has_trip_ended",
          "TRIP_SEGMENTATION/segment_into_trips_time/has_trip_ended",
          "TRIP_SEGMENTATION/segment_into_trips_time/has_trip_ended",
          "TRIP_SEGMENTATION/segment_into_trips_time/has_trip_ended",
          "TRIP_SEGMENTATION/segment_into_trips_time/has_trip_ended",
          "TRIP_SEGMENTATION/segment_into_trips_time/has_trip_ended",
          "TRIP_SEGMENTATION/segment_into_trips_time/has_trip_ended",
          "TRIP_SEGMENTATION/segment_into_trips_time/has_trip_ended",
          "TRIP_SEGMENTATION/segment_into_trips_time/has_trip_ended",
          "TRIP_SEGMENTATION/segment_into_trips_time/has_trip_ended",
          "TRIP_SEGMENTATION/segment_into_trips_time/has_trip_ended",
          "TRIP_SEGMENTATION/segment_into_trips_time/has_trip_ended",
          "TRIP_SEGMENTATION/segment_into_trips_time/has_trip_ended",
          "TRIP_SEGMENTATION/segment_into_trips_time/has_trip_ended",
          "TRIP_SEGMENTATION/segment_into_trips_time/has_trip_ended",
          "TRIP_SEGMENTATION/segment_into_trips_time/has_trip_ended",
          "TRIP_SEGMENTATION/segment_into_trips_time/has_trip_ended",
          "TRIP_SEGMENTATION/segment_into_trips_time/has_trip_ended",
          "TRIP_SEGMENTATION/segment_into_trips_time/has_trip_ended",
          "TRIP_SEGMENTATION/segment_into_trips_time/has_trip_ended",
          "TRIP_SEGMENTATION/segment_into_trips_time/has_trip_ended",
          "TRIP_SEGMENTATION/segment_into_trips_time/has_trip_ended",
          "TRIP_SEGMENTATION/segment_into_trips_time/has_trip_ended",
          "TRIP_SEGMENTATION/segment_into_trips_time/has_trip_ended",
          "TRIP_SEGMENTATION/segment_into_trips_time/has_trip_ended",
          "TRIP_SEGMENTATION/segment_into_trips_time/has_trip_ended",
          "TRIP_SEGMENTATION/segment_into_trips_time/has_trip_ended",
          "TRIP_SEGMENTATION/segment_into_trips_time/has_trip_ended",
          "TRIP_SEGMENTATION/segment_into_trips_time/has_trip_ended",
          "TRIP_SEGMENTATION/segment_into_trips_time/has_trip_ended",
          "TRIP_SEGMENTATION/segment_into_trips_time/has_trip_ended",
          "TRIP_SEGMENTATION/segment_into_trips_time/has_trip_ended",
          "TRIP_SEGMENTATION/segment_into_trips_time/has_trip_ended",
          "TRIP_SEGMENTATION/segment_into_trips_time/has_trip_ended",
          "TRIP_SEGMENTATION/segment_into_trips_time/has_trip_ended",
          "TRIP_SEGMENTATION/segment_into_trips_time/has_trip_ended",
          "TRIP_SEGMENTATION/segment_into_trips_time/has_trip_ended",
          "TRIP_SEGMENTATION/segment_into_trips_time/has_trip_ended",
          "TRIP_SEGMENTATION/segment_into_trips_time/has_trip_ended",
          "TRIP_SEGMENTATION/segment_into_trips_time/has_trip_ended",
          "TRIP_SEGMENTATION/segment_into_trips_time/has_trip_ended",
          "TRIP_SEGMENTATION/segment_into_trips_time/has_trip_ended",
          "TRIP_SEGMENTATION/segment_into_trips_time/has_trip_ended",
          "TRIP_SEGMENTATION/segment_into_trips_time/has_trip_ended",
          "TRIP_SEGMENTATION/segment_into_trips_time/has_trip_ended",
          "TRIP_SEGMENTATION/segment_into_trips_time/has_trip_ended",
          "TRIP_SEGMENTATION/segment_into_trips_time/has_trip_ended",
          "TRIP_SEGMENTATION/segment_into_trips_time/has_trip_ended",
          "TRIP_SEGMENTATION/segment_into_trips_time/has_trip_ended",
          "TRIP_SEGMENTATION/segment_into_trips_time/has_trip_ended",
          "TRIP_SEGMENTATION/segment_into_trips_time/has_trip_ended",
          "TRIP_SEGMENTATION/segment_into_trips_time/has_trip_ended",
          "TRIP_SEGMENTATION/segment_into_trips_time/has_trip_ended",
          "TRIP_SEGMENTATION/segment_into_trips_time/has_trip_ended",
          "TRIP_SEGMENTATION/segment_into_trips_time/has_trip_ended",
          "TRIP_SEGMENTATION/segment_into_trips_time/has_trip_ended",
          "TRIP_SEGMENTATION/segment_into_trips_time/has_trip_ended",
          "TRIP_SEGMENTATION/segment_into_trips_time/has_trip_ended",
          "TRIP_SEGMENTATION/segment_into_trips_time/has_trip_ended",
          "TRIP_SEGMENTATION/segment_into_trips_time/has_trip_ended",
          "TRIP_SEGMENTATION/segment_into_trips_time/has_trip_ended",
          "TRIP_SEGMENTATION/segment_into_trips_time/has_trip_ended",
          "TRIP_SEGMENTATION/segment_into_trips_time/has_trip_ended",
          "TRIP_SEGMENTATION/segment_into_trips_time/has_trip_ended",
          "TRIP_SEGMENTATION/segment_into_trips_time/has_trip_ended",
          "TRIP_SEGMENTATION/segment_into_trips_time/has_trip_ended",
          "TRIP_SEGMENTATION/segment_into_trips_time/has_trip_ended",
          "TRIP_SEGMENTATION/segment_into_trips_time/has_trip_ended",
          "TRIP_SEGMENTATION/segment_into_trips_time/has_trip_ended",
          "TRIP_SEGMENTATION/segment_into_trips_time/has_trip_ended",
          "TRIP_SEGMENTATION/segment_into_trips_time/has_trip_ended",
          "TRIP_SEGMENTATION/segment_into_trips_time/has_trip_ended",
          "TRIP_SEGMENTATION/segment_into_trips_time/has_trip_ended",
          "TRIP_SEGMENTATION/segment_into_trips_time/has_trip_ended",
          "TRIP_SEGMENTATION/segment_into_trips_time/has_trip_ended",
          "TRIP_SEGMENTATION/segment_into_trips_time/has_trip_ended",
          "TRIP_SEGMENTATION/segment_into_trips_time/has_trip_ended",
          "TRIP_SEGMENTATION/segment_into_trips_time/has_trip_ended",
          "TRIP_SEGMENTATION/segment_into_trips_time/has_trip_ended",
          "TRIP_SEGMENTATION/segment_into_trips_time/has_trip_ended",
          "TRIP_SEGMENTATION/segment_into_trips_time/has_trip_ended",
          "TRIP_SEGMENTATION/segment_into_trips_time/has_trip_ended",
          "TRIP_SEGMENTATION/segment_into_trips_time/has_trip_ended",
          "TRIP_SEGMENTATION/segment_into_trips_time/has_trip_ended",
          "TRIP_SEGMENTATION/segment_into_trips_time/has_trip_ended",
          "TRIP_SEGMENTATION/segment_into_trips_time/has_trip_ended",
          "TRIP_SEGMENTATION/segment_into_trips_time/has_trip_ended",
          "TRIP_SEGMENTATION/segment_into_trips_time/has_trip_ended",
          "TRIP_SEGMENTATION/segment_into_trips_time/has_trip_ended",
          "TRIP_SEGMENTATION/segment_into_trips_time/has_trip_ended",
          "TRIP_SEGMENTATION/segment_into_trips_time/has_trip_ended",
          "TRIP_SEGMENTATION/segment_into_trips_time/has_trip_ended",
          "TRIP_SEGMENTATION/segment_into_trips_time/has_trip_ended",
          "TRIP_SEGMENTATION/segment_into_trips_time/has_trip_ended",
          "TRIP_SEGMENTATION/segment_into_trips_time/has_trip_ended",
          "TRIP_SEGMENTATION/segment_into_trips_time/has_trip_ended",
          "TRIP_SEGMENTATION/segment_into_trips_time/has_trip_ended",
          "TRIP_SEGMENTATION/segment_into_trips_time/has_trip_ended",
          "TRIP_SEGMENTATION/segment_into_trips_time/has_trip_ended",
          "TRIP_SEGMENTATION/segment_into_trips_time/has_trip_ended",
          "TRIP_SEGMENTATION/segment_into_trips_time/has_trip_ended",
          "TRIP_SEGMENTATION/segment_into_trips_time/has_trip_ended",
          "TRIP_SEGMENTATION/segment_into_trips_time/has_trip_ended",
          "TRIP_SEGMENTATION/segment_into_trips_time/has_trip_ended",
          "TRIP_SEGMENTATION/segment_into_trips_time/has_trip_ended",
          "TRIP_SEGMENTATION/segment_into_trips_time/has_trip_ended",
          "TRIP_SEGMENTATION/segment_into_trips_time/has_trip_ended",
          "TRIP_SEGMENTATION/segment_into_trips_time/has_trip_ended",
          "TRIP_SEGMENTATION/segment_into_trips_time/has_trip_ended",
          "TRIP_SEGMENTATION/segment_into_trips_time/has_trip_ended",
          "TRIP_SEGMENTATION/segment_into_trips_time/has_trip_ended",
          "TRIP_SEGMENTATION/segment_into_trips_time/has_trip_ended",
          "TRIP_SEGMENTATION/segment_into_trips_time/has_trip_ended",
          "TRIP_SEGMENTATION/segment_into_trips_time/has_trip_ended",
          "TRIP_SEGMENTATION/segment_into_trips_time/has_trip_ended",
          "TRIP_SEGMENTATION/segment_into_trips_time/has_trip_ended",
          "TRIP_SEGMENTATION/segment_into_trips_time/has_trip_ended",
          "TRIP_SEGMENTATION/segment_into_trips_time/has_trip_ended",
          "TRIP_SEGMENTATION/segment_into_trips_time/has_trip_ended",
          "TRIP_SEGMENTATION/segment_into_trips_time/has_trip_ended",
          "TRIP_SEGMENTATION/segment_into_trips_time/has_trip_ended",
          "TRIP_SEGMENTATION/segment_into_trips_time/has_trip_ended",
          "TRIP_SEGMENTATION/segment_into_trips_time/has_trip_ended",
          "TRIP_SEGMENTATION/segment_into_trips_time/has_trip_ended",
          "TRIP_SEGMENTATION/segment_into_trips_time/has_trip_ended",
          "TRIP_SEGMENTATION/segment_into_trips_time/has_trip_ended",
          "TRIP_SEGMENTATION/segment_into_trips_time/has_trip_ended",
          "TRIP_SEGMENTATION/segment_into_trips_time/has_trip_ended",
          "TRIP_SEGMENTATION/segment_into_trips_time/has_trip_ended",
          "TRIP_SEGMENTATION/segment_into_trips_time/has_trip_ended",
          "TRIP_SEGMENTATION/segment_into_trips_time/has_trip_ended",
          "TRIP_SEGMENTATION/segment_into_trips_time/has_trip_ended",
          "TRIP_SEGMENTATION/segment_into_trips_time/has_trip_ended",
          "TRIP_SEGMENTATION/segment_into_trips_time/has_trip_ended",
          "TRIP_SEGMENTATION/segment_into_trips_time/has_trip_ended",
          "TRIP_SEGMENTATION/segment_into_trips_time/has_trip_ended",
          "TRIP_SEGMENTATION/segment_into_trips_time/has_trip_ended",
          "TRIP_SEGMENTATION/segment_into_trips_time/has_trip_ended",
          "TRIP_SEGMENTATION/segment_into_trips_time/has_trip_ended",
          "TRIP_SEGMENTATION/segment_into_trips_time/has_trip_ended",
          "TRIP_SEGMENTATION/segment_into_trips_time/has_trip_ended",
          "TRIP_SEGMENTATION/segment_into_trips_time/has_trip_ended",
          "TRIP_SEGMENTATION/segment_into_trips_time/has_trip_ended",
          "TRIP_SEGMENTATION/segment_into_trips_time/has_trip_ended",
          "TRIP_SEGMENTATION/segment_into_trips_time/has_trip_ended",
          "TRIP_SEGMENTATION/segment_into_trips_time/has_trip_ended",
          "TRIP_SEGMENTATION/segment_into_trips_time/has_trip_ended",
          "TRIP_SEGMENTATION/segment_into_trips_time/has_trip_ended",
          "TRIP_SEGMENTATION/segment_into_trips_time/has_trip_ended",
          "TRIP_SEGMENTATION/segment_into_trips_time/has_trip_ended",
          "TRIP_SEGMENTATION/segment_into_trips_time/has_trip_ended",
          "TRIP_SEGMENTATION/segment_into_trips_time/has_trip_ended",
          "TRIP_SEGMENTATION/segment_into_trips_time/has_trip_ended",
          "TRIP_SEGMENTATION/segment_into_trips_time/has_trip_ended",
          "TRIP_SEGMENTATION/segment_into_trips_time/has_trip_ended",
          "TRIP_SEGMENTATION/segment_into_trips_time/has_trip_ended",
          "TRIP_SEGMENTATION/segment_into_trips_time/has_trip_ended",
          "TRIP_SEGMENTATION/segment_into_trips_time/has_trip_ended",
          "TRIP_SEGMENTATION/segment_into_trips_time/has_trip_ended",
          "TRIP_SEGMENTATION/segment_into_trips_time/has_trip_ended",
          "TRIP_SEGMENTATION/segment_into_trips_time/has_trip_ended",
          "TRIP_SEGMENTATION/segment_into_trips_time/has_trip_ended",
          "TRIP_SEGMENTATION/segment_into_trips_time/has_trip_ended",
          "TRIP_SEGMENTATION/segment_into_trips_time/has_trip_ended",
          "TRIP_SEGMENTATION/segment_into_trips_time/has_trip_ended",
          "TRIP_SEGMENTATION/segment_into_trips_time/has_trip_ended",
          "TRIP_SEGMENTATION/segment_into_trips_time/has_trip_ended",
          "TRIP_SEGMENTATION/segment_into_trips_time/has_trip_ended",
          "TRIP_SEGMENTATION/segment_into_trips_time/has_trip_ended",
          "TRIP_SEGMENTATION/segment_into_trips_time/has_trip_ended",
          "TRIP_SEGMENTATION/segment_into_trips_time/has_trip_ended",
          "TRIP_SEGMENTATION/segment_into_trips_time/has_trip_ended",
          "TRIP_SEGMENTATION/segment_into_trips_time/has_trip_ended",
          "TRIP_SEGMENTATION/segment_into_trips_time/has_trip_ended",
          "TRIP_SEGMENTATION/segment_into_trips_time/has_trip_ended",
          "TRIP_SEGMENTATION/segment_into_trips_time/has_trip_ended",
          "TRIP_SEGMENTATION/segment_into_trips_time/has_trip_ended",
          "TRIP_SEGMENTATION/segment_into_trips_time/has_trip_ended",
          "TRIP_SEGMENTATION/segment_into_trips_time/has_trip_ended",
          "TRIP_SEGMENTATION/segment_into_trips_time/has_trip_ended",
          "TRIP_SEGMENTATION/segment_into_trips_time/has_trip_ended",
          "TRIP_SEGMENTATION/segment_into_trips_time/has_trip_ended",
          "TRIP_SEGMENTATION/segment_into_trips_time/has_trip_ended",
          "TRIP_SEGMENTATION/segment_into_trips_time/has_trip_ended",
          "TRIP_SEGMENTATION/segment_into_trips_time/has_trip_ended",
          "TRIP_SEGMENTATION/segment_into_trips_time/has_trip_ended",
          "TRIP_SEGMENTATION/segment_into_trips_time/has_trip_ended",
          "TRIP_SEGMENTATION/segment_into_trips_time/has_trip_ended",
          "TRIP_SEGMENTATION/segment_into_trips_time/has_trip_ended",
          "TRIP_SEGMENTATION/segment_into_trips_time/has_trip_ended",
          "TRIP_SEGMENTATION/segment_into_trips_time/has_trip_ended",
          "TRIP_SEGMENTATION/segment_into_trips_time/has_trip_ended",
          "TRIP_SEGMENTATION/segment_into_trips_time/has_trip_ended",
          "TRIP_SEGMENTATION/segment_into_trips_time/has_trip_ended",
          "TRIP_SEGMENTATION/segment_into_trips_time/has_trip_ended",
          "TRIP_SEGMENTATION/segment_into_trips_time/has_trip_ended",
          "TRIP_SEGMENTATION/segment_into_trips_time/has_trip_ended",
          "TRIP_SEGMENTATION/segment_into_trips_time/has_trip_ended",
          "TRIP_SEGMENTATION/segment_into_trips_time/has_trip_ended",
          "TRIP_SEGMENTATION/segment_into_trips_time/has_trip_ended",
          "TRIP_SEGMENTATION/segment_into_trips_time/has_trip_ended",
          "TRIP_SEGMENTATION/segment_into_trips_time/has_trip_ended",
          "TRIP_SEGMENTATION/segment_into_trips_time/has_trip_ended",
          "TRIP_SEGMENTATION/segment_into_trips_time/has_trip_ended",
          "TRIP_SEGMENTATION/segment_into_trips_time/has_trip_ended",
          "TRIP_SEGMENTATION/segment_into_trips_time/has_trip_ended",
          "TRIP_SEGMENTATION/segment_into_trips_time/has_trip_ended",
          "TRIP_SEGMENTATION/segment_into_trips_time/has_trip_ended",
          "TRIP_SEGMENTATION/segment_into_trips_time/has_trip_ended",
          "TRIP_SEGMENTATION/segment_into_trips_time/has_trip_ended",
          "TRIP_SEGMENTATION/segment_into_trips_time/has_trip_ended",
          "TRIP_SEGMENTATION/segment_into_trips_time/has_trip_ended",
          "TRIP_SEGMENTATION/segment_into_trips_time/has_trip_ended",
          "TRIP_SEGMENTATION/segment_into_trips_time/has_trip_ended",
          "TRIP_SEGMENTATION/segment_into_trips_time/has_trip_ended",
          "TRIP_SEGMENTATION/segment_into_trips_time/has_trip_ended",
          "TRIP_SEGMENTATION/segment_into_trips_time/has_trip_ended",
          "TRIP_SEGMENTATION/segment_into_trips_time/has_trip_ended",
          "TRIP_SEGMENTATION/segment_into_trips_time/has_trip_ended",
          "TRIP_SEGMENTATION/segment_into_trips_time/has_trip_ended",
          "TRIP_SEGMENTATION/segment_into_trips_time/has_trip_ended",
          "TRIP_SEGMENTATION/segment_into_trips_time/has_trip_ended",
          "TRIP_SEGMENTATION/segment_into_trips_time/has_trip_ended",
          "TRIP_SEGMENTATION/segment_into_trips_time/has_trip_ended",
          "TRIP_SEGMENTATION/segment_into_trips_time/has_trip_ended",
          "TRIP_SEGMENTATION/segment_into_trips_time/has_trip_ended",
          "TRIP_SEGMENTATION/segment_into_trips_time/has_trip_ended",
          "TRIP_SEGMENTATION/segment_into_trips_time/has_trip_ended",
          "TRIP_SEGMENTATION/segment_into_trips_time/has_trip_ended",
          "TRIP_SEGMENTATION/segment_into_trips_time/has_trip_ended",
          "TRIP_SEGMENTATION/segment_into_trips_time/has_trip_ended",
          "TRIP_SEGMENTATION/segment_into_trips_time/has_trip_ended",
          "TRIP_SEGMENTATION/segment_into_trips_time/has_trip_ended",
          "TRIP_SEGMENTATION/segment_into_trips_time/has_trip_ended",
          "TRIP_SEGMENTATION/segment_into_trips_time/has_trip_ended",
          "TRIP_SEGMENTATION/segment_into_trips_time/has_trip_ended",
          "TRIP_SEGMENTATION/segment_into_trips_time/has_trip_ended",
          "TRIP_SEGMENTATION/segment_into_trips_time/has_trip_ended",
          "TRIP_SEGMENTATION/segment_into_trips_time/has_trip_ended",
          "TRIP_SEGMENTATION/segment_into_trips_time/has_trip_ended",
          "TRIP_SEGMENTATION/segment_into_trips_time/has_trip_ended",
          "TRIP_SEGMENTATION/segment_into_trips_time/has_trip_ended",
          "TRIP_SEGMENTATION/segment_into_trips_time/has_trip_ended",
          "TRIP_SEGMENTATION/segment_into_trips_time/has_trip_ended",
          "TRIP_SEGMENTATION/segment_into_trips_time/has_trip_ended",
          "TRIP_SEGMENTATION/segment_into_trips_time/has_trip_ended",
          "TRIP_SEGMENTATION/segment_into_trips_time/has_trip_ended",
          "TRIP_SEGMENTATION/segment_into_trips_time/has_trip_ended",
          "TRIP_SEGMENTATION/segment_into_trips_time/has_trip_ended",
          "TRIP_SEGMENTATION/segment_into_trips_time/has_trip_ended",
          "TRIP_SEGMENTATION/segment_into_trips_time/has_trip_ended",
          "TRIP_SEGMENTATION/segment_into_trips_time/has_trip_ended",
          "TRIP_SEGMENTATION/segment_into_trips_time/has_trip_ended",
          "TRIP_SEGMENTATION/segment_into_trips_time/has_trip_ended",
          "TRIP_SEGMENTATION/segment_into_trips_time/has_trip_ended",
          "TRIP_SEGMENTATION/segment_into_trips_time/has_trip_ended",
          "TRIP_SEGMENTATION/segment_into_trips_time/has_trip_ended",
          "TRIP_SEGMENTATION/segment_into_trips_time/has_trip_ended",
          "TRIP_SEGMENTATION/segment_into_trips_time/has_trip_ended",
          "TRIP_SEGMENTATION/segment_into_trips_time/has_trip_ended",
          "TRIP_SEGMENTATION/segment_into_trips_time/has_trip_ended",
          "TRIP_SEGMENTATION/segment_into_trips_time/has_trip_ended",
          "TRIP_SEGMENTATION/segment_into_trips_time/has_trip_ended",
          "TRIP_SEGMENTATION/segment_into_trips_time/has_trip_ended",
          "TRIP_SEGMENTATION/segment_into_trips_time/has_trip_ended",
          "TRIP_SEGMENTATION/segment_into_trips_time/has_trip_ended",
          "TRIP_SEGMENTATION/segment_into_trips_time/has_trip_ended",
          "TRIP_SEGMENTATION/segment_into_trips_time/has_trip_ended",
          "TRIP_SEGMENTATION/segment_into_trips_time/has_trip_ended",
          "TRIP_SEGMENTATION/segment_into_trips_time/has_trip_ended",
          "TRIP_SEGMENTATION/segment_into_trips_time/has_trip_ended",
          "TRIP_SEGMENTATION/segment_into_trips_time/has_trip_ended",
          "TRIP_SEGMENTATION/segment_into_trips_time/has_trip_ended",
          "TRIP_SEGMENTATION/segment_into_trips_time/has_trip_ended",
          "TRIP_SEGMENTATION/segment_into_trips_time/has_trip_ended",
          "TRIP_SEGMENTATION/segment_into_trips_time/has_trip_ended",
          "TRIP_SEGMENTATION/segment_into_trips_time/has_trip_ended",
          "TRIP_SEGMENTATION/segment_into_trips_time/has_trip_ended",
          "TRIP_SEGMENTATION/segment_into_trips_time/has_trip_ended",
          "TRIP_SEGMENTATION/segment_into_trips_time/has_trip_ended",
          "TRIP_SEGMENTATION/segment_into_trips_time/has_trip_ended",
          "TRIP_SEGMENTATION/segment_into_trips_time/has_trip_ended",
          "TRIP_SEGMENTATION/segment_into_trips_time/has_trip_ended",
          "TRIP_SEGMENTATION/segment_into_trips_time/has_trip_ended",
          "TRIP_SEGMENTATION/segment_into_trips_time/has_trip_ended",
          "TRIP_SEGMENTATION/segment_into_trips_time/has_trip_ended",
          "TRIP_SEGMENTATION/segment_into_trips_time/has_trip_ended",
          "TRIP_SEGMENTATION/segment_into_trips_time/has_trip_ended",
          "TRIP_SEGMENTATION/segment_into_trips_time/has_trip_ended",
          "TRIP_SEGMENTATION/segment_into_trips_time/has_trip_ended",
          "TRIP_SEGMENTATION/segment_into_trips_time/has_trip_ended",
          "TRIP_SEGMENTATION/segment_into_trips_time/has_trip_ended",
          "TRIP_SEGMENTATION/segment_into_trips_time/has_trip_ended",
          "TRIP_SEGMENTATION/segment_into_trips_time/has_trip_ended",
          "TRIP_SEGMENTATION/segment_into_trips_time/has_trip_ended",
          "TRIP_SEGMENTATION/segment_into_trips_time/has_trip_ended",
          "TRIP_SEGMENTATION/segment_into_trips_time/has_trip_ended",
          "TRIP_SEGMENTATION/segment_into_trips_time/has_trip_ended",
          "TRIP_SEGMENTATION/segment_into_trips_time/has_trip_ended",
          "TRIP_SEGMENTATION/segment_into_trips_time/has_trip_ended",
          "TRIP_SEGMENTATION/segment_into_trips_time/has_trip_ended",
          "TRIP_SEGMENTATION/segment_into_trips_time/has_trip_ended",
          "TRIP_SEGMENTATION/segment_into_trips_time/has_trip_ended",
          "TRIP_SEGMENTATION/segment_into_trips_time/has_trip_ended",
          "TRIP_SEGMENTATION/segment_into_trips_time/has_trip_ended",
          "TRIP_SEGMENTATION/segment_into_trips_time/has_trip_ended",
          "TRIP_SEGMENTATION/segment_into_trips_time/has_trip_ended",
          "TRIP_SEGMENTATION/segment_into_trips_time/has_trip_ended",
          "TRIP_SEGMENTATION/segment_into_trips_time/has_trip_ended",
          "TRIP_SEGMENTATION/segment_into_trips_time/has_trip_ended",
          "TRIP_SEGMENTATION/segment_into_trips_time/has_trip_ended",
          "TRIP_SEGMENTATION/segment_into_trips_time/has_trip_ended",
          "TRIP_SEGMENTATION/segment_into_trips_time/has_trip_ended",
          "TRIP_SEGMENTATION/segment_into_trips_time/has_trip_ended",
          "TRIP_SEGMENTATION/segment_into_trips_time/has_trip_ended",
          "TRIP_SEGMENTATION/segment_into_trips_time/has_trip_ended",
          "TRIP_SEGMENTATION/segment_into_trips_time/has_trip_ended",
          "TRIP_SEGMENTATION/segment_into_trips_time/has_trip_ended",
          "TRIP_SEGMENTATION/segment_into_trips_time/has_trip_ended",
          "TRIP_SEGMENTATION/segment_into_trips_time/has_trip_ended",
          "TRIP_SEGMENTATION/segment_into_trips_time/has_trip_ended",
          "TRIP_SEGMENTATION/segment_into_trips_time/has_trip_ended",
          "TRIP_SEGMENTATION/segment_into_trips_time/has_trip_ended",
          "TRIP_SEGMENTATION/segment_into_trips_time/has_trip_ended",
          "TRIP_SEGMENTATION/segment_into_trips_time/has_trip_ended",
          "TRIP_SEGMENTATION/segment_into_trips_time/has_trip_ended",
          "TRIP_SEGMENTATION/segment_into_trips_time/has_trip_ended",
          "TRIP_SEGMENTATION/segment_into_trips_time/has_trip_ended",
          "TRIP_SEGMENTATION/segment_into_trips_time/has_trip_ended",
          "TRIP_SEGMENTATION/segment_into_trips_time/has_trip_ended",
          "TRIP_SEGMENTATION/segment_into_trips_time/has_trip_ended",
          "TRIP_SEGMENTATION/segment_into_trips_time/has_trip_ended",
          "TRIP_SEGMENTATION/segment_into_trips_time/has_trip_ended",
          "TRIP_SEGMENTATION/segment_into_trips_time/has_trip_ended",
          "TRIP_SEGMENTATION/segment_into_trips_time/has_trip_ended",
          "TRIP_SEGMENTATION/segment_into_trips_time/has_trip_ended",
          "TRIP_SEGMENTATION/segment_into_trips_time/has_trip_ended",
          "TRIP_SEGMENTATION/segment_into_trips_time/has_trip_ended",
          "TRIP_SEGMENTATION/segment_into_trips_time/has_trip_ended",
          "TRIP_SEGMENTATION/segment_into_trips_time/has_trip_ended",
          "TRIP_SEGMENTATION/segment_into_trips_time/has_trip_ended",
          "TRIP_SEGMENTATION/segment_into_trips_time/has_trip_ended",
          "TRIP_SEGMENTATION/segment_into_trips_time/has_trip_ended",
          "TRIP_SEGMENTATION/segment_into_trips_time/has_trip_ended",
          "TRIP_SEGMENTATION/segment_into_trips_time/has_trip_ended",
          "TRIP_SEGMENTATION/segment_into_trips_time/has_trip_ended",
          "TRIP_SEGMENTATION/segment_into_trips_time/has_trip_ended",
          "TRIP_SEGMENTATION/segment_into_trips_time/has_trip_ended",
          "TRIP_SEGMENTATION/segment_into_trips_time/has_trip_ended",
          "TRIP_SEGMENTATION/segment_into_trips_time/has_trip_ended",
          "TRIP_SEGMENTATION/segment_into_trips_time/has_trip_ended",
          "TRIP_SEGMENTATION/segment_into_trips_time/has_trip_ended",
          "TRIP_SEGMENTATION/segment_into_trips_time/has_trip_ended",
          "TRIP_SEGMENTATION/segment_into_trips_time/has_trip_ended",
          "TRIP_SEGMENTATION/segment_into_trips_time/has_trip_ended",
          "TRIP_SEGMENTATION/segment_into_trips_time/has_trip_ended",
          "TRIP_SEGMENTATION/segment_into_trips_time/has_trip_ended",
          "TRIP_SEGMENTATION/segment_into_trips_time/has_trip_ended",
          "TRIP_SEGMENTATION/segment_into_trips_time/has_trip_ended",
          "TRIP_SEGMENTATION/segment_into_trips_time/has_trip_ended",
          "TRIP_SEGMENTATION/segment_into_trips_time/has_trip_ended",
          "TRIP_SEGMENTATION/segment_into_trips_time/has_trip_ended",
          "TRIP_SEGMENTATION/segment_into_trips_time/has_trip_ended",
          "TRIP_SEGMENTATION/segment_into_trips_time/has_trip_ended",
          "TRIP_SEGMENTATION/segment_into_trips_time/has_trip_ended",
          "TRIP_SEGMENTATION/segment_into_trips_time/has_trip_ended",
          "TRIP_SEGMENTATION/segment_into_trips_time/has_trip_ended",
          "TRIP_SEGMENTATION/segment_into_trips_time/has_trip_ended",
          "TRIP_SEGMENTATION/segment_into_trips_time/has_trip_ended",
          "TRIP_SEGMENTATION/segment_into_trips_time/has_trip_ended",
          "TRIP_SEGMENTATION/segment_into_trips_time/has_trip_ended",
          "TRIP_SEGMENTATION/segment_into_trips_time/has_trip_ended",
          "TRIP_SEGMENTATION/segment_into_trips_time/has_trip_ended",
          "TRIP_SEGMENTATION/segment_into_trips_time/has_trip_ended",
          "TRIP_SEGMENTATION/segment_into_trips_time/has_trip_ended",
          "TRIP_SEGMENTATION/segment_into_trips_time/has_trip_ended",
          "TRIP_SEGMENTATION/segment_into_trips_time/has_trip_ended",
          "TRIP_SEGMENTATION/segment_into_trips_time/has_trip_ended",
          "TRIP_SEGMENTATION/segment_into_trips_time/has_trip_ended",
          "TRIP_SEGMENTATION/segment_into_trips_time/has_trip_ended",
          "TRIP_SEGMENTATION/segment_into_trips_time/has_trip_ended",
          "TRIP_SEGMENTATION/segment_into_trips_time/has_trip_ended",
          "TRIP_SEGMENTATION/segment_into_trips_time/has_trip_ended",
          "TRIP_SEGMENTATION/segment_into_trips_time/has_trip_ended",
          "TRIP_SEGMENTATION/segment_into_trips_time/has_trip_ended",
          "TRIP_SEGMENTATION/segment_into_trips_time/has_trip_ended",
          "TRIP_SEGMENTATION/segment_into_trips_time/has_trip_ended",
          "TRIP_SEGMENTATION/segment_into_trips_time/has_trip_ended",
          "TRIP_SEGMENTATION/segment_into_trips_time/has_trip_ended",
          "TRIP_SEGMENTATION/segment_into_trips_time/has_trip_ended",
          "TRIP_SEGMENTATION/segment_into_trips_time/has_trip_ended",
          "TRIP_SEGMENTATION/segment_into_trips_time/has_trip_ended",
          "TRIP_SEGMENTATION/segment_into_trips_time/has_trip_ended",
          "TRIP_SEGMENTATION/segment_into_trips_time/has_trip_ended",
          "TRIP_SEGMENTATION/segment_into_trips_time/has_trip_ended",
          "TRIP_SEGMENTATION/segment_into_trips_time/has_trip_ended",
          "TRIP_SEGMENTATION/segment_into_trips_time/has_trip_ended",
          "TRIP_SEGMENTATION/segment_into_trips_time/has_trip_ended",
          "TRIP_SEGMENTATION/segment_into_trips_time/has_trip_ended",
          "TRIP_SEGMENTATION/segment_into_trips_time/has_trip_ended",
          "TRIP_SEGMENTATION/segment_into_trips_time/has_trip_ended",
          "TRIP_SEGMENTATION/segment_into_trips_time/has_trip_ended",
          "TRIP_SEGMENTATION/segment_into_trips_time/has_trip_ended",
          "TRIP_SEGMENTATION/segment_into_trips_time/has_trip_ended",
          "TRIP_SEGMENTATION/segment_into_trips_time/has_trip_ended",
          "TRIP_SEGMENTATION/segment_into_trips_time/has_trip_ended",
          "TRIP_SEGMENTATION/segment_into_trips_time/has_trip_ended",
          "TRIP_SEGMENTATION/segment_into_trips_time/has_trip_ended",
          "TRIP_SEGMENTATION/segment_into_trips_time/has_trip_ended",
          "TRIP_SEGMENTATION/segment_into_trips_time/has_trip_ended",
          "TRIP_SEGMENTATION/segment_into_trips_time/has_trip_ended",
          "TRIP_SEGMENTATION/segment_into_trips_time/has_trip_ended",
          "TRIP_SEGMENTATION/segment_into_trips_time/has_trip_ended",
          "TRIP_SEGMENTATION/segment_into_trips_time/has_trip_ended",
          "TRIP_SEGMENTATION/segment_into_trips_time/has_trip_ended",
          "TRIP_SEGMENTATION/segment_into_trips_time/has_trip_ended",
          "TRIP_SEGMENTATION/segment_into_trips_time/has_trip_ended",
          "TRIP_SEGMENTATION/segment_into_trips_time/has_trip_ended",
          "TRIP_SEGMENTATION/segment_into_trips_time/has_trip_ended",
          "TRIP_SEGMENTATION/segment_into_trips_time/has_trip_ended",
          "TRIP_SEGMENTATION/segment_into_trips_time/has_trip_ended",
          "TRIP_SEGMENTATION/segment_into_trips_time/has_trip_ended",
          "TRIP_SEGMENTATION/segment_into_trips_time/has_trip_ended",
          "TRIP_SEGMENTATION/segment_into_trips_time/has_trip_ended",
          "TRIP_SEGMENTATION/segment_into_trips_time/has_trip_ended",
          "TRIP_SEGMENTATION/segment_into_trips_time/has_trip_ended",
          "TRIP_SEGMENTATION/segment_into_trips_time/has_trip_ended",
          "TRIP_SEGMENTATION/segment_into_trips_time/has_trip_ended",
          "TRIP_SEGMENTATION/segment_into_trips_time/has_trip_ended",
          "TRIP_SEGMENTATION/segment_into_trips_time/has_trip_ended",
          "TRIP_SEGMENTATION/segment_into_trips_time/has_trip_ended",
          "TRIP_SEGMENTATION/segment_into_trips_time/has_trip_ended",
          "TRIP_SEGMENTATION/segment_into_trips_time/has_trip_ended",
          "TRIP_SEGMENTATION/segment_into_trips_time/has_trip_ended",
          "TRIP_SEGMENTATION/segment_into_trips_time/has_trip_ended",
          "TRIP_SEGMENTATION/segment_into_trips_time/has_trip_ended",
          "TRIP_SEGMENTATION/segment_into_trips_time/has_trip_ended",
          "TRIP_SEGMENTATION/segment_into_trips_time/has_trip_ended",
          "TRIP_SEGMENTATION/segment_into_trips_time/has_trip_ended",
          "TRIP_SEGMENTATION/segment_into_trips_time/has_trip_ended",
          "TRIP_SEGMENTATION/segment_into_trips_time/has_trip_ended",
          "TRIP_SEGMENTATION/segment_into_trips_time/has_trip_ended",
          "TRIP_SEGMENTATION/segment_into_trips_time/has_trip_ended",
          "TRIP_SEGMENTATION/segment_into_trips_time/has_trip_ended",
          "TRIP_SEGMENTATION/segment_into_trips_time/has_trip_ended",
          "TRIP_SEGMENTATION/segment_into_trips_time/has_trip_ended",
          "TRIP_SEGMENTATION/segment_into_trips_time/has_trip_ended",
          "TRIP_SEGMENTATION/segment_into_trips_time/has_trip_ended",
          "TRIP_SEGMENTATION/segment_into_trips_time/has_trip_ended",
          "TRIP_SEGMENTATION/segment_into_trips_time/has_trip_ended",
          "TRIP_SEGMENTATION/segment_into_trips_time/has_trip_ended",
          "TRIP_SEGMENTATION/segment_into_trips_time/has_trip_ended",
          "TRIP_SEGMENTATION/segment_into_trips_time/has_trip_ended",
          "TRIP_SEGMENTATION/segment_into_trips_time/has_trip_ended",
          "TRIP_SEGMENTATION/segment_into_trips_time/has_trip_ended",
          "TRIP_SEGMENTATION/segment_into_trips_time/has_trip_ended",
          "TRIP_SEGMENTATION/segment_into_trips_time/has_trip_ended",
          "TRIP_SEGMENTATION/segment_into_trips_time/has_trip_ended",
          "TRIP_SEGMENTATION/segment_into_trips_time/has_trip_ended",
          "TRIP_SEGMENTATION/segment_into_trips_time/has_trip_ended",
          "TRIP_SEGMENTATION/segment_into_trips_time/has_trip_ended",
          "TRIP_SEGMENTATION/segment_into_trips_time/has_trip_ended",
          "TRIP_SEGMENTATION/segment_into_trips_time/has_trip_ended",
          "TRIP_SEGMENTATION/segment_into_trips_time/has_trip_ended",
          "TRIP_SEGMENTATION/segment_into_trips_time/has_trip_ended",
          "TRIP_SEGMENTATION/segment_into_trips_time/has_trip_ended",
          "TRIP_SEGMENTATION/segment_into_trips_time/has_trip_ended",
          "TRIP_SEGMENTATION/segment_into_trips_time/has_trip_ended",
          "TRIP_SEGMENTATION/segment_into_trips_time/has_trip_ended",
          "TRIP_SEGMENTATION/segment_into_trips_time/has_trip_ended",
          "TRIP_SEGMENTATION/segment_into_trips_time/has_trip_ended",
          "TRIP_SEGMENTATION/segment_into_trips_time/has_trip_ended",
          "TRIP_SEGMENTATION/segment_into_trips_time/has_trip_ended",
          "TRIP_SEGMENTATION/segment_into_trips_time/has_trip_ended",
          "TRIP_SEGMENTATION/segment_into_trips_time/has_trip_ended",
          "TRIP_SEGMENTATION/segment_into_trips_time/has_trip_ended",
          "TRIP_SEGMENTATION/segment_into_trips_time/has_trip_ended",
          "TRIP_SEGMENTATION/segment_into_trips_time/has_trip_ended",
          "TRIP_SEGMENTATION/segment_into_trips_time/has_trip_ended",
          "TRIP_SEGMENTATION/segment_into_trips_time/has_trip_ended",
          "TRIP_SEGMENTATION/segment_into_trips_time/has_trip_ended",
          "TRIP_SEGMENTATION/segment_into_trips_time/has_trip_ended",
          "TRIP_SEGMENTATION/segment_into_trips_time/has_trip_ended",
          "TRIP_SEGMENTATION/segment_into_trips_time/has_trip_ended",
          "TRIP_SEGMENTATION/segment_into_trips_time/has_trip_ended",
          "TRIP_SEGMENTATION/segment_into_trips_time/has_trip_ended",
          "TRIP_SEGMENTATION/segment_into_trips_time/has_trip_ended",
          "TRIP_SEGMENTATION/segment_into_trips_time/has_trip_ended",
          "TRIP_SEGMENTATION/segment_into_trips_time/has_trip_ended",
          "TRIP_SEGMENTATION/segment_into_trips_time/has_trip_ended",
          "TRIP_SEGMENTATION/segment_into_trips_time/has_trip_ended",
          "TRIP_SEGMENTATION/segment_into_trips_time/has_trip_ended",
          "TRIP_SEGMENTATION/segment_into_trips_time/has_trip_ended",
          "TRIP_SEGMENTATION/segment_into_trips_time/has_trip_ended",
          "TRIP_SEGMENTATION/segment_into_trips_time/has_trip_ended",
          "TRIP_SEGMENTATION/segment_into_trips_time/has_trip_ended",
          "TRIP_SEGMENTATION/segment_into_trips_time/has_trip_ended",
          "TRIP_SEGMENTATION/segment_into_trips_time/has_trip_ended",
          "TRIP_SEGMENTATION/segment_into_trips_time/has_trip_ended",
          "TRIP_SEGMENTATION/segment_into_trips_time/has_trip_ended",
          "TRIP_SEGMENTATION/segment_into_trips_time/has_trip_ended",
          "TRIP_SEGMENTATION/segment_into_trips_time/has_trip_ended",
          "TRIP_SEGMENTATION/segment_into_trips_time/has_trip_ended",
          "TRIP_SEGMENTATION/segment_into_trips_time/has_trip_ended",
          "TRIP_SEGMENTATION/segment_into_trips_time/has_trip_ended",
          "TRIP_SEGMENTATION/segment_into_trips_time/has_trip_ended",
          "TRIP_SEGMENTATION/segment_into_trips_time/has_trip_ended",
          "TRIP_SEGMENTATION/segment_into_trips_time/has_trip_ended",
          "TRIP_SEGMENTATION/segment_into_trips_time/has_trip_ended",
          "TRIP_SEGMENTATION/segment_into_trips_time/has_trip_ended",
          "TRIP_SEGMENTATION/segment_into_trips_time/has_trip_ended",
          "TRIP_SEGMENTATION/segment_into_trips_time/has_trip_ended",
          "TRIP_SEGMENTATION/segment_into_trips_time/has_trip_ended",
          "TRIP_SEGMENTATION/segment_into_trips_time/has_trip_ended",
          "TRIP_SEGMENTATION/segment_into_trips_time/has_trip_ended",
          "TRIP_SEGMENTATION/segment_into_trips_time/has_trip_ended",
          "TRIP_SEGMENTATION/segment_into_trips_time/has_trip_ended",
          "TRIP_SEGMENTATION/segment_into_trips_time/has_trip_ended",
          "TRIP_SEGMENTATION/segment_into_trips_time/has_trip_ended",
          "TRIP_SEGMENTATION/segment_into_trips_time/has_trip_ended",
          "TRIP_SEGMENTATION/segment_into_trips_time/has_trip_ended",
          "TRIP_SEGMENTATION/segment_into_trips_time/has_trip_ended",
          "TRIP_SEGMENTATION/segment_into_trips_time/has_trip_ended",
          "TRIP_SEGMENTATION/segment_into_trips_time/has_trip_ended",
          "TRIP_SEGMENTATION/segment_into_trips_time/has_trip_ended",
          "TRIP_SEGMENTATION/segment_into_trips_time/has_trip_ended",
          "TRIP_SEGMENTATION/segment_into_trips_time/has_trip_ended",
          "TRIP_SEGMENTATION/segment_into_trips_time/has_trip_ended",
          "TRIP_SEGMENTATION/segment_into_trips_time/has_trip_ended",
          "TRIP_SEGMENTATION/segment_into_trips_time/has_trip_ended",
          "TRIP_SEGMENTATION/segment_into_trips_time/has_trip_ended",
          "TRIP_SEGMENTATION/segment_into_trips_time/has_trip_ended",
          "TRIP_SEGMENTATION/segment_into_trips_time/has_trip_ended",
          "TRIP_SEGMENTATION/segment_into_trips_time/has_trip_ended",
          "TRIP_SEGMENTATION/segment_into_trips_time/has_trip_ended",
          "TRIP_SEGMENTATION/segment_into_trips_time/has_trip_ended",
          "TRIP_SEGMENTATION/segment_into_trips_time/has_trip_ended",
          "TRIP_SEGMENTATION/segment_into_trips_time/has_trip_ended",
          "TRIP_SEGMENTATION/segment_into_trips_time/has_trip_ended",
          "TRIP_SEGMENTATION/segment_into_trips_time/has_trip_ended",
          "TRIP_SEGMENTATION/segment_into_trips_time/has_trip_ended",
          "TRIP_SEGMENTATION/segment_into_trips_time/has_trip_ended",
          "TRIP_SEGMENTATION/segment_into_trips_time/has_trip_ended",
          "TRIP_SEGMENTATION/segment_into_trips_time/has_trip_ended",
          "TRIP_SEGMENTATION/segment_into_trips_time/has_trip_ended",
          "TRIP_SEGMENTATION/segment_into_trips_time/has_trip_ended",
          "TRIP_SEGMENTATION/segment_into_trips_time/has_trip_ended",
          "TRIP_SEGMENTATION/segment_into_trips_time/has_trip_ended",
          "TRIP_SEGMENTATION/segment_into_trips_time/has_trip_ended",
          "TRIP_SEGMENTATION/segment_into_trips_time/has_trip_ended",
          "TRIP_SEGMENTATION/segment_into_trips_time/has_trip_ended",
          "TRIP_SEGMENTATION/segment_into_trips_time/has_trip_ended",
          "TRIP_SEGMENTATION/segment_into_trips_time/has_trip_ended",
          "TRIP_SEGMENTATION/get_data_df"
         ],
         "yaxis": "y"
        },
        {
         "hovertemplate": "branch=vectorized_segmentation (draft 1)<br>reading=%{x}<br>name=%{y}<extra></extra>",
         "legendgroup": "vectorized_segmentation (draft 1)",
         "marker": {
          "color": "#00cc96",
          "pattern": {
           "shape": ""
          }
         },
         "name": "vectorized_segmentation (draft 1)",
         "orientation": "h",
         "showlegend": true,
         "textposition": "auto",
         "type": "bar",
         "x": [
          0.19740766599999993,
          0.5982726250000001,
          0.5225609999999999,
          0.048422499999999924
         ],
         "xaxis": "x",
         "y": [
          "TRIP_SEGMENTATION/create_places_and_trips",
          "TRIP_SEGMENTATION/segment_into_trips",
          "TRIP_SEGMENTATION/segment_into_trips_time/loop",
          "TRIP_SEGMENTATION/get_data_df"
         ],
         "yaxis": "y"
        },
        {
         "hovertemplate": "branch=vectorized_segmentation (current)<br>reading=%{x}<br>name=%{y}<extra></extra>",
         "legendgroup": "vectorized_segmentation (current)",
         "marker": {
          "color": "#ab63fa",
          "pattern": {
           "shape": ""
          }
         },
         "name": "vectorized_segmentation (current)",
         "orientation": "h",
         "showlegend": true,
         "textposition": "auto",
         "type": "bar",
         "x": [
          0.1585336249999999,
          0.10277799999999992,
          0.035602750000000016,
          0.04768362500000001
         ],
         "xaxis": "x",
         "y": [
          "TRIP_SEGMENTATION/create_places_and_trips",
          "TRIP_SEGMENTATION/segment_into_trips",
          "TRIP_SEGMENTATION/segment_into_trips_time/loop",
          "TRIP_SEGMENTATION/get_data_df"
         ],
         "yaxis": "y"
        }
       ],
       "layout": {
        "barmode": "group",
        "legend": {
         "title": {
          "text": "branch"
         },
         "tracegroupgap": 0,
         "x": 1,
         "xanchor": "right",
         "y": 0,
         "yref": "container"
        },
        "margin": {
         "t": 60
        },
        "template": {
         "data": {
          "bar": [
           {
            "error_x": {
             "color": "#2a3f5f"
            },
            "error_y": {
             "color": "#2a3f5f"
            },
            "marker": {
             "line": {
              "color": "#E5ECF6",
              "width": 0.5
             },
             "pattern": {
              "fillmode": "overlay",
              "size": 10,
              "solidity": 0.2
             }
            },
            "type": "bar"
           }
          ],
          "barpolar": [
           {
            "marker": {
             "line": {
              "color": "#E5ECF6",
              "width": 0.5
             },
             "pattern": {
              "fillmode": "overlay",
              "size": 10,
              "solidity": 0.2
             }
            },
            "type": "barpolar"
           }
          ],
          "carpet": [
           {
            "aaxis": {
             "endlinecolor": "#2a3f5f",
             "gridcolor": "white",
             "linecolor": "white",
             "minorgridcolor": "white",
             "startlinecolor": "#2a3f5f"
            },
            "baxis": {
             "endlinecolor": "#2a3f5f",
             "gridcolor": "white",
             "linecolor": "white",
             "minorgridcolor": "white",
             "startlinecolor": "#2a3f5f"
            },
            "type": "carpet"
           }
          ],
          "choropleth": [
           {
            "colorbar": {
             "outlinewidth": 0,
             "ticks": ""
            },
            "type": "choropleth"
           }
          ],
          "contour": [
           {
            "colorbar": {
             "outlinewidth": 0,
             "ticks": ""
            },
            "colorscale": [
             [
              0,
              "#0d0887"
             ],
             [
              0.1111111111111111,
              "#46039f"
             ],
             [
              0.2222222222222222,
              "#7201a8"
             ],
             [
              0.3333333333333333,
              "#9c179e"
             ],
             [
              0.4444444444444444,
              "#bd3786"
             ],
             [
              0.5555555555555556,
              "#d8576b"
             ],
             [
              0.6666666666666666,
              "#ed7953"
             ],
             [
              0.7777777777777778,
              "#fb9f3a"
             ],
             [
              0.8888888888888888,
              "#fdca26"
             ],
             [
              1,
              "#f0f921"
             ]
            ],
            "type": "contour"
           }
          ],
          "contourcarpet": [
           {
            "colorbar": {
             "outlinewidth": 0,
             "ticks": ""
            },
            "type": "contourcarpet"
           }
          ],
          "heatmap": [
           {
            "colorbar": {
             "outlinewidth": 0,
             "ticks": ""
            },
            "colorscale": [
             [
              0,
              "#0d0887"
             ],
             [
              0.1111111111111111,
              "#46039f"
             ],
             [
              0.2222222222222222,
              "#7201a8"
             ],
             [
              0.3333333333333333,
              "#9c179e"
             ],
             [
              0.4444444444444444,
              "#bd3786"
             ],
             [
              0.5555555555555556,
              "#d8576b"
             ],
             [
              0.6666666666666666,
              "#ed7953"
             ],
             [
              0.7777777777777778,
              "#fb9f3a"
             ],
             [
              0.8888888888888888,
              "#fdca26"
             ],
             [
              1,
              "#f0f921"
             ]
            ],
            "type": "heatmap"
           }
          ],
          "histogram": [
           {
            "marker": {
             "pattern": {
              "fillmode": "overlay",
              "size": 10,
              "solidity": 0.2
             }
            },
            "type": "histogram"
           }
          ],
          "histogram2d": [
           {
            "colorbar": {
             "outlinewidth": 0,
             "ticks": ""
            },
            "colorscale": [
             [
              0,
              "#0d0887"
             ],
             [
              0.1111111111111111,
              "#46039f"
             ],
             [
              0.2222222222222222,
              "#7201a8"
             ],
             [
              0.3333333333333333,
              "#9c179e"
             ],
             [
              0.4444444444444444,
              "#bd3786"
             ],
             [
              0.5555555555555556,
              "#d8576b"
             ],
             [
              0.6666666666666666,
              "#ed7953"
             ],
             [
              0.7777777777777778,
              "#fb9f3a"
             ],
             [
              0.8888888888888888,
              "#fdca26"
             ],
             [
              1,
              "#f0f921"
             ]
            ],
            "type": "histogram2d"
           }
          ],
          "histogram2dcontour": [
           {
            "colorbar": {
             "outlinewidth": 0,
             "ticks": ""
            },
            "colorscale": [
             [
              0,
              "#0d0887"
             ],
             [
              0.1111111111111111,
              "#46039f"
             ],
             [
              0.2222222222222222,
              "#7201a8"
             ],
             [
              0.3333333333333333,
              "#9c179e"
             ],
             [
              0.4444444444444444,
              "#bd3786"
             ],
             [
              0.5555555555555556,
              "#d8576b"
             ],
             [
              0.6666666666666666,
              "#ed7953"
             ],
             [
              0.7777777777777778,
              "#fb9f3a"
             ],
             [
              0.8888888888888888,
              "#fdca26"
             ],
             [
              1,
              "#f0f921"
             ]
            ],
            "type": "histogram2dcontour"
           }
          ],
          "mesh3d": [
           {
            "colorbar": {
             "outlinewidth": 0,
             "ticks": ""
            },
            "type": "mesh3d"
           }
          ],
          "parcoords": [
           {
            "line": {
             "colorbar": {
              "outlinewidth": 0,
              "ticks": ""
             }
            },
            "type": "parcoords"
           }
          ],
          "pie": [
           {
            "automargin": true,
            "type": "pie"
           }
          ],
          "scatter": [
           {
            "fillpattern": {
             "fillmode": "overlay",
             "size": 10,
             "solidity": 0.2
            },
            "type": "scatter"
           }
          ],
          "scatter3d": [
           {
            "line": {
             "colorbar": {
              "outlinewidth": 0,
              "ticks": ""
             }
            },
            "marker": {
             "colorbar": {
              "outlinewidth": 0,
              "ticks": ""
             }
            },
            "type": "scatter3d"
           }
          ],
          "scattercarpet": [
           {
            "marker": {
             "colorbar": {
              "outlinewidth": 0,
              "ticks": ""
             }
            },
            "type": "scattercarpet"
           }
          ],
          "scattergeo": [
           {
            "marker": {
             "colorbar": {
              "outlinewidth": 0,
              "ticks": ""
             }
            },
            "type": "scattergeo"
           }
          ],
          "scattergl": [
           {
            "marker": {
             "colorbar": {
              "outlinewidth": 0,
              "ticks": ""
             }
            },
            "type": "scattergl"
           }
          ],
          "scattermap": [
           {
            "marker": {
             "colorbar": {
              "outlinewidth": 0,
              "ticks": ""
             }
            },
            "type": "scattermap"
           }
          ],
          "scattermapbox": [
           {
            "marker": {
             "colorbar": {
              "outlinewidth": 0,
              "ticks": ""
             }
            },
            "type": "scattermapbox"
           }
          ],
          "scatterpolar": [
           {
            "marker": {
             "colorbar": {
              "outlinewidth": 0,
              "ticks": ""
             }
            },
            "type": "scatterpolar"
           }
          ],
          "scatterpolargl": [
           {
            "marker": {
             "colorbar": {
              "outlinewidth": 0,
              "ticks": ""
             }
            },
            "type": "scatterpolargl"
           }
          ],
          "scatterternary": [
           {
            "marker": {
             "colorbar": {
              "outlinewidth": 0,
              "ticks": ""
             }
            },
            "type": "scatterternary"
           }
          ],
          "surface": [
           {
            "colorbar": {
             "outlinewidth": 0,
             "ticks": ""
            },
            "colorscale": [
             [
              0,
              "#0d0887"
             ],
             [
              0.1111111111111111,
              "#46039f"
             ],
             [
              0.2222222222222222,
              "#7201a8"
             ],
             [
              0.3333333333333333,
              "#9c179e"
             ],
             [
              0.4444444444444444,
              "#bd3786"
             ],
             [
              0.5555555555555556,
              "#d8576b"
             ],
             [
              0.6666666666666666,
              "#ed7953"
             ],
             [
              0.7777777777777778,
              "#fb9f3a"
             ],
             [
              0.8888888888888888,
              "#fdca26"
             ],
             [
              1,
              "#f0f921"
             ]
            ],
            "type": "surface"
           }
          ],
          "table": [
           {
            "cells": {
             "fill": {
              "color": "#EBF0F8"
             },
             "line": {
              "color": "white"
             }
            },
            "header": {
             "fill": {
              "color": "#C8D4E3"
             },
             "line": {
              "color": "white"
             }
            },
            "type": "table"
           }
          ]
         },
         "layout": {
          "annotationdefaults": {
           "arrowcolor": "#2a3f5f",
           "arrowhead": 0,
           "arrowwidth": 1
          },
          "autotypenumbers": "strict",
          "coloraxis": {
           "colorbar": {
            "outlinewidth": 0,
            "ticks": ""
           }
          },
          "colorscale": {
           "diverging": [
            [
             0,
             "#8e0152"
            ],
            [
             0.1,
             "#c51b7d"
            ],
            [
             0.2,
             "#de77ae"
            ],
            [
             0.3,
             "#f1b6da"
            ],
            [
             0.4,
             "#fde0ef"
            ],
            [
             0.5,
             "#f7f7f7"
            ],
            [
             0.6,
             "#e6f5d0"
            ],
            [
             0.7,
             "#b8e186"
            ],
            [
             0.8,
             "#7fbc41"
            ],
            [
             0.9,
             "#4d9221"
            ],
            [
             1,
             "#276419"
            ]
           ],
           "sequential": [
            [
             0,
             "#0d0887"
            ],
            [
             0.1111111111111111,
             "#46039f"
            ],
            [
             0.2222222222222222,
             "#7201a8"
            ],
            [
             0.3333333333333333,
             "#9c179e"
            ],
            [
             0.4444444444444444,
             "#bd3786"
            ],
            [
             0.5555555555555556,
             "#d8576b"
            ],
            [
             0.6666666666666666,
             "#ed7953"
            ],
            [
             0.7777777777777778,
             "#fb9f3a"
            ],
            [
             0.8888888888888888,
             "#fdca26"
            ],
            [
             1,
             "#f0f921"
            ]
           ],
           "sequentialminus": [
            [
             0,
             "#0d0887"
            ],
            [
             0.1111111111111111,
             "#46039f"
            ],
            [
             0.2222222222222222,
             "#7201a8"
            ],
            [
             0.3333333333333333,
             "#9c179e"
            ],
            [
             0.4444444444444444,
             "#bd3786"
            ],
            [
             0.5555555555555556,
             "#d8576b"
            ],
            [
             0.6666666666666666,
             "#ed7953"
            ],
            [
             0.7777777777777778,
             "#fb9f3a"
            ],
            [
             0.8888888888888888,
             "#fdca26"
            ],
            [
             1,
             "#f0f921"
            ]
           ]
          },
          "colorway": [
           "#636efa",
           "#EF553B",
           "#00cc96",
           "#ab63fa",
           "#FFA15A",
           "#19d3f3",
           "#FF6692",
           "#B6E880",
           "#FF97FF",
           "#FECB52"
          ],
          "font": {
           "color": "#2a3f5f"
          },
          "geo": {
           "bgcolor": "white",
           "lakecolor": "white",
           "landcolor": "#E5ECF6",
           "showlakes": true,
           "showland": true,
           "subunitcolor": "white"
          },
          "hoverlabel": {
           "align": "left"
          },
          "hovermode": "closest",
          "mapbox": {
           "style": "light"
          },
          "paper_bgcolor": "white",
          "plot_bgcolor": "#E5ECF6",
          "polar": {
           "angularaxis": {
            "gridcolor": "white",
            "linecolor": "white",
            "ticks": ""
           },
           "bgcolor": "#E5ECF6",
           "radialaxis": {
            "gridcolor": "white",
            "linecolor": "white",
            "ticks": ""
           }
          },
          "scene": {
           "xaxis": {
            "backgroundcolor": "#E5ECF6",
            "gridcolor": "white",
            "gridwidth": 2,
            "linecolor": "white",
            "showbackground": true,
            "ticks": "",
            "zerolinecolor": "white"
           },
           "yaxis": {
            "backgroundcolor": "#E5ECF6",
            "gridcolor": "white",
            "gridwidth": 2,
            "linecolor": "white",
            "showbackground": true,
            "ticks": "",
            "zerolinecolor": "white"
           },
           "zaxis": {
            "backgroundcolor": "#E5ECF6",
            "gridcolor": "white",
            "gridwidth": 2,
            "linecolor": "white",
            "showbackground": true,
            "ticks": "",
            "zerolinecolor": "white"
           }
          },
          "shapedefaults": {
           "line": {
            "color": "#2a3f5f"
           }
          },
          "ternary": {
           "aaxis": {
            "gridcolor": "white",
            "linecolor": "white",
            "ticks": ""
           },
           "baxis": {
            "gridcolor": "white",
            "linecolor": "white",
            "ticks": ""
           },
           "bgcolor": "#E5ECF6",
           "caxis": {
            "gridcolor": "white",
            "linecolor": "white",
            "ticks": ""
           }
          },
          "title": {
           "x": 0.05
          },
          "xaxis": {
           "automargin": true,
           "gridcolor": "white",
           "linecolor": "white",
           "ticks": "",
           "title": {
            "standoff": 15
           },
           "zerolinecolor": "white",
           "zerolinewidth": 2
          },
          "yaxis": {
           "automargin": true,
           "gridcolor": "white",
           "linecolor": "white",
           "ticks": "",
           "title": {
            "standoff": 15
           },
           "zerolinecolor": "white",
           "zerolinewidth": 2
          }
         }
        },
        "title": {
         "text": "Trip segmentation substage runtimes ['shankari_2016-08-04']"
        },
        "xaxis": {
         "anchor": "y",
         "domain": [
          0,
          1
         ],
         "title": {
          "text": "reading"
         }
        },
        "yaxis": {
         "anchor": "x",
         "domain": [
          0,
          1
         ],
         "title": {
          "text": "name"
         }
        }
       }
      }
     },
     "metadata": {},
     "output_type": "display_data"
    }
   ],
   "source": [
    "trip_segmentation_df = pipeline_stats_df[\n",
    "    pipeline_stats_df['name'].str.contains('TRIP_SEGMENTATION/')\n",
    "]\n",
    "fig = px.bar(\n",
    "    trip_segmentation_df,\n",
    "    y=\"name\",\n",
    "    x=\"reading\",\n",
    "    color=\"branch\",\n",
    "    orientation=\"h\",\n",
    ")\n",
    "fig.update_layout(\n",
    "    title=f\"Trip segmentation substage runtimes {DAYS}\",\n",
    "    barmode='group',\n",
    "    legend=dict(yref=\"container\", xanchor=\"right\", x=1, y=0),\n",
    ")\n",
    "fig.show()"
   ]
  },
  {
   "cell_type": "code",
   "execution_count": 107,
   "metadata": {},
   "outputs": [
    {
     "data": {
      "application/vnd.plotly.v1+json": {
       "config": {
        "plotlyServerURL": "https://plot.ly"
       },
       "data": [
        {
         "hovertemplate": "index=%{y}<br>value=%{x}<extra></extra>",
         "legendgroup": "baseline",
         "marker": {
          "color": "#636efa",
          "pattern": {
           "shape": ""
          }
         },
         "name": "baseline",
         "orientation": "h",
         "showlegend": true,
         "textposition": "auto",
         "type": "bar",
         "x": {
          "bdata": "Ug0=",
          "dtype": "i2"
         },
         "xaxis": "x",
         "y": [
          "baseline"
         ],
         "yaxis": "y"
        },
        {
         "hovertemplate": "index=%{y}<br>value=%{x}<extra></extra>",
         "legendgroup": "master",
         "marker": {
          "color": "#EF553B",
          "pattern": {
           "shape": ""
          }
         },
         "name": "master",
         "orientation": "h",
         "showlegend": true,
         "textposition": "auto",
         "type": "bar",
         "x": {
          "bdata": "wgE=",
          "dtype": "i2"
         },
         "xaxis": "x",
         "y": [
          "master"
         ],
         "yaxis": "y"
        },
        {
         "hovertemplate": "index=%{y}<br>value=%{x}<extra></extra>",
         "legendgroup": "vectorized_segmentation (draft 1)",
         "marker": {
          "color": "#00cc96",
          "pattern": {
           "shape": ""
          }
         },
         "name": "vectorized_segmentation (draft 1)",
         "orientation": "h",
         "showlegend": true,
         "textposition": "auto",
         "type": "bar",
         "x": {
          "bdata": "wgE=",
          "dtype": "i2"
         },
         "xaxis": "x",
         "y": [
          "vectorized_segmentation (draft 1)"
         ],
         "yaxis": "y"
        },
        {
         "hovertemplate": "index=%{y}<br>value=%{x}<extra></extra>",
         "legendgroup": "vectorized_segmentation (current)",
         "marker": {
          "color": "#ab63fa",
          "pattern": {
           "shape": ""
          }
         },
         "name": "vectorized_segmentation (current)",
         "orientation": "h",
         "showlegend": true,
         "textposition": "auto",
         "type": "bar",
         "x": {
          "bdata": "wgE=",
          "dtype": "i2"
         },
         "xaxis": "x",
         "y": [
          "vectorized_segmentation (current)"
         ],
         "yaxis": "y"
        }
       ],
       "layout": {
        "barmode": "group",
        "legend": {
         "title": {
          "text": "index"
         },
         "tracegroupgap": 0,
         "x": 1,
         "xanchor": "right",
         "y": 0,
         "yref": "container"
        },
        "margin": {
         "t": 60
        },
        "template": {
         "data": {
          "bar": [
           {
            "error_x": {
             "color": "#2a3f5f"
            },
            "error_y": {
             "color": "#2a3f5f"
            },
            "marker": {
             "line": {
              "color": "#E5ECF6",
              "width": 0.5
             },
             "pattern": {
              "fillmode": "overlay",
              "size": 10,
              "solidity": 0.2
             }
            },
            "type": "bar"
           }
          ],
          "barpolar": [
           {
            "marker": {
             "line": {
              "color": "#E5ECF6",
              "width": 0.5
             },
             "pattern": {
              "fillmode": "overlay",
              "size": 10,
              "solidity": 0.2
             }
            },
            "type": "barpolar"
           }
          ],
          "carpet": [
           {
            "aaxis": {
             "endlinecolor": "#2a3f5f",
             "gridcolor": "white",
             "linecolor": "white",
             "minorgridcolor": "white",
             "startlinecolor": "#2a3f5f"
            },
            "baxis": {
             "endlinecolor": "#2a3f5f",
             "gridcolor": "white",
             "linecolor": "white",
             "minorgridcolor": "white",
             "startlinecolor": "#2a3f5f"
            },
            "type": "carpet"
           }
          ],
          "choropleth": [
           {
            "colorbar": {
             "outlinewidth": 0,
             "ticks": ""
            },
            "type": "choropleth"
           }
          ],
          "contour": [
           {
            "colorbar": {
             "outlinewidth": 0,
             "ticks": ""
            },
            "colorscale": [
             [
              0,
              "#0d0887"
             ],
             [
              0.1111111111111111,
              "#46039f"
             ],
             [
              0.2222222222222222,
              "#7201a8"
             ],
             [
              0.3333333333333333,
              "#9c179e"
             ],
             [
              0.4444444444444444,
              "#bd3786"
             ],
             [
              0.5555555555555556,
              "#d8576b"
             ],
             [
              0.6666666666666666,
              "#ed7953"
             ],
             [
              0.7777777777777778,
              "#fb9f3a"
             ],
             [
              0.8888888888888888,
              "#fdca26"
             ],
             [
              1,
              "#f0f921"
             ]
            ],
            "type": "contour"
           }
          ],
          "contourcarpet": [
           {
            "colorbar": {
             "outlinewidth": 0,
             "ticks": ""
            },
            "type": "contourcarpet"
           }
          ],
          "heatmap": [
           {
            "colorbar": {
             "outlinewidth": 0,
             "ticks": ""
            },
            "colorscale": [
             [
              0,
              "#0d0887"
             ],
             [
              0.1111111111111111,
              "#46039f"
             ],
             [
              0.2222222222222222,
              "#7201a8"
             ],
             [
              0.3333333333333333,
              "#9c179e"
             ],
             [
              0.4444444444444444,
              "#bd3786"
             ],
             [
              0.5555555555555556,
              "#d8576b"
             ],
             [
              0.6666666666666666,
              "#ed7953"
             ],
             [
              0.7777777777777778,
              "#fb9f3a"
             ],
             [
              0.8888888888888888,
              "#fdca26"
             ],
             [
              1,
              "#f0f921"
             ]
            ],
            "type": "heatmap"
           }
          ],
          "histogram": [
           {
            "marker": {
             "pattern": {
              "fillmode": "overlay",
              "size": 10,
              "solidity": 0.2
             }
            },
            "type": "histogram"
           }
          ],
          "histogram2d": [
           {
            "colorbar": {
             "outlinewidth": 0,
             "ticks": ""
            },
            "colorscale": [
             [
              0,
              "#0d0887"
             ],
             [
              0.1111111111111111,
              "#46039f"
             ],
             [
              0.2222222222222222,
              "#7201a8"
             ],
             [
              0.3333333333333333,
              "#9c179e"
             ],
             [
              0.4444444444444444,
              "#bd3786"
             ],
             [
              0.5555555555555556,
              "#d8576b"
             ],
             [
              0.6666666666666666,
              "#ed7953"
             ],
             [
              0.7777777777777778,
              "#fb9f3a"
             ],
             [
              0.8888888888888888,
              "#fdca26"
             ],
             [
              1,
              "#f0f921"
             ]
            ],
            "type": "histogram2d"
           }
          ],
          "histogram2dcontour": [
           {
            "colorbar": {
             "outlinewidth": 0,
             "ticks": ""
            },
            "colorscale": [
             [
              0,
              "#0d0887"
             ],
             [
              0.1111111111111111,
              "#46039f"
             ],
             [
              0.2222222222222222,
              "#7201a8"
             ],
             [
              0.3333333333333333,
              "#9c179e"
             ],
             [
              0.4444444444444444,
              "#bd3786"
             ],
             [
              0.5555555555555556,
              "#d8576b"
             ],
             [
              0.6666666666666666,
              "#ed7953"
             ],
             [
              0.7777777777777778,
              "#fb9f3a"
             ],
             [
              0.8888888888888888,
              "#fdca26"
             ],
             [
              1,
              "#f0f921"
             ]
            ],
            "type": "histogram2dcontour"
           }
          ],
          "mesh3d": [
           {
            "colorbar": {
             "outlinewidth": 0,
             "ticks": ""
            },
            "type": "mesh3d"
           }
          ],
          "parcoords": [
           {
            "line": {
             "colorbar": {
              "outlinewidth": 0,
              "ticks": ""
             }
            },
            "type": "parcoords"
           }
          ],
          "pie": [
           {
            "automargin": true,
            "type": "pie"
           }
          ],
          "scatter": [
           {
            "fillpattern": {
             "fillmode": "overlay",
             "size": 10,
             "solidity": 0.2
            },
            "type": "scatter"
           }
          ],
          "scatter3d": [
           {
            "line": {
             "colorbar": {
              "outlinewidth": 0,
              "ticks": ""
             }
            },
            "marker": {
             "colorbar": {
              "outlinewidth": 0,
              "ticks": ""
             }
            },
            "type": "scatter3d"
           }
          ],
          "scattercarpet": [
           {
            "marker": {
             "colorbar": {
              "outlinewidth": 0,
              "ticks": ""
             }
            },
            "type": "scattercarpet"
           }
          ],
          "scattergeo": [
           {
            "marker": {
             "colorbar": {
              "outlinewidth": 0,
              "ticks": ""
             }
            },
            "type": "scattergeo"
           }
          ],
          "scattergl": [
           {
            "marker": {
             "colorbar": {
              "outlinewidth": 0,
              "ticks": ""
             }
            },
            "type": "scattergl"
           }
          ],
          "scattermap": [
           {
            "marker": {
             "colorbar": {
              "outlinewidth": 0,
              "ticks": ""
             }
            },
            "type": "scattermap"
           }
          ],
          "scattermapbox": [
           {
            "marker": {
             "colorbar": {
              "outlinewidth": 0,
              "ticks": ""
             }
            },
            "type": "scattermapbox"
           }
          ],
          "scatterpolar": [
           {
            "marker": {
             "colorbar": {
              "outlinewidth": 0,
              "ticks": ""
             }
            },
            "type": "scatterpolar"
           }
          ],
          "scatterpolargl": [
           {
            "marker": {
             "colorbar": {
              "outlinewidth": 0,
              "ticks": ""
             }
            },
            "type": "scatterpolargl"
           }
          ],
          "scatterternary": [
           {
            "marker": {
             "colorbar": {
              "outlinewidth": 0,
              "ticks": ""
             }
            },
            "type": "scatterternary"
           }
          ],
          "surface": [
           {
            "colorbar": {
             "outlinewidth": 0,
             "ticks": ""
            },
            "colorscale": [
             [
              0,
              "#0d0887"
             ],
             [
              0.1111111111111111,
              "#46039f"
             ],
             [
              0.2222222222222222,
              "#7201a8"
             ],
             [
              0.3333333333333333,
              "#9c179e"
             ],
             [
              0.4444444444444444,
              "#bd3786"
             ],
             [
              0.5555555555555556,
              "#d8576b"
             ],
             [
              0.6666666666666666,
              "#ed7953"
             ],
             [
              0.7777777777777778,
              "#fb9f3a"
             ],
             [
              0.8888888888888888,
              "#fdca26"
             ],
             [
              1,
              "#f0f921"
             ]
            ],
            "type": "surface"
           }
          ],
          "table": [
           {
            "cells": {
             "fill": {
              "color": "#EBF0F8"
             },
             "line": {
              "color": "white"
             }
            },
            "header": {
             "fill": {
              "color": "#C8D4E3"
             },
             "line": {
              "color": "white"
             }
            },
            "type": "table"
           }
          ]
         },
         "layout": {
          "annotationdefaults": {
           "arrowcolor": "#2a3f5f",
           "arrowhead": 0,
           "arrowwidth": 1
          },
          "autotypenumbers": "strict",
          "coloraxis": {
           "colorbar": {
            "outlinewidth": 0,
            "ticks": ""
           }
          },
          "colorscale": {
           "diverging": [
            [
             0,
             "#8e0152"
            ],
            [
             0.1,
             "#c51b7d"
            ],
            [
             0.2,
             "#de77ae"
            ],
            [
             0.3,
             "#f1b6da"
            ],
            [
             0.4,
             "#fde0ef"
            ],
            [
             0.5,
             "#f7f7f7"
            ],
            [
             0.6,
             "#e6f5d0"
            ],
            [
             0.7,
             "#b8e186"
            ],
            [
             0.8,
             "#7fbc41"
            ],
            [
             0.9,
             "#4d9221"
            ],
            [
             1,
             "#276419"
            ]
           ],
           "sequential": [
            [
             0,
             "#0d0887"
            ],
            [
             0.1111111111111111,
             "#46039f"
            ],
            [
             0.2222222222222222,
             "#7201a8"
            ],
            [
             0.3333333333333333,
             "#9c179e"
            ],
            [
             0.4444444444444444,
             "#bd3786"
            ],
            [
             0.5555555555555556,
             "#d8576b"
            ],
            [
             0.6666666666666666,
             "#ed7953"
            ],
            [
             0.7777777777777778,
             "#fb9f3a"
            ],
            [
             0.8888888888888888,
             "#fdca26"
            ],
            [
             1,
             "#f0f921"
            ]
           ],
           "sequentialminus": [
            [
             0,
             "#0d0887"
            ],
            [
             0.1111111111111111,
             "#46039f"
            ],
            [
             0.2222222222222222,
             "#7201a8"
            ],
            [
             0.3333333333333333,
             "#9c179e"
            ],
            [
             0.4444444444444444,
             "#bd3786"
            ],
            [
             0.5555555555555556,
             "#d8576b"
            ],
            [
             0.6666666666666666,
             "#ed7953"
            ],
            [
             0.7777777777777778,
             "#fb9f3a"
            ],
            [
             0.8888888888888888,
             "#fdca26"
            ],
            [
             1,
             "#f0f921"
            ]
           ]
          },
          "colorway": [
           "#636efa",
           "#EF553B",
           "#00cc96",
           "#ab63fa",
           "#FFA15A",
           "#19d3f3",
           "#FF6692",
           "#B6E880",
           "#FF97FF",
           "#FECB52"
          ],
          "font": {
           "color": "#2a3f5f"
          },
          "geo": {
           "bgcolor": "white",
           "lakecolor": "white",
           "landcolor": "#E5ECF6",
           "showlakes": true,
           "showland": true,
           "subunitcolor": "white"
          },
          "hoverlabel": {
           "align": "left"
          },
          "hovermode": "closest",
          "mapbox": {
           "style": "light"
          },
          "paper_bgcolor": "white",
          "plot_bgcolor": "#E5ECF6",
          "polar": {
           "angularaxis": {
            "gridcolor": "white",
            "linecolor": "white",
            "ticks": ""
           },
           "bgcolor": "#E5ECF6",
           "radialaxis": {
            "gridcolor": "white",
            "linecolor": "white",
            "ticks": ""
           }
          },
          "scene": {
           "xaxis": {
            "backgroundcolor": "#E5ECF6",
            "gridcolor": "white",
            "gridwidth": 2,
            "linecolor": "white",
            "showbackground": true,
            "ticks": "",
            "zerolinecolor": "white"
           },
           "yaxis": {
            "backgroundcolor": "#E5ECF6",
            "gridcolor": "white",
            "gridwidth": 2,
            "linecolor": "white",
            "showbackground": true,
            "ticks": "",
            "zerolinecolor": "white"
           },
           "zaxis": {
            "backgroundcolor": "#E5ECF6",
            "gridcolor": "white",
            "gridwidth": 2,
            "linecolor": "white",
            "showbackground": true,
            "ticks": "",
            "zerolinecolor": "white"
           }
          },
          "shapedefaults": {
           "line": {
            "color": "#2a3f5f"
           }
          },
          "ternary": {
           "aaxis": {
            "gridcolor": "white",
            "linecolor": "white",
            "ticks": ""
           },
           "baxis": {
            "gridcolor": "white",
            "linecolor": "white",
            "ticks": ""
           },
           "bgcolor": "#E5ECF6",
           "caxis": {
            "gridcolor": "white",
            "linecolor": "white",
            "ticks": ""
           }
          },
          "title": {
           "x": 0.05
          },
          "xaxis": {
           "automargin": true,
           "gridcolor": "white",
           "linecolor": "white",
           "ticks": "",
           "title": {
            "standoff": 15
           },
           "zerolinecolor": "white",
           "zerolinewidth": 2
          },
          "yaxis": {
           "automargin": true,
           "gridcolor": "white",
           "linecolor": "white",
           "ticks": "",
           "title": {
            "standoff": 15
           },
           "zerolinecolor": "white",
           "zerolinewidth": 2
          }
         }
        },
        "title": {
         "text": "Calls to _get_entries_for_timeseries during pipeline ['shankari_2016-08-04']"
        },
        "xaxis": {
         "anchor": "y",
         "domain": [
          0,
          1
         ],
         "title": {
          "text": "value"
         }
        },
        "yaxis": {
         "anchor": "x",
         "categoryarray": [
          "vectorized_segmentation (current)",
          "vectorized_segmentation (draft 1)",
          "master",
          "baseline"
         ],
         "categoryorder": "array",
         "domain": [
          0,
          1
         ],
         "showticklabels": false,
         "title": {
          "text": "index"
         }
        }
       }
      }
     },
     "metadata": {},
     "output_type": "display_data"
    }
   ],
   "source": [
    "db_calls_df = pipeline_stats_df[\n",
    "    pipeline_stats_df['name'] == 'get_entries_for_timeseries'\n",
    "]\n",
    "db_calls_counts_df = db_calls_df['branch'].value_counts(sort=False)\n",
    "\n",
    "fig = px.bar(\n",
    "    db_calls_counts_df,\n",
    "    color=db_calls_counts_df.index,\n",
    "    orientation=\"h\",\n",
    ")\n",
    "fig.update_layout(\n",
    "    title=f\"Calls to _get_entries_for_timeseries during pipeline {DAYS}\",\n",
    "    barmode='group',\n",
    "    yaxis=dict(showticklabels=False),\n",
    "    legend=dict(yref=\"container\", xanchor=\"right\", x=1, y=0),\n",
    ")\n",
    "fig.show()"
   ]
  },
  {
   "cell_type": "code",
   "execution_count": 108,
   "metadata": {},
   "outputs": [
    {
     "name": "stdout",
     "output_type": "stream",
     "text": [
      "47ab8be28a1682f841b3d6a03cbe0f9fe0515e0f\n"
     ]
    },
    {
     "data": {
      "text/html": [
       "<div>\n",
       "<style scoped>\n",
       "    .dataframe tbody tr th:only-of-type {\n",
       "        vertical-align: middle;\n",
       "    }\n",
       "\n",
       "    .dataframe tbody tr th {\n",
       "        vertical-align: top;\n",
       "    }\n",
       "\n",
       "    .dataframe thead th {\n",
       "        text-align: right;\n",
       "    }\n",
       "</style>\n",
       "<table border=\"1\" class=\"dataframe\">\n",
       "  <thead>\n",
       "    <tr style=\"text-align: right;\">\n",
       "      <th></th>\n",
       "      <th>name</th>\n",
       "      <th>ts</th>\n",
       "      <th>reading</th>\n",
       "      <th>_id</th>\n",
       "      <th>user_id</th>\n",
       "      <th>metadata_write_ts</th>\n",
       "      <th>branch</th>\n",
       "    </tr>\n",
       "  </thead>\n",
       "  <tbody>\n",
       "    <tr>\n",
       "      <th>5</th>\n",
       "      <td>get_entries_for_timeseries</td>\n",
       "      <td>1739173753.09</td>\n",
       "      <td>find_entries</td>\n",
       "      <td>67a9af794d7168c4d9792106</td>\n",
       "      <td>bb6c7318-52f7-4e0f-a51b-c3f802f3b567</td>\n",
       "      <td>1739173753.09</td>\n",
       "      <td>baseline</td>\n",
       "    </tr>\n",
       "    <tr>\n",
       "      <th>6</th>\n",
       "      <td>get_entries_for_timeseries</td>\n",
       "      <td>1739173753.09</td>\n",
       "      <td>find_entries</td>\n",
       "      <td>67a9af794d7168c4d9792107</td>\n",
       "      <td>bb6c7318-52f7-4e0f-a51b-c3f802f3b567</td>\n",
       "      <td>1739173753.09</td>\n",
       "      <td>baseline</td>\n",
       "    </tr>\n",
       "    <tr>\n",
       "      <th>8</th>\n",
       "      <td>get_entries_for_timeseries</td>\n",
       "      <td>1739173753.13</td>\n",
       "      <td>find_entries</td>\n",
       "      <td>67a9af794d7168c4d9792109</td>\n",
       "      <td>bb6c7318-52f7-4e0f-a51b-c3f802f3b567</td>\n",
       "      <td>1739173753.13</td>\n",
       "      <td>baseline</td>\n",
       "    </tr>\n",
       "    <tr>\n",
       "      <th>9</th>\n",
       "      <td>get_entries_for_timeseries</td>\n",
       "      <td>1739173753.14</td>\n",
       "      <td>find_entries</td>\n",
       "      <td>67a9af794d7168c4d979210a</td>\n",
       "      <td>bb6c7318-52f7-4e0f-a51b-c3f802f3b567</td>\n",
       "      <td>1739173753.14</td>\n",
       "      <td>baseline</td>\n",
       "    </tr>\n",
       "    <tr>\n",
       "      <th>10</th>\n",
       "      <td>get_entries_for_timeseries</td>\n",
       "      <td>1739173753.17</td>\n",
       "      <td>find_entries</td>\n",
       "      <td>67a9af794d7168c4d979210b</td>\n",
       "      <td>bb6c7318-52f7-4e0f-a51b-c3f802f3b567</td>\n",
       "      <td>1739173753.17</td>\n",
       "      <td>baseline</td>\n",
       "    </tr>\n",
       "    <tr>\n",
       "      <th>...</th>\n",
       "      <td>...</td>\n",
       "      <td>...</td>\n",
       "      <td>...</td>\n",
       "      <td>...</td>\n",
       "      <td>...</td>\n",
       "      <td>...</td>\n",
       "      <td>...</td>\n",
       "    </tr>\n",
       "    <tr>\n",
       "      <th>3744</th>\n",
       "      <td>get_entries_for_timeseries</td>\n",
       "      <td>1739173761.99</td>\n",
       "      <td>find_entries</td>\n",
       "      <td>67a9af814d7168c4d9792fb8</td>\n",
       "      <td>bb6c7318-52f7-4e0f-a51b-c3f802f3b567</td>\n",
       "      <td>1739173761.99</td>\n",
       "      <td>baseline</td>\n",
       "    </tr>\n",
       "    <tr>\n",
       "      <th>3745</th>\n",
       "      <td>get_entries_for_timeseries</td>\n",
       "      <td>1739173762.00</td>\n",
       "      <td>find_entries</td>\n",
       "      <td>67a9af824d7168c4d9792fbb</td>\n",
       "      <td>bb6c7318-52f7-4e0f-a51b-c3f802f3b567</td>\n",
       "      <td>1739173762.00</td>\n",
       "      <td>baseline</td>\n",
       "    </tr>\n",
       "    <tr>\n",
       "      <th>3746</th>\n",
       "      <td>get_entries_for_timeseries</td>\n",
       "      <td>1739173762.00</td>\n",
       "      <td>find_entries</td>\n",
       "      <td>67a9af824d7168c4d9792fbc</td>\n",
       "      <td>bb6c7318-52f7-4e0f-a51b-c3f802f3b567</td>\n",
       "      <td>1739173762.00</td>\n",
       "      <td>baseline</td>\n",
       "    </tr>\n",
       "    <tr>\n",
       "      <th>3747</th>\n",
       "      <td>get_entries_for_timeseries</td>\n",
       "      <td>1739173762.01</td>\n",
       "      <td>find_entries</td>\n",
       "      <td>67a9af824d7168c4d9792fbf</td>\n",
       "      <td>bb6c7318-52f7-4e0f-a51b-c3f802f3b567</td>\n",
       "      <td>1739173762.01</td>\n",
       "      <td>baseline</td>\n",
       "    </tr>\n",
       "    <tr>\n",
       "      <th>3748</th>\n",
       "      <td>get_entries_for_timeseries</td>\n",
       "      <td>1739173762.01</td>\n",
       "      <td>find_entries</td>\n",
       "      <td>67a9af824d7168c4d9792fc0</td>\n",
       "      <td>bb6c7318-52f7-4e0f-a51b-c3f802f3b567</td>\n",
       "      <td>1739173762.01</td>\n",
       "      <td>baseline</td>\n",
       "    </tr>\n",
       "  </tbody>\n",
       "</table>\n",
       "<p>2990 rows × 7 columns</p>\n",
       "</div>"
      ],
      "text/plain": [
       "                            name            ts       reading  \\\n",
       "5     get_entries_for_timeseries 1739173753.09  find_entries   \n",
       "6     get_entries_for_timeseries 1739173753.09  find_entries   \n",
       "8     get_entries_for_timeseries 1739173753.13  find_entries   \n",
       "9     get_entries_for_timeseries 1739173753.14  find_entries   \n",
       "10    get_entries_for_timeseries 1739173753.17  find_entries   \n",
       "...                          ...           ...           ...   \n",
       "3744  get_entries_for_timeseries 1739173761.99  find_entries   \n",
       "3745  get_entries_for_timeseries 1739173762.00  find_entries   \n",
       "3746  get_entries_for_timeseries 1739173762.00  find_entries   \n",
       "3747  get_entries_for_timeseries 1739173762.01  find_entries   \n",
       "3748  get_entries_for_timeseries 1739173762.01  find_entries   \n",
       "\n",
       "                           _id                               user_id  \\\n",
       "5     67a9af794d7168c4d9792106  bb6c7318-52f7-4e0f-a51b-c3f802f3b567   \n",
       "6     67a9af794d7168c4d9792107  bb6c7318-52f7-4e0f-a51b-c3f802f3b567   \n",
       "8     67a9af794d7168c4d9792109  bb6c7318-52f7-4e0f-a51b-c3f802f3b567   \n",
       "9     67a9af794d7168c4d979210a  bb6c7318-52f7-4e0f-a51b-c3f802f3b567   \n",
       "10    67a9af794d7168c4d979210b  bb6c7318-52f7-4e0f-a51b-c3f802f3b567   \n",
       "...                        ...                                   ...   \n",
       "3744  67a9af814d7168c4d9792fb8  bb6c7318-52f7-4e0f-a51b-c3f802f3b567   \n",
       "3745  67a9af824d7168c4d9792fbb  bb6c7318-52f7-4e0f-a51b-c3f802f3b567   \n",
       "3746  67a9af824d7168c4d9792fbc  bb6c7318-52f7-4e0f-a51b-c3f802f3b567   \n",
       "3747  67a9af824d7168c4d9792fbf  bb6c7318-52f7-4e0f-a51b-c3f802f3b567   \n",
       "3748  67a9af824d7168c4d9792fc0  bb6c7318-52f7-4e0f-a51b-c3f802f3b567   \n",
       "\n",
       "      metadata_write_ts    branch  \n",
       "5         1739173753.09  baseline  \n",
       "6         1739173753.09  baseline  \n",
       "8         1739173753.13  baseline  \n",
       "9         1739173753.14  baseline  \n",
       "10        1739173753.17  baseline  \n",
       "...                 ...       ...  \n",
       "3744      1739173761.99  baseline  \n",
       "3745      1739173762.00  baseline  \n",
       "3746      1739173762.00  baseline  \n",
       "3747      1739173762.01  baseline  \n",
       "3748      1739173762.01  baseline  \n",
       "\n",
       "[2990 rows x 7 columns]"
      ]
     },
     "metadata": {},
     "output_type": "display_data"
    },
    {
     "name": "stdout",
     "output_type": "stream",
     "text": [
      "master\n"
     ]
    },
    {
     "data": {
      "text/html": [
       "<div>\n",
       "<style scoped>\n",
       "    .dataframe tbody tr th:only-of-type {\n",
       "        vertical-align: middle;\n",
       "    }\n",
       "\n",
       "    .dataframe tbody tr th {\n",
       "        vertical-align: top;\n",
       "    }\n",
       "\n",
       "    .dataframe thead th {\n",
       "        text-align: right;\n",
       "    }\n",
       "</style>\n",
       "<table border=\"1\" class=\"dataframe\">\n",
       "  <thead>\n",
       "    <tr style=\"text-align: right;\">\n",
       "      <th></th>\n",
       "      <th>name</th>\n",
       "      <th>ts</th>\n",
       "      <th>reading</th>\n",
       "      <th>_id</th>\n",
       "      <th>user_id</th>\n",
       "      <th>metadata_write_ts</th>\n",
       "      <th>branch</th>\n",
       "    </tr>\n",
       "  </thead>\n",
       "  <tbody>\n",
       "    <tr>\n",
       "      <th>430</th>\n",
       "      <td>get_entries_for_timeseries</td>\n",
       "      <td>1739173777.73</td>\n",
       "      <td>find_entries</td>\n",
       "      <td>67a9af91936c010546d01ca9</td>\n",
       "      <td>bb6c7318-52f7-4e0f-a51b-c3f802f3b567</td>\n",
       "      <td>1739173777.73</td>\n",
       "      <td>master</td>\n",
       "    </tr>\n",
       "    <tr>\n",
       "      <th>431</th>\n",
       "      <td>get_entries_for_timeseries</td>\n",
       "      <td>1739173777.73</td>\n",
       "      <td>find_entries</td>\n",
       "      <td>67a9af91936c010546d01ca8</td>\n",
       "      <td>bb6c7318-52f7-4e0f-a51b-c3f802f3b567</td>\n",
       "      <td>1739173777.73</td>\n",
       "      <td>master</td>\n",
       "    </tr>\n",
       "    <tr>\n",
       "      <th>432</th>\n",
       "      <td>get_entries_for_timeseries</td>\n",
       "      <td>1739173777.72</td>\n",
       "      <td>find_entries</td>\n",
       "      <td>67a9af91936c010546d01ca5</td>\n",
       "      <td>bb6c7318-52f7-4e0f-a51b-c3f802f3b567</td>\n",
       "      <td>1739173777.72</td>\n",
       "      <td>master</td>\n",
       "    </tr>\n",
       "    <tr>\n",
       "      <th>433</th>\n",
       "      <td>get_entries_for_timeseries</td>\n",
       "      <td>1739173777.71</td>\n",
       "      <td>find_entries</td>\n",
       "      <td>67a9af91936c010546d01ca4</td>\n",
       "      <td>bb6c7318-52f7-4e0f-a51b-c3f802f3b567</td>\n",
       "      <td>1739173777.72</td>\n",
       "      <td>master</td>\n",
       "    </tr>\n",
       "    <tr>\n",
       "      <th>434</th>\n",
       "      <td>get_entries_for_timeseries</td>\n",
       "      <td>1739173777.70</td>\n",
       "      <td>find_entries</td>\n",
       "      <td>67a9af91936c010546d01ca1</td>\n",
       "      <td>bb6c7318-52f7-4e0f-a51b-c3f802f3b567</td>\n",
       "      <td>1739173777.70</td>\n",
       "      <td>master</td>\n",
       "    </tr>\n",
       "    <tr>\n",
       "      <th>435</th>\n",
       "      <td>get_entries_for_timeseries</td>\n",
       "      <td>1739173777.70</td>\n",
       "      <td>find_entries</td>\n",
       "      <td>67a9af91936c010546d01ca0</td>\n",
       "      <td>bb6c7318-52f7-4e0f-a51b-c3f802f3b567</td>\n",
       "      <td>1739173777.70</td>\n",
       "      <td>master</td>\n",
       "    </tr>\n",
       "    <tr>\n",
       "      <th>436</th>\n",
       "      <td>get_entries_for_timeseries</td>\n",
       "      <td>1739173777.69</td>\n",
       "      <td>find_entries</td>\n",
       "      <td>67a9af91936c010546d01c9d</td>\n",
       "      <td>bb6c7318-52f7-4e0f-a51b-c3f802f3b567</td>\n",
       "      <td>1739173777.69</td>\n",
       "      <td>master</td>\n",
       "    </tr>\n",
       "    <tr>\n",
       "      <th>437</th>\n",
       "      <td>get_entries_for_timeseries</td>\n",
       "      <td>1739173777.69</td>\n",
       "      <td>find_entries</td>\n",
       "      <td>67a9af91936c010546d01c9c</td>\n",
       "      <td>bb6c7318-52f7-4e0f-a51b-c3f802f3b567</td>\n",
       "      <td>1739173777.69</td>\n",
       "      <td>master</td>\n",
       "    </tr>\n",
       "    <tr>\n",
       "      <th>438</th>\n",
       "      <td>get_entries_for_timeseries</td>\n",
       "      <td>1739173777.68</td>\n",
       "      <td>find_entries</td>\n",
       "      <td>67a9af91936c010546d01c99</td>\n",
       "      <td>bb6c7318-52f7-4e0f-a51b-c3f802f3b567</td>\n",
       "      <td>1739173777.68</td>\n",
       "      <td>master</td>\n",
       "    </tr>\n",
       "    <tr>\n",
       "      <th>439</th>\n",
       "      <td>get_entries_for_timeseries</td>\n",
       "      <td>1739173777.68</td>\n",
       "      <td>find_entries</td>\n",
       "      <td>67a9af91936c010546d01c98</td>\n",
       "      <td>bb6c7318-52f7-4e0f-a51b-c3f802f3b567</td>\n",
       "      <td>1739173777.68</td>\n",
       "      <td>master</td>\n",
       "    </tr>\n",
       "    <tr>\n",
       "      <th>440</th>\n",
       "      <td>get_entries_for_timeseries</td>\n",
       "      <td>1739173777.67</td>\n",
       "      <td>find_entries</td>\n",
       "      <td>67a9af91936c010546d01c95</td>\n",
       "      <td>bb6c7318-52f7-4e0f-a51b-c3f802f3b567</td>\n",
       "      <td>1739173777.67</td>\n",
       "      <td>master</td>\n",
       "    </tr>\n",
       "    <tr>\n",
       "      <th>441</th>\n",
       "      <td>get_entries_for_timeseries</td>\n",
       "      <td>1739173777.67</td>\n",
       "      <td>find_entries</td>\n",
       "      <td>67a9af91936c010546d01c94</td>\n",
       "      <td>bb6c7318-52f7-4e0f-a51b-c3f802f3b567</td>\n",
       "      <td>1739173777.67</td>\n",
       "      <td>master</td>\n",
       "    </tr>\n",
       "    <tr>\n",
       "      <th>442</th>\n",
       "      <td>get_entries_for_timeseries</td>\n",
       "      <td>1739173777.66</td>\n",
       "      <td>find_entries</td>\n",
       "      <td>67a9af91936c010546d01c91</td>\n",
       "      <td>bb6c7318-52f7-4e0f-a51b-c3f802f3b567</td>\n",
       "      <td>1739173777.66</td>\n",
       "      <td>master</td>\n",
       "    </tr>\n",
       "    <tr>\n",
       "      <th>443</th>\n",
       "      <td>get_entries_for_timeseries</td>\n",
       "      <td>1739173777.66</td>\n",
       "      <td>find_entries</td>\n",
       "      <td>67a9af91936c010546d01c90</td>\n",
       "      <td>bb6c7318-52f7-4e0f-a51b-c3f802f3b567</td>\n",
       "      <td>1739173777.66</td>\n",
       "      <td>master</td>\n",
       "    </tr>\n",
       "    <tr>\n",
       "      <th>444</th>\n",
       "      <td>get_entries_for_timeseries</td>\n",
       "      <td>1739173777.65</td>\n",
       "      <td>find_entries</td>\n",
       "      <td>67a9af91936c010546d01c8d</td>\n",
       "      <td>bb6c7318-52f7-4e0f-a51b-c3f802f3b567</td>\n",
       "      <td>1739173777.65</td>\n",
       "      <td>master</td>\n",
       "    </tr>\n",
       "    <tr>\n",
       "      <th>445</th>\n",
       "      <td>get_entries_for_timeseries</td>\n",
       "      <td>1739173777.65</td>\n",
       "      <td>find_entries</td>\n",
       "      <td>67a9af91936c010546d01c8c</td>\n",
       "      <td>bb6c7318-52f7-4e0f-a51b-c3f802f3b567</td>\n",
       "      <td>1739173777.65</td>\n",
       "      <td>master</td>\n",
       "    </tr>\n",
       "    <tr>\n",
       "      <th>446</th>\n",
       "      <td>get_entries_for_timeseries</td>\n",
       "      <td>1739173777.64</td>\n",
       "      <td>find_entries</td>\n",
       "      <td>67a9af91936c010546d01c89</td>\n",
       "      <td>bb6c7318-52f7-4e0f-a51b-c3f802f3b567</td>\n",
       "      <td>1739173777.64</td>\n",
       "      <td>master</td>\n",
       "    </tr>\n",
       "    <tr>\n",
       "      <th>447</th>\n",
       "      <td>get_entries_for_timeseries</td>\n",
       "      <td>1739173777.63</td>\n",
       "      <td>find_entries</td>\n",
       "      <td>67a9af91936c010546d01c88</td>\n",
       "      <td>bb6c7318-52f7-4e0f-a51b-c3f802f3b567</td>\n",
       "      <td>1739173777.63</td>\n",
       "      <td>master</td>\n",
       "    </tr>\n",
       "    <tr>\n",
       "      <th>448</th>\n",
       "      <td>get_entries_for_timeseries</td>\n",
       "      <td>1739173777.62</td>\n",
       "      <td>find_entries</td>\n",
       "      <td>67a9af91936c010546d01c85</td>\n",
       "      <td>bb6c7318-52f7-4e0f-a51b-c3f802f3b567</td>\n",
       "      <td>1739173777.62</td>\n",
       "      <td>master</td>\n",
       "    </tr>\n",
       "    <tr>\n",
       "      <th>449</th>\n",
       "      <td>get_entries_for_timeseries</td>\n",
       "      <td>1739173777.62</td>\n",
       "      <td>find_entries</td>\n",
       "      <td>67a9af91936c010546d01c84</td>\n",
       "      <td>bb6c7318-52f7-4e0f-a51b-c3f802f3b567</td>\n",
       "      <td>1739173777.62</td>\n",
       "      <td>master</td>\n",
       "    </tr>\n",
       "    <tr>\n",
       "      <th>450</th>\n",
       "      <td>get_entries_for_timeseries</td>\n",
       "      <td>1739173777.61</td>\n",
       "      <td>find_entries</td>\n",
       "      <td>67a9af91936c010546d01c81</td>\n",
       "      <td>bb6c7318-52f7-4e0f-a51b-c3f802f3b567</td>\n",
       "      <td>1739173777.61</td>\n",
       "      <td>master</td>\n",
       "    </tr>\n",
       "    <tr>\n",
       "      <th>451</th>\n",
       "      <td>get_entries_for_timeseries</td>\n",
       "      <td>1739173777.61</td>\n",
       "      <td>find_entries</td>\n",
       "      <td>67a9af91936c010546d01c80</td>\n",
       "      <td>bb6c7318-52f7-4e0f-a51b-c3f802f3b567</td>\n",
       "      <td>1739173777.61</td>\n",
       "      <td>master</td>\n",
       "    </tr>\n",
       "    <tr>\n",
       "      <th>452</th>\n",
       "      <td>get_entries_for_timeseries</td>\n",
       "      <td>1739173777.60</td>\n",
       "      <td>find_entries</td>\n",
       "      <td>67a9af91936c010546d01c7d</td>\n",
       "      <td>bb6c7318-52f7-4e0f-a51b-c3f802f3b567</td>\n",
       "      <td>1739173777.60</td>\n",
       "      <td>master</td>\n",
       "    </tr>\n",
       "    <tr>\n",
       "      <th>453</th>\n",
       "      <td>get_entries_for_timeseries</td>\n",
       "      <td>1739173777.60</td>\n",
       "      <td>find_entries</td>\n",
       "      <td>67a9af91936c010546d01c7c</td>\n",
       "      <td>bb6c7318-52f7-4e0f-a51b-c3f802f3b567</td>\n",
       "      <td>1739173777.60</td>\n",
       "      <td>master</td>\n",
       "    </tr>\n",
       "    <tr>\n",
       "      <th>1207</th>\n",
       "      <td>get_entries_for_timeseries</td>\n",
       "      <td>1739173774.35</td>\n",
       "      <td>find_entries</td>\n",
       "      <td>67a9af8e936c010546d01985</td>\n",
       "      <td>bb6c7318-52f7-4e0f-a51b-c3f802f3b567</td>\n",
       "      <td>1739173774.35</td>\n",
       "      <td>master</td>\n",
       "    </tr>\n",
       "    <tr>\n",
       "      <th>1208</th>\n",
       "      <td>get_entries_for_timeseries</td>\n",
       "      <td>1739173774.35</td>\n",
       "      <td>find_entries</td>\n",
       "      <td>67a9af8e936c010546d01984</td>\n",
       "      <td>bb6c7318-52f7-4e0f-a51b-c3f802f3b567</td>\n",
       "      <td>1739173774.35</td>\n",
       "      <td>master</td>\n",
       "    </tr>\n",
       "    <tr>\n",
       "      <th>1209</th>\n",
       "      <td>get_entries_for_timeseries</td>\n",
       "      <td>1739173774.34</td>\n",
       "      <td>find_entries</td>\n",
       "      <td>67a9af8e936c010546d01983</td>\n",
       "      <td>bb6c7318-52f7-4e0f-a51b-c3f802f3b567</td>\n",
       "      <td>1739173774.34</td>\n",
       "      <td>master</td>\n",
       "    </tr>\n",
       "    <tr>\n",
       "      <th>1210</th>\n",
       "      <td>get_entries_for_timeseries</td>\n",
       "      <td>1739173774.33</td>\n",
       "      <td>find_entries</td>\n",
       "      <td>67a9af8e936c010546d01982</td>\n",
       "      <td>bb6c7318-52f7-4e0f-a51b-c3f802f3b567</td>\n",
       "      <td>1739173774.33</td>\n",
       "      <td>master</td>\n",
       "    </tr>\n",
       "    <tr>\n",
       "      <th>1212</th>\n",
       "      <td>get_entries_for_timeseries</td>\n",
       "      <td>1739173774.29</td>\n",
       "      <td>find_entries</td>\n",
       "      <td>67a9af8e936c010546d01980</td>\n",
       "      <td>bb6c7318-52f7-4e0f-a51b-c3f802f3b567</td>\n",
       "      <td>1739173774.29</td>\n",
       "      <td>master</td>\n",
       "    </tr>\n",
       "    <tr>\n",
       "      <th>1213</th>\n",
       "      <td>get_entries_for_timeseries</td>\n",
       "      <td>1739173774.29</td>\n",
       "      <td>find_entries</td>\n",
       "      <td>67a9af8e936c010546d0197f</td>\n",
       "      <td>bb6c7318-52f7-4e0f-a51b-c3f802f3b567</td>\n",
       "      <td>1739173774.29</td>\n",
       "      <td>master</td>\n",
       "    </tr>\n",
       "  </tbody>\n",
       "</table>\n",
       "</div>"
      ],
      "text/plain": [
       "                            name            ts       reading  \\\n",
       "430   get_entries_for_timeseries 1739173777.73  find_entries   \n",
       "431   get_entries_for_timeseries 1739173777.73  find_entries   \n",
       "432   get_entries_for_timeseries 1739173777.72  find_entries   \n",
       "433   get_entries_for_timeseries 1739173777.71  find_entries   \n",
       "434   get_entries_for_timeseries 1739173777.70  find_entries   \n",
       "435   get_entries_for_timeseries 1739173777.70  find_entries   \n",
       "436   get_entries_for_timeseries 1739173777.69  find_entries   \n",
       "437   get_entries_for_timeseries 1739173777.69  find_entries   \n",
       "438   get_entries_for_timeseries 1739173777.68  find_entries   \n",
       "439   get_entries_for_timeseries 1739173777.68  find_entries   \n",
       "440   get_entries_for_timeseries 1739173777.67  find_entries   \n",
       "441   get_entries_for_timeseries 1739173777.67  find_entries   \n",
       "442   get_entries_for_timeseries 1739173777.66  find_entries   \n",
       "443   get_entries_for_timeseries 1739173777.66  find_entries   \n",
       "444   get_entries_for_timeseries 1739173777.65  find_entries   \n",
       "445   get_entries_for_timeseries 1739173777.65  find_entries   \n",
       "446   get_entries_for_timeseries 1739173777.64  find_entries   \n",
       "447   get_entries_for_timeseries 1739173777.63  find_entries   \n",
       "448   get_entries_for_timeseries 1739173777.62  find_entries   \n",
       "449   get_entries_for_timeseries 1739173777.62  find_entries   \n",
       "450   get_entries_for_timeseries 1739173777.61  find_entries   \n",
       "451   get_entries_for_timeseries 1739173777.61  find_entries   \n",
       "452   get_entries_for_timeseries 1739173777.60  find_entries   \n",
       "453   get_entries_for_timeseries 1739173777.60  find_entries   \n",
       "1207  get_entries_for_timeseries 1739173774.35  find_entries   \n",
       "1208  get_entries_for_timeseries 1739173774.35  find_entries   \n",
       "1209  get_entries_for_timeseries 1739173774.34  find_entries   \n",
       "1210  get_entries_for_timeseries 1739173774.33  find_entries   \n",
       "1212  get_entries_for_timeseries 1739173774.29  find_entries   \n",
       "1213  get_entries_for_timeseries 1739173774.29  find_entries   \n",
       "\n",
       "                           _id                               user_id  \\\n",
       "430   67a9af91936c010546d01ca9  bb6c7318-52f7-4e0f-a51b-c3f802f3b567   \n",
       "431   67a9af91936c010546d01ca8  bb6c7318-52f7-4e0f-a51b-c3f802f3b567   \n",
       "432   67a9af91936c010546d01ca5  bb6c7318-52f7-4e0f-a51b-c3f802f3b567   \n",
       "433   67a9af91936c010546d01ca4  bb6c7318-52f7-4e0f-a51b-c3f802f3b567   \n",
       "434   67a9af91936c010546d01ca1  bb6c7318-52f7-4e0f-a51b-c3f802f3b567   \n",
       "435   67a9af91936c010546d01ca0  bb6c7318-52f7-4e0f-a51b-c3f802f3b567   \n",
       "436   67a9af91936c010546d01c9d  bb6c7318-52f7-4e0f-a51b-c3f802f3b567   \n",
       "437   67a9af91936c010546d01c9c  bb6c7318-52f7-4e0f-a51b-c3f802f3b567   \n",
       "438   67a9af91936c010546d01c99  bb6c7318-52f7-4e0f-a51b-c3f802f3b567   \n",
       "439   67a9af91936c010546d01c98  bb6c7318-52f7-4e0f-a51b-c3f802f3b567   \n",
       "440   67a9af91936c010546d01c95  bb6c7318-52f7-4e0f-a51b-c3f802f3b567   \n",
       "441   67a9af91936c010546d01c94  bb6c7318-52f7-4e0f-a51b-c3f802f3b567   \n",
       "442   67a9af91936c010546d01c91  bb6c7318-52f7-4e0f-a51b-c3f802f3b567   \n",
       "443   67a9af91936c010546d01c90  bb6c7318-52f7-4e0f-a51b-c3f802f3b567   \n",
       "444   67a9af91936c010546d01c8d  bb6c7318-52f7-4e0f-a51b-c3f802f3b567   \n",
       "445   67a9af91936c010546d01c8c  bb6c7318-52f7-4e0f-a51b-c3f802f3b567   \n",
       "446   67a9af91936c010546d01c89  bb6c7318-52f7-4e0f-a51b-c3f802f3b567   \n",
       "447   67a9af91936c010546d01c88  bb6c7318-52f7-4e0f-a51b-c3f802f3b567   \n",
       "448   67a9af91936c010546d01c85  bb6c7318-52f7-4e0f-a51b-c3f802f3b567   \n",
       "449   67a9af91936c010546d01c84  bb6c7318-52f7-4e0f-a51b-c3f802f3b567   \n",
       "450   67a9af91936c010546d01c81  bb6c7318-52f7-4e0f-a51b-c3f802f3b567   \n",
       "451   67a9af91936c010546d01c80  bb6c7318-52f7-4e0f-a51b-c3f802f3b567   \n",
       "452   67a9af91936c010546d01c7d  bb6c7318-52f7-4e0f-a51b-c3f802f3b567   \n",
       "453   67a9af91936c010546d01c7c  bb6c7318-52f7-4e0f-a51b-c3f802f3b567   \n",
       "1207  67a9af8e936c010546d01985  bb6c7318-52f7-4e0f-a51b-c3f802f3b567   \n",
       "1208  67a9af8e936c010546d01984  bb6c7318-52f7-4e0f-a51b-c3f802f3b567   \n",
       "1209  67a9af8e936c010546d01983  bb6c7318-52f7-4e0f-a51b-c3f802f3b567   \n",
       "1210  67a9af8e936c010546d01982  bb6c7318-52f7-4e0f-a51b-c3f802f3b567   \n",
       "1212  67a9af8e936c010546d01980  bb6c7318-52f7-4e0f-a51b-c3f802f3b567   \n",
       "1213  67a9af8e936c010546d0197f  bb6c7318-52f7-4e0f-a51b-c3f802f3b567   \n",
       "\n",
       "      metadata_write_ts  branch  \n",
       "430       1739173777.73  master  \n",
       "431       1739173777.73  master  \n",
       "432       1739173777.72  master  \n",
       "433       1739173777.72  master  \n",
       "434       1739173777.70  master  \n",
       "435       1739173777.70  master  \n",
       "436       1739173777.69  master  \n",
       "437       1739173777.69  master  \n",
       "438       1739173777.68  master  \n",
       "439       1739173777.68  master  \n",
       "440       1739173777.67  master  \n",
       "441       1739173777.67  master  \n",
       "442       1739173777.66  master  \n",
       "443       1739173777.66  master  \n",
       "444       1739173777.65  master  \n",
       "445       1739173777.65  master  \n",
       "446       1739173777.64  master  \n",
       "447       1739173777.63  master  \n",
       "448       1739173777.62  master  \n",
       "449       1739173777.62  master  \n",
       "450       1739173777.61  master  \n",
       "451       1739173777.61  master  \n",
       "452       1739173777.60  master  \n",
       "453       1739173777.60  master  \n",
       "1207      1739173774.35  master  \n",
       "1208      1739173774.35  master  \n",
       "1209      1739173774.34  master  \n",
       "1210      1739173774.33  master  \n",
       "1212      1739173774.29  master  \n",
       "1213      1739173774.29  master  "
      ]
     },
     "metadata": {},
     "output_type": "display_data"
    },
    {
     "name": "stdout",
     "output_type": "stream",
     "text": [
      "fe6035ab43fa539235ad8bff982b1db5af615c3f\n"
     ]
    },
    {
     "data": {
      "text/html": [
       "<div>\n",
       "<style scoped>\n",
       "    .dataframe tbody tr th:only-of-type {\n",
       "        vertical-align: middle;\n",
       "    }\n",
       "\n",
       "    .dataframe tbody tr th {\n",
       "        vertical-align: top;\n",
       "    }\n",
       "\n",
       "    .dataframe thead th {\n",
       "        text-align: right;\n",
       "    }\n",
       "</style>\n",
       "<table border=\"1\" class=\"dataframe\">\n",
       "  <thead>\n",
       "    <tr style=\"text-align: right;\">\n",
       "      <th></th>\n",
       "      <th>name</th>\n",
       "      <th>ts</th>\n",
       "      <th>reading</th>\n",
       "      <th>_id</th>\n",
       "      <th>user_id</th>\n",
       "      <th>metadata_write_ts</th>\n",
       "      <th>branch</th>\n",
       "    </tr>\n",
       "  </thead>\n",
       "  <tbody>\n",
       "    <tr>\n",
       "      <th>430</th>\n",
       "      <td>get_entries_for_timeseries</td>\n",
       "      <td>1739173790.83</td>\n",
       "      <td>find_entries</td>\n",
       "      <td>67a9af9ecfa05a741ce6a66c</td>\n",
       "      <td>bb6c7318-52f7-4e0f-a51b-c3f802f3b567</td>\n",
       "      <td>1739173790.83</td>\n",
       "      <td>vectorized_segmentation (draft 1)</td>\n",
       "    </tr>\n",
       "    <tr>\n",
       "      <th>431</th>\n",
       "      <td>get_entries_for_timeseries</td>\n",
       "      <td>1739173790.83</td>\n",
       "      <td>find_entries</td>\n",
       "      <td>67a9af9ecfa05a741ce6a66b</td>\n",
       "      <td>bb6c7318-52f7-4e0f-a51b-c3f802f3b567</td>\n",
       "      <td>1739173790.83</td>\n",
       "      <td>vectorized_segmentation (draft 1)</td>\n",
       "    </tr>\n",
       "    <tr>\n",
       "      <th>432</th>\n",
       "      <td>get_entries_for_timeseries</td>\n",
       "      <td>1739173790.82</td>\n",
       "      <td>find_entries</td>\n",
       "      <td>67a9af9ecfa05a741ce6a668</td>\n",
       "      <td>bb6c7318-52f7-4e0f-a51b-c3f802f3b567</td>\n",
       "      <td>1739173790.82</td>\n",
       "      <td>vectorized_segmentation (draft 1)</td>\n",
       "    </tr>\n",
       "    <tr>\n",
       "      <th>433</th>\n",
       "      <td>get_entries_for_timeseries</td>\n",
       "      <td>1739173790.82</td>\n",
       "      <td>find_entries</td>\n",
       "      <td>67a9af9ecfa05a741ce6a667</td>\n",
       "      <td>bb6c7318-52f7-4e0f-a51b-c3f802f3b567</td>\n",
       "      <td>1739173790.82</td>\n",
       "      <td>vectorized_segmentation (draft 1)</td>\n",
       "    </tr>\n",
       "    <tr>\n",
       "      <th>434</th>\n",
       "      <td>get_entries_for_timeseries</td>\n",
       "      <td>1739173790.80</td>\n",
       "      <td>find_entries</td>\n",
       "      <td>67a9af9ecfa05a741ce6a664</td>\n",
       "      <td>bb6c7318-52f7-4e0f-a51b-c3f802f3b567</td>\n",
       "      <td>1739173790.80</td>\n",
       "      <td>vectorized_segmentation (draft 1)</td>\n",
       "    </tr>\n",
       "    <tr>\n",
       "      <th>435</th>\n",
       "      <td>get_entries_for_timeseries</td>\n",
       "      <td>1739173790.80</td>\n",
       "      <td>find_entries</td>\n",
       "      <td>67a9af9ecfa05a741ce6a663</td>\n",
       "      <td>bb6c7318-52f7-4e0f-a51b-c3f802f3b567</td>\n",
       "      <td>1739173790.80</td>\n",
       "      <td>vectorized_segmentation (draft 1)</td>\n",
       "    </tr>\n",
       "    <tr>\n",
       "      <th>436</th>\n",
       "      <td>get_entries_for_timeseries</td>\n",
       "      <td>1739173790.79</td>\n",
       "      <td>find_entries</td>\n",
       "      <td>67a9af9ecfa05a741ce6a660</td>\n",
       "      <td>bb6c7318-52f7-4e0f-a51b-c3f802f3b567</td>\n",
       "      <td>1739173790.79</td>\n",
       "      <td>vectorized_segmentation (draft 1)</td>\n",
       "    </tr>\n",
       "    <tr>\n",
       "      <th>437</th>\n",
       "      <td>get_entries_for_timeseries</td>\n",
       "      <td>1739173790.79</td>\n",
       "      <td>find_entries</td>\n",
       "      <td>67a9af9ecfa05a741ce6a65f</td>\n",
       "      <td>bb6c7318-52f7-4e0f-a51b-c3f802f3b567</td>\n",
       "      <td>1739173790.79</td>\n",
       "      <td>vectorized_segmentation (draft 1)</td>\n",
       "    </tr>\n",
       "    <tr>\n",
       "      <th>438</th>\n",
       "      <td>get_entries_for_timeseries</td>\n",
       "      <td>1739173790.77</td>\n",
       "      <td>find_entries</td>\n",
       "      <td>67a9af9ecfa05a741ce6a65c</td>\n",
       "      <td>bb6c7318-52f7-4e0f-a51b-c3f802f3b567</td>\n",
       "      <td>1739173790.77</td>\n",
       "      <td>vectorized_segmentation (draft 1)</td>\n",
       "    </tr>\n",
       "    <tr>\n",
       "      <th>439</th>\n",
       "      <td>get_entries_for_timeseries</td>\n",
       "      <td>1739173790.77</td>\n",
       "      <td>find_entries</td>\n",
       "      <td>67a9af9ecfa05a741ce6a65b</td>\n",
       "      <td>bb6c7318-52f7-4e0f-a51b-c3f802f3b567</td>\n",
       "      <td>1739173790.77</td>\n",
       "      <td>vectorized_segmentation (draft 1)</td>\n",
       "    </tr>\n",
       "    <tr>\n",
       "      <th>440</th>\n",
       "      <td>get_entries_for_timeseries</td>\n",
       "      <td>1739173790.76</td>\n",
       "      <td>find_entries</td>\n",
       "      <td>67a9af9ecfa05a741ce6a658</td>\n",
       "      <td>bb6c7318-52f7-4e0f-a51b-c3f802f3b567</td>\n",
       "      <td>1739173790.76</td>\n",
       "      <td>vectorized_segmentation (draft 1)</td>\n",
       "    </tr>\n",
       "    <tr>\n",
       "      <th>441</th>\n",
       "      <td>get_entries_for_timeseries</td>\n",
       "      <td>1739173790.76</td>\n",
       "      <td>find_entries</td>\n",
       "      <td>67a9af9ecfa05a741ce6a657</td>\n",
       "      <td>bb6c7318-52f7-4e0f-a51b-c3f802f3b567</td>\n",
       "      <td>1739173790.76</td>\n",
       "      <td>vectorized_segmentation (draft 1)</td>\n",
       "    </tr>\n",
       "    <tr>\n",
       "      <th>442</th>\n",
       "      <td>get_entries_for_timeseries</td>\n",
       "      <td>1739173790.75</td>\n",
       "      <td>find_entries</td>\n",
       "      <td>67a9af9ecfa05a741ce6a654</td>\n",
       "      <td>bb6c7318-52f7-4e0f-a51b-c3f802f3b567</td>\n",
       "      <td>1739173790.75</td>\n",
       "      <td>vectorized_segmentation (draft 1)</td>\n",
       "    </tr>\n",
       "    <tr>\n",
       "      <th>443</th>\n",
       "      <td>get_entries_for_timeseries</td>\n",
       "      <td>1739173790.74</td>\n",
       "      <td>find_entries</td>\n",
       "      <td>67a9af9ecfa05a741ce6a653</td>\n",
       "      <td>bb6c7318-52f7-4e0f-a51b-c3f802f3b567</td>\n",
       "      <td>1739173790.74</td>\n",
       "      <td>vectorized_segmentation (draft 1)</td>\n",
       "    </tr>\n",
       "    <tr>\n",
       "      <th>444</th>\n",
       "      <td>get_entries_for_timeseries</td>\n",
       "      <td>1739173790.73</td>\n",
       "      <td>find_entries</td>\n",
       "      <td>67a9af9ecfa05a741ce6a650</td>\n",
       "      <td>bb6c7318-52f7-4e0f-a51b-c3f802f3b567</td>\n",
       "      <td>1739173790.73</td>\n",
       "      <td>vectorized_segmentation (draft 1)</td>\n",
       "    </tr>\n",
       "    <tr>\n",
       "      <th>445</th>\n",
       "      <td>get_entries_for_timeseries</td>\n",
       "      <td>1739173790.73</td>\n",
       "      <td>find_entries</td>\n",
       "      <td>67a9af9ecfa05a741ce6a64f</td>\n",
       "      <td>bb6c7318-52f7-4e0f-a51b-c3f802f3b567</td>\n",
       "      <td>1739173790.73</td>\n",
       "      <td>vectorized_segmentation (draft 1)</td>\n",
       "    </tr>\n",
       "    <tr>\n",
       "      <th>446</th>\n",
       "      <td>get_entries_for_timeseries</td>\n",
       "      <td>1739173790.72</td>\n",
       "      <td>find_entries</td>\n",
       "      <td>67a9af9ecfa05a741ce6a64c</td>\n",
       "      <td>bb6c7318-52f7-4e0f-a51b-c3f802f3b567</td>\n",
       "      <td>1739173790.72</td>\n",
       "      <td>vectorized_segmentation (draft 1)</td>\n",
       "    </tr>\n",
       "    <tr>\n",
       "      <th>447</th>\n",
       "      <td>get_entries_for_timeseries</td>\n",
       "      <td>1739173790.71</td>\n",
       "      <td>find_entries</td>\n",
       "      <td>67a9af9ecfa05a741ce6a64b</td>\n",
       "      <td>bb6c7318-52f7-4e0f-a51b-c3f802f3b567</td>\n",
       "      <td>1739173790.71</td>\n",
       "      <td>vectorized_segmentation (draft 1)</td>\n",
       "    </tr>\n",
       "    <tr>\n",
       "      <th>448</th>\n",
       "      <td>get_entries_for_timeseries</td>\n",
       "      <td>1739173790.70</td>\n",
       "      <td>find_entries</td>\n",
       "      <td>67a9af9ecfa05a741ce6a648</td>\n",
       "      <td>bb6c7318-52f7-4e0f-a51b-c3f802f3b567</td>\n",
       "      <td>1739173790.70</td>\n",
       "      <td>vectorized_segmentation (draft 1)</td>\n",
       "    </tr>\n",
       "    <tr>\n",
       "      <th>449</th>\n",
       "      <td>get_entries_for_timeseries</td>\n",
       "      <td>1739173790.70</td>\n",
       "      <td>find_entries</td>\n",
       "      <td>67a9af9ecfa05a741ce6a647</td>\n",
       "      <td>bb6c7318-52f7-4e0f-a51b-c3f802f3b567</td>\n",
       "      <td>1739173790.70</td>\n",
       "      <td>vectorized_segmentation (draft 1)</td>\n",
       "    </tr>\n",
       "    <tr>\n",
       "      <th>450</th>\n",
       "      <td>get_entries_for_timeseries</td>\n",
       "      <td>1739173790.69</td>\n",
       "      <td>find_entries</td>\n",
       "      <td>67a9af9ecfa05a741ce6a644</td>\n",
       "      <td>bb6c7318-52f7-4e0f-a51b-c3f802f3b567</td>\n",
       "      <td>1739173790.69</td>\n",
       "      <td>vectorized_segmentation (draft 1)</td>\n",
       "    </tr>\n",
       "    <tr>\n",
       "      <th>451</th>\n",
       "      <td>get_entries_for_timeseries</td>\n",
       "      <td>1739173790.68</td>\n",
       "      <td>find_entries</td>\n",
       "      <td>67a9af9ecfa05a741ce6a643</td>\n",
       "      <td>bb6c7318-52f7-4e0f-a51b-c3f802f3b567</td>\n",
       "      <td>1739173790.68</td>\n",
       "      <td>vectorized_segmentation (draft 1)</td>\n",
       "    </tr>\n",
       "    <tr>\n",
       "      <th>452</th>\n",
       "      <td>get_entries_for_timeseries</td>\n",
       "      <td>1739173790.67</td>\n",
       "      <td>find_entries</td>\n",
       "      <td>67a9af9ecfa05a741ce6a640</td>\n",
       "      <td>bb6c7318-52f7-4e0f-a51b-c3f802f3b567</td>\n",
       "      <td>1739173790.67</td>\n",
       "      <td>vectorized_segmentation (draft 1)</td>\n",
       "    </tr>\n",
       "    <tr>\n",
       "      <th>453</th>\n",
       "      <td>get_entries_for_timeseries</td>\n",
       "      <td>1739173790.67</td>\n",
       "      <td>find_entries</td>\n",
       "      <td>67a9af9ecfa05a741ce6a63f</td>\n",
       "      <td>bb6c7318-52f7-4e0f-a51b-c3f802f3b567</td>\n",
       "      <td>1739173790.67</td>\n",
       "      <td>vectorized_segmentation (draft 1)</td>\n",
       "    </tr>\n",
       "    <tr>\n",
       "      <th>456</th>\n",
       "      <td>get_entries_for_timeseries</td>\n",
       "      <td>1739173790.07</td>\n",
       "      <td>find_entries</td>\n",
       "      <td>67a9af9ecfa05a741ce6a637</td>\n",
       "      <td>bb6c7318-52f7-4e0f-a51b-c3f802f3b567</td>\n",
       "      <td>1739173790.07</td>\n",
       "      <td>vectorized_segmentation (draft 1)</td>\n",
       "    </tr>\n",
       "    <tr>\n",
       "      <th>457</th>\n",
       "      <td>get_entries_for_timeseries</td>\n",
       "      <td>1739173790.07</td>\n",
       "      <td>find_entries</td>\n",
       "      <td>67a9af9ecfa05a741ce6a636</td>\n",
       "      <td>bb6c7318-52f7-4e0f-a51b-c3f802f3b567</td>\n",
       "      <td>1739173790.07</td>\n",
       "      <td>vectorized_segmentation (draft 1)</td>\n",
       "    </tr>\n",
       "    <tr>\n",
       "      <th>458</th>\n",
       "      <td>get_entries_for_timeseries</td>\n",
       "      <td>1739173790.06</td>\n",
       "      <td>find_entries</td>\n",
       "      <td>67a9af9ecfa05a741ce6a635</td>\n",
       "      <td>bb6c7318-52f7-4e0f-a51b-c3f802f3b567</td>\n",
       "      <td>1739173790.06</td>\n",
       "      <td>vectorized_segmentation (draft 1)</td>\n",
       "    </tr>\n",
       "    <tr>\n",
       "      <th>459</th>\n",
       "      <td>get_entries_for_timeseries</td>\n",
       "      <td>1739173790.06</td>\n",
       "      <td>find_entries</td>\n",
       "      <td>67a9af9ecfa05a741ce6a634</td>\n",
       "      <td>bb6c7318-52f7-4e0f-a51b-c3f802f3b567</td>\n",
       "      <td>1739173790.06</td>\n",
       "      <td>vectorized_segmentation (draft 1)</td>\n",
       "    </tr>\n",
       "    <tr>\n",
       "      <th>461</th>\n",
       "      <td>get_entries_for_timeseries</td>\n",
       "      <td>1739173790.01</td>\n",
       "      <td>find_entries</td>\n",
       "      <td>67a9af9ecfa05a741ce6a632</td>\n",
       "      <td>bb6c7318-52f7-4e0f-a51b-c3f802f3b567</td>\n",
       "      <td>1739173790.01</td>\n",
       "      <td>vectorized_segmentation (draft 1)</td>\n",
       "    </tr>\n",
       "    <tr>\n",
       "      <th>462</th>\n",
       "      <td>get_entries_for_timeseries</td>\n",
       "      <td>1739173790.01</td>\n",
       "      <td>find_entries</td>\n",
       "      <td>67a9af9ecfa05a741ce6a631</td>\n",
       "      <td>bb6c7318-52f7-4e0f-a51b-c3f802f3b567</td>\n",
       "      <td>1739173790.01</td>\n",
       "      <td>vectorized_segmentation (draft 1)</td>\n",
       "    </tr>\n",
       "  </tbody>\n",
       "</table>\n",
       "</div>"
      ],
      "text/plain": [
       "                           name            ts       reading  \\\n",
       "430  get_entries_for_timeseries 1739173790.83  find_entries   \n",
       "431  get_entries_for_timeseries 1739173790.83  find_entries   \n",
       "432  get_entries_for_timeseries 1739173790.82  find_entries   \n",
       "433  get_entries_for_timeseries 1739173790.82  find_entries   \n",
       "434  get_entries_for_timeseries 1739173790.80  find_entries   \n",
       "435  get_entries_for_timeseries 1739173790.80  find_entries   \n",
       "436  get_entries_for_timeseries 1739173790.79  find_entries   \n",
       "437  get_entries_for_timeseries 1739173790.79  find_entries   \n",
       "438  get_entries_for_timeseries 1739173790.77  find_entries   \n",
       "439  get_entries_for_timeseries 1739173790.77  find_entries   \n",
       "440  get_entries_for_timeseries 1739173790.76  find_entries   \n",
       "441  get_entries_for_timeseries 1739173790.76  find_entries   \n",
       "442  get_entries_for_timeseries 1739173790.75  find_entries   \n",
       "443  get_entries_for_timeseries 1739173790.74  find_entries   \n",
       "444  get_entries_for_timeseries 1739173790.73  find_entries   \n",
       "445  get_entries_for_timeseries 1739173790.73  find_entries   \n",
       "446  get_entries_for_timeseries 1739173790.72  find_entries   \n",
       "447  get_entries_for_timeseries 1739173790.71  find_entries   \n",
       "448  get_entries_for_timeseries 1739173790.70  find_entries   \n",
       "449  get_entries_for_timeseries 1739173790.70  find_entries   \n",
       "450  get_entries_for_timeseries 1739173790.69  find_entries   \n",
       "451  get_entries_for_timeseries 1739173790.68  find_entries   \n",
       "452  get_entries_for_timeseries 1739173790.67  find_entries   \n",
       "453  get_entries_for_timeseries 1739173790.67  find_entries   \n",
       "456  get_entries_for_timeseries 1739173790.07  find_entries   \n",
       "457  get_entries_for_timeseries 1739173790.07  find_entries   \n",
       "458  get_entries_for_timeseries 1739173790.06  find_entries   \n",
       "459  get_entries_for_timeseries 1739173790.06  find_entries   \n",
       "461  get_entries_for_timeseries 1739173790.01  find_entries   \n",
       "462  get_entries_for_timeseries 1739173790.01  find_entries   \n",
       "\n",
       "                          _id                               user_id  \\\n",
       "430  67a9af9ecfa05a741ce6a66c  bb6c7318-52f7-4e0f-a51b-c3f802f3b567   \n",
       "431  67a9af9ecfa05a741ce6a66b  bb6c7318-52f7-4e0f-a51b-c3f802f3b567   \n",
       "432  67a9af9ecfa05a741ce6a668  bb6c7318-52f7-4e0f-a51b-c3f802f3b567   \n",
       "433  67a9af9ecfa05a741ce6a667  bb6c7318-52f7-4e0f-a51b-c3f802f3b567   \n",
       "434  67a9af9ecfa05a741ce6a664  bb6c7318-52f7-4e0f-a51b-c3f802f3b567   \n",
       "435  67a9af9ecfa05a741ce6a663  bb6c7318-52f7-4e0f-a51b-c3f802f3b567   \n",
       "436  67a9af9ecfa05a741ce6a660  bb6c7318-52f7-4e0f-a51b-c3f802f3b567   \n",
       "437  67a9af9ecfa05a741ce6a65f  bb6c7318-52f7-4e0f-a51b-c3f802f3b567   \n",
       "438  67a9af9ecfa05a741ce6a65c  bb6c7318-52f7-4e0f-a51b-c3f802f3b567   \n",
       "439  67a9af9ecfa05a741ce6a65b  bb6c7318-52f7-4e0f-a51b-c3f802f3b567   \n",
       "440  67a9af9ecfa05a741ce6a658  bb6c7318-52f7-4e0f-a51b-c3f802f3b567   \n",
       "441  67a9af9ecfa05a741ce6a657  bb6c7318-52f7-4e0f-a51b-c3f802f3b567   \n",
       "442  67a9af9ecfa05a741ce6a654  bb6c7318-52f7-4e0f-a51b-c3f802f3b567   \n",
       "443  67a9af9ecfa05a741ce6a653  bb6c7318-52f7-4e0f-a51b-c3f802f3b567   \n",
       "444  67a9af9ecfa05a741ce6a650  bb6c7318-52f7-4e0f-a51b-c3f802f3b567   \n",
       "445  67a9af9ecfa05a741ce6a64f  bb6c7318-52f7-4e0f-a51b-c3f802f3b567   \n",
       "446  67a9af9ecfa05a741ce6a64c  bb6c7318-52f7-4e0f-a51b-c3f802f3b567   \n",
       "447  67a9af9ecfa05a741ce6a64b  bb6c7318-52f7-4e0f-a51b-c3f802f3b567   \n",
       "448  67a9af9ecfa05a741ce6a648  bb6c7318-52f7-4e0f-a51b-c3f802f3b567   \n",
       "449  67a9af9ecfa05a741ce6a647  bb6c7318-52f7-4e0f-a51b-c3f802f3b567   \n",
       "450  67a9af9ecfa05a741ce6a644  bb6c7318-52f7-4e0f-a51b-c3f802f3b567   \n",
       "451  67a9af9ecfa05a741ce6a643  bb6c7318-52f7-4e0f-a51b-c3f802f3b567   \n",
       "452  67a9af9ecfa05a741ce6a640  bb6c7318-52f7-4e0f-a51b-c3f802f3b567   \n",
       "453  67a9af9ecfa05a741ce6a63f  bb6c7318-52f7-4e0f-a51b-c3f802f3b567   \n",
       "456  67a9af9ecfa05a741ce6a637  bb6c7318-52f7-4e0f-a51b-c3f802f3b567   \n",
       "457  67a9af9ecfa05a741ce6a636  bb6c7318-52f7-4e0f-a51b-c3f802f3b567   \n",
       "458  67a9af9ecfa05a741ce6a635  bb6c7318-52f7-4e0f-a51b-c3f802f3b567   \n",
       "459  67a9af9ecfa05a741ce6a634  bb6c7318-52f7-4e0f-a51b-c3f802f3b567   \n",
       "461  67a9af9ecfa05a741ce6a632  bb6c7318-52f7-4e0f-a51b-c3f802f3b567   \n",
       "462  67a9af9ecfa05a741ce6a631  bb6c7318-52f7-4e0f-a51b-c3f802f3b567   \n",
       "\n",
       "     metadata_write_ts                             branch  \n",
       "430      1739173790.83  vectorized_segmentation (draft 1)  \n",
       "431      1739173790.83  vectorized_segmentation (draft 1)  \n",
       "432      1739173790.82  vectorized_segmentation (draft 1)  \n",
       "433      1739173790.82  vectorized_segmentation (draft 1)  \n",
       "434      1739173790.80  vectorized_segmentation (draft 1)  \n",
       "435      1739173790.80  vectorized_segmentation (draft 1)  \n",
       "436      1739173790.79  vectorized_segmentation (draft 1)  \n",
       "437      1739173790.79  vectorized_segmentation (draft 1)  \n",
       "438      1739173790.77  vectorized_segmentation (draft 1)  \n",
       "439      1739173790.77  vectorized_segmentation (draft 1)  \n",
       "440      1739173790.76  vectorized_segmentation (draft 1)  \n",
       "441      1739173790.76  vectorized_segmentation (draft 1)  \n",
       "442      1739173790.75  vectorized_segmentation (draft 1)  \n",
       "443      1739173790.74  vectorized_segmentation (draft 1)  \n",
       "444      1739173790.73  vectorized_segmentation (draft 1)  \n",
       "445      1739173790.73  vectorized_segmentation (draft 1)  \n",
       "446      1739173790.72  vectorized_segmentation (draft 1)  \n",
       "447      1739173790.71  vectorized_segmentation (draft 1)  \n",
       "448      1739173790.70  vectorized_segmentation (draft 1)  \n",
       "449      1739173790.70  vectorized_segmentation (draft 1)  \n",
       "450      1739173790.69  vectorized_segmentation (draft 1)  \n",
       "451      1739173790.68  vectorized_segmentation (draft 1)  \n",
       "452      1739173790.67  vectorized_segmentation (draft 1)  \n",
       "453      1739173790.67  vectorized_segmentation (draft 1)  \n",
       "456      1739173790.07  vectorized_segmentation (draft 1)  \n",
       "457      1739173790.07  vectorized_segmentation (draft 1)  \n",
       "458      1739173790.06  vectorized_segmentation (draft 1)  \n",
       "459      1739173790.06  vectorized_segmentation (draft 1)  \n",
       "461      1739173790.01  vectorized_segmentation (draft 1)  \n",
       "462      1739173790.01  vectorized_segmentation (draft 1)  "
      ]
     },
     "metadata": {},
     "output_type": "display_data"
    },
    {
     "name": "stdout",
     "output_type": "stream",
     "text": [
      "vectorized_segmentation\n"
     ]
    },
    {
     "data": {
      "text/html": [
       "<div>\n",
       "<style scoped>\n",
       "    .dataframe tbody tr th:only-of-type {\n",
       "        vertical-align: middle;\n",
       "    }\n",
       "\n",
       "    .dataframe tbody tr th {\n",
       "        vertical-align: top;\n",
       "    }\n",
       "\n",
       "    .dataframe thead th {\n",
       "        text-align: right;\n",
       "    }\n",
       "</style>\n",
       "<table border=\"1\" class=\"dataframe\">\n",
       "  <thead>\n",
       "    <tr style=\"text-align: right;\">\n",
       "      <th></th>\n",
       "      <th>name</th>\n",
       "      <th>ts</th>\n",
       "      <th>reading</th>\n",
       "      <th>_id</th>\n",
       "      <th>user_id</th>\n",
       "      <th>metadata_write_ts</th>\n",
       "      <th>branch</th>\n",
       "    </tr>\n",
       "  </thead>\n",
       "  <tbody>\n",
       "    <tr>\n",
       "      <th>430</th>\n",
       "      <td>get_entries_for_timeseries</td>\n",
       "      <td>1739173803.46</td>\n",
       "      <td>find_entries</td>\n",
       "      <td>67a9afab86a8515481eeb1ed</td>\n",
       "      <td>bb6c7318-52f7-4e0f-a51b-c3f802f3b567</td>\n",
       "      <td>1739173803.46</td>\n",
       "      <td>vectorized_segmentation (current)</td>\n",
       "    </tr>\n",
       "    <tr>\n",
       "      <th>431</th>\n",
       "      <td>get_entries_for_timeseries</td>\n",
       "      <td>1739173803.46</td>\n",
       "      <td>find_entries</td>\n",
       "      <td>67a9afab86a8515481eeb1ec</td>\n",
       "      <td>bb6c7318-52f7-4e0f-a51b-c3f802f3b567</td>\n",
       "      <td>1739173803.46</td>\n",
       "      <td>vectorized_segmentation (current)</td>\n",
       "    </tr>\n",
       "    <tr>\n",
       "      <th>432</th>\n",
       "      <td>get_entries_for_timeseries</td>\n",
       "      <td>1739173803.45</td>\n",
       "      <td>find_entries</td>\n",
       "      <td>67a9afab86a8515481eeb1e9</td>\n",
       "      <td>bb6c7318-52f7-4e0f-a51b-c3f802f3b567</td>\n",
       "      <td>1739173803.45</td>\n",
       "      <td>vectorized_segmentation (current)</td>\n",
       "    </tr>\n",
       "    <tr>\n",
       "      <th>433</th>\n",
       "      <td>get_entries_for_timeseries</td>\n",
       "      <td>1739173803.45</td>\n",
       "      <td>find_entries</td>\n",
       "      <td>67a9afab86a8515481eeb1e8</td>\n",
       "      <td>bb6c7318-52f7-4e0f-a51b-c3f802f3b567</td>\n",
       "      <td>1739173803.45</td>\n",
       "      <td>vectorized_segmentation (current)</td>\n",
       "    </tr>\n",
       "    <tr>\n",
       "      <th>434</th>\n",
       "      <td>get_entries_for_timeseries</td>\n",
       "      <td>1739173803.44</td>\n",
       "      <td>find_entries</td>\n",
       "      <td>67a9afab86a8515481eeb1e5</td>\n",
       "      <td>bb6c7318-52f7-4e0f-a51b-c3f802f3b567</td>\n",
       "      <td>1739173803.44</td>\n",
       "      <td>vectorized_segmentation (current)</td>\n",
       "    </tr>\n",
       "    <tr>\n",
       "      <th>435</th>\n",
       "      <td>get_entries_for_timeseries</td>\n",
       "      <td>1739173803.43</td>\n",
       "      <td>find_entries</td>\n",
       "      <td>67a9afab86a8515481eeb1e4</td>\n",
       "      <td>bb6c7318-52f7-4e0f-a51b-c3f802f3b567</td>\n",
       "      <td>1739173803.43</td>\n",
       "      <td>vectorized_segmentation (current)</td>\n",
       "    </tr>\n",
       "    <tr>\n",
       "      <th>436</th>\n",
       "      <td>get_entries_for_timeseries</td>\n",
       "      <td>1739173803.43</td>\n",
       "      <td>find_entries</td>\n",
       "      <td>67a9afab86a8515481eeb1e1</td>\n",
       "      <td>bb6c7318-52f7-4e0f-a51b-c3f802f3b567</td>\n",
       "      <td>1739173803.43</td>\n",
       "      <td>vectorized_segmentation (current)</td>\n",
       "    </tr>\n",
       "    <tr>\n",
       "      <th>437</th>\n",
       "      <td>get_entries_for_timeseries</td>\n",
       "      <td>1739173803.42</td>\n",
       "      <td>find_entries</td>\n",
       "      <td>67a9afab86a8515481eeb1e0</td>\n",
       "      <td>bb6c7318-52f7-4e0f-a51b-c3f802f3b567</td>\n",
       "      <td>1739173803.42</td>\n",
       "      <td>vectorized_segmentation (current)</td>\n",
       "    </tr>\n",
       "    <tr>\n",
       "      <th>438</th>\n",
       "      <td>get_entries_for_timeseries</td>\n",
       "      <td>1739173803.41</td>\n",
       "      <td>find_entries</td>\n",
       "      <td>67a9afab86a8515481eeb1dd</td>\n",
       "      <td>bb6c7318-52f7-4e0f-a51b-c3f802f3b567</td>\n",
       "      <td>1739173803.41</td>\n",
       "      <td>vectorized_segmentation (current)</td>\n",
       "    </tr>\n",
       "    <tr>\n",
       "      <th>439</th>\n",
       "      <td>get_entries_for_timeseries</td>\n",
       "      <td>1739173803.41</td>\n",
       "      <td>find_entries</td>\n",
       "      <td>67a9afab86a8515481eeb1dc</td>\n",
       "      <td>bb6c7318-52f7-4e0f-a51b-c3f802f3b567</td>\n",
       "      <td>1739173803.41</td>\n",
       "      <td>vectorized_segmentation (current)</td>\n",
       "    </tr>\n",
       "    <tr>\n",
       "      <th>440</th>\n",
       "      <td>get_entries_for_timeseries</td>\n",
       "      <td>1739173803.40</td>\n",
       "      <td>find_entries</td>\n",
       "      <td>67a9afab86a8515481eeb1d9</td>\n",
       "      <td>bb6c7318-52f7-4e0f-a51b-c3f802f3b567</td>\n",
       "      <td>1739173803.40</td>\n",
       "      <td>vectorized_segmentation (current)</td>\n",
       "    </tr>\n",
       "    <tr>\n",
       "      <th>441</th>\n",
       "      <td>get_entries_for_timeseries</td>\n",
       "      <td>1739173803.40</td>\n",
       "      <td>find_entries</td>\n",
       "      <td>67a9afab86a8515481eeb1d8</td>\n",
       "      <td>bb6c7318-52f7-4e0f-a51b-c3f802f3b567</td>\n",
       "      <td>1739173803.40</td>\n",
       "      <td>vectorized_segmentation (current)</td>\n",
       "    </tr>\n",
       "    <tr>\n",
       "      <th>442</th>\n",
       "      <td>get_entries_for_timeseries</td>\n",
       "      <td>1739173803.39</td>\n",
       "      <td>find_entries</td>\n",
       "      <td>67a9afab86a8515481eeb1d5</td>\n",
       "      <td>bb6c7318-52f7-4e0f-a51b-c3f802f3b567</td>\n",
       "      <td>1739173803.39</td>\n",
       "      <td>vectorized_segmentation (current)</td>\n",
       "    </tr>\n",
       "    <tr>\n",
       "      <th>443</th>\n",
       "      <td>get_entries_for_timeseries</td>\n",
       "      <td>1739173803.39</td>\n",
       "      <td>find_entries</td>\n",
       "      <td>67a9afab86a8515481eeb1d4</td>\n",
       "      <td>bb6c7318-52f7-4e0f-a51b-c3f802f3b567</td>\n",
       "      <td>1739173803.39</td>\n",
       "      <td>vectorized_segmentation (current)</td>\n",
       "    </tr>\n",
       "    <tr>\n",
       "      <th>444</th>\n",
       "      <td>get_entries_for_timeseries</td>\n",
       "      <td>1739173803.37</td>\n",
       "      <td>find_entries</td>\n",
       "      <td>67a9afab86a8515481eeb1d1</td>\n",
       "      <td>bb6c7318-52f7-4e0f-a51b-c3f802f3b567</td>\n",
       "      <td>1739173803.37</td>\n",
       "      <td>vectorized_segmentation (current)</td>\n",
       "    </tr>\n",
       "    <tr>\n",
       "      <th>445</th>\n",
       "      <td>get_entries_for_timeseries</td>\n",
       "      <td>1739173803.37</td>\n",
       "      <td>find_entries</td>\n",
       "      <td>67a9afab86a8515481eeb1d0</td>\n",
       "      <td>bb6c7318-52f7-4e0f-a51b-c3f802f3b567</td>\n",
       "      <td>1739173803.37</td>\n",
       "      <td>vectorized_segmentation (current)</td>\n",
       "    </tr>\n",
       "    <tr>\n",
       "      <th>446</th>\n",
       "      <td>get_entries_for_timeseries</td>\n",
       "      <td>1739173803.36</td>\n",
       "      <td>find_entries</td>\n",
       "      <td>67a9afab86a8515481eeb1cd</td>\n",
       "      <td>bb6c7318-52f7-4e0f-a51b-c3f802f3b567</td>\n",
       "      <td>1739173803.36</td>\n",
       "      <td>vectorized_segmentation (current)</td>\n",
       "    </tr>\n",
       "    <tr>\n",
       "      <th>447</th>\n",
       "      <td>get_entries_for_timeseries</td>\n",
       "      <td>1739173803.36</td>\n",
       "      <td>find_entries</td>\n",
       "      <td>67a9afab86a8515481eeb1cc</td>\n",
       "      <td>bb6c7318-52f7-4e0f-a51b-c3f802f3b567</td>\n",
       "      <td>1739173803.36</td>\n",
       "      <td>vectorized_segmentation (current)</td>\n",
       "    </tr>\n",
       "    <tr>\n",
       "      <th>448</th>\n",
       "      <td>get_entries_for_timeseries</td>\n",
       "      <td>1739173803.35</td>\n",
       "      <td>find_entries</td>\n",
       "      <td>67a9afab86a8515481eeb1c9</td>\n",
       "      <td>bb6c7318-52f7-4e0f-a51b-c3f802f3b567</td>\n",
       "      <td>1739173803.35</td>\n",
       "      <td>vectorized_segmentation (current)</td>\n",
       "    </tr>\n",
       "    <tr>\n",
       "      <th>449</th>\n",
       "      <td>get_entries_for_timeseries</td>\n",
       "      <td>1739173803.35</td>\n",
       "      <td>find_entries</td>\n",
       "      <td>67a9afab86a8515481eeb1c8</td>\n",
       "      <td>bb6c7318-52f7-4e0f-a51b-c3f802f3b567</td>\n",
       "      <td>1739173803.35</td>\n",
       "      <td>vectorized_segmentation (current)</td>\n",
       "    </tr>\n",
       "    <tr>\n",
       "      <th>450</th>\n",
       "      <td>get_entries_for_timeseries</td>\n",
       "      <td>1739173803.34</td>\n",
       "      <td>find_entries</td>\n",
       "      <td>67a9afab86a8515481eeb1c5</td>\n",
       "      <td>bb6c7318-52f7-4e0f-a51b-c3f802f3b567</td>\n",
       "      <td>1739173803.34</td>\n",
       "      <td>vectorized_segmentation (current)</td>\n",
       "    </tr>\n",
       "    <tr>\n",
       "      <th>451</th>\n",
       "      <td>get_entries_for_timeseries</td>\n",
       "      <td>1739173803.33</td>\n",
       "      <td>find_entries</td>\n",
       "      <td>67a9afab86a8515481eeb1c4</td>\n",
       "      <td>bb6c7318-52f7-4e0f-a51b-c3f802f3b567</td>\n",
       "      <td>1739173803.33</td>\n",
       "      <td>vectorized_segmentation (current)</td>\n",
       "    </tr>\n",
       "    <tr>\n",
       "      <th>452</th>\n",
       "      <td>get_entries_for_timeseries</td>\n",
       "      <td>1739173803.32</td>\n",
       "      <td>find_entries</td>\n",
       "      <td>67a9afab86a8515481eeb1c1</td>\n",
       "      <td>bb6c7318-52f7-4e0f-a51b-c3f802f3b567</td>\n",
       "      <td>1739173803.32</td>\n",
       "      <td>vectorized_segmentation (current)</td>\n",
       "    </tr>\n",
       "    <tr>\n",
       "      <th>453</th>\n",
       "      <td>get_entries_for_timeseries</td>\n",
       "      <td>1739173803.32</td>\n",
       "      <td>find_entries</td>\n",
       "      <td>67a9afab86a8515481eeb1c0</td>\n",
       "      <td>bb6c7318-52f7-4e0f-a51b-c3f802f3b567</td>\n",
       "      <td>1739173803.32</td>\n",
       "      <td>vectorized_segmentation (current)</td>\n",
       "    </tr>\n",
       "    <tr>\n",
       "      <th>456</th>\n",
       "      <td>get_entries_for_timeseries</td>\n",
       "      <td>1739173803.22</td>\n",
       "      <td>find_entries</td>\n",
       "      <td>67a9afab86a8515481eeb1b8</td>\n",
       "      <td>bb6c7318-52f7-4e0f-a51b-c3f802f3b567</td>\n",
       "      <td>1739173803.22</td>\n",
       "      <td>vectorized_segmentation (current)</td>\n",
       "    </tr>\n",
       "    <tr>\n",
       "      <th>457</th>\n",
       "      <td>get_entries_for_timeseries</td>\n",
       "      <td>1739173803.22</td>\n",
       "      <td>find_entries</td>\n",
       "      <td>67a9afab86a8515481eeb1b7</td>\n",
       "      <td>bb6c7318-52f7-4e0f-a51b-c3f802f3b567</td>\n",
       "      <td>1739173803.22</td>\n",
       "      <td>vectorized_segmentation (current)</td>\n",
       "    </tr>\n",
       "    <tr>\n",
       "      <th>458</th>\n",
       "      <td>get_entries_for_timeseries</td>\n",
       "      <td>1739173803.21</td>\n",
       "      <td>find_entries</td>\n",
       "      <td>67a9afab86a8515481eeb1b6</td>\n",
       "      <td>bb6c7318-52f7-4e0f-a51b-c3f802f3b567</td>\n",
       "      <td>1739173803.21</td>\n",
       "      <td>vectorized_segmentation (current)</td>\n",
       "    </tr>\n",
       "    <tr>\n",
       "      <th>459</th>\n",
       "      <td>get_entries_for_timeseries</td>\n",
       "      <td>1739173803.21</td>\n",
       "      <td>find_entries</td>\n",
       "      <td>67a9afab86a8515481eeb1b5</td>\n",
       "      <td>bb6c7318-52f7-4e0f-a51b-c3f802f3b567</td>\n",
       "      <td>1739173803.21</td>\n",
       "      <td>vectorized_segmentation (current)</td>\n",
       "    </tr>\n",
       "    <tr>\n",
       "      <th>461</th>\n",
       "      <td>get_entries_for_timeseries</td>\n",
       "      <td>1739173803.16</td>\n",
       "      <td>find_entries</td>\n",
       "      <td>67a9afab86a8515481eeb1b3</td>\n",
       "      <td>bb6c7318-52f7-4e0f-a51b-c3f802f3b567</td>\n",
       "      <td>1739173803.16</td>\n",
       "      <td>vectorized_segmentation (current)</td>\n",
       "    </tr>\n",
       "    <tr>\n",
       "      <th>462</th>\n",
       "      <td>get_entries_for_timeseries</td>\n",
       "      <td>1739173803.16</td>\n",
       "      <td>find_entries</td>\n",
       "      <td>67a9afab86a8515481eeb1b2</td>\n",
       "      <td>bb6c7318-52f7-4e0f-a51b-c3f802f3b567</td>\n",
       "      <td>1739173803.16</td>\n",
       "      <td>vectorized_segmentation (current)</td>\n",
       "    </tr>\n",
       "  </tbody>\n",
       "</table>\n",
       "</div>"
      ],
      "text/plain": [
       "                           name            ts       reading  \\\n",
       "430  get_entries_for_timeseries 1739173803.46  find_entries   \n",
       "431  get_entries_for_timeseries 1739173803.46  find_entries   \n",
       "432  get_entries_for_timeseries 1739173803.45  find_entries   \n",
       "433  get_entries_for_timeseries 1739173803.45  find_entries   \n",
       "434  get_entries_for_timeseries 1739173803.44  find_entries   \n",
       "435  get_entries_for_timeseries 1739173803.43  find_entries   \n",
       "436  get_entries_for_timeseries 1739173803.43  find_entries   \n",
       "437  get_entries_for_timeseries 1739173803.42  find_entries   \n",
       "438  get_entries_for_timeseries 1739173803.41  find_entries   \n",
       "439  get_entries_for_timeseries 1739173803.41  find_entries   \n",
       "440  get_entries_for_timeseries 1739173803.40  find_entries   \n",
       "441  get_entries_for_timeseries 1739173803.40  find_entries   \n",
       "442  get_entries_for_timeseries 1739173803.39  find_entries   \n",
       "443  get_entries_for_timeseries 1739173803.39  find_entries   \n",
       "444  get_entries_for_timeseries 1739173803.37  find_entries   \n",
       "445  get_entries_for_timeseries 1739173803.37  find_entries   \n",
       "446  get_entries_for_timeseries 1739173803.36  find_entries   \n",
       "447  get_entries_for_timeseries 1739173803.36  find_entries   \n",
       "448  get_entries_for_timeseries 1739173803.35  find_entries   \n",
       "449  get_entries_for_timeseries 1739173803.35  find_entries   \n",
       "450  get_entries_for_timeseries 1739173803.34  find_entries   \n",
       "451  get_entries_for_timeseries 1739173803.33  find_entries   \n",
       "452  get_entries_for_timeseries 1739173803.32  find_entries   \n",
       "453  get_entries_for_timeseries 1739173803.32  find_entries   \n",
       "456  get_entries_for_timeseries 1739173803.22  find_entries   \n",
       "457  get_entries_for_timeseries 1739173803.22  find_entries   \n",
       "458  get_entries_for_timeseries 1739173803.21  find_entries   \n",
       "459  get_entries_for_timeseries 1739173803.21  find_entries   \n",
       "461  get_entries_for_timeseries 1739173803.16  find_entries   \n",
       "462  get_entries_for_timeseries 1739173803.16  find_entries   \n",
       "\n",
       "                          _id                               user_id  \\\n",
       "430  67a9afab86a8515481eeb1ed  bb6c7318-52f7-4e0f-a51b-c3f802f3b567   \n",
       "431  67a9afab86a8515481eeb1ec  bb6c7318-52f7-4e0f-a51b-c3f802f3b567   \n",
       "432  67a9afab86a8515481eeb1e9  bb6c7318-52f7-4e0f-a51b-c3f802f3b567   \n",
       "433  67a9afab86a8515481eeb1e8  bb6c7318-52f7-4e0f-a51b-c3f802f3b567   \n",
       "434  67a9afab86a8515481eeb1e5  bb6c7318-52f7-4e0f-a51b-c3f802f3b567   \n",
       "435  67a9afab86a8515481eeb1e4  bb6c7318-52f7-4e0f-a51b-c3f802f3b567   \n",
       "436  67a9afab86a8515481eeb1e1  bb6c7318-52f7-4e0f-a51b-c3f802f3b567   \n",
       "437  67a9afab86a8515481eeb1e0  bb6c7318-52f7-4e0f-a51b-c3f802f3b567   \n",
       "438  67a9afab86a8515481eeb1dd  bb6c7318-52f7-4e0f-a51b-c3f802f3b567   \n",
       "439  67a9afab86a8515481eeb1dc  bb6c7318-52f7-4e0f-a51b-c3f802f3b567   \n",
       "440  67a9afab86a8515481eeb1d9  bb6c7318-52f7-4e0f-a51b-c3f802f3b567   \n",
       "441  67a9afab86a8515481eeb1d8  bb6c7318-52f7-4e0f-a51b-c3f802f3b567   \n",
       "442  67a9afab86a8515481eeb1d5  bb6c7318-52f7-4e0f-a51b-c3f802f3b567   \n",
       "443  67a9afab86a8515481eeb1d4  bb6c7318-52f7-4e0f-a51b-c3f802f3b567   \n",
       "444  67a9afab86a8515481eeb1d1  bb6c7318-52f7-4e0f-a51b-c3f802f3b567   \n",
       "445  67a9afab86a8515481eeb1d0  bb6c7318-52f7-4e0f-a51b-c3f802f3b567   \n",
       "446  67a9afab86a8515481eeb1cd  bb6c7318-52f7-4e0f-a51b-c3f802f3b567   \n",
       "447  67a9afab86a8515481eeb1cc  bb6c7318-52f7-4e0f-a51b-c3f802f3b567   \n",
       "448  67a9afab86a8515481eeb1c9  bb6c7318-52f7-4e0f-a51b-c3f802f3b567   \n",
       "449  67a9afab86a8515481eeb1c8  bb6c7318-52f7-4e0f-a51b-c3f802f3b567   \n",
       "450  67a9afab86a8515481eeb1c5  bb6c7318-52f7-4e0f-a51b-c3f802f3b567   \n",
       "451  67a9afab86a8515481eeb1c4  bb6c7318-52f7-4e0f-a51b-c3f802f3b567   \n",
       "452  67a9afab86a8515481eeb1c1  bb6c7318-52f7-4e0f-a51b-c3f802f3b567   \n",
       "453  67a9afab86a8515481eeb1c0  bb6c7318-52f7-4e0f-a51b-c3f802f3b567   \n",
       "456  67a9afab86a8515481eeb1b8  bb6c7318-52f7-4e0f-a51b-c3f802f3b567   \n",
       "457  67a9afab86a8515481eeb1b7  bb6c7318-52f7-4e0f-a51b-c3f802f3b567   \n",
       "458  67a9afab86a8515481eeb1b6  bb6c7318-52f7-4e0f-a51b-c3f802f3b567   \n",
       "459  67a9afab86a8515481eeb1b5  bb6c7318-52f7-4e0f-a51b-c3f802f3b567   \n",
       "461  67a9afab86a8515481eeb1b3  bb6c7318-52f7-4e0f-a51b-c3f802f3b567   \n",
       "462  67a9afab86a8515481eeb1b2  bb6c7318-52f7-4e0f-a51b-c3f802f3b567   \n",
       "\n",
       "     metadata_write_ts                             branch  \n",
       "430      1739173803.46  vectorized_segmentation (current)  \n",
       "431      1739173803.46  vectorized_segmentation (current)  \n",
       "432      1739173803.45  vectorized_segmentation (current)  \n",
       "433      1739173803.45  vectorized_segmentation (current)  \n",
       "434      1739173803.44  vectorized_segmentation (current)  \n",
       "435      1739173803.43  vectorized_segmentation (current)  \n",
       "436      1739173803.43  vectorized_segmentation (current)  \n",
       "437      1739173803.42  vectorized_segmentation (current)  \n",
       "438      1739173803.41  vectorized_segmentation (current)  \n",
       "439      1739173803.41  vectorized_segmentation (current)  \n",
       "440      1739173803.40  vectorized_segmentation (current)  \n",
       "441      1739173803.40  vectorized_segmentation (current)  \n",
       "442      1739173803.39  vectorized_segmentation (current)  \n",
       "443      1739173803.39  vectorized_segmentation (current)  \n",
       "444      1739173803.37  vectorized_segmentation (current)  \n",
       "445      1739173803.37  vectorized_segmentation (current)  \n",
       "446      1739173803.36  vectorized_segmentation (current)  \n",
       "447      1739173803.36  vectorized_segmentation (current)  \n",
       "448      1739173803.35  vectorized_segmentation (current)  \n",
       "449      1739173803.35  vectorized_segmentation (current)  \n",
       "450      1739173803.34  vectorized_segmentation (current)  \n",
       "451      1739173803.33  vectorized_segmentation (current)  \n",
       "452      1739173803.32  vectorized_segmentation (current)  \n",
       "453      1739173803.32  vectorized_segmentation (current)  \n",
       "456      1739173803.22  vectorized_segmentation (current)  \n",
       "457      1739173803.22  vectorized_segmentation (current)  \n",
       "458      1739173803.21  vectorized_segmentation (current)  \n",
       "459      1739173803.21  vectorized_segmentation (current)  \n",
       "461      1739173803.16  vectorized_segmentation (current)  \n",
       "462      1739173803.16  vectorized_segmentation (current)  "
      ]
     },
     "metadata": {},
     "output_type": "display_data"
    },
    {
     "data": {
      "application/vnd.plotly.v1+json": {
       "config": {
        "plotlyServerURL": "https://plot.ly"
       },
       "data": [
        {
         "hovertemplate": "index=%{y}<br>value=%{x}<extra></extra>",
         "legendgroup": "baseline",
         "marker": {
          "color": "#636efa",
          "pattern": {
           "shape": ""
          }
         },
         "name": "baseline",
         "orientation": "h",
         "showlegend": true,
         "textposition": "auto",
         "type": "bar",
         "x": {
          "bdata": "rgs=",
          "dtype": "i2"
         },
         "xaxis": "x",
         "y": [
          "baseline"
         ],
         "yaxis": "y"
        },
        {
         "hovertemplate": "index=%{y}<br>value=%{x}<extra></extra>",
         "legendgroup": "master",
         "marker": {
          "color": "#EF553B",
          "pattern": {
           "shape": ""
          }
         },
         "name": "master",
         "orientation": "h",
         "showlegend": true,
         "textposition": "auto",
         "type": "bar",
         "x": {
          "bdata": "Hg==",
          "dtype": "i1"
         },
         "xaxis": "x",
         "y": [
          "master"
         ],
         "yaxis": "y"
        },
        {
         "hovertemplate": "index=%{y}<br>value=%{x}<extra></extra>",
         "legendgroup": "vectorized_segmentation (draft 1)",
         "marker": {
          "color": "#00cc96",
          "pattern": {
           "shape": ""
          }
         },
         "name": "vectorized_segmentation (draft 1)",
         "orientation": "h",
         "showlegend": true,
         "textposition": "auto",
         "type": "bar",
         "x": {
          "bdata": "Hg==",
          "dtype": "i1"
         },
         "xaxis": "x",
         "y": [
          "vectorized_segmentation (draft 1)"
         ],
         "yaxis": "y"
        },
        {
         "hovertemplate": "index=%{y}<br>value=%{x}<extra></extra>",
         "legendgroup": "vectorized_segmentation (current)",
         "marker": {
          "color": "#ab63fa",
          "pattern": {
           "shape": ""
          }
         },
         "name": "vectorized_segmentation (current)",
         "orientation": "h",
         "showlegend": true,
         "textposition": "auto",
         "type": "bar",
         "x": {
          "bdata": "Hg==",
          "dtype": "i1"
         },
         "xaxis": "x",
         "y": [
          "vectorized_segmentation (current)"
         ],
         "yaxis": "y"
        }
       ],
       "layout": {
        "barmode": "group",
        "legend": {
         "title": {
          "text": "index"
         },
         "tracegroupgap": 0,
         "x": 1,
         "xanchor": "right",
         "y": 0,
         "yref": "container"
        },
        "margin": {
         "t": 60
        },
        "template": {
         "data": {
          "bar": [
           {
            "error_x": {
             "color": "#2a3f5f"
            },
            "error_y": {
             "color": "#2a3f5f"
            },
            "marker": {
             "line": {
              "color": "#E5ECF6",
              "width": 0.5
             },
             "pattern": {
              "fillmode": "overlay",
              "size": 10,
              "solidity": 0.2
             }
            },
            "type": "bar"
           }
          ],
          "barpolar": [
           {
            "marker": {
             "line": {
              "color": "#E5ECF6",
              "width": 0.5
             },
             "pattern": {
              "fillmode": "overlay",
              "size": 10,
              "solidity": 0.2
             }
            },
            "type": "barpolar"
           }
          ],
          "carpet": [
           {
            "aaxis": {
             "endlinecolor": "#2a3f5f",
             "gridcolor": "white",
             "linecolor": "white",
             "minorgridcolor": "white",
             "startlinecolor": "#2a3f5f"
            },
            "baxis": {
             "endlinecolor": "#2a3f5f",
             "gridcolor": "white",
             "linecolor": "white",
             "minorgridcolor": "white",
             "startlinecolor": "#2a3f5f"
            },
            "type": "carpet"
           }
          ],
          "choropleth": [
           {
            "colorbar": {
             "outlinewidth": 0,
             "ticks": ""
            },
            "type": "choropleth"
           }
          ],
          "contour": [
           {
            "colorbar": {
             "outlinewidth": 0,
             "ticks": ""
            },
            "colorscale": [
             [
              0,
              "#0d0887"
             ],
             [
              0.1111111111111111,
              "#46039f"
             ],
             [
              0.2222222222222222,
              "#7201a8"
             ],
             [
              0.3333333333333333,
              "#9c179e"
             ],
             [
              0.4444444444444444,
              "#bd3786"
             ],
             [
              0.5555555555555556,
              "#d8576b"
             ],
             [
              0.6666666666666666,
              "#ed7953"
             ],
             [
              0.7777777777777778,
              "#fb9f3a"
             ],
             [
              0.8888888888888888,
              "#fdca26"
             ],
             [
              1,
              "#f0f921"
             ]
            ],
            "type": "contour"
           }
          ],
          "contourcarpet": [
           {
            "colorbar": {
             "outlinewidth": 0,
             "ticks": ""
            },
            "type": "contourcarpet"
           }
          ],
          "heatmap": [
           {
            "colorbar": {
             "outlinewidth": 0,
             "ticks": ""
            },
            "colorscale": [
             [
              0,
              "#0d0887"
             ],
             [
              0.1111111111111111,
              "#46039f"
             ],
             [
              0.2222222222222222,
              "#7201a8"
             ],
             [
              0.3333333333333333,
              "#9c179e"
             ],
             [
              0.4444444444444444,
              "#bd3786"
             ],
             [
              0.5555555555555556,
              "#d8576b"
             ],
             [
              0.6666666666666666,
              "#ed7953"
             ],
             [
              0.7777777777777778,
              "#fb9f3a"
             ],
             [
              0.8888888888888888,
              "#fdca26"
             ],
             [
              1,
              "#f0f921"
             ]
            ],
            "type": "heatmap"
           }
          ],
          "histogram": [
           {
            "marker": {
             "pattern": {
              "fillmode": "overlay",
              "size": 10,
              "solidity": 0.2
             }
            },
            "type": "histogram"
           }
          ],
          "histogram2d": [
           {
            "colorbar": {
             "outlinewidth": 0,
             "ticks": ""
            },
            "colorscale": [
             [
              0,
              "#0d0887"
             ],
             [
              0.1111111111111111,
              "#46039f"
             ],
             [
              0.2222222222222222,
              "#7201a8"
             ],
             [
              0.3333333333333333,
              "#9c179e"
             ],
             [
              0.4444444444444444,
              "#bd3786"
             ],
             [
              0.5555555555555556,
              "#d8576b"
             ],
             [
              0.6666666666666666,
              "#ed7953"
             ],
             [
              0.7777777777777778,
              "#fb9f3a"
             ],
             [
              0.8888888888888888,
              "#fdca26"
             ],
             [
              1,
              "#f0f921"
             ]
            ],
            "type": "histogram2d"
           }
          ],
          "histogram2dcontour": [
           {
            "colorbar": {
             "outlinewidth": 0,
             "ticks": ""
            },
            "colorscale": [
             [
              0,
              "#0d0887"
             ],
             [
              0.1111111111111111,
              "#46039f"
             ],
             [
              0.2222222222222222,
              "#7201a8"
             ],
             [
              0.3333333333333333,
              "#9c179e"
             ],
             [
              0.4444444444444444,
              "#bd3786"
             ],
             [
              0.5555555555555556,
              "#d8576b"
             ],
             [
              0.6666666666666666,
              "#ed7953"
             ],
             [
              0.7777777777777778,
              "#fb9f3a"
             ],
             [
              0.8888888888888888,
              "#fdca26"
             ],
             [
              1,
              "#f0f921"
             ]
            ],
            "type": "histogram2dcontour"
           }
          ],
          "mesh3d": [
           {
            "colorbar": {
             "outlinewidth": 0,
             "ticks": ""
            },
            "type": "mesh3d"
           }
          ],
          "parcoords": [
           {
            "line": {
             "colorbar": {
              "outlinewidth": 0,
              "ticks": ""
             }
            },
            "type": "parcoords"
           }
          ],
          "pie": [
           {
            "automargin": true,
            "type": "pie"
           }
          ],
          "scatter": [
           {
            "fillpattern": {
             "fillmode": "overlay",
             "size": 10,
             "solidity": 0.2
            },
            "type": "scatter"
           }
          ],
          "scatter3d": [
           {
            "line": {
             "colorbar": {
              "outlinewidth": 0,
              "ticks": ""
             }
            },
            "marker": {
             "colorbar": {
              "outlinewidth": 0,
              "ticks": ""
             }
            },
            "type": "scatter3d"
           }
          ],
          "scattercarpet": [
           {
            "marker": {
             "colorbar": {
              "outlinewidth": 0,
              "ticks": ""
             }
            },
            "type": "scattercarpet"
           }
          ],
          "scattergeo": [
           {
            "marker": {
             "colorbar": {
              "outlinewidth": 0,
              "ticks": ""
             }
            },
            "type": "scattergeo"
           }
          ],
          "scattergl": [
           {
            "marker": {
             "colorbar": {
              "outlinewidth": 0,
              "ticks": ""
             }
            },
            "type": "scattergl"
           }
          ],
          "scattermap": [
           {
            "marker": {
             "colorbar": {
              "outlinewidth": 0,
              "ticks": ""
             }
            },
            "type": "scattermap"
           }
          ],
          "scattermapbox": [
           {
            "marker": {
             "colorbar": {
              "outlinewidth": 0,
              "ticks": ""
             }
            },
            "type": "scattermapbox"
           }
          ],
          "scatterpolar": [
           {
            "marker": {
             "colorbar": {
              "outlinewidth": 0,
              "ticks": ""
             }
            },
            "type": "scatterpolar"
           }
          ],
          "scatterpolargl": [
           {
            "marker": {
             "colorbar": {
              "outlinewidth": 0,
              "ticks": ""
             }
            },
            "type": "scatterpolargl"
           }
          ],
          "scatterternary": [
           {
            "marker": {
             "colorbar": {
              "outlinewidth": 0,
              "ticks": ""
             }
            },
            "type": "scatterternary"
           }
          ],
          "surface": [
           {
            "colorbar": {
             "outlinewidth": 0,
             "ticks": ""
            },
            "colorscale": [
             [
              0,
              "#0d0887"
             ],
             [
              0.1111111111111111,
              "#46039f"
             ],
             [
              0.2222222222222222,
              "#7201a8"
             ],
             [
              0.3333333333333333,
              "#9c179e"
             ],
             [
              0.4444444444444444,
              "#bd3786"
             ],
             [
              0.5555555555555556,
              "#d8576b"
             ],
             [
              0.6666666666666666,
              "#ed7953"
             ],
             [
              0.7777777777777778,
              "#fb9f3a"
             ],
             [
              0.8888888888888888,
              "#fdca26"
             ],
             [
              1,
              "#f0f921"
             ]
            ],
            "type": "surface"
           }
          ],
          "table": [
           {
            "cells": {
             "fill": {
              "color": "#EBF0F8"
             },
             "line": {
              "color": "white"
             }
            },
            "header": {
             "fill": {
              "color": "#C8D4E3"
             },
             "line": {
              "color": "white"
             }
            },
            "type": "table"
           }
          ]
         },
         "layout": {
          "annotationdefaults": {
           "arrowcolor": "#2a3f5f",
           "arrowhead": 0,
           "arrowwidth": 1
          },
          "autotypenumbers": "strict",
          "coloraxis": {
           "colorbar": {
            "outlinewidth": 0,
            "ticks": ""
           }
          },
          "colorscale": {
           "diverging": [
            [
             0,
             "#8e0152"
            ],
            [
             0.1,
             "#c51b7d"
            ],
            [
             0.2,
             "#de77ae"
            ],
            [
             0.3,
             "#f1b6da"
            ],
            [
             0.4,
             "#fde0ef"
            ],
            [
             0.5,
             "#f7f7f7"
            ],
            [
             0.6,
             "#e6f5d0"
            ],
            [
             0.7,
             "#b8e186"
            ],
            [
             0.8,
             "#7fbc41"
            ],
            [
             0.9,
             "#4d9221"
            ],
            [
             1,
             "#276419"
            ]
           ],
           "sequential": [
            [
             0,
             "#0d0887"
            ],
            [
             0.1111111111111111,
             "#46039f"
            ],
            [
             0.2222222222222222,
             "#7201a8"
            ],
            [
             0.3333333333333333,
             "#9c179e"
            ],
            [
             0.4444444444444444,
             "#bd3786"
            ],
            [
             0.5555555555555556,
             "#d8576b"
            ],
            [
             0.6666666666666666,
             "#ed7953"
            ],
            [
             0.7777777777777778,
             "#fb9f3a"
            ],
            [
             0.8888888888888888,
             "#fdca26"
            ],
            [
             1,
             "#f0f921"
            ]
           ],
           "sequentialminus": [
            [
             0,
             "#0d0887"
            ],
            [
             0.1111111111111111,
             "#46039f"
            ],
            [
             0.2222222222222222,
             "#7201a8"
            ],
            [
             0.3333333333333333,
             "#9c179e"
            ],
            [
             0.4444444444444444,
             "#bd3786"
            ],
            [
             0.5555555555555556,
             "#d8576b"
            ],
            [
             0.6666666666666666,
             "#ed7953"
            ],
            [
             0.7777777777777778,
             "#fb9f3a"
            ],
            [
             0.8888888888888888,
             "#fdca26"
            ],
            [
             1,
             "#f0f921"
            ]
           ]
          },
          "colorway": [
           "#636efa",
           "#EF553B",
           "#00cc96",
           "#ab63fa",
           "#FFA15A",
           "#19d3f3",
           "#FF6692",
           "#B6E880",
           "#FF97FF",
           "#FECB52"
          ],
          "font": {
           "color": "#2a3f5f"
          },
          "geo": {
           "bgcolor": "white",
           "lakecolor": "white",
           "landcolor": "#E5ECF6",
           "showlakes": true,
           "showland": true,
           "subunitcolor": "white"
          },
          "hoverlabel": {
           "align": "left"
          },
          "hovermode": "closest",
          "mapbox": {
           "style": "light"
          },
          "paper_bgcolor": "white",
          "plot_bgcolor": "#E5ECF6",
          "polar": {
           "angularaxis": {
            "gridcolor": "white",
            "linecolor": "white",
            "ticks": ""
           },
           "bgcolor": "#E5ECF6",
           "radialaxis": {
            "gridcolor": "white",
            "linecolor": "white",
            "ticks": ""
           }
          },
          "scene": {
           "xaxis": {
            "backgroundcolor": "#E5ECF6",
            "gridcolor": "white",
            "gridwidth": 2,
            "linecolor": "white",
            "showbackground": true,
            "ticks": "",
            "zerolinecolor": "white"
           },
           "yaxis": {
            "backgroundcolor": "#E5ECF6",
            "gridcolor": "white",
            "gridwidth": 2,
            "linecolor": "white",
            "showbackground": true,
            "ticks": "",
            "zerolinecolor": "white"
           },
           "zaxis": {
            "backgroundcolor": "#E5ECF6",
            "gridcolor": "white",
            "gridwidth": 2,
            "linecolor": "white",
            "showbackground": true,
            "ticks": "",
            "zerolinecolor": "white"
           }
          },
          "shapedefaults": {
           "line": {
            "color": "#2a3f5f"
           }
          },
          "ternary": {
           "aaxis": {
            "gridcolor": "white",
            "linecolor": "white",
            "ticks": ""
           },
           "baxis": {
            "gridcolor": "white",
            "linecolor": "white",
            "ticks": ""
           },
           "bgcolor": "#E5ECF6",
           "caxis": {
            "gridcolor": "white",
            "linecolor": "white",
            "ticks": ""
           }
          },
          "title": {
           "x": 0.05
          },
          "xaxis": {
           "automargin": true,
           "gridcolor": "white",
           "linecolor": "white",
           "ticks": "",
           "title": {
            "standoff": 15
           },
           "zerolinecolor": "white",
           "zerolinewidth": 2
          },
          "yaxis": {
           "automargin": true,
           "gridcolor": "white",
           "linecolor": "white",
           "ticks": "",
           "title": {
            "standoff": 15
           },
           "zerolinecolor": "white",
           "zerolinewidth": 2
          }
         }
        },
        "title": {
         "text": "Calls to _get_entries_for_timeseries during trip segmentation ['shankari_2016-08-04']"
        },
        "xaxis": {
         "anchor": "y",
         "domain": [
          0,
          1
         ],
         "title": {
          "text": "value"
         }
        },
        "yaxis": {
         "anchor": "x",
         "categoryarray": [
          "vectorized_segmentation (current)",
          "vectorized_segmentation (draft 1)",
          "master",
          "baseline"
         ],
         "categoryorder": "array",
         "domain": [
          0,
          1
         ],
         "title": {
          "text": "index"
         }
        }
       }
      }
     },
     "metadata": {},
     "output_type": "display_data"
    }
   ],
   "source": [
    "trip_segmentation_db_calls_dfs = []\n",
    "\n",
    "branches_trip_segmentation_tqs = []\n",
    "for branch_name, branch_info in branches.items():\n",
    "    try:\n",
    "        trip_segmentation = pipeline_stages_df[\n",
    "            (pipeline_stages_df['name'] == 'TRIP_SEGMENTATION') &\n",
    "            (pipeline_stages_df['branch'] == branch_info['label'])\n",
    "        ].iloc[0]\n",
    "    except IndexError:\n",
    "        print(f\"No trip segmentation for {branch_name}\")\n",
    "        continue\n",
    "    trip_segmentation_db_calls = db_calls_df[\n",
    "        (db_calls_df['ts'] < trip_segmentation['ts'])\n",
    "        & (db_calls_df['ts'] > trip_segmentation['ts'] - trip_segmentation['reading'])\n",
    "    ]\n",
    "    trip_segmentation_db_calls_dfs.append(trip_segmentation_db_calls)\n",
    "    print(branch_name)\n",
    "    display(trip_segmentation_db_calls)\n",
    "\n",
    "trip_segmentation_db_calls_counts_df = pd.concat(trip_segmentation_db_calls_dfs)['branch'].value_counts(sort=False)\n",
    "fig = px.bar(\n",
    "    trip_segmentation_db_calls_counts_df,\n",
    "    color=trip_segmentation_db_calls_counts_df.index,\n",
    "    orientation=\"h\",\n",
    ")\n",
    "fig.update_layout(\n",
    "    title=f\"Calls to _get_entries_for_timeseries during trip segmentation {DAYS}\",\n",
    "    barmode='group',\n",
    "    legend=dict(yref=\"container\", xanchor=\"right\", x=1, y=0),\n",
    ")\n",
    "fig.show()"
   ]
  }
 ],
 "metadata": {
  "kernelspec": {
   "display_name": "emission",
   "language": "python",
   "name": "python3"
  },
  "language_info": {
   "codemirror_mode": {
    "name": "ipython",
    "version": 3
   },
   "file_extension": ".py",
   "mimetype": "text/x-python",
   "name": "python",
   "nbconvert_exporter": "python",
   "pygments_lexer": "ipython3",
   "version": "3.9.21"
  }
 },
 "nbformat": 4,
 "nbformat_minor": 2
}
