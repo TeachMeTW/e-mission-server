{
 "cells": [
  {
   "cell_type": "markdown",
   "metadata": {},
   "source": [
    "## Analysis of pipeline execution time across different branches"
   ]
  },
  {
   "cell_type": "code",
   "execution_count": 78,
   "metadata": {},
   "outputs": [
    {
     "name": "stdout",
     "output_type": "stream",
     "text": [
      "Requirement already satisfied: plotly in /Users/rsimpson/miniconda-23.5.2/envs/emission/lib/python3.9/site-packages (6.0.0)\n",
      "Requirement already satisfied: narwhals>=1.15.1 in /Users/rsimpson/miniconda-23.5.2/envs/emission/lib/python3.9/site-packages (from plotly) (1.25.0)\n",
      "Requirement already satisfied: packaging in /Users/rsimpson/miniconda-23.5.2/envs/emission/lib/python3.9/site-packages (from plotly) (24.1)\n",
      "Requirement already satisfied: nbformat in /Users/rsimpson/miniconda-23.5.2/envs/emission/lib/python3.9/site-packages (5.10.4)\n",
      "Requirement already satisfied: fastjsonschema>=2.15 in /Users/rsimpson/miniconda-23.5.2/envs/emission/lib/python3.9/site-packages (from nbformat) (2.20.0)\n",
      "Requirement already satisfied: jsonschema>=2.6 in /Users/rsimpson/miniconda-23.5.2/envs/emission/lib/python3.9/site-packages (from nbformat) (4.23.0)\n",
      "Requirement already satisfied: jupyter-core!=5.0.*,>=4.12 in /Users/rsimpson/miniconda-23.5.2/envs/emission/lib/python3.9/site-packages (from nbformat) (5.7.2)\n",
      "Requirement already satisfied: traitlets>=5.1 in /Users/rsimpson/miniconda-23.5.2/envs/emission/lib/python3.9/site-packages (from nbformat) (5.14.3)\n",
      "Requirement already satisfied: attrs>=22.2.0 in /Users/rsimpson/miniconda-23.5.2/envs/emission/lib/python3.9/site-packages (from jsonschema>=2.6->nbformat) (24.2.0)\n",
      "Requirement already satisfied: jsonschema-specifications>=2023.03.6 in /Users/rsimpson/miniconda-23.5.2/envs/emission/lib/python3.9/site-packages (from jsonschema>=2.6->nbformat) (2024.10.1)\n",
      "Requirement already satisfied: referencing>=0.28.4 in /Users/rsimpson/miniconda-23.5.2/envs/emission/lib/python3.9/site-packages (from jsonschema>=2.6->nbformat) (0.35.1)\n",
      "Requirement already satisfied: rpds-py>=0.7.1 in /Users/rsimpson/miniconda-23.5.2/envs/emission/lib/python3.9/site-packages (from jsonschema>=2.6->nbformat) (0.20.0)\n",
      "Requirement already satisfied: platformdirs>=2.5 in /Users/rsimpson/miniconda-23.5.2/envs/emission/lib/python3.9/site-packages (from jupyter-core!=5.0.*,>=4.12->nbformat) (4.3.6)\n"
     ]
    }
   ],
   "source": [
    "# dependencies for this notebook that aren't already in the 'emission' environment\n",
    "!pip install plotly\n",
    "!pip install nbformat\n",
    "\n",
    "#%env DB_HOST=mongodb://localhost/openpath_prod_ccebikes\n",
    "\n",
    "from __future__ import annotations\n",
    "import subprocess\n",
    "import time\n",
    "import pandas as pd\n",
    "import plotly.express as px\n",
    "import arrow\n",
    "import emission.core.timer as ect\n",
    "import emission.storage.decorations.stats_queries as esds\n",
    "import emission.storage.timeseries.abstract_timeseries as esta\n",
    "import emission.storage.timeseries.timequery as estt"
   ]
  },
  {
   "cell_type": "code",
   "execution_count": 79,
   "metadata": {},
   "outputs": [
    {
     "name": "stdout",
     "output_type": "stream",
     "text": [
      "Checking out sect_opt to measure pipeline runtime\n",
      "Already on 'sect_opt'\n",
      "Config file not found, returning a copy of the environment variables instead...\n",
      "Retrieved config: {'DB_HOST': None, 'DB_RESULT_LIMIT': None}\n",
      "URL not formatted, defaulting to \"Stage_database\"\n",
      "Connecting to database URL localhost\n",
      "Namespace(all=True, platform=None, user_list=None, email_list=None, date=None, dry_run=False)\n",
      "INFO:root:About to delete 2072 analysis results\n",
      "INFO:root:About to delete entries with keys ['analysis/cleaned_place', 'analysis/cleaned_section', 'analysis/cleaned_stop', 'analysis/cleaned_trip', 'analysis/composite_trip', 'analysis/confirmed_place', 'analysis/confirmed_trip', 'analysis/expected_trip', 'analysis/inferred_labels', 'analysis/inferred_section', 'analysis/inferred_trip', 'analysis/recreated_location', 'analysis/smoothing', 'inference/labels', 'inference/prediction', 'segmentation/raw_place', 'segmentation/raw_section', 'segmentation/raw_stop', 'segmentation/raw_trip']\n",
      "INFO:root:About to delete 11 pipeline states\n",
      "INFO:root:this is not a dry run, result of removing analysis objects = <pymongo.results.DeleteResult object at 0x18090ebb0>\n",
      "INFO:root:this is not a dry run, result of removing pipeline states = <pymongo.results.DeleteResult object at 0x18090ef40>\n",
      "Config file not found, returning a copy of the environment variables instead...\n",
      "Retrieved config: {'DB_HOST': None, 'DB_RESULT_LIMIT': None}\n",
      "URL not formatted, defaulting to \"Stage_database\"\n",
      "Connecting to database URL localhost\n",
      "emission/tests/data/real_examples/shankari_2016-07-27\n",
      "Loading file emission/tests/data/real_examples/shankari_2016-07-27\n",
      "After registration, nrelop_dev-emulator-study_0 -> 104be783-eaa4-4504-9382-6e825bf044f6\n",
      "Finished loading 0 entries into the usercache and 3580 entries into the timeseries\n",
      "Config file not found, returning a copy of the environment variables instead...\n",
      "Retrieved config: {'DB_HOST': None, 'DB_RESULT_LIMIT': None}\n",
      "URL not formatted, defaulting to \"Stage_database\"\n",
      "Connecting to database URL localhost\n",
      "Trying to open debug.conf.json\n",
      "analysis.debug.conf.json not configured, falling back to sample, default configuration\n",
      "INFO:root:NOMINATIM_QUERY_URL: None\n",
      "Nominatim Query URL Configured: None\n",
      "Nominatim URL not configured, place decoding must happen on the client\n",
      "overpass not configured, falling back to public overpass api\n",
      "transit stops query not configured, falling back to default\n",
      "The Zen of Python, by Tim Peters\n",
      "\n",
      "Beautiful is better than ugly.\n",
      "Explicit is better than implicit.\n",
      "Simple is better than complex.\n",
      "Complex is better than complicated.\n",
      "Flat is better than nested.\n",
      "Sparse is better than dense.\n",
      "Readability counts.\n",
      "Special cases aren't special enough to break the rules.\n",
      "Although practicality beats purity.\n",
      "Errors should never pass silently.\n",
      "Unless explicitly silenced.\n",
      "In the face of ambiguity, refuse the temptation to guess.\n",
      "There should be one-- and preferably only one --obvious way to do it.\n",
      "Although that way may not be obvious at first unless you're Dutch.\n",
      "Now is better than never.\n",
      "Although never is often better than *right* now.\n",
      "If the implementation is hard to explain, it's a bad idea.\n",
      "If the implementation is easy to explain, it may be a good idea.\n",
      "Namespaces are one honking great idea -- let's do more of those!\n",
      "analysis.trip_model.conf.json not configured, falling back to sample, default configuration\n",
      "expectations.conf.json not configured, falling back to sample, default configuration\n",
      "ERROR:root:habitica not configured, game functions not supported\n",
      "Traceback (most recent call last):\n",
      "  File \"/Users/rsimpson/e-mission-server/emission/net/ext_service/habitica/proxy.py\", line 22, in <module>\n",
      "    key_file = open('conf/net/ext_service/habitica.json')\n",
      "FileNotFoundError: [Errno 2] No such file or directory: 'conf/net/ext_service/habitica.json'\n",
      "2025-02-25T13:11:45.396272-08:00**********UUID 104be783-eaa4-4504-9382-6e825bf044f6: moving to long term**********\n",
      "New entry count == 0 and skip_if_no_new_data = False, continuing\n",
      "2025-02-25T13:11:45.403256-08:00**********UUID 104be783-eaa4-4504-9382-6e825bf044f6: updating incoming user inputs**********\n",
      "2025-02-25T13:11:45.738308-08:00**********UUID 104be783-eaa4-4504-9382-6e825bf044f6: filter accuracy if needed**********\n",
      "2025-02-25T13:11:45.743909-08:00**********UUID 104be783-eaa4-4504-9382-6e825bf044f6: segmenting into trips**********\n",
      "2025-02-25T13:12:03.526266-08:00**********UUID 104be783-eaa4-4504-9382-6e825bf044f6: segmenting into sections**********\n",
      "Using preloaded filtered location for time: 1469618232.767\n",
      "Using preloaded filtered location for time: 1469621795\n",
      "Using preloaded filtered location for row with ts: 1469618269.0\n",
      "Using preloaded filtered location for row with ts: 1469618942.601\n",
      "Using preloaded filtered location for row with ts: 1469619386.0\n",
      "Using preloaded filtered location for row with ts: 1469620619.675\n",
      "Using preloaded filtered location for row with ts: 1469620667.0\n",
      "Using preloaded filtered location for row with ts: 1469620667.0\n",
      "Using preloaded filtered location for row with ts: 1469620710.0\n",
      "Using preloaded filtered location for row with ts: 1469621567.0\n",
      "Using preloaded filtered location for row with ts: 1469621607.0\n",
      "Using preloaded filtered location for row with ts: 1469621778.615\n",
      "Using preloaded filtered location for time: 1469623969.467\n",
      "Using preloaded filtered location for time: 1469624091.888\n",
      "Using preloaded filtered location for time: 1469624781.75\n",
      "Using preloaded filtered location for time: 1469624904.51\n",
      "Using preloaded filtered location for row with ts: 1469624781.75\n",
      "Using preloaded filtered location for row with ts: 1469624904.51\n",
      "Using preloaded filtered location for time: 1469647056.626\n",
      "Using preloaded filtered location for time: 1469647206.803\n",
      "Using preloaded filtered location for row with ts: 1469647116.677\n",
      "Using preloaded filtered location for row with ts: 1469647176.73\n",
      "Using preloaded filtered location for time: 1469647599.877\n",
      "Using preloaded filtered location for time: 1469647720.024\n",
      "Using preloaded filtered location for row with ts: 1469647629.884\n",
      "Using preloaded filtered location for row with ts: 1469647659.915\n",
      "Using preloaded filtered location for time: 1469649282.317\n",
      "Using preloaded filtered location for time: 1469654463.952\n",
      "Using preloaded filtered location for row with ts: 1469654433.809\n",
      "Using preloaded filtered location for row with ts: 1469654433.809\n",
      "/Users/rsimpson/e-mission-server/emission/analysis/intake/segmentation/section_segmentation_methods/flip_flop_detection.py:59: RuntimeWarning: invalid value encountered in scalar divide\n",
      "  sm.update({\"trip_pct\": (curr_section_time * 100)/total_trip_time})\n",
      "Using preloaded filtered location for time: 1469655468.977\n",
      "Using preloaded filtered location for time: 1469655890.249\n",
      "Using preloaded filtered location for row with ts: 1469655468.977\n",
      "Using preloaded filtered location for row with ts: 1469655890.249\n",
      "Using preloaded filtered location for time: 1469656682.012\n",
      "Using preloaded filtered location for time: 1469660118.707\n",
      "Using preloaded filtered location for row with ts: 1469657157.588\n",
      "Using preloaded filtered location for row with ts: 1469657785.0\n",
      "Using preloaded filtered location for row with ts: 1469657820.0\n",
      "Using preloaded filtered location for row with ts: 1469659931.0\n",
      "Using preloaded filtered location for time: 1469660430\n",
      "Using preloaded filtered location for time: 1469660991.585\n",
      "Using preloaded filtered location for row with ts: 1469660453.747\n",
      "Using preloaded filtered location for row with ts: 1469660781.593\n",
      "Using preloaded filtered location for time: 1469661658.093\n",
      "Using preloaded filtered location for time: 1469661807\n",
      "Using preloaded filtered location for time: 1469666735.934\n",
      "Using preloaded filtered location for time: 1469666936.392\n",
      "Using preloaded filtered location for row with ts: 1469666761.0\n",
      "Using preloaded filtered location for row with ts: 1469666843.0\n",
      "Using preloaded filtered location for time: 1469667408.511\n",
      "Using preloaded filtered location for time: 1469668756\n",
      "Using preloaded filtered location for row with ts: 1469667527.0\n",
      "Using preloaded filtered location for row with ts: 1469668094.0\n",
      "Using preloaded filtered location for row with ts: 1469668100.457\n",
      "Using preloaded filtered location for row with ts: 1469668725.0\n",
      "Using preloaded filtered location for time: 1469669090\n",
      "Using preloaded filtered location for time: 1469670920\n",
      "Using preloaded filtered location for row with ts: 1469669167.0\n",
      "Using preloaded filtered location for row with ts: 1469670782.0\n",
      "/Users/rsimpson/e-mission-server/emission/analysis/intake/segmentation/section_segmentation_methods/flip_flop_detection.py:59: RuntimeWarning: invalid value encountered in scalar divide\n",
      "  sm.update({\"trip_pct\": (curr_section_time * 100)/total_trip_time})\n",
      "Using preloaded filtered location for time: 1469671460\n",
      "Using preloaded filtered location for time: 1469671579.879\n",
      "Using preloaded filtered location for row with ts: 1469671460.0\n",
      "Using preloaded filtered location for row with ts: 1469671579.879\n",
      "Using preloaded filtered location for time: 1469671808\n",
      "Using preloaded filtered location for time: 1469671931\n",
      "Using preloaded filtered location for time: 1469672477\n",
      "Using preloaded filtered location for time: 1469672977.537\n",
      "Using preloaded filtered location for row with ts: 1469672477.0\n",
      "Using preloaded filtered location for row with ts: 1469672977.537\n",
      "Using preloaded filtered location for time: 1469674025\n",
      "Using preloaded filtered location for time: 1469674377.538\n",
      "Using preloaded filtered location for row with ts: 1469674061.0\n",
      "Using preloaded filtered location for row with ts: 1469674335.0\n",
      "Using preloaded filtered location for time: 1469674619\n",
      "Using preloaded filtered location for time: 1469674797\n",
      "Using preloaded filtered location for row with ts: 1469674649.0\n",
      "Using preloaded filtered location for row with ts: 1469674771.589\n",
      "Using preloaded filtered location for time: 1469675447.58\n",
      "Using preloaded filtered location for time: 1469675656\n",
      "Using preloaded filtered location for row with ts: 1469675471.0\n",
      "Using preloaded filtered location for row with ts: 1469675471.0\n",
      "Using preloaded filtered location for time: 1469676085.625\n",
      "Using preloaded filtered location for time: 1469677096.611\n",
      "Using preloaded filtered location for row with ts: 1469676102.0\n",
      "Using preloaded filtered location for row with ts: 1469677080.0\n",
      "Using preloaded filtered location for time: 1469677583\n",
      "Using preloaded filtered location for time: 1469677679\n",
      "Using preloaded filtered location for row with ts: 1469677583.0\n",
      "Using preloaded filtered location for row with ts: 1469677679.0\n",
      "Using preloaded filtered location for time: 1469678014\n",
      "Using preloaded filtered location for time: 1469678966\n",
      "Using preloaded filtered location for row with ts: 1469678094.0\n",
      "Using preloaded filtered location for row with ts: 1469678905.0\n",
      "Using preloaded filtered location for time: 1469679219.307\n",
      "Using preloaded filtered location for time: 1469679381\n",
      "Using preloaded filtered location for row with ts: 1469679307.0\n",
      "Using preloaded filtered location for row with ts: 1469679346.0\n",
      "Using preloaded filtered location for time: 1469679652\n",
      "Using preloaded filtered location for time: 1469680163\n",
      "Using preloaded filtered location for row with ts: 1469679700.0\n",
      "Using preloaded filtered location for row with ts: 1469679740.0\n",
      "Using preloaded filtered location for row with ts: 1469679750.709\n",
      "Using preloaded filtered location for row with ts: 1469679941.928\n",
      "Using preloaded filtered location for row with ts: 1469679973.0\n",
      "Using preloaded filtered location for row with ts: 1469680034.225\n",
      "Using preloaded filtered location for time: 1469680390.541\n",
      "Using preloaded filtered location for time: 1469680533\n",
      "Using preloaded filtered location for time: 1469682595.815\n",
      "Using preloaded filtered location for time: 1469684686.181\n",
      "Using preloaded filtered location for row with ts: 1469682930.497\n",
      "Using preloaded filtered location for row with ts: 1469684629.562\n",
      "2025-02-25T13:12:11.509847-08:00**********UUID 104be783-eaa4-4504-9382-6e825bf044f6: smoothing sections**********\n",
      "/Users/rsimpson/e-mission-server/emission/analysis/intake/cleaning/cleaning_methods/speed_outlier_detection.py:27: FutureWarning: The default value of numeric_only in DataFrame.quantile is deprecated. In a future version, it will default to False. Select only valid columns or specify the value of numeric_only to silence this warning.\n",
      "  quartile_vals = df_to_use.quantile([0.25, 0.75]).speed\n",
      "Caught error after splitting, the segment is not a cluster?! while processing section, skipping...\n",
      "Traceback (most recent call last):\n",
      "  File \"/Users/rsimpson/e-mission-server/emission/analysis/intake/cleaning/location_smoothing.py\", line 195, in get_points_to_filter\n",
      "    filtering_algo.filter(with_speeds_df)\n",
      "  File \"/Users/rsimpson/e-mission-server/emission/analysis/intake/cleaning/cleaning_methods/jump_smoothing.py\", line 251, in filter\n",
      "    self.mark_segment_states(start_segment_idx, SmoothZigzag.Direction.LEFT)\n",
      "  File \"/Users/rsimpson/e-mission-server/emission/analysis/intake/cleaning/cleaning_methods/jump_smoothing.py\", line 224, in mark_segment_states\n",
      "    assert curr_seg.is_cluster, \"after splitting, the segment is not a cluster?!\"\n",
      "AssertionError: after splitting, the segment is not a cluster?!\n",
      "/Users/rsimpson/e-mission-server/emission/analysis/intake/cleaning/cleaning_methods/speed_outlier_detection.py:27: FutureWarning: The default value of numeric_only in DataFrame.quantile is deprecated. In a future version, it will default to False. Select only valid columns or specify the value of numeric_only to silence this warning.\n",
      "  quartile_vals = df_to_use.quantile([0.25, 0.75]).speed\n",
      "/Users/rsimpson/e-mission-server/emission/analysis/intake/cleaning/cleaning_methods/speed_outlier_detection.py:27: FutureWarning: The default value of numeric_only in DataFrame.quantile is deprecated. In a future version, it will default to False. Select only valid columns or specify the value of numeric_only to silence this warning.\n",
      "  quartile_vals = df_to_use.quantile([0.25, 0.75]).speed\n",
      "/Users/rsimpson/e-mission-server/emission/analysis/intake/cleaning/cleaning_methods/speed_outlier_detection.py:27: FutureWarning: The default value of numeric_only in DataFrame.quantile is deprecated. In a future version, it will default to False. Select only valid columns or specify the value of numeric_only to silence this warning.\n",
      "  quartile_vals = df_to_use.quantile([0.25, 0.75]).speed\n",
      "/Users/rsimpson/e-mission-server/emission/analysis/intake/cleaning/cleaning_methods/speed_outlier_detection.py:27: FutureWarning: The default value of numeric_only in DataFrame.quantile is deprecated. In a future version, it will default to False. Select only valid columns or specify the value of numeric_only to silence this warning.\n",
      "  quartile_vals = df_to_use.quantile([0.25, 0.75]).speed\n",
      "/Users/rsimpson/e-mission-server/emission/analysis/intake/cleaning/cleaning_methods/speed_outlier_detection.py:27: FutureWarning: The default value of numeric_only in DataFrame.quantile is deprecated. In a future version, it will default to False. Select only valid columns or specify the value of numeric_only to silence this warning.\n",
      "  quartile_vals = df_to_use.quantile([0.25, 0.75]).speed\n",
      "/Users/rsimpson/e-mission-server/emission/analysis/intake/cleaning/cleaning_methods/speed_outlier_detection.py:27: FutureWarning: The default value of numeric_only in DataFrame.quantile is deprecated. In a future version, it will default to False. Select only valid columns or specify the value of numeric_only to silence this warning.\n",
      "  quartile_vals = df_to_use.quantile([0.25, 0.75]).speed\n",
      "/Users/rsimpson/e-mission-server/emission/analysis/intake/cleaning/cleaning_methods/speed_outlier_detection.py:27: FutureWarning: The default value of numeric_only in DataFrame.quantile is deprecated. In a future version, it will default to False. Select only valid columns or specify the value of numeric_only to silence this warning.\n",
      "  quartile_vals = df_to_use.quantile([0.25, 0.75]).speed\n",
      "/Users/rsimpson/e-mission-server/emission/analysis/intake/cleaning/cleaning_methods/speed_outlier_detection.py:27: FutureWarning: The default value of numeric_only in DataFrame.quantile is deprecated. In a future version, it will default to False. Select only valid columns or specify the value of numeric_only to silence this warning.\n",
      "  quartile_vals = df_to_use.quantile([0.25, 0.75]).speed\n",
      "/Users/rsimpson/e-mission-server/emission/analysis/intake/cleaning/cleaning_methods/speed_outlier_detection.py:27: FutureWarning: The default value of numeric_only in DataFrame.quantile is deprecated. In a future version, it will default to False. Select only valid columns or specify the value of numeric_only to silence this warning.\n",
      "  quartile_vals = df_to_use.quantile([0.25, 0.75]).speed\n",
      "/Users/rsimpson/e-mission-server/emission/analysis/intake/cleaning/cleaning_methods/speed_outlier_detection.py:27: FutureWarning: The default value of numeric_only in DataFrame.quantile is deprecated. In a future version, it will default to False. Select only valid columns or specify the value of numeric_only to silence this warning.\n",
      "  quartile_vals = df_to_use.quantile([0.25, 0.75]).speed\n",
      "/Users/rsimpson/e-mission-server/emission/analysis/intake/cleaning/cleaning_methods/speed_outlier_detection.py:27: FutureWarning: The default value of numeric_only in DataFrame.quantile is deprecated. In a future version, it will default to False. Select only valid columns or specify the value of numeric_only to silence this warning.\n",
      "  quartile_vals = df_to_use.quantile([0.25, 0.75]).speed\n",
      "/Users/rsimpson/e-mission-server/emission/analysis/intake/cleaning/cleaning_methods/speed_outlier_detection.py:27: FutureWarning: The default value of numeric_only in DataFrame.quantile is deprecated. In a future version, it will default to False. Select only valid columns or specify the value of numeric_only to silence this warning.\n",
      "  quartile_vals = df_to_use.quantile([0.25, 0.75]).speed\n",
      "/Users/rsimpson/e-mission-server/emission/analysis/intake/cleaning/cleaning_methods/speed_outlier_detection.py:27: FutureWarning: The default value of numeric_only in DataFrame.quantile is deprecated. In a future version, it will default to False. Select only valid columns or specify the value of numeric_only to silence this warning.\n",
      "  quartile_vals = df_to_use.quantile([0.25, 0.75]).speed\n",
      "/Users/rsimpson/e-mission-server/emission/analysis/intake/cleaning/cleaning_methods/speed_outlier_detection.py:27: FutureWarning: The default value of numeric_only in DataFrame.quantile is deprecated. In a future version, it will default to False. Select only valid columns or specify the value of numeric_only to silence this warning.\n",
      "  quartile_vals = df_to_use.quantile([0.25, 0.75]).speed\n",
      "/Users/rsimpson/e-mission-server/emission/analysis/intake/cleaning/cleaning_methods/speed_outlier_detection.py:27: FutureWarning: The default value of numeric_only in DataFrame.quantile is deprecated. In a future version, it will default to False. Select only valid columns or specify the value of numeric_only to silence this warning.\n",
      "  quartile_vals = df_to_use.quantile([0.25, 0.75]).speed\n",
      "/Users/rsimpson/e-mission-server/emission/analysis/intake/cleaning/cleaning_methods/speed_outlier_detection.py:27: FutureWarning: The default value of numeric_only in DataFrame.quantile is deprecated. In a future version, it will default to False. Select only valid columns or specify the value of numeric_only to silence this warning.\n",
      "  quartile_vals = df_to_use.quantile([0.25, 0.75]).speed\n",
      "/Users/rsimpson/e-mission-server/emission/analysis/intake/cleaning/cleaning_methods/speed_outlier_detection.py:27: FutureWarning: The default value of numeric_only in DataFrame.quantile is deprecated. In a future version, it will default to False. Select only valid columns or specify the value of numeric_only to silence this warning.\n",
      "  quartile_vals = df_to_use.quantile([0.25, 0.75]).speed\n",
      "/Users/rsimpson/e-mission-server/emission/analysis/intake/cleaning/cleaning_methods/speed_outlier_detection.py:27: FutureWarning: The default value of numeric_only in DataFrame.quantile is deprecated. In a future version, it will default to False. Select only valid columns or specify the value of numeric_only to silence this warning.\n",
      "  quartile_vals = df_to_use.quantile([0.25, 0.75]).speed\n",
      "/Users/rsimpson/e-mission-server/emission/analysis/intake/cleaning/cleaning_methods/speed_outlier_detection.py:27: FutureWarning: The default value of numeric_only in DataFrame.quantile is deprecated. In a future version, it will default to False. Select only valid columns or specify the value of numeric_only to silence this warning.\n",
      "  quartile_vals = df_to_use.quantile([0.25, 0.75]).speed\n",
      "/Users/rsimpson/e-mission-server/emission/analysis/intake/cleaning/cleaning_methods/speed_outlier_detection.py:27: FutureWarning: The default value of numeric_only in DataFrame.quantile is deprecated. In a future version, it will default to False. Select only valid columns or specify the value of numeric_only to silence this warning.\n",
      "  quartile_vals = df_to_use.quantile([0.25, 0.75]).speed\n",
      "/Users/rsimpson/e-mission-server/emission/analysis/intake/cleaning/cleaning_methods/speed_outlier_detection.py:27: FutureWarning: The default value of numeric_only in DataFrame.quantile is deprecated. In a future version, it will default to False. Select only valid columns or specify the value of numeric_only to silence this warning.\n",
      "  quartile_vals = df_to_use.quantile([0.25, 0.75]).speed\n",
      "/Users/rsimpson/e-mission-server/emission/analysis/intake/cleaning/cleaning_methods/speed_outlier_detection.py:27: FutureWarning: The default value of numeric_only in DataFrame.quantile is deprecated. In a future version, it will default to False. Select only valid columns or specify the value of numeric_only to silence this warning.\n",
      "  quartile_vals = df_to_use.quantile([0.25, 0.75]).speed\n",
      "/Users/rsimpson/e-mission-server/emission/analysis/intake/cleaning/cleaning_methods/speed_outlier_detection.py:27: FutureWarning: The default value of numeric_only in DataFrame.quantile is deprecated. In a future version, it will default to False. Select only valid columns or specify the value of numeric_only to silence this warning.\n",
      "  quartile_vals = df_to_use.quantile([0.25, 0.75]).speed\n",
      "/Users/rsimpson/e-mission-server/emission/analysis/intake/cleaning/cleaning_methods/speed_outlier_detection.py:27: FutureWarning: The default value of numeric_only in DataFrame.quantile is deprecated. In a future version, it will default to False. Select only valid columns or specify the value of numeric_only to silence this warning.\n",
      "  quartile_vals = df_to_use.quantile([0.25, 0.75]).speed\n",
      "/Users/rsimpson/e-mission-server/emission/analysis/intake/cleaning/cleaning_methods/speed_outlier_detection.py:27: FutureWarning: The default value of numeric_only in DataFrame.quantile is deprecated. In a future version, it will default to False. Select only valid columns or specify the value of numeric_only to silence this warning.\n",
      "  quartile_vals = df_to_use.quantile([0.25, 0.75]).speed\n",
      "/Users/rsimpson/e-mission-server/emission/analysis/intake/cleaning/cleaning_methods/speed_outlier_detection.py:27: FutureWarning: The default value of numeric_only in DataFrame.quantile is deprecated. In a future version, it will default to False. Select only valid columns or specify the value of numeric_only to silence this warning.\n",
      "  quartile_vals = df_to_use.quantile([0.25, 0.75]).speed\n",
      "/Users/rsimpson/e-mission-server/emission/analysis/intake/cleaning/cleaning_methods/speed_outlier_detection.py:27: FutureWarning: The default value of numeric_only in DataFrame.quantile is deprecated. In a future version, it will default to False. Select only valid columns or specify the value of numeric_only to silence this warning.\n",
      "  quartile_vals = df_to_use.quantile([0.25, 0.75]).speed\n",
      "/Users/rsimpson/e-mission-server/emission/analysis/intake/cleaning/cleaning_methods/speed_outlier_detection.py:27: FutureWarning: The default value of numeric_only in DataFrame.quantile is deprecated. In a future version, it will default to False. Select only valid columns or specify the value of numeric_only to silence this warning.\n",
      "  quartile_vals = df_to_use.quantile([0.25, 0.75]).speed\n",
      "/Users/rsimpson/e-mission-server/emission/analysis/intake/cleaning/cleaning_methods/speed_outlier_detection.py:27: FutureWarning: The default value of numeric_only in DataFrame.quantile is deprecated. In a future version, it will default to False. Select only valid columns or specify the value of numeric_only to silence this warning.\n",
      "  quartile_vals = df_to_use.quantile([0.25, 0.75]).speed\n",
      "/Users/rsimpson/e-mission-server/emission/analysis/intake/cleaning/cleaning_methods/speed_outlier_detection.py:27: FutureWarning: The default value of numeric_only in DataFrame.quantile is deprecated. In a future version, it will default to False. Select only valid columns or specify the value of numeric_only to silence this warning.\n",
      "  quartile_vals = df_to_use.quantile([0.25, 0.75]).speed\n",
      "/Users/rsimpson/e-mission-server/emission/analysis/intake/cleaning/cleaning_methods/speed_outlier_detection.py:27: FutureWarning: The default value of numeric_only in DataFrame.quantile is deprecated. In a future version, it will default to False. Select only valid columns or specify the value of numeric_only to silence this warning.\n",
      "  quartile_vals = df_to_use.quantile([0.25, 0.75]).speed\n",
      "/Users/rsimpson/e-mission-server/emission/analysis/intake/cleaning/cleaning_methods/speed_outlier_detection.py:27: FutureWarning: The default value of numeric_only in DataFrame.quantile is deprecated. In a future version, it will default to False. Select only valid columns or specify the value of numeric_only to silence this warning.\n",
      "  quartile_vals = df_to_use.quantile([0.25, 0.75]).speed\n",
      "/Users/rsimpson/e-mission-server/emission/analysis/intake/cleaning/cleaning_methods/speed_outlier_detection.py:27: FutureWarning: The default value of numeric_only in DataFrame.quantile is deprecated. In a future version, it will default to False. Select only valid columns or specify the value of numeric_only to silence this warning.\n",
      "  quartile_vals = df_to_use.quantile([0.25, 0.75]).speed\n",
      "/Users/rsimpson/e-mission-server/emission/analysis/intake/cleaning/cleaning_methods/speed_outlier_detection.py:27: FutureWarning: The default value of numeric_only in DataFrame.quantile is deprecated. In a future version, it will default to False. Select only valid columns or specify the value of numeric_only to silence this warning.\n",
      "  quartile_vals = df_to_use.quantile([0.25, 0.75]).speed\n",
      "/Users/rsimpson/e-mission-server/emission/analysis/intake/cleaning/cleaning_methods/speed_outlier_detection.py:27: FutureWarning: The default value of numeric_only in DataFrame.quantile is deprecated. In a future version, it will default to False. Select only valid columns or specify the value of numeric_only to silence this warning.\n",
      "  quartile_vals = df_to_use.quantile([0.25, 0.75]).speed\n",
      "/Users/rsimpson/e-mission-server/emission/analysis/intake/cleaning/cleaning_methods/speed_outlier_detection.py:27: FutureWarning: The default value of numeric_only in DataFrame.quantile is deprecated. In a future version, it will default to False. Select only valid columns or specify the value of numeric_only to silence this warning.\n",
      "  quartile_vals = df_to_use.quantile([0.25, 0.75]).speed\n",
      "/Users/rsimpson/e-mission-server/emission/analysis/intake/cleaning/cleaning_methods/speed_outlier_detection.py:27: FutureWarning: The default value of numeric_only in DataFrame.quantile is deprecated. In a future version, it will default to False. Select only valid columns or specify the value of numeric_only to silence this warning.\n",
      "  quartile_vals = df_to_use.quantile([0.25, 0.75]).speed\n",
      "/Users/rsimpson/e-mission-server/emission/analysis/intake/cleaning/cleaning_methods/speed_outlier_detection.py:27: FutureWarning: The default value of numeric_only in DataFrame.quantile is deprecated. In a future version, it will default to False. Select only valid columns or specify the value of numeric_only to silence this warning.\n",
      "  quartile_vals = df_to_use.quantile([0.25, 0.75]).speed\n",
      "/Users/rsimpson/e-mission-server/emission/analysis/intake/cleaning/cleaning_methods/speed_outlier_detection.py:27: FutureWarning: The default value of numeric_only in DataFrame.quantile is deprecated. In a future version, it will default to False. Select only valid columns or specify the value of numeric_only to silence this warning.\n",
      "  quartile_vals = df_to_use.quantile([0.25, 0.75]).speed\n",
      "2025-02-25T13:12:13.632008-08:00**********UUID 104be783-eaa4-4504-9382-6e825bf044f6: cleaning and resampling timeline**********\n",
      "/Users/rsimpson/e-mission-server/emission/analysis/intake/cleaning/cleaning_methods/speed_outlier_detection.py:27: FutureWarning: The default value of numeric_only in DataFrame.quantile is deprecated. In a future version, it will default to False. Select only valid columns or specify the value of numeric_only to silence this warning.\n",
      "  quartile_vals = df_to_use.quantile([0.25, 0.75]).speed\n",
      "/Users/rsimpson/e-mission-server/emission/analysis/intake/cleaning/cleaning_methods/speed_outlier_detection.py:27: FutureWarning: The default value of numeric_only in DataFrame.quantile is deprecated. In a future version, it will default to False. Select only valid columns or specify the value of numeric_only to silence this warning.\n",
      "  quartile_vals = df_to_use.quantile([0.25, 0.75]).speed\n",
      "/Users/rsimpson/e-mission-server/emission/analysis/intake/cleaning/cleaning_methods/speed_outlier_detection.py:27: FutureWarning: The default value of numeric_only in DataFrame.quantile is deprecated. In a future version, it will default to False. Select only valid columns or specify the value of numeric_only to silence this warning.\n",
      "  quartile_vals = df_to_use.quantile([0.25, 0.75]).speed\n",
      "/Users/rsimpson/e-mission-server/emission/analysis/intake/cleaning/cleaning_methods/speed_outlier_detection.py:27: FutureWarning: The default value of numeric_only in DataFrame.quantile is deprecated. In a future version, it will default to False. Select only valid columns or specify the value of numeric_only to silence this warning.\n",
      "  quartile_vals = df_to_use.quantile([0.25, 0.75]).speed\n",
      "/Users/rsimpson/e-mission-server/emission/analysis/intake/cleaning/cleaning_methods/speed_outlier_detection.py:27: FutureWarning: The default value of numeric_only in DataFrame.quantile is deprecated. In a future version, it will default to False. Select only valid columns or specify the value of numeric_only to silence this warning.\n",
      "  quartile_vals = df_to_use.quantile([0.25, 0.75]).speed\n",
      "/Users/rsimpson/e-mission-server/emission/analysis/intake/cleaning/cleaning_methods/speed_outlier_detection.py:27: FutureWarning: The default value of numeric_only in DataFrame.quantile is deprecated. In a future version, it will default to False. Select only valid columns or specify the value of numeric_only to silence this warning.\n",
      "  quartile_vals = df_to_use.quantile([0.25, 0.75]).speed\n",
      "/Users/rsimpson/e-mission-server/emission/analysis/intake/cleaning/cleaning_methods/speed_outlier_detection.py:27: FutureWarning: The default value of numeric_only in DataFrame.quantile is deprecated. In a future version, it will default to False. Select only valid columns or specify the value of numeric_only to silence this warning.\n",
      "  quartile_vals = df_to_use.quantile([0.25, 0.75]).speed\n",
      "/Users/rsimpson/e-mission-server/emission/analysis/intake/cleaning/cleaning_methods/speed_outlier_detection.py:27: FutureWarning: The default value of numeric_only in DataFrame.quantile is deprecated. In a future version, it will default to False. Select only valid columns or specify the value of numeric_only to silence this warning.\n",
      "  quartile_vals = df_to_use.quantile([0.25, 0.75]).speed\n",
      "/Users/rsimpson/e-mission-server/emission/analysis/intake/cleaning/cleaning_methods/speed_outlier_detection.py:27: FutureWarning: The default value of numeric_only in DataFrame.quantile is deprecated. In a future version, it will default to False. Select only valid columns or specify the value of numeric_only to silence this warning.\n",
      "  quartile_vals = df_to_use.quantile([0.25, 0.75]).speed\n",
      "/Users/rsimpson/e-mission-server/emission/analysis/intake/cleaning/cleaning_methods/speed_outlier_detection.py:27: FutureWarning: The default value of numeric_only in DataFrame.quantile is deprecated. In a future version, it will default to False. Select only valid columns or specify the value of numeric_only to silence this warning.\n",
      "  quartile_vals = df_to_use.quantile([0.25, 0.75]).speed\n",
      "/Users/rsimpson/e-mission-server/emission/analysis/intake/cleaning/cleaning_methods/speed_outlier_detection.py:27: FutureWarning: The default value of numeric_only in DataFrame.quantile is deprecated. In a future version, it will default to False. Select only valid columns or specify the value of numeric_only to silence this warning.\n",
      "  quartile_vals = df_to_use.quantile([0.25, 0.75]).speed\n",
      "/Users/rsimpson/e-mission-server/emission/analysis/intake/cleaning/cleaning_methods/speed_outlier_detection.py:27: FutureWarning: The default value of numeric_only in DataFrame.quantile is deprecated. In a future version, it will default to False. Select only valid columns or specify the value of numeric_only to silence this warning.\n",
      "  quartile_vals = df_to_use.quantile([0.25, 0.75]).speed\n",
      "/Users/rsimpson/e-mission-server/emission/analysis/intake/cleaning/cleaning_methods/speed_outlier_detection.py:27: FutureWarning: The default value of numeric_only in DataFrame.quantile is deprecated. In a future version, it will default to False. Select only valid columns or specify the value of numeric_only to silence this warning.\n",
      "  quartile_vals = df_to_use.quantile([0.25, 0.75]).speed\n",
      "/Users/rsimpson/e-mission-server/emission/analysis/intake/cleaning/cleaning_methods/speed_outlier_detection.py:27: FutureWarning: The default value of numeric_only in DataFrame.quantile is deprecated. In a future version, it will default to False. Select only valid columns or specify the value of numeric_only to silence this warning.\n",
      "  quartile_vals = df_to_use.quantile([0.25, 0.75]).speed\n",
      "/Users/rsimpson/e-mission-server/emission/analysis/intake/cleaning/cleaning_methods/speed_outlier_detection.py:27: FutureWarning: The default value of numeric_only in DataFrame.quantile is deprecated. In a future version, it will default to False. Select only valid columns or specify the value of numeric_only to silence this warning.\n",
      "  quartile_vals = df_to_use.quantile([0.25, 0.75]).speed\n",
      "/Users/rsimpson/e-mission-server/emission/analysis/intake/cleaning/cleaning_methods/speed_outlier_detection.py:27: FutureWarning: The default value of numeric_only in DataFrame.quantile is deprecated. In a future version, it will default to False. Select only valid columns or specify the value of numeric_only to silence this warning.\n",
      "  quartile_vals = df_to_use.quantile([0.25, 0.75]).speed\n",
      "/Users/rsimpson/e-mission-server/emission/analysis/intake/cleaning/cleaning_methods/speed_outlier_detection.py:27: FutureWarning: The default value of numeric_only in DataFrame.quantile is deprecated. In a future version, it will default to False. Select only valid columns or specify the value of numeric_only to silence this warning.\n",
      "  quartile_vals = df_to_use.quantile([0.25, 0.75]).speed\n",
      "/Users/rsimpson/e-mission-server/emission/analysis/intake/cleaning/cleaning_methods/speed_outlier_detection.py:27: FutureWarning: The default value of numeric_only in DataFrame.quantile is deprecated. In a future version, it will default to False. Select only valid columns or specify the value of numeric_only to silence this warning.\n",
      "  quartile_vals = df_to_use.quantile([0.25, 0.75]).speed\n",
      "/Users/rsimpson/e-mission-server/emission/analysis/intake/cleaning/cleaning_methods/speed_outlier_detection.py:27: FutureWarning: The default value of numeric_only in DataFrame.quantile is deprecated. In a future version, it will default to False. Select only valid columns or specify the value of numeric_only to silence this warning.\n",
      "  quartile_vals = df_to_use.quantile([0.25, 0.75]).speed\n",
      "2025-02-25T13:12:19.380045-08:00**********UUID 104be783-eaa4-4504-9382-6e825bf044f6: inferring transportation mode**********\n",
      "2025-02-25T13:12:47.749211-08:00**********UUID 104be783-eaa4-4504-9382-6e825bf044f6: inferring labels**********\n",
      "2025-02-25T13:12:47.852160-08:00**********UUID 104be783-eaa4-4504-9382-6e825bf044f6: populating expectations**********\n",
      "2025-02-25T13:12:47.903837-08:00**********UUID 104be783-eaa4-4504-9382-6e825bf044f6: creating confirmed objects **********\n",
      "2025-02-25T13:12:51.566714-08:00**********UUID 104be783-eaa4-4504-9382-6e825bf044f6: creating composite objects **********\n",
      "2025-02-25T13:12:52.728315-08:00**********UUID 104be783-eaa4-4504-9382-6e825bf044f6: storing user stats **********\n",
      "Ran pipeline on sect_opt, TimeQuery data.ts with range [1740517903.8663223, 1740517973.3344388)\n",
      "Switching back to sect_opt\n",
      "Already on 'sect_opt'\n",
      "Checking out master to measure pipeline runtime\n",
      "Switched to branch 'master'\n",
      "Your branch is ahead of 'origin/master' by 2 commits.\n",
      "  (use \"git push\" to publish your local commits)\n",
      "Config file not found, returning a copy of the environment variables instead...\n",
      "Retrieved config: {'DB_HOST': None, 'DB_RESULT_LIMIT': None}\n",
      "URL not formatted, defaulting to \"Stage_database\"\n",
      "Connecting to database URL localhost\n",
      "Namespace(all=True, platform=None, user_list=None, email_list=None, date=None, dry_run=False)\n",
      "INFO:root:About to delete 2072 analysis results\n",
      "INFO:root:About to delete entries with keys ['analysis/cleaned_place', 'analysis/cleaned_section', 'analysis/cleaned_stop', 'analysis/cleaned_trip', 'analysis/composite_trip', 'analysis/confirmed_place', 'analysis/confirmed_trip', 'analysis/expected_trip', 'analysis/inferred_labels', 'analysis/inferred_section', 'analysis/inferred_trip', 'analysis/recreated_location', 'analysis/smoothing', 'inference/labels', 'inference/prediction', 'segmentation/raw_place', 'segmentation/raw_section', 'segmentation/raw_stop', 'segmentation/raw_trip']\n",
      "INFO:root:About to delete 11 pipeline states\n",
      "INFO:root:this is not a dry run, result of removing analysis objects = <pymongo.results.DeleteResult object at 0x18087ee80>\n",
      "INFO:root:this is not a dry run, result of removing pipeline states = <pymongo.results.DeleteResult object at 0x18087ec40>\n",
      "Config file not found, returning a copy of the environment variables instead...\n",
      "Retrieved config: {'DB_HOST': None, 'DB_RESULT_LIMIT': None}\n",
      "URL not formatted, defaulting to \"Stage_database\"\n",
      "Connecting to database URL localhost\n",
      "emission/tests/data/real_examples/shankari_2016-07-27\n",
      "Loading file emission/tests/data/real_examples/shankari_2016-07-27\n",
      "After registration, nrelop_dev-emulator-study_0 -> 104be783-eaa4-4504-9382-6e825bf044f6\n",
      "Finished loading 0 entries into the usercache and 3580 entries into the timeseries\n",
      "Config file not found, returning a copy of the environment variables instead...\n",
      "Retrieved config: {'DB_HOST': None, 'DB_RESULT_LIMIT': None}\n",
      "URL not formatted, defaulting to \"Stage_database\"\n",
      "Connecting to database URL localhost\n",
      "Trying to open debug.conf.json\n",
      "analysis.debug.conf.json not configured, falling back to sample, default configuration\n",
      "INFO:root:NOMINATIM_QUERY_URL: None\n",
      "Nominatim Query URL Configured: None\n",
      "Nominatim URL not configured, place decoding must happen on the client\n",
      "overpass not configured, falling back to public overpass api\n",
      "transit stops query not configured, falling back to default\n",
      "The Zen of Python, by Tim Peters\n",
      "\n",
      "Beautiful is better than ugly.\n",
      "Explicit is better than implicit.\n",
      "Simple is better than complex.\n",
      "Complex is better than complicated.\n",
      "Flat is better than nested.\n",
      "Sparse is better than dense.\n",
      "Readability counts.\n",
      "Special cases aren't special enough to break the rules.\n",
      "Although practicality beats purity.\n",
      "Errors should never pass silently.\n",
      "Unless explicitly silenced.\n",
      "In the face of ambiguity, refuse the temptation to guess.\n",
      "There should be one-- and preferably only one --obvious way to do it.\n",
      "Although that way may not be obvious at first unless you're Dutch.\n",
      "Now is better than never.\n",
      "Although never is often better than *right* now.\n",
      "If the implementation is hard to explain, it's a bad idea.\n",
      "If the implementation is easy to explain, it may be a good idea.\n",
      "Namespaces are one honking great idea -- let's do more of those!\n",
      "analysis.trip_model.conf.json not configured, falling back to sample, default configuration\n",
      "expectations.conf.json not configured, falling back to sample, default configuration\n",
      "ERROR:root:habitica not configured, game functions not supported\n",
      "Traceback (most recent call last):\n",
      "  File \"/Users/rsimpson/e-mission-server/emission/net/ext_service/habitica/proxy.py\", line 22, in <module>\n",
      "    key_file = open('conf/net/ext_service/habitica.json')\n",
      "FileNotFoundError: [Errno 2] No such file or directory: 'conf/net/ext_service/habitica.json'\n",
      "2025-02-25T13:12:59.553910-08:00**********UUID 104be783-eaa4-4504-9382-6e825bf044f6: moving to long term**********\n",
      "New entry count == 0 and skip_if_no_new_data = False, continuing\n",
      "2025-02-25T13:12:59.573171-08:00**********UUID 104be783-eaa4-4504-9382-6e825bf044f6: updating incoming user inputs**********\n",
      "2025-02-25T13:12:59.851827-08:00**********UUID 104be783-eaa4-4504-9382-6e825bf044f6: filter accuracy if needed**********\n",
      "2025-02-25T13:12:59.856919-08:00**********UUID 104be783-eaa4-4504-9382-6e825bf044f6: segmenting into trips**********\n",
      "2025-02-25T13:13:18.368097-08:00**********UUID 104be783-eaa4-4504-9382-6e825bf044f6: segmenting into sections**********\n",
      "/Users/rsimpson/e-mission-server/emission/analysis/intake/segmentation/section_segmentation_methods/flip_flop_detection.py:59: RuntimeWarning: invalid value encountered in scalar divide\n",
      "  sm.update({\"trip_pct\": (curr_section_time * 100)/total_trip_time})\n",
      "/Users/rsimpson/e-mission-server/emission/analysis/intake/segmentation/section_segmentation_methods/flip_flop_detection.py:59: RuntimeWarning: invalid value encountered in scalar divide\n",
      "  sm.update({\"trip_pct\": (curr_section_time * 100)/total_trip_time})\n",
      "2025-02-25T13:13:25.798916-08:00**********UUID 104be783-eaa4-4504-9382-6e825bf044f6: smoothing sections**********\n",
      "/Users/rsimpson/e-mission-server/emission/analysis/intake/cleaning/cleaning_methods/speed_outlier_detection.py:27: FutureWarning: The default value of numeric_only in DataFrame.quantile is deprecated. In a future version, it will default to False. Select only valid columns or specify the value of numeric_only to silence this warning.\n",
      "  quartile_vals = df_to_use.quantile([0.25, 0.75]).speed\n",
      "Caught error after splitting, the segment is not a cluster?! while processing section, skipping...\n",
      "Traceback (most recent call last):\n",
      "  File \"/Users/rsimpson/e-mission-server/emission/analysis/intake/cleaning/location_smoothing.py\", line 195, in get_points_to_filter\n",
      "    filtering_algo.filter(with_speeds_df)\n",
      "  File \"/Users/rsimpson/e-mission-server/emission/analysis/intake/cleaning/cleaning_methods/jump_smoothing.py\", line 251, in filter\n",
      "    self.mark_segment_states(start_segment_idx, SmoothZigzag.Direction.LEFT)\n",
      "  File \"/Users/rsimpson/e-mission-server/emission/analysis/intake/cleaning/cleaning_methods/jump_smoothing.py\", line 224, in mark_segment_states\n",
      "    assert curr_seg.is_cluster, \"after splitting, the segment is not a cluster?!\"\n",
      "AssertionError: after splitting, the segment is not a cluster?!\n",
      "/Users/rsimpson/e-mission-server/emission/analysis/intake/cleaning/cleaning_methods/speed_outlier_detection.py:27: FutureWarning: The default value of numeric_only in DataFrame.quantile is deprecated. In a future version, it will default to False. Select only valid columns or specify the value of numeric_only to silence this warning.\n",
      "  quartile_vals = df_to_use.quantile([0.25, 0.75]).speed\n",
      "/Users/rsimpson/e-mission-server/emission/analysis/intake/cleaning/cleaning_methods/speed_outlier_detection.py:27: FutureWarning: The default value of numeric_only in DataFrame.quantile is deprecated. In a future version, it will default to False. Select only valid columns or specify the value of numeric_only to silence this warning.\n",
      "  quartile_vals = df_to_use.quantile([0.25, 0.75]).speed\n",
      "/Users/rsimpson/e-mission-server/emission/analysis/intake/cleaning/cleaning_methods/speed_outlier_detection.py:27: FutureWarning: The default value of numeric_only in DataFrame.quantile is deprecated. In a future version, it will default to False. Select only valid columns or specify the value of numeric_only to silence this warning.\n",
      "  quartile_vals = df_to_use.quantile([0.25, 0.75]).speed\n",
      "/Users/rsimpson/e-mission-server/emission/analysis/intake/cleaning/cleaning_methods/speed_outlier_detection.py:27: FutureWarning: The default value of numeric_only in DataFrame.quantile is deprecated. In a future version, it will default to False. Select only valid columns or specify the value of numeric_only to silence this warning.\n",
      "  quartile_vals = df_to_use.quantile([0.25, 0.75]).speed\n",
      "/Users/rsimpson/e-mission-server/emission/analysis/intake/cleaning/cleaning_methods/speed_outlier_detection.py:27: FutureWarning: The default value of numeric_only in DataFrame.quantile is deprecated. In a future version, it will default to False. Select only valid columns or specify the value of numeric_only to silence this warning.\n",
      "  quartile_vals = df_to_use.quantile([0.25, 0.75]).speed\n",
      "/Users/rsimpson/e-mission-server/emission/analysis/intake/cleaning/cleaning_methods/speed_outlier_detection.py:27: FutureWarning: The default value of numeric_only in DataFrame.quantile is deprecated. In a future version, it will default to False. Select only valid columns or specify the value of numeric_only to silence this warning.\n",
      "  quartile_vals = df_to_use.quantile([0.25, 0.75]).speed\n",
      "/Users/rsimpson/e-mission-server/emission/analysis/intake/cleaning/cleaning_methods/speed_outlier_detection.py:27: FutureWarning: The default value of numeric_only in DataFrame.quantile is deprecated. In a future version, it will default to False. Select only valid columns or specify the value of numeric_only to silence this warning.\n",
      "  quartile_vals = df_to_use.quantile([0.25, 0.75]).speed\n",
      "/Users/rsimpson/e-mission-server/emission/analysis/intake/cleaning/cleaning_methods/speed_outlier_detection.py:27: FutureWarning: The default value of numeric_only in DataFrame.quantile is deprecated. In a future version, it will default to False. Select only valid columns or specify the value of numeric_only to silence this warning.\n",
      "  quartile_vals = df_to_use.quantile([0.25, 0.75]).speed\n",
      "/Users/rsimpson/e-mission-server/emission/analysis/intake/cleaning/cleaning_methods/speed_outlier_detection.py:27: FutureWarning: The default value of numeric_only in DataFrame.quantile is deprecated. In a future version, it will default to False. Select only valid columns or specify the value of numeric_only to silence this warning.\n",
      "  quartile_vals = df_to_use.quantile([0.25, 0.75]).speed\n",
      "/Users/rsimpson/e-mission-server/emission/analysis/intake/cleaning/cleaning_methods/speed_outlier_detection.py:27: FutureWarning: The default value of numeric_only in DataFrame.quantile is deprecated. In a future version, it will default to False. Select only valid columns or specify the value of numeric_only to silence this warning.\n",
      "  quartile_vals = df_to_use.quantile([0.25, 0.75]).speed\n",
      "/Users/rsimpson/e-mission-server/emission/analysis/intake/cleaning/cleaning_methods/speed_outlier_detection.py:27: FutureWarning: The default value of numeric_only in DataFrame.quantile is deprecated. In a future version, it will default to False. Select only valid columns or specify the value of numeric_only to silence this warning.\n",
      "  quartile_vals = df_to_use.quantile([0.25, 0.75]).speed\n",
      "/Users/rsimpson/e-mission-server/emission/analysis/intake/cleaning/cleaning_methods/speed_outlier_detection.py:27: FutureWarning: The default value of numeric_only in DataFrame.quantile is deprecated. In a future version, it will default to False. Select only valid columns or specify the value of numeric_only to silence this warning.\n",
      "  quartile_vals = df_to_use.quantile([0.25, 0.75]).speed\n",
      "/Users/rsimpson/e-mission-server/emission/analysis/intake/cleaning/cleaning_methods/speed_outlier_detection.py:27: FutureWarning: The default value of numeric_only in DataFrame.quantile is deprecated. In a future version, it will default to False. Select only valid columns or specify the value of numeric_only to silence this warning.\n",
      "  quartile_vals = df_to_use.quantile([0.25, 0.75]).speed\n",
      "/Users/rsimpson/e-mission-server/emission/analysis/intake/cleaning/cleaning_methods/speed_outlier_detection.py:27: FutureWarning: The default value of numeric_only in DataFrame.quantile is deprecated. In a future version, it will default to False. Select only valid columns or specify the value of numeric_only to silence this warning.\n",
      "  quartile_vals = df_to_use.quantile([0.25, 0.75]).speed\n",
      "/Users/rsimpson/e-mission-server/emission/analysis/intake/cleaning/cleaning_methods/speed_outlier_detection.py:27: FutureWarning: The default value of numeric_only in DataFrame.quantile is deprecated. In a future version, it will default to False. Select only valid columns or specify the value of numeric_only to silence this warning.\n",
      "  quartile_vals = df_to_use.quantile([0.25, 0.75]).speed\n",
      "/Users/rsimpson/e-mission-server/emission/analysis/intake/cleaning/cleaning_methods/speed_outlier_detection.py:27: FutureWarning: The default value of numeric_only in DataFrame.quantile is deprecated. In a future version, it will default to False. Select only valid columns or specify the value of numeric_only to silence this warning.\n",
      "  quartile_vals = df_to_use.quantile([0.25, 0.75]).speed\n",
      "/Users/rsimpson/e-mission-server/emission/analysis/intake/cleaning/cleaning_methods/speed_outlier_detection.py:27: FutureWarning: The default value of numeric_only in DataFrame.quantile is deprecated. In a future version, it will default to False. Select only valid columns or specify the value of numeric_only to silence this warning.\n",
      "  quartile_vals = df_to_use.quantile([0.25, 0.75]).speed\n",
      "/Users/rsimpson/e-mission-server/emission/analysis/intake/cleaning/cleaning_methods/speed_outlier_detection.py:27: FutureWarning: The default value of numeric_only in DataFrame.quantile is deprecated. In a future version, it will default to False. Select only valid columns or specify the value of numeric_only to silence this warning.\n",
      "  quartile_vals = df_to_use.quantile([0.25, 0.75]).speed\n",
      "/Users/rsimpson/e-mission-server/emission/analysis/intake/cleaning/cleaning_methods/speed_outlier_detection.py:27: FutureWarning: The default value of numeric_only in DataFrame.quantile is deprecated. In a future version, it will default to False. Select only valid columns or specify the value of numeric_only to silence this warning.\n",
      "  quartile_vals = df_to_use.quantile([0.25, 0.75]).speed\n",
      "/Users/rsimpson/e-mission-server/emission/analysis/intake/cleaning/cleaning_methods/speed_outlier_detection.py:27: FutureWarning: The default value of numeric_only in DataFrame.quantile is deprecated. In a future version, it will default to False. Select only valid columns or specify the value of numeric_only to silence this warning.\n",
      "  quartile_vals = df_to_use.quantile([0.25, 0.75]).speed\n",
      "/Users/rsimpson/e-mission-server/emission/analysis/intake/cleaning/cleaning_methods/speed_outlier_detection.py:27: FutureWarning: The default value of numeric_only in DataFrame.quantile is deprecated. In a future version, it will default to False. Select only valid columns or specify the value of numeric_only to silence this warning.\n",
      "  quartile_vals = df_to_use.quantile([0.25, 0.75]).speed\n",
      "/Users/rsimpson/e-mission-server/emission/analysis/intake/cleaning/cleaning_methods/speed_outlier_detection.py:27: FutureWarning: The default value of numeric_only in DataFrame.quantile is deprecated. In a future version, it will default to False. Select only valid columns or specify the value of numeric_only to silence this warning.\n",
      "  quartile_vals = df_to_use.quantile([0.25, 0.75]).speed\n",
      "/Users/rsimpson/e-mission-server/emission/analysis/intake/cleaning/cleaning_methods/speed_outlier_detection.py:27: FutureWarning: The default value of numeric_only in DataFrame.quantile is deprecated. In a future version, it will default to False. Select only valid columns or specify the value of numeric_only to silence this warning.\n",
      "  quartile_vals = df_to_use.quantile([0.25, 0.75]).speed\n",
      "/Users/rsimpson/e-mission-server/emission/analysis/intake/cleaning/cleaning_methods/speed_outlier_detection.py:27: FutureWarning: The default value of numeric_only in DataFrame.quantile is deprecated. In a future version, it will default to False. Select only valid columns or specify the value of numeric_only to silence this warning.\n",
      "  quartile_vals = df_to_use.quantile([0.25, 0.75]).speed\n",
      "/Users/rsimpson/e-mission-server/emission/analysis/intake/cleaning/cleaning_methods/speed_outlier_detection.py:27: FutureWarning: The default value of numeric_only in DataFrame.quantile is deprecated. In a future version, it will default to False. Select only valid columns or specify the value of numeric_only to silence this warning.\n",
      "  quartile_vals = df_to_use.quantile([0.25, 0.75]).speed\n",
      "/Users/rsimpson/e-mission-server/emission/analysis/intake/cleaning/cleaning_methods/speed_outlier_detection.py:27: FutureWarning: The default value of numeric_only in DataFrame.quantile is deprecated. In a future version, it will default to False. Select only valid columns or specify the value of numeric_only to silence this warning.\n",
      "  quartile_vals = df_to_use.quantile([0.25, 0.75]).speed\n",
      "/Users/rsimpson/e-mission-server/emission/analysis/intake/cleaning/cleaning_methods/speed_outlier_detection.py:27: FutureWarning: The default value of numeric_only in DataFrame.quantile is deprecated. In a future version, it will default to False. Select only valid columns or specify the value of numeric_only to silence this warning.\n",
      "  quartile_vals = df_to_use.quantile([0.25, 0.75]).speed\n",
      "/Users/rsimpson/e-mission-server/emission/analysis/intake/cleaning/cleaning_methods/speed_outlier_detection.py:27: FutureWarning: The default value of numeric_only in DataFrame.quantile is deprecated. In a future version, it will default to False. Select only valid columns or specify the value of numeric_only to silence this warning.\n",
      "  quartile_vals = df_to_use.quantile([0.25, 0.75]).speed\n",
      "/Users/rsimpson/e-mission-server/emission/analysis/intake/cleaning/cleaning_methods/speed_outlier_detection.py:27: FutureWarning: The default value of numeric_only in DataFrame.quantile is deprecated. In a future version, it will default to False. Select only valid columns or specify the value of numeric_only to silence this warning.\n",
      "  quartile_vals = df_to_use.quantile([0.25, 0.75]).speed\n",
      "/Users/rsimpson/e-mission-server/emission/analysis/intake/cleaning/cleaning_methods/speed_outlier_detection.py:27: FutureWarning: The default value of numeric_only in DataFrame.quantile is deprecated. In a future version, it will default to False. Select only valid columns or specify the value of numeric_only to silence this warning.\n",
      "  quartile_vals = df_to_use.quantile([0.25, 0.75]).speed\n",
      "/Users/rsimpson/e-mission-server/emission/analysis/intake/cleaning/cleaning_methods/speed_outlier_detection.py:27: FutureWarning: The default value of numeric_only in DataFrame.quantile is deprecated. In a future version, it will default to False. Select only valid columns or specify the value of numeric_only to silence this warning.\n",
      "  quartile_vals = df_to_use.quantile([0.25, 0.75]).speed\n",
      "/Users/rsimpson/e-mission-server/emission/analysis/intake/cleaning/cleaning_methods/speed_outlier_detection.py:27: FutureWarning: The default value of numeric_only in DataFrame.quantile is deprecated. In a future version, it will default to False. Select only valid columns or specify the value of numeric_only to silence this warning.\n",
      "  quartile_vals = df_to_use.quantile([0.25, 0.75]).speed\n",
      "/Users/rsimpson/e-mission-server/emission/analysis/intake/cleaning/cleaning_methods/speed_outlier_detection.py:27: FutureWarning: The default value of numeric_only in DataFrame.quantile is deprecated. In a future version, it will default to False. Select only valid columns or specify the value of numeric_only to silence this warning.\n",
      "  quartile_vals = df_to_use.quantile([0.25, 0.75]).speed\n",
      "/Users/rsimpson/e-mission-server/emission/analysis/intake/cleaning/cleaning_methods/speed_outlier_detection.py:27: FutureWarning: The default value of numeric_only in DataFrame.quantile is deprecated. In a future version, it will default to False. Select only valid columns or specify the value of numeric_only to silence this warning.\n",
      "  quartile_vals = df_to_use.quantile([0.25, 0.75]).speed\n",
      "/Users/rsimpson/e-mission-server/emission/analysis/intake/cleaning/cleaning_methods/speed_outlier_detection.py:27: FutureWarning: The default value of numeric_only in DataFrame.quantile is deprecated. In a future version, it will default to False. Select only valid columns or specify the value of numeric_only to silence this warning.\n",
      "  quartile_vals = df_to_use.quantile([0.25, 0.75]).speed\n",
      "/Users/rsimpson/e-mission-server/emission/analysis/intake/cleaning/cleaning_methods/speed_outlier_detection.py:27: FutureWarning: The default value of numeric_only in DataFrame.quantile is deprecated. In a future version, it will default to False. Select only valid columns or specify the value of numeric_only to silence this warning.\n",
      "  quartile_vals = df_to_use.quantile([0.25, 0.75]).speed\n",
      "/Users/rsimpson/e-mission-server/emission/analysis/intake/cleaning/cleaning_methods/speed_outlier_detection.py:27: FutureWarning: The default value of numeric_only in DataFrame.quantile is deprecated. In a future version, it will default to False. Select only valid columns or specify the value of numeric_only to silence this warning.\n",
      "  quartile_vals = df_to_use.quantile([0.25, 0.75]).speed\n",
      "/Users/rsimpson/e-mission-server/emission/analysis/intake/cleaning/cleaning_methods/speed_outlier_detection.py:27: FutureWarning: The default value of numeric_only in DataFrame.quantile is deprecated. In a future version, it will default to False. Select only valid columns or specify the value of numeric_only to silence this warning.\n",
      "  quartile_vals = df_to_use.quantile([0.25, 0.75]).speed\n",
      "/Users/rsimpson/e-mission-server/emission/analysis/intake/cleaning/cleaning_methods/speed_outlier_detection.py:27: FutureWarning: The default value of numeric_only in DataFrame.quantile is deprecated. In a future version, it will default to False. Select only valid columns or specify the value of numeric_only to silence this warning.\n",
      "  quartile_vals = df_to_use.quantile([0.25, 0.75]).speed\n",
      "2025-02-25T13:13:27.966473-08:00**********UUID 104be783-eaa4-4504-9382-6e825bf044f6: cleaning and resampling timeline**********\n",
      "/Users/rsimpson/e-mission-server/emission/analysis/intake/cleaning/cleaning_methods/speed_outlier_detection.py:27: FutureWarning: The default value of numeric_only in DataFrame.quantile is deprecated. In a future version, it will default to False. Select only valid columns or specify the value of numeric_only to silence this warning.\n",
      "  quartile_vals = df_to_use.quantile([0.25, 0.75]).speed\n",
      "/Users/rsimpson/e-mission-server/emission/analysis/intake/cleaning/cleaning_methods/speed_outlier_detection.py:27: FutureWarning: The default value of numeric_only in DataFrame.quantile is deprecated. In a future version, it will default to False. Select only valid columns or specify the value of numeric_only to silence this warning.\n",
      "  quartile_vals = df_to_use.quantile([0.25, 0.75]).speed\n",
      "/Users/rsimpson/e-mission-server/emission/analysis/intake/cleaning/cleaning_methods/speed_outlier_detection.py:27: FutureWarning: The default value of numeric_only in DataFrame.quantile is deprecated. In a future version, it will default to False. Select only valid columns or specify the value of numeric_only to silence this warning.\n",
      "  quartile_vals = df_to_use.quantile([0.25, 0.75]).speed\n",
      "/Users/rsimpson/e-mission-server/emission/analysis/intake/cleaning/cleaning_methods/speed_outlier_detection.py:27: FutureWarning: The default value of numeric_only in DataFrame.quantile is deprecated. In a future version, it will default to False. Select only valid columns or specify the value of numeric_only to silence this warning.\n",
      "  quartile_vals = df_to_use.quantile([0.25, 0.75]).speed\n",
      "/Users/rsimpson/e-mission-server/emission/analysis/intake/cleaning/cleaning_methods/speed_outlier_detection.py:27: FutureWarning: The default value of numeric_only in DataFrame.quantile is deprecated. In a future version, it will default to False. Select only valid columns or specify the value of numeric_only to silence this warning.\n",
      "  quartile_vals = df_to_use.quantile([0.25, 0.75]).speed\n",
      "/Users/rsimpson/e-mission-server/emission/analysis/intake/cleaning/cleaning_methods/speed_outlier_detection.py:27: FutureWarning: The default value of numeric_only in DataFrame.quantile is deprecated. In a future version, it will default to False. Select only valid columns or specify the value of numeric_only to silence this warning.\n",
      "  quartile_vals = df_to_use.quantile([0.25, 0.75]).speed\n",
      "/Users/rsimpson/e-mission-server/emission/analysis/intake/cleaning/cleaning_methods/speed_outlier_detection.py:27: FutureWarning: The default value of numeric_only in DataFrame.quantile is deprecated. In a future version, it will default to False. Select only valid columns or specify the value of numeric_only to silence this warning.\n",
      "  quartile_vals = df_to_use.quantile([0.25, 0.75]).speed\n",
      "/Users/rsimpson/e-mission-server/emission/analysis/intake/cleaning/cleaning_methods/speed_outlier_detection.py:27: FutureWarning: The default value of numeric_only in DataFrame.quantile is deprecated. In a future version, it will default to False. Select only valid columns or specify the value of numeric_only to silence this warning.\n",
      "  quartile_vals = df_to_use.quantile([0.25, 0.75]).speed\n",
      "/Users/rsimpson/e-mission-server/emission/analysis/intake/cleaning/cleaning_methods/speed_outlier_detection.py:27: FutureWarning: The default value of numeric_only in DataFrame.quantile is deprecated. In a future version, it will default to False. Select only valid columns or specify the value of numeric_only to silence this warning.\n",
      "  quartile_vals = df_to_use.quantile([0.25, 0.75]).speed\n",
      "/Users/rsimpson/e-mission-server/emission/analysis/intake/cleaning/cleaning_methods/speed_outlier_detection.py:27: FutureWarning: The default value of numeric_only in DataFrame.quantile is deprecated. In a future version, it will default to False. Select only valid columns or specify the value of numeric_only to silence this warning.\n",
      "  quartile_vals = df_to_use.quantile([0.25, 0.75]).speed\n",
      "/Users/rsimpson/e-mission-server/emission/analysis/intake/cleaning/cleaning_methods/speed_outlier_detection.py:27: FutureWarning: The default value of numeric_only in DataFrame.quantile is deprecated. In a future version, it will default to False. Select only valid columns or specify the value of numeric_only to silence this warning.\n",
      "  quartile_vals = df_to_use.quantile([0.25, 0.75]).speed\n",
      "/Users/rsimpson/e-mission-server/emission/analysis/intake/cleaning/cleaning_methods/speed_outlier_detection.py:27: FutureWarning: The default value of numeric_only in DataFrame.quantile is deprecated. In a future version, it will default to False. Select only valid columns or specify the value of numeric_only to silence this warning.\n",
      "  quartile_vals = df_to_use.quantile([0.25, 0.75]).speed\n",
      "/Users/rsimpson/e-mission-server/emission/analysis/intake/cleaning/cleaning_methods/speed_outlier_detection.py:27: FutureWarning: The default value of numeric_only in DataFrame.quantile is deprecated. In a future version, it will default to False. Select only valid columns or specify the value of numeric_only to silence this warning.\n",
      "  quartile_vals = df_to_use.quantile([0.25, 0.75]).speed\n",
      "/Users/rsimpson/e-mission-server/emission/analysis/intake/cleaning/cleaning_methods/speed_outlier_detection.py:27: FutureWarning: The default value of numeric_only in DataFrame.quantile is deprecated. In a future version, it will default to False. Select only valid columns or specify the value of numeric_only to silence this warning.\n",
      "  quartile_vals = df_to_use.quantile([0.25, 0.75]).speed\n",
      "/Users/rsimpson/e-mission-server/emission/analysis/intake/cleaning/cleaning_methods/speed_outlier_detection.py:27: FutureWarning: The default value of numeric_only in DataFrame.quantile is deprecated. In a future version, it will default to False. Select only valid columns or specify the value of numeric_only to silence this warning.\n",
      "  quartile_vals = df_to_use.quantile([0.25, 0.75]).speed\n",
      "/Users/rsimpson/e-mission-server/emission/analysis/intake/cleaning/cleaning_methods/speed_outlier_detection.py:27: FutureWarning: The default value of numeric_only in DataFrame.quantile is deprecated. In a future version, it will default to False. Select only valid columns or specify the value of numeric_only to silence this warning.\n",
      "  quartile_vals = df_to_use.quantile([0.25, 0.75]).speed\n",
      "/Users/rsimpson/e-mission-server/emission/analysis/intake/cleaning/cleaning_methods/speed_outlier_detection.py:27: FutureWarning: The default value of numeric_only in DataFrame.quantile is deprecated. In a future version, it will default to False. Select only valid columns or specify the value of numeric_only to silence this warning.\n",
      "  quartile_vals = df_to_use.quantile([0.25, 0.75]).speed\n",
      "/Users/rsimpson/e-mission-server/emission/analysis/intake/cleaning/cleaning_methods/speed_outlier_detection.py:27: FutureWarning: The default value of numeric_only in DataFrame.quantile is deprecated. In a future version, it will default to False. Select only valid columns or specify the value of numeric_only to silence this warning.\n",
      "  quartile_vals = df_to_use.quantile([0.25, 0.75]).speed\n",
      "/Users/rsimpson/e-mission-server/emission/analysis/intake/cleaning/cleaning_methods/speed_outlier_detection.py:27: FutureWarning: The default value of numeric_only in DataFrame.quantile is deprecated. In a future version, it will default to False. Select only valid columns or specify the value of numeric_only to silence this warning.\n",
      "  quartile_vals = df_to_use.quantile([0.25, 0.75]).speed\n",
      "2025-02-25T13:13:33.788744-08:00**********UUID 104be783-eaa4-4504-9382-6e825bf044f6: inferring transportation mode**********\n",
      "2025-02-25T13:13:57.868313-08:00**********UUID 104be783-eaa4-4504-9382-6e825bf044f6: inferring labels**********\n",
      "2025-02-25T13:13:57.983950-08:00**********UUID 104be783-eaa4-4504-9382-6e825bf044f6: populating expectations**********\n",
      "2025-02-25T13:13:58.041214-08:00**********UUID 104be783-eaa4-4504-9382-6e825bf044f6: creating confirmed objects **********\n",
      "2025-02-25T13:14:01.826662-08:00**********UUID 104be783-eaa4-4504-9382-6e825bf044f6: creating composite objects **********\n",
      "2025-02-25T13:14:03.006533-08:00**********UUID 104be783-eaa4-4504-9382-6e825bf044f6: storing user stats **********\n",
      "Ran pipeline on master, TimeQuery data.ts with range [1740517978.3573585, 1740518043.4636428)\n",
      "Switching back to sect_opt\n",
      "Switched to branch 'sect_opt'\n"
     ]
    }
   ],
   "source": [
    "branches = {'sect_opt': {}, 'master': {}}\n",
    "\n",
    "day = \"shankari_2016-07-27\"\n",
    "opcode = \"nrelop_dev-emulator-study_0\"\n",
    "\n",
    "curr_git_branch_name = subprocess.check_output(['git', 'rev-parse', '--abbrev-ref', 'HEAD']).decode('utf-8').strip()\n",
    "\n",
    "# for branch_name in branches.keys():\n",
    "#     print(f\"Checking out {branch_name} to measure pipeline runtime\")\n",
    "#     !git checkout $branch_name\n",
    "#     !./e-mission-py.bash ./bin/reset_pipeline.py --all\n",
    "\n",
    "#     with ect.Timer() as t:\n",
    "#         !./e-mission-py.bash ./bin/intake_multiprocess.py 5\n",
    " \n",
    "    \n",
    "#     now = time.time()\n",
    "#     tq = estt.TimeQuery(\"data.ts\", now - t.elapsed, now)\n",
    "#     print(f\"Ran pipeline on {branch_name}, {tq}\")\n",
    "#     branches[branch_name]['tq'] = tq\n",
    "\n",
    "#     print(f\"Switching back to {curr_git_branch_name}\")\n",
    "#     !git checkout $curr_git_branch_name\n",
    "\n",
    "for branch_name in branches.keys():\n",
    "    print(f\"Checking out {branch_name} to measure pipeline runtime\")\n",
    "    !git checkout $branch_name\n",
    "    !./e-mission-py.bash ./bin/reset_pipeline.py --all\n",
    "    !./e-mission-py.bash bin/debug/load_timeline_for_day_and_user.py emission/tests/data/real_examples/$day $opcode\n",
    "    with ect.Timer() as t:\n",
    "        !./e-mission-py.bash bin/debug/intake_single_user.py -e $opcode\n",
    "    \n",
    "    now = time.time()\n",
    "    tq = estt.TimeQuery(\"data.ts\", now - t.elapsed, now)\n",
    "    print(f\"Ran pipeline on {branch_name}, {tq}\")\n",
    "    branches[branch_name]['tq'] = tq\n",
    "\n",
    "    print(f\"Switching back to {curr_git_branch_name}\")\n",
    "    !git checkout $curr_git_branch_name\n",
    "\n",
    "\n",
    "# !./e-mission-py.bash ./bin/reset_pipeline.py --all\n",
    "# if db_host:=os.environ.get('DB_HOST'):\n",
    "#     with ect.Timer() as t:\n",
    "#         !./e-mission-py.bash ./bin/intake_multiprocess.py 5\n",
    "#     esds.store_pipeline_time(None, f\"{curr_git_branch_name}_intake_multiprocess/{db_host}\", time.time(), t.elapsed)"
   ]
  },
  {
   "cell_type": "code",
   "execution_count": 80,
   "metadata": {},
   "outputs": [
    {
     "data": {
      "application/vnd.plotly.v1+json": {
       "config": {
        "plotlyServerURL": "https://plot.ly"
       },
       "data": [
        {
         "hovertemplate": "branch_name=sect_opt<br>reading=%{x}<br>name=%{y}<extra></extra>",
         "legendgroup": "sect_opt",
         "marker": {
          "color": "#636efa",
          "pattern": {
           "shape": ""
          }
         },
         "name": "sect_opt",
         "orientation": "h",
         "showlegend": true,
         "textposition": "auto",
         "type": "bar",
         "x": [
          0.01130712499998765,
          1.160709874999995,
          3.662077250000003,
          0.05052641700000038,
          0.10181920900000563,
          28.368274624999998,
          5.747146957999998,
          2.121050499999999,
          7.982693459,
          17.78064925,
          0.0049129590000001055,
          0.010895458000000025,
          0.005321499999999979
         ],
         "xaxis": "x",
         "y": [
          "STORE_PIPELINE_DEPENDENT_USER_STATS",
          "CREATE_COMPOSITE_OBJECTS",
          "CREATE_CONFIRMED_OBJECTS",
          "EXPECTATION_POPULATION",
          "LABEL_INFERENCE",
          "MODE_INFERENCE",
          "CLEAN_RESAMPLING",
          "JUMP_SMOOTHING",
          "SECTION_SEGMENTATION",
          "TRIP_SEGMENTATION",
          "ACCURACY_FILTERING",
          "USER_INPUT_MATCH_INCOMING",
          "USERCACHE"
         ],
         "yaxis": "y"
        },
        {
         "hovertemplate": "branch_name=master<br>reading=%{x}<br>name=%{y}<extra></extra>",
         "legendgroup": "master",
         "marker": {
          "color": "#EF553B",
          "pattern": {
           "shape": ""
          }
         },
         "name": "master",
         "orientation": "h",
         "showlegend": true,
         "textposition": "auto",
         "type": "bar",
         "x": [
          0.009677916000001119,
          1.1790729999999954,
          3.7847024170000054,
          0.05590566600000102,
          0.11322745800000433,
          24.078482832999995,
          5.821455541000002,
          2.16642925,
          7.430027208000002,
          18.508484749999997,
          0.004379249999999946,
          0.08436833399999999,
          0.012550916999999995
         ],
         "xaxis": "x",
         "y": [
          "STORE_PIPELINE_DEPENDENT_USER_STATS",
          "CREATE_COMPOSITE_OBJECTS",
          "CREATE_CONFIRMED_OBJECTS",
          "EXPECTATION_POPULATION",
          "LABEL_INFERENCE",
          "MODE_INFERENCE",
          "CLEAN_RESAMPLING",
          "JUMP_SMOOTHING",
          "SECTION_SEGMENTATION",
          "TRIP_SEGMENTATION",
          "ACCURACY_FILTERING",
          "USER_INPUT_MATCH_INCOMING",
          "USERCACHE"
         ],
         "yaxis": "y"
        }
       ],
       "layout": {
        "barmode": "group",
        "legend": {
         "title": {
          "text": "branch_name"
         },
         "tracegroupgap": 0,
         "xanchor": "right",
         "yanchor": "bottom"
        },
        "margin": {
         "t": 60
        },
        "template": {
         "data": {
          "bar": [
           {
            "error_x": {
             "color": "#2a3f5f"
            },
            "error_y": {
             "color": "#2a3f5f"
            },
            "marker": {
             "line": {
              "color": "#E5ECF6",
              "width": 0.5
             },
             "pattern": {
              "fillmode": "overlay",
              "size": 10,
              "solidity": 0.2
             }
            },
            "type": "bar"
           }
          ],
          "barpolar": [
           {
            "marker": {
             "line": {
              "color": "#E5ECF6",
              "width": 0.5
             },
             "pattern": {
              "fillmode": "overlay",
              "size": 10,
              "solidity": 0.2
             }
            },
            "type": "barpolar"
           }
          ],
          "carpet": [
           {
            "aaxis": {
             "endlinecolor": "#2a3f5f",
             "gridcolor": "white",
             "linecolor": "white",
             "minorgridcolor": "white",
             "startlinecolor": "#2a3f5f"
            },
            "baxis": {
             "endlinecolor": "#2a3f5f",
             "gridcolor": "white",
             "linecolor": "white",
             "minorgridcolor": "white",
             "startlinecolor": "#2a3f5f"
            },
            "type": "carpet"
           }
          ],
          "choropleth": [
           {
            "colorbar": {
             "outlinewidth": 0,
             "ticks": ""
            },
            "type": "choropleth"
           }
          ],
          "contour": [
           {
            "colorbar": {
             "outlinewidth": 0,
             "ticks": ""
            },
            "colorscale": [
             [
              0,
              "#0d0887"
             ],
             [
              0.1111111111111111,
              "#46039f"
             ],
             [
              0.2222222222222222,
              "#7201a8"
             ],
             [
              0.3333333333333333,
              "#9c179e"
             ],
             [
              0.4444444444444444,
              "#bd3786"
             ],
             [
              0.5555555555555556,
              "#d8576b"
             ],
             [
              0.6666666666666666,
              "#ed7953"
             ],
             [
              0.7777777777777778,
              "#fb9f3a"
             ],
             [
              0.8888888888888888,
              "#fdca26"
             ],
             [
              1,
              "#f0f921"
             ]
            ],
            "type": "contour"
           }
          ],
          "contourcarpet": [
           {
            "colorbar": {
             "outlinewidth": 0,
             "ticks": ""
            },
            "type": "contourcarpet"
           }
          ],
          "heatmap": [
           {
            "colorbar": {
             "outlinewidth": 0,
             "ticks": ""
            },
            "colorscale": [
             [
              0,
              "#0d0887"
             ],
             [
              0.1111111111111111,
              "#46039f"
             ],
             [
              0.2222222222222222,
              "#7201a8"
             ],
             [
              0.3333333333333333,
              "#9c179e"
             ],
             [
              0.4444444444444444,
              "#bd3786"
             ],
             [
              0.5555555555555556,
              "#d8576b"
             ],
             [
              0.6666666666666666,
              "#ed7953"
             ],
             [
              0.7777777777777778,
              "#fb9f3a"
             ],
             [
              0.8888888888888888,
              "#fdca26"
             ],
             [
              1,
              "#f0f921"
             ]
            ],
            "type": "heatmap"
           }
          ],
          "histogram": [
           {
            "marker": {
             "pattern": {
              "fillmode": "overlay",
              "size": 10,
              "solidity": 0.2
             }
            },
            "type": "histogram"
           }
          ],
          "histogram2d": [
           {
            "colorbar": {
             "outlinewidth": 0,
             "ticks": ""
            },
            "colorscale": [
             [
              0,
              "#0d0887"
             ],
             [
              0.1111111111111111,
              "#46039f"
             ],
             [
              0.2222222222222222,
              "#7201a8"
             ],
             [
              0.3333333333333333,
              "#9c179e"
             ],
             [
              0.4444444444444444,
              "#bd3786"
             ],
             [
              0.5555555555555556,
              "#d8576b"
             ],
             [
              0.6666666666666666,
              "#ed7953"
             ],
             [
              0.7777777777777778,
              "#fb9f3a"
             ],
             [
              0.8888888888888888,
              "#fdca26"
             ],
             [
              1,
              "#f0f921"
             ]
            ],
            "type": "histogram2d"
           }
          ],
          "histogram2dcontour": [
           {
            "colorbar": {
             "outlinewidth": 0,
             "ticks": ""
            },
            "colorscale": [
             [
              0,
              "#0d0887"
             ],
             [
              0.1111111111111111,
              "#46039f"
             ],
             [
              0.2222222222222222,
              "#7201a8"
             ],
             [
              0.3333333333333333,
              "#9c179e"
             ],
             [
              0.4444444444444444,
              "#bd3786"
             ],
             [
              0.5555555555555556,
              "#d8576b"
             ],
             [
              0.6666666666666666,
              "#ed7953"
             ],
             [
              0.7777777777777778,
              "#fb9f3a"
             ],
             [
              0.8888888888888888,
              "#fdca26"
             ],
             [
              1,
              "#f0f921"
             ]
            ],
            "type": "histogram2dcontour"
           }
          ],
          "mesh3d": [
           {
            "colorbar": {
             "outlinewidth": 0,
             "ticks": ""
            },
            "type": "mesh3d"
           }
          ],
          "parcoords": [
           {
            "line": {
             "colorbar": {
              "outlinewidth": 0,
              "ticks": ""
             }
            },
            "type": "parcoords"
           }
          ],
          "pie": [
           {
            "automargin": true,
            "type": "pie"
           }
          ],
          "scatter": [
           {
            "fillpattern": {
             "fillmode": "overlay",
             "size": 10,
             "solidity": 0.2
            },
            "type": "scatter"
           }
          ],
          "scatter3d": [
           {
            "line": {
             "colorbar": {
              "outlinewidth": 0,
              "ticks": ""
             }
            },
            "marker": {
             "colorbar": {
              "outlinewidth": 0,
              "ticks": ""
             }
            },
            "type": "scatter3d"
           }
          ],
          "scattercarpet": [
           {
            "marker": {
             "colorbar": {
              "outlinewidth": 0,
              "ticks": ""
             }
            },
            "type": "scattercarpet"
           }
          ],
          "scattergeo": [
           {
            "marker": {
             "colorbar": {
              "outlinewidth": 0,
              "ticks": ""
             }
            },
            "type": "scattergeo"
           }
          ],
          "scattergl": [
           {
            "marker": {
             "colorbar": {
              "outlinewidth": 0,
              "ticks": ""
             }
            },
            "type": "scattergl"
           }
          ],
          "scattermap": [
           {
            "marker": {
             "colorbar": {
              "outlinewidth": 0,
              "ticks": ""
             }
            },
            "type": "scattermap"
           }
          ],
          "scattermapbox": [
           {
            "marker": {
             "colorbar": {
              "outlinewidth": 0,
              "ticks": ""
             }
            },
            "type": "scattermapbox"
           }
          ],
          "scatterpolar": [
           {
            "marker": {
             "colorbar": {
              "outlinewidth": 0,
              "ticks": ""
             }
            },
            "type": "scatterpolar"
           }
          ],
          "scatterpolargl": [
           {
            "marker": {
             "colorbar": {
              "outlinewidth": 0,
              "ticks": ""
             }
            },
            "type": "scatterpolargl"
           }
          ],
          "scatterternary": [
           {
            "marker": {
             "colorbar": {
              "outlinewidth": 0,
              "ticks": ""
             }
            },
            "type": "scatterternary"
           }
          ],
          "surface": [
           {
            "colorbar": {
             "outlinewidth": 0,
             "ticks": ""
            },
            "colorscale": [
             [
              0,
              "#0d0887"
             ],
             [
              0.1111111111111111,
              "#46039f"
             ],
             [
              0.2222222222222222,
              "#7201a8"
             ],
             [
              0.3333333333333333,
              "#9c179e"
             ],
             [
              0.4444444444444444,
              "#bd3786"
             ],
             [
              0.5555555555555556,
              "#d8576b"
             ],
             [
              0.6666666666666666,
              "#ed7953"
             ],
             [
              0.7777777777777778,
              "#fb9f3a"
             ],
             [
              0.8888888888888888,
              "#fdca26"
             ],
             [
              1,
              "#f0f921"
             ]
            ],
            "type": "surface"
           }
          ],
          "table": [
           {
            "cells": {
             "fill": {
              "color": "#EBF0F8"
             },
             "line": {
              "color": "white"
             }
            },
            "header": {
             "fill": {
              "color": "#C8D4E3"
             },
             "line": {
              "color": "white"
             }
            },
            "type": "table"
           }
          ]
         },
         "layout": {
          "annotationdefaults": {
           "arrowcolor": "#2a3f5f",
           "arrowhead": 0,
           "arrowwidth": 1
          },
          "autotypenumbers": "strict",
          "coloraxis": {
           "colorbar": {
            "outlinewidth": 0,
            "ticks": ""
           }
          },
          "colorscale": {
           "diverging": [
            [
             0,
             "#8e0152"
            ],
            [
             0.1,
             "#c51b7d"
            ],
            [
             0.2,
             "#de77ae"
            ],
            [
             0.3,
             "#f1b6da"
            ],
            [
             0.4,
             "#fde0ef"
            ],
            [
             0.5,
             "#f7f7f7"
            ],
            [
             0.6,
             "#e6f5d0"
            ],
            [
             0.7,
             "#b8e186"
            ],
            [
             0.8,
             "#7fbc41"
            ],
            [
             0.9,
             "#4d9221"
            ],
            [
             1,
             "#276419"
            ]
           ],
           "sequential": [
            [
             0,
             "#0d0887"
            ],
            [
             0.1111111111111111,
             "#46039f"
            ],
            [
             0.2222222222222222,
             "#7201a8"
            ],
            [
             0.3333333333333333,
             "#9c179e"
            ],
            [
             0.4444444444444444,
             "#bd3786"
            ],
            [
             0.5555555555555556,
             "#d8576b"
            ],
            [
             0.6666666666666666,
             "#ed7953"
            ],
            [
             0.7777777777777778,
             "#fb9f3a"
            ],
            [
             0.8888888888888888,
             "#fdca26"
            ],
            [
             1,
             "#f0f921"
            ]
           ],
           "sequentialminus": [
            [
             0,
             "#0d0887"
            ],
            [
             0.1111111111111111,
             "#46039f"
            ],
            [
             0.2222222222222222,
             "#7201a8"
            ],
            [
             0.3333333333333333,
             "#9c179e"
            ],
            [
             0.4444444444444444,
             "#bd3786"
            ],
            [
             0.5555555555555556,
             "#d8576b"
            ],
            [
             0.6666666666666666,
             "#ed7953"
            ],
            [
             0.7777777777777778,
             "#fb9f3a"
            ],
            [
             0.8888888888888888,
             "#fdca26"
            ],
            [
             1,
             "#f0f921"
            ]
           ]
          },
          "colorway": [
           "#636efa",
           "#EF553B",
           "#00cc96",
           "#ab63fa",
           "#FFA15A",
           "#19d3f3",
           "#FF6692",
           "#B6E880",
           "#FF97FF",
           "#FECB52"
          ],
          "font": {
           "color": "#2a3f5f"
          },
          "geo": {
           "bgcolor": "white",
           "lakecolor": "white",
           "landcolor": "#E5ECF6",
           "showlakes": true,
           "showland": true,
           "subunitcolor": "white"
          },
          "hoverlabel": {
           "align": "left"
          },
          "hovermode": "closest",
          "mapbox": {
           "style": "light"
          },
          "paper_bgcolor": "white",
          "plot_bgcolor": "#E5ECF6",
          "polar": {
           "angularaxis": {
            "gridcolor": "white",
            "linecolor": "white",
            "ticks": ""
           },
           "bgcolor": "#E5ECF6",
           "radialaxis": {
            "gridcolor": "white",
            "linecolor": "white",
            "ticks": ""
           }
          },
          "scene": {
           "xaxis": {
            "backgroundcolor": "#E5ECF6",
            "gridcolor": "white",
            "gridwidth": 2,
            "linecolor": "white",
            "showbackground": true,
            "ticks": "",
            "zerolinecolor": "white"
           },
           "yaxis": {
            "backgroundcolor": "#E5ECF6",
            "gridcolor": "white",
            "gridwidth": 2,
            "linecolor": "white",
            "showbackground": true,
            "ticks": "",
            "zerolinecolor": "white"
           },
           "zaxis": {
            "backgroundcolor": "#E5ECF6",
            "gridcolor": "white",
            "gridwidth": 2,
            "linecolor": "white",
            "showbackground": true,
            "ticks": "",
            "zerolinecolor": "white"
           }
          },
          "shapedefaults": {
           "line": {
            "color": "#2a3f5f"
           }
          },
          "ternary": {
           "aaxis": {
            "gridcolor": "white",
            "linecolor": "white",
            "ticks": ""
           },
           "baxis": {
            "gridcolor": "white",
            "linecolor": "white",
            "ticks": ""
           },
           "bgcolor": "#E5ECF6",
           "caxis": {
            "gridcolor": "white",
            "linecolor": "white",
            "ticks": ""
           }
          },
          "title": {
           "x": 0.05
          },
          "xaxis": {
           "automargin": true,
           "gridcolor": "white",
           "linecolor": "white",
           "ticks": "",
           "title": {
            "standoff": 15
           },
           "zerolinecolor": "white",
           "zerolinewidth": 2
          },
          "yaxis": {
           "automargin": true,
           "gridcolor": "white",
           "linecolor": "white",
           "ticks": "",
           "title": {
            "standoff": 15
           },
           "zerolinecolor": "white",
           "zerolinewidth": 2
          }
         }
        },
        "title": {
         "text": "Pipeline stage runtimes (shankari_2016-07-27)"
        },
        "xaxis": {
         "anchor": "y",
         "domain": [
          0,
          1
         ],
         "title": {
          "text": "reading"
         }
        },
        "yaxis": {
         "anchor": "x",
         "domain": [
          0,
          1
         ],
         "dtick": 1,
         "title": {
          "text": "name"
         }
        }
       }
      }
     },
     "metadata": {},
     "output_type": "display_data"
    }
   ],
   "source": [
    "ts = esta.TimeSeries.get_aggregate_time_series()\n",
    "\n",
    "pipeline_stats_dfs = [\n",
    "    ts.get_data_df('stats/pipeline_time', time_query=stats['tq']).assign(branch_name=branch_name)\n",
    "    for branch_name, stats in branches.items()\n",
    "]\n",
    "pipeline_stats_df = pd.concat(pipeline_stats_dfs)\n",
    "\n",
    "pipeline_stages_df = pipeline_stats_df[\n",
    "    pipeline_stats_df['name'].str.isupper() & ~pipeline_stats_df['name'].str.contains('/')\n",
    "]\n",
    "fig = px.bar(\n",
    "    pipeline_stages_df,\n",
    "    y=\"name\",\n",
    "    x=\"reading\",\n",
    "    color=\"branch_name\",\n",
    "    orientation=\"h\",\n",
    ")\n",
    "fig.update_layout(\n",
    "    title=f\"Pipeline stage runtimes ({day})\",\n",
    "    barmode='group',\n",
    "    yaxis=dict(dtick=1),\n",
    "    legend=dict(\n",
    "        yanchor=\"bottom\",\n",
    "        xanchor=\"right\",\n",
    "    )\n",
    ")\n",
    "fig.show()"
   ]
  },
  {
   "cell_type": "code",
   "execution_count": 81,
   "metadata": {},
   "outputs": [
    {
     "data": {
      "application/vnd.plotly.v1+json": {
       "config": {
        "plotlyServerURL": "https://plot.ly"
       },
       "data": [
        {
         "hovertemplate": "branch_name=sect_opt<br>reading=%{x}<br>name=%{y}<extra></extra>",
         "legendgroup": "sect_opt",
         "marker": {
          "color": "#636efa",
          "pattern": {
           "shape": ""
          }
         },
         "name": "sect_opt",
         "orientation": "h",
         "showlegend": true,
         "textposition": "auto",
         "type": "bar",
         "x": [
          7.982693459
         ],
         "xaxis": "x",
         "y": [
          "SECTION_SEGMENTATION"
         ],
         "yaxis": "y"
        },
        {
         "hovertemplate": "branch_name=master<br>reading=%{x}<br>name=%{y}<extra></extra>",
         "legendgroup": "master",
         "marker": {
          "color": "#EF553B",
          "pattern": {
           "shape": ""
          }
         },
         "name": "master",
         "orientation": "h",
         "showlegend": true,
         "textposition": "auto",
         "type": "bar",
         "x": [
          7.430027208000002
         ],
         "xaxis": "x",
         "y": [
          "SECTION_SEGMENTATION"
         ],
         "yaxis": "y"
        }
       ],
       "layout": {
        "barmode": "group",
        "legend": {
         "title": {
          "text": "branch_name"
         },
         "tracegroupgap": 0,
         "xanchor": "right",
         "yanchor": "bottom"
        },
        "margin": {
         "t": 60
        },
        "template": {
         "data": {
          "bar": [
           {
            "error_x": {
             "color": "#2a3f5f"
            },
            "error_y": {
             "color": "#2a3f5f"
            },
            "marker": {
             "line": {
              "color": "#E5ECF6",
              "width": 0.5
             },
             "pattern": {
              "fillmode": "overlay",
              "size": 10,
              "solidity": 0.2
             }
            },
            "type": "bar"
           }
          ],
          "barpolar": [
           {
            "marker": {
             "line": {
              "color": "#E5ECF6",
              "width": 0.5
             },
             "pattern": {
              "fillmode": "overlay",
              "size": 10,
              "solidity": 0.2
             }
            },
            "type": "barpolar"
           }
          ],
          "carpet": [
           {
            "aaxis": {
             "endlinecolor": "#2a3f5f",
             "gridcolor": "white",
             "linecolor": "white",
             "minorgridcolor": "white",
             "startlinecolor": "#2a3f5f"
            },
            "baxis": {
             "endlinecolor": "#2a3f5f",
             "gridcolor": "white",
             "linecolor": "white",
             "minorgridcolor": "white",
             "startlinecolor": "#2a3f5f"
            },
            "type": "carpet"
           }
          ],
          "choropleth": [
           {
            "colorbar": {
             "outlinewidth": 0,
             "ticks": ""
            },
            "type": "choropleth"
           }
          ],
          "contour": [
           {
            "colorbar": {
             "outlinewidth": 0,
             "ticks": ""
            },
            "colorscale": [
             [
              0,
              "#0d0887"
             ],
             [
              0.1111111111111111,
              "#46039f"
             ],
             [
              0.2222222222222222,
              "#7201a8"
             ],
             [
              0.3333333333333333,
              "#9c179e"
             ],
             [
              0.4444444444444444,
              "#bd3786"
             ],
             [
              0.5555555555555556,
              "#d8576b"
             ],
             [
              0.6666666666666666,
              "#ed7953"
             ],
             [
              0.7777777777777778,
              "#fb9f3a"
             ],
             [
              0.8888888888888888,
              "#fdca26"
             ],
             [
              1,
              "#f0f921"
             ]
            ],
            "type": "contour"
           }
          ],
          "contourcarpet": [
           {
            "colorbar": {
             "outlinewidth": 0,
             "ticks": ""
            },
            "type": "contourcarpet"
           }
          ],
          "heatmap": [
           {
            "colorbar": {
             "outlinewidth": 0,
             "ticks": ""
            },
            "colorscale": [
             [
              0,
              "#0d0887"
             ],
             [
              0.1111111111111111,
              "#46039f"
             ],
             [
              0.2222222222222222,
              "#7201a8"
             ],
             [
              0.3333333333333333,
              "#9c179e"
             ],
             [
              0.4444444444444444,
              "#bd3786"
             ],
             [
              0.5555555555555556,
              "#d8576b"
             ],
             [
              0.6666666666666666,
              "#ed7953"
             ],
             [
              0.7777777777777778,
              "#fb9f3a"
             ],
             [
              0.8888888888888888,
              "#fdca26"
             ],
             [
              1,
              "#f0f921"
             ]
            ],
            "type": "heatmap"
           }
          ],
          "histogram": [
           {
            "marker": {
             "pattern": {
              "fillmode": "overlay",
              "size": 10,
              "solidity": 0.2
             }
            },
            "type": "histogram"
           }
          ],
          "histogram2d": [
           {
            "colorbar": {
             "outlinewidth": 0,
             "ticks": ""
            },
            "colorscale": [
             [
              0,
              "#0d0887"
             ],
             [
              0.1111111111111111,
              "#46039f"
             ],
             [
              0.2222222222222222,
              "#7201a8"
             ],
             [
              0.3333333333333333,
              "#9c179e"
             ],
             [
              0.4444444444444444,
              "#bd3786"
             ],
             [
              0.5555555555555556,
              "#d8576b"
             ],
             [
              0.6666666666666666,
              "#ed7953"
             ],
             [
              0.7777777777777778,
              "#fb9f3a"
             ],
             [
              0.8888888888888888,
              "#fdca26"
             ],
             [
              1,
              "#f0f921"
             ]
            ],
            "type": "histogram2d"
           }
          ],
          "histogram2dcontour": [
           {
            "colorbar": {
             "outlinewidth": 0,
             "ticks": ""
            },
            "colorscale": [
             [
              0,
              "#0d0887"
             ],
             [
              0.1111111111111111,
              "#46039f"
             ],
             [
              0.2222222222222222,
              "#7201a8"
             ],
             [
              0.3333333333333333,
              "#9c179e"
             ],
             [
              0.4444444444444444,
              "#bd3786"
             ],
             [
              0.5555555555555556,
              "#d8576b"
             ],
             [
              0.6666666666666666,
              "#ed7953"
             ],
             [
              0.7777777777777778,
              "#fb9f3a"
             ],
             [
              0.8888888888888888,
              "#fdca26"
             ],
             [
              1,
              "#f0f921"
             ]
            ],
            "type": "histogram2dcontour"
           }
          ],
          "mesh3d": [
           {
            "colorbar": {
             "outlinewidth": 0,
             "ticks": ""
            },
            "type": "mesh3d"
           }
          ],
          "parcoords": [
           {
            "line": {
             "colorbar": {
              "outlinewidth": 0,
              "ticks": ""
             }
            },
            "type": "parcoords"
           }
          ],
          "pie": [
           {
            "automargin": true,
            "type": "pie"
           }
          ],
          "scatter": [
           {
            "fillpattern": {
             "fillmode": "overlay",
             "size": 10,
             "solidity": 0.2
            },
            "type": "scatter"
           }
          ],
          "scatter3d": [
           {
            "line": {
             "colorbar": {
              "outlinewidth": 0,
              "ticks": ""
             }
            },
            "marker": {
             "colorbar": {
              "outlinewidth": 0,
              "ticks": ""
             }
            },
            "type": "scatter3d"
           }
          ],
          "scattercarpet": [
           {
            "marker": {
             "colorbar": {
              "outlinewidth": 0,
              "ticks": ""
             }
            },
            "type": "scattercarpet"
           }
          ],
          "scattergeo": [
           {
            "marker": {
             "colorbar": {
              "outlinewidth": 0,
              "ticks": ""
             }
            },
            "type": "scattergeo"
           }
          ],
          "scattergl": [
           {
            "marker": {
             "colorbar": {
              "outlinewidth": 0,
              "ticks": ""
             }
            },
            "type": "scattergl"
           }
          ],
          "scattermap": [
           {
            "marker": {
             "colorbar": {
              "outlinewidth": 0,
              "ticks": ""
             }
            },
            "type": "scattermap"
           }
          ],
          "scattermapbox": [
           {
            "marker": {
             "colorbar": {
              "outlinewidth": 0,
              "ticks": ""
             }
            },
            "type": "scattermapbox"
           }
          ],
          "scatterpolar": [
           {
            "marker": {
             "colorbar": {
              "outlinewidth": 0,
              "ticks": ""
             }
            },
            "type": "scatterpolar"
           }
          ],
          "scatterpolargl": [
           {
            "marker": {
             "colorbar": {
              "outlinewidth": 0,
              "ticks": ""
             }
            },
            "type": "scatterpolargl"
           }
          ],
          "scatterternary": [
           {
            "marker": {
             "colorbar": {
              "outlinewidth": 0,
              "ticks": ""
             }
            },
            "type": "scatterternary"
           }
          ],
          "surface": [
           {
            "colorbar": {
             "outlinewidth": 0,
             "ticks": ""
            },
            "colorscale": [
             [
              0,
              "#0d0887"
             ],
             [
              0.1111111111111111,
              "#46039f"
             ],
             [
              0.2222222222222222,
              "#7201a8"
             ],
             [
              0.3333333333333333,
              "#9c179e"
             ],
             [
              0.4444444444444444,
              "#bd3786"
             ],
             [
              0.5555555555555556,
              "#d8576b"
             ],
             [
              0.6666666666666666,
              "#ed7953"
             ],
             [
              0.7777777777777778,
              "#fb9f3a"
             ],
             [
              0.8888888888888888,
              "#fdca26"
             ],
             [
              1,
              "#f0f921"
             ]
            ],
            "type": "surface"
           }
          ],
          "table": [
           {
            "cells": {
             "fill": {
              "color": "#EBF0F8"
             },
             "line": {
              "color": "white"
             }
            },
            "header": {
             "fill": {
              "color": "#C8D4E3"
             },
             "line": {
              "color": "white"
             }
            },
            "type": "table"
           }
          ]
         },
         "layout": {
          "annotationdefaults": {
           "arrowcolor": "#2a3f5f",
           "arrowhead": 0,
           "arrowwidth": 1
          },
          "autotypenumbers": "strict",
          "coloraxis": {
           "colorbar": {
            "outlinewidth": 0,
            "ticks": ""
           }
          },
          "colorscale": {
           "diverging": [
            [
             0,
             "#8e0152"
            ],
            [
             0.1,
             "#c51b7d"
            ],
            [
             0.2,
             "#de77ae"
            ],
            [
             0.3,
             "#f1b6da"
            ],
            [
             0.4,
             "#fde0ef"
            ],
            [
             0.5,
             "#f7f7f7"
            ],
            [
             0.6,
             "#e6f5d0"
            ],
            [
             0.7,
             "#b8e186"
            ],
            [
             0.8,
             "#7fbc41"
            ],
            [
             0.9,
             "#4d9221"
            ],
            [
             1,
             "#276419"
            ]
           ],
           "sequential": [
            [
             0,
             "#0d0887"
            ],
            [
             0.1111111111111111,
             "#46039f"
            ],
            [
             0.2222222222222222,
             "#7201a8"
            ],
            [
             0.3333333333333333,
             "#9c179e"
            ],
            [
             0.4444444444444444,
             "#bd3786"
            ],
            [
             0.5555555555555556,
             "#d8576b"
            ],
            [
             0.6666666666666666,
             "#ed7953"
            ],
            [
             0.7777777777777778,
             "#fb9f3a"
            ],
            [
             0.8888888888888888,
             "#fdca26"
            ],
            [
             1,
             "#f0f921"
            ]
           ],
           "sequentialminus": [
            [
             0,
             "#0d0887"
            ],
            [
             0.1111111111111111,
             "#46039f"
            ],
            [
             0.2222222222222222,
             "#7201a8"
            ],
            [
             0.3333333333333333,
             "#9c179e"
            ],
            [
             0.4444444444444444,
             "#bd3786"
            ],
            [
             0.5555555555555556,
             "#d8576b"
            ],
            [
             0.6666666666666666,
             "#ed7953"
            ],
            [
             0.7777777777777778,
             "#fb9f3a"
            ],
            [
             0.8888888888888888,
             "#fdca26"
            ],
            [
             1,
             "#f0f921"
            ]
           ]
          },
          "colorway": [
           "#636efa",
           "#EF553B",
           "#00cc96",
           "#ab63fa",
           "#FFA15A",
           "#19d3f3",
           "#FF6692",
           "#B6E880",
           "#FF97FF",
           "#FECB52"
          ],
          "font": {
           "color": "#2a3f5f"
          },
          "geo": {
           "bgcolor": "white",
           "lakecolor": "white",
           "landcolor": "#E5ECF6",
           "showlakes": true,
           "showland": true,
           "subunitcolor": "white"
          },
          "hoverlabel": {
           "align": "left"
          },
          "hovermode": "closest",
          "mapbox": {
           "style": "light"
          },
          "paper_bgcolor": "white",
          "plot_bgcolor": "#E5ECF6",
          "polar": {
           "angularaxis": {
            "gridcolor": "white",
            "linecolor": "white",
            "ticks": ""
           },
           "bgcolor": "#E5ECF6",
           "radialaxis": {
            "gridcolor": "white",
            "linecolor": "white",
            "ticks": ""
           }
          },
          "scene": {
           "xaxis": {
            "backgroundcolor": "#E5ECF6",
            "gridcolor": "white",
            "gridwidth": 2,
            "linecolor": "white",
            "showbackground": true,
            "ticks": "",
            "zerolinecolor": "white"
           },
           "yaxis": {
            "backgroundcolor": "#E5ECF6",
            "gridcolor": "white",
            "gridwidth": 2,
            "linecolor": "white",
            "showbackground": true,
            "ticks": "",
            "zerolinecolor": "white"
           },
           "zaxis": {
            "backgroundcolor": "#E5ECF6",
            "gridcolor": "white",
            "gridwidth": 2,
            "linecolor": "white",
            "showbackground": true,
            "ticks": "",
            "zerolinecolor": "white"
           }
          },
          "shapedefaults": {
           "line": {
            "color": "#2a3f5f"
           }
          },
          "ternary": {
           "aaxis": {
            "gridcolor": "white",
            "linecolor": "white",
            "ticks": ""
           },
           "baxis": {
            "gridcolor": "white",
            "linecolor": "white",
            "ticks": ""
           },
           "bgcolor": "#E5ECF6",
           "caxis": {
            "gridcolor": "white",
            "linecolor": "white",
            "ticks": ""
           }
          },
          "title": {
           "x": 0.05
          },
          "xaxis": {
           "automargin": true,
           "gridcolor": "white",
           "linecolor": "white",
           "ticks": "",
           "title": {
            "standoff": 15
           },
           "zerolinecolor": "white",
           "zerolinewidth": 2
          },
          "yaxis": {
           "automargin": true,
           "gridcolor": "white",
           "linecolor": "white",
           "ticks": "",
           "title": {
            "standoff": 15
           },
           "zerolinecolor": "white",
           "zerolinewidth": 2
          }
         }
        },
        "title": {
         "text": "Section segmentation runtimes (shankari_2016-07-27)"
        },
        "xaxis": {
         "anchor": "y",
         "domain": [
          0,
          1
         ],
         "title": {
          "text": "reading"
         }
        },
        "yaxis": {
         "anchor": "x",
         "domain": [
          0,
          1
         ],
         "title": {
          "text": "name"
         }
        }
       }
      }
     },
     "metadata": {},
     "output_type": "display_data"
    }
   ],
   "source": [
    "trip_segmentation_df = pipeline_stats_df[\n",
    "    pipeline_stats_df['name'].str.contains('SECTION_SEGMENTATION')\n",
    "]\n",
    "fig = px.bar(\n",
    "    trip_segmentation_df,\n",
    "    y=\"name\",\n",
    "    x=\"reading\",\n",
    "    color=\"branch_name\",\n",
    "    orientation=\"h\",\n",
    ")\n",
    "fig.update_layout(\n",
    "    title=f\"Section segmentation runtimes ({day})\",\n",
    "    barmode='group',\n",
    "    legend=dict(\n",
    "        yanchor=\"bottom\",\n",
    "        xanchor=\"right\",\n",
    "    )\n",
    ")\n",
    "fig.show()"
   ]
  },
  {
   "cell_type": "code",
   "execution_count": null,
   "metadata": {},
   "outputs": [
    {
     "name": "stdout",
     "output_type": "stream",
     "text": [
      "               ts  \\\n",
      "743  1.740518e+09   \n",
      "744  1.740518e+09   \n",
      "745  1.740518e+09   \n",
      "746  1.740518e+09   \n",
      "747  1.740518e+09   \n",
      "748  1.740518e+09   \n",
      "753  1.740518e+09   \n",
      "754  1.740518e+09   \n",
      "755  1.740518e+09   \n",
      "756  1.740518e+09   \n",
      "757  1.740518e+09   \n",
      "758  1.740518e+09   \n",
      "763  1.740518e+09   \n",
      "764  1.740518e+09   \n",
      "765  1.740518e+09   \n",
      "766  1.740518e+09   \n",
      "767  1.740518e+09   \n",
      "768  1.740518e+09   \n",
      "773  1.740518e+09   \n",
      "774  1.740518e+09   \n",
      "775  1.740518e+09   \n",
      "776  1.740518e+09   \n",
      "777  1.740518e+09   \n",
      "778  1.740518e+09   \n",
      "783  1.740518e+09   \n",
      "784  1.740518e+09   \n",
      "785  1.740518e+09   \n",
      "786  1.740518e+09   \n",
      "787  1.740518e+09   \n",
      "788  1.740518e+09   \n",
      "793  1.740518e+09   \n",
      "794  1.740518e+09   \n",
      "795  1.740518e+09   \n",
      "796  1.740518e+09   \n",
      "797  1.740518e+09   \n",
      "798  1.740518e+09   \n",
      "803  1.740518e+09   \n",
      "804  1.740518e+09   \n",
      "805  1.740518e+09   \n",
      "806  1.740518e+09   \n",
      "807  1.740518e+09   \n",
      "808  1.740518e+09   \n",
      "813  1.740518e+09   \n",
      "814  1.740518e+09   \n",
      "815  1.740518e+09   \n",
      "816  1.740518e+09   \n",
      "817  1.740518e+09   \n",
      "818  1.740518e+09   \n",
      "823  1.740518e+09   \n",
      "824  1.740518e+09   \n",
      "825  1.740518e+09   \n",
      "826  1.740518e+09   \n",
      "827  1.740518e+09   \n",
      "828  1.740518e+09   \n",
      "833  1.740518e+09   \n",
      "834  1.740518e+09   \n",
      "835  1.740518e+09   \n",
      "836  1.740518e+09   \n",
      "837  1.740518e+09   \n",
      "838  1.740518e+09   \n",
      "843  1.740518e+09   \n",
      "844  1.740518e+09   \n",
      "845  1.740518e+09   \n",
      "846  1.740518e+09   \n",
      "847  1.740518e+09   \n",
      "848  1.740518e+09   \n",
      "853  1.740518e+09   \n",
      "854  1.740518e+09   \n",
      "855  1.740518e+09   \n",
      "856  1.740518e+09   \n",
      "857  1.740518e+09   \n",
      "858  1.740518e+09   \n",
      "863  1.740518e+09   \n",
      "864  1.740518e+09   \n",
      "865  1.740518e+09   \n",
      "866  1.740518e+09   \n",
      "867  1.740518e+09   \n",
      "868  1.740518e+09   \n",
      "873  1.740518e+09   \n",
      "874  1.740518e+09   \n",
      "875  1.740518e+09   \n",
      "876  1.740518e+09   \n",
      "877  1.740518e+09   \n",
      "878  1.740518e+09   \n",
      "883  1.740518e+09   \n",
      "884  1.740518e+09   \n",
      "885  1.740518e+09   \n",
      "886  1.740518e+09   \n",
      "887  1.740518e+09   \n",
      "888  1.740518e+09   \n",
      "893  1.740518e+09   \n",
      "894  1.740518e+09   \n",
      "895  1.740518e+09   \n",
      "896  1.740518e+09   \n",
      "897  1.740518e+09   \n",
      "898  1.740518e+09   \n",
      "903  1.740518e+09   \n",
      "904  1.740518e+09   \n",
      "905  1.740518e+09   \n",
      "906  1.740518e+09   \n",
      "907  1.740518e+09   \n",
      "908  1.740518e+09   \n",
      "913  1.740518e+09   \n",
      "914  1.740518e+09   \n",
      "915  1.740518e+09   \n",
      "916  1.740518e+09   \n",
      "917  1.740518e+09   \n",
      "918  1.740518e+09   \n",
      "923  1.740518e+09   \n",
      "924  1.740518e+09   \n",
      "925  1.740518e+09   \n",
      "926  1.740518e+09   \n",
      "927  1.740518e+09   \n",
      "928  1.740518e+09   \n",
      "933  1.740518e+09   \n",
      "934  1.740518e+09   \n",
      "935  1.740518e+09   \n",
      "936  1.740518e+09   \n",
      "937  1.740518e+09   \n",
      "938  1.740518e+09   \n",
      "943  1.740518e+09   \n",
      "944  1.740518e+09   \n",
      "945  1.740518e+09   \n",
      "946  1.740518e+09   \n",
      "947  1.740518e+09   \n",
      "948  1.740518e+09   \n",
      "953  1.740518e+09   \n",
      "954  1.740518e+09   \n",
      "955  1.740518e+09   \n",
      "956  1.740518e+09   \n",
      "957  1.740518e+09   \n",
      "958  1.740518e+09   \n",
      "963  1.740518e+09   \n",
      "964  1.740518e+09   \n",
      "965  1.740518e+09   \n",
      "966  1.740518e+09   \n",
      "967  1.740518e+09   \n",
      "968  1.740518e+09   \n",
      "973  1.740518e+09   \n",
      "974  1.740518e+09   \n",
      "975  1.740518e+09   \n",
      "976  1.740518e+09   \n",
      "977  1.740518e+09   \n",
      "978  1.740518e+09   \n",
      "983  1.740518e+09   \n",
      "984  1.740518e+09   \n",
      "985  1.740518e+09   \n",
      "986  1.740518e+09   \n",
      "987  1.740518e+09   \n",
      "988  1.740518e+09   \n",
      "993  1.740518e+09   \n",
      "994  1.740518e+09   \n",
      "995  1.740518e+09   \n",
      "996  1.740518e+09   \n",
      "997  1.740518e+09   \n",
      "998  1.740518e+09   \n",
      "\n",
      "                                                                                                                                                                                                                                                                                                                                                                                                                                                                                                                                                                                                                                                                                                                                                                                                                                                                                                                                                                                                                       reading  \\\n",
      "743   in segment_into_sections\\n    motion_changes = self.segment_into_motion_changes(timeseries, time_query)\\n\\n  File \"/Users/rsimpson/e-mission-server/emission/analysis/intake/segmentation/section_segmentation_methods/smoothed_high_confidence_motion.py\", line 61, in segment_into_motion_changes\\n    motion_df = timeseries.get_data_df(\"background/motion_activity\", time_query)\\n\\n  File \"/Users/rsimpson/e-mission-server/emission/storage/timeseries/builtin_timeseries.py\", line 298, in get_data_df\\n    result_it = self.find_entries([key], time_query, geo_query, extra_query_list)\\n\\n  File \"/Users/rsimpson/e-mission-server/emission/storage/timeseries/builtin_timeseries.py\", line 224, in find_entries\\n    (analysis_ts_db_count, analysis_ts_db_result) = self._get_entries_for_timeseries(self.analysis_timeseries_db,\\n\\n  File \"/Users/rsimpson/e-mission-server/emission/storage/timeseries/builtin_timeseries.py\", line 243, in _get_entries_for_timeseries\\n    traceback.format_stack(),\\n   \n",
      "744                    in segment_into_sections\\n    motion_changes = self.segment_into_motion_changes(timeseries, time_query)\\n\\n  File \"/Users/rsimpson/e-mission-server/emission/analysis/intake/segmentation/section_segmentation_methods/smoothed_high_confidence_motion.py\", line 61, in segment_into_motion_changes\\n    motion_df = timeseries.get_data_df(\"background/motion_activity\", time_query)\\n\\n  File \"/Users/rsimpson/e-mission-server/emission/storage/timeseries/builtin_timeseries.py\", line 298, in get_data_df\\n    result_it = self.find_entries([key], time_query, geo_query, extra_query_list)\\n\\n  File \"/Users/rsimpson/e-mission-server/emission/storage/timeseries/builtin_timeseries.py\", line 217, in find_entries\\n    (orig_ts_db_count, orig_ts_db_result) = self._get_entries_for_timeseries(self.timeseries_db,\\n\\n  File \"/Users/rsimpson/e-mission-server/emission/storage/timeseries/builtin_timeseries.py\", line 243, in _get_entries_for_timeseries\\n    traceback.format_stack(),\\n   \n",
      "745  in segment_into_sections\\n    self.get_location_streams_for_trip(timeseries, time_query)\\n\\n  File \"/Users/rsimpson/e-mission-server/emission/analysis/intake/segmentation/section_segmentation_methods/smoothed_high_confidence_motion.py\", line 188, in get_location_streams_for_trip\\n    self.location_points = timeseries.get_data_df(\"background/filtered_location\", time_query)\\n\\n  File \"/Users/rsimpson/e-mission-server/emission/storage/timeseries/builtin_timeseries.py\", line 298, in get_data_df\\n    result_it = self.find_entries([key], time_query, geo_query, extra_query_list)\\n\\n  File \"/Users/rsimpson/e-mission-server/emission/storage/timeseries/builtin_timeseries.py\", line 224, in find_entries\\n    (analysis_ts_db_count, analysis_ts_db_result) = self._get_entries_for_timeseries(self.analysis_timeseries_db,\\n\\n  File \"/Users/rsimpson/e-mission-server/emission/storage/timeseries/builtin_timeseries.py\", line 243, in _get_entries_for_timeseries\\n    traceback.format_stack(),\\n   \n",
      "746                   in segment_into_sections\\n    self.get_location_streams_for_trip(timeseries, time_query)\\n\\n  File \"/Users/rsimpson/e-mission-server/emission/analysis/intake/segmentation/section_segmentation_methods/smoothed_high_confidence_motion.py\", line 188, in get_location_streams_for_trip\\n    self.location_points = timeseries.get_data_df(\"background/filtered_location\", time_query)\\n\\n  File \"/Users/rsimpson/e-mission-server/emission/storage/timeseries/builtin_timeseries.py\", line 298, in get_data_df\\n    result_it = self.find_entries([key], time_query, geo_query, extra_query_list)\\n\\n  File \"/Users/rsimpson/e-mission-server/emission/storage/timeseries/builtin_timeseries.py\", line 217, in find_entries\\n    (orig_ts_db_count, orig_ts_db_result) = self._get_entries_for_timeseries(self.timeseries_db,\\n\\n  File \"/Users/rsimpson/e-mission-server/emission/storage/timeseries/builtin_timeseries.py\", line 243, in _get_entries_for_timeseries\\n    traceback.format_stack(),\\n   \n",
      "747         in segment_into_sections\\n    self.get_location_streams_for_trip(timeseries, time_query)\\n\\n  File \"/Users/rsimpson/e-mission-server/emission/analysis/intake/segmentation/section_segmentation_methods/smoothed_high_confidence_motion.py\", line 187, in get_location_streams_for_trip\\n    self.unfiltered_loc_df = timeseries.get_data_df(\"background/location\", time_query)\\n\\n  File \"/Users/rsimpson/e-mission-server/emission/storage/timeseries/builtin_timeseries.py\", line 298, in get_data_df\\n    result_it = self.find_entries([key], time_query, geo_query, extra_query_list)\\n\\n  File \"/Users/rsimpson/e-mission-server/emission/storage/timeseries/builtin_timeseries.py\", line 224, in find_entries\\n    (analysis_ts_db_count, analysis_ts_db_result) = self._get_entries_for_timeseries(self.analysis_timeseries_db,\\n\\n  File \"/Users/rsimpson/e-mission-server/emission/storage/timeseries/builtin_timeseries.py\", line 243, in _get_entries_for_timeseries\\n    traceback.format_stack(),\\n   \n",
      "748                          in segment_into_sections\\n    self.get_location_streams_for_trip(timeseries, time_query)\\n\\n  File \"/Users/rsimpson/e-mission-server/emission/analysis/intake/segmentation/section_segmentation_methods/smoothed_high_confidence_motion.py\", line 187, in get_location_streams_for_trip\\n    self.unfiltered_loc_df = timeseries.get_data_df(\"background/location\", time_query)\\n\\n  File \"/Users/rsimpson/e-mission-server/emission/storage/timeseries/builtin_timeseries.py\", line 298, in get_data_df\\n    result_it = self.find_entries([key], time_query, geo_query, extra_query_list)\\n\\n  File \"/Users/rsimpson/e-mission-server/emission/storage/timeseries/builtin_timeseries.py\", line 217, in find_entries\\n    (orig_ts_db_count, orig_ts_db_result) = self._get_entries_for_timeseries(self.timeseries_db,\\n\\n  File \"/Users/rsimpson/e-mission-server/emission/storage/timeseries/builtin_timeseries.py\", line 243, in _get_entries_for_timeseries\\n    traceback.format_stack(),\\n   \n",
      "753   in segment_into_sections\\n    motion_changes = self.segment_into_motion_changes(timeseries, time_query)\\n\\n  File \"/Users/rsimpson/e-mission-server/emission/analysis/intake/segmentation/section_segmentation_methods/smoothed_high_confidence_motion.py\", line 61, in segment_into_motion_changes\\n    motion_df = timeseries.get_data_df(\"background/motion_activity\", time_query)\\n\\n  File \"/Users/rsimpson/e-mission-server/emission/storage/timeseries/builtin_timeseries.py\", line 298, in get_data_df\\n    result_it = self.find_entries([key], time_query, geo_query, extra_query_list)\\n\\n  File \"/Users/rsimpson/e-mission-server/emission/storage/timeseries/builtin_timeseries.py\", line 224, in find_entries\\n    (analysis_ts_db_count, analysis_ts_db_result) = self._get_entries_for_timeseries(self.analysis_timeseries_db,\\n\\n  File \"/Users/rsimpson/e-mission-server/emission/storage/timeseries/builtin_timeseries.py\", line 243, in _get_entries_for_timeseries\\n    traceback.format_stack(),\\n   \n",
      "754                    in segment_into_sections\\n    motion_changes = self.segment_into_motion_changes(timeseries, time_query)\\n\\n  File \"/Users/rsimpson/e-mission-server/emission/analysis/intake/segmentation/section_segmentation_methods/smoothed_high_confidence_motion.py\", line 61, in segment_into_motion_changes\\n    motion_df = timeseries.get_data_df(\"background/motion_activity\", time_query)\\n\\n  File \"/Users/rsimpson/e-mission-server/emission/storage/timeseries/builtin_timeseries.py\", line 298, in get_data_df\\n    result_it = self.find_entries([key], time_query, geo_query, extra_query_list)\\n\\n  File \"/Users/rsimpson/e-mission-server/emission/storage/timeseries/builtin_timeseries.py\", line 217, in find_entries\\n    (orig_ts_db_count, orig_ts_db_result) = self._get_entries_for_timeseries(self.timeseries_db,\\n\\n  File \"/Users/rsimpson/e-mission-server/emission/storage/timeseries/builtin_timeseries.py\", line 243, in _get_entries_for_timeseries\\n    traceback.format_stack(),\\n   \n",
      "755  in segment_into_sections\\n    self.get_location_streams_for_trip(timeseries, time_query)\\n\\n  File \"/Users/rsimpson/e-mission-server/emission/analysis/intake/segmentation/section_segmentation_methods/smoothed_high_confidence_motion.py\", line 188, in get_location_streams_for_trip\\n    self.location_points = timeseries.get_data_df(\"background/filtered_location\", time_query)\\n\\n  File \"/Users/rsimpson/e-mission-server/emission/storage/timeseries/builtin_timeseries.py\", line 298, in get_data_df\\n    result_it = self.find_entries([key], time_query, geo_query, extra_query_list)\\n\\n  File \"/Users/rsimpson/e-mission-server/emission/storage/timeseries/builtin_timeseries.py\", line 224, in find_entries\\n    (analysis_ts_db_count, analysis_ts_db_result) = self._get_entries_for_timeseries(self.analysis_timeseries_db,\\n\\n  File \"/Users/rsimpson/e-mission-server/emission/storage/timeseries/builtin_timeseries.py\", line 243, in _get_entries_for_timeseries\\n    traceback.format_stack(),\\n   \n",
      "756                   in segment_into_sections\\n    self.get_location_streams_for_trip(timeseries, time_query)\\n\\n  File \"/Users/rsimpson/e-mission-server/emission/analysis/intake/segmentation/section_segmentation_methods/smoothed_high_confidence_motion.py\", line 188, in get_location_streams_for_trip\\n    self.location_points = timeseries.get_data_df(\"background/filtered_location\", time_query)\\n\\n  File \"/Users/rsimpson/e-mission-server/emission/storage/timeseries/builtin_timeseries.py\", line 298, in get_data_df\\n    result_it = self.find_entries([key], time_query, geo_query, extra_query_list)\\n\\n  File \"/Users/rsimpson/e-mission-server/emission/storage/timeseries/builtin_timeseries.py\", line 217, in find_entries\\n    (orig_ts_db_count, orig_ts_db_result) = self._get_entries_for_timeseries(self.timeseries_db,\\n\\n  File \"/Users/rsimpson/e-mission-server/emission/storage/timeseries/builtin_timeseries.py\", line 243, in _get_entries_for_timeseries\\n    traceback.format_stack(),\\n   \n",
      "757         in segment_into_sections\\n    self.get_location_streams_for_trip(timeseries, time_query)\\n\\n  File \"/Users/rsimpson/e-mission-server/emission/analysis/intake/segmentation/section_segmentation_methods/smoothed_high_confidence_motion.py\", line 187, in get_location_streams_for_trip\\n    self.unfiltered_loc_df = timeseries.get_data_df(\"background/location\", time_query)\\n\\n  File \"/Users/rsimpson/e-mission-server/emission/storage/timeseries/builtin_timeseries.py\", line 298, in get_data_df\\n    result_it = self.find_entries([key], time_query, geo_query, extra_query_list)\\n\\n  File \"/Users/rsimpson/e-mission-server/emission/storage/timeseries/builtin_timeseries.py\", line 224, in find_entries\\n    (analysis_ts_db_count, analysis_ts_db_result) = self._get_entries_for_timeseries(self.analysis_timeseries_db,\\n\\n  File \"/Users/rsimpson/e-mission-server/emission/storage/timeseries/builtin_timeseries.py\", line 243, in _get_entries_for_timeseries\\n    traceback.format_stack(),\\n   \n",
      "758                          in segment_into_sections\\n    self.get_location_streams_for_trip(timeseries, time_query)\\n\\n  File \"/Users/rsimpson/e-mission-server/emission/analysis/intake/segmentation/section_segmentation_methods/smoothed_high_confidence_motion.py\", line 187, in get_location_streams_for_trip\\n    self.unfiltered_loc_df = timeseries.get_data_df(\"background/location\", time_query)\\n\\n  File \"/Users/rsimpson/e-mission-server/emission/storage/timeseries/builtin_timeseries.py\", line 298, in get_data_df\\n    result_it = self.find_entries([key], time_query, geo_query, extra_query_list)\\n\\n  File \"/Users/rsimpson/e-mission-server/emission/storage/timeseries/builtin_timeseries.py\", line 217, in find_entries\\n    (orig_ts_db_count, orig_ts_db_result) = self._get_entries_for_timeseries(self.timeseries_db,\\n\\n  File \"/Users/rsimpson/e-mission-server/emission/storage/timeseries/builtin_timeseries.py\", line 243, in _get_entries_for_timeseries\\n    traceback.format_stack(),\\n   \n",
      "763   in segment_into_sections\\n    motion_changes = self.segment_into_motion_changes(timeseries, time_query)\\n\\n  File \"/Users/rsimpson/e-mission-server/emission/analysis/intake/segmentation/section_segmentation_methods/smoothed_high_confidence_motion.py\", line 61, in segment_into_motion_changes\\n    motion_df = timeseries.get_data_df(\"background/motion_activity\", time_query)\\n\\n  File \"/Users/rsimpson/e-mission-server/emission/storage/timeseries/builtin_timeseries.py\", line 298, in get_data_df\\n    result_it = self.find_entries([key], time_query, geo_query, extra_query_list)\\n\\n  File \"/Users/rsimpson/e-mission-server/emission/storage/timeseries/builtin_timeseries.py\", line 224, in find_entries\\n    (analysis_ts_db_count, analysis_ts_db_result) = self._get_entries_for_timeseries(self.analysis_timeseries_db,\\n\\n  File \"/Users/rsimpson/e-mission-server/emission/storage/timeseries/builtin_timeseries.py\", line 243, in _get_entries_for_timeseries\\n    traceback.format_stack(),\\n   \n",
      "764                    in segment_into_sections\\n    motion_changes = self.segment_into_motion_changes(timeseries, time_query)\\n\\n  File \"/Users/rsimpson/e-mission-server/emission/analysis/intake/segmentation/section_segmentation_methods/smoothed_high_confidence_motion.py\", line 61, in segment_into_motion_changes\\n    motion_df = timeseries.get_data_df(\"background/motion_activity\", time_query)\\n\\n  File \"/Users/rsimpson/e-mission-server/emission/storage/timeseries/builtin_timeseries.py\", line 298, in get_data_df\\n    result_it = self.find_entries([key], time_query, geo_query, extra_query_list)\\n\\n  File \"/Users/rsimpson/e-mission-server/emission/storage/timeseries/builtin_timeseries.py\", line 217, in find_entries\\n    (orig_ts_db_count, orig_ts_db_result) = self._get_entries_for_timeseries(self.timeseries_db,\\n\\n  File \"/Users/rsimpson/e-mission-server/emission/storage/timeseries/builtin_timeseries.py\", line 243, in _get_entries_for_timeseries\\n    traceback.format_stack(),\\n   \n",
      "765  in segment_into_sections\\n    self.get_location_streams_for_trip(timeseries, time_query)\\n\\n  File \"/Users/rsimpson/e-mission-server/emission/analysis/intake/segmentation/section_segmentation_methods/smoothed_high_confidence_motion.py\", line 188, in get_location_streams_for_trip\\n    self.location_points = timeseries.get_data_df(\"background/filtered_location\", time_query)\\n\\n  File \"/Users/rsimpson/e-mission-server/emission/storage/timeseries/builtin_timeseries.py\", line 298, in get_data_df\\n    result_it = self.find_entries([key], time_query, geo_query, extra_query_list)\\n\\n  File \"/Users/rsimpson/e-mission-server/emission/storage/timeseries/builtin_timeseries.py\", line 224, in find_entries\\n    (analysis_ts_db_count, analysis_ts_db_result) = self._get_entries_for_timeseries(self.analysis_timeseries_db,\\n\\n  File \"/Users/rsimpson/e-mission-server/emission/storage/timeseries/builtin_timeseries.py\", line 243, in _get_entries_for_timeseries\\n    traceback.format_stack(),\\n   \n",
      "766                   in segment_into_sections\\n    self.get_location_streams_for_trip(timeseries, time_query)\\n\\n  File \"/Users/rsimpson/e-mission-server/emission/analysis/intake/segmentation/section_segmentation_methods/smoothed_high_confidence_motion.py\", line 188, in get_location_streams_for_trip\\n    self.location_points = timeseries.get_data_df(\"background/filtered_location\", time_query)\\n\\n  File \"/Users/rsimpson/e-mission-server/emission/storage/timeseries/builtin_timeseries.py\", line 298, in get_data_df\\n    result_it = self.find_entries([key], time_query, geo_query, extra_query_list)\\n\\n  File \"/Users/rsimpson/e-mission-server/emission/storage/timeseries/builtin_timeseries.py\", line 217, in find_entries\\n    (orig_ts_db_count, orig_ts_db_result) = self._get_entries_for_timeseries(self.timeseries_db,\\n\\n  File \"/Users/rsimpson/e-mission-server/emission/storage/timeseries/builtin_timeseries.py\", line 243, in _get_entries_for_timeseries\\n    traceback.format_stack(),\\n   \n",
      "767         in segment_into_sections\\n    self.get_location_streams_for_trip(timeseries, time_query)\\n\\n  File \"/Users/rsimpson/e-mission-server/emission/analysis/intake/segmentation/section_segmentation_methods/smoothed_high_confidence_motion.py\", line 187, in get_location_streams_for_trip\\n    self.unfiltered_loc_df = timeseries.get_data_df(\"background/location\", time_query)\\n\\n  File \"/Users/rsimpson/e-mission-server/emission/storage/timeseries/builtin_timeseries.py\", line 298, in get_data_df\\n    result_it = self.find_entries([key], time_query, geo_query, extra_query_list)\\n\\n  File \"/Users/rsimpson/e-mission-server/emission/storage/timeseries/builtin_timeseries.py\", line 224, in find_entries\\n    (analysis_ts_db_count, analysis_ts_db_result) = self._get_entries_for_timeseries(self.analysis_timeseries_db,\\n\\n  File \"/Users/rsimpson/e-mission-server/emission/storage/timeseries/builtin_timeseries.py\", line 243, in _get_entries_for_timeseries\\n    traceback.format_stack(),\\n   \n",
      "768                          in segment_into_sections\\n    self.get_location_streams_for_trip(timeseries, time_query)\\n\\n  File \"/Users/rsimpson/e-mission-server/emission/analysis/intake/segmentation/section_segmentation_methods/smoothed_high_confidence_motion.py\", line 187, in get_location_streams_for_trip\\n    self.unfiltered_loc_df = timeseries.get_data_df(\"background/location\", time_query)\\n\\n  File \"/Users/rsimpson/e-mission-server/emission/storage/timeseries/builtin_timeseries.py\", line 298, in get_data_df\\n    result_it = self.find_entries([key], time_query, geo_query, extra_query_list)\\n\\n  File \"/Users/rsimpson/e-mission-server/emission/storage/timeseries/builtin_timeseries.py\", line 217, in find_entries\\n    (orig_ts_db_count, orig_ts_db_result) = self._get_entries_for_timeseries(self.timeseries_db,\\n\\n  File \"/Users/rsimpson/e-mission-server/emission/storage/timeseries/builtin_timeseries.py\", line 243, in _get_entries_for_timeseries\\n    traceback.format_stack(),\\n   \n",
      "773   in segment_into_sections\\n    motion_changes = self.segment_into_motion_changes(timeseries, time_query)\\n\\n  File \"/Users/rsimpson/e-mission-server/emission/analysis/intake/segmentation/section_segmentation_methods/smoothed_high_confidence_motion.py\", line 61, in segment_into_motion_changes\\n    motion_df = timeseries.get_data_df(\"background/motion_activity\", time_query)\\n\\n  File \"/Users/rsimpson/e-mission-server/emission/storage/timeseries/builtin_timeseries.py\", line 298, in get_data_df\\n    result_it = self.find_entries([key], time_query, geo_query, extra_query_list)\\n\\n  File \"/Users/rsimpson/e-mission-server/emission/storage/timeseries/builtin_timeseries.py\", line 224, in find_entries\\n    (analysis_ts_db_count, analysis_ts_db_result) = self._get_entries_for_timeseries(self.analysis_timeseries_db,\\n\\n  File \"/Users/rsimpson/e-mission-server/emission/storage/timeseries/builtin_timeseries.py\", line 243, in _get_entries_for_timeseries\\n    traceback.format_stack(),\\n   \n",
      "774                    in segment_into_sections\\n    motion_changes = self.segment_into_motion_changes(timeseries, time_query)\\n\\n  File \"/Users/rsimpson/e-mission-server/emission/analysis/intake/segmentation/section_segmentation_methods/smoothed_high_confidence_motion.py\", line 61, in segment_into_motion_changes\\n    motion_df = timeseries.get_data_df(\"background/motion_activity\", time_query)\\n\\n  File \"/Users/rsimpson/e-mission-server/emission/storage/timeseries/builtin_timeseries.py\", line 298, in get_data_df\\n    result_it = self.find_entries([key], time_query, geo_query, extra_query_list)\\n\\n  File \"/Users/rsimpson/e-mission-server/emission/storage/timeseries/builtin_timeseries.py\", line 217, in find_entries\\n    (orig_ts_db_count, orig_ts_db_result) = self._get_entries_for_timeseries(self.timeseries_db,\\n\\n  File \"/Users/rsimpson/e-mission-server/emission/storage/timeseries/builtin_timeseries.py\", line 243, in _get_entries_for_timeseries\\n    traceback.format_stack(),\\n   \n",
      "775  in segment_into_sections\\n    self.get_location_streams_for_trip(timeseries, time_query)\\n\\n  File \"/Users/rsimpson/e-mission-server/emission/analysis/intake/segmentation/section_segmentation_methods/smoothed_high_confidence_motion.py\", line 188, in get_location_streams_for_trip\\n    self.location_points = timeseries.get_data_df(\"background/filtered_location\", time_query)\\n\\n  File \"/Users/rsimpson/e-mission-server/emission/storage/timeseries/builtin_timeseries.py\", line 298, in get_data_df\\n    result_it = self.find_entries([key], time_query, geo_query, extra_query_list)\\n\\n  File \"/Users/rsimpson/e-mission-server/emission/storage/timeseries/builtin_timeseries.py\", line 224, in find_entries\\n    (analysis_ts_db_count, analysis_ts_db_result) = self._get_entries_for_timeseries(self.analysis_timeseries_db,\\n\\n  File \"/Users/rsimpson/e-mission-server/emission/storage/timeseries/builtin_timeseries.py\", line 243, in _get_entries_for_timeseries\\n    traceback.format_stack(),\\n   \n",
      "776                   in segment_into_sections\\n    self.get_location_streams_for_trip(timeseries, time_query)\\n\\n  File \"/Users/rsimpson/e-mission-server/emission/analysis/intake/segmentation/section_segmentation_methods/smoothed_high_confidence_motion.py\", line 188, in get_location_streams_for_trip\\n    self.location_points = timeseries.get_data_df(\"background/filtered_location\", time_query)\\n\\n  File \"/Users/rsimpson/e-mission-server/emission/storage/timeseries/builtin_timeseries.py\", line 298, in get_data_df\\n    result_it = self.find_entries([key], time_query, geo_query, extra_query_list)\\n\\n  File \"/Users/rsimpson/e-mission-server/emission/storage/timeseries/builtin_timeseries.py\", line 217, in find_entries\\n    (orig_ts_db_count, orig_ts_db_result) = self._get_entries_for_timeseries(self.timeseries_db,\\n\\n  File \"/Users/rsimpson/e-mission-server/emission/storage/timeseries/builtin_timeseries.py\", line 243, in _get_entries_for_timeseries\\n    traceback.format_stack(),\\n   \n",
      "777         in segment_into_sections\\n    self.get_location_streams_for_trip(timeseries, time_query)\\n\\n  File \"/Users/rsimpson/e-mission-server/emission/analysis/intake/segmentation/section_segmentation_methods/smoothed_high_confidence_motion.py\", line 187, in get_location_streams_for_trip\\n    self.unfiltered_loc_df = timeseries.get_data_df(\"background/location\", time_query)\\n\\n  File \"/Users/rsimpson/e-mission-server/emission/storage/timeseries/builtin_timeseries.py\", line 298, in get_data_df\\n    result_it = self.find_entries([key], time_query, geo_query, extra_query_list)\\n\\n  File \"/Users/rsimpson/e-mission-server/emission/storage/timeseries/builtin_timeseries.py\", line 224, in find_entries\\n    (analysis_ts_db_count, analysis_ts_db_result) = self._get_entries_for_timeseries(self.analysis_timeseries_db,\\n\\n  File \"/Users/rsimpson/e-mission-server/emission/storage/timeseries/builtin_timeseries.py\", line 243, in _get_entries_for_timeseries\\n    traceback.format_stack(),\\n   \n",
      "778                          in segment_into_sections\\n    self.get_location_streams_for_trip(timeseries, time_query)\\n\\n  File \"/Users/rsimpson/e-mission-server/emission/analysis/intake/segmentation/section_segmentation_methods/smoothed_high_confidence_motion.py\", line 187, in get_location_streams_for_trip\\n    self.unfiltered_loc_df = timeseries.get_data_df(\"background/location\", time_query)\\n\\n  File \"/Users/rsimpson/e-mission-server/emission/storage/timeseries/builtin_timeseries.py\", line 298, in get_data_df\\n    result_it = self.find_entries([key], time_query, geo_query, extra_query_list)\\n\\n  File \"/Users/rsimpson/e-mission-server/emission/storage/timeseries/builtin_timeseries.py\", line 217, in find_entries\\n    (orig_ts_db_count, orig_ts_db_result) = self._get_entries_for_timeseries(self.timeseries_db,\\n\\n  File \"/Users/rsimpson/e-mission-server/emission/storage/timeseries/builtin_timeseries.py\", line 243, in _get_entries_for_timeseries\\n    traceback.format_stack(),\\n   \n",
      "783   in segment_into_sections\\n    motion_changes = self.segment_into_motion_changes(timeseries, time_query)\\n\\n  File \"/Users/rsimpson/e-mission-server/emission/analysis/intake/segmentation/section_segmentation_methods/smoothed_high_confidence_motion.py\", line 61, in segment_into_motion_changes\\n    motion_df = timeseries.get_data_df(\"background/motion_activity\", time_query)\\n\\n  File \"/Users/rsimpson/e-mission-server/emission/storage/timeseries/builtin_timeseries.py\", line 298, in get_data_df\\n    result_it = self.find_entries([key], time_query, geo_query, extra_query_list)\\n\\n  File \"/Users/rsimpson/e-mission-server/emission/storage/timeseries/builtin_timeseries.py\", line 224, in find_entries\\n    (analysis_ts_db_count, analysis_ts_db_result) = self._get_entries_for_timeseries(self.analysis_timeseries_db,\\n\\n  File \"/Users/rsimpson/e-mission-server/emission/storage/timeseries/builtin_timeseries.py\", line 243, in _get_entries_for_timeseries\\n    traceback.format_stack(),\\n   \n",
      "784                    in segment_into_sections\\n    motion_changes = self.segment_into_motion_changes(timeseries, time_query)\\n\\n  File \"/Users/rsimpson/e-mission-server/emission/analysis/intake/segmentation/section_segmentation_methods/smoothed_high_confidence_motion.py\", line 61, in segment_into_motion_changes\\n    motion_df = timeseries.get_data_df(\"background/motion_activity\", time_query)\\n\\n  File \"/Users/rsimpson/e-mission-server/emission/storage/timeseries/builtin_timeseries.py\", line 298, in get_data_df\\n    result_it = self.find_entries([key], time_query, geo_query, extra_query_list)\\n\\n  File \"/Users/rsimpson/e-mission-server/emission/storage/timeseries/builtin_timeseries.py\", line 217, in find_entries\\n    (orig_ts_db_count, orig_ts_db_result) = self._get_entries_for_timeseries(self.timeseries_db,\\n\\n  File \"/Users/rsimpson/e-mission-server/emission/storage/timeseries/builtin_timeseries.py\", line 243, in _get_entries_for_timeseries\\n    traceback.format_stack(),\\n   \n",
      "785  in segment_into_sections\\n    self.get_location_streams_for_trip(timeseries, time_query)\\n\\n  File \"/Users/rsimpson/e-mission-server/emission/analysis/intake/segmentation/section_segmentation_methods/smoothed_high_confidence_motion.py\", line 188, in get_location_streams_for_trip\\n    self.location_points = timeseries.get_data_df(\"background/filtered_location\", time_query)\\n\\n  File \"/Users/rsimpson/e-mission-server/emission/storage/timeseries/builtin_timeseries.py\", line 298, in get_data_df\\n    result_it = self.find_entries([key], time_query, geo_query, extra_query_list)\\n\\n  File \"/Users/rsimpson/e-mission-server/emission/storage/timeseries/builtin_timeseries.py\", line 224, in find_entries\\n    (analysis_ts_db_count, analysis_ts_db_result) = self._get_entries_for_timeseries(self.analysis_timeseries_db,\\n\\n  File \"/Users/rsimpson/e-mission-server/emission/storage/timeseries/builtin_timeseries.py\", line 243, in _get_entries_for_timeseries\\n    traceback.format_stack(),\\n   \n",
      "786                   in segment_into_sections\\n    self.get_location_streams_for_trip(timeseries, time_query)\\n\\n  File \"/Users/rsimpson/e-mission-server/emission/analysis/intake/segmentation/section_segmentation_methods/smoothed_high_confidence_motion.py\", line 188, in get_location_streams_for_trip\\n    self.location_points = timeseries.get_data_df(\"background/filtered_location\", time_query)\\n\\n  File \"/Users/rsimpson/e-mission-server/emission/storage/timeseries/builtin_timeseries.py\", line 298, in get_data_df\\n    result_it = self.find_entries([key], time_query, geo_query, extra_query_list)\\n\\n  File \"/Users/rsimpson/e-mission-server/emission/storage/timeseries/builtin_timeseries.py\", line 217, in find_entries\\n    (orig_ts_db_count, orig_ts_db_result) = self._get_entries_for_timeseries(self.timeseries_db,\\n\\n  File \"/Users/rsimpson/e-mission-server/emission/storage/timeseries/builtin_timeseries.py\", line 243, in _get_entries_for_timeseries\\n    traceback.format_stack(),\\n   \n",
      "787         in segment_into_sections\\n    self.get_location_streams_for_trip(timeseries, time_query)\\n\\n  File \"/Users/rsimpson/e-mission-server/emission/analysis/intake/segmentation/section_segmentation_methods/smoothed_high_confidence_motion.py\", line 187, in get_location_streams_for_trip\\n    self.unfiltered_loc_df = timeseries.get_data_df(\"background/location\", time_query)\\n\\n  File \"/Users/rsimpson/e-mission-server/emission/storage/timeseries/builtin_timeseries.py\", line 298, in get_data_df\\n    result_it = self.find_entries([key], time_query, geo_query, extra_query_list)\\n\\n  File \"/Users/rsimpson/e-mission-server/emission/storage/timeseries/builtin_timeseries.py\", line 224, in find_entries\\n    (analysis_ts_db_count, analysis_ts_db_result) = self._get_entries_for_timeseries(self.analysis_timeseries_db,\\n\\n  File \"/Users/rsimpson/e-mission-server/emission/storage/timeseries/builtin_timeseries.py\", line 243, in _get_entries_for_timeseries\\n    traceback.format_stack(),\\n   \n",
      "788                          in segment_into_sections\\n    self.get_location_streams_for_trip(timeseries, time_query)\\n\\n  File \"/Users/rsimpson/e-mission-server/emission/analysis/intake/segmentation/section_segmentation_methods/smoothed_high_confidence_motion.py\", line 187, in get_location_streams_for_trip\\n    self.unfiltered_loc_df = timeseries.get_data_df(\"background/location\", time_query)\\n\\n  File \"/Users/rsimpson/e-mission-server/emission/storage/timeseries/builtin_timeseries.py\", line 298, in get_data_df\\n    result_it = self.find_entries([key], time_query, geo_query, extra_query_list)\\n\\n  File \"/Users/rsimpson/e-mission-server/emission/storage/timeseries/builtin_timeseries.py\", line 217, in find_entries\\n    (orig_ts_db_count, orig_ts_db_result) = self._get_entries_for_timeseries(self.timeseries_db,\\n\\n  File \"/Users/rsimpson/e-mission-server/emission/storage/timeseries/builtin_timeseries.py\", line 243, in _get_entries_for_timeseries\\n    traceback.format_stack(),\\n   \n",
      "793   in segment_into_sections\\n    motion_changes = self.segment_into_motion_changes(timeseries, time_query)\\n\\n  File \"/Users/rsimpson/e-mission-server/emission/analysis/intake/segmentation/section_segmentation_methods/smoothed_high_confidence_motion.py\", line 61, in segment_into_motion_changes\\n    motion_df = timeseries.get_data_df(\"background/motion_activity\", time_query)\\n\\n  File \"/Users/rsimpson/e-mission-server/emission/storage/timeseries/builtin_timeseries.py\", line 298, in get_data_df\\n    result_it = self.find_entries([key], time_query, geo_query, extra_query_list)\\n\\n  File \"/Users/rsimpson/e-mission-server/emission/storage/timeseries/builtin_timeseries.py\", line 224, in find_entries\\n    (analysis_ts_db_count, analysis_ts_db_result) = self._get_entries_for_timeseries(self.analysis_timeseries_db,\\n\\n  File \"/Users/rsimpson/e-mission-server/emission/storage/timeseries/builtin_timeseries.py\", line 243, in _get_entries_for_timeseries\\n    traceback.format_stack(),\\n   \n",
      "794                    in segment_into_sections\\n    motion_changes = self.segment_into_motion_changes(timeseries, time_query)\\n\\n  File \"/Users/rsimpson/e-mission-server/emission/analysis/intake/segmentation/section_segmentation_methods/smoothed_high_confidence_motion.py\", line 61, in segment_into_motion_changes\\n    motion_df = timeseries.get_data_df(\"background/motion_activity\", time_query)\\n\\n  File \"/Users/rsimpson/e-mission-server/emission/storage/timeseries/builtin_timeseries.py\", line 298, in get_data_df\\n    result_it = self.find_entries([key], time_query, geo_query, extra_query_list)\\n\\n  File \"/Users/rsimpson/e-mission-server/emission/storage/timeseries/builtin_timeseries.py\", line 217, in find_entries\\n    (orig_ts_db_count, orig_ts_db_result) = self._get_entries_for_timeseries(self.timeseries_db,\\n\\n  File \"/Users/rsimpson/e-mission-server/emission/storage/timeseries/builtin_timeseries.py\", line 243, in _get_entries_for_timeseries\\n    traceback.format_stack(),\\n   \n",
      "795  in segment_into_sections\\n    self.get_location_streams_for_trip(timeseries, time_query)\\n\\n  File \"/Users/rsimpson/e-mission-server/emission/analysis/intake/segmentation/section_segmentation_methods/smoothed_high_confidence_motion.py\", line 188, in get_location_streams_for_trip\\n    self.location_points = timeseries.get_data_df(\"background/filtered_location\", time_query)\\n\\n  File \"/Users/rsimpson/e-mission-server/emission/storage/timeseries/builtin_timeseries.py\", line 298, in get_data_df\\n    result_it = self.find_entries([key], time_query, geo_query, extra_query_list)\\n\\n  File \"/Users/rsimpson/e-mission-server/emission/storage/timeseries/builtin_timeseries.py\", line 224, in find_entries\\n    (analysis_ts_db_count, analysis_ts_db_result) = self._get_entries_for_timeseries(self.analysis_timeseries_db,\\n\\n  File \"/Users/rsimpson/e-mission-server/emission/storage/timeseries/builtin_timeseries.py\", line 243, in _get_entries_for_timeseries\\n    traceback.format_stack(),\\n   \n",
      "796                   in segment_into_sections\\n    self.get_location_streams_for_trip(timeseries, time_query)\\n\\n  File \"/Users/rsimpson/e-mission-server/emission/analysis/intake/segmentation/section_segmentation_methods/smoothed_high_confidence_motion.py\", line 188, in get_location_streams_for_trip\\n    self.location_points = timeseries.get_data_df(\"background/filtered_location\", time_query)\\n\\n  File \"/Users/rsimpson/e-mission-server/emission/storage/timeseries/builtin_timeseries.py\", line 298, in get_data_df\\n    result_it = self.find_entries([key], time_query, geo_query, extra_query_list)\\n\\n  File \"/Users/rsimpson/e-mission-server/emission/storage/timeseries/builtin_timeseries.py\", line 217, in find_entries\\n    (orig_ts_db_count, orig_ts_db_result) = self._get_entries_for_timeseries(self.timeseries_db,\\n\\n  File \"/Users/rsimpson/e-mission-server/emission/storage/timeseries/builtin_timeseries.py\", line 243, in _get_entries_for_timeseries\\n    traceback.format_stack(),\\n   \n",
      "797         in segment_into_sections\\n    self.get_location_streams_for_trip(timeseries, time_query)\\n\\n  File \"/Users/rsimpson/e-mission-server/emission/analysis/intake/segmentation/section_segmentation_methods/smoothed_high_confidence_motion.py\", line 187, in get_location_streams_for_trip\\n    self.unfiltered_loc_df = timeseries.get_data_df(\"background/location\", time_query)\\n\\n  File \"/Users/rsimpson/e-mission-server/emission/storage/timeseries/builtin_timeseries.py\", line 298, in get_data_df\\n    result_it = self.find_entries([key], time_query, geo_query, extra_query_list)\\n\\n  File \"/Users/rsimpson/e-mission-server/emission/storage/timeseries/builtin_timeseries.py\", line 224, in find_entries\\n    (analysis_ts_db_count, analysis_ts_db_result) = self._get_entries_for_timeseries(self.analysis_timeseries_db,\\n\\n  File \"/Users/rsimpson/e-mission-server/emission/storage/timeseries/builtin_timeseries.py\", line 243, in _get_entries_for_timeseries\\n    traceback.format_stack(),\\n   \n",
      "798                          in segment_into_sections\\n    self.get_location_streams_for_trip(timeseries, time_query)\\n\\n  File \"/Users/rsimpson/e-mission-server/emission/analysis/intake/segmentation/section_segmentation_methods/smoothed_high_confidence_motion.py\", line 187, in get_location_streams_for_trip\\n    self.unfiltered_loc_df = timeseries.get_data_df(\"background/location\", time_query)\\n\\n  File \"/Users/rsimpson/e-mission-server/emission/storage/timeseries/builtin_timeseries.py\", line 298, in get_data_df\\n    result_it = self.find_entries([key], time_query, geo_query, extra_query_list)\\n\\n  File \"/Users/rsimpson/e-mission-server/emission/storage/timeseries/builtin_timeseries.py\", line 217, in find_entries\\n    (orig_ts_db_count, orig_ts_db_result) = self._get_entries_for_timeseries(self.timeseries_db,\\n\\n  File \"/Users/rsimpson/e-mission-server/emission/storage/timeseries/builtin_timeseries.py\", line 243, in _get_entries_for_timeseries\\n    traceback.format_stack(),\\n   \n",
      "803   in segment_into_sections\\n    motion_changes = self.segment_into_motion_changes(timeseries, time_query)\\n\\n  File \"/Users/rsimpson/e-mission-server/emission/analysis/intake/segmentation/section_segmentation_methods/smoothed_high_confidence_motion.py\", line 61, in segment_into_motion_changes\\n    motion_df = timeseries.get_data_df(\"background/motion_activity\", time_query)\\n\\n  File \"/Users/rsimpson/e-mission-server/emission/storage/timeseries/builtin_timeseries.py\", line 298, in get_data_df\\n    result_it = self.find_entries([key], time_query, geo_query, extra_query_list)\\n\\n  File \"/Users/rsimpson/e-mission-server/emission/storage/timeseries/builtin_timeseries.py\", line 224, in find_entries\\n    (analysis_ts_db_count, analysis_ts_db_result) = self._get_entries_for_timeseries(self.analysis_timeseries_db,\\n\\n  File \"/Users/rsimpson/e-mission-server/emission/storage/timeseries/builtin_timeseries.py\", line 243, in _get_entries_for_timeseries\\n    traceback.format_stack(),\\n   \n",
      "804                    in segment_into_sections\\n    motion_changes = self.segment_into_motion_changes(timeseries, time_query)\\n\\n  File \"/Users/rsimpson/e-mission-server/emission/analysis/intake/segmentation/section_segmentation_methods/smoothed_high_confidence_motion.py\", line 61, in segment_into_motion_changes\\n    motion_df = timeseries.get_data_df(\"background/motion_activity\", time_query)\\n\\n  File \"/Users/rsimpson/e-mission-server/emission/storage/timeseries/builtin_timeseries.py\", line 298, in get_data_df\\n    result_it = self.find_entries([key], time_query, geo_query, extra_query_list)\\n\\n  File \"/Users/rsimpson/e-mission-server/emission/storage/timeseries/builtin_timeseries.py\", line 217, in find_entries\\n    (orig_ts_db_count, orig_ts_db_result) = self._get_entries_for_timeseries(self.timeseries_db,\\n\\n  File \"/Users/rsimpson/e-mission-server/emission/storage/timeseries/builtin_timeseries.py\", line 243, in _get_entries_for_timeseries\\n    traceback.format_stack(),\\n   \n",
      "805  in segment_into_sections\\n    self.get_location_streams_for_trip(timeseries, time_query)\\n\\n  File \"/Users/rsimpson/e-mission-server/emission/analysis/intake/segmentation/section_segmentation_methods/smoothed_high_confidence_motion.py\", line 188, in get_location_streams_for_trip\\n    self.location_points = timeseries.get_data_df(\"background/filtered_location\", time_query)\\n\\n  File \"/Users/rsimpson/e-mission-server/emission/storage/timeseries/builtin_timeseries.py\", line 298, in get_data_df\\n    result_it = self.find_entries([key], time_query, geo_query, extra_query_list)\\n\\n  File \"/Users/rsimpson/e-mission-server/emission/storage/timeseries/builtin_timeseries.py\", line 224, in find_entries\\n    (analysis_ts_db_count, analysis_ts_db_result) = self._get_entries_for_timeseries(self.analysis_timeseries_db,\\n\\n  File \"/Users/rsimpson/e-mission-server/emission/storage/timeseries/builtin_timeseries.py\", line 243, in _get_entries_for_timeseries\\n    traceback.format_stack(),\\n   \n",
      "806                   in segment_into_sections\\n    self.get_location_streams_for_trip(timeseries, time_query)\\n\\n  File \"/Users/rsimpson/e-mission-server/emission/analysis/intake/segmentation/section_segmentation_methods/smoothed_high_confidence_motion.py\", line 188, in get_location_streams_for_trip\\n    self.location_points = timeseries.get_data_df(\"background/filtered_location\", time_query)\\n\\n  File \"/Users/rsimpson/e-mission-server/emission/storage/timeseries/builtin_timeseries.py\", line 298, in get_data_df\\n    result_it = self.find_entries([key], time_query, geo_query, extra_query_list)\\n\\n  File \"/Users/rsimpson/e-mission-server/emission/storage/timeseries/builtin_timeseries.py\", line 217, in find_entries\\n    (orig_ts_db_count, orig_ts_db_result) = self._get_entries_for_timeseries(self.timeseries_db,\\n\\n  File \"/Users/rsimpson/e-mission-server/emission/storage/timeseries/builtin_timeseries.py\", line 243, in _get_entries_for_timeseries\\n    traceback.format_stack(),\\n   \n",
      "807         in segment_into_sections\\n    self.get_location_streams_for_trip(timeseries, time_query)\\n\\n  File \"/Users/rsimpson/e-mission-server/emission/analysis/intake/segmentation/section_segmentation_methods/smoothed_high_confidence_motion.py\", line 187, in get_location_streams_for_trip\\n    self.unfiltered_loc_df = timeseries.get_data_df(\"background/location\", time_query)\\n\\n  File \"/Users/rsimpson/e-mission-server/emission/storage/timeseries/builtin_timeseries.py\", line 298, in get_data_df\\n    result_it = self.find_entries([key], time_query, geo_query, extra_query_list)\\n\\n  File \"/Users/rsimpson/e-mission-server/emission/storage/timeseries/builtin_timeseries.py\", line 224, in find_entries\\n    (analysis_ts_db_count, analysis_ts_db_result) = self._get_entries_for_timeseries(self.analysis_timeseries_db,\\n\\n  File \"/Users/rsimpson/e-mission-server/emission/storage/timeseries/builtin_timeseries.py\", line 243, in _get_entries_for_timeseries\\n    traceback.format_stack(),\\n   \n",
      "808                          in segment_into_sections\\n    self.get_location_streams_for_trip(timeseries, time_query)\\n\\n  File \"/Users/rsimpson/e-mission-server/emission/analysis/intake/segmentation/section_segmentation_methods/smoothed_high_confidence_motion.py\", line 187, in get_location_streams_for_trip\\n    self.unfiltered_loc_df = timeseries.get_data_df(\"background/location\", time_query)\\n\\n  File \"/Users/rsimpson/e-mission-server/emission/storage/timeseries/builtin_timeseries.py\", line 298, in get_data_df\\n    result_it = self.find_entries([key], time_query, geo_query, extra_query_list)\\n\\n  File \"/Users/rsimpson/e-mission-server/emission/storage/timeseries/builtin_timeseries.py\", line 217, in find_entries\\n    (orig_ts_db_count, orig_ts_db_result) = self._get_entries_for_timeseries(self.timeseries_db,\\n\\n  File \"/Users/rsimpson/e-mission-server/emission/storage/timeseries/builtin_timeseries.py\", line 243, in _get_entries_for_timeseries\\n    traceback.format_stack(),\\n   \n",
      "813   in segment_into_sections\\n    motion_changes = self.segment_into_motion_changes(timeseries, time_query)\\n\\n  File \"/Users/rsimpson/e-mission-server/emission/analysis/intake/segmentation/section_segmentation_methods/smoothed_high_confidence_motion.py\", line 61, in segment_into_motion_changes\\n    motion_df = timeseries.get_data_df(\"background/motion_activity\", time_query)\\n\\n  File \"/Users/rsimpson/e-mission-server/emission/storage/timeseries/builtin_timeseries.py\", line 298, in get_data_df\\n    result_it = self.find_entries([key], time_query, geo_query, extra_query_list)\\n\\n  File \"/Users/rsimpson/e-mission-server/emission/storage/timeseries/builtin_timeseries.py\", line 224, in find_entries\\n    (analysis_ts_db_count, analysis_ts_db_result) = self._get_entries_for_timeseries(self.analysis_timeseries_db,\\n\\n  File \"/Users/rsimpson/e-mission-server/emission/storage/timeseries/builtin_timeseries.py\", line 243, in _get_entries_for_timeseries\\n    traceback.format_stack(),\\n   \n",
      "814                    in segment_into_sections\\n    motion_changes = self.segment_into_motion_changes(timeseries, time_query)\\n\\n  File \"/Users/rsimpson/e-mission-server/emission/analysis/intake/segmentation/section_segmentation_methods/smoothed_high_confidence_motion.py\", line 61, in segment_into_motion_changes\\n    motion_df = timeseries.get_data_df(\"background/motion_activity\", time_query)\\n\\n  File \"/Users/rsimpson/e-mission-server/emission/storage/timeseries/builtin_timeseries.py\", line 298, in get_data_df\\n    result_it = self.find_entries([key], time_query, geo_query, extra_query_list)\\n\\n  File \"/Users/rsimpson/e-mission-server/emission/storage/timeseries/builtin_timeseries.py\", line 217, in find_entries\\n    (orig_ts_db_count, orig_ts_db_result) = self._get_entries_for_timeseries(self.timeseries_db,\\n\\n  File \"/Users/rsimpson/e-mission-server/emission/storage/timeseries/builtin_timeseries.py\", line 243, in _get_entries_for_timeseries\\n    traceback.format_stack(),\\n   \n",
      "815  in segment_into_sections\\n    self.get_location_streams_for_trip(timeseries, time_query)\\n\\n  File \"/Users/rsimpson/e-mission-server/emission/analysis/intake/segmentation/section_segmentation_methods/smoothed_high_confidence_motion.py\", line 188, in get_location_streams_for_trip\\n    self.location_points = timeseries.get_data_df(\"background/filtered_location\", time_query)\\n\\n  File \"/Users/rsimpson/e-mission-server/emission/storage/timeseries/builtin_timeseries.py\", line 298, in get_data_df\\n    result_it = self.find_entries([key], time_query, geo_query, extra_query_list)\\n\\n  File \"/Users/rsimpson/e-mission-server/emission/storage/timeseries/builtin_timeseries.py\", line 224, in find_entries\\n    (analysis_ts_db_count, analysis_ts_db_result) = self._get_entries_for_timeseries(self.analysis_timeseries_db,\\n\\n  File \"/Users/rsimpson/e-mission-server/emission/storage/timeseries/builtin_timeseries.py\", line 243, in _get_entries_for_timeseries\\n    traceback.format_stack(),\\n   \n",
      "816                   in segment_into_sections\\n    self.get_location_streams_for_trip(timeseries, time_query)\\n\\n  File \"/Users/rsimpson/e-mission-server/emission/analysis/intake/segmentation/section_segmentation_methods/smoothed_high_confidence_motion.py\", line 188, in get_location_streams_for_trip\\n    self.location_points = timeseries.get_data_df(\"background/filtered_location\", time_query)\\n\\n  File \"/Users/rsimpson/e-mission-server/emission/storage/timeseries/builtin_timeseries.py\", line 298, in get_data_df\\n    result_it = self.find_entries([key], time_query, geo_query, extra_query_list)\\n\\n  File \"/Users/rsimpson/e-mission-server/emission/storage/timeseries/builtin_timeseries.py\", line 217, in find_entries\\n    (orig_ts_db_count, orig_ts_db_result) = self._get_entries_for_timeseries(self.timeseries_db,\\n\\n  File \"/Users/rsimpson/e-mission-server/emission/storage/timeseries/builtin_timeseries.py\", line 243, in _get_entries_for_timeseries\\n    traceback.format_stack(),\\n   \n",
      "817         in segment_into_sections\\n    self.get_location_streams_for_trip(timeseries, time_query)\\n\\n  File \"/Users/rsimpson/e-mission-server/emission/analysis/intake/segmentation/section_segmentation_methods/smoothed_high_confidence_motion.py\", line 187, in get_location_streams_for_trip\\n    self.unfiltered_loc_df = timeseries.get_data_df(\"background/location\", time_query)\\n\\n  File \"/Users/rsimpson/e-mission-server/emission/storage/timeseries/builtin_timeseries.py\", line 298, in get_data_df\\n    result_it = self.find_entries([key], time_query, geo_query, extra_query_list)\\n\\n  File \"/Users/rsimpson/e-mission-server/emission/storage/timeseries/builtin_timeseries.py\", line 224, in find_entries\\n    (analysis_ts_db_count, analysis_ts_db_result) = self._get_entries_for_timeseries(self.analysis_timeseries_db,\\n\\n  File \"/Users/rsimpson/e-mission-server/emission/storage/timeseries/builtin_timeseries.py\", line 243, in _get_entries_for_timeseries\\n    traceback.format_stack(),\\n   \n",
      "818                          in segment_into_sections\\n    self.get_location_streams_for_trip(timeseries, time_query)\\n\\n  File \"/Users/rsimpson/e-mission-server/emission/analysis/intake/segmentation/section_segmentation_methods/smoothed_high_confidence_motion.py\", line 187, in get_location_streams_for_trip\\n    self.unfiltered_loc_df = timeseries.get_data_df(\"background/location\", time_query)\\n\\n  File \"/Users/rsimpson/e-mission-server/emission/storage/timeseries/builtin_timeseries.py\", line 298, in get_data_df\\n    result_it = self.find_entries([key], time_query, geo_query, extra_query_list)\\n\\n  File \"/Users/rsimpson/e-mission-server/emission/storage/timeseries/builtin_timeseries.py\", line 217, in find_entries\\n    (orig_ts_db_count, orig_ts_db_result) = self._get_entries_for_timeseries(self.timeseries_db,\\n\\n  File \"/Users/rsimpson/e-mission-server/emission/storage/timeseries/builtin_timeseries.py\", line 243, in _get_entries_for_timeseries\\n    traceback.format_stack(),\\n   \n",
      "823   in segment_into_sections\\n    motion_changes = self.segment_into_motion_changes(timeseries, time_query)\\n\\n  File \"/Users/rsimpson/e-mission-server/emission/analysis/intake/segmentation/section_segmentation_methods/smoothed_high_confidence_motion.py\", line 61, in segment_into_motion_changes\\n    motion_df = timeseries.get_data_df(\"background/motion_activity\", time_query)\\n\\n  File \"/Users/rsimpson/e-mission-server/emission/storage/timeseries/builtin_timeseries.py\", line 298, in get_data_df\\n    result_it = self.find_entries([key], time_query, geo_query, extra_query_list)\\n\\n  File \"/Users/rsimpson/e-mission-server/emission/storage/timeseries/builtin_timeseries.py\", line 224, in find_entries\\n    (analysis_ts_db_count, analysis_ts_db_result) = self._get_entries_for_timeseries(self.analysis_timeseries_db,\\n\\n  File \"/Users/rsimpson/e-mission-server/emission/storage/timeseries/builtin_timeseries.py\", line 243, in _get_entries_for_timeseries\\n    traceback.format_stack(),\\n   \n",
      "824                    in segment_into_sections\\n    motion_changes = self.segment_into_motion_changes(timeseries, time_query)\\n\\n  File \"/Users/rsimpson/e-mission-server/emission/analysis/intake/segmentation/section_segmentation_methods/smoothed_high_confidence_motion.py\", line 61, in segment_into_motion_changes\\n    motion_df = timeseries.get_data_df(\"background/motion_activity\", time_query)\\n\\n  File \"/Users/rsimpson/e-mission-server/emission/storage/timeseries/builtin_timeseries.py\", line 298, in get_data_df\\n    result_it = self.find_entries([key], time_query, geo_query, extra_query_list)\\n\\n  File \"/Users/rsimpson/e-mission-server/emission/storage/timeseries/builtin_timeseries.py\", line 217, in find_entries\\n    (orig_ts_db_count, orig_ts_db_result) = self._get_entries_for_timeseries(self.timeseries_db,\\n\\n  File \"/Users/rsimpson/e-mission-server/emission/storage/timeseries/builtin_timeseries.py\", line 243, in _get_entries_for_timeseries\\n    traceback.format_stack(),\\n   \n",
      "825  in segment_into_sections\\n    self.get_location_streams_for_trip(timeseries, time_query)\\n\\n  File \"/Users/rsimpson/e-mission-server/emission/analysis/intake/segmentation/section_segmentation_methods/smoothed_high_confidence_motion.py\", line 188, in get_location_streams_for_trip\\n    self.location_points = timeseries.get_data_df(\"background/filtered_location\", time_query)\\n\\n  File \"/Users/rsimpson/e-mission-server/emission/storage/timeseries/builtin_timeseries.py\", line 298, in get_data_df\\n    result_it = self.find_entries([key], time_query, geo_query, extra_query_list)\\n\\n  File \"/Users/rsimpson/e-mission-server/emission/storage/timeseries/builtin_timeseries.py\", line 224, in find_entries\\n    (analysis_ts_db_count, analysis_ts_db_result) = self._get_entries_for_timeseries(self.analysis_timeseries_db,\\n\\n  File \"/Users/rsimpson/e-mission-server/emission/storage/timeseries/builtin_timeseries.py\", line 243, in _get_entries_for_timeseries\\n    traceback.format_stack(),\\n   \n",
      "826                   in segment_into_sections\\n    self.get_location_streams_for_trip(timeseries, time_query)\\n\\n  File \"/Users/rsimpson/e-mission-server/emission/analysis/intake/segmentation/section_segmentation_methods/smoothed_high_confidence_motion.py\", line 188, in get_location_streams_for_trip\\n    self.location_points = timeseries.get_data_df(\"background/filtered_location\", time_query)\\n\\n  File \"/Users/rsimpson/e-mission-server/emission/storage/timeseries/builtin_timeseries.py\", line 298, in get_data_df\\n    result_it = self.find_entries([key], time_query, geo_query, extra_query_list)\\n\\n  File \"/Users/rsimpson/e-mission-server/emission/storage/timeseries/builtin_timeseries.py\", line 217, in find_entries\\n    (orig_ts_db_count, orig_ts_db_result) = self._get_entries_for_timeseries(self.timeseries_db,\\n\\n  File \"/Users/rsimpson/e-mission-server/emission/storage/timeseries/builtin_timeseries.py\", line 243, in _get_entries_for_timeseries\\n    traceback.format_stack(),\\n   \n",
      "827         in segment_into_sections\\n    self.get_location_streams_for_trip(timeseries, time_query)\\n\\n  File \"/Users/rsimpson/e-mission-server/emission/analysis/intake/segmentation/section_segmentation_methods/smoothed_high_confidence_motion.py\", line 187, in get_location_streams_for_trip\\n    self.unfiltered_loc_df = timeseries.get_data_df(\"background/location\", time_query)\\n\\n  File \"/Users/rsimpson/e-mission-server/emission/storage/timeseries/builtin_timeseries.py\", line 298, in get_data_df\\n    result_it = self.find_entries([key], time_query, geo_query, extra_query_list)\\n\\n  File \"/Users/rsimpson/e-mission-server/emission/storage/timeseries/builtin_timeseries.py\", line 224, in find_entries\\n    (analysis_ts_db_count, analysis_ts_db_result) = self._get_entries_for_timeseries(self.analysis_timeseries_db,\\n\\n  File \"/Users/rsimpson/e-mission-server/emission/storage/timeseries/builtin_timeseries.py\", line 243, in _get_entries_for_timeseries\\n    traceback.format_stack(),\\n   \n",
      "828                          in segment_into_sections\\n    self.get_location_streams_for_trip(timeseries, time_query)\\n\\n  File \"/Users/rsimpson/e-mission-server/emission/analysis/intake/segmentation/section_segmentation_methods/smoothed_high_confidence_motion.py\", line 187, in get_location_streams_for_trip\\n    self.unfiltered_loc_df = timeseries.get_data_df(\"background/location\", time_query)\\n\\n  File \"/Users/rsimpson/e-mission-server/emission/storage/timeseries/builtin_timeseries.py\", line 298, in get_data_df\\n    result_it = self.find_entries([key], time_query, geo_query, extra_query_list)\\n\\n  File \"/Users/rsimpson/e-mission-server/emission/storage/timeseries/builtin_timeseries.py\", line 217, in find_entries\\n    (orig_ts_db_count, orig_ts_db_result) = self._get_entries_for_timeseries(self.timeseries_db,\\n\\n  File \"/Users/rsimpson/e-mission-server/emission/storage/timeseries/builtin_timeseries.py\", line 243, in _get_entries_for_timeseries\\n    traceback.format_stack(),\\n   \n",
      "833   in segment_into_sections\\n    motion_changes = self.segment_into_motion_changes(timeseries, time_query)\\n\\n  File \"/Users/rsimpson/e-mission-server/emission/analysis/intake/segmentation/section_segmentation_methods/smoothed_high_confidence_motion.py\", line 61, in segment_into_motion_changes\\n    motion_df = timeseries.get_data_df(\"background/motion_activity\", time_query)\\n\\n  File \"/Users/rsimpson/e-mission-server/emission/storage/timeseries/builtin_timeseries.py\", line 298, in get_data_df\\n    result_it = self.find_entries([key], time_query, geo_query, extra_query_list)\\n\\n  File \"/Users/rsimpson/e-mission-server/emission/storage/timeseries/builtin_timeseries.py\", line 224, in find_entries\\n    (analysis_ts_db_count, analysis_ts_db_result) = self._get_entries_for_timeseries(self.analysis_timeseries_db,\\n\\n  File \"/Users/rsimpson/e-mission-server/emission/storage/timeseries/builtin_timeseries.py\", line 243, in _get_entries_for_timeseries\\n    traceback.format_stack(),\\n   \n",
      "834                    in segment_into_sections\\n    motion_changes = self.segment_into_motion_changes(timeseries, time_query)\\n\\n  File \"/Users/rsimpson/e-mission-server/emission/analysis/intake/segmentation/section_segmentation_methods/smoothed_high_confidence_motion.py\", line 61, in segment_into_motion_changes\\n    motion_df = timeseries.get_data_df(\"background/motion_activity\", time_query)\\n\\n  File \"/Users/rsimpson/e-mission-server/emission/storage/timeseries/builtin_timeseries.py\", line 298, in get_data_df\\n    result_it = self.find_entries([key], time_query, geo_query, extra_query_list)\\n\\n  File \"/Users/rsimpson/e-mission-server/emission/storage/timeseries/builtin_timeseries.py\", line 217, in find_entries\\n    (orig_ts_db_count, orig_ts_db_result) = self._get_entries_for_timeseries(self.timeseries_db,\\n\\n  File \"/Users/rsimpson/e-mission-server/emission/storage/timeseries/builtin_timeseries.py\", line 243, in _get_entries_for_timeseries\\n    traceback.format_stack(),\\n   \n",
      "835  in segment_into_sections\\n    self.get_location_streams_for_trip(timeseries, time_query)\\n\\n  File \"/Users/rsimpson/e-mission-server/emission/analysis/intake/segmentation/section_segmentation_methods/smoothed_high_confidence_motion.py\", line 188, in get_location_streams_for_trip\\n    self.location_points = timeseries.get_data_df(\"background/filtered_location\", time_query)\\n\\n  File \"/Users/rsimpson/e-mission-server/emission/storage/timeseries/builtin_timeseries.py\", line 298, in get_data_df\\n    result_it = self.find_entries([key], time_query, geo_query, extra_query_list)\\n\\n  File \"/Users/rsimpson/e-mission-server/emission/storage/timeseries/builtin_timeseries.py\", line 224, in find_entries\\n    (analysis_ts_db_count, analysis_ts_db_result) = self._get_entries_for_timeseries(self.analysis_timeseries_db,\\n\\n  File \"/Users/rsimpson/e-mission-server/emission/storage/timeseries/builtin_timeseries.py\", line 243, in _get_entries_for_timeseries\\n    traceback.format_stack(),\\n   \n",
      "836                   in segment_into_sections\\n    self.get_location_streams_for_trip(timeseries, time_query)\\n\\n  File \"/Users/rsimpson/e-mission-server/emission/analysis/intake/segmentation/section_segmentation_methods/smoothed_high_confidence_motion.py\", line 188, in get_location_streams_for_trip\\n    self.location_points = timeseries.get_data_df(\"background/filtered_location\", time_query)\\n\\n  File \"/Users/rsimpson/e-mission-server/emission/storage/timeseries/builtin_timeseries.py\", line 298, in get_data_df\\n    result_it = self.find_entries([key], time_query, geo_query, extra_query_list)\\n\\n  File \"/Users/rsimpson/e-mission-server/emission/storage/timeseries/builtin_timeseries.py\", line 217, in find_entries\\n    (orig_ts_db_count, orig_ts_db_result) = self._get_entries_for_timeseries(self.timeseries_db,\\n\\n  File \"/Users/rsimpson/e-mission-server/emission/storage/timeseries/builtin_timeseries.py\", line 243, in _get_entries_for_timeseries\\n    traceback.format_stack(),\\n   \n",
      "837         in segment_into_sections\\n    self.get_location_streams_for_trip(timeseries, time_query)\\n\\n  File \"/Users/rsimpson/e-mission-server/emission/analysis/intake/segmentation/section_segmentation_methods/smoothed_high_confidence_motion.py\", line 187, in get_location_streams_for_trip\\n    self.unfiltered_loc_df = timeseries.get_data_df(\"background/location\", time_query)\\n\\n  File \"/Users/rsimpson/e-mission-server/emission/storage/timeseries/builtin_timeseries.py\", line 298, in get_data_df\\n    result_it = self.find_entries([key], time_query, geo_query, extra_query_list)\\n\\n  File \"/Users/rsimpson/e-mission-server/emission/storage/timeseries/builtin_timeseries.py\", line 224, in find_entries\\n    (analysis_ts_db_count, analysis_ts_db_result) = self._get_entries_for_timeseries(self.analysis_timeseries_db,\\n\\n  File \"/Users/rsimpson/e-mission-server/emission/storage/timeseries/builtin_timeseries.py\", line 243, in _get_entries_for_timeseries\\n    traceback.format_stack(),\\n   \n",
      "838                          in segment_into_sections\\n    self.get_location_streams_for_trip(timeseries, time_query)\\n\\n  File \"/Users/rsimpson/e-mission-server/emission/analysis/intake/segmentation/section_segmentation_methods/smoothed_high_confidence_motion.py\", line 187, in get_location_streams_for_trip\\n    self.unfiltered_loc_df = timeseries.get_data_df(\"background/location\", time_query)\\n\\n  File \"/Users/rsimpson/e-mission-server/emission/storage/timeseries/builtin_timeseries.py\", line 298, in get_data_df\\n    result_it = self.find_entries([key], time_query, geo_query, extra_query_list)\\n\\n  File \"/Users/rsimpson/e-mission-server/emission/storage/timeseries/builtin_timeseries.py\", line 217, in find_entries\\n    (orig_ts_db_count, orig_ts_db_result) = self._get_entries_for_timeseries(self.timeseries_db,\\n\\n  File \"/Users/rsimpson/e-mission-server/emission/storage/timeseries/builtin_timeseries.py\", line 243, in _get_entries_for_timeseries\\n    traceback.format_stack(),\\n   \n",
      "843   in segment_into_sections\\n    motion_changes = self.segment_into_motion_changes(timeseries, time_query)\\n\\n  File \"/Users/rsimpson/e-mission-server/emission/analysis/intake/segmentation/section_segmentation_methods/smoothed_high_confidence_motion.py\", line 61, in segment_into_motion_changes\\n    motion_df = timeseries.get_data_df(\"background/motion_activity\", time_query)\\n\\n  File \"/Users/rsimpson/e-mission-server/emission/storage/timeseries/builtin_timeseries.py\", line 298, in get_data_df\\n    result_it = self.find_entries([key], time_query, geo_query, extra_query_list)\\n\\n  File \"/Users/rsimpson/e-mission-server/emission/storage/timeseries/builtin_timeseries.py\", line 224, in find_entries\\n    (analysis_ts_db_count, analysis_ts_db_result) = self._get_entries_for_timeseries(self.analysis_timeseries_db,\\n\\n  File \"/Users/rsimpson/e-mission-server/emission/storage/timeseries/builtin_timeseries.py\", line 243, in _get_entries_for_timeseries\\n    traceback.format_stack(),\\n   \n",
      "844                    in segment_into_sections\\n    motion_changes = self.segment_into_motion_changes(timeseries, time_query)\\n\\n  File \"/Users/rsimpson/e-mission-server/emission/analysis/intake/segmentation/section_segmentation_methods/smoothed_high_confidence_motion.py\", line 61, in segment_into_motion_changes\\n    motion_df = timeseries.get_data_df(\"background/motion_activity\", time_query)\\n\\n  File \"/Users/rsimpson/e-mission-server/emission/storage/timeseries/builtin_timeseries.py\", line 298, in get_data_df\\n    result_it = self.find_entries([key], time_query, geo_query, extra_query_list)\\n\\n  File \"/Users/rsimpson/e-mission-server/emission/storage/timeseries/builtin_timeseries.py\", line 217, in find_entries\\n    (orig_ts_db_count, orig_ts_db_result) = self._get_entries_for_timeseries(self.timeseries_db,\\n\\n  File \"/Users/rsimpson/e-mission-server/emission/storage/timeseries/builtin_timeseries.py\", line 243, in _get_entries_for_timeseries\\n    traceback.format_stack(),\\n   \n",
      "845  in segment_into_sections\\n    self.get_location_streams_for_trip(timeseries, time_query)\\n\\n  File \"/Users/rsimpson/e-mission-server/emission/analysis/intake/segmentation/section_segmentation_methods/smoothed_high_confidence_motion.py\", line 188, in get_location_streams_for_trip\\n    self.location_points = timeseries.get_data_df(\"background/filtered_location\", time_query)\\n\\n  File \"/Users/rsimpson/e-mission-server/emission/storage/timeseries/builtin_timeseries.py\", line 298, in get_data_df\\n    result_it = self.find_entries([key], time_query, geo_query, extra_query_list)\\n\\n  File \"/Users/rsimpson/e-mission-server/emission/storage/timeseries/builtin_timeseries.py\", line 224, in find_entries\\n    (analysis_ts_db_count, analysis_ts_db_result) = self._get_entries_for_timeseries(self.analysis_timeseries_db,\\n\\n  File \"/Users/rsimpson/e-mission-server/emission/storage/timeseries/builtin_timeseries.py\", line 243, in _get_entries_for_timeseries\\n    traceback.format_stack(),\\n   \n",
      "846                   in segment_into_sections\\n    self.get_location_streams_for_trip(timeseries, time_query)\\n\\n  File \"/Users/rsimpson/e-mission-server/emission/analysis/intake/segmentation/section_segmentation_methods/smoothed_high_confidence_motion.py\", line 188, in get_location_streams_for_trip\\n    self.location_points = timeseries.get_data_df(\"background/filtered_location\", time_query)\\n\\n  File \"/Users/rsimpson/e-mission-server/emission/storage/timeseries/builtin_timeseries.py\", line 298, in get_data_df\\n    result_it = self.find_entries([key], time_query, geo_query, extra_query_list)\\n\\n  File \"/Users/rsimpson/e-mission-server/emission/storage/timeseries/builtin_timeseries.py\", line 217, in find_entries\\n    (orig_ts_db_count, orig_ts_db_result) = self._get_entries_for_timeseries(self.timeseries_db,\\n\\n  File \"/Users/rsimpson/e-mission-server/emission/storage/timeseries/builtin_timeseries.py\", line 243, in _get_entries_for_timeseries\\n    traceback.format_stack(),\\n   \n",
      "847         in segment_into_sections\\n    self.get_location_streams_for_trip(timeseries, time_query)\\n\\n  File \"/Users/rsimpson/e-mission-server/emission/analysis/intake/segmentation/section_segmentation_methods/smoothed_high_confidence_motion.py\", line 187, in get_location_streams_for_trip\\n    self.unfiltered_loc_df = timeseries.get_data_df(\"background/location\", time_query)\\n\\n  File \"/Users/rsimpson/e-mission-server/emission/storage/timeseries/builtin_timeseries.py\", line 298, in get_data_df\\n    result_it = self.find_entries([key], time_query, geo_query, extra_query_list)\\n\\n  File \"/Users/rsimpson/e-mission-server/emission/storage/timeseries/builtin_timeseries.py\", line 224, in find_entries\\n    (analysis_ts_db_count, analysis_ts_db_result) = self._get_entries_for_timeseries(self.analysis_timeseries_db,\\n\\n  File \"/Users/rsimpson/e-mission-server/emission/storage/timeseries/builtin_timeseries.py\", line 243, in _get_entries_for_timeseries\\n    traceback.format_stack(),\\n   \n",
      "848                          in segment_into_sections\\n    self.get_location_streams_for_trip(timeseries, time_query)\\n\\n  File \"/Users/rsimpson/e-mission-server/emission/analysis/intake/segmentation/section_segmentation_methods/smoothed_high_confidence_motion.py\", line 187, in get_location_streams_for_trip\\n    self.unfiltered_loc_df = timeseries.get_data_df(\"background/location\", time_query)\\n\\n  File \"/Users/rsimpson/e-mission-server/emission/storage/timeseries/builtin_timeseries.py\", line 298, in get_data_df\\n    result_it = self.find_entries([key], time_query, geo_query, extra_query_list)\\n\\n  File \"/Users/rsimpson/e-mission-server/emission/storage/timeseries/builtin_timeseries.py\", line 217, in find_entries\\n    (orig_ts_db_count, orig_ts_db_result) = self._get_entries_for_timeseries(self.timeseries_db,\\n\\n  File \"/Users/rsimpson/e-mission-server/emission/storage/timeseries/builtin_timeseries.py\", line 243, in _get_entries_for_timeseries\\n    traceback.format_stack(),\\n   \n",
      "853   in segment_into_sections\\n    motion_changes = self.segment_into_motion_changes(timeseries, time_query)\\n\\n  File \"/Users/rsimpson/e-mission-server/emission/analysis/intake/segmentation/section_segmentation_methods/smoothed_high_confidence_motion.py\", line 61, in segment_into_motion_changes\\n    motion_df = timeseries.get_data_df(\"background/motion_activity\", time_query)\\n\\n  File \"/Users/rsimpson/e-mission-server/emission/storage/timeseries/builtin_timeseries.py\", line 298, in get_data_df\\n    result_it = self.find_entries([key], time_query, geo_query, extra_query_list)\\n\\n  File \"/Users/rsimpson/e-mission-server/emission/storage/timeseries/builtin_timeseries.py\", line 224, in find_entries\\n    (analysis_ts_db_count, analysis_ts_db_result) = self._get_entries_for_timeseries(self.analysis_timeseries_db,\\n\\n  File \"/Users/rsimpson/e-mission-server/emission/storage/timeseries/builtin_timeseries.py\", line 243, in _get_entries_for_timeseries\\n    traceback.format_stack(),\\n   \n",
      "854                    in segment_into_sections\\n    motion_changes = self.segment_into_motion_changes(timeseries, time_query)\\n\\n  File \"/Users/rsimpson/e-mission-server/emission/analysis/intake/segmentation/section_segmentation_methods/smoothed_high_confidence_motion.py\", line 61, in segment_into_motion_changes\\n    motion_df = timeseries.get_data_df(\"background/motion_activity\", time_query)\\n\\n  File \"/Users/rsimpson/e-mission-server/emission/storage/timeseries/builtin_timeseries.py\", line 298, in get_data_df\\n    result_it = self.find_entries([key], time_query, geo_query, extra_query_list)\\n\\n  File \"/Users/rsimpson/e-mission-server/emission/storage/timeseries/builtin_timeseries.py\", line 217, in find_entries\\n    (orig_ts_db_count, orig_ts_db_result) = self._get_entries_for_timeseries(self.timeseries_db,\\n\\n  File \"/Users/rsimpson/e-mission-server/emission/storage/timeseries/builtin_timeseries.py\", line 243, in _get_entries_for_timeseries\\n    traceback.format_stack(),\\n   \n",
      "855  in segment_into_sections\\n    self.get_location_streams_for_trip(timeseries, time_query)\\n\\n  File \"/Users/rsimpson/e-mission-server/emission/analysis/intake/segmentation/section_segmentation_methods/smoothed_high_confidence_motion.py\", line 188, in get_location_streams_for_trip\\n    self.location_points = timeseries.get_data_df(\"background/filtered_location\", time_query)\\n\\n  File \"/Users/rsimpson/e-mission-server/emission/storage/timeseries/builtin_timeseries.py\", line 298, in get_data_df\\n    result_it = self.find_entries([key], time_query, geo_query, extra_query_list)\\n\\n  File \"/Users/rsimpson/e-mission-server/emission/storage/timeseries/builtin_timeseries.py\", line 224, in find_entries\\n    (analysis_ts_db_count, analysis_ts_db_result) = self._get_entries_for_timeseries(self.analysis_timeseries_db,\\n\\n  File \"/Users/rsimpson/e-mission-server/emission/storage/timeseries/builtin_timeseries.py\", line 243, in _get_entries_for_timeseries\\n    traceback.format_stack(),\\n   \n",
      "856                   in segment_into_sections\\n    self.get_location_streams_for_trip(timeseries, time_query)\\n\\n  File \"/Users/rsimpson/e-mission-server/emission/analysis/intake/segmentation/section_segmentation_methods/smoothed_high_confidence_motion.py\", line 188, in get_location_streams_for_trip\\n    self.location_points = timeseries.get_data_df(\"background/filtered_location\", time_query)\\n\\n  File \"/Users/rsimpson/e-mission-server/emission/storage/timeseries/builtin_timeseries.py\", line 298, in get_data_df\\n    result_it = self.find_entries([key], time_query, geo_query, extra_query_list)\\n\\n  File \"/Users/rsimpson/e-mission-server/emission/storage/timeseries/builtin_timeseries.py\", line 217, in find_entries\\n    (orig_ts_db_count, orig_ts_db_result) = self._get_entries_for_timeseries(self.timeseries_db,\\n\\n  File \"/Users/rsimpson/e-mission-server/emission/storage/timeseries/builtin_timeseries.py\", line 243, in _get_entries_for_timeseries\\n    traceback.format_stack(),\\n   \n",
      "857         in segment_into_sections\\n    self.get_location_streams_for_trip(timeseries, time_query)\\n\\n  File \"/Users/rsimpson/e-mission-server/emission/analysis/intake/segmentation/section_segmentation_methods/smoothed_high_confidence_motion.py\", line 187, in get_location_streams_for_trip\\n    self.unfiltered_loc_df = timeseries.get_data_df(\"background/location\", time_query)\\n\\n  File \"/Users/rsimpson/e-mission-server/emission/storage/timeseries/builtin_timeseries.py\", line 298, in get_data_df\\n    result_it = self.find_entries([key], time_query, geo_query, extra_query_list)\\n\\n  File \"/Users/rsimpson/e-mission-server/emission/storage/timeseries/builtin_timeseries.py\", line 224, in find_entries\\n    (analysis_ts_db_count, analysis_ts_db_result) = self._get_entries_for_timeseries(self.analysis_timeseries_db,\\n\\n  File \"/Users/rsimpson/e-mission-server/emission/storage/timeseries/builtin_timeseries.py\", line 243, in _get_entries_for_timeseries\\n    traceback.format_stack(),\\n   \n",
      "858                          in segment_into_sections\\n    self.get_location_streams_for_trip(timeseries, time_query)\\n\\n  File \"/Users/rsimpson/e-mission-server/emission/analysis/intake/segmentation/section_segmentation_methods/smoothed_high_confidence_motion.py\", line 187, in get_location_streams_for_trip\\n    self.unfiltered_loc_df = timeseries.get_data_df(\"background/location\", time_query)\\n\\n  File \"/Users/rsimpson/e-mission-server/emission/storage/timeseries/builtin_timeseries.py\", line 298, in get_data_df\\n    result_it = self.find_entries([key], time_query, geo_query, extra_query_list)\\n\\n  File \"/Users/rsimpson/e-mission-server/emission/storage/timeseries/builtin_timeseries.py\", line 217, in find_entries\\n    (orig_ts_db_count, orig_ts_db_result) = self._get_entries_for_timeseries(self.timeseries_db,\\n\\n  File \"/Users/rsimpson/e-mission-server/emission/storage/timeseries/builtin_timeseries.py\", line 243, in _get_entries_for_timeseries\\n    traceback.format_stack(),\\n   \n",
      "863   in segment_into_sections\\n    motion_changes = self.segment_into_motion_changes(timeseries, time_query)\\n\\n  File \"/Users/rsimpson/e-mission-server/emission/analysis/intake/segmentation/section_segmentation_methods/smoothed_high_confidence_motion.py\", line 61, in segment_into_motion_changes\\n    motion_df = timeseries.get_data_df(\"background/motion_activity\", time_query)\\n\\n  File \"/Users/rsimpson/e-mission-server/emission/storage/timeseries/builtin_timeseries.py\", line 298, in get_data_df\\n    result_it = self.find_entries([key], time_query, geo_query, extra_query_list)\\n\\n  File \"/Users/rsimpson/e-mission-server/emission/storage/timeseries/builtin_timeseries.py\", line 224, in find_entries\\n    (analysis_ts_db_count, analysis_ts_db_result) = self._get_entries_for_timeseries(self.analysis_timeseries_db,\\n\\n  File \"/Users/rsimpson/e-mission-server/emission/storage/timeseries/builtin_timeseries.py\", line 243, in _get_entries_for_timeseries\\n    traceback.format_stack(),\\n   \n",
      "864                    in segment_into_sections\\n    motion_changes = self.segment_into_motion_changes(timeseries, time_query)\\n\\n  File \"/Users/rsimpson/e-mission-server/emission/analysis/intake/segmentation/section_segmentation_methods/smoothed_high_confidence_motion.py\", line 61, in segment_into_motion_changes\\n    motion_df = timeseries.get_data_df(\"background/motion_activity\", time_query)\\n\\n  File \"/Users/rsimpson/e-mission-server/emission/storage/timeseries/builtin_timeseries.py\", line 298, in get_data_df\\n    result_it = self.find_entries([key], time_query, geo_query, extra_query_list)\\n\\n  File \"/Users/rsimpson/e-mission-server/emission/storage/timeseries/builtin_timeseries.py\", line 217, in find_entries\\n    (orig_ts_db_count, orig_ts_db_result) = self._get_entries_for_timeseries(self.timeseries_db,\\n\\n  File \"/Users/rsimpson/e-mission-server/emission/storage/timeseries/builtin_timeseries.py\", line 243, in _get_entries_for_timeseries\\n    traceback.format_stack(),\\n   \n",
      "865  in segment_into_sections\\n    self.get_location_streams_for_trip(timeseries, time_query)\\n\\n  File \"/Users/rsimpson/e-mission-server/emission/analysis/intake/segmentation/section_segmentation_methods/smoothed_high_confidence_motion.py\", line 188, in get_location_streams_for_trip\\n    self.location_points = timeseries.get_data_df(\"background/filtered_location\", time_query)\\n\\n  File \"/Users/rsimpson/e-mission-server/emission/storage/timeseries/builtin_timeseries.py\", line 298, in get_data_df\\n    result_it = self.find_entries([key], time_query, geo_query, extra_query_list)\\n\\n  File \"/Users/rsimpson/e-mission-server/emission/storage/timeseries/builtin_timeseries.py\", line 224, in find_entries\\n    (analysis_ts_db_count, analysis_ts_db_result) = self._get_entries_for_timeseries(self.analysis_timeseries_db,\\n\\n  File \"/Users/rsimpson/e-mission-server/emission/storage/timeseries/builtin_timeseries.py\", line 243, in _get_entries_for_timeseries\\n    traceback.format_stack(),\\n   \n",
      "866                   in segment_into_sections\\n    self.get_location_streams_for_trip(timeseries, time_query)\\n\\n  File \"/Users/rsimpson/e-mission-server/emission/analysis/intake/segmentation/section_segmentation_methods/smoothed_high_confidence_motion.py\", line 188, in get_location_streams_for_trip\\n    self.location_points = timeseries.get_data_df(\"background/filtered_location\", time_query)\\n\\n  File \"/Users/rsimpson/e-mission-server/emission/storage/timeseries/builtin_timeseries.py\", line 298, in get_data_df\\n    result_it = self.find_entries([key], time_query, geo_query, extra_query_list)\\n\\n  File \"/Users/rsimpson/e-mission-server/emission/storage/timeseries/builtin_timeseries.py\", line 217, in find_entries\\n    (orig_ts_db_count, orig_ts_db_result) = self._get_entries_for_timeseries(self.timeseries_db,\\n\\n  File \"/Users/rsimpson/e-mission-server/emission/storage/timeseries/builtin_timeseries.py\", line 243, in _get_entries_for_timeseries\\n    traceback.format_stack(),\\n   \n",
      "867         in segment_into_sections\\n    self.get_location_streams_for_trip(timeseries, time_query)\\n\\n  File \"/Users/rsimpson/e-mission-server/emission/analysis/intake/segmentation/section_segmentation_methods/smoothed_high_confidence_motion.py\", line 187, in get_location_streams_for_trip\\n    self.unfiltered_loc_df = timeseries.get_data_df(\"background/location\", time_query)\\n\\n  File \"/Users/rsimpson/e-mission-server/emission/storage/timeseries/builtin_timeseries.py\", line 298, in get_data_df\\n    result_it = self.find_entries([key], time_query, geo_query, extra_query_list)\\n\\n  File \"/Users/rsimpson/e-mission-server/emission/storage/timeseries/builtin_timeseries.py\", line 224, in find_entries\\n    (analysis_ts_db_count, analysis_ts_db_result) = self._get_entries_for_timeseries(self.analysis_timeseries_db,\\n\\n  File \"/Users/rsimpson/e-mission-server/emission/storage/timeseries/builtin_timeseries.py\", line 243, in _get_entries_for_timeseries\\n    traceback.format_stack(),\\n   \n",
      "868                          in segment_into_sections\\n    self.get_location_streams_for_trip(timeseries, time_query)\\n\\n  File \"/Users/rsimpson/e-mission-server/emission/analysis/intake/segmentation/section_segmentation_methods/smoothed_high_confidence_motion.py\", line 187, in get_location_streams_for_trip\\n    self.unfiltered_loc_df = timeseries.get_data_df(\"background/location\", time_query)\\n\\n  File \"/Users/rsimpson/e-mission-server/emission/storage/timeseries/builtin_timeseries.py\", line 298, in get_data_df\\n    result_it = self.find_entries([key], time_query, geo_query, extra_query_list)\\n\\n  File \"/Users/rsimpson/e-mission-server/emission/storage/timeseries/builtin_timeseries.py\", line 217, in find_entries\\n    (orig_ts_db_count, orig_ts_db_result) = self._get_entries_for_timeseries(self.timeseries_db,\\n\\n  File \"/Users/rsimpson/e-mission-server/emission/storage/timeseries/builtin_timeseries.py\", line 243, in _get_entries_for_timeseries\\n    traceback.format_stack(),\\n   \n",
      "873   in segment_into_sections\\n    motion_changes = self.segment_into_motion_changes(timeseries, time_query)\\n\\n  File \"/Users/rsimpson/e-mission-server/emission/analysis/intake/segmentation/section_segmentation_methods/smoothed_high_confidence_motion.py\", line 61, in segment_into_motion_changes\\n    motion_df = timeseries.get_data_df(\"background/motion_activity\", time_query)\\n\\n  File \"/Users/rsimpson/e-mission-server/emission/storage/timeseries/builtin_timeseries.py\", line 298, in get_data_df\\n    result_it = self.find_entries([key], time_query, geo_query, extra_query_list)\\n\\n  File \"/Users/rsimpson/e-mission-server/emission/storage/timeseries/builtin_timeseries.py\", line 224, in find_entries\\n    (analysis_ts_db_count, analysis_ts_db_result) = self._get_entries_for_timeseries(self.analysis_timeseries_db,\\n\\n  File \"/Users/rsimpson/e-mission-server/emission/storage/timeseries/builtin_timeseries.py\", line 243, in _get_entries_for_timeseries\\n    traceback.format_stack(),\\n   \n",
      "874                    in segment_into_sections\\n    motion_changes = self.segment_into_motion_changes(timeseries, time_query)\\n\\n  File \"/Users/rsimpson/e-mission-server/emission/analysis/intake/segmentation/section_segmentation_methods/smoothed_high_confidence_motion.py\", line 61, in segment_into_motion_changes\\n    motion_df = timeseries.get_data_df(\"background/motion_activity\", time_query)\\n\\n  File \"/Users/rsimpson/e-mission-server/emission/storage/timeseries/builtin_timeseries.py\", line 298, in get_data_df\\n    result_it = self.find_entries([key], time_query, geo_query, extra_query_list)\\n\\n  File \"/Users/rsimpson/e-mission-server/emission/storage/timeseries/builtin_timeseries.py\", line 217, in find_entries\\n    (orig_ts_db_count, orig_ts_db_result) = self._get_entries_for_timeseries(self.timeseries_db,\\n\\n  File \"/Users/rsimpson/e-mission-server/emission/storage/timeseries/builtin_timeseries.py\", line 243, in _get_entries_for_timeseries\\n    traceback.format_stack(),\\n   \n",
      "875  in segment_into_sections\\n    self.get_location_streams_for_trip(timeseries, time_query)\\n\\n  File \"/Users/rsimpson/e-mission-server/emission/analysis/intake/segmentation/section_segmentation_methods/smoothed_high_confidence_motion.py\", line 188, in get_location_streams_for_trip\\n    self.location_points = timeseries.get_data_df(\"background/filtered_location\", time_query)\\n\\n  File \"/Users/rsimpson/e-mission-server/emission/storage/timeseries/builtin_timeseries.py\", line 298, in get_data_df\\n    result_it = self.find_entries([key], time_query, geo_query, extra_query_list)\\n\\n  File \"/Users/rsimpson/e-mission-server/emission/storage/timeseries/builtin_timeseries.py\", line 224, in find_entries\\n    (analysis_ts_db_count, analysis_ts_db_result) = self._get_entries_for_timeseries(self.analysis_timeseries_db,\\n\\n  File \"/Users/rsimpson/e-mission-server/emission/storage/timeseries/builtin_timeseries.py\", line 243, in _get_entries_for_timeseries\\n    traceback.format_stack(),\\n   \n",
      "876                   in segment_into_sections\\n    self.get_location_streams_for_trip(timeseries, time_query)\\n\\n  File \"/Users/rsimpson/e-mission-server/emission/analysis/intake/segmentation/section_segmentation_methods/smoothed_high_confidence_motion.py\", line 188, in get_location_streams_for_trip\\n    self.location_points = timeseries.get_data_df(\"background/filtered_location\", time_query)\\n\\n  File \"/Users/rsimpson/e-mission-server/emission/storage/timeseries/builtin_timeseries.py\", line 298, in get_data_df\\n    result_it = self.find_entries([key], time_query, geo_query, extra_query_list)\\n\\n  File \"/Users/rsimpson/e-mission-server/emission/storage/timeseries/builtin_timeseries.py\", line 217, in find_entries\\n    (orig_ts_db_count, orig_ts_db_result) = self._get_entries_for_timeseries(self.timeseries_db,\\n\\n  File \"/Users/rsimpson/e-mission-server/emission/storage/timeseries/builtin_timeseries.py\", line 243, in _get_entries_for_timeseries\\n    traceback.format_stack(),\\n   \n",
      "877         in segment_into_sections\\n    self.get_location_streams_for_trip(timeseries, time_query)\\n\\n  File \"/Users/rsimpson/e-mission-server/emission/analysis/intake/segmentation/section_segmentation_methods/smoothed_high_confidence_motion.py\", line 187, in get_location_streams_for_trip\\n    self.unfiltered_loc_df = timeseries.get_data_df(\"background/location\", time_query)\\n\\n  File \"/Users/rsimpson/e-mission-server/emission/storage/timeseries/builtin_timeseries.py\", line 298, in get_data_df\\n    result_it = self.find_entries([key], time_query, geo_query, extra_query_list)\\n\\n  File \"/Users/rsimpson/e-mission-server/emission/storage/timeseries/builtin_timeseries.py\", line 224, in find_entries\\n    (analysis_ts_db_count, analysis_ts_db_result) = self._get_entries_for_timeseries(self.analysis_timeseries_db,\\n\\n  File \"/Users/rsimpson/e-mission-server/emission/storage/timeseries/builtin_timeseries.py\", line 243, in _get_entries_for_timeseries\\n    traceback.format_stack(),\\n   \n",
      "878                          in segment_into_sections\\n    self.get_location_streams_for_trip(timeseries, time_query)\\n\\n  File \"/Users/rsimpson/e-mission-server/emission/analysis/intake/segmentation/section_segmentation_methods/smoothed_high_confidence_motion.py\", line 187, in get_location_streams_for_trip\\n    self.unfiltered_loc_df = timeseries.get_data_df(\"background/location\", time_query)\\n\\n  File \"/Users/rsimpson/e-mission-server/emission/storage/timeseries/builtin_timeseries.py\", line 298, in get_data_df\\n    result_it = self.find_entries([key], time_query, geo_query, extra_query_list)\\n\\n  File \"/Users/rsimpson/e-mission-server/emission/storage/timeseries/builtin_timeseries.py\", line 217, in find_entries\\n    (orig_ts_db_count, orig_ts_db_result) = self._get_entries_for_timeseries(self.timeseries_db,\\n\\n  File \"/Users/rsimpson/e-mission-server/emission/storage/timeseries/builtin_timeseries.py\", line 243, in _get_entries_for_timeseries\\n    traceback.format_stack(),\\n   \n",
      "883   in segment_into_sections\\n    motion_changes = self.segment_into_motion_changes(timeseries, time_query)\\n\\n  File \"/Users/rsimpson/e-mission-server/emission/analysis/intake/segmentation/section_segmentation_methods/smoothed_high_confidence_motion.py\", line 61, in segment_into_motion_changes\\n    motion_df = timeseries.get_data_df(\"background/motion_activity\", time_query)\\n\\n  File \"/Users/rsimpson/e-mission-server/emission/storage/timeseries/builtin_timeseries.py\", line 298, in get_data_df\\n    result_it = self.find_entries([key], time_query, geo_query, extra_query_list)\\n\\n  File \"/Users/rsimpson/e-mission-server/emission/storage/timeseries/builtin_timeseries.py\", line 224, in find_entries\\n    (analysis_ts_db_count, analysis_ts_db_result) = self._get_entries_for_timeseries(self.analysis_timeseries_db,\\n\\n  File \"/Users/rsimpson/e-mission-server/emission/storage/timeseries/builtin_timeseries.py\", line 243, in _get_entries_for_timeseries\\n    traceback.format_stack(),\\n   \n",
      "884                    in segment_into_sections\\n    motion_changes = self.segment_into_motion_changes(timeseries, time_query)\\n\\n  File \"/Users/rsimpson/e-mission-server/emission/analysis/intake/segmentation/section_segmentation_methods/smoothed_high_confidence_motion.py\", line 61, in segment_into_motion_changes\\n    motion_df = timeseries.get_data_df(\"background/motion_activity\", time_query)\\n\\n  File \"/Users/rsimpson/e-mission-server/emission/storage/timeseries/builtin_timeseries.py\", line 298, in get_data_df\\n    result_it = self.find_entries([key], time_query, geo_query, extra_query_list)\\n\\n  File \"/Users/rsimpson/e-mission-server/emission/storage/timeseries/builtin_timeseries.py\", line 217, in find_entries\\n    (orig_ts_db_count, orig_ts_db_result) = self._get_entries_for_timeseries(self.timeseries_db,\\n\\n  File \"/Users/rsimpson/e-mission-server/emission/storage/timeseries/builtin_timeseries.py\", line 243, in _get_entries_for_timeseries\\n    traceback.format_stack(),\\n   \n",
      "885  in segment_into_sections\\n    self.get_location_streams_for_trip(timeseries, time_query)\\n\\n  File \"/Users/rsimpson/e-mission-server/emission/analysis/intake/segmentation/section_segmentation_methods/smoothed_high_confidence_motion.py\", line 188, in get_location_streams_for_trip\\n    self.location_points = timeseries.get_data_df(\"background/filtered_location\", time_query)\\n\\n  File \"/Users/rsimpson/e-mission-server/emission/storage/timeseries/builtin_timeseries.py\", line 298, in get_data_df\\n    result_it = self.find_entries([key], time_query, geo_query, extra_query_list)\\n\\n  File \"/Users/rsimpson/e-mission-server/emission/storage/timeseries/builtin_timeseries.py\", line 224, in find_entries\\n    (analysis_ts_db_count, analysis_ts_db_result) = self._get_entries_for_timeseries(self.analysis_timeseries_db,\\n\\n  File \"/Users/rsimpson/e-mission-server/emission/storage/timeseries/builtin_timeseries.py\", line 243, in _get_entries_for_timeseries\\n    traceback.format_stack(),\\n   \n",
      "886                   in segment_into_sections\\n    self.get_location_streams_for_trip(timeseries, time_query)\\n\\n  File \"/Users/rsimpson/e-mission-server/emission/analysis/intake/segmentation/section_segmentation_methods/smoothed_high_confidence_motion.py\", line 188, in get_location_streams_for_trip\\n    self.location_points = timeseries.get_data_df(\"background/filtered_location\", time_query)\\n\\n  File \"/Users/rsimpson/e-mission-server/emission/storage/timeseries/builtin_timeseries.py\", line 298, in get_data_df\\n    result_it = self.find_entries([key], time_query, geo_query, extra_query_list)\\n\\n  File \"/Users/rsimpson/e-mission-server/emission/storage/timeseries/builtin_timeseries.py\", line 217, in find_entries\\n    (orig_ts_db_count, orig_ts_db_result) = self._get_entries_for_timeseries(self.timeseries_db,\\n\\n  File \"/Users/rsimpson/e-mission-server/emission/storage/timeseries/builtin_timeseries.py\", line 243, in _get_entries_for_timeseries\\n    traceback.format_stack(),\\n   \n",
      "887         in segment_into_sections\\n    self.get_location_streams_for_trip(timeseries, time_query)\\n\\n  File \"/Users/rsimpson/e-mission-server/emission/analysis/intake/segmentation/section_segmentation_methods/smoothed_high_confidence_motion.py\", line 187, in get_location_streams_for_trip\\n    self.unfiltered_loc_df = timeseries.get_data_df(\"background/location\", time_query)\\n\\n  File \"/Users/rsimpson/e-mission-server/emission/storage/timeseries/builtin_timeseries.py\", line 298, in get_data_df\\n    result_it = self.find_entries([key], time_query, geo_query, extra_query_list)\\n\\n  File \"/Users/rsimpson/e-mission-server/emission/storage/timeseries/builtin_timeseries.py\", line 224, in find_entries\\n    (analysis_ts_db_count, analysis_ts_db_result) = self._get_entries_for_timeseries(self.analysis_timeseries_db,\\n\\n  File \"/Users/rsimpson/e-mission-server/emission/storage/timeseries/builtin_timeseries.py\", line 243, in _get_entries_for_timeseries\\n    traceback.format_stack(),\\n   \n",
      "888                          in segment_into_sections\\n    self.get_location_streams_for_trip(timeseries, time_query)\\n\\n  File \"/Users/rsimpson/e-mission-server/emission/analysis/intake/segmentation/section_segmentation_methods/smoothed_high_confidence_motion.py\", line 187, in get_location_streams_for_trip\\n    self.unfiltered_loc_df = timeseries.get_data_df(\"background/location\", time_query)\\n\\n  File \"/Users/rsimpson/e-mission-server/emission/storage/timeseries/builtin_timeseries.py\", line 298, in get_data_df\\n    result_it = self.find_entries([key], time_query, geo_query, extra_query_list)\\n\\n  File \"/Users/rsimpson/e-mission-server/emission/storage/timeseries/builtin_timeseries.py\", line 217, in find_entries\\n    (orig_ts_db_count, orig_ts_db_result) = self._get_entries_for_timeseries(self.timeseries_db,\\n\\n  File \"/Users/rsimpson/e-mission-server/emission/storage/timeseries/builtin_timeseries.py\", line 243, in _get_entries_for_timeseries\\n    traceback.format_stack(),\\n   \n",
      "893   in segment_into_sections\\n    motion_changes = self.segment_into_motion_changes(timeseries, time_query)\\n\\n  File \"/Users/rsimpson/e-mission-server/emission/analysis/intake/segmentation/section_segmentation_methods/smoothed_high_confidence_motion.py\", line 61, in segment_into_motion_changes\\n    motion_df = timeseries.get_data_df(\"background/motion_activity\", time_query)\\n\\n  File \"/Users/rsimpson/e-mission-server/emission/storage/timeseries/builtin_timeseries.py\", line 298, in get_data_df\\n    result_it = self.find_entries([key], time_query, geo_query, extra_query_list)\\n\\n  File \"/Users/rsimpson/e-mission-server/emission/storage/timeseries/builtin_timeseries.py\", line 224, in find_entries\\n    (analysis_ts_db_count, analysis_ts_db_result) = self._get_entries_for_timeseries(self.analysis_timeseries_db,\\n\\n  File \"/Users/rsimpson/e-mission-server/emission/storage/timeseries/builtin_timeseries.py\", line 243, in _get_entries_for_timeseries\\n    traceback.format_stack(),\\n   \n",
      "894                    in segment_into_sections\\n    motion_changes = self.segment_into_motion_changes(timeseries, time_query)\\n\\n  File \"/Users/rsimpson/e-mission-server/emission/analysis/intake/segmentation/section_segmentation_methods/smoothed_high_confidence_motion.py\", line 61, in segment_into_motion_changes\\n    motion_df = timeseries.get_data_df(\"background/motion_activity\", time_query)\\n\\n  File \"/Users/rsimpson/e-mission-server/emission/storage/timeseries/builtin_timeseries.py\", line 298, in get_data_df\\n    result_it = self.find_entries([key], time_query, geo_query, extra_query_list)\\n\\n  File \"/Users/rsimpson/e-mission-server/emission/storage/timeseries/builtin_timeseries.py\", line 217, in find_entries\\n    (orig_ts_db_count, orig_ts_db_result) = self._get_entries_for_timeseries(self.timeseries_db,\\n\\n  File \"/Users/rsimpson/e-mission-server/emission/storage/timeseries/builtin_timeseries.py\", line 243, in _get_entries_for_timeseries\\n    traceback.format_stack(),\\n   \n",
      "895  in segment_into_sections\\n    self.get_location_streams_for_trip(timeseries, time_query)\\n\\n  File \"/Users/rsimpson/e-mission-server/emission/analysis/intake/segmentation/section_segmentation_methods/smoothed_high_confidence_motion.py\", line 188, in get_location_streams_for_trip\\n    self.location_points = timeseries.get_data_df(\"background/filtered_location\", time_query)\\n\\n  File \"/Users/rsimpson/e-mission-server/emission/storage/timeseries/builtin_timeseries.py\", line 298, in get_data_df\\n    result_it = self.find_entries([key], time_query, geo_query, extra_query_list)\\n\\n  File \"/Users/rsimpson/e-mission-server/emission/storage/timeseries/builtin_timeseries.py\", line 224, in find_entries\\n    (analysis_ts_db_count, analysis_ts_db_result) = self._get_entries_for_timeseries(self.analysis_timeseries_db,\\n\\n  File \"/Users/rsimpson/e-mission-server/emission/storage/timeseries/builtin_timeseries.py\", line 243, in _get_entries_for_timeseries\\n    traceback.format_stack(),\\n   \n",
      "896                   in segment_into_sections\\n    self.get_location_streams_for_trip(timeseries, time_query)\\n\\n  File \"/Users/rsimpson/e-mission-server/emission/analysis/intake/segmentation/section_segmentation_methods/smoothed_high_confidence_motion.py\", line 188, in get_location_streams_for_trip\\n    self.location_points = timeseries.get_data_df(\"background/filtered_location\", time_query)\\n\\n  File \"/Users/rsimpson/e-mission-server/emission/storage/timeseries/builtin_timeseries.py\", line 298, in get_data_df\\n    result_it = self.find_entries([key], time_query, geo_query, extra_query_list)\\n\\n  File \"/Users/rsimpson/e-mission-server/emission/storage/timeseries/builtin_timeseries.py\", line 217, in find_entries\\n    (orig_ts_db_count, orig_ts_db_result) = self._get_entries_for_timeseries(self.timeseries_db,\\n\\n  File \"/Users/rsimpson/e-mission-server/emission/storage/timeseries/builtin_timeseries.py\", line 243, in _get_entries_for_timeseries\\n    traceback.format_stack(),\\n   \n",
      "897         in segment_into_sections\\n    self.get_location_streams_for_trip(timeseries, time_query)\\n\\n  File \"/Users/rsimpson/e-mission-server/emission/analysis/intake/segmentation/section_segmentation_methods/smoothed_high_confidence_motion.py\", line 187, in get_location_streams_for_trip\\n    self.unfiltered_loc_df = timeseries.get_data_df(\"background/location\", time_query)\\n\\n  File \"/Users/rsimpson/e-mission-server/emission/storage/timeseries/builtin_timeseries.py\", line 298, in get_data_df\\n    result_it = self.find_entries([key], time_query, geo_query, extra_query_list)\\n\\n  File \"/Users/rsimpson/e-mission-server/emission/storage/timeseries/builtin_timeseries.py\", line 224, in find_entries\\n    (analysis_ts_db_count, analysis_ts_db_result) = self._get_entries_for_timeseries(self.analysis_timeseries_db,\\n\\n  File \"/Users/rsimpson/e-mission-server/emission/storage/timeseries/builtin_timeseries.py\", line 243, in _get_entries_for_timeseries\\n    traceback.format_stack(),\\n   \n",
      "898                          in segment_into_sections\\n    self.get_location_streams_for_trip(timeseries, time_query)\\n\\n  File \"/Users/rsimpson/e-mission-server/emission/analysis/intake/segmentation/section_segmentation_methods/smoothed_high_confidence_motion.py\", line 187, in get_location_streams_for_trip\\n    self.unfiltered_loc_df = timeseries.get_data_df(\"background/location\", time_query)\\n\\n  File \"/Users/rsimpson/e-mission-server/emission/storage/timeseries/builtin_timeseries.py\", line 298, in get_data_df\\n    result_it = self.find_entries([key], time_query, geo_query, extra_query_list)\\n\\n  File \"/Users/rsimpson/e-mission-server/emission/storage/timeseries/builtin_timeseries.py\", line 217, in find_entries\\n    (orig_ts_db_count, orig_ts_db_result) = self._get_entries_for_timeseries(self.timeseries_db,\\n\\n  File \"/Users/rsimpson/e-mission-server/emission/storage/timeseries/builtin_timeseries.py\", line 243, in _get_entries_for_timeseries\\n    traceback.format_stack(),\\n   \n",
      "903   in segment_into_sections\\n    motion_changes = self.segment_into_motion_changes(timeseries, time_query)\\n\\n  File \"/Users/rsimpson/e-mission-server/emission/analysis/intake/segmentation/section_segmentation_methods/smoothed_high_confidence_motion.py\", line 61, in segment_into_motion_changes\\n    motion_df = timeseries.get_data_df(\"background/motion_activity\", time_query)\\n\\n  File \"/Users/rsimpson/e-mission-server/emission/storage/timeseries/builtin_timeseries.py\", line 298, in get_data_df\\n    result_it = self.find_entries([key], time_query, geo_query, extra_query_list)\\n\\n  File \"/Users/rsimpson/e-mission-server/emission/storage/timeseries/builtin_timeseries.py\", line 224, in find_entries\\n    (analysis_ts_db_count, analysis_ts_db_result) = self._get_entries_for_timeseries(self.analysis_timeseries_db,\\n\\n  File \"/Users/rsimpson/e-mission-server/emission/storage/timeseries/builtin_timeseries.py\", line 243, in _get_entries_for_timeseries\\n    traceback.format_stack(),\\n   \n",
      "904                    in segment_into_sections\\n    motion_changes = self.segment_into_motion_changes(timeseries, time_query)\\n\\n  File \"/Users/rsimpson/e-mission-server/emission/analysis/intake/segmentation/section_segmentation_methods/smoothed_high_confidence_motion.py\", line 61, in segment_into_motion_changes\\n    motion_df = timeseries.get_data_df(\"background/motion_activity\", time_query)\\n\\n  File \"/Users/rsimpson/e-mission-server/emission/storage/timeseries/builtin_timeseries.py\", line 298, in get_data_df\\n    result_it = self.find_entries([key], time_query, geo_query, extra_query_list)\\n\\n  File \"/Users/rsimpson/e-mission-server/emission/storage/timeseries/builtin_timeseries.py\", line 217, in find_entries\\n    (orig_ts_db_count, orig_ts_db_result) = self._get_entries_for_timeseries(self.timeseries_db,\\n\\n  File \"/Users/rsimpson/e-mission-server/emission/storage/timeseries/builtin_timeseries.py\", line 243, in _get_entries_for_timeseries\\n    traceback.format_stack(),\\n   \n",
      "905  in segment_into_sections\\n    self.get_location_streams_for_trip(timeseries, time_query)\\n\\n  File \"/Users/rsimpson/e-mission-server/emission/analysis/intake/segmentation/section_segmentation_methods/smoothed_high_confidence_motion.py\", line 188, in get_location_streams_for_trip\\n    self.location_points = timeseries.get_data_df(\"background/filtered_location\", time_query)\\n\\n  File \"/Users/rsimpson/e-mission-server/emission/storage/timeseries/builtin_timeseries.py\", line 298, in get_data_df\\n    result_it = self.find_entries([key], time_query, geo_query, extra_query_list)\\n\\n  File \"/Users/rsimpson/e-mission-server/emission/storage/timeseries/builtin_timeseries.py\", line 224, in find_entries\\n    (analysis_ts_db_count, analysis_ts_db_result) = self._get_entries_for_timeseries(self.analysis_timeseries_db,\\n\\n  File \"/Users/rsimpson/e-mission-server/emission/storage/timeseries/builtin_timeseries.py\", line 243, in _get_entries_for_timeseries\\n    traceback.format_stack(),\\n   \n",
      "906                   in segment_into_sections\\n    self.get_location_streams_for_trip(timeseries, time_query)\\n\\n  File \"/Users/rsimpson/e-mission-server/emission/analysis/intake/segmentation/section_segmentation_methods/smoothed_high_confidence_motion.py\", line 188, in get_location_streams_for_trip\\n    self.location_points = timeseries.get_data_df(\"background/filtered_location\", time_query)\\n\\n  File \"/Users/rsimpson/e-mission-server/emission/storage/timeseries/builtin_timeseries.py\", line 298, in get_data_df\\n    result_it = self.find_entries([key], time_query, geo_query, extra_query_list)\\n\\n  File \"/Users/rsimpson/e-mission-server/emission/storage/timeseries/builtin_timeseries.py\", line 217, in find_entries\\n    (orig_ts_db_count, orig_ts_db_result) = self._get_entries_for_timeseries(self.timeseries_db,\\n\\n  File \"/Users/rsimpson/e-mission-server/emission/storage/timeseries/builtin_timeseries.py\", line 243, in _get_entries_for_timeseries\\n    traceback.format_stack(),\\n   \n",
      "907         in segment_into_sections\\n    self.get_location_streams_for_trip(timeseries, time_query)\\n\\n  File \"/Users/rsimpson/e-mission-server/emission/analysis/intake/segmentation/section_segmentation_methods/smoothed_high_confidence_motion.py\", line 187, in get_location_streams_for_trip\\n    self.unfiltered_loc_df = timeseries.get_data_df(\"background/location\", time_query)\\n\\n  File \"/Users/rsimpson/e-mission-server/emission/storage/timeseries/builtin_timeseries.py\", line 298, in get_data_df\\n    result_it = self.find_entries([key], time_query, geo_query, extra_query_list)\\n\\n  File \"/Users/rsimpson/e-mission-server/emission/storage/timeseries/builtin_timeseries.py\", line 224, in find_entries\\n    (analysis_ts_db_count, analysis_ts_db_result) = self._get_entries_for_timeseries(self.analysis_timeseries_db,\\n\\n  File \"/Users/rsimpson/e-mission-server/emission/storage/timeseries/builtin_timeseries.py\", line 243, in _get_entries_for_timeseries\\n    traceback.format_stack(),\\n   \n",
      "908                          in segment_into_sections\\n    self.get_location_streams_for_trip(timeseries, time_query)\\n\\n  File \"/Users/rsimpson/e-mission-server/emission/analysis/intake/segmentation/section_segmentation_methods/smoothed_high_confidence_motion.py\", line 187, in get_location_streams_for_trip\\n    self.unfiltered_loc_df = timeseries.get_data_df(\"background/location\", time_query)\\n\\n  File \"/Users/rsimpson/e-mission-server/emission/storage/timeseries/builtin_timeseries.py\", line 298, in get_data_df\\n    result_it = self.find_entries([key], time_query, geo_query, extra_query_list)\\n\\n  File \"/Users/rsimpson/e-mission-server/emission/storage/timeseries/builtin_timeseries.py\", line 217, in find_entries\\n    (orig_ts_db_count, orig_ts_db_result) = self._get_entries_for_timeseries(self.timeseries_db,\\n\\n  File \"/Users/rsimpson/e-mission-server/emission/storage/timeseries/builtin_timeseries.py\", line 243, in _get_entries_for_timeseries\\n    traceback.format_stack(),\\n   \n",
      "913   in segment_into_sections\\n    motion_changes = self.segment_into_motion_changes(timeseries, time_query)\\n\\n  File \"/Users/rsimpson/e-mission-server/emission/analysis/intake/segmentation/section_segmentation_methods/smoothed_high_confidence_motion.py\", line 61, in segment_into_motion_changes\\n    motion_df = timeseries.get_data_df(\"background/motion_activity\", time_query)\\n\\n  File \"/Users/rsimpson/e-mission-server/emission/storage/timeseries/builtin_timeseries.py\", line 298, in get_data_df\\n    result_it = self.find_entries([key], time_query, geo_query, extra_query_list)\\n\\n  File \"/Users/rsimpson/e-mission-server/emission/storage/timeseries/builtin_timeseries.py\", line 224, in find_entries\\n    (analysis_ts_db_count, analysis_ts_db_result) = self._get_entries_for_timeseries(self.analysis_timeseries_db,\\n\\n  File \"/Users/rsimpson/e-mission-server/emission/storage/timeseries/builtin_timeseries.py\", line 243, in _get_entries_for_timeseries\\n    traceback.format_stack(),\\n   \n",
      "914                    in segment_into_sections\\n    motion_changes = self.segment_into_motion_changes(timeseries, time_query)\\n\\n  File \"/Users/rsimpson/e-mission-server/emission/analysis/intake/segmentation/section_segmentation_methods/smoothed_high_confidence_motion.py\", line 61, in segment_into_motion_changes\\n    motion_df = timeseries.get_data_df(\"background/motion_activity\", time_query)\\n\\n  File \"/Users/rsimpson/e-mission-server/emission/storage/timeseries/builtin_timeseries.py\", line 298, in get_data_df\\n    result_it = self.find_entries([key], time_query, geo_query, extra_query_list)\\n\\n  File \"/Users/rsimpson/e-mission-server/emission/storage/timeseries/builtin_timeseries.py\", line 217, in find_entries\\n    (orig_ts_db_count, orig_ts_db_result) = self._get_entries_for_timeseries(self.timeseries_db,\\n\\n  File \"/Users/rsimpson/e-mission-server/emission/storage/timeseries/builtin_timeseries.py\", line 243, in _get_entries_for_timeseries\\n    traceback.format_stack(),\\n   \n",
      "915  in segment_into_sections\\n    self.get_location_streams_for_trip(timeseries, time_query)\\n\\n  File \"/Users/rsimpson/e-mission-server/emission/analysis/intake/segmentation/section_segmentation_methods/smoothed_high_confidence_motion.py\", line 188, in get_location_streams_for_trip\\n    self.location_points = timeseries.get_data_df(\"background/filtered_location\", time_query)\\n\\n  File \"/Users/rsimpson/e-mission-server/emission/storage/timeseries/builtin_timeseries.py\", line 298, in get_data_df\\n    result_it = self.find_entries([key], time_query, geo_query, extra_query_list)\\n\\n  File \"/Users/rsimpson/e-mission-server/emission/storage/timeseries/builtin_timeseries.py\", line 224, in find_entries\\n    (analysis_ts_db_count, analysis_ts_db_result) = self._get_entries_for_timeseries(self.analysis_timeseries_db,\\n\\n  File \"/Users/rsimpson/e-mission-server/emission/storage/timeseries/builtin_timeseries.py\", line 243, in _get_entries_for_timeseries\\n    traceback.format_stack(),\\n   \n",
      "916                   in segment_into_sections\\n    self.get_location_streams_for_trip(timeseries, time_query)\\n\\n  File \"/Users/rsimpson/e-mission-server/emission/analysis/intake/segmentation/section_segmentation_methods/smoothed_high_confidence_motion.py\", line 188, in get_location_streams_for_trip\\n    self.location_points = timeseries.get_data_df(\"background/filtered_location\", time_query)\\n\\n  File \"/Users/rsimpson/e-mission-server/emission/storage/timeseries/builtin_timeseries.py\", line 298, in get_data_df\\n    result_it = self.find_entries([key], time_query, geo_query, extra_query_list)\\n\\n  File \"/Users/rsimpson/e-mission-server/emission/storage/timeseries/builtin_timeseries.py\", line 217, in find_entries\\n    (orig_ts_db_count, orig_ts_db_result) = self._get_entries_for_timeseries(self.timeseries_db,\\n\\n  File \"/Users/rsimpson/e-mission-server/emission/storage/timeseries/builtin_timeseries.py\", line 243, in _get_entries_for_timeseries\\n    traceback.format_stack(),\\n   \n",
      "917         in segment_into_sections\\n    self.get_location_streams_for_trip(timeseries, time_query)\\n\\n  File \"/Users/rsimpson/e-mission-server/emission/analysis/intake/segmentation/section_segmentation_methods/smoothed_high_confidence_motion.py\", line 187, in get_location_streams_for_trip\\n    self.unfiltered_loc_df = timeseries.get_data_df(\"background/location\", time_query)\\n\\n  File \"/Users/rsimpson/e-mission-server/emission/storage/timeseries/builtin_timeseries.py\", line 298, in get_data_df\\n    result_it = self.find_entries([key], time_query, geo_query, extra_query_list)\\n\\n  File \"/Users/rsimpson/e-mission-server/emission/storage/timeseries/builtin_timeseries.py\", line 224, in find_entries\\n    (analysis_ts_db_count, analysis_ts_db_result) = self._get_entries_for_timeseries(self.analysis_timeseries_db,\\n\\n  File \"/Users/rsimpson/e-mission-server/emission/storage/timeseries/builtin_timeseries.py\", line 243, in _get_entries_for_timeseries\\n    traceback.format_stack(),\\n   \n",
      "918                          in segment_into_sections\\n    self.get_location_streams_for_trip(timeseries, time_query)\\n\\n  File \"/Users/rsimpson/e-mission-server/emission/analysis/intake/segmentation/section_segmentation_methods/smoothed_high_confidence_motion.py\", line 187, in get_location_streams_for_trip\\n    self.unfiltered_loc_df = timeseries.get_data_df(\"background/location\", time_query)\\n\\n  File \"/Users/rsimpson/e-mission-server/emission/storage/timeseries/builtin_timeseries.py\", line 298, in get_data_df\\n    result_it = self.find_entries([key], time_query, geo_query, extra_query_list)\\n\\n  File \"/Users/rsimpson/e-mission-server/emission/storage/timeseries/builtin_timeseries.py\", line 217, in find_entries\\n    (orig_ts_db_count, orig_ts_db_result) = self._get_entries_for_timeseries(self.timeseries_db,\\n\\n  File \"/Users/rsimpson/e-mission-server/emission/storage/timeseries/builtin_timeseries.py\", line 243, in _get_entries_for_timeseries\\n    traceback.format_stack(),\\n   \n",
      "923   in segment_into_sections\\n    motion_changes = self.segment_into_motion_changes(timeseries, time_query)\\n\\n  File \"/Users/rsimpson/e-mission-server/emission/analysis/intake/segmentation/section_segmentation_methods/smoothed_high_confidence_motion.py\", line 61, in segment_into_motion_changes\\n    motion_df = timeseries.get_data_df(\"background/motion_activity\", time_query)\\n\\n  File \"/Users/rsimpson/e-mission-server/emission/storage/timeseries/builtin_timeseries.py\", line 298, in get_data_df\\n    result_it = self.find_entries([key], time_query, geo_query, extra_query_list)\\n\\n  File \"/Users/rsimpson/e-mission-server/emission/storage/timeseries/builtin_timeseries.py\", line 224, in find_entries\\n    (analysis_ts_db_count, analysis_ts_db_result) = self._get_entries_for_timeseries(self.analysis_timeseries_db,\\n\\n  File \"/Users/rsimpson/e-mission-server/emission/storage/timeseries/builtin_timeseries.py\", line 243, in _get_entries_for_timeseries\\n    traceback.format_stack(),\\n   \n",
      "924                    in segment_into_sections\\n    motion_changes = self.segment_into_motion_changes(timeseries, time_query)\\n\\n  File \"/Users/rsimpson/e-mission-server/emission/analysis/intake/segmentation/section_segmentation_methods/smoothed_high_confidence_motion.py\", line 61, in segment_into_motion_changes\\n    motion_df = timeseries.get_data_df(\"background/motion_activity\", time_query)\\n\\n  File \"/Users/rsimpson/e-mission-server/emission/storage/timeseries/builtin_timeseries.py\", line 298, in get_data_df\\n    result_it = self.find_entries([key], time_query, geo_query, extra_query_list)\\n\\n  File \"/Users/rsimpson/e-mission-server/emission/storage/timeseries/builtin_timeseries.py\", line 217, in find_entries\\n    (orig_ts_db_count, orig_ts_db_result) = self._get_entries_for_timeseries(self.timeseries_db,\\n\\n  File \"/Users/rsimpson/e-mission-server/emission/storage/timeseries/builtin_timeseries.py\", line 243, in _get_entries_for_timeseries\\n    traceback.format_stack(),\\n   \n",
      "925  in segment_into_sections\\n    self.get_location_streams_for_trip(timeseries, time_query)\\n\\n  File \"/Users/rsimpson/e-mission-server/emission/analysis/intake/segmentation/section_segmentation_methods/smoothed_high_confidence_motion.py\", line 188, in get_location_streams_for_trip\\n    self.location_points = timeseries.get_data_df(\"background/filtered_location\", time_query)\\n\\n  File \"/Users/rsimpson/e-mission-server/emission/storage/timeseries/builtin_timeseries.py\", line 298, in get_data_df\\n    result_it = self.find_entries([key], time_query, geo_query, extra_query_list)\\n\\n  File \"/Users/rsimpson/e-mission-server/emission/storage/timeseries/builtin_timeseries.py\", line 224, in find_entries\\n    (analysis_ts_db_count, analysis_ts_db_result) = self._get_entries_for_timeseries(self.analysis_timeseries_db,\\n\\n  File \"/Users/rsimpson/e-mission-server/emission/storage/timeseries/builtin_timeseries.py\", line 243, in _get_entries_for_timeseries\\n    traceback.format_stack(),\\n   \n",
      "926                   in segment_into_sections\\n    self.get_location_streams_for_trip(timeseries, time_query)\\n\\n  File \"/Users/rsimpson/e-mission-server/emission/analysis/intake/segmentation/section_segmentation_methods/smoothed_high_confidence_motion.py\", line 188, in get_location_streams_for_trip\\n    self.location_points = timeseries.get_data_df(\"background/filtered_location\", time_query)\\n\\n  File \"/Users/rsimpson/e-mission-server/emission/storage/timeseries/builtin_timeseries.py\", line 298, in get_data_df\\n    result_it = self.find_entries([key], time_query, geo_query, extra_query_list)\\n\\n  File \"/Users/rsimpson/e-mission-server/emission/storage/timeseries/builtin_timeseries.py\", line 217, in find_entries\\n    (orig_ts_db_count, orig_ts_db_result) = self._get_entries_for_timeseries(self.timeseries_db,\\n\\n  File \"/Users/rsimpson/e-mission-server/emission/storage/timeseries/builtin_timeseries.py\", line 243, in _get_entries_for_timeseries\\n    traceback.format_stack(),\\n   \n",
      "927         in segment_into_sections\\n    self.get_location_streams_for_trip(timeseries, time_query)\\n\\n  File \"/Users/rsimpson/e-mission-server/emission/analysis/intake/segmentation/section_segmentation_methods/smoothed_high_confidence_motion.py\", line 187, in get_location_streams_for_trip\\n    self.unfiltered_loc_df = timeseries.get_data_df(\"background/location\", time_query)\\n\\n  File \"/Users/rsimpson/e-mission-server/emission/storage/timeseries/builtin_timeseries.py\", line 298, in get_data_df\\n    result_it = self.find_entries([key], time_query, geo_query, extra_query_list)\\n\\n  File \"/Users/rsimpson/e-mission-server/emission/storage/timeseries/builtin_timeseries.py\", line 224, in find_entries\\n    (analysis_ts_db_count, analysis_ts_db_result) = self._get_entries_for_timeseries(self.analysis_timeseries_db,\\n\\n  File \"/Users/rsimpson/e-mission-server/emission/storage/timeseries/builtin_timeseries.py\", line 243, in _get_entries_for_timeseries\\n    traceback.format_stack(),\\n   \n",
      "928                          in segment_into_sections\\n    self.get_location_streams_for_trip(timeseries, time_query)\\n\\n  File \"/Users/rsimpson/e-mission-server/emission/analysis/intake/segmentation/section_segmentation_methods/smoothed_high_confidence_motion.py\", line 187, in get_location_streams_for_trip\\n    self.unfiltered_loc_df = timeseries.get_data_df(\"background/location\", time_query)\\n\\n  File \"/Users/rsimpson/e-mission-server/emission/storage/timeseries/builtin_timeseries.py\", line 298, in get_data_df\\n    result_it = self.find_entries([key], time_query, geo_query, extra_query_list)\\n\\n  File \"/Users/rsimpson/e-mission-server/emission/storage/timeseries/builtin_timeseries.py\", line 217, in find_entries\\n    (orig_ts_db_count, orig_ts_db_result) = self._get_entries_for_timeseries(self.timeseries_db,\\n\\n  File \"/Users/rsimpson/e-mission-server/emission/storage/timeseries/builtin_timeseries.py\", line 243, in _get_entries_for_timeseries\\n    traceback.format_stack(),\\n   \n",
      "933   in segment_into_sections\\n    motion_changes = self.segment_into_motion_changes(timeseries, time_query)\\n\\n  File \"/Users/rsimpson/e-mission-server/emission/analysis/intake/segmentation/section_segmentation_methods/smoothed_high_confidence_motion.py\", line 61, in segment_into_motion_changes\\n    motion_df = timeseries.get_data_df(\"background/motion_activity\", time_query)\\n\\n  File \"/Users/rsimpson/e-mission-server/emission/storage/timeseries/builtin_timeseries.py\", line 298, in get_data_df\\n    result_it = self.find_entries([key], time_query, geo_query, extra_query_list)\\n\\n  File \"/Users/rsimpson/e-mission-server/emission/storage/timeseries/builtin_timeseries.py\", line 224, in find_entries\\n    (analysis_ts_db_count, analysis_ts_db_result) = self._get_entries_for_timeseries(self.analysis_timeseries_db,\\n\\n  File \"/Users/rsimpson/e-mission-server/emission/storage/timeseries/builtin_timeseries.py\", line 243, in _get_entries_for_timeseries\\n    traceback.format_stack(),\\n   \n",
      "934                    in segment_into_sections\\n    motion_changes = self.segment_into_motion_changes(timeseries, time_query)\\n\\n  File \"/Users/rsimpson/e-mission-server/emission/analysis/intake/segmentation/section_segmentation_methods/smoothed_high_confidence_motion.py\", line 61, in segment_into_motion_changes\\n    motion_df = timeseries.get_data_df(\"background/motion_activity\", time_query)\\n\\n  File \"/Users/rsimpson/e-mission-server/emission/storage/timeseries/builtin_timeseries.py\", line 298, in get_data_df\\n    result_it = self.find_entries([key], time_query, geo_query, extra_query_list)\\n\\n  File \"/Users/rsimpson/e-mission-server/emission/storage/timeseries/builtin_timeseries.py\", line 217, in find_entries\\n    (orig_ts_db_count, orig_ts_db_result) = self._get_entries_for_timeseries(self.timeseries_db,\\n\\n  File \"/Users/rsimpson/e-mission-server/emission/storage/timeseries/builtin_timeseries.py\", line 243, in _get_entries_for_timeseries\\n    traceback.format_stack(),\\n   \n",
      "935  in segment_into_sections\\n    self.get_location_streams_for_trip(timeseries, time_query)\\n\\n  File \"/Users/rsimpson/e-mission-server/emission/analysis/intake/segmentation/section_segmentation_methods/smoothed_high_confidence_motion.py\", line 188, in get_location_streams_for_trip\\n    self.location_points = timeseries.get_data_df(\"background/filtered_location\", time_query)\\n\\n  File \"/Users/rsimpson/e-mission-server/emission/storage/timeseries/builtin_timeseries.py\", line 298, in get_data_df\\n    result_it = self.find_entries([key], time_query, geo_query, extra_query_list)\\n\\n  File \"/Users/rsimpson/e-mission-server/emission/storage/timeseries/builtin_timeseries.py\", line 224, in find_entries\\n    (analysis_ts_db_count, analysis_ts_db_result) = self._get_entries_for_timeseries(self.analysis_timeseries_db,\\n\\n  File \"/Users/rsimpson/e-mission-server/emission/storage/timeseries/builtin_timeseries.py\", line 243, in _get_entries_for_timeseries\\n    traceback.format_stack(),\\n   \n",
      "936                   in segment_into_sections\\n    self.get_location_streams_for_trip(timeseries, time_query)\\n\\n  File \"/Users/rsimpson/e-mission-server/emission/analysis/intake/segmentation/section_segmentation_methods/smoothed_high_confidence_motion.py\", line 188, in get_location_streams_for_trip\\n    self.location_points = timeseries.get_data_df(\"background/filtered_location\", time_query)\\n\\n  File \"/Users/rsimpson/e-mission-server/emission/storage/timeseries/builtin_timeseries.py\", line 298, in get_data_df\\n    result_it = self.find_entries([key], time_query, geo_query, extra_query_list)\\n\\n  File \"/Users/rsimpson/e-mission-server/emission/storage/timeseries/builtin_timeseries.py\", line 217, in find_entries\\n    (orig_ts_db_count, orig_ts_db_result) = self._get_entries_for_timeseries(self.timeseries_db,\\n\\n  File \"/Users/rsimpson/e-mission-server/emission/storage/timeseries/builtin_timeseries.py\", line 243, in _get_entries_for_timeseries\\n    traceback.format_stack(),\\n   \n",
      "937         in segment_into_sections\\n    self.get_location_streams_for_trip(timeseries, time_query)\\n\\n  File \"/Users/rsimpson/e-mission-server/emission/analysis/intake/segmentation/section_segmentation_methods/smoothed_high_confidence_motion.py\", line 187, in get_location_streams_for_trip\\n    self.unfiltered_loc_df = timeseries.get_data_df(\"background/location\", time_query)\\n\\n  File \"/Users/rsimpson/e-mission-server/emission/storage/timeseries/builtin_timeseries.py\", line 298, in get_data_df\\n    result_it = self.find_entries([key], time_query, geo_query, extra_query_list)\\n\\n  File \"/Users/rsimpson/e-mission-server/emission/storage/timeseries/builtin_timeseries.py\", line 224, in find_entries\\n    (analysis_ts_db_count, analysis_ts_db_result) = self._get_entries_for_timeseries(self.analysis_timeseries_db,\\n\\n  File \"/Users/rsimpson/e-mission-server/emission/storage/timeseries/builtin_timeseries.py\", line 243, in _get_entries_for_timeseries\\n    traceback.format_stack(),\\n   \n",
      "938                          in segment_into_sections\\n    self.get_location_streams_for_trip(timeseries, time_query)\\n\\n  File \"/Users/rsimpson/e-mission-server/emission/analysis/intake/segmentation/section_segmentation_methods/smoothed_high_confidence_motion.py\", line 187, in get_location_streams_for_trip\\n    self.unfiltered_loc_df = timeseries.get_data_df(\"background/location\", time_query)\\n\\n  File \"/Users/rsimpson/e-mission-server/emission/storage/timeseries/builtin_timeseries.py\", line 298, in get_data_df\\n    result_it = self.find_entries([key], time_query, geo_query, extra_query_list)\\n\\n  File \"/Users/rsimpson/e-mission-server/emission/storage/timeseries/builtin_timeseries.py\", line 217, in find_entries\\n    (orig_ts_db_count, orig_ts_db_result) = self._get_entries_for_timeseries(self.timeseries_db,\\n\\n  File \"/Users/rsimpson/e-mission-server/emission/storage/timeseries/builtin_timeseries.py\", line 243, in _get_entries_for_timeseries\\n    traceback.format_stack(),\\n   \n",
      "943   in segment_into_sections\\n    motion_changes = self.segment_into_motion_changes(timeseries, time_query)\\n\\n  File \"/Users/rsimpson/e-mission-server/emission/analysis/intake/segmentation/section_segmentation_methods/smoothed_high_confidence_motion.py\", line 61, in segment_into_motion_changes\\n    motion_df = timeseries.get_data_df(\"background/motion_activity\", time_query)\\n\\n  File \"/Users/rsimpson/e-mission-server/emission/storage/timeseries/builtin_timeseries.py\", line 298, in get_data_df\\n    result_it = self.find_entries([key], time_query, geo_query, extra_query_list)\\n\\n  File \"/Users/rsimpson/e-mission-server/emission/storage/timeseries/builtin_timeseries.py\", line 224, in find_entries\\n    (analysis_ts_db_count, analysis_ts_db_result) = self._get_entries_for_timeseries(self.analysis_timeseries_db,\\n\\n  File \"/Users/rsimpson/e-mission-server/emission/storage/timeseries/builtin_timeseries.py\", line 243, in _get_entries_for_timeseries\\n    traceback.format_stack(),\\n   \n",
      "944                    in segment_into_sections\\n    motion_changes = self.segment_into_motion_changes(timeseries, time_query)\\n\\n  File \"/Users/rsimpson/e-mission-server/emission/analysis/intake/segmentation/section_segmentation_methods/smoothed_high_confidence_motion.py\", line 61, in segment_into_motion_changes\\n    motion_df = timeseries.get_data_df(\"background/motion_activity\", time_query)\\n\\n  File \"/Users/rsimpson/e-mission-server/emission/storage/timeseries/builtin_timeseries.py\", line 298, in get_data_df\\n    result_it = self.find_entries([key], time_query, geo_query, extra_query_list)\\n\\n  File \"/Users/rsimpson/e-mission-server/emission/storage/timeseries/builtin_timeseries.py\", line 217, in find_entries\\n    (orig_ts_db_count, orig_ts_db_result) = self._get_entries_for_timeseries(self.timeseries_db,\\n\\n  File \"/Users/rsimpson/e-mission-server/emission/storage/timeseries/builtin_timeseries.py\", line 243, in _get_entries_for_timeseries\\n    traceback.format_stack(),\\n   \n",
      "945  in segment_into_sections\\n    self.get_location_streams_for_trip(timeseries, time_query)\\n\\n  File \"/Users/rsimpson/e-mission-server/emission/analysis/intake/segmentation/section_segmentation_methods/smoothed_high_confidence_motion.py\", line 188, in get_location_streams_for_trip\\n    self.location_points = timeseries.get_data_df(\"background/filtered_location\", time_query)\\n\\n  File \"/Users/rsimpson/e-mission-server/emission/storage/timeseries/builtin_timeseries.py\", line 298, in get_data_df\\n    result_it = self.find_entries([key], time_query, geo_query, extra_query_list)\\n\\n  File \"/Users/rsimpson/e-mission-server/emission/storage/timeseries/builtin_timeseries.py\", line 224, in find_entries\\n    (analysis_ts_db_count, analysis_ts_db_result) = self._get_entries_for_timeseries(self.analysis_timeseries_db,\\n\\n  File \"/Users/rsimpson/e-mission-server/emission/storage/timeseries/builtin_timeseries.py\", line 243, in _get_entries_for_timeseries\\n    traceback.format_stack(),\\n   \n",
      "946                   in segment_into_sections\\n    self.get_location_streams_for_trip(timeseries, time_query)\\n\\n  File \"/Users/rsimpson/e-mission-server/emission/analysis/intake/segmentation/section_segmentation_methods/smoothed_high_confidence_motion.py\", line 188, in get_location_streams_for_trip\\n    self.location_points = timeseries.get_data_df(\"background/filtered_location\", time_query)\\n\\n  File \"/Users/rsimpson/e-mission-server/emission/storage/timeseries/builtin_timeseries.py\", line 298, in get_data_df\\n    result_it = self.find_entries([key], time_query, geo_query, extra_query_list)\\n\\n  File \"/Users/rsimpson/e-mission-server/emission/storage/timeseries/builtin_timeseries.py\", line 217, in find_entries\\n    (orig_ts_db_count, orig_ts_db_result) = self._get_entries_for_timeseries(self.timeseries_db,\\n\\n  File \"/Users/rsimpson/e-mission-server/emission/storage/timeseries/builtin_timeseries.py\", line 243, in _get_entries_for_timeseries\\n    traceback.format_stack(),\\n   \n",
      "947         in segment_into_sections\\n    self.get_location_streams_for_trip(timeseries, time_query)\\n\\n  File \"/Users/rsimpson/e-mission-server/emission/analysis/intake/segmentation/section_segmentation_methods/smoothed_high_confidence_motion.py\", line 187, in get_location_streams_for_trip\\n    self.unfiltered_loc_df = timeseries.get_data_df(\"background/location\", time_query)\\n\\n  File \"/Users/rsimpson/e-mission-server/emission/storage/timeseries/builtin_timeseries.py\", line 298, in get_data_df\\n    result_it = self.find_entries([key], time_query, geo_query, extra_query_list)\\n\\n  File \"/Users/rsimpson/e-mission-server/emission/storage/timeseries/builtin_timeseries.py\", line 224, in find_entries\\n    (analysis_ts_db_count, analysis_ts_db_result) = self._get_entries_for_timeseries(self.analysis_timeseries_db,\\n\\n  File \"/Users/rsimpson/e-mission-server/emission/storage/timeseries/builtin_timeseries.py\", line 243, in _get_entries_for_timeseries\\n    traceback.format_stack(),\\n   \n",
      "948                          in segment_into_sections\\n    self.get_location_streams_for_trip(timeseries, time_query)\\n\\n  File \"/Users/rsimpson/e-mission-server/emission/analysis/intake/segmentation/section_segmentation_methods/smoothed_high_confidence_motion.py\", line 187, in get_location_streams_for_trip\\n    self.unfiltered_loc_df = timeseries.get_data_df(\"background/location\", time_query)\\n\\n  File \"/Users/rsimpson/e-mission-server/emission/storage/timeseries/builtin_timeseries.py\", line 298, in get_data_df\\n    result_it = self.find_entries([key], time_query, geo_query, extra_query_list)\\n\\n  File \"/Users/rsimpson/e-mission-server/emission/storage/timeseries/builtin_timeseries.py\", line 217, in find_entries\\n    (orig_ts_db_count, orig_ts_db_result) = self._get_entries_for_timeseries(self.timeseries_db,\\n\\n  File \"/Users/rsimpson/e-mission-server/emission/storage/timeseries/builtin_timeseries.py\", line 243, in _get_entries_for_timeseries\\n    traceback.format_stack(),\\n   \n",
      "953   in segment_into_sections\\n    motion_changes = self.segment_into_motion_changes(timeseries, time_query)\\n\\n  File \"/Users/rsimpson/e-mission-server/emission/analysis/intake/segmentation/section_segmentation_methods/smoothed_high_confidence_motion.py\", line 61, in segment_into_motion_changes\\n    motion_df = timeseries.get_data_df(\"background/motion_activity\", time_query)\\n\\n  File \"/Users/rsimpson/e-mission-server/emission/storage/timeseries/builtin_timeseries.py\", line 298, in get_data_df\\n    result_it = self.find_entries([key], time_query, geo_query, extra_query_list)\\n\\n  File \"/Users/rsimpson/e-mission-server/emission/storage/timeseries/builtin_timeseries.py\", line 224, in find_entries\\n    (analysis_ts_db_count, analysis_ts_db_result) = self._get_entries_for_timeseries(self.analysis_timeseries_db,\\n\\n  File \"/Users/rsimpson/e-mission-server/emission/storage/timeseries/builtin_timeseries.py\", line 243, in _get_entries_for_timeseries\\n    traceback.format_stack(),\\n   \n",
      "954                    in segment_into_sections\\n    motion_changes = self.segment_into_motion_changes(timeseries, time_query)\\n\\n  File \"/Users/rsimpson/e-mission-server/emission/analysis/intake/segmentation/section_segmentation_methods/smoothed_high_confidence_motion.py\", line 61, in segment_into_motion_changes\\n    motion_df = timeseries.get_data_df(\"background/motion_activity\", time_query)\\n\\n  File \"/Users/rsimpson/e-mission-server/emission/storage/timeseries/builtin_timeseries.py\", line 298, in get_data_df\\n    result_it = self.find_entries([key], time_query, geo_query, extra_query_list)\\n\\n  File \"/Users/rsimpson/e-mission-server/emission/storage/timeseries/builtin_timeseries.py\", line 217, in find_entries\\n    (orig_ts_db_count, orig_ts_db_result) = self._get_entries_for_timeseries(self.timeseries_db,\\n\\n  File \"/Users/rsimpson/e-mission-server/emission/storage/timeseries/builtin_timeseries.py\", line 243, in _get_entries_for_timeseries\\n    traceback.format_stack(),\\n   \n",
      "955  in segment_into_sections\\n    self.get_location_streams_for_trip(timeseries, time_query)\\n\\n  File \"/Users/rsimpson/e-mission-server/emission/analysis/intake/segmentation/section_segmentation_methods/smoothed_high_confidence_motion.py\", line 188, in get_location_streams_for_trip\\n    self.location_points = timeseries.get_data_df(\"background/filtered_location\", time_query)\\n\\n  File \"/Users/rsimpson/e-mission-server/emission/storage/timeseries/builtin_timeseries.py\", line 298, in get_data_df\\n    result_it = self.find_entries([key], time_query, geo_query, extra_query_list)\\n\\n  File \"/Users/rsimpson/e-mission-server/emission/storage/timeseries/builtin_timeseries.py\", line 224, in find_entries\\n    (analysis_ts_db_count, analysis_ts_db_result) = self._get_entries_for_timeseries(self.analysis_timeseries_db,\\n\\n  File \"/Users/rsimpson/e-mission-server/emission/storage/timeseries/builtin_timeseries.py\", line 243, in _get_entries_for_timeseries\\n    traceback.format_stack(),\\n   \n",
      "956                   in segment_into_sections\\n    self.get_location_streams_for_trip(timeseries, time_query)\\n\\n  File \"/Users/rsimpson/e-mission-server/emission/analysis/intake/segmentation/section_segmentation_methods/smoothed_high_confidence_motion.py\", line 188, in get_location_streams_for_trip\\n    self.location_points = timeseries.get_data_df(\"background/filtered_location\", time_query)\\n\\n  File \"/Users/rsimpson/e-mission-server/emission/storage/timeseries/builtin_timeseries.py\", line 298, in get_data_df\\n    result_it = self.find_entries([key], time_query, geo_query, extra_query_list)\\n\\n  File \"/Users/rsimpson/e-mission-server/emission/storage/timeseries/builtin_timeseries.py\", line 217, in find_entries\\n    (orig_ts_db_count, orig_ts_db_result) = self._get_entries_for_timeseries(self.timeseries_db,\\n\\n  File \"/Users/rsimpson/e-mission-server/emission/storage/timeseries/builtin_timeseries.py\", line 243, in _get_entries_for_timeseries\\n    traceback.format_stack(),\\n   \n",
      "957         in segment_into_sections\\n    self.get_location_streams_for_trip(timeseries, time_query)\\n\\n  File \"/Users/rsimpson/e-mission-server/emission/analysis/intake/segmentation/section_segmentation_methods/smoothed_high_confidence_motion.py\", line 187, in get_location_streams_for_trip\\n    self.unfiltered_loc_df = timeseries.get_data_df(\"background/location\", time_query)\\n\\n  File \"/Users/rsimpson/e-mission-server/emission/storage/timeseries/builtin_timeseries.py\", line 298, in get_data_df\\n    result_it = self.find_entries([key], time_query, geo_query, extra_query_list)\\n\\n  File \"/Users/rsimpson/e-mission-server/emission/storage/timeseries/builtin_timeseries.py\", line 224, in find_entries\\n    (analysis_ts_db_count, analysis_ts_db_result) = self._get_entries_for_timeseries(self.analysis_timeseries_db,\\n\\n  File \"/Users/rsimpson/e-mission-server/emission/storage/timeseries/builtin_timeseries.py\", line 243, in _get_entries_for_timeseries\\n    traceback.format_stack(),\\n   \n",
      "958                          in segment_into_sections\\n    self.get_location_streams_for_trip(timeseries, time_query)\\n\\n  File \"/Users/rsimpson/e-mission-server/emission/analysis/intake/segmentation/section_segmentation_methods/smoothed_high_confidence_motion.py\", line 187, in get_location_streams_for_trip\\n    self.unfiltered_loc_df = timeseries.get_data_df(\"background/location\", time_query)\\n\\n  File \"/Users/rsimpson/e-mission-server/emission/storage/timeseries/builtin_timeseries.py\", line 298, in get_data_df\\n    result_it = self.find_entries([key], time_query, geo_query, extra_query_list)\\n\\n  File \"/Users/rsimpson/e-mission-server/emission/storage/timeseries/builtin_timeseries.py\", line 217, in find_entries\\n    (orig_ts_db_count, orig_ts_db_result) = self._get_entries_for_timeseries(self.timeseries_db,\\n\\n  File \"/Users/rsimpson/e-mission-server/emission/storage/timeseries/builtin_timeseries.py\", line 243, in _get_entries_for_timeseries\\n    traceback.format_stack(),\\n   \n",
      "963   in segment_into_sections\\n    motion_changes = self.segment_into_motion_changes(timeseries, time_query)\\n\\n  File \"/Users/rsimpson/e-mission-server/emission/analysis/intake/segmentation/section_segmentation_methods/smoothed_high_confidence_motion.py\", line 61, in segment_into_motion_changes\\n    motion_df = timeseries.get_data_df(\"background/motion_activity\", time_query)\\n\\n  File \"/Users/rsimpson/e-mission-server/emission/storage/timeseries/builtin_timeseries.py\", line 298, in get_data_df\\n    result_it = self.find_entries([key], time_query, geo_query, extra_query_list)\\n\\n  File \"/Users/rsimpson/e-mission-server/emission/storage/timeseries/builtin_timeseries.py\", line 224, in find_entries\\n    (analysis_ts_db_count, analysis_ts_db_result) = self._get_entries_for_timeseries(self.analysis_timeseries_db,\\n\\n  File \"/Users/rsimpson/e-mission-server/emission/storage/timeseries/builtin_timeseries.py\", line 243, in _get_entries_for_timeseries\\n    traceback.format_stack(),\\n   \n",
      "964                    in segment_into_sections\\n    motion_changes = self.segment_into_motion_changes(timeseries, time_query)\\n\\n  File \"/Users/rsimpson/e-mission-server/emission/analysis/intake/segmentation/section_segmentation_methods/smoothed_high_confidence_motion.py\", line 61, in segment_into_motion_changes\\n    motion_df = timeseries.get_data_df(\"background/motion_activity\", time_query)\\n\\n  File \"/Users/rsimpson/e-mission-server/emission/storage/timeseries/builtin_timeseries.py\", line 298, in get_data_df\\n    result_it = self.find_entries([key], time_query, geo_query, extra_query_list)\\n\\n  File \"/Users/rsimpson/e-mission-server/emission/storage/timeseries/builtin_timeseries.py\", line 217, in find_entries\\n    (orig_ts_db_count, orig_ts_db_result) = self._get_entries_for_timeseries(self.timeseries_db,\\n\\n  File \"/Users/rsimpson/e-mission-server/emission/storage/timeseries/builtin_timeseries.py\", line 243, in _get_entries_for_timeseries\\n    traceback.format_stack(),\\n   \n",
      "965  in segment_into_sections\\n    self.get_location_streams_for_trip(timeseries, time_query)\\n\\n  File \"/Users/rsimpson/e-mission-server/emission/analysis/intake/segmentation/section_segmentation_methods/smoothed_high_confidence_motion.py\", line 188, in get_location_streams_for_trip\\n    self.location_points = timeseries.get_data_df(\"background/filtered_location\", time_query)\\n\\n  File \"/Users/rsimpson/e-mission-server/emission/storage/timeseries/builtin_timeseries.py\", line 298, in get_data_df\\n    result_it = self.find_entries([key], time_query, geo_query, extra_query_list)\\n\\n  File \"/Users/rsimpson/e-mission-server/emission/storage/timeseries/builtin_timeseries.py\", line 224, in find_entries\\n    (analysis_ts_db_count, analysis_ts_db_result) = self._get_entries_for_timeseries(self.analysis_timeseries_db,\\n\\n  File \"/Users/rsimpson/e-mission-server/emission/storage/timeseries/builtin_timeseries.py\", line 243, in _get_entries_for_timeseries\\n    traceback.format_stack(),\\n   \n",
      "966                   in segment_into_sections\\n    self.get_location_streams_for_trip(timeseries, time_query)\\n\\n  File \"/Users/rsimpson/e-mission-server/emission/analysis/intake/segmentation/section_segmentation_methods/smoothed_high_confidence_motion.py\", line 188, in get_location_streams_for_trip\\n    self.location_points = timeseries.get_data_df(\"background/filtered_location\", time_query)\\n\\n  File \"/Users/rsimpson/e-mission-server/emission/storage/timeseries/builtin_timeseries.py\", line 298, in get_data_df\\n    result_it = self.find_entries([key], time_query, geo_query, extra_query_list)\\n\\n  File \"/Users/rsimpson/e-mission-server/emission/storage/timeseries/builtin_timeseries.py\", line 217, in find_entries\\n    (orig_ts_db_count, orig_ts_db_result) = self._get_entries_for_timeseries(self.timeseries_db,\\n\\n  File \"/Users/rsimpson/e-mission-server/emission/storage/timeseries/builtin_timeseries.py\", line 243, in _get_entries_for_timeseries\\n    traceback.format_stack(),\\n   \n",
      "967         in segment_into_sections\\n    self.get_location_streams_for_trip(timeseries, time_query)\\n\\n  File \"/Users/rsimpson/e-mission-server/emission/analysis/intake/segmentation/section_segmentation_methods/smoothed_high_confidence_motion.py\", line 187, in get_location_streams_for_trip\\n    self.unfiltered_loc_df = timeseries.get_data_df(\"background/location\", time_query)\\n\\n  File \"/Users/rsimpson/e-mission-server/emission/storage/timeseries/builtin_timeseries.py\", line 298, in get_data_df\\n    result_it = self.find_entries([key], time_query, geo_query, extra_query_list)\\n\\n  File \"/Users/rsimpson/e-mission-server/emission/storage/timeseries/builtin_timeseries.py\", line 224, in find_entries\\n    (analysis_ts_db_count, analysis_ts_db_result) = self._get_entries_for_timeseries(self.analysis_timeseries_db,\\n\\n  File \"/Users/rsimpson/e-mission-server/emission/storage/timeseries/builtin_timeseries.py\", line 243, in _get_entries_for_timeseries\\n    traceback.format_stack(),\\n   \n",
      "968                          in segment_into_sections\\n    self.get_location_streams_for_trip(timeseries, time_query)\\n\\n  File \"/Users/rsimpson/e-mission-server/emission/analysis/intake/segmentation/section_segmentation_methods/smoothed_high_confidence_motion.py\", line 187, in get_location_streams_for_trip\\n    self.unfiltered_loc_df = timeseries.get_data_df(\"background/location\", time_query)\\n\\n  File \"/Users/rsimpson/e-mission-server/emission/storage/timeseries/builtin_timeseries.py\", line 298, in get_data_df\\n    result_it = self.find_entries([key], time_query, geo_query, extra_query_list)\\n\\n  File \"/Users/rsimpson/e-mission-server/emission/storage/timeseries/builtin_timeseries.py\", line 217, in find_entries\\n    (orig_ts_db_count, orig_ts_db_result) = self._get_entries_for_timeseries(self.timeseries_db,\\n\\n  File \"/Users/rsimpson/e-mission-server/emission/storage/timeseries/builtin_timeseries.py\", line 243, in _get_entries_for_timeseries\\n    traceback.format_stack(),\\n   \n",
      "973   in segment_into_sections\\n    motion_changes = self.segment_into_motion_changes(timeseries, time_query)\\n\\n  File \"/Users/rsimpson/e-mission-server/emission/analysis/intake/segmentation/section_segmentation_methods/smoothed_high_confidence_motion.py\", line 61, in segment_into_motion_changes\\n    motion_df = timeseries.get_data_df(\"background/motion_activity\", time_query)\\n\\n  File \"/Users/rsimpson/e-mission-server/emission/storage/timeseries/builtin_timeseries.py\", line 298, in get_data_df\\n    result_it = self.find_entries([key], time_query, geo_query, extra_query_list)\\n\\n  File \"/Users/rsimpson/e-mission-server/emission/storage/timeseries/builtin_timeseries.py\", line 224, in find_entries\\n    (analysis_ts_db_count, analysis_ts_db_result) = self._get_entries_for_timeseries(self.analysis_timeseries_db,\\n\\n  File \"/Users/rsimpson/e-mission-server/emission/storage/timeseries/builtin_timeseries.py\", line 243, in _get_entries_for_timeseries\\n    traceback.format_stack(),\\n   \n",
      "974                    in segment_into_sections\\n    motion_changes = self.segment_into_motion_changes(timeseries, time_query)\\n\\n  File \"/Users/rsimpson/e-mission-server/emission/analysis/intake/segmentation/section_segmentation_methods/smoothed_high_confidence_motion.py\", line 61, in segment_into_motion_changes\\n    motion_df = timeseries.get_data_df(\"background/motion_activity\", time_query)\\n\\n  File \"/Users/rsimpson/e-mission-server/emission/storage/timeseries/builtin_timeseries.py\", line 298, in get_data_df\\n    result_it = self.find_entries([key], time_query, geo_query, extra_query_list)\\n\\n  File \"/Users/rsimpson/e-mission-server/emission/storage/timeseries/builtin_timeseries.py\", line 217, in find_entries\\n    (orig_ts_db_count, orig_ts_db_result) = self._get_entries_for_timeseries(self.timeseries_db,\\n\\n  File \"/Users/rsimpson/e-mission-server/emission/storage/timeseries/builtin_timeseries.py\", line 243, in _get_entries_for_timeseries\\n    traceback.format_stack(),\\n   \n",
      "975  in segment_into_sections\\n    self.get_location_streams_for_trip(timeseries, time_query)\\n\\n  File \"/Users/rsimpson/e-mission-server/emission/analysis/intake/segmentation/section_segmentation_methods/smoothed_high_confidence_motion.py\", line 188, in get_location_streams_for_trip\\n    self.location_points = timeseries.get_data_df(\"background/filtered_location\", time_query)\\n\\n  File \"/Users/rsimpson/e-mission-server/emission/storage/timeseries/builtin_timeseries.py\", line 298, in get_data_df\\n    result_it = self.find_entries([key], time_query, geo_query, extra_query_list)\\n\\n  File \"/Users/rsimpson/e-mission-server/emission/storage/timeseries/builtin_timeseries.py\", line 224, in find_entries\\n    (analysis_ts_db_count, analysis_ts_db_result) = self._get_entries_for_timeseries(self.analysis_timeseries_db,\\n\\n  File \"/Users/rsimpson/e-mission-server/emission/storage/timeseries/builtin_timeseries.py\", line 243, in _get_entries_for_timeseries\\n    traceback.format_stack(),\\n   \n",
      "976                   in segment_into_sections\\n    self.get_location_streams_for_trip(timeseries, time_query)\\n\\n  File \"/Users/rsimpson/e-mission-server/emission/analysis/intake/segmentation/section_segmentation_methods/smoothed_high_confidence_motion.py\", line 188, in get_location_streams_for_trip\\n    self.location_points = timeseries.get_data_df(\"background/filtered_location\", time_query)\\n\\n  File \"/Users/rsimpson/e-mission-server/emission/storage/timeseries/builtin_timeseries.py\", line 298, in get_data_df\\n    result_it = self.find_entries([key], time_query, geo_query, extra_query_list)\\n\\n  File \"/Users/rsimpson/e-mission-server/emission/storage/timeseries/builtin_timeseries.py\", line 217, in find_entries\\n    (orig_ts_db_count, orig_ts_db_result) = self._get_entries_for_timeseries(self.timeseries_db,\\n\\n  File \"/Users/rsimpson/e-mission-server/emission/storage/timeseries/builtin_timeseries.py\", line 243, in _get_entries_for_timeseries\\n    traceback.format_stack(),\\n   \n",
      "977         in segment_into_sections\\n    self.get_location_streams_for_trip(timeseries, time_query)\\n\\n  File \"/Users/rsimpson/e-mission-server/emission/analysis/intake/segmentation/section_segmentation_methods/smoothed_high_confidence_motion.py\", line 187, in get_location_streams_for_trip\\n    self.unfiltered_loc_df = timeseries.get_data_df(\"background/location\", time_query)\\n\\n  File \"/Users/rsimpson/e-mission-server/emission/storage/timeseries/builtin_timeseries.py\", line 298, in get_data_df\\n    result_it = self.find_entries([key], time_query, geo_query, extra_query_list)\\n\\n  File \"/Users/rsimpson/e-mission-server/emission/storage/timeseries/builtin_timeseries.py\", line 224, in find_entries\\n    (analysis_ts_db_count, analysis_ts_db_result) = self._get_entries_for_timeseries(self.analysis_timeseries_db,\\n\\n  File \"/Users/rsimpson/e-mission-server/emission/storage/timeseries/builtin_timeseries.py\", line 243, in _get_entries_for_timeseries\\n    traceback.format_stack(),\\n   \n",
      "978                          in segment_into_sections\\n    self.get_location_streams_for_trip(timeseries, time_query)\\n\\n  File \"/Users/rsimpson/e-mission-server/emission/analysis/intake/segmentation/section_segmentation_methods/smoothed_high_confidence_motion.py\", line 187, in get_location_streams_for_trip\\n    self.unfiltered_loc_df = timeseries.get_data_df(\"background/location\", time_query)\\n\\n  File \"/Users/rsimpson/e-mission-server/emission/storage/timeseries/builtin_timeseries.py\", line 298, in get_data_df\\n    result_it = self.find_entries([key], time_query, geo_query, extra_query_list)\\n\\n  File \"/Users/rsimpson/e-mission-server/emission/storage/timeseries/builtin_timeseries.py\", line 217, in find_entries\\n    (orig_ts_db_count, orig_ts_db_result) = self._get_entries_for_timeseries(self.timeseries_db,\\n\\n  File \"/Users/rsimpson/e-mission-server/emission/storage/timeseries/builtin_timeseries.py\", line 243, in _get_entries_for_timeseries\\n    traceback.format_stack(),\\n   \n",
      "983   in segment_into_sections\\n    motion_changes = self.segment_into_motion_changes(timeseries, time_query)\\n\\n  File \"/Users/rsimpson/e-mission-server/emission/analysis/intake/segmentation/section_segmentation_methods/smoothed_high_confidence_motion.py\", line 61, in segment_into_motion_changes\\n    motion_df = timeseries.get_data_df(\"background/motion_activity\", time_query)\\n\\n  File \"/Users/rsimpson/e-mission-server/emission/storage/timeseries/builtin_timeseries.py\", line 298, in get_data_df\\n    result_it = self.find_entries([key], time_query, geo_query, extra_query_list)\\n\\n  File \"/Users/rsimpson/e-mission-server/emission/storage/timeseries/builtin_timeseries.py\", line 224, in find_entries\\n    (analysis_ts_db_count, analysis_ts_db_result) = self._get_entries_for_timeseries(self.analysis_timeseries_db,\\n\\n  File \"/Users/rsimpson/e-mission-server/emission/storage/timeseries/builtin_timeseries.py\", line 243, in _get_entries_for_timeseries\\n    traceback.format_stack(),\\n   \n",
      "984                    in segment_into_sections\\n    motion_changes = self.segment_into_motion_changes(timeseries, time_query)\\n\\n  File \"/Users/rsimpson/e-mission-server/emission/analysis/intake/segmentation/section_segmentation_methods/smoothed_high_confidence_motion.py\", line 61, in segment_into_motion_changes\\n    motion_df = timeseries.get_data_df(\"background/motion_activity\", time_query)\\n\\n  File \"/Users/rsimpson/e-mission-server/emission/storage/timeseries/builtin_timeseries.py\", line 298, in get_data_df\\n    result_it = self.find_entries([key], time_query, geo_query, extra_query_list)\\n\\n  File \"/Users/rsimpson/e-mission-server/emission/storage/timeseries/builtin_timeseries.py\", line 217, in find_entries\\n    (orig_ts_db_count, orig_ts_db_result) = self._get_entries_for_timeseries(self.timeseries_db,\\n\\n  File \"/Users/rsimpson/e-mission-server/emission/storage/timeseries/builtin_timeseries.py\", line 243, in _get_entries_for_timeseries\\n    traceback.format_stack(),\\n   \n",
      "985  in segment_into_sections\\n    self.get_location_streams_for_trip(timeseries, time_query)\\n\\n  File \"/Users/rsimpson/e-mission-server/emission/analysis/intake/segmentation/section_segmentation_methods/smoothed_high_confidence_motion.py\", line 188, in get_location_streams_for_trip\\n    self.location_points = timeseries.get_data_df(\"background/filtered_location\", time_query)\\n\\n  File \"/Users/rsimpson/e-mission-server/emission/storage/timeseries/builtin_timeseries.py\", line 298, in get_data_df\\n    result_it = self.find_entries([key], time_query, geo_query, extra_query_list)\\n\\n  File \"/Users/rsimpson/e-mission-server/emission/storage/timeseries/builtin_timeseries.py\", line 224, in find_entries\\n    (analysis_ts_db_count, analysis_ts_db_result) = self._get_entries_for_timeseries(self.analysis_timeseries_db,\\n\\n  File \"/Users/rsimpson/e-mission-server/emission/storage/timeseries/builtin_timeseries.py\", line 243, in _get_entries_for_timeseries\\n    traceback.format_stack(),\\n   \n",
      "986                   in segment_into_sections\\n    self.get_location_streams_for_trip(timeseries, time_query)\\n\\n  File \"/Users/rsimpson/e-mission-server/emission/analysis/intake/segmentation/section_segmentation_methods/smoothed_high_confidence_motion.py\", line 188, in get_location_streams_for_trip\\n    self.location_points = timeseries.get_data_df(\"background/filtered_location\", time_query)\\n\\n  File \"/Users/rsimpson/e-mission-server/emission/storage/timeseries/builtin_timeseries.py\", line 298, in get_data_df\\n    result_it = self.find_entries([key], time_query, geo_query, extra_query_list)\\n\\n  File \"/Users/rsimpson/e-mission-server/emission/storage/timeseries/builtin_timeseries.py\", line 217, in find_entries\\n    (orig_ts_db_count, orig_ts_db_result) = self._get_entries_for_timeseries(self.timeseries_db,\\n\\n  File \"/Users/rsimpson/e-mission-server/emission/storage/timeseries/builtin_timeseries.py\", line 243, in _get_entries_for_timeseries\\n    traceback.format_stack(),\\n   \n",
      "987         in segment_into_sections\\n    self.get_location_streams_for_trip(timeseries, time_query)\\n\\n  File \"/Users/rsimpson/e-mission-server/emission/analysis/intake/segmentation/section_segmentation_methods/smoothed_high_confidence_motion.py\", line 187, in get_location_streams_for_trip\\n    self.unfiltered_loc_df = timeseries.get_data_df(\"background/location\", time_query)\\n\\n  File \"/Users/rsimpson/e-mission-server/emission/storage/timeseries/builtin_timeseries.py\", line 298, in get_data_df\\n    result_it = self.find_entries([key], time_query, geo_query, extra_query_list)\\n\\n  File \"/Users/rsimpson/e-mission-server/emission/storage/timeseries/builtin_timeseries.py\", line 224, in find_entries\\n    (analysis_ts_db_count, analysis_ts_db_result) = self._get_entries_for_timeseries(self.analysis_timeseries_db,\\n\\n  File \"/Users/rsimpson/e-mission-server/emission/storage/timeseries/builtin_timeseries.py\", line 243, in _get_entries_for_timeseries\\n    traceback.format_stack(),\\n   \n",
      "988                          in segment_into_sections\\n    self.get_location_streams_for_trip(timeseries, time_query)\\n\\n  File \"/Users/rsimpson/e-mission-server/emission/analysis/intake/segmentation/section_segmentation_methods/smoothed_high_confidence_motion.py\", line 187, in get_location_streams_for_trip\\n    self.unfiltered_loc_df = timeseries.get_data_df(\"background/location\", time_query)\\n\\n  File \"/Users/rsimpson/e-mission-server/emission/storage/timeseries/builtin_timeseries.py\", line 298, in get_data_df\\n    result_it = self.find_entries([key], time_query, geo_query, extra_query_list)\\n\\n  File \"/Users/rsimpson/e-mission-server/emission/storage/timeseries/builtin_timeseries.py\", line 217, in find_entries\\n    (orig_ts_db_count, orig_ts_db_result) = self._get_entries_for_timeseries(self.timeseries_db,\\n\\n  File \"/Users/rsimpson/e-mission-server/emission/storage/timeseries/builtin_timeseries.py\", line 243, in _get_entries_for_timeseries\\n    traceback.format_stack(),\\n   \n",
      "993   in segment_into_sections\\n    motion_changes = self.segment_into_motion_changes(timeseries, time_query)\\n\\n  File \"/Users/rsimpson/e-mission-server/emission/analysis/intake/segmentation/section_segmentation_methods/smoothed_high_confidence_motion.py\", line 61, in segment_into_motion_changes\\n    motion_df = timeseries.get_data_df(\"background/motion_activity\", time_query)\\n\\n  File \"/Users/rsimpson/e-mission-server/emission/storage/timeseries/builtin_timeseries.py\", line 298, in get_data_df\\n    result_it = self.find_entries([key], time_query, geo_query, extra_query_list)\\n\\n  File \"/Users/rsimpson/e-mission-server/emission/storage/timeseries/builtin_timeseries.py\", line 224, in find_entries\\n    (analysis_ts_db_count, analysis_ts_db_result) = self._get_entries_for_timeseries(self.analysis_timeseries_db,\\n\\n  File \"/Users/rsimpson/e-mission-server/emission/storage/timeseries/builtin_timeseries.py\", line 243, in _get_entries_for_timeseries\\n    traceback.format_stack(),\\n   \n",
      "994                    in segment_into_sections\\n    motion_changes = self.segment_into_motion_changes(timeseries, time_query)\\n\\n  File \"/Users/rsimpson/e-mission-server/emission/analysis/intake/segmentation/section_segmentation_methods/smoothed_high_confidence_motion.py\", line 61, in segment_into_motion_changes\\n    motion_df = timeseries.get_data_df(\"background/motion_activity\", time_query)\\n\\n  File \"/Users/rsimpson/e-mission-server/emission/storage/timeseries/builtin_timeseries.py\", line 298, in get_data_df\\n    result_it = self.find_entries([key], time_query, geo_query, extra_query_list)\\n\\n  File \"/Users/rsimpson/e-mission-server/emission/storage/timeseries/builtin_timeseries.py\", line 217, in find_entries\\n    (orig_ts_db_count, orig_ts_db_result) = self._get_entries_for_timeseries(self.timeseries_db,\\n\\n  File \"/Users/rsimpson/e-mission-server/emission/storage/timeseries/builtin_timeseries.py\", line 243, in _get_entries_for_timeseries\\n    traceback.format_stack(),\\n   \n",
      "995  in segment_into_sections\\n    self.get_location_streams_for_trip(timeseries, time_query)\\n\\n  File \"/Users/rsimpson/e-mission-server/emission/analysis/intake/segmentation/section_segmentation_methods/smoothed_high_confidence_motion.py\", line 188, in get_location_streams_for_trip\\n    self.location_points = timeseries.get_data_df(\"background/filtered_location\", time_query)\\n\\n  File \"/Users/rsimpson/e-mission-server/emission/storage/timeseries/builtin_timeseries.py\", line 298, in get_data_df\\n    result_it = self.find_entries([key], time_query, geo_query, extra_query_list)\\n\\n  File \"/Users/rsimpson/e-mission-server/emission/storage/timeseries/builtin_timeseries.py\", line 224, in find_entries\\n    (analysis_ts_db_count, analysis_ts_db_result) = self._get_entries_for_timeseries(self.analysis_timeseries_db,\\n\\n  File \"/Users/rsimpson/e-mission-server/emission/storage/timeseries/builtin_timeseries.py\", line 243, in _get_entries_for_timeseries\\n    traceback.format_stack(),\\n   \n",
      "996                   in segment_into_sections\\n    self.get_location_streams_for_trip(timeseries, time_query)\\n\\n  File \"/Users/rsimpson/e-mission-server/emission/analysis/intake/segmentation/section_segmentation_methods/smoothed_high_confidence_motion.py\", line 188, in get_location_streams_for_trip\\n    self.location_points = timeseries.get_data_df(\"background/filtered_location\", time_query)\\n\\n  File \"/Users/rsimpson/e-mission-server/emission/storage/timeseries/builtin_timeseries.py\", line 298, in get_data_df\\n    result_it = self.find_entries([key], time_query, geo_query, extra_query_list)\\n\\n  File \"/Users/rsimpson/e-mission-server/emission/storage/timeseries/builtin_timeseries.py\", line 217, in find_entries\\n    (orig_ts_db_count, orig_ts_db_result) = self._get_entries_for_timeseries(self.timeseries_db,\\n\\n  File \"/Users/rsimpson/e-mission-server/emission/storage/timeseries/builtin_timeseries.py\", line 243, in _get_entries_for_timeseries\\n    traceback.format_stack(),\\n   \n",
      "997         in segment_into_sections\\n    self.get_location_streams_for_trip(timeseries, time_query)\\n\\n  File \"/Users/rsimpson/e-mission-server/emission/analysis/intake/segmentation/section_segmentation_methods/smoothed_high_confidence_motion.py\", line 187, in get_location_streams_for_trip\\n    self.unfiltered_loc_df = timeseries.get_data_df(\"background/location\", time_query)\\n\\n  File \"/Users/rsimpson/e-mission-server/emission/storage/timeseries/builtin_timeseries.py\", line 298, in get_data_df\\n    result_it = self.find_entries([key], time_query, geo_query, extra_query_list)\\n\\n  File \"/Users/rsimpson/e-mission-server/emission/storage/timeseries/builtin_timeseries.py\", line 224, in find_entries\\n    (analysis_ts_db_count, analysis_ts_db_result) = self._get_entries_for_timeseries(self.analysis_timeseries_db,\\n\\n  File \"/Users/rsimpson/e-mission-server/emission/storage/timeseries/builtin_timeseries.py\", line 243, in _get_entries_for_timeseries\\n    traceback.format_stack(),\\n   \n",
      "998                          in segment_into_sections\\n    self.get_location_streams_for_trip(timeseries, time_query)\\n\\n  File \"/Users/rsimpson/e-mission-server/emission/analysis/intake/segmentation/section_segmentation_methods/smoothed_high_confidence_motion.py\", line 187, in get_location_streams_for_trip\\n    self.unfiltered_loc_df = timeseries.get_data_df(\"background/location\", time_query)\\n\\n  File \"/Users/rsimpson/e-mission-server/emission/storage/timeseries/builtin_timeseries.py\", line 298, in get_data_df\\n    result_it = self.find_entries([key], time_query, geo_query, extra_query_list)\\n\\n  File \"/Users/rsimpson/e-mission-server/emission/storage/timeseries/builtin_timeseries.py\", line 217, in find_entries\\n    (orig_ts_db_count, orig_ts_db_result) = self._get_entries_for_timeseries(self.timeseries_db,\\n\\n  File \"/Users/rsimpson/e-mission-server/emission/storage/timeseries/builtin_timeseries.py\", line 243, in _get_entries_for_timeseries\\n    traceback.format_stack(),\\n   \n",
      "\n",
      "    branch_name  \n",
      "743    sect_opt  \n",
      "744    sect_opt  \n",
      "745    sect_opt  \n",
      "746    sect_opt  \n",
      "747    sect_opt  \n",
      "748    sect_opt  \n",
      "753    sect_opt  \n",
      "754    sect_opt  \n",
      "755    sect_opt  \n",
      "756    sect_opt  \n",
      "757    sect_opt  \n",
      "758    sect_opt  \n",
      "763    sect_opt  \n",
      "764    sect_opt  \n",
      "765    sect_opt  \n",
      "766    sect_opt  \n",
      "767    sect_opt  \n",
      "768    sect_opt  \n",
      "773    sect_opt  \n",
      "774    sect_opt  \n",
      "775    sect_opt  \n",
      "776    sect_opt  \n",
      "777    sect_opt  \n",
      "778    sect_opt  \n",
      "783    sect_opt  \n",
      "784    sect_opt  \n",
      "785    sect_opt  \n",
      "786    sect_opt  \n",
      "787    sect_opt  \n",
      "788    sect_opt  \n",
      "793    sect_opt  \n",
      "794    sect_opt  \n",
      "795    sect_opt  \n",
      "796    sect_opt  \n",
      "797    sect_opt  \n",
      "798    sect_opt  \n",
      "803    sect_opt  \n",
      "804    sect_opt  \n",
      "805    sect_opt  \n",
      "806    sect_opt  \n",
      "807    sect_opt  \n",
      "808    sect_opt  \n",
      "813    sect_opt  \n",
      "814    sect_opt  \n",
      "815    sect_opt  \n",
      "816    sect_opt  \n",
      "817    sect_opt  \n",
      "818    sect_opt  \n",
      "823    sect_opt  \n",
      "824    sect_opt  \n",
      "825    sect_opt  \n",
      "826    sect_opt  \n",
      "827    sect_opt  \n",
      "828    sect_opt  \n",
      "833    sect_opt  \n",
      "834    sect_opt  \n",
      "835    sect_opt  \n",
      "836    sect_opt  \n",
      "837    sect_opt  \n",
      "838    sect_opt  \n",
      "843    sect_opt  \n",
      "844    sect_opt  \n",
      "845    sect_opt  \n",
      "846    sect_opt  \n",
      "847    sect_opt  \n",
      "848    sect_opt  \n",
      "853    sect_opt  \n",
      "854    sect_opt  \n",
      "855    sect_opt  \n",
      "856    sect_opt  \n",
      "857    sect_opt  \n",
      "858    sect_opt  \n",
      "863    sect_opt  \n",
      "864    sect_opt  \n",
      "865    sect_opt  \n",
      "866    sect_opt  \n",
      "867    sect_opt  \n",
      "868    sect_opt  \n",
      "873    sect_opt  \n",
      "874    sect_opt  \n",
      "875    sect_opt  \n",
      "876    sect_opt  \n",
      "877    sect_opt  \n",
      "878    sect_opt  \n",
      "883    sect_opt  \n",
      "884    sect_opt  \n",
      "885    sect_opt  \n",
      "886    sect_opt  \n",
      "887    sect_opt  \n",
      "888    sect_opt  \n",
      "893    sect_opt  \n",
      "894    sect_opt  \n",
      "895    sect_opt  \n",
      "896    sect_opt  \n",
      "897    sect_opt  \n",
      "898    sect_opt  \n",
      "903    sect_opt  \n",
      "904    sect_opt  \n",
      "905    sect_opt  \n",
      "906    sect_opt  \n",
      "907    sect_opt  \n",
      "908    sect_opt  \n",
      "913    sect_opt  \n",
      "914    sect_opt  \n",
      "915    sect_opt  \n",
      "916    sect_opt  \n",
      "917    sect_opt  \n",
      "918    sect_opt  \n",
      "923    sect_opt  \n",
      "924    sect_opt  \n",
      "925    sect_opt  \n",
      "926    sect_opt  \n",
      "927    sect_opt  \n",
      "928    sect_opt  \n",
      "933    sect_opt  \n",
      "934    sect_opt  \n",
      "935    sect_opt  \n",
      "936    sect_opt  \n",
      "937    sect_opt  \n",
      "938    sect_opt  \n",
      "943    sect_opt  \n",
      "944    sect_opt  \n",
      "945    sect_opt  \n",
      "946    sect_opt  \n",
      "947    sect_opt  \n",
      "948    sect_opt  \n",
      "953    sect_opt  \n",
      "954    sect_opt  \n",
      "955    sect_opt  \n",
      "956    sect_opt  \n",
      "957    sect_opt  \n",
      "958    sect_opt  \n",
      "963    sect_opt  \n",
      "964    sect_opt  \n",
      "965    sect_opt  \n",
      "966    sect_opt  \n",
      "967    sect_opt  \n",
      "968    sect_opt  \n",
      "973    sect_opt  \n",
      "974    sect_opt  \n",
      "975    sect_opt  \n",
      "976    sect_opt  \n",
      "977    sect_opt  \n",
      "978    sect_opt  \n",
      "983    sect_opt  \n",
      "984    sect_opt  \n",
      "985    sect_opt  \n",
      "986    sect_opt  \n",
      "987    sect_opt  \n",
      "988    sect_opt  \n",
      "993    sect_opt  \n",
      "994    sect_opt  \n",
      "995    sect_opt  \n",
      "996    sect_opt  \n",
      "997    sect_opt  \n",
      "998    sect_opt  \n"
     ]
    }
   ],
   "source": [
    "db_calls_df = pipeline_stats_df[\n",
    "    pipeline_stats_df['name'] == 'get_entries_for_timeseries'\n",
    "]\n",
    "\n",
    "# Filter rows where ts is in the desired range\n",
    "filtered_df = db_calls_df[(db_calls_df['ts'] >= 1740517903.8663223)]\n",
    "\n",
    "# Drop the _id and user_id columns\n",
    "filtered_df = filtered_df.drop(columns=['_id', 'user_id', 'metadata_write_ts', 'name', 'ts'])\n",
    "pd.set_option('display.max_colwidth', None)\n",
    "pd.set_option('display.max_rows', None)\n",
    "#print(filtered_df['reading'])\n",
    "marker = \"in segment_into_sections\"\n",
    "\n",
    "def extract_from_marker(item):\n",
    "    # If the item is a list, join it into a single string.\n",
    "    if isinstance(item, list):\n",
    "        text = \"\\n\".join(item)\n",
    "    else:\n",
    "        text = item\n",
    "    # Check if the marker exists in the text.\n",
    "    if marker in text:\n",
    "        # Return the portion starting from the marker.\n",
    "        return text[text.find(marker):]\n",
    "    else:\n",
    "        # Return None so we can filter it out later.\n",
    "        return None\n",
    "\n",
    "# Apply the extraction function to the 'reading' column.\n",
    "filtered_df['reading'] = filtered_df['reading'].apply(extract_from_marker)\n",
    "\n",
    "# Drop rows where the marker was not found.\n",
    "filtered_df = filtered_df[filtered_df['reading'].notnull()]\n",
    "\n",
    "# Now print the resulting 'reading' column.\n",
    "print(filtered_df)\n",
    "\n",
    "# [1740517069.9262366, 1740517141.0189838)\n",
    "# db_calls_counts_df = db_calls_df['branch_name'].value_counts(sort=False)\n",
    "\n",
    "# fig = px.bar(\n",
    "#     db_calls_counts_df,\n",
    "#     color=db_calls_counts_df.index,\n",
    "#     orientation=\"h\",\n",
    "# )\n",
    "# fig.update_layout(\n",
    "#     title=f\"Calls to _get_entries_for_timeseries during pipeline ({day})\",\n",
    "#     barmode='group',\n",
    "#     legend=dict(\n",
    "#         yanchor=\"bottom\",\n",
    "#         xanchor=\"right\",\n",
    "#     )\n",
    "# )\n",
    "# fig.show()"
   ]
  },
  {
   "cell_type": "code",
   "execution_count": 83,
   "metadata": {},
   "outputs": [
    {
     "data": {
      "application/vnd.plotly.v1+json": {
       "config": {
        "plotlyServerURL": "https://plot.ly"
       },
       "data": [
        {
         "hovertemplate": "index=%{y}<br>value=%{x}<extra></extra>",
         "legendgroup": "sect_opt",
         "marker": {
          "color": "#636efa",
          "pattern": {
           "shape": ""
          }
         },
         "name": "sect_opt",
         "orientation": "h",
         "showlegend": true,
         "textposition": "auto",
         "type": "bar",
         "x": {
          "bdata": "BgE=",
          "dtype": "i2"
         },
         "xaxis": "x",
         "y": [
          "sect_opt"
         ],
         "yaxis": "y"
        },
        {
         "hovertemplate": "index=%{y}<br>value=%{x}<extra></extra>",
         "legendgroup": "master",
         "marker": {
          "color": "#EF553B",
          "pattern": {
           "shape": ""
          }
         },
         "name": "master",
         "orientation": "h",
         "showlegend": true,
         "textposition": "auto",
         "type": "bar",
         "x": {
          "bdata": "0gA=",
          "dtype": "i2"
         },
         "xaxis": "x",
         "y": [
          "master"
         ],
         "yaxis": "y"
        }
       ],
       "layout": {
        "barmode": "group",
        "legend": {
         "title": {
          "text": "index"
         },
         "tracegroupgap": 0,
         "xanchor": "right",
         "yanchor": "bottom"
        },
        "margin": {
         "t": 60
        },
        "template": {
         "data": {
          "bar": [
           {
            "error_x": {
             "color": "#2a3f5f"
            },
            "error_y": {
             "color": "#2a3f5f"
            },
            "marker": {
             "line": {
              "color": "#E5ECF6",
              "width": 0.5
             },
             "pattern": {
              "fillmode": "overlay",
              "size": 10,
              "solidity": 0.2
             }
            },
            "type": "bar"
           }
          ],
          "barpolar": [
           {
            "marker": {
             "line": {
              "color": "#E5ECF6",
              "width": 0.5
             },
             "pattern": {
              "fillmode": "overlay",
              "size": 10,
              "solidity": 0.2
             }
            },
            "type": "barpolar"
           }
          ],
          "carpet": [
           {
            "aaxis": {
             "endlinecolor": "#2a3f5f",
             "gridcolor": "white",
             "linecolor": "white",
             "minorgridcolor": "white",
             "startlinecolor": "#2a3f5f"
            },
            "baxis": {
             "endlinecolor": "#2a3f5f",
             "gridcolor": "white",
             "linecolor": "white",
             "minorgridcolor": "white",
             "startlinecolor": "#2a3f5f"
            },
            "type": "carpet"
           }
          ],
          "choropleth": [
           {
            "colorbar": {
             "outlinewidth": 0,
             "ticks": ""
            },
            "type": "choropleth"
           }
          ],
          "contour": [
           {
            "colorbar": {
             "outlinewidth": 0,
             "ticks": ""
            },
            "colorscale": [
             [
              0,
              "#0d0887"
             ],
             [
              0.1111111111111111,
              "#46039f"
             ],
             [
              0.2222222222222222,
              "#7201a8"
             ],
             [
              0.3333333333333333,
              "#9c179e"
             ],
             [
              0.4444444444444444,
              "#bd3786"
             ],
             [
              0.5555555555555556,
              "#d8576b"
             ],
             [
              0.6666666666666666,
              "#ed7953"
             ],
             [
              0.7777777777777778,
              "#fb9f3a"
             ],
             [
              0.8888888888888888,
              "#fdca26"
             ],
             [
              1,
              "#f0f921"
             ]
            ],
            "type": "contour"
           }
          ],
          "contourcarpet": [
           {
            "colorbar": {
             "outlinewidth": 0,
             "ticks": ""
            },
            "type": "contourcarpet"
           }
          ],
          "heatmap": [
           {
            "colorbar": {
             "outlinewidth": 0,
             "ticks": ""
            },
            "colorscale": [
             [
              0,
              "#0d0887"
             ],
             [
              0.1111111111111111,
              "#46039f"
             ],
             [
              0.2222222222222222,
              "#7201a8"
             ],
             [
              0.3333333333333333,
              "#9c179e"
             ],
             [
              0.4444444444444444,
              "#bd3786"
             ],
             [
              0.5555555555555556,
              "#d8576b"
             ],
             [
              0.6666666666666666,
              "#ed7953"
             ],
             [
              0.7777777777777778,
              "#fb9f3a"
             ],
             [
              0.8888888888888888,
              "#fdca26"
             ],
             [
              1,
              "#f0f921"
             ]
            ],
            "type": "heatmap"
           }
          ],
          "histogram": [
           {
            "marker": {
             "pattern": {
              "fillmode": "overlay",
              "size": 10,
              "solidity": 0.2
             }
            },
            "type": "histogram"
           }
          ],
          "histogram2d": [
           {
            "colorbar": {
             "outlinewidth": 0,
             "ticks": ""
            },
            "colorscale": [
             [
              0,
              "#0d0887"
             ],
             [
              0.1111111111111111,
              "#46039f"
             ],
             [
              0.2222222222222222,
              "#7201a8"
             ],
             [
              0.3333333333333333,
              "#9c179e"
             ],
             [
              0.4444444444444444,
              "#bd3786"
             ],
             [
              0.5555555555555556,
              "#d8576b"
             ],
             [
              0.6666666666666666,
              "#ed7953"
             ],
             [
              0.7777777777777778,
              "#fb9f3a"
             ],
             [
              0.8888888888888888,
              "#fdca26"
             ],
             [
              1,
              "#f0f921"
             ]
            ],
            "type": "histogram2d"
           }
          ],
          "histogram2dcontour": [
           {
            "colorbar": {
             "outlinewidth": 0,
             "ticks": ""
            },
            "colorscale": [
             [
              0,
              "#0d0887"
             ],
             [
              0.1111111111111111,
              "#46039f"
             ],
             [
              0.2222222222222222,
              "#7201a8"
             ],
             [
              0.3333333333333333,
              "#9c179e"
             ],
             [
              0.4444444444444444,
              "#bd3786"
             ],
             [
              0.5555555555555556,
              "#d8576b"
             ],
             [
              0.6666666666666666,
              "#ed7953"
             ],
             [
              0.7777777777777778,
              "#fb9f3a"
             ],
             [
              0.8888888888888888,
              "#fdca26"
             ],
             [
              1,
              "#f0f921"
             ]
            ],
            "type": "histogram2dcontour"
           }
          ],
          "mesh3d": [
           {
            "colorbar": {
             "outlinewidth": 0,
             "ticks": ""
            },
            "type": "mesh3d"
           }
          ],
          "parcoords": [
           {
            "line": {
             "colorbar": {
              "outlinewidth": 0,
              "ticks": ""
             }
            },
            "type": "parcoords"
           }
          ],
          "pie": [
           {
            "automargin": true,
            "type": "pie"
           }
          ],
          "scatter": [
           {
            "fillpattern": {
             "fillmode": "overlay",
             "size": 10,
             "solidity": 0.2
            },
            "type": "scatter"
           }
          ],
          "scatter3d": [
           {
            "line": {
             "colorbar": {
              "outlinewidth": 0,
              "ticks": ""
             }
            },
            "marker": {
             "colorbar": {
              "outlinewidth": 0,
              "ticks": ""
             }
            },
            "type": "scatter3d"
           }
          ],
          "scattercarpet": [
           {
            "marker": {
             "colorbar": {
              "outlinewidth": 0,
              "ticks": ""
             }
            },
            "type": "scattercarpet"
           }
          ],
          "scattergeo": [
           {
            "marker": {
             "colorbar": {
              "outlinewidth": 0,
              "ticks": ""
             }
            },
            "type": "scattergeo"
           }
          ],
          "scattergl": [
           {
            "marker": {
             "colorbar": {
              "outlinewidth": 0,
              "ticks": ""
             }
            },
            "type": "scattergl"
           }
          ],
          "scattermap": [
           {
            "marker": {
             "colorbar": {
              "outlinewidth": 0,
              "ticks": ""
             }
            },
            "type": "scattermap"
           }
          ],
          "scattermapbox": [
           {
            "marker": {
             "colorbar": {
              "outlinewidth": 0,
              "ticks": ""
             }
            },
            "type": "scattermapbox"
           }
          ],
          "scatterpolar": [
           {
            "marker": {
             "colorbar": {
              "outlinewidth": 0,
              "ticks": ""
             }
            },
            "type": "scatterpolar"
           }
          ],
          "scatterpolargl": [
           {
            "marker": {
             "colorbar": {
              "outlinewidth": 0,
              "ticks": ""
             }
            },
            "type": "scatterpolargl"
           }
          ],
          "scatterternary": [
           {
            "marker": {
             "colorbar": {
              "outlinewidth": 0,
              "ticks": ""
             }
            },
            "type": "scatterternary"
           }
          ],
          "surface": [
           {
            "colorbar": {
             "outlinewidth": 0,
             "ticks": ""
            },
            "colorscale": [
             [
              0,
              "#0d0887"
             ],
             [
              0.1111111111111111,
              "#46039f"
             ],
             [
              0.2222222222222222,
              "#7201a8"
             ],
             [
              0.3333333333333333,
              "#9c179e"
             ],
             [
              0.4444444444444444,
              "#bd3786"
             ],
             [
              0.5555555555555556,
              "#d8576b"
             ],
             [
              0.6666666666666666,
              "#ed7953"
             ],
             [
              0.7777777777777778,
              "#fb9f3a"
             ],
             [
              0.8888888888888888,
              "#fdca26"
             ],
             [
              1,
              "#f0f921"
             ]
            ],
            "type": "surface"
           }
          ],
          "table": [
           {
            "cells": {
             "fill": {
              "color": "#EBF0F8"
             },
             "line": {
              "color": "white"
             }
            },
            "header": {
             "fill": {
              "color": "#C8D4E3"
             },
             "line": {
              "color": "white"
             }
            },
            "type": "table"
           }
          ]
         },
         "layout": {
          "annotationdefaults": {
           "arrowcolor": "#2a3f5f",
           "arrowhead": 0,
           "arrowwidth": 1
          },
          "autotypenumbers": "strict",
          "coloraxis": {
           "colorbar": {
            "outlinewidth": 0,
            "ticks": ""
           }
          },
          "colorscale": {
           "diverging": [
            [
             0,
             "#8e0152"
            ],
            [
             0.1,
             "#c51b7d"
            ],
            [
             0.2,
             "#de77ae"
            ],
            [
             0.3,
             "#f1b6da"
            ],
            [
             0.4,
             "#fde0ef"
            ],
            [
             0.5,
             "#f7f7f7"
            ],
            [
             0.6,
             "#e6f5d0"
            ],
            [
             0.7,
             "#b8e186"
            ],
            [
             0.8,
             "#7fbc41"
            ],
            [
             0.9,
             "#4d9221"
            ],
            [
             1,
             "#276419"
            ]
           ],
           "sequential": [
            [
             0,
             "#0d0887"
            ],
            [
             0.1111111111111111,
             "#46039f"
            ],
            [
             0.2222222222222222,
             "#7201a8"
            ],
            [
             0.3333333333333333,
             "#9c179e"
            ],
            [
             0.4444444444444444,
             "#bd3786"
            ],
            [
             0.5555555555555556,
             "#d8576b"
            ],
            [
             0.6666666666666666,
             "#ed7953"
            ],
            [
             0.7777777777777778,
             "#fb9f3a"
            ],
            [
             0.8888888888888888,
             "#fdca26"
            ],
            [
             1,
             "#f0f921"
            ]
           ],
           "sequentialminus": [
            [
             0,
             "#0d0887"
            ],
            [
             0.1111111111111111,
             "#46039f"
            ],
            [
             0.2222222222222222,
             "#7201a8"
            ],
            [
             0.3333333333333333,
             "#9c179e"
            ],
            [
             0.4444444444444444,
             "#bd3786"
            ],
            [
             0.5555555555555556,
             "#d8576b"
            ],
            [
             0.6666666666666666,
             "#ed7953"
            ],
            [
             0.7777777777777778,
             "#fb9f3a"
            ],
            [
             0.8888888888888888,
             "#fdca26"
            ],
            [
             1,
             "#f0f921"
            ]
           ]
          },
          "colorway": [
           "#636efa",
           "#EF553B",
           "#00cc96",
           "#ab63fa",
           "#FFA15A",
           "#19d3f3",
           "#FF6692",
           "#B6E880",
           "#FF97FF",
           "#FECB52"
          ],
          "font": {
           "color": "#2a3f5f"
          },
          "geo": {
           "bgcolor": "white",
           "lakecolor": "white",
           "landcolor": "#E5ECF6",
           "showlakes": true,
           "showland": true,
           "subunitcolor": "white"
          },
          "hoverlabel": {
           "align": "left"
          },
          "hovermode": "closest",
          "mapbox": {
           "style": "light"
          },
          "paper_bgcolor": "white",
          "plot_bgcolor": "#E5ECF6",
          "polar": {
           "angularaxis": {
            "gridcolor": "white",
            "linecolor": "white",
            "ticks": ""
           },
           "bgcolor": "#E5ECF6",
           "radialaxis": {
            "gridcolor": "white",
            "linecolor": "white",
            "ticks": ""
           }
          },
          "scene": {
           "xaxis": {
            "backgroundcolor": "#E5ECF6",
            "gridcolor": "white",
            "gridwidth": 2,
            "linecolor": "white",
            "showbackground": true,
            "ticks": "",
            "zerolinecolor": "white"
           },
           "yaxis": {
            "backgroundcolor": "#E5ECF6",
            "gridcolor": "white",
            "gridwidth": 2,
            "linecolor": "white",
            "showbackground": true,
            "ticks": "",
            "zerolinecolor": "white"
           },
           "zaxis": {
            "backgroundcolor": "#E5ECF6",
            "gridcolor": "white",
            "gridwidth": 2,
            "linecolor": "white",
            "showbackground": true,
            "ticks": "",
            "zerolinecolor": "white"
           }
          },
          "shapedefaults": {
           "line": {
            "color": "#2a3f5f"
           }
          },
          "ternary": {
           "aaxis": {
            "gridcolor": "white",
            "linecolor": "white",
            "ticks": ""
           },
           "baxis": {
            "gridcolor": "white",
            "linecolor": "white",
            "ticks": ""
           },
           "bgcolor": "#E5ECF6",
           "caxis": {
            "gridcolor": "white",
            "linecolor": "white",
            "ticks": ""
           }
          },
          "title": {
           "x": 0.05
          },
          "xaxis": {
           "automargin": true,
           "gridcolor": "white",
           "linecolor": "white",
           "ticks": "",
           "title": {
            "standoff": 15
           },
           "zerolinecolor": "white",
           "zerolinewidth": 2
          },
          "yaxis": {
           "automargin": true,
           "gridcolor": "white",
           "linecolor": "white",
           "ticks": "",
           "title": {
            "standoff": 15
           },
           "zerolinecolor": "white",
           "zerolinewidth": 2
          }
         }
        },
        "title": {
         "text": "Calls to _get_entries_for_timeseries during section segmentation (shankari_2016-07-27)"
        },
        "xaxis": {
         "anchor": "y",
         "domain": [
          0,
          1
         ],
         "title": {
          "text": "value"
         }
        },
        "yaxis": {
         "anchor": "x",
         "categoryarray": [
          "master",
          "sect_opt"
         ],
         "categoryorder": "array",
         "domain": [
          0,
          1
         ],
         "title": {
          "text": "index"
         }
        }
       }
      }
     },
     "metadata": {},
     "output_type": "display_data"
    }
   ],
   "source": [
    "trip_segmentation_db_calls_dfs = []\n",
    "\n",
    "branches_trip_segmentation_tqs = []\n",
    "for branch_name in branches.keys():\n",
    "    trip_segmentation = pipeline_stages_df[\n",
    "        (pipeline_stages_df['name'] == 'SECTION_SEGMENTATION') &\n",
    "        (pipeline_stages_df['branch_name'] == branch_name)\n",
    "    ].iloc[0]\n",
    "    trip_segmentation_db_calls = db_calls_df[\n",
    "        (db_calls_df['ts'] < trip_segmentation['ts'])\n",
    "        & (db_calls_df['ts'] > trip_segmentation['ts'] - trip_segmentation['reading'])\n",
    "    ]\n",
    "    trip_segmentation_db_calls_dfs.append(trip_segmentation_db_calls)\n",
    "\n",
    "trip_segmentation_db_calls_counts_df = pd.concat(trip_segmentation_db_calls_dfs)['branch_name'].value_counts(sort=False)\n",
    "fig = px.bar(\n",
    "    trip_segmentation_db_calls_counts_df,\n",
    "    color=trip_segmentation_db_calls_counts_df.index,\n",
    "    orientation=\"h\",\n",
    ")\n",
    "fig.update_layout(\n",
    "    title=f\"Calls to _get_entries_for_timeseries during section segmentation ({day})\",\n",
    "    barmode='group',\n",
    "    legend=dict(\n",
    "        yanchor=\"bottom\",\n",
    "        xanchor=\"right\",\n",
    "    )\n",
    ")\n",
    "fig.show()"
   ]
  }
 ],
 "metadata": {
  "kernelspec": {
   "display_name": "emission",
   "language": "python",
   "name": "python3"
  },
  "language_info": {
   "codemirror_mode": {
    "name": "ipython",
    "version": 3
   },
   "file_extension": ".py",
   "mimetype": "text/x-python",
   "name": "python",
   "nbconvert_exporter": "python",
   "pygments_lexer": "ipython3",
   "version": "3.9.20"
  }
 },
 "nbformat": 4,
 "nbformat_minor": 2
}
