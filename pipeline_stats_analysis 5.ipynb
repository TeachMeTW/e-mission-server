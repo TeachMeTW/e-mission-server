{
 "cells": [
  {
   "cell_type": "markdown",
   "metadata": {},
   "source": [
    "## Analysis of pipeline execution time across different branches"
   ]
  },
  {
   "cell_type": "code",
   "execution_count": null,
   "metadata": {},
   "outputs": [],
   "source": [
    "USE_REAL_DATA = False\n",
    "USE_OLD_PIPELINE_RUNS = False\n",
    "\n",
    "if USE_REAL_DATA:\n",
    "    DB_NAME = 'openpath_prod_nrel_commute'\n",
    "    HISTORICAL_DAYS = [\n",
    "        # ('2024-11-01', '2024-12-01'),\n",
    "        # ('2024-12-01', '2025-01-01'),\n",
    "        # ('2025-01-01', '2025-02-01'),\n",
    "    ]\n",
    "    OPCODE = 'nrelop_nrel-commute_fYsciV5vttojUzmWBouIhSjwacQeerdzjc3EauETcVKzc'\n",
    "    REAL_EXAMPLES = None\n",
    "else:\n",
    "    DB_NAME = None\n",
    "    OPCODE = 'nrelop_dev-emulator-study_0'\n",
    "    REAL_EXAMPLES = [\n",
    "        # \"shankari_2016-06-20\",\n",
    "        # \"shankari_2016-07-25\",\n",
    "        \"shankari_2016-07-27\",\n",
    "        # \"shankari_2016-08-04\",\n",
    "    ]\n",
    "\n",
    "BRANCHES = [\n",
    "    # '47ab8be28a1682f841b3d6a03cbe0f9fe0515e0f',\n",
    "    # 'vectorized_segmentation',\n",
    "    # 'remove_invalid_query',\n",
    "    # 'master',\n",
    "    # 'section_segmentation_db_optimize',\n",
    "    # 'batch_overpass'\n",
    "    'Numpyzation',\n",
    "    'master'\n",
    "]"
   ]
  },
  {
   "cell_type": "code",
   "execution_count": 2,
   "metadata": {},
   "outputs": [
    {
     "name": "stdout",
     "output_type": "stream",
     "text": [
      "Requirement already satisfied: plotly in /Users/rsimpson/miniconda-23.5.2/envs/emission/lib/python3.9/site-packages (6.0.0)\n",
      "Requirement already satisfied: narwhals>=1.15.1 in /Users/rsimpson/miniconda-23.5.2/envs/emission/lib/python3.9/site-packages (from plotly) (1.25.0)\n",
      "Requirement already satisfied: packaging in /Users/rsimpson/miniconda-23.5.2/envs/emission/lib/python3.9/site-packages (from plotly) (24.1)\n",
      "\u001b[33mWARNING: There was an error checking the latest version of pip.\u001b[0m\u001b[33m\n",
      "\u001b[0mRequirement already satisfied: nbformat in /Users/rsimpson/miniconda-23.5.2/envs/emission/lib/python3.9/site-packages (5.10.4)\n",
      "Requirement already satisfied: jupyter-core!=5.0.*,>=4.12 in /Users/rsimpson/miniconda-23.5.2/envs/emission/lib/python3.9/site-packages (from nbformat) (5.7.2)\n",
      "Requirement already satisfied: jsonschema>=2.6 in /Users/rsimpson/miniconda-23.5.2/envs/emission/lib/python3.9/site-packages (from nbformat) (4.23.0)\n",
      "Requirement already satisfied: traitlets>=5.1 in /Users/rsimpson/miniconda-23.5.2/envs/emission/lib/python3.9/site-packages (from nbformat) (5.14.3)\n",
      "Requirement already satisfied: fastjsonschema>=2.15 in /Users/rsimpson/miniconda-23.5.2/envs/emission/lib/python3.9/site-packages (from nbformat) (2.20.0)\n",
      "Requirement already satisfied: rpds-py>=0.7.1 in /Users/rsimpson/miniconda-23.5.2/envs/emission/lib/python3.9/site-packages (from jsonschema>=2.6->nbformat) (0.20.0)\n",
      "Requirement already satisfied: jsonschema-specifications>=2023.03.6 in /Users/rsimpson/miniconda-23.5.2/envs/emission/lib/python3.9/site-packages (from jsonschema>=2.6->nbformat) (2024.10.1)\n",
      "Requirement already satisfied: referencing>=0.28.4 in /Users/rsimpson/miniconda-23.5.2/envs/emission/lib/python3.9/site-packages (from jsonschema>=2.6->nbformat) (0.35.1)\n",
      "Requirement already satisfied: attrs>=22.2.0 in /Users/rsimpson/miniconda-23.5.2/envs/emission/lib/python3.9/site-packages (from jsonschema>=2.6->nbformat) (24.2.0)\n",
      "Requirement already satisfied: platformdirs>=2.5 in /Users/rsimpson/miniconda-23.5.2/envs/emission/lib/python3.9/site-packages (from jupyter-core!=5.0.*,>=4.12->nbformat) (4.3.6)\n",
      "\u001b[33mWARNING: There was an error checking the latest version of pip.\u001b[0m\u001b[33m\n",
      "\u001b[0menv: MONITOR_DB=True\n",
      "env: USE_HINTS=True\n",
      "env: DB_RESULT_LIMIT=5000000\n",
      "Config file not found, returning a copy of the environment variables instead...\n",
      "Retrieved config: {'DB_HOST': None, 'DB_RESULT_LIMIT': '5000000', 'USE_HINTS': 'True', 'MONITOR_DB': 'True'}\n",
      "Registering DB query monitor\n",
      "URL not formatted, defaulting to \"Stage_database\"\n",
      "Connecting to database URL localhost\n"
     ]
    }
   ],
   "source": [
    "# dependencies for this notebook that aren't already in the 'emission' environment\n",
    "!pip install plotly\n",
    "!pip install nbformat\n",
    "\n",
    "if DB_NAME:\n",
    "    %env DB_HOST=mongodb://localhost:27017/$DB_NAME\n",
    "%env MONITOR_DB=True\n",
    "%env USE_HINTS=True\n",
    "%env DB_RESULT_LIMIT=5000000\n",
    "\n",
    "import datetime\n",
    "import time\n",
    "import subprocess\n",
    "import pandas as pd\n",
    "pd.set_option('display.max_colwidth', None)\n",
    "pd.set_option('display.float_format', '{:.2f}'.format)\n",
    "import plotly.express as px\n",
    "import emission.core.get_database as edb\n",
    "import emission.core.timer as ect\n",
    "import emission.core.wrapper.user as ecwu\n",
    "import emission.storage.decorations.stats_queries as esds\n",
    "import emission.storage.timeseries.abstract_timeseries as esta\n",
    "import emission.storage.timeseries.timequery as estt"
   ]
  },
  {
   "cell_type": "code",
   "execution_count": 3,
   "metadata": {},
   "outputs": [],
   "source": [
    "STAGES = {\n",
    "    'USERCACHE': 'moveToLongTerm',\n",
    "    'USER_INPUT_MATCH_INCOMING': 'match_incoming_user_inputs',\n",
    "    'ACCURACY_FILTERING': 'filter_accuracy',\n",
    "    'TRIP_SEGMENTATION': 'segment_current_trips',\n",
    "    'SECTION_SEGMENTATION': 'segment_current_sections',\n",
    "    'JUMP_SMOOTHING': 'filter_current_sections',\n",
    "    'CLEAN_RESAMPLING': 'clean_and_resample',\n",
    "    'MODE_INFERENCE': 'predict_mode',\n",
    "    'LABEL_INFERENCE': 'infer_labels',\n",
    "    'EXPECTATION_POPULATION': 'populate_expectations',\n",
    "    'CREATE_CONFIRMED_OBJECTS': 'create_confirmed_objects',\n",
    "    'CREATE_COMPOSITE_OBJECTS': 'create_composite_objects',\n",
    "    'STORE_PIPELINE_DEPENDENT_USER_STATS': 'get_and_store_pipeline_dependent_user_stats',\n",
    "}"
   ]
  },
  {
   "cell_type": "code",
   "execution_count": 4,
   "metadata": {},
   "outputs": [
    {
     "name": "stdout",
     "output_type": "stream",
     "text": [
      "Loading ['shankari_2016-07-27'] for nrelop_dev-emulator-study_0\n",
      "Config file not found, returning a copy of the environment variables instead...\n",
      "Retrieved config: {'DB_HOST': None, 'DB_RESULT_LIMIT': '5000000', 'USE_HINTS': 'True', 'MONITOR_DB': 'True'}\n",
      "Registering DB query monitor\n",
      "URL not formatted, defaulting to \"Stage_database\"\n",
      "Connecting to database URL localhost\n",
      "DEBUG:root:insert called with entry of type <class 'emission.core.wrapper.entry.Entry'>\n",
      "DEBUG:root:entry was fine, no need to fix it\n",
      "DEBUG:root:Inserting entry Entry({'_id': ObjectId('6807f89722f5ec7101df87f2'), 'user_id': None, 'metadata': Metadata({'key': 'stats/pipeline_time', 'platform': 'server', 'write_ts': 1745352855.254787, 'time_zone': 'America/Los_Angeles', 'write_local_dt': LocalDate({'year': 2025, 'month': 4, 'day': 22, 'hour': 13, 'minute': 14, 'second': 15, 'weekday': 1, 'timezone': 'America/Los_Angeles'}), 'write_fmt_time': '2025-04-22T13:14:15.254787-07:00'}), 'data': {'name': 'db_call/find', 'ts': 1745352855.245301, 'reading': \"['find_one', 'fromEmail', '<module>']\"}}) into timeseries\n",
      "INFO:root:For uuid = e3502f2a-7d10-4b9e-9800-feef2c402f35, deleting entries from the timeseries\n",
      "DEBUG:root:insert called with entry of type <class 'emission.core.wrapper.entry.Entry'>\n",
      "DEBUG:root:entry was fine, no need to fix it\n",
      "DEBUG:root:Inserting entry Entry({'_id': ObjectId('6807f89722f5ec7101df8830'), 'user_id': None, 'metadata': Metadata({'key': 'stats/pipeline_time', 'platform': 'server', 'write_ts': 1745352855.575839, 'time_zone': 'America/Los_Angeles', 'write_local_dt': LocalDate({'year': 2025, 'month': 4, 'day': 22, 'hour': 13, 'minute': 14, 'second': 15, 'weekday': 1, 'timezone': 'America/Los_Angeles'}), 'write_fmt_time': '2025-04-22T13:14:15.575839-07:00'}), 'data': {'name': 'db_call/createIndexes', 'ts': 1745352855.575815, 'reading': '[]'}}) into timeseries\n",
      "DEBUG:root:insert called with entry of type <class 'emission.core.wrapper.entry.Entry'>\n",
      "DEBUG:root:entry was fine, no need to fix it\n",
      "DEBUG:root:Inserting entry Entry({'_id': ObjectId('6807f89722f5ec7101df8831'), 'user_id': None, 'metadata': Metadata({'key': 'stats/pipeline_time', 'platform': 'server', 'write_ts': 1745352855.577738, 'time_zone': 'America/Los_Angeles', 'write_local_dt': LocalDate({'year': 2025, 'month': 4, 'day': 22, 'hour': 13, 'minute': 14, 'second': 15, 'weekday': 1, 'timezone': 'America/Los_Angeles'}), 'write_fmt_time': '2025-04-22T13:14:15.577738-07:00'}), 'data': {'name': 'db_call/createIndexes', 'ts': 1745352855.577721, 'reading': '[]'}}) into timeseries\n",
      "DEBUG:root:insert called with entry of type <class 'emission.core.wrapper.entry.Entry'>\n",
      "DEBUG:root:entry was fine, no need to fix it\n",
      "DEBUG:root:Inserting entry Entry({'_id': ObjectId('6807f89722f5ec7101df8832'), 'user_id': None, 'metadata': Metadata({'key': 'stats/pipeline_time', 'platform': 'server', 'write_ts': 1745352855.580239, 'time_zone': 'America/Los_Angeles', 'write_local_dt': LocalDate({'year': 2025, 'month': 4, 'day': 22, 'hour': 13, 'minute': 14, 'second': 15, 'weekday': 1, 'timezone': 'America/Los_Angeles'}), 'write_fmt_time': '2025-04-22T13:14:15.580239-07:00'}), 'data': {'name': 'db_call/createIndexes', 'ts': 1745352855.580222, 'reading': '[]'}}) into timeseries\n",
      "DEBUG:root:insert called with entry of type <class 'emission.core.wrapper.entry.Entry'>\n",
      "DEBUG:root:entry was fine, no need to fix it\n",
      "DEBUG:root:Inserting entry Entry({'_id': ObjectId('6807f89722f5ec7101df8833'), 'user_id': None, 'metadata': Metadata({'key': 'stats/pipeline_time', 'platform': 'server', 'write_ts': 1745352855.58206, 'time_zone': 'America/Los_Angeles', 'write_local_dt': LocalDate({'year': 2025, 'month': 4, 'day': 22, 'hour': 13, 'minute': 14, 'second': 15, 'weekday': 1, 'timezone': 'America/Los_Angeles'}), 'write_fmt_time': '2025-04-22T13:14:15.582060-07:00'}), 'data': {'name': 'db_call/createIndexes', 'ts': 1745352855.582041, 'reading': '[]'}}) into timeseries\n",
      "DEBUG:root:insert called with entry of type <class 'emission.core.wrapper.entry.Entry'>\n",
      "DEBUG:root:entry was fine, no need to fix it\n",
      "DEBUG:root:Inserting entry Entry({'_id': ObjectId('6807f89722f5ec7101df8834'), 'user_id': None, 'metadata': Metadata({'key': 'stats/pipeline_time', 'platform': 'server', 'write_ts': 1745352855.5837939, 'time_zone': 'America/Los_Angeles', 'write_local_dt': LocalDate({'year': 2025, 'month': 4, 'day': 22, 'hour': 13, 'minute': 14, 'second': 15, 'weekday': 1, 'timezone': 'America/Los_Angeles'}), 'write_fmt_time': '2025-04-22T13:14:15.583794-07:00'}), 'data': {'name': 'db_call/createIndexes', 'ts': 1745352855.583777, 'reading': '[]'}}) into timeseries\n",
      "DEBUG:root:insert called with entry of type <class 'emission.core.wrapper.entry.Entry'>\n",
      "DEBUG:root:entry was fine, no need to fix it\n",
      "DEBUG:root:Inserting entry Entry({'_id': ObjectId('6807f89722f5ec7101df8835'), 'user_id': None, 'metadata': Metadata({'key': 'stats/pipeline_time', 'platform': 'server', 'write_ts': 1745352855.5853388, 'time_zone': 'America/Los_Angeles', 'write_local_dt': LocalDate({'year': 2025, 'month': 4, 'day': 22, 'hour': 13, 'minute': 14, 'second': 15, 'weekday': 1, 'timezone': 'America/Los_Angeles'}), 'write_fmt_time': '2025-04-22T13:14:15.585339-07:00'}), 'data': {'name': 'db_call/createIndexes', 'ts': 1745352855.585321, 'reading': '[]'}}) into timeseries\n",
      "DEBUG:root:insert called with entry of type <class 'emission.core.wrapper.entry.Entry'>\n",
      "DEBUG:root:entry was fine, no need to fix it\n",
      "DEBUG:root:Inserting entry Entry({'_id': ObjectId('6807f89722f5ec7101df8836'), 'user_id': None, 'metadata': Metadata({'key': 'stats/pipeline_time', 'platform': 'server', 'write_ts': 1745352855.587599, 'time_zone': 'America/Los_Angeles', 'write_local_dt': LocalDate({'year': 2025, 'month': 4, 'day': 22, 'hour': 13, 'minute': 14, 'second': 15, 'weekday': 1, 'timezone': 'America/Los_Angeles'}), 'write_fmt_time': '2025-04-22T13:14:15.587599-07:00'}), 'data': {'name': 'db_call/createIndexes', 'ts': 1745352855.587581, 'reading': '[]'}}) into timeseries\n",
      "DEBUG:root:insert called with entry of type <class 'emission.core.wrapper.entry.Entry'>\n",
      "DEBUG:root:entry was fine, no need to fix it\n",
      "DEBUG:root:Inserting entry Entry({'_id': ObjectId('6807f89722f5ec7101df8837'), 'user_id': None, 'metadata': Metadata({'key': 'stats/pipeline_time', 'platform': 'server', 'write_ts': 1745352855.589331, 'time_zone': 'America/Los_Angeles', 'write_local_dt': LocalDate({'year': 2025, 'month': 4, 'day': 22, 'hour': 13, 'minute': 14, 'second': 15, 'weekday': 1, 'timezone': 'America/Los_Angeles'}), 'write_fmt_time': '2025-04-22T13:14:15.589331-07:00'}), 'data': {'name': 'db_call/createIndexes', 'ts': 1745352855.589313, 'reading': '[]'}}) into timeseries\n",
      "DEBUG:root:insert called with entry of type <class 'emission.core.wrapper.entry.Entry'>\n",
      "DEBUG:root:entry was fine, no need to fix it\n",
      "DEBUG:root:Inserting entry Entry({'_id': ObjectId('6807f89722f5ec7101df8838'), 'user_id': None, 'metadata': Metadata({'key': 'stats/pipeline_time', 'platform': 'server', 'write_ts': 1745352855.591176, 'time_zone': 'America/Los_Angeles', 'write_local_dt': LocalDate({'year': 2025, 'month': 4, 'day': 22, 'hour': 13, 'minute': 14, 'second': 15, 'weekday': 1, 'timezone': 'America/Los_Angeles'}), 'write_fmt_time': '2025-04-22T13:14:15.591176-07:00'}), 'data': {'name': 'db_call/createIndexes', 'ts': 1745352855.591158, 'reading': '[]'}}) into timeseries\n",
      "DEBUG:root:insert called with entry of type <class 'emission.core.wrapper.entry.Entry'>\n",
      "DEBUG:root:entry was fine, no need to fix it\n",
      "DEBUG:root:Inserting entry Entry({'_id': ObjectId('6807f89722f5ec7101df8839'), 'user_id': None, 'metadata': Metadata({'key': 'stats/pipeline_time', 'platform': 'server', 'write_ts': 1745352855.59274, 'time_zone': 'America/Los_Angeles', 'write_local_dt': LocalDate({'year': 2025, 'month': 4, 'day': 22, 'hour': 13, 'minute': 14, 'second': 15, 'weekday': 1, 'timezone': 'America/Los_Angeles'}), 'write_fmt_time': '2025-04-22T13:14:15.592740-07:00'}), 'data': {'name': 'db_call/createIndexes', 'ts': 1745352855.5927198, 'reading': '[]'}}) into timeseries\n",
      "DEBUG:root:insert called with entry of type <class 'emission.core.wrapper.entry.Entry'>\n",
      "DEBUG:root:entry was fine, no need to fix it\n",
      "DEBUG:root:Inserting entry Entry({'_id': ObjectId('6807f89722f5ec7101df883a'), 'user_id': None, 'metadata': Metadata({'key': 'stats/pipeline_time', 'platform': 'server', 'write_ts': 1745352855.594583, 'time_zone': 'America/Los_Angeles', 'write_local_dt': LocalDate({'year': 2025, 'month': 4, 'day': 22, 'hour': 13, 'minute': 14, 'second': 15, 'weekday': 1, 'timezone': 'America/Los_Angeles'}), 'write_fmt_time': '2025-04-22T13:14:15.594583-07:00'}), 'data': {'name': 'db_call/listIndexes', 'ts': 1745352855.5945668, 'reading': \"['get_timeseries_db', 'purge_entries_for_user', '<module>']\"}}) into timeseries\n",
      "DEBUG:root:insert called with entry of type <class 'emission.core.wrapper.entry.Entry'>\n",
      "DEBUG:root:entry was fine, no need to fix it\n",
      "DEBUG:root:Inserting entry Entry({'_id': ObjectId('6807f89722f5ec7101df883b'), 'user_id': None, 'metadata': Metadata({'key': 'stats/pipeline_time', 'platform': 'server', 'write_ts': 1745352855.596641, 'time_zone': 'America/Los_Angeles', 'write_local_dt': LocalDate({'year': 2025, 'month': 4, 'day': 22, 'hour': 13, 'minute': 14, 'second': 15, 'weekday': 1, 'timezone': 'America/Los_Angeles'}), 'write_fmt_time': '2025-04-22T13:14:15.596641-07:00'}), 'data': {'name': 'db_call/createIndexes', 'ts': 1745352855.596624, 'reading': '[]'}}) into timeseries\n",
      "DEBUG:root:insert called with entry of type <class 'emission.core.wrapper.entry.Entry'>\n",
      "DEBUG:root:entry was fine, no need to fix it\n",
      "DEBUG:root:Inserting entry Entry({'_id': ObjectId('6807f89722f5ec7101df883c'), 'user_id': None, 'metadata': Metadata({'key': 'stats/pipeline_time', 'platform': 'server', 'write_ts': 1745352855.5983338, 'time_zone': 'America/Los_Angeles', 'write_local_dt': LocalDate({'year': 2025, 'month': 4, 'day': 22, 'hour': 13, 'minute': 14, 'second': 15, 'weekday': 1, 'timezone': 'America/Los_Angeles'}), 'write_fmt_time': '2025-04-22T13:14:15.598334-07:00'}), 'data': {'name': 'db_call/createIndexes', 'ts': 1745352855.5983171, 'reading': '[]'}}) into timeseries\n",
      "DEBUG:root:insert called with entry of type <class 'emission.core.wrapper.entry.Entry'>\n",
      "DEBUG:root:entry was fine, no need to fix it\n",
      "DEBUG:root:Inserting entry Entry({'_id': ObjectId('6807f89722f5ec7101df883d'), 'user_id': None, 'metadata': Metadata({'key': 'stats/pipeline_time', 'platform': 'server', 'write_ts': 1745352855.6001332, 'time_zone': 'America/Los_Angeles', 'write_local_dt': LocalDate({'year': 2025, 'month': 4, 'day': 22, 'hour': 13, 'minute': 14, 'second': 15, 'weekday': 1, 'timezone': 'America/Los_Angeles'}), 'write_fmt_time': '2025-04-22T13:14:15.600133-07:00'}), 'data': {'name': 'db_call/createIndexes', 'ts': 1745352855.600115, 'reading': \"['<module>']\"}}) into timeseries\n",
      "DEBUG:root:insert called with entry of type <class 'emission.core.wrapper.entry.Entry'>\n",
      "DEBUG:root:entry was fine, no need to fix it\n",
      "DEBUG:root:Inserting entry Entry({'_id': ObjectId('6807f89722f5ec7101df883e'), 'user_id': None, 'metadata': Metadata({'key': 'stats/pipeline_time', 'platform': 'server', 'write_ts': 1745352855.601771, 'time_zone': 'America/Los_Angeles', 'write_local_dt': LocalDate({'year': 2025, 'month': 4, 'day': 22, 'hour': 13, 'minute': 14, 'second': 15, 'weekday': 1, 'timezone': 'America/Los_Angeles'}), 'write_fmt_time': '2025-04-22T13:14:15.601771-07:00'}), 'data': {'name': 'db_call/createIndexes', 'ts': 1745352855.601753, 'reading': \"['<module>']\"}}) into timeseries\n",
      "DEBUG:root:insert called with entry of type <class 'emission.core.wrapper.entry.Entry'>\n",
      "DEBUG:root:entry was fine, no need to fix it\n",
      "DEBUG:root:Inserting entry Entry({'_id': ObjectId('6807f89722f5ec7101df883f'), 'user_id': None, 'metadata': Metadata({'key': 'stats/pipeline_time', 'platform': 'server', 'write_ts': 1745352855.6038039, 'time_zone': 'America/Los_Angeles', 'write_local_dt': LocalDate({'year': 2025, 'month': 4, 'day': 22, 'hour': 13, 'minute': 14, 'second': 15, 'weekday': 1, 'timezone': 'America/Los_Angeles'}), 'write_fmt_time': '2025-04-22T13:14:15.603804-07:00'}), 'data': {'name': 'db_call/createIndexes', 'ts': 1745352855.603787, 'reading': \"['<module>']\"}}) into timeseries\n",
      "DEBUG:root:insert called with entry of type <class 'emission.core.wrapper.entry.Entry'>\n",
      "DEBUG:root:entry was fine, no need to fix it\n",
      "DEBUG:root:Inserting entry Entry({'_id': ObjectId('6807f89722f5ec7101df8840'), 'user_id': None, 'metadata': Metadata({'key': 'stats/pipeline_time', 'platform': 'server', 'write_ts': 1745352855.605619, 'time_zone': 'America/Los_Angeles', 'write_local_dt': LocalDate({'year': 2025, 'month': 4, 'day': 22, 'hour': 13, 'minute': 14, 'second': 15, 'weekday': 1, 'timezone': 'America/Los_Angeles'}), 'write_fmt_time': '2025-04-22T13:14:15.605619-07:00'}), 'data': {'name': 'db_call/listIndexes', 'ts': 1745352855.6056, 'reading': \"['_create_analysis_result_indices', 'get_analysis_timeseries_db', 'purge_entries_for_user', '<module>']\"}}) into timeseries\n",
      "DEBUG:root:insert called with entry of type <class 'emission.core.wrapper.entry.Entry'>\n",
      "DEBUG:root:entry was fine, no need to fix it\n",
      "DEBUG:root:Inserting entry Entry({'_id': ObjectId('6807f89722f5ec7101df8841'), 'user_id': None, 'metadata': Metadata({'key': 'stats/pipeline_time', 'platform': 'server', 'write_ts': 1745352855.6081522, 'time_zone': 'America/Los_Angeles', 'write_local_dt': LocalDate({'year': 2025, 'month': 4, 'day': 22, 'hour': 13, 'minute': 14, 'second': 15, 'weekday': 1, 'timezone': 'America/Los_Angeles'}), 'write_fmt_time': '2025-04-22T13:14:15.608152-07:00'}), 'data': {'name': 'db_call/listIndexes', 'ts': 1745352855.60813, 'reading': \"['_create_analysis_result_indices', 'get_analysis_timeseries_db', 'purge_entries_for_user', '<module>']\"}}) into timeseries\n",
      "DEBUG:root:insert called with entry of type <class 'emission.core.wrapper.entry.Entry'>\n",
      "DEBUG:root:entry was fine, no need to fix it\n",
      "DEBUG:root:Inserting entry Entry({'_id': ObjectId('6807f89722f5ec7101df8842'), 'user_id': None, 'metadata': Metadata({'key': 'stats/pipeline_time', 'platform': 'server', 'write_ts': 1745352855.610506, 'time_zone': 'America/Los_Angeles', 'write_local_dt': LocalDate({'year': 2025, 'month': 4, 'day': 22, 'hour': 13, 'minute': 14, 'second': 15, 'weekday': 1, 'timezone': 'America/Los_Angeles'}), 'write_fmt_time': '2025-04-22T13:14:15.610506-07:00'}), 'data': {'name': 'db_call/createIndexes', 'ts': 1745352855.610485, 'reading': \"['<module>']\"}}) into timeseries\n",
      "DEBUG:root:insert called with entry of type <class 'emission.core.wrapper.entry.Entry'>\n",
      "DEBUG:root:entry was fine, no need to fix it\n",
      "DEBUG:root:Inserting entry Entry({'_id': ObjectId('6807f89722f5ec7101df8843'), 'user_id': None, 'metadata': Metadata({'key': 'stats/pipeline_time', 'platform': 'server', 'write_ts': 1745352855.612811, 'time_zone': 'America/Los_Angeles', 'write_local_dt': LocalDate({'year': 2025, 'month': 4, 'day': 22, 'hour': 13, 'minute': 14, 'second': 15, 'weekday': 1, 'timezone': 'America/Los_Angeles'}), 'write_fmt_time': '2025-04-22T13:14:15.612811-07:00'}), 'data': {'name': 'db_call/createIndexes', 'ts': 1745352855.6127942, 'reading': \"['<module>']\"}}) into timeseries\n",
      "DEBUG:root:insert called with entry of type <class 'emission.core.wrapper.entry.Entry'>\n",
      "DEBUG:root:entry was fine, no need to fix it\n",
      "DEBUG:root:Inserting entry Entry({'_id': ObjectId('6807f89722f5ec7101df8844'), 'user_id': None, 'metadata': Metadata({'key': 'stats/pipeline_time', 'platform': 'server', 'write_ts': 1745352855.6147242, 'time_zone': 'America/Los_Angeles', 'write_local_dt': LocalDate({'year': 2025, 'month': 4, 'day': 22, 'hour': 13, 'minute': 14, 'second': 15, 'weekday': 1, 'timezone': 'America/Los_Angeles'}), 'write_fmt_time': '2025-04-22T13:14:15.614724-07:00'}), 'data': {'name': 'db_call/createIndexes', 'ts': 1745352855.6147058, 'reading': \"['purge_entries_for_user', '<module>']\"}}) into timeseries\n",
      "DEBUG:root:insert called with entry of type <class 'emission.core.wrapper.entry.Entry'>\n",
      "DEBUG:root:entry was fine, no need to fix it\n",
      "DEBUG:root:Inserting entry Entry({'_id': ObjectId('6807f89722f5ec7101df8845'), 'user_id': None, 'metadata': Metadata({'key': 'stats/pipeline_time', 'platform': 'server', 'write_ts': 1745352855.616543, 'time_zone': 'America/Los_Angeles', 'write_local_dt': LocalDate({'year': 2025, 'month': 4, 'day': 22, 'hour': 13, 'minute': 14, 'second': 15, 'weekday': 1, 'timezone': 'America/Los_Angeles'}), 'write_fmt_time': '2025-04-22T13:14:15.616543-07:00'}), 'data': {'name': 'db_call/createIndexes', 'ts': 1745352855.616522, 'reading': \"['purge_entries_for_user', '<module>']\"}}) into timeseries\n",
      "DEBUG:root:insert called with entry of type <class 'emission.core.wrapper.entry.Entry'>\n",
      "DEBUG:root:entry was fine, no need to fix it\n",
      "DEBUG:root:Inserting entry Entry({'_id': ObjectId('6807f89722f5ec7101df8846'), 'user_id': None, 'metadata': Metadata({'key': 'stats/pipeline_time', 'platform': 'server', 'write_ts': 1745352855.618499, 'time_zone': 'America/Los_Angeles', 'write_local_dt': LocalDate({'year': 2025, 'month': 4, 'day': 22, 'hour': 13, 'minute': 14, 'second': 15, 'weekday': 1, 'timezone': 'America/Los_Angeles'}), 'write_fmt_time': '2025-04-22T13:14:15.618499-07:00'}), 'data': {'name': 'db_call/createIndexes', 'ts': 1745352855.6184802, 'reading': \"['purge_entries_for_user', '<module>']\"}}) into timeseries\n",
      "DEBUG:root:insert called with entry of type <class 'emission.core.wrapper.entry.Entry'>\n",
      "DEBUG:root:entry was fine, no need to fix it\n",
      "DEBUG:root:Inserting entry Entry({'_id': ObjectId('6807f89722f5ec7101df8847'), 'user_id': None, 'metadata': Metadata({'key': 'stats/pipeline_time', 'platform': 'server', 'write_ts': 1745352855.620718, 'time_zone': 'America/Los_Angeles', 'write_local_dt': LocalDate({'year': 2025, 'month': 4, 'day': 22, 'hour': 13, 'minute': 14, 'second': 15, 'weekday': 1, 'timezone': 'America/Los_Angeles'}), 'write_fmt_time': '2025-04-22T13:14:15.620718-07:00'}), 'data': {'name': 'db_call/createIndexes', 'ts': 1745352855.620692, 'reading': \"['purge_entries_for_user', '<module>']\"}}) into timeseries\n",
      "DEBUG:root:insert called with entry of type <class 'emission.core.wrapper.entry.Entry'>\n",
      "DEBUG:root:entry was fine, no need to fix it\n",
      "DEBUG:root:Inserting entry Entry({'_id': ObjectId('6807f89722f5ec7101df8848'), 'user_id': None, 'metadata': Metadata({'key': 'stats/pipeline_time', 'platform': 'server', 'write_ts': 1745352855.622664, 'time_zone': 'America/Los_Angeles', 'write_local_dt': LocalDate({'year': 2025, 'month': 4, 'day': 22, 'hour': 13, 'minute': 14, 'second': 15, 'weekday': 1, 'timezone': 'America/Los_Angeles'}), 'write_fmt_time': '2025-04-22T13:14:15.622664-07:00'}), 'data': {'name': 'db_call/createIndexes', 'ts': 1745352855.622645, 'reading': \"['purge_entries_for_user', '<module>']\"}}) into timeseries\n",
      "DEBUG:root:insert called with entry of type <class 'emission.core.wrapper.entry.Entry'>\n",
      "DEBUG:root:entry was fine, no need to fix it\n",
      "DEBUG:root:Inserting entry Entry({'_id': ObjectId('6807f89722f5ec7101df8849'), 'user_id': None, 'metadata': Metadata({'key': 'stats/pipeline_time', 'platform': 'server', 'write_ts': 1745352855.6243389, 'time_zone': 'America/Los_Angeles', 'write_local_dt': LocalDate({'year': 2025, 'month': 4, 'day': 22, 'hour': 13, 'minute': 14, 'second': 15, 'weekday': 1, 'timezone': 'America/Los_Angeles'}), 'write_fmt_time': '2025-04-22T13:14:15.624339-07:00'}), 'data': {'name': 'db_call/createIndexes', 'ts': 1745352855.624314, 'reading': \"['purge_entries_for_user', '<module>']\"}}) into timeseries\n",
      "DEBUG:root:insert called with entry of type <class 'emission.core.wrapper.entry.Entry'>\n",
      "DEBUG:root:entry was fine, no need to fix it\n",
      "DEBUG:root:Inserting entry Entry({'_id': ObjectId('6807f89722f5ec7101df884a'), 'user_id': None, 'metadata': Metadata({'key': 'stats/pipeline_time', 'platform': 'server', 'write_ts': 1745352855.637413, 'time_zone': 'America/Los_Angeles', 'write_local_dt': LocalDate({'year': 2025, 'month': 4, 'day': 22, 'hour': 13, 'minute': 14, 'second': 15, 'weekday': 1, 'timezone': 'America/Los_Angeles'}), 'write_fmt_time': '2025-04-22T13:14:15.637413-07:00'}), 'data': {'name': 'db_call/createIndexes', 'ts': 1745352855.637383, 'reading': \"['purge_entries_for_user', '<module>']\"}}) into timeseries\n",
      "DEBUG:root:insert called with entry of type <class 'emission.core.wrapper.entry.Entry'>\n",
      "DEBUG:root:entry was fine, no need to fix it\n",
      "DEBUG:root:Inserting entry Entry({'_id': ObjectId('6807f89722f5ec7101df884b'), 'user_id': None, 'metadata': Metadata({'key': 'stats/pipeline_time', 'platform': 'server', 'write_ts': 1745352855.63947, 'time_zone': 'America/Los_Angeles', 'write_local_dt': LocalDate({'year': 2025, 'month': 4, 'day': 22, 'hour': 13, 'minute': 14, 'second': 15, 'weekday': 1, 'timezone': 'America/Los_Angeles'}), 'write_fmt_time': '2025-04-22T13:14:15.639470-07:00'}), 'data': {'name': 'db_call/createIndexes', 'ts': 1745352855.639443, 'reading': \"['purge_entries_for_user', '<module>']\"}}) into timeseries\n",
      "DEBUG:root:insert called with entry of type <class 'emission.core.wrapper.entry.Entry'>\n",
      "DEBUG:root:entry was fine, no need to fix it\n",
      "DEBUG:root:Inserting entry Entry({'_id': ObjectId('6807f89722f5ec7101df884c'), 'user_id': None, 'metadata': Metadata({'key': 'stats/pipeline_time', 'platform': 'server', 'write_ts': 1745352855.6416929, 'time_zone': 'America/Los_Angeles', 'write_local_dt': LocalDate({'year': 2025, 'month': 4, 'day': 22, 'hour': 13, 'minute': 14, 'second': 15, 'weekday': 1, 'timezone': 'America/Los_Angeles'}), 'write_fmt_time': '2025-04-22T13:14:15.641693-07:00'}), 'data': {'name': 'db_call/createIndexes', 'ts': 1745352855.641661, 'reading': \"['purge_entries_for_user', '<module>']\"}}) into timeseries\n",
      "DEBUG:root:insert called with entry of type <class 'emission.core.wrapper.entry.Entry'>\n",
      "DEBUG:root:entry was fine, no need to fix it\n",
      "DEBUG:root:Inserting entry Entry({'_id': ObjectId('6807f89722f5ec7101df884d'), 'user_id': None, 'metadata': Metadata({'key': 'stats/pipeline_time', 'platform': 'server', 'write_ts': 1745352855.6437068, 'time_zone': 'America/Los_Angeles', 'write_local_dt': LocalDate({'year': 2025, 'month': 4, 'day': 22, 'hour': 13, 'minute': 14, 'second': 15, 'weekday': 1, 'timezone': 'America/Los_Angeles'}), 'write_fmt_time': '2025-04-22T13:14:15.643707-07:00'}), 'data': {'name': 'db_call/createIndexes', 'ts': 1745352855.643682, 'reading': \"['purge_entries_for_user', '<module>']\"}}) into timeseries\n",
      "DEBUG:root:insert called with entry of type <class 'emission.core.wrapper.entry.Entry'>\n",
      "DEBUG:root:entry was fine, no need to fix it\n",
      "DEBUG:root:Inserting entry Entry({'_id': ObjectId('6807f89722f5ec7101df884e'), 'user_id': None, 'metadata': Metadata({'key': 'stats/pipeline_time', 'platform': 'server', 'write_ts': 1745352855.6455948, 'time_zone': 'America/Los_Angeles', 'write_local_dt': LocalDate({'year': 2025, 'month': 4, 'day': 22, 'hour': 13, 'minute': 14, 'second': 15, 'weekday': 1, 'timezone': 'America/Los_Angeles'}), 'write_fmt_time': '2025-04-22T13:14:15.645595-07:00'}), 'data': {'name': 'db_call/createIndexes', 'ts': 1745352855.645566, 'reading': \"['purge_entries_for_user', '<module>']\"}}) into timeseries\n",
      "DEBUG:root:insert called with entry of type <class 'emission.core.wrapper.entry.Entry'>\n",
      "DEBUG:root:entry was fine, no need to fix it\n",
      "DEBUG:root:Inserting entry Entry({'_id': ObjectId('6807f89722f5ec7101df884f'), 'user_id': None, 'metadata': Metadata({'key': 'stats/pipeline_time', 'platform': 'server', 'write_ts': 1745352855.647438, 'time_zone': 'America/Los_Angeles', 'write_local_dt': LocalDate({'year': 2025, 'month': 4, 'day': 22, 'hour': 13, 'minute': 14, 'second': 15, 'weekday': 1, 'timezone': 'America/Los_Angeles'}), 'write_fmt_time': '2025-04-22T13:14:15.647438-07:00'}), 'data': {'name': 'db_call/createIndexes', 'ts': 1745352855.64741, 'reading': \"['purge_entries_for_user', '<module>']\"}}) into timeseries\n",
      "DEBUG:root:insert called with entry of type <class 'emission.core.wrapper.entry.Entry'>\n",
      "DEBUG:root:entry was fine, no need to fix it\n",
      "DEBUG:root:Inserting entry Entry({'_id': ObjectId('6807f89722f5ec7101df8850'), 'user_id': None, 'metadata': Metadata({'key': 'stats/pipeline_time', 'platform': 'server', 'write_ts': 1745352855.649211, 'time_zone': 'America/Los_Angeles', 'write_local_dt': LocalDate({'year': 2025, 'month': 4, 'day': 22, 'hour': 13, 'minute': 14, 'second': 15, 'weekday': 1, 'timezone': 'America/Los_Angeles'}), 'write_fmt_time': '2025-04-22T13:14:15.649211-07:00'}), 'data': {'name': 'db_call/createIndexes', 'ts': 1745352855.6491652, 'reading': \"['purge_entries_for_user', '<module>']\"}}) into timeseries\n",
      "DEBUG:root:insert called with entry of type <class 'emission.core.wrapper.entry.Entry'>\n",
      "DEBUG:root:entry was fine, no need to fix it\n",
      "DEBUG:root:Inserting entry Entry({'_id': ObjectId('6807f89722f5ec7101df8851'), 'user_id': None, 'metadata': Metadata({'key': 'stats/pipeline_time', 'platform': 'server', 'write_ts': 1745352855.650953, 'time_zone': 'America/Los_Angeles', 'write_local_dt': LocalDate({'year': 2025, 'month': 4, 'day': 22, 'hour': 13, 'minute': 14, 'second': 15, 'weekday': 1, 'timezone': 'America/Los_Angeles'}), 'write_fmt_time': '2025-04-22T13:14:15.650953-07:00'}), 'data': {'name': 'db_call/createIndexes', 'ts': 1745352855.650923, 'reading': \"['purge_entries_for_user', '<module>']\"}}) into timeseries\n",
      "DEBUG:root:insert called with entry of type <class 'emission.core.wrapper.entry.Entry'>\n",
      "DEBUG:root:entry was fine, no need to fix it\n",
      "DEBUG:root:Inserting entry Entry({'_id': ObjectId('6807f89722f5ec7101df8852'), 'user_id': None, 'metadata': Metadata({'key': 'stats/pipeline_time', 'platform': 'server', 'write_ts': 1745352855.652517, 'time_zone': 'America/Los_Angeles', 'write_local_dt': LocalDate({'year': 2025, 'month': 4, 'day': 22, 'hour': 13, 'minute': 14, 'second': 15, 'weekday': 1, 'timezone': 'America/Los_Angeles'}), 'write_fmt_time': '2025-04-22T13:14:15.652517-07:00'}), 'data': {'name': 'db_call/createIndexes', 'ts': 1745352855.652492, 'reading': \"['<module>']\"}}) into timeseries\n",
      "DEBUG:root:insert called with entry of type <class 'emission.core.wrapper.entry.Entry'>\n",
      "DEBUG:root:entry was fine, no need to fix it\n",
      "DEBUG:root:Inserting entry Entry({'_id': ObjectId('6807f89722f5ec7101df8853'), 'user_id': None, 'metadata': Metadata({'key': 'stats/pipeline_time', 'platform': 'server', 'write_ts': 1745352855.6541162, 'time_zone': 'America/Los_Angeles', 'write_local_dt': LocalDate({'year': 2025, 'month': 4, 'day': 22, 'hour': 13, 'minute': 14, 'second': 15, 'weekday': 1, 'timezone': 'America/Los_Angeles'}), 'write_fmt_time': '2025-04-22T13:14:15.654116-07:00'}), 'data': {'name': 'db_call/createIndexes', 'ts': 1745352855.6540859, 'reading': \"['<module>']\"}}) into timeseries\n",
      "DEBUG:root:insert called with entry of type <class 'emission.core.wrapper.entry.Entry'>\n",
      "DEBUG:root:entry was fine, no need to fix it\n",
      "DEBUG:root:Inserting entry Entry({'_id': ObjectId('6807f89722f5ec7101df8854'), 'user_id': None, 'metadata': Metadata({'key': 'stats/pipeline_time', 'platform': 'server', 'write_ts': 1745352855.655602, 'time_zone': 'America/Los_Angeles', 'write_local_dt': LocalDate({'year': 2025, 'month': 4, 'day': 22, 'hour': 13, 'minute': 14, 'second': 15, 'weekday': 1, 'timezone': 'America/Los_Angeles'}), 'write_fmt_time': '2025-04-22T13:14:15.655602-07:00'}), 'data': {'name': 'db_call/createIndexes', 'ts': 1745352855.6555789, 'reading': \"['purge_entries_for_user', '<module>']\"}}) into timeseries\n",
      "DEBUG:root:insert called with entry of type <class 'emission.core.wrapper.entry.Entry'>\n",
      "DEBUG:root:entry was fine, no need to fix it\n",
      "DEBUG:root:Inserting entry Entry({'_id': ObjectId('6807f89722f5ec7101df8855'), 'user_id': None, 'metadata': Metadata({'key': 'stats/pipeline_time', 'platform': 'server', 'write_ts': 1745352855.6573231, 'time_zone': 'America/Los_Angeles', 'write_local_dt': LocalDate({'year': 2025, 'month': 4, 'day': 22, 'hour': 13, 'minute': 14, 'second': 15, 'weekday': 1, 'timezone': 'America/Los_Angeles'}), 'write_fmt_time': '2025-04-22T13:14:15.657323-07:00'}), 'data': {'name': 'db_call/createIndexes', 'ts': 1745352855.657299, 'reading': \"['purge_entries_for_user', '<module>']\"}}) into timeseries\n",
      "DEBUG:root:insert called with entry of type <class 'emission.core.wrapper.entry.Entry'>\n",
      "DEBUG:root:entry was fine, no need to fix it\n",
      "DEBUG:root:Inserting entry Entry({'_id': ObjectId('6807f89722f5ec7101df8856'), 'user_id': None, 'metadata': Metadata({'key': 'stats/pipeline_time', 'platform': 'server', 'write_ts': 1745352855.658784, 'time_zone': 'America/Los_Angeles', 'write_local_dt': LocalDate({'year': 2025, 'month': 4, 'day': 22, 'hour': 13, 'minute': 14, 'second': 15, 'weekday': 1, 'timezone': 'America/Los_Angeles'}), 'write_fmt_time': '2025-04-22T13:14:15.658784-07:00'}), 'data': {'name': 'db_call/createIndexes', 'ts': 1745352855.6587641, 'reading': \"['purge_entries_for_user', '<module>']\"}}) into timeseries\n",
      "DEBUG:root:insert called with entry of type <class 'emission.core.wrapper.entry.Entry'>\n",
      "DEBUG:root:entry was fine, no need to fix it\n",
      "DEBUG:root:Inserting entry Entry({'_id': ObjectId('6807f89722f5ec7101df8857'), 'user_id': None, 'metadata': Metadata({'key': 'stats/pipeline_time', 'platform': 'server', 'write_ts': 1745352855.660248, 'time_zone': 'America/Los_Angeles', 'write_local_dt': LocalDate({'year': 2025, 'month': 4, 'day': 22, 'hour': 13, 'minute': 14, 'second': 15, 'weekday': 1, 'timezone': 'America/Los_Angeles'}), 'write_fmt_time': '2025-04-22T13:14:15.660248-07:00'}), 'data': {'name': 'db_call/createIndexes', 'ts': 1745352855.660224, 'reading': \"['purge_entries_for_user', '<module>']\"}}) into timeseries\n",
      "DEBUG:root:insert called with entry of type <class 'emission.core.wrapper.entry.Entry'>\n",
      "DEBUG:root:entry was fine, no need to fix it\n",
      "DEBUG:root:Inserting entry Entry({'_id': ObjectId('6807f89722f5ec7101df8858'), 'user_id': None, 'metadata': Metadata({'key': 'stats/pipeline_time', 'platform': 'server', 'write_ts': 1745352855.661738, 'time_zone': 'America/Los_Angeles', 'write_local_dt': LocalDate({'year': 2025, 'month': 4, 'day': 22, 'hour': 13, 'minute': 14, 'second': 15, 'weekday': 1, 'timezone': 'America/Los_Angeles'}), 'write_fmt_time': '2025-04-22T13:14:15.661738-07:00'}), 'data': {'name': 'db_call/createIndexes', 'ts': 1745352855.661717, 'reading': \"['purge_entries_for_user', '<module>']\"}}) into timeseries\n",
      "DEBUG:root:insert called with entry of type <class 'emission.core.wrapper.entry.Entry'>\n",
      "DEBUG:root:entry was fine, no need to fix it\n",
      "DEBUG:root:Inserting entry Entry({'_id': ObjectId('6807f89722f5ec7101df8859'), 'user_id': None, 'metadata': Metadata({'key': 'stats/pipeline_time', 'platform': 'server', 'write_ts': 1745352855.66332, 'time_zone': 'America/Los_Angeles', 'write_local_dt': LocalDate({'year': 2025, 'month': 4, 'day': 22, 'hour': 13, 'minute': 14, 'second': 15, 'weekday': 1, 'timezone': 'America/Los_Angeles'}), 'write_fmt_time': '2025-04-22T13:14:15.663320-07:00'}), 'data': {'name': 'db_call/createIndexes', 'ts': 1745352855.66329, 'reading': \"['purge_entries_for_user', '<module>']\"}}) into timeseries\n",
      "DEBUG:root:insert called with entry of type <class 'emission.core.wrapper.entry.Entry'>\n",
      "DEBUG:root:entry was fine, no need to fix it\n",
      "DEBUG:root:Inserting entry Entry({'_id': ObjectId('6807f89722f5ec7101df885a'), 'user_id': None, 'metadata': Metadata({'key': 'stats/pipeline_time', 'platform': 'server', 'write_ts': 1745352855.6650019, 'time_zone': 'America/Los_Angeles', 'write_local_dt': LocalDate({'year': 2025, 'month': 4, 'day': 22, 'hour': 13, 'minute': 14, 'second': 15, 'weekday': 1, 'timezone': 'America/Los_Angeles'}), 'write_fmt_time': '2025-04-22T13:14:15.665002-07:00'}), 'data': {'name': 'db_call/createIndexes', 'ts': 1745352855.6649668, 'reading': \"['purge_entries_for_user', '<module>']\"}}) into timeseries\n",
      "DEBUG:root:insert called with entry of type <class 'emission.core.wrapper.entry.Entry'>\n",
      "DEBUG:root:entry was fine, no need to fix it\n",
      "DEBUG:root:Inserting entry Entry({'_id': ObjectId('6807f89722f5ec7101df885b'), 'user_id': None, 'metadata': Metadata({'key': 'stats/pipeline_time', 'platform': 'server', 'write_ts': 1745352855.666566, 'time_zone': 'America/Los_Angeles', 'write_local_dt': LocalDate({'year': 2025, 'month': 4, 'day': 22, 'hour': 13, 'minute': 14, 'second': 15, 'weekday': 1, 'timezone': 'America/Los_Angeles'}), 'write_fmt_time': '2025-04-22T13:14:15.666566-07:00'}), 'data': {'name': 'db_call/createIndexes', 'ts': 1745352855.666545, 'reading': \"['purge_entries_for_user', '<module>']\"}}) into timeseries\n",
      "DEBUG:root:insert called with entry of type <class 'emission.core.wrapper.entry.Entry'>\n",
      "DEBUG:root:entry was fine, no need to fix it\n",
      "DEBUG:root:Inserting entry Entry({'_id': ObjectId('6807f89722f5ec7101df885c'), 'user_id': None, 'metadata': Metadata({'key': 'stats/pipeline_time', 'platform': 'server', 'write_ts': 1745352855.6686678, 'time_zone': 'America/Los_Angeles', 'write_local_dt': LocalDate({'year': 2025, 'month': 4, 'day': 22, 'hour': 13, 'minute': 14, 'second': 15, 'weekday': 1, 'timezone': 'America/Los_Angeles'}), 'write_fmt_time': '2025-04-22T13:14:15.668668-07:00'}), 'data': {'name': 'db_call/createIndexes', 'ts': 1745352855.6686468, 'reading': \"['purge_entries_for_user', '<module>']\"}}) into timeseries\n",
      "DEBUG:root:insert called with entry of type <class 'emission.core.wrapper.entry.Entry'>\n",
      "DEBUG:root:entry was fine, no need to fix it\n",
      "DEBUG:root:Inserting entry Entry({'_id': ObjectId('6807f89722f5ec7101df885d'), 'user_id': None, 'metadata': Metadata({'key': 'stats/pipeline_time', 'platform': 'server', 'write_ts': 1745352855.67144, 'time_zone': 'America/Los_Angeles', 'write_local_dt': LocalDate({'year': 2025, 'month': 4, 'day': 22, 'hour': 13, 'minute': 14, 'second': 15, 'weekday': 1, 'timezone': 'America/Los_Angeles'}), 'write_fmt_time': '2025-04-22T13:14:15.671440-07:00'}), 'data': {'name': 'db_call/createIndexes', 'ts': 1745352855.6714199, 'reading': \"['purge_entries_for_user', '<module>']\"}}) into timeseries\n",
      "DEBUG:root:insert called with entry of type <class 'emission.core.wrapper.entry.Entry'>\n",
      "DEBUG:root:entry was fine, no need to fix it\n",
      "DEBUG:root:Inserting entry Entry({'_id': ObjectId('6807f89722f5ec7101df885e'), 'user_id': None, 'metadata': Metadata({'key': 'stats/pipeline_time', 'platform': 'server', 'write_ts': 1745352855.6740851, 'time_zone': 'America/Los_Angeles', 'write_local_dt': LocalDate({'year': 2025, 'month': 4, 'day': 22, 'hour': 13, 'minute': 14, 'second': 15, 'weekday': 1, 'timezone': 'America/Los_Angeles'}), 'write_fmt_time': '2025-04-22T13:14:15.674085-07:00'}), 'data': {'name': 'db_call/createIndexes', 'ts': 1745352855.674057, 'reading': \"['purge_entries_for_user', '<module>']\"}}) into timeseries\n",
      "DEBUG:root:insert called with entry of type <class 'emission.core.wrapper.entry.Entry'>\n",
      "DEBUG:root:entry was fine, no need to fix it\n",
      "DEBUG:root:Inserting entry Entry({'_id': ObjectId('6807f89722f5ec7101df885f'), 'user_id': None, 'metadata': Metadata({'key': 'stats/pipeline_time', 'platform': 'server', 'write_ts': 1745352855.676003, 'time_zone': 'America/Los_Angeles', 'write_local_dt': LocalDate({'year': 2025, 'month': 4, 'day': 22, 'hour': 13, 'minute': 14, 'second': 15, 'weekday': 1, 'timezone': 'America/Los_Angeles'}), 'write_fmt_time': '2025-04-22T13:14:15.676003-07:00'}), 'data': {'name': 'db_call/createIndexes', 'ts': 1745352855.675976, 'reading': \"['purge_entries_for_user', '<module>']\"}}) into timeseries\n",
      "DEBUG:root:insert called with entry of type <class 'emission.core.wrapper.entry.Entry'>\n",
      "DEBUG:root:entry was fine, no need to fix it\n",
      "DEBUG:root:Inserting entry Entry({'_id': ObjectId('6807f89722f5ec7101df8860'), 'user_id': None, 'metadata': Metadata({'key': 'stats/pipeline_time', 'platform': 'server', 'write_ts': 1745352855.6780539, 'time_zone': 'America/Los_Angeles', 'write_local_dt': LocalDate({'year': 2025, 'month': 4, 'day': 22, 'hour': 13, 'minute': 14, 'second': 15, 'weekday': 1, 'timezone': 'America/Los_Angeles'}), 'write_fmt_time': '2025-04-22T13:14:15.678054-07:00'}), 'data': {'name': 'db_call/createIndexes', 'ts': 1745352855.678032, 'reading': \"['purge_entries_for_user', '<module>']\"}}) into timeseries\n",
      "DEBUG:root:insert called with entry of type <class 'emission.core.wrapper.entry.Entry'>\n",
      "DEBUG:root:entry was fine, no need to fix it\n",
      "DEBUG:root:Inserting entry Entry({'_id': ObjectId('6807f89722f5ec7101df8861'), 'user_id': None, 'metadata': Metadata({'key': 'stats/pipeline_time', 'platform': 'server', 'write_ts': 1745352855.680189, 'time_zone': 'America/Los_Angeles', 'write_local_dt': LocalDate({'year': 2025, 'month': 4, 'day': 22, 'hour': 13, 'minute': 14, 'second': 15, 'weekday': 1, 'timezone': 'America/Los_Angeles'}), 'write_fmt_time': '2025-04-22T13:14:15.680189-07:00'}), 'data': {'name': 'db_call/createIndexes', 'ts': 1745352855.680165, 'reading': \"['purge_entries_for_user', '<module>']\"}}) into timeseries\n",
      "DEBUG:root:insert called with entry of type <class 'emission.core.wrapper.entry.Entry'>\n",
      "DEBUG:root:entry was fine, no need to fix it\n",
      "DEBUG:root:Inserting entry Entry({'_id': ObjectId('6807f89722f5ec7101df8862'), 'user_id': None, 'metadata': Metadata({'key': 'stats/pipeline_time', 'platform': 'server', 'write_ts': 1745352855.6823208, 'time_zone': 'America/Los_Angeles', 'write_local_dt': LocalDate({'year': 2025, 'month': 4, 'day': 22, 'hour': 13, 'minute': 14, 'second': 15, 'weekday': 1, 'timezone': 'America/Los_Angeles'}), 'write_fmt_time': '2025-04-22T13:14:15.682321-07:00'}), 'data': {'name': 'db_call/listIndexes', 'ts': 1745352855.6822941, 'reading': \"['_create_analysis_result_indices', 'get_analysis_timeseries_db', 'purge_entries_for_user', '<module>']\"}}) into timeseries\n",
      "DEBUG:root:insert called with entry of type <class 'emission.core.wrapper.entry.Entry'>\n",
      "DEBUG:root:entry was fine, no need to fix it\n",
      "DEBUG:root:Inserting entry Entry({'_id': ObjectId('6807f89722f5ec7101df8863'), 'user_id': None, 'metadata': Metadata({'key': 'stats/pipeline_time', 'platform': 'server', 'write_ts': 1745352855.685132, 'time_zone': 'America/Los_Angeles', 'write_local_dt': LocalDate({'year': 2025, 'month': 4, 'day': 22, 'hour': 13, 'minute': 14, 'second': 15, 'weekday': 1, 'timezone': 'America/Los_Angeles'}), 'write_fmt_time': '2025-04-22T13:14:15.685132-07:00'}), 'data': {'name': 'db_call/createIndexes', 'ts': 1745352855.685111, 'reading': \"['<module>']\"}}) into timeseries\n",
      "DEBUG:root:insert called with entry of type <class 'emission.core.wrapper.entry.Entry'>\n",
      "DEBUG:root:entry was fine, no need to fix it\n",
      "DEBUG:root:Inserting entry Entry({'_id': ObjectId('6807f89722f5ec7101df8864'), 'user_id': None, 'metadata': Metadata({'key': 'stats/pipeline_time', 'platform': 'server', 'write_ts': 1745352855.68786, 'time_zone': 'America/Los_Angeles', 'write_local_dt': LocalDate({'year': 2025, 'month': 4, 'day': 22, 'hour': 13, 'minute': 14, 'second': 15, 'weekday': 1, 'timezone': 'America/Los_Angeles'}), 'write_fmt_time': '2025-04-22T13:14:15.687860-07:00'}), 'data': {'name': 'db_call/createIndexes', 'ts': 1745352855.687836, 'reading': \"['<module>']\"}}) into timeseries\n",
      "DEBUG:root:insert called with entry of type <class 'emission.core.wrapper.entry.Entry'>\n",
      "DEBUG:root:entry was fine, no need to fix it\n",
      "DEBUG:root:Inserting entry Entry({'_id': ObjectId('6807f89722f5ec7101df8865'), 'user_id': None, 'metadata': Metadata({'key': 'stats/pipeline_time', 'platform': 'server', 'write_ts': 1745352855.690346, 'time_zone': 'America/Los_Angeles', 'write_local_dt': LocalDate({'year': 2025, 'month': 4, 'day': 22, 'hour': 13, 'minute': 14, 'second': 15, 'weekday': 1, 'timezone': 'America/Los_Angeles'}), 'write_fmt_time': '2025-04-22T13:14:15.690346-07:00'}), 'data': {'name': 'db_call/createIndexes', 'ts': 1745352855.6903198, 'reading': \"['<module>']\"}}) into timeseries\n",
      "DEBUG:root:insert called with entry of type <class 'emission.core.wrapper.entry.Entry'>\n",
      "DEBUG:root:entry was fine, no need to fix it\n",
      "DEBUG:root:Inserting entry Entry({'_id': ObjectId('6807f89722f5ec7101df8866'), 'user_id': None, 'metadata': Metadata({'key': 'stats/pipeline_time', 'platform': 'server', 'write_ts': 1745352855.692123, 'time_zone': 'America/Los_Angeles', 'write_local_dt': LocalDate({'year': 2025, 'month': 4, 'day': 22, 'hour': 13, 'minute': 14, 'second': 15, 'weekday': 1, 'timezone': 'America/Los_Angeles'}), 'write_fmt_time': '2025-04-22T13:14:15.692123-07:00'}), 'data': {'name': 'db_call/createIndexes', 'ts': 1745352855.6920981, 'reading': \"['<module>']\"}}) into timeseries\n",
      "DEBUG:root:insert called with entry of type <class 'emission.core.wrapper.entry.Entry'>\n",
      "DEBUG:root:entry was fine, no need to fix it\n",
      "DEBUG:root:Inserting entry Entry({'_id': ObjectId('6807f89722f5ec7101df8867'), 'user_id': None, 'metadata': Metadata({'key': 'stats/pipeline_time', 'platform': 'server', 'write_ts': 1745352855.693804, 'time_zone': 'America/Los_Angeles', 'write_local_dt': LocalDate({'year': 2025, 'month': 4, 'day': 22, 'hour': 13, 'minute': 14, 'second': 15, 'weekday': 1, 'timezone': 'America/Los_Angeles'}), 'write_fmt_time': '2025-04-22T13:14:15.693804-07:00'}), 'data': {'name': 'db_call/createIndexes', 'ts': 1745352855.693784, 'reading': \"['<module>']\"}}) into timeseries\n",
      "DEBUG:root:insert called with entry of type <class 'emission.core.wrapper.entry.Entry'>\n",
      "DEBUG:root:entry was fine, no need to fix it\n",
      "DEBUG:root:Inserting entry Entry({'_id': ObjectId('6807f89722f5ec7101df8868'), 'user_id': None, 'metadata': Metadata({'key': 'stats/pipeline_time', 'platform': 'server', 'write_ts': 1745352855.696466, 'time_zone': 'America/Los_Angeles', 'write_local_dt': LocalDate({'year': 2025, 'month': 4, 'day': 22, 'hour': 13, 'minute': 14, 'second': 15, 'weekday': 1, 'timezone': 'America/Los_Angeles'}), 'write_fmt_time': '2025-04-22T13:14:15.696466-07:00'}), 'data': {'name': 'db_call/createIndexes', 'ts': 1745352855.6964421, 'reading': \"['<module>']\"}}) into timeseries\n",
      "DEBUG:root:insert called with entry of type <class 'emission.core.wrapper.entry.Entry'>\n",
      "DEBUG:root:entry was fine, no need to fix it\n",
      "DEBUG:root:Inserting entry Entry({'_id': ObjectId('6807f89722f5ec7101df8869'), 'user_id': None, 'metadata': Metadata({'key': 'stats/pipeline_time', 'platform': 'server', 'write_ts': 1745352855.698352, 'time_zone': 'America/Los_Angeles', 'write_local_dt': LocalDate({'year': 2025, 'month': 4, 'day': 22, 'hour': 13, 'minute': 14, 'second': 15, 'weekday': 1, 'timezone': 'America/Los_Angeles'}), 'write_fmt_time': '2025-04-22T13:14:15.698352-07:00'}), 'data': {'name': 'db_call/listIndexes', 'ts': 1745352855.698329, 'reading': \"['_create_analysis_result_indices', 'get_analysis_timeseries_db', 'purge_entries_for_user', '<module>']\"}}) into timeseries\n",
      "DEBUG:root:insert called with entry of type <class 'emission.core.wrapper.entry.Entry'>\n",
      "DEBUG:root:entry was fine, no need to fix it\n",
      "DEBUG:root:Inserting entry Entry({'_id': ObjectId('6807f89722f5ec7101df886a'), 'user_id': None, 'metadata': Metadata({'key': 'stats/pipeline_time', 'platform': 'server', 'write_ts': 1745352855.700654, 'time_zone': 'America/Los_Angeles', 'write_local_dt': LocalDate({'year': 2025, 'month': 4, 'day': 22, 'hour': 13, 'minute': 14, 'second': 15, 'weekday': 1, 'timezone': 'America/Los_Angeles'}), 'write_fmt_time': '2025-04-22T13:14:15.700654-07:00'}), 'data': {'name': 'db_call/createIndexes', 'ts': 1745352855.700632, 'reading': \"['<module>']\"}}) into timeseries\n",
      "DEBUG:root:insert called with entry of type <class 'emission.core.wrapper.entry.Entry'>\n",
      "DEBUG:root:entry was fine, no need to fix it\n",
      "DEBUG:root:Inserting entry Entry({'_id': ObjectId('6807f89722f5ec7101df886b'), 'user_id': None, 'metadata': Metadata({'key': 'stats/pipeline_time', 'platform': 'server', 'write_ts': 1745352855.702477, 'time_zone': 'America/Los_Angeles', 'write_local_dt': LocalDate({'year': 2025, 'month': 4, 'day': 22, 'hour': 13, 'minute': 14, 'second': 15, 'weekday': 1, 'timezone': 'America/Los_Angeles'}), 'write_fmt_time': '2025-04-22T13:14:15.702477-07:00'}), 'data': {'name': 'db_call/createIndexes', 'ts': 1745352855.702455, 'reading': \"['purge_entries_for_user', '<module>']\"}}) into timeseries\n",
      "DEBUG:root:insert called with entry of type <class 'emission.core.wrapper.entry.Entry'>\n",
      "DEBUG:root:entry was fine, no need to fix it\n",
      "DEBUG:root:Inserting entry Entry({'_id': ObjectId('6807f89722f5ec7101df886c'), 'user_id': None, 'metadata': Metadata({'key': 'stats/pipeline_time', 'platform': 'server', 'write_ts': 1745352855.7047942, 'time_zone': 'America/Los_Angeles', 'write_local_dt': LocalDate({'year': 2025, 'month': 4, 'day': 22, 'hour': 13, 'minute': 14, 'second': 15, 'weekday': 1, 'timezone': 'America/Los_Angeles'}), 'write_fmt_time': '2025-04-22T13:14:15.704794-07:00'}), 'data': {'name': 'db_call/createIndexes', 'ts': 1745352855.704771, 'reading': \"['purge_entries_for_user', '<module>']\"}}) into timeseries\n",
      "DEBUG:root:insert called with entry of type <class 'emission.core.wrapper.entry.Entry'>\n",
      "DEBUG:root:entry was fine, no need to fix it\n",
      "DEBUG:root:Inserting entry Entry({'_id': ObjectId('6807f89722f5ec7101df886d'), 'user_id': None, 'metadata': Metadata({'key': 'stats/pipeline_time', 'platform': 'server', 'write_ts': 1745352855.706793, 'time_zone': 'America/Los_Angeles', 'write_local_dt': LocalDate({'year': 2025, 'month': 4, 'day': 22, 'hour': 13, 'minute': 14, 'second': 15, 'weekday': 1, 'timezone': 'America/Los_Angeles'}), 'write_fmt_time': '2025-04-22T13:14:15.706793-07:00'}), 'data': {'name': 'db_call/createIndexes', 'ts': 1745352855.706763, 'reading': \"['purge_entries_for_user', '<module>']\"}}) into timeseries\n",
      "DEBUG:root:insert called with entry of type <class 'emission.core.wrapper.entry.Entry'>\n",
      "DEBUG:root:entry was fine, no need to fix it\n",
      "DEBUG:root:Inserting entry Entry({'_id': ObjectId('6807f89722f5ec7101df886e'), 'user_id': None, 'metadata': Metadata({'key': 'stats/pipeline_time', 'platform': 'server', 'write_ts': 1745352855.708549, 'time_zone': 'America/Los_Angeles', 'write_local_dt': LocalDate({'year': 2025, 'month': 4, 'day': 22, 'hour': 13, 'minute': 14, 'second': 15, 'weekday': 1, 'timezone': 'America/Los_Angeles'}), 'write_fmt_time': '2025-04-22T13:14:15.708549-07:00'}), 'data': {'name': 'db_call/createIndexes', 'ts': 1745352855.708525, 'reading': \"['purge_entries_for_user', '<module>']\"}}) into timeseries\n",
      "DEBUG:root:insert called with entry of type <class 'emission.core.wrapper.entry.Entry'>\n",
      "DEBUG:root:entry was fine, no need to fix it\n",
      "DEBUG:root:Inserting entry Entry({'_id': ObjectId('6807f89722f5ec7101df886f'), 'user_id': None, 'metadata': Metadata({'key': 'stats/pipeline_time', 'platform': 'server', 'write_ts': 1745352855.7102962, 'time_zone': 'America/Los_Angeles', 'write_local_dt': LocalDate({'year': 2025, 'month': 4, 'day': 22, 'hour': 13, 'minute': 14, 'second': 15, 'weekday': 1, 'timezone': 'America/Los_Angeles'}), 'write_fmt_time': '2025-04-22T13:14:15.710296-07:00'}), 'data': {'name': 'db_call/createIndexes', 'ts': 1745352855.710272, 'reading': \"['purge_entries_for_user', '<module>']\"}}) into timeseries\n",
      "DEBUG:root:insert called with entry of type <class 'emission.core.wrapper.entry.Entry'>\n",
      "DEBUG:root:entry was fine, no need to fix it\n",
      "DEBUG:root:Inserting entry Entry({'_id': ObjectId('6807f89722f5ec7101df8870'), 'user_id': None, 'metadata': Metadata({'key': 'stats/pipeline_time', 'platform': 'server', 'write_ts': 1745352855.712686, 'time_zone': 'America/Los_Angeles', 'write_local_dt': LocalDate({'year': 2025, 'month': 4, 'day': 22, 'hour': 13, 'minute': 14, 'second': 15, 'weekday': 1, 'timezone': 'America/Los_Angeles'}), 'write_fmt_time': '2025-04-22T13:14:15.712686-07:00'}), 'data': {'name': 'db_call/createIndexes', 'ts': 1745352855.712665, 'reading': \"['purge_entries_for_user', '<module>']\"}}) into timeseries\n",
      "DEBUG:root:insert called with entry of type <class 'emission.core.wrapper.entry.Entry'>\n",
      "DEBUG:root:entry was fine, no need to fix it\n",
      "DEBUG:root:Inserting entry Entry({'_id': ObjectId('6807f89722f5ec7101df8871'), 'user_id': None, 'metadata': Metadata({'key': 'stats/pipeline_time', 'platform': 'server', 'write_ts': 1745352855.715023, 'time_zone': 'America/Los_Angeles', 'write_local_dt': LocalDate({'year': 2025, 'month': 4, 'day': 22, 'hour': 13, 'minute': 14, 'second': 15, 'weekday': 1, 'timezone': 'America/Los_Angeles'}), 'write_fmt_time': '2025-04-22T13:14:15.715023-07:00'}), 'data': {'name': 'db_call/createIndexes', 'ts': 1745352855.715002, 'reading': \"['purge_entries_for_user', '<module>']\"}}) into timeseries\n",
      "DEBUG:root:db_array not passed in, looking up databases\n",
      "DEBUG:root:insert called with entry of type <class 'emission.core.wrapper.entry.Entry'>\n",
      "DEBUG:root:entry was fine, no need to fix it\n",
      "DEBUG:root:Inserting entry Entry({'_id': ObjectId('6807f89722f5ec7101df8872'), 'user_id': None, 'metadata': Metadata({'key': 'stats/pipeline_time', 'platform': 'server', 'write_ts': 1745352855.7170172, 'time_zone': 'America/Los_Angeles', 'write_local_dt': LocalDate({'year': 2025, 'month': 4, 'day': 22, 'hour': 13, 'minute': 14, 'second': 15, 'weekday': 1, 'timezone': 'America/Los_Angeles'}), 'write_fmt_time': '2025-04-22T13:14:15.717017-07:00'}), 'data': {'name': 'db_call/delete', 'ts': 1745352855.716993, 'reading': \"['delete_many', 'purge_entries_for_user', '<module>']\"}}) into timeseries\n",
      "INFO:root:result = <pymongo.results.DeleteResult object at 0x1849b39d0>\n",
      "INFO:root:For uuid = e3502f2a-7d10-4b9e-9800-feef2c402f35, deleting entries from the profiles\n",
      "DEBUG:root:insert called with entry of type <class 'emission.core.wrapper.entry.Entry'>\n",
      "DEBUG:root:entry was fine, no need to fix it\n",
      "DEBUG:root:Inserting entry Entry({'_id': ObjectId('6807f89722f5ec7101df8873'), 'user_id': None, 'metadata': Metadata({'key': 'stats/pipeline_time', 'platform': 'server', 'write_ts': 1745352855.768286, 'time_zone': 'America/Los_Angeles', 'write_local_dt': LocalDate({'year': 2025, 'month': 4, 'day': 22, 'hour': 13, 'minute': 14, 'second': 15, 'weekday': 1, 'timezone': 'America/Los_Angeles'}), 'write_fmt_time': '2025-04-22T13:14:15.768286-07:00'}), 'data': {'name': 'db_call/delete', 'ts': 1745352855.768235, 'reading': \"['delete_many', 'purge_entries_for_user', '<module>']\"}}) into timeseries\n",
      "INFO:root:result = <pymongo.results.DeleteResult object at 0x1849b33d0>\n",
      "INFO:root:For uuid = e3502f2a-7d10-4b9e-9800-feef2c402f35, deleting entries from the usercache\n",
      "DEBUG:root:insert called with entry of type <class 'emission.core.wrapper.entry.Entry'>\n",
      "DEBUG:root:entry was fine, no need to fix it\n",
      "DEBUG:root:Inserting entry Entry({'_id': ObjectId('6807f89722f5ec7101df8874'), 'user_id': None, 'metadata': Metadata({'key': 'stats/pipeline_time', 'platform': 'server', 'write_ts': 1745352855.770716, 'time_zone': 'America/Los_Angeles', 'write_local_dt': LocalDate({'year': 2025, 'month': 4, 'day': 22, 'hour': 13, 'minute': 14, 'second': 15, 'weekday': 1, 'timezone': 'America/Los_Angeles'}), 'write_fmt_time': '2025-04-22T13:14:15.770716-07:00'}), 'data': {'name': 'db_call/delete', 'ts': 1745352855.7706869, 'reading': \"['delete_many', 'purge_entries_for_user', '<module>']\"}}) into timeseries\n",
      "INFO:root:result = <pymongo.results.DeleteResult object at 0x1849b39a0>\n",
      "INFO:root:For uuid = e3502f2a-7d10-4b9e-9800-feef2c402f35, deleting entries from the timeseries_error\n",
      "DEBUG:root:insert called with entry of type <class 'emission.core.wrapper.entry.Entry'>\n",
      "DEBUG:root:entry was fine, no need to fix it\n",
      "DEBUG:root:Inserting entry Entry({'_id': ObjectId('6807f89722f5ec7101df8875'), 'user_id': None, 'metadata': Metadata({'key': 'stats/pipeline_time', 'platform': 'server', 'write_ts': 1745352855.7726321, 'time_zone': 'America/Los_Angeles', 'write_local_dt': LocalDate({'year': 2025, 'month': 4, 'day': 22, 'hour': 13, 'minute': 14, 'second': 15, 'weekday': 1, 'timezone': 'America/Los_Angeles'}), 'write_fmt_time': '2025-04-22T13:14:15.772632-07:00'}), 'data': {'name': 'db_call/delete', 'ts': 1745352855.772606, 'reading': \"['delete_many', 'purge_entries_for_user', '<module>']\"}}) into timeseries\n",
      "INFO:root:result = <pymongo.results.DeleteResult object at 0x1849b32b0>\n",
      "INFO:root:For uuid = e3502f2a-7d10-4b9e-9800-feef2c402f35, deleting entries from the analysis_timeseries\n",
      "DEBUG:root:insert called with entry of type <class 'emission.core.wrapper.entry.Entry'>\n",
      "DEBUG:root:entry was fine, no need to fix it\n",
      "DEBUG:root:Inserting entry Entry({'_id': ObjectId('6807f89722f5ec7101df8876'), 'user_id': None, 'metadata': Metadata({'key': 'stats/pipeline_time', 'platform': 'server', 'write_ts': 1745352855.774744, 'time_zone': 'America/Los_Angeles', 'write_local_dt': LocalDate({'year': 2025, 'month': 4, 'day': 22, 'hour': 13, 'minute': 14, 'second': 15, 'weekday': 1, 'timezone': 'America/Los_Angeles'}), 'write_fmt_time': '2025-04-22T13:14:15.774744-07:00'}), 'data': {'name': 'db_call/delete', 'ts': 1745352855.774712, 'reading': \"['delete_many', 'purge_entries_for_user', '<module>']\"}}) into timeseries\n",
      "INFO:root:result = <pymongo.results.DeleteResult object at 0x1849b3910>\n",
      "INFO:root:For uuid e3502f2a-7d10-4b9e-9800-feef2c402f35, deleting entries from the user_db\n",
      "DEBUG:root:insert called with entry of type <class 'emission.core.wrapper.entry.Entry'>\n",
      "DEBUG:root:entry was fine, no need to fix it\n",
      "DEBUG:root:Inserting entry Entry({'_id': ObjectId('6807f89722f5ec7101df8877'), 'user_id': None, 'metadata': Metadata({'key': 'stats/pipeline_time', 'platform': 'server', 'write_ts': 1745352855.7784069, 'time_zone': 'America/Los_Angeles', 'write_local_dt': LocalDate({'year': 2025, 'month': 4, 'day': 22, 'hour': 13, 'minute': 14, 'second': 15, 'weekday': 1, 'timezone': 'America/Los_Angeles'}), 'write_fmt_time': '2025-04-22T13:14:15.778407-07:00'}), 'data': {'name': 'db_call/delete', 'ts': 1745352855.778373, 'reading': \"['delete_many', 'purge_entries_for_user', '<module>']\"}}) into timeseries\n",
      "INFO:root:result = <pymongo.results.DeleteResult object at 0x1849b37f0>\n",
      "Config file not found, returning a copy of the environment variables instead...\n",
      "Retrieved config: {'DB_HOST': None, 'DB_RESULT_LIMIT': '5000000', 'USE_HINTS': 'True', 'MONITOR_DB': 'True'}\n",
      "Registering DB query monitor\n",
      "URL not formatted, defaulting to \"Stage_database\"\n",
      "Connecting to database URL localhost\n",
      "emission/tests/data/real_examples/shankari_2016-07-27\n",
      "Loading file emission/tests/data/real_examples/shankari_2016-07-27\n",
      "After registration, nrelop_dev-emulator-study_0 -> 774a4944-f086-40b0-b64f-9cd5ddb60eb9\n",
      "Finished loading 0 entries into the usercache and 3580 entries into the timeseries\n",
      "Checking out Numpyzation to measure pipeline runtime\n",
      "Already on 'Numpyzation'\n",
      "Your branch is up to date with 'fork/Numpyzation'.\n",
      "Config file not found, returning a copy of the environment variables instead...\n",
      "Retrieved config: {'DB_HOST': None, 'DB_RESULT_LIMIT': '5000000', 'USE_HINTS': 'True', 'MONITOR_DB': 'True'}\n",
      "Registering DB query monitor\n",
      "URL not formatted, defaulting to \"Stage_database\"\n",
      "Connecting to database URL localhost\n",
      "Namespace(all=False, platform=None, user_list=None, email_list=['nrelop_dev-emulator-study_0'], date=None, dry_run=False)\n",
      "DEBUG:root:insert called with entry of type <class 'emission.core.wrapper.entry.Entry'>\n",
      "DEBUG:root:entry was fine, no need to fix it\n",
      "DEBUG:root:Inserting entry Entry({'_id': ObjectId('6807f8a3dc8e1d84bba30333'), 'user_id': None, 'metadata': Metadata({'key': 'stats/pipeline_time', 'platform': 'server', 'write_ts': 1745352867.8782752, 'time_zone': 'America/Los_Angeles', 'write_local_dt': LocalDate({'year': 2025, 'month': 4, 'day': 22, 'hour': 13, 'minute': 14, 'second': 27, 'weekday': 1, 'timezone': 'America/Los_Angeles'}), 'write_fmt_time': '2025-04-22T13:14:27.878275-07:00'}), 'data': {'name': 'db_call/find', 'ts': 1745352867.8782542, 'reading': \"['find_one', 'fromEmail', '<listcomp>', '_email_2_user_list', '_get_user_list', '<module>']\"}}) into timeseries\n",
      "INFO:root:received list with [UUID('774a4944-f086-40b0-b64f-9cd5ddb60eb9')] users\n",
      "INFO:root:first few entries are [UUID('774a4944-f086-40b0-b64f-9cd5ddb60eb9')]\n",
      "INFO:root:resetting user 774a4944-f086-40b0-b64f-9cd5ddb60eb9 to start\n",
      "DEBUG:root:insert called with entry of type <class 'emission.core.wrapper.entry.Entry'>\n",
      "DEBUG:root:entry was fine, no need to fix it\n",
      "DEBUG:root:Inserting entry Entry({'_id': ObjectId('6807f8a3dc8e1d84bba30334'), 'user_id': None, 'metadata': Metadata({'key': 'stats/pipeline_time', 'platform': 'server', 'write_ts': 1745352867.885101, 'time_zone': 'America/Los_Angeles', 'write_local_dt': LocalDate({'year': 2025, 'month': 4, 'day': 22, 'hour': 13, 'minute': 14, 'second': 27, 'weekday': 1, 'timezone': 'America/Los_Angeles'}), 'write_fmt_time': '2025-04-22T13:14:27.885101-07:00'}), 'data': {'name': 'db_call/createIndexes', 'ts': 1745352867.8850791, 'reading': \"['<module>']\"}}) into timeseries\n",
      "DEBUG:root:insert called with entry of type <class 'emission.core.wrapper.entry.Entry'>\n",
      "DEBUG:root:entry was fine, no need to fix it\n",
      "DEBUG:root:Inserting entry Entry({'_id': ObjectId('6807f8a3dc8e1d84bba30335'), 'user_id': None, 'metadata': Metadata({'key': 'stats/pipeline_time', 'platform': 'server', 'write_ts': 1745352867.887315, 'time_zone': 'America/Los_Angeles', 'write_local_dt': LocalDate({'year': 2025, 'month': 4, 'day': 22, 'hour': 13, 'minute': 14, 'second': 27, 'weekday': 1, 'timezone': 'America/Los_Angeles'}), 'write_fmt_time': '2025-04-22T13:14:27.887315-07:00'}), 'data': {'name': 'db_call/createIndexes', 'ts': 1745352867.887298, 'reading': \"['reset_user_to_start', '<module>']\"}}) into timeseries\n",
      "DEBUG:root:insert called with entry of type <class 'emission.core.wrapper.entry.Entry'>\n",
      "DEBUG:root:entry was fine, no need to fix it\n",
      "DEBUG:root:Inserting entry Entry({'_id': ObjectId('6807f8a3dc8e1d84bba30336'), 'user_id': None, 'metadata': Metadata({'key': 'stats/pipeline_time', 'platform': 'server', 'write_ts': 1745352867.8892531, 'time_zone': 'America/Los_Angeles', 'write_local_dt': LocalDate({'year': 2025, 'month': 4, 'day': 22, 'hour': 13, 'minute': 14, 'second': 27, 'weekday': 1, 'timezone': 'America/Los_Angeles'}), 'write_fmt_time': '2025-04-22T13:14:27.889253-07:00'}), 'data': {'name': 'db_call/createIndexes', 'ts': 1745352867.8892312, 'reading': \"['reset_user_to_start', '<module>']\"}}) into timeseries\n",
      "DEBUG:root:insert called with entry of type <class 'emission.core.wrapper.entry.Entry'>\n",
      "DEBUG:root:entry was fine, no need to fix it\n",
      "DEBUG:root:Inserting entry Entry({'_id': ObjectId('6807f8a3dc8e1d84bba30337'), 'user_id': None, 'metadata': Metadata({'key': 'stats/pipeline_time', 'platform': 'server', 'write_ts': 1745352867.891197, 'time_zone': 'America/Los_Angeles', 'write_local_dt': LocalDate({'year': 2025, 'month': 4, 'day': 22, 'hour': 13, 'minute': 14, 'second': 27, 'weekday': 1, 'timezone': 'America/Los_Angeles'}), 'write_fmt_time': '2025-04-22T13:14:27.891197-07:00'}), 'data': {'name': 'db_call/createIndexes', 'ts': 1745352867.891176, 'reading': \"['reset_user_to_start', '<module>']\"}}) into timeseries\n",
      "DEBUG:root:insert called with entry of type <class 'emission.core.wrapper.entry.Entry'>\n",
      "DEBUG:root:entry was fine, no need to fix it\n",
      "DEBUG:root:Inserting entry Entry({'_id': ObjectId('6807f8a3dc8e1d84bba30338'), 'user_id': None, 'metadata': Metadata({'key': 'stats/pipeline_time', 'platform': 'server', 'write_ts': 1745352867.892926, 'time_zone': 'America/Los_Angeles', 'write_local_dt': LocalDate({'year': 2025, 'month': 4, 'day': 22, 'hour': 13, 'minute': 14, 'second': 27, 'weekday': 1, 'timezone': 'America/Los_Angeles'}), 'write_fmt_time': '2025-04-22T13:14:27.892926-07:00'}), 'data': {'name': 'db_call/listIndexes', 'ts': 1745352867.892896, 'reading': \"['_create_analysis_result_indices', 'get_analysis_timeseries_db', '_del_entries_for_query', 'reset_user_to_start', '<module>']\"}}) into timeseries\n",
      "DEBUG:root:insert called with entry of type <class 'emission.core.wrapper.entry.Entry'>\n",
      "DEBUG:root:entry was fine, no need to fix it\n",
      "DEBUG:root:Inserting entry Entry({'_id': ObjectId('6807f8a3dc8e1d84bba30339'), 'user_id': None, 'metadata': Metadata({'key': 'stats/pipeline_time', 'platform': 'server', 'write_ts': 1745352867.8958, 'time_zone': 'America/Los_Angeles', 'write_local_dt': LocalDate({'year': 2025, 'month': 4, 'day': 22, 'hour': 13, 'minute': 14, 'second': 27, 'weekday': 1, 'timezone': 'America/Los_Angeles'}), 'write_fmt_time': '2025-04-22T13:14:27.895800-07:00'}), 'data': {'name': 'db_call/listIndexes', 'ts': 1745352867.895781, 'reading': \"['_create_analysis_result_indices', 'get_analysis_timeseries_db', '_del_entries_for_query', 'reset_user_to_start', '<module>']\"}}) into timeseries\n",
      "DEBUG:root:insert called with entry of type <class 'emission.core.wrapper.entry.Entry'>\n",
      "DEBUG:root:entry was fine, no need to fix it\n",
      "DEBUG:root:Inserting entry Entry({'_id': ObjectId('6807f8a3dc8e1d84bba3033a'), 'user_id': None, 'metadata': Metadata({'key': 'stats/pipeline_time', 'platform': 'server', 'write_ts': 1745352867.898489, 'time_zone': 'America/Los_Angeles', 'write_local_dt': LocalDate({'year': 2025, 'month': 4, 'day': 22, 'hour': 13, 'minute': 14, 'second': 27, 'weekday': 1, 'timezone': 'America/Los_Angeles'}), 'write_fmt_time': '2025-04-22T13:14:27.898489-07:00'}), 'data': {'name': 'db_call/createIndexes', 'ts': 1745352867.898462, 'reading': \"['reset_user_to_start', '<module>']\"}}) into timeseries\n",
      "DEBUG:root:insert called with entry of type <class 'emission.core.wrapper.entry.Entry'>\n",
      "DEBUG:root:entry was fine, no need to fix it\n",
      "DEBUG:root:Inserting entry Entry({'_id': ObjectId('6807f8a3dc8e1d84bba3033b'), 'user_id': None, 'metadata': Metadata({'key': 'stats/pipeline_time', 'platform': 'server', 'write_ts': 1745352867.90056, 'time_zone': 'America/Los_Angeles', 'write_local_dt': LocalDate({'year': 2025, 'month': 4, 'day': 22, 'hour': 13, 'minute': 14, 'second': 27, 'weekday': 1, 'timezone': 'America/Los_Angeles'}), 'write_fmt_time': '2025-04-22T13:14:27.900560-07:00'}), 'data': {'name': 'db_call/createIndexes', 'ts': 1745352867.900537, 'reading': \"['reset_user_to_start', '<module>']\"}}) into timeseries\n",
      "DEBUG:root:insert called with entry of type <class 'emission.core.wrapper.entry.Entry'>\n",
      "DEBUG:root:entry was fine, no need to fix it\n",
      "DEBUG:root:Inserting entry Entry({'_id': ObjectId('6807f8a3dc8e1d84bba3033c'), 'user_id': None, 'metadata': Metadata({'key': 'stats/pipeline_time', 'platform': 'server', 'write_ts': 1745352867.902362, 'time_zone': 'America/Los_Angeles', 'write_local_dt': LocalDate({'year': 2025, 'month': 4, 'day': 22, 'hour': 13, 'minute': 14, 'second': 27, 'weekday': 1, 'timezone': 'America/Los_Angeles'}), 'write_fmt_time': '2025-04-22T13:14:27.902362-07:00'}), 'data': {'name': 'db_call/createIndexes', 'ts': 1745352867.902345, 'reading': \"['_del_entries_for_query', 'reset_user_to_start', '<module>']\"}}) into timeseries\n",
      "DEBUG:root:insert called with entry of type <class 'emission.core.wrapper.entry.Entry'>\n",
      "DEBUG:root:entry was fine, no need to fix it\n",
      "DEBUG:root:Inserting entry Entry({'_id': ObjectId('6807f8a3dc8e1d84bba3033d'), 'user_id': None, 'metadata': Metadata({'key': 'stats/pipeline_time', 'platform': 'server', 'write_ts': 1745352867.904512, 'time_zone': 'America/Los_Angeles', 'write_local_dt': LocalDate({'year': 2025, 'month': 4, 'day': 22, 'hour': 13, 'minute': 14, 'second': 27, 'weekday': 1, 'timezone': 'America/Los_Angeles'}), 'write_fmt_time': '2025-04-22T13:14:27.904512-07:00'}), 'data': {'name': 'db_call/createIndexes', 'ts': 1745352867.904493, 'reading': \"['_del_entries_for_query', 'reset_user_to_start', '<module>']\"}}) into timeseries\n",
      "DEBUG:root:insert called with entry of type <class 'emission.core.wrapper.entry.Entry'>\n",
      "DEBUG:root:entry was fine, no need to fix it\n",
      "DEBUG:root:Inserting entry Entry({'_id': ObjectId('6807f8a3dc8e1d84bba3033e'), 'user_id': None, 'metadata': Metadata({'key': 'stats/pipeline_time', 'platform': 'server', 'write_ts': 1745352867.906784, 'time_zone': 'America/Los_Angeles', 'write_local_dt': LocalDate({'year': 2025, 'month': 4, 'day': 22, 'hour': 13, 'minute': 14, 'second': 27, 'weekday': 1, 'timezone': 'America/Los_Angeles'}), 'write_fmt_time': '2025-04-22T13:14:27.906784-07:00'}), 'data': {'name': 'db_call/createIndexes', 'ts': 1745352867.9067461, 'reading': \"['_del_entries_for_query', 'reset_user_to_start', '<module>']\"}}) into timeseries\n",
      "DEBUG:root:insert called with entry of type <class 'emission.core.wrapper.entry.Entry'>\n",
      "DEBUG:root:entry was fine, no need to fix it\n",
      "DEBUG:root:Inserting entry Entry({'_id': ObjectId('6807f8a3dc8e1d84bba3033f'), 'user_id': None, 'metadata': Metadata({'key': 'stats/pipeline_time', 'platform': 'server', 'write_ts': 1745352867.9085991, 'time_zone': 'America/Los_Angeles', 'write_local_dt': LocalDate({'year': 2025, 'month': 4, 'day': 22, 'hour': 13, 'minute': 14, 'second': 27, 'weekday': 1, 'timezone': 'America/Los_Angeles'}), 'write_fmt_time': '2025-04-22T13:14:27.908599-07:00'}), 'data': {'name': 'db_call/createIndexes', 'ts': 1745352867.908565, 'reading': \"['_del_entries_for_query', 'reset_user_to_start', '<module>']\"}}) into timeseries\n",
      "DEBUG:root:insert called with entry of type <class 'emission.core.wrapper.entry.Entry'>\n",
      "DEBUG:root:entry was fine, no need to fix it\n",
      "DEBUG:root:Inserting entry Entry({'_id': ObjectId('6807f8a3dc8e1d84bba30340'), 'user_id': None, 'metadata': Metadata({'key': 'stats/pipeline_time', 'platform': 'server', 'write_ts': 1745352867.910437, 'time_zone': 'America/Los_Angeles', 'write_local_dt': LocalDate({'year': 2025, 'month': 4, 'day': 22, 'hour': 13, 'minute': 14, 'second': 27, 'weekday': 1, 'timezone': 'America/Los_Angeles'}), 'write_fmt_time': '2025-04-22T13:14:27.910437-07:00'}), 'data': {'name': 'db_call/createIndexes', 'ts': 1745352867.910414, 'reading': \"['_del_entries_for_query', 'reset_user_to_start', '<module>']\"}}) into timeseries\n",
      "DEBUG:root:insert called with entry of type <class 'emission.core.wrapper.entry.Entry'>\n",
      "DEBUG:root:entry was fine, no need to fix it\n",
      "DEBUG:root:Inserting entry Entry({'_id': ObjectId('6807f8a3dc8e1d84bba30341'), 'user_id': None, 'metadata': Metadata({'key': 'stats/pipeline_time', 'platform': 'server', 'write_ts': 1745352867.912041, 'time_zone': 'America/Los_Angeles', 'write_local_dt': LocalDate({'year': 2025, 'month': 4, 'day': 22, 'hour': 13, 'minute': 14, 'second': 27, 'weekday': 1, 'timezone': 'America/Los_Angeles'}), 'write_fmt_time': '2025-04-22T13:14:27.912041-07:00'}), 'data': {'name': 'db_call/createIndexes', 'ts': 1745352867.91202, 'reading': \"['_del_entries_for_query', 'reset_user_to_start', '<module>']\"}}) into timeseries\n",
      "DEBUG:root:insert called with entry of type <class 'emission.core.wrapper.entry.Entry'>\n",
      "DEBUG:root:entry was fine, no need to fix it\n",
      "DEBUG:root:Inserting entry Entry({'_id': ObjectId('6807f8a3dc8e1d84bba30342'), 'user_id': None, 'metadata': Metadata({'key': 'stats/pipeline_time', 'platform': 'server', 'write_ts': 1745352867.913425, 'time_zone': 'America/Los_Angeles', 'write_local_dt': LocalDate({'year': 2025, 'month': 4, 'day': 22, 'hour': 13, 'minute': 14, 'second': 27, 'weekday': 1, 'timezone': 'America/Los_Angeles'}), 'write_fmt_time': '2025-04-22T13:14:27.913425-07:00'}), 'data': {'name': 'db_call/createIndexes', 'ts': 1745352867.913406, 'reading': \"['_del_entries_for_query', 'reset_user_to_start', '<module>']\"}}) into timeseries\n",
      "DEBUG:root:insert called with entry of type <class 'emission.core.wrapper.entry.Entry'>\n",
      "DEBUG:root:entry was fine, no need to fix it\n",
      "DEBUG:root:Inserting entry Entry({'_id': ObjectId('6807f8a3dc8e1d84bba30343'), 'user_id': None, 'metadata': Metadata({'key': 'stats/pipeline_time', 'platform': 'server', 'write_ts': 1745352867.914892, 'time_zone': 'America/Los_Angeles', 'write_local_dt': LocalDate({'year': 2025, 'month': 4, 'day': 22, 'hour': 13, 'minute': 14, 'second': 27, 'weekday': 1, 'timezone': 'America/Los_Angeles'}), 'write_fmt_time': '2025-04-22T13:14:27.914892-07:00'}), 'data': {'name': 'db_call/createIndexes', 'ts': 1745352867.9148722, 'reading': \"['_del_entries_for_query', 'reset_user_to_start', '<module>']\"}}) into timeseries\n",
      "DEBUG:root:insert called with entry of type <class 'emission.core.wrapper.entry.Entry'>\n",
      "DEBUG:root:entry was fine, no need to fix it\n",
      "DEBUG:root:Inserting entry Entry({'_id': ObjectId('6807f8a3dc8e1d84bba30344'), 'user_id': None, 'metadata': Metadata({'key': 'stats/pipeline_time', 'platform': 'server', 'write_ts': 1745352867.916375, 'time_zone': 'America/Los_Angeles', 'write_local_dt': LocalDate({'year': 2025, 'month': 4, 'day': 22, 'hour': 13, 'minute': 14, 'second': 27, 'weekday': 1, 'timezone': 'America/Los_Angeles'}), 'write_fmt_time': '2025-04-22T13:14:27.916375-07:00'}), 'data': {'name': 'db_call/createIndexes', 'ts': 1745352867.916353, 'reading': \"['_del_entries_for_query', 'reset_user_to_start', '<module>']\"}}) into timeseries\n",
      "DEBUG:root:insert called with entry of type <class 'emission.core.wrapper.entry.Entry'>\n",
      "DEBUG:root:entry was fine, no need to fix it\n",
      "DEBUG:root:Inserting entry Entry({'_id': ObjectId('6807f8a3dc8e1d84bba30345'), 'user_id': None, 'metadata': Metadata({'key': 'stats/pipeline_time', 'platform': 'server', 'write_ts': 1745352867.918655, 'time_zone': 'America/Los_Angeles', 'write_local_dt': LocalDate({'year': 2025, 'month': 4, 'day': 22, 'hour': 13, 'minute': 14, 'second': 27, 'weekday': 1, 'timezone': 'America/Los_Angeles'}), 'write_fmt_time': '2025-04-22T13:14:27.918655-07:00'}), 'data': {'name': 'db_call/createIndexes', 'ts': 1745352867.918632, 'reading': \"['_del_entries_for_query', 'reset_user_to_start', '<module>']\"}}) into timeseries\n",
      "DEBUG:root:insert called with entry of type <class 'emission.core.wrapper.entry.Entry'>\n",
      "DEBUG:root:entry was fine, no need to fix it\n",
      "DEBUG:root:Inserting entry Entry({'_id': ObjectId('6807f8a3dc8e1d84bba30346'), 'user_id': None, 'metadata': Metadata({'key': 'stats/pipeline_time', 'platform': 'server', 'write_ts': 1745352867.920068, 'time_zone': 'America/Los_Angeles', 'write_local_dt': LocalDate({'year': 2025, 'month': 4, 'day': 22, 'hour': 13, 'minute': 14, 'second': 27, 'weekday': 1, 'timezone': 'America/Los_Angeles'}), 'write_fmt_time': '2025-04-22T13:14:27.920068-07:00'}), 'data': {'name': 'db_call/createIndexes', 'ts': 1745352867.920038, 'reading': \"['_del_entries_for_query', 'reset_user_to_start', '<module>']\"}}) into timeseries\n",
      "DEBUG:root:insert called with entry of type <class 'emission.core.wrapper.entry.Entry'>\n",
      "DEBUG:root:entry was fine, no need to fix it\n",
      "DEBUG:root:Inserting entry Entry({'_id': ObjectId('6807f8a3dc8e1d84bba30347'), 'user_id': None, 'metadata': Metadata({'key': 'stats/pipeline_time', 'platform': 'server', 'write_ts': 1745352867.921463, 'time_zone': 'America/Los_Angeles', 'write_local_dt': LocalDate({'year': 2025, 'month': 4, 'day': 22, 'hour': 13, 'minute': 14, 'second': 27, 'weekday': 1, 'timezone': 'America/Los_Angeles'}), 'write_fmt_time': '2025-04-22T13:14:27.921463-07:00'}), 'data': {'name': 'db_call/createIndexes', 'ts': 1745352867.921439, 'reading': \"['_del_entries_for_query', 'reset_user_to_start', '<module>']\"}}) into timeseries\n",
      "DEBUG:root:insert called with entry of type <class 'emission.core.wrapper.entry.Entry'>\n",
      "DEBUG:root:entry was fine, no need to fix it\n",
      "DEBUG:root:Inserting entry Entry({'_id': ObjectId('6807f8a3dc8e1d84bba30348'), 'user_id': None, 'metadata': Metadata({'key': 'stats/pipeline_time', 'platform': 'server', 'write_ts': 1745352867.923017, 'time_zone': 'America/Los_Angeles', 'write_local_dt': LocalDate({'year': 2025, 'month': 4, 'day': 22, 'hour': 13, 'minute': 14, 'second': 27, 'weekday': 1, 'timezone': 'America/Los_Angeles'}), 'write_fmt_time': '2025-04-22T13:14:27.923017-07:00'}), 'data': {'name': 'db_call/createIndexes', 'ts': 1745352867.922986, 'reading': \"['_del_entries_for_query', 'reset_user_to_start', '<module>']\"}}) into timeseries\n",
      "DEBUG:root:insert called with entry of type <class 'emission.core.wrapper.entry.Entry'>\n",
      "DEBUG:root:entry was fine, no need to fix it\n",
      "DEBUG:root:Inserting entry Entry({'_id': ObjectId('6807f8a3dc8e1d84bba30349'), 'user_id': None, 'metadata': Metadata({'key': 'stats/pipeline_time', 'platform': 'server', 'write_ts': 1745352867.9246452, 'time_zone': 'America/Los_Angeles', 'write_local_dt': LocalDate({'year': 2025, 'month': 4, 'day': 22, 'hour': 13, 'minute': 14, 'second': 27, 'weekday': 1, 'timezone': 'America/Los_Angeles'}), 'write_fmt_time': '2025-04-22T13:14:27.924645-07:00'}), 'data': {'name': 'db_call/createIndexes', 'ts': 1745352867.924621, 'reading': \"['_del_entries_for_query', 'reset_user_to_start', '<module>']\"}}) into timeseries\n",
      "DEBUG:root:insert called with entry of type <class 'emission.core.wrapper.entry.Entry'>\n",
      "DEBUG:root:entry was fine, no need to fix it\n",
      "DEBUG:root:Inserting entry Entry({'_id': ObjectId('6807f8a3dc8e1d84bba3034a'), 'user_id': None, 'metadata': Metadata({'key': 'stats/pipeline_time', 'platform': 'server', 'write_ts': 1745352867.9259882, 'time_zone': 'America/Los_Angeles', 'write_local_dt': LocalDate({'year': 2025, 'month': 4, 'day': 22, 'hour': 13, 'minute': 14, 'second': 27, 'weekday': 1, 'timezone': 'America/Los_Angeles'}), 'write_fmt_time': '2025-04-22T13:14:27.925988-07:00'}), 'data': {'name': 'db_call/createIndexes', 'ts': 1745352867.9259698, 'reading': \"['reset_user_to_start', '<module>']\"}}) into timeseries\n",
      "DEBUG:root:insert called with entry of type <class 'emission.core.wrapper.entry.Entry'>\n",
      "DEBUG:root:entry was fine, no need to fix it\n",
      "DEBUG:root:Inserting entry Entry({'_id': ObjectId('6807f8a3dc8e1d84bba3034b'), 'user_id': None, 'metadata': Metadata({'key': 'stats/pipeline_time', 'platform': 'server', 'write_ts': 1745352867.927341, 'time_zone': 'America/Los_Angeles', 'write_local_dt': LocalDate({'year': 2025, 'month': 4, 'day': 22, 'hour': 13, 'minute': 14, 'second': 27, 'weekday': 1, 'timezone': 'America/Los_Angeles'}), 'write_fmt_time': '2025-04-22T13:14:27.927341-07:00'}), 'data': {'name': 'db_call/createIndexes', 'ts': 1745352867.92731, 'reading': \"['reset_user_to_start', '<module>']\"}}) into timeseries\n",
      "DEBUG:root:insert called with entry of type <class 'emission.core.wrapper.entry.Entry'>\n",
      "DEBUG:root:entry was fine, no need to fix it\n",
      "DEBUG:root:Inserting entry Entry({'_id': ObjectId('6807f8a3dc8e1d84bba3034c'), 'user_id': None, 'metadata': Metadata({'key': 'stats/pipeline_time', 'platform': 'server', 'write_ts': 1745352867.928677, 'time_zone': 'America/Los_Angeles', 'write_local_dt': LocalDate({'year': 2025, 'month': 4, 'day': 22, 'hour': 13, 'minute': 14, 'second': 27, 'weekday': 1, 'timezone': 'America/Los_Angeles'}), 'write_fmt_time': '2025-04-22T13:14:27.928677-07:00'}), 'data': {'name': 'db_call/createIndexes', 'ts': 1745352867.928659, 'reading': \"['_del_entries_for_query', 'reset_user_to_start', '<module>']\"}}) into timeseries\n",
      "DEBUG:root:insert called with entry of type <class 'emission.core.wrapper.entry.Entry'>\n",
      "DEBUG:root:entry was fine, no need to fix it\n",
      "DEBUG:root:Inserting entry Entry({'_id': ObjectId('6807f8a3dc8e1d84bba3034d'), 'user_id': None, 'metadata': Metadata({'key': 'stats/pipeline_time', 'platform': 'server', 'write_ts': 1745352867.930002, 'time_zone': 'America/Los_Angeles', 'write_local_dt': LocalDate({'year': 2025, 'month': 4, 'day': 22, 'hour': 13, 'minute': 14, 'second': 27, 'weekday': 1, 'timezone': 'America/Los_Angeles'}), 'write_fmt_time': '2025-04-22T13:14:27.930002-07:00'}), 'data': {'name': 'db_call/createIndexes', 'ts': 1745352867.929982, 'reading': \"['_del_entries_for_query', 'reset_user_to_start', '<module>']\"}}) into timeseries\n",
      "DEBUG:root:insert called with entry of type <class 'emission.core.wrapper.entry.Entry'>\n",
      "DEBUG:root:entry was fine, no need to fix it\n",
      "DEBUG:root:Inserting entry Entry({'_id': ObjectId('6807f8a3dc8e1d84bba3034e'), 'user_id': None, 'metadata': Metadata({'key': 'stats/pipeline_time', 'platform': 'server', 'write_ts': 1745352867.931576, 'time_zone': 'America/Los_Angeles', 'write_local_dt': LocalDate({'year': 2025, 'month': 4, 'day': 22, 'hour': 13, 'minute': 14, 'second': 27, 'weekday': 1, 'timezone': 'America/Los_Angeles'}), 'write_fmt_time': '2025-04-22T13:14:27.931576-07:00'}), 'data': {'name': 'db_call/createIndexes', 'ts': 1745352867.931543, 'reading': \"['_del_entries_for_query', 'reset_user_to_start', '<module>']\"}}) into timeseries\n",
      "DEBUG:root:insert called with entry of type <class 'emission.core.wrapper.entry.Entry'>\n",
      "DEBUG:root:entry was fine, no need to fix it\n",
      "DEBUG:root:Inserting entry Entry({'_id': ObjectId('6807f8a3dc8e1d84bba3034f'), 'user_id': None, 'metadata': Metadata({'key': 'stats/pipeline_time', 'platform': 'server', 'write_ts': 1745352867.933172, 'time_zone': 'America/Los_Angeles', 'write_local_dt': LocalDate({'year': 2025, 'month': 4, 'day': 22, 'hour': 13, 'minute': 14, 'second': 27, 'weekday': 1, 'timezone': 'America/Los_Angeles'}), 'write_fmt_time': '2025-04-22T13:14:27.933172-07:00'}), 'data': {'name': 'db_call/createIndexes', 'ts': 1745352867.933148, 'reading': \"['_del_entries_for_query', 'reset_user_to_start', '<module>']\"}}) into timeseries\n",
      "DEBUG:root:insert called with entry of type <class 'emission.core.wrapper.entry.Entry'>\n",
      "DEBUG:root:entry was fine, no need to fix it\n",
      "DEBUG:root:Inserting entry Entry({'_id': ObjectId('6807f8a3dc8e1d84bba30350'), 'user_id': None, 'metadata': Metadata({'key': 'stats/pipeline_time', 'platform': 'server', 'write_ts': 1745352867.934606, 'time_zone': 'America/Los_Angeles', 'write_local_dt': LocalDate({'year': 2025, 'month': 4, 'day': 22, 'hour': 13, 'minute': 14, 'second': 27, 'weekday': 1, 'timezone': 'America/Los_Angeles'}), 'write_fmt_time': '2025-04-22T13:14:27.934606-07:00'}), 'data': {'name': 'db_call/createIndexes', 'ts': 1745352867.934588, 'reading': \"['_del_entries_for_query', 'reset_user_to_start', '<module>']\"}}) into timeseries\n",
      "DEBUG:root:insert called with entry of type <class 'emission.core.wrapper.entry.Entry'>\n",
      "DEBUG:root:entry was fine, no need to fix it\n",
      "DEBUG:root:Inserting entry Entry({'_id': ObjectId('6807f8a3dc8e1d84bba30351'), 'user_id': None, 'metadata': Metadata({'key': 'stats/pipeline_time', 'platform': 'server', 'write_ts': 1745352867.936097, 'time_zone': 'America/Los_Angeles', 'write_local_dt': LocalDate({'year': 2025, 'month': 4, 'day': 22, 'hour': 13, 'minute': 14, 'second': 27, 'weekday': 1, 'timezone': 'America/Los_Angeles'}), 'write_fmt_time': '2025-04-22T13:14:27.936097-07:00'}), 'data': {'name': 'db_call/createIndexes', 'ts': 1745352867.936067, 'reading': \"['_del_entries_for_query', 'reset_user_to_start', '<module>']\"}}) into timeseries\n",
      "DEBUG:root:insert called with entry of type <class 'emission.core.wrapper.entry.Entry'>\n",
      "DEBUG:root:entry was fine, no need to fix it\n",
      "DEBUG:root:Inserting entry Entry({'_id': ObjectId('6807f8a3dc8e1d84bba30352'), 'user_id': None, 'metadata': Metadata({'key': 'stats/pipeline_time', 'platform': 'server', 'write_ts': 1745352867.937634, 'time_zone': 'America/Los_Angeles', 'write_local_dt': LocalDate({'year': 2025, 'month': 4, 'day': 22, 'hour': 13, 'minute': 14, 'second': 27, 'weekday': 1, 'timezone': 'America/Los_Angeles'}), 'write_fmt_time': '2025-04-22T13:14:27.937634-07:00'}), 'data': {'name': 'db_call/createIndexes', 'ts': 1745352867.9376051, 'reading': \"['_del_entries_for_query', 'reset_user_to_start', '<module>']\"}}) into timeseries\n",
      "DEBUG:root:insert called with entry of type <class 'emission.core.wrapper.entry.Entry'>\n",
      "DEBUG:root:entry was fine, no need to fix it\n",
      "DEBUG:root:Inserting entry Entry({'_id': ObjectId('6807f8a3dc8e1d84bba30353'), 'user_id': None, 'metadata': Metadata({'key': 'stats/pipeline_time', 'platform': 'server', 'write_ts': 1745352867.939072, 'time_zone': 'America/Los_Angeles', 'write_local_dt': LocalDate({'year': 2025, 'month': 4, 'day': 22, 'hour': 13, 'minute': 14, 'second': 27, 'weekday': 1, 'timezone': 'America/Los_Angeles'}), 'write_fmt_time': '2025-04-22T13:14:27.939072-07:00'}), 'data': {'name': 'db_call/createIndexes', 'ts': 1745352867.939053, 'reading': \"['_del_entries_for_query', 'reset_user_to_start', '<module>']\"}}) into timeseries\n",
      "DEBUG:root:insert called with entry of type <class 'emission.core.wrapper.entry.Entry'>\n",
      "DEBUG:root:entry was fine, no need to fix it\n",
      "DEBUG:root:Inserting entry Entry({'_id': ObjectId('6807f8a3dc8e1d84bba30354'), 'user_id': None, 'metadata': Metadata({'key': 'stats/pipeline_time', 'platform': 'server', 'write_ts': 1745352867.9405599, 'time_zone': 'America/Los_Angeles', 'write_local_dt': LocalDate({'year': 2025, 'month': 4, 'day': 22, 'hour': 13, 'minute': 14, 'second': 27, 'weekday': 1, 'timezone': 'America/Los_Angeles'}), 'write_fmt_time': '2025-04-22T13:14:27.940560-07:00'}), 'data': {'name': 'db_call/createIndexes', 'ts': 1745352867.940535, 'reading': \"['_del_entries_for_query', 'reset_user_to_start', '<module>']\"}}) into timeseries\n",
      "DEBUG:root:insert called with entry of type <class 'emission.core.wrapper.entry.Entry'>\n",
      "DEBUG:root:entry was fine, no need to fix it\n",
      "DEBUG:root:Inserting entry Entry({'_id': ObjectId('6807f8a3dc8e1d84bba30355'), 'user_id': None, 'metadata': Metadata({'key': 'stats/pipeline_time', 'platform': 'server', 'write_ts': 1745352867.941934, 'time_zone': 'America/Los_Angeles', 'write_local_dt': LocalDate({'year': 2025, 'month': 4, 'day': 22, 'hour': 13, 'minute': 14, 'second': 27, 'weekday': 1, 'timezone': 'America/Los_Angeles'}), 'write_fmt_time': '2025-04-22T13:14:27.941934-07:00'}), 'data': {'name': 'db_call/createIndexes', 'ts': 1745352867.941911, 'reading': \"['_del_entries_for_query', 'reset_user_to_start', '<module>']\"}}) into timeseries\n",
      "DEBUG:root:insert called with entry of type <class 'emission.core.wrapper.entry.Entry'>\n",
      "DEBUG:root:entry was fine, no need to fix it\n",
      "DEBUG:root:Inserting entry Entry({'_id': ObjectId('6807f8a3dc8e1d84bba30356'), 'user_id': None, 'metadata': Metadata({'key': 'stats/pipeline_time', 'platform': 'server', 'write_ts': 1745352867.943229, 'time_zone': 'America/Los_Angeles', 'write_local_dt': LocalDate({'year': 2025, 'month': 4, 'day': 22, 'hour': 13, 'minute': 14, 'second': 27, 'weekday': 1, 'timezone': 'America/Los_Angeles'}), 'write_fmt_time': '2025-04-22T13:14:27.943229-07:00'}), 'data': {'name': 'db_call/createIndexes', 'ts': 1745352867.943211, 'reading': \"['_del_entries_for_query', 'reset_user_to_start', '<module>']\"}}) into timeseries\n",
      "DEBUG:root:insert called with entry of type <class 'emission.core.wrapper.entry.Entry'>\n",
      "DEBUG:root:entry was fine, no need to fix it\n",
      "DEBUG:root:Inserting entry Entry({'_id': ObjectId('6807f8a3dc8e1d84bba30357'), 'user_id': None, 'metadata': Metadata({'key': 'stats/pipeline_time', 'platform': 'server', 'write_ts': 1745352867.944545, 'time_zone': 'America/Los_Angeles', 'write_local_dt': LocalDate({'year': 2025, 'month': 4, 'day': 22, 'hour': 13, 'minute': 14, 'second': 27, 'weekday': 1, 'timezone': 'America/Los_Angeles'}), 'write_fmt_time': '2025-04-22T13:14:27.944545-07:00'}), 'data': {'name': 'db_call/createIndexes', 'ts': 1745352867.9445262, 'reading': \"['_del_entries_for_query', 'reset_user_to_start', '<module>']\"}}) into timeseries\n",
      "DEBUG:root:insert called with entry of type <class 'emission.core.wrapper.entry.Entry'>\n",
      "DEBUG:root:entry was fine, no need to fix it\n",
      "DEBUG:root:Inserting entry Entry({'_id': ObjectId('6807f8a3dc8e1d84bba30358'), 'user_id': None, 'metadata': Metadata({'key': 'stats/pipeline_time', 'platform': 'server', 'write_ts': 1745352867.945835, 'time_zone': 'America/Los_Angeles', 'write_local_dt': LocalDate({'year': 2025, 'month': 4, 'day': 22, 'hour': 13, 'minute': 14, 'second': 27, 'weekday': 1, 'timezone': 'America/Los_Angeles'}), 'write_fmt_time': '2025-04-22T13:14:27.945835-07:00'}), 'data': {'name': 'db_call/createIndexes', 'ts': 1745352867.945817, 'reading': \"['_del_entries_for_query', 'reset_user_to_start', '<module>']\"}}) into timeseries\n",
      "DEBUG:root:insert called with entry of type <class 'emission.core.wrapper.entry.Entry'>\n",
      "DEBUG:root:entry was fine, no need to fix it\n",
      "DEBUG:root:Inserting entry Entry({'_id': ObjectId('6807f8a3dc8e1d84bba30359'), 'user_id': None, 'metadata': Metadata({'key': 'stats/pipeline_time', 'platform': 'server', 'write_ts': 1745352867.947148, 'time_zone': 'America/Los_Angeles', 'write_local_dt': LocalDate({'year': 2025, 'month': 4, 'day': 22, 'hour': 13, 'minute': 14, 'second': 27, 'weekday': 1, 'timezone': 'America/Los_Angeles'}), 'write_fmt_time': '2025-04-22T13:14:27.947148-07:00'}), 'data': {'name': 'db_call/createIndexes', 'ts': 1745352867.947124, 'reading': \"['_del_entries_for_query', 'reset_user_to_start', '<module>']\"}}) into timeseries\n",
      "DEBUG:root:insert called with entry of type <class 'emission.core.wrapper.entry.Entry'>\n",
      "DEBUG:root:entry was fine, no need to fix it\n",
      "DEBUG:root:Inserting entry Entry({'_id': ObjectId('6807f8a3dc8e1d84bba3035a'), 'user_id': None, 'metadata': Metadata({'key': 'stats/pipeline_time', 'platform': 'server', 'write_ts': 1745352867.948767, 'time_zone': 'America/Los_Angeles', 'write_local_dt': LocalDate({'year': 2025, 'month': 4, 'day': 22, 'hour': 13, 'minute': 14, 'second': 27, 'weekday': 1, 'timezone': 'America/Los_Angeles'}), 'write_fmt_time': '2025-04-22T13:14:27.948767-07:00'}), 'data': {'name': 'db_call/listIndexes', 'ts': 1745352867.9487412, 'reading': \"['_create_analysis_result_indices', 'get_analysis_timeseries_db', '_del_entries_for_query', 'reset_user_to_start', '<module>']\"}}) into timeseries\n",
      "DEBUG:root:insert called with entry of type <class 'emission.core.wrapper.entry.Entry'>\n",
      "DEBUG:root:entry was fine, no need to fix it\n",
      "DEBUG:root:Inserting entry Entry({'_id': ObjectId('6807f8a3dc8e1d84bba3035b'), 'user_id': None, 'metadata': Metadata({'key': 'stats/pipeline_time', 'platform': 'server', 'write_ts': 1745352867.95054, 'time_zone': 'America/Los_Angeles', 'write_local_dt': LocalDate({'year': 2025, 'month': 4, 'day': 22, 'hour': 13, 'minute': 14, 'second': 27, 'weekday': 1, 'timezone': 'America/Los_Angeles'}), 'write_fmt_time': '2025-04-22T13:14:27.950540-07:00'}), 'data': {'name': 'db_call/createIndexes', 'ts': 1745352867.9505222, 'reading': \"['reset_user_to_start', '<module>']\"}}) into timeseries\n",
      "DEBUG:root:insert called with entry of type <class 'emission.core.wrapper.entry.Entry'>\n",
      "DEBUG:root:entry was fine, no need to fix it\n",
      "DEBUG:root:Inserting entry Entry({'_id': ObjectId('6807f8a3dc8e1d84bba3035c'), 'user_id': None, 'metadata': Metadata({'key': 'stats/pipeline_time', 'platform': 'server', 'write_ts': 1745352867.951864, 'time_zone': 'America/Los_Angeles', 'write_local_dt': LocalDate({'year': 2025, 'month': 4, 'day': 22, 'hour': 13, 'minute': 14, 'second': 27, 'weekday': 1, 'timezone': 'America/Los_Angeles'}), 'write_fmt_time': '2025-04-22T13:14:27.951864-07:00'}), 'data': {'name': 'db_call/createIndexes', 'ts': 1745352867.9518468, 'reading': \"['reset_user_to_start', '<module>']\"}}) into timeseries\n",
      "DEBUG:root:insert called with entry of type <class 'emission.core.wrapper.entry.Entry'>\n",
      "DEBUG:root:entry was fine, no need to fix it\n",
      "DEBUG:root:Inserting entry Entry({'_id': ObjectId('6807f8a3dc8e1d84bba3035d'), 'user_id': None, 'metadata': Metadata({'key': 'stats/pipeline_time', 'platform': 'server', 'write_ts': 1745352867.953123, 'time_zone': 'America/Los_Angeles', 'write_local_dt': LocalDate({'year': 2025, 'month': 4, 'day': 22, 'hour': 13, 'minute': 14, 'second': 27, 'weekday': 1, 'timezone': 'America/Los_Angeles'}), 'write_fmt_time': '2025-04-22T13:14:27.953123-07:00'}), 'data': {'name': 'db_call/createIndexes', 'ts': 1745352867.9531038, 'reading': \"['reset_user_to_start', '<module>']\"}}) into timeseries\n",
      "DEBUG:root:insert called with entry of type <class 'emission.core.wrapper.entry.Entry'>\n",
      "DEBUG:root:entry was fine, no need to fix it\n",
      "DEBUG:root:Inserting entry Entry({'_id': ObjectId('6807f8a3dc8e1d84bba3035e'), 'user_id': None, 'metadata': Metadata({'key': 'stats/pipeline_time', 'platform': 'server', 'write_ts': 1745352867.954404, 'time_zone': 'America/Los_Angeles', 'write_local_dt': LocalDate({'year': 2025, 'month': 4, 'day': 22, 'hour': 13, 'minute': 14, 'second': 27, 'weekday': 1, 'timezone': 'America/Los_Angeles'}), 'write_fmt_time': '2025-04-22T13:14:27.954404-07:00'}), 'data': {'name': 'db_call/createIndexes', 'ts': 1745352867.954386, 'reading': \"['reset_user_to_start', '<module>']\"}}) into timeseries\n",
      "DEBUG:root:insert called with entry of type <class 'emission.core.wrapper.entry.Entry'>\n",
      "DEBUG:root:entry was fine, no need to fix it\n",
      "DEBUG:root:Inserting entry Entry({'_id': ObjectId('6807f8a3dc8e1d84bba3035f'), 'user_id': None, 'metadata': Metadata({'key': 'stats/pipeline_time', 'platform': 'server', 'write_ts': 1745352867.955722, 'time_zone': 'America/Los_Angeles', 'write_local_dt': LocalDate({'year': 2025, 'month': 4, 'day': 22, 'hour': 13, 'minute': 14, 'second': 27, 'weekday': 1, 'timezone': 'America/Los_Angeles'}), 'write_fmt_time': '2025-04-22T13:14:27.955722-07:00'}), 'data': {'name': 'db_call/createIndexes', 'ts': 1745352867.955704, 'reading': \"['reset_user_to_start', '<module>']\"}}) into timeseries\n",
      "DEBUG:root:insert called with entry of type <class 'emission.core.wrapper.entry.Entry'>\n",
      "DEBUG:root:entry was fine, no need to fix it\n",
      "DEBUG:root:Inserting entry Entry({'_id': ObjectId('6807f8a3dc8e1d84bba30360'), 'user_id': None, 'metadata': Metadata({'key': 'stats/pipeline_time', 'platform': 'server', 'write_ts': 1745352867.9571211, 'time_zone': 'America/Los_Angeles', 'write_local_dt': LocalDate({'year': 2025, 'month': 4, 'day': 22, 'hour': 13, 'minute': 14, 'second': 27, 'weekday': 1, 'timezone': 'America/Los_Angeles'}), 'write_fmt_time': '2025-04-22T13:14:27.957121-07:00'}), 'data': {'name': 'db_call/createIndexes', 'ts': 1745352867.957103, 'reading': \"['reset_user_to_start', '<module>']\"}}) into timeseries\n",
      "DEBUG:root:insert called with entry of type <class 'emission.core.wrapper.entry.Entry'>\n",
      "DEBUG:root:entry was fine, no need to fix it\n",
      "DEBUG:root:Inserting entry Entry({'_id': ObjectId('6807f8a3dc8e1d84bba30361'), 'user_id': None, 'metadata': Metadata({'key': 'stats/pipeline_time', 'platform': 'server', 'write_ts': 1745352867.958535, 'time_zone': 'America/Los_Angeles', 'write_local_dt': LocalDate({'year': 2025, 'month': 4, 'day': 22, 'hour': 13, 'minute': 14, 'second': 27, 'weekday': 1, 'timezone': 'America/Los_Angeles'}), 'write_fmt_time': '2025-04-22T13:14:27.958535-07:00'}), 'data': {'name': 'db_call/listIndexes', 'ts': 1745352867.958516, 'reading': \"['_create_analysis_result_indices', 'get_analysis_timeseries_db', '_del_entries_for_query', 'reset_user_to_start', '<module>']\"}}) into timeseries\n",
      "DEBUG:root:insert called with entry of type <class 'emission.core.wrapper.entry.Entry'>\n",
      "DEBUG:root:entry was fine, no need to fix it\n",
      "DEBUG:root:Inserting entry Entry({'_id': ObjectId('6807f8a3dc8e1d84bba30362'), 'user_id': None, 'metadata': Metadata({'key': 'stats/pipeline_time', 'platform': 'server', 'write_ts': 1745352867.960288, 'time_zone': 'America/Los_Angeles', 'write_local_dt': LocalDate({'year': 2025, 'month': 4, 'day': 22, 'hour': 13, 'minute': 14, 'second': 27, 'weekday': 1, 'timezone': 'America/Los_Angeles'}), 'write_fmt_time': '2025-04-22T13:14:27.960288-07:00'}), 'data': {'name': 'db_call/createIndexes', 'ts': 1745352867.9602711, 'reading': \"['reset_user_to_start', '<module>']\"}}) into timeseries\n",
      "DEBUG:root:insert called with entry of type <class 'emission.core.wrapper.entry.Entry'>\n",
      "DEBUG:root:entry was fine, no need to fix it\n",
      "DEBUG:root:Inserting entry Entry({'_id': ObjectId('6807f8a3dc8e1d84bba30363'), 'user_id': None, 'metadata': Metadata({'key': 'stats/pipeline_time', 'platform': 'server', 'write_ts': 1745352867.961743, 'time_zone': 'America/Los_Angeles', 'write_local_dt': LocalDate({'year': 2025, 'month': 4, 'day': 22, 'hour': 13, 'minute': 14, 'second': 27, 'weekday': 1, 'timezone': 'America/Los_Angeles'}), 'write_fmt_time': '2025-04-22T13:14:27.961743-07:00'}), 'data': {'name': 'db_call/createIndexes', 'ts': 1745352867.9617238, 'reading': \"['_del_entries_for_query', 'reset_user_to_start', '<module>']\"}}) into timeseries\n",
      "DEBUG:root:insert called with entry of type <class 'emission.core.wrapper.entry.Entry'>\n",
      "DEBUG:root:entry was fine, no need to fix it\n",
      "DEBUG:root:Inserting entry Entry({'_id': ObjectId('6807f8a3dc8e1d84bba30364'), 'user_id': None, 'metadata': Metadata({'key': 'stats/pipeline_time', 'platform': 'server', 'write_ts': 1745352867.963139, 'time_zone': 'America/Los_Angeles', 'write_local_dt': LocalDate({'year': 2025, 'month': 4, 'day': 22, 'hour': 13, 'minute': 14, 'second': 27, 'weekday': 1, 'timezone': 'America/Los_Angeles'}), 'write_fmt_time': '2025-04-22T13:14:27.963139-07:00'}), 'data': {'name': 'db_call/createIndexes', 'ts': 1745352867.9631171, 'reading': \"['_del_entries_for_query', 'reset_user_to_start', '<module>']\"}}) into timeseries\n",
      "DEBUG:root:insert called with entry of type <class 'emission.core.wrapper.entry.Entry'>\n",
      "DEBUG:root:entry was fine, no need to fix it\n",
      "DEBUG:root:Inserting entry Entry({'_id': ObjectId('6807f8a3dc8e1d84bba30365'), 'user_id': None, 'metadata': Metadata({'key': 'stats/pipeline_time', 'platform': 'server', 'write_ts': 1745352867.964565, 'time_zone': 'America/Los_Angeles', 'write_local_dt': LocalDate({'year': 2025, 'month': 4, 'day': 22, 'hour': 13, 'minute': 14, 'second': 27, 'weekday': 1, 'timezone': 'America/Los_Angeles'}), 'write_fmt_time': '2025-04-22T13:14:27.964565-07:00'}), 'data': {'name': 'db_call/createIndexes', 'ts': 1745352867.9645388, 'reading': \"['_del_entries_for_query', 'reset_user_to_start', '<module>']\"}}) into timeseries\n",
      "DEBUG:root:insert called with entry of type <class 'emission.core.wrapper.entry.Entry'>\n",
      "DEBUG:root:entry was fine, no need to fix it\n",
      "DEBUG:root:Inserting entry Entry({'_id': ObjectId('6807f8a3dc8e1d84bba30366'), 'user_id': None, 'metadata': Metadata({'key': 'stats/pipeline_time', 'platform': 'server', 'write_ts': 1745352867.965993, 'time_zone': 'America/Los_Angeles', 'write_local_dt': LocalDate({'year': 2025, 'month': 4, 'day': 22, 'hour': 13, 'minute': 14, 'second': 27, 'weekday': 1, 'timezone': 'America/Los_Angeles'}), 'write_fmt_time': '2025-04-22T13:14:27.965993-07:00'}), 'data': {'name': 'db_call/createIndexes', 'ts': 1745352867.965968, 'reading': \"['_del_entries_for_query', 'reset_user_to_start', '<module>']\"}}) into timeseries\n",
      "DEBUG:root:insert called with entry of type <class 'emission.core.wrapper.entry.Entry'>\n",
      "DEBUG:root:entry was fine, no need to fix it\n",
      "DEBUG:root:Inserting entry Entry({'_id': ObjectId('6807f8a3dc8e1d84bba30367'), 'user_id': None, 'metadata': Metadata({'key': 'stats/pipeline_time', 'platform': 'server', 'write_ts': 1745352867.9673622, 'time_zone': 'America/Los_Angeles', 'write_local_dt': LocalDate({'year': 2025, 'month': 4, 'day': 22, 'hour': 13, 'minute': 14, 'second': 27, 'weekday': 1, 'timezone': 'America/Los_Angeles'}), 'write_fmt_time': '2025-04-22T13:14:27.967362-07:00'}), 'data': {'name': 'db_call/createIndexes', 'ts': 1745352867.967343, 'reading': \"['_del_entries_for_query', 'reset_user_to_start', '<module>']\"}}) into timeseries\n",
      "DEBUG:root:insert called with entry of type <class 'emission.core.wrapper.entry.Entry'>\n",
      "DEBUG:root:entry was fine, no need to fix it\n",
      "DEBUG:root:Inserting entry Entry({'_id': ObjectId('6807f8a3dc8e1d84bba30368'), 'user_id': None, 'metadata': Metadata({'key': 'stats/pipeline_time', 'platform': 'server', 'write_ts': 1745352867.968674, 'time_zone': 'America/Los_Angeles', 'write_local_dt': LocalDate({'year': 2025, 'month': 4, 'day': 22, 'hour': 13, 'minute': 14, 'second': 27, 'weekday': 1, 'timezone': 'America/Los_Angeles'}), 'write_fmt_time': '2025-04-22T13:14:27.968674-07:00'}), 'data': {'name': 'db_call/createIndexes', 'ts': 1745352867.9686542, 'reading': \"['_del_entries_for_query', 'reset_user_to_start', '<module>']\"}}) into timeseries\n",
      "DEBUG:root:insert called with entry of type <class 'emission.core.wrapper.entry.Entry'>\n",
      "DEBUG:root:entry was fine, no need to fix it\n",
      "DEBUG:root:Inserting entry Entry({'_id': ObjectId('6807f8a3dc8e1d84bba30369'), 'user_id': None, 'metadata': Metadata({'key': 'stats/pipeline_time', 'platform': 'server', 'write_ts': 1745352867.9700322, 'time_zone': 'America/Los_Angeles', 'write_local_dt': LocalDate({'year': 2025, 'month': 4, 'day': 22, 'hour': 13, 'minute': 14, 'second': 27, 'weekday': 1, 'timezone': 'America/Los_Angeles'}), 'write_fmt_time': '2025-04-22T13:14:27.970032-07:00'}), 'data': {'name': 'db_call/createIndexes', 'ts': 1745352867.970012, 'reading': \"['_del_entries_for_query', 'reset_user_to_start', '<module>']\"}}) into timeseries\n",
      "DEBUG:root:insert called with entry of type <class 'emission.core.wrapper.entry.Entry'>\n",
      "DEBUG:root:entry was fine, no need to fix it\n",
      "DEBUG:root:Inserting entry Entry({'_id': ObjectId('6807f8a3dc8e1d84bba3036a'), 'user_id': None, 'metadata': Metadata({'key': 'stats/pipeline_time', 'platform': 'server', 'write_ts': 1745352867.971582, 'time_zone': 'America/Los_Angeles', 'write_local_dt': LocalDate({'year': 2025, 'month': 4, 'day': 22, 'hour': 13, 'minute': 14, 'second': 27, 'weekday': 1, 'timezone': 'America/Los_Angeles'}), 'write_fmt_time': '2025-04-22T13:14:27.971582-07:00'}), 'data': {'name': 'db_call/aggregate', 'ts': 1745352867.971553, 'reading': \"['_del_entries_for_query', 'reset_user_to_start', '<module>']\"}}) into timeseries\n",
      "INFO:root:About to delete 0 analysis results\n",
      "DEBUG:root:insert called with entry of type <class 'emission.core.wrapper.entry.Entry'>\n",
      "DEBUG:root:entry was fine, no need to fix it\n",
      "DEBUG:root:Inserting entry Entry({'_id': ObjectId('6807f8a3dc8e1d84bba3036b'), 'user_id': None, 'metadata': Metadata({'key': 'stats/pipeline_time', 'platform': 'server', 'write_ts': 1745352867.973544, 'time_zone': 'America/Los_Angeles', 'write_local_dt': LocalDate({'year': 2025, 'month': 4, 'day': 22, 'hour': 13, 'minute': 14, 'second': 27, 'weekday': 1, 'timezone': 'America/Los_Angeles'}), 'write_fmt_time': '2025-04-22T13:14:27.973544-07:00'}), 'data': {'name': 'db_call/createIndexes', 'ts': 1745352867.973522, 'reading': \"['<module>']\"}}) into timeseries\n",
      "DEBUG:root:insert called with entry of type <class 'emission.core.wrapper.entry.Entry'>\n",
      "DEBUG:root:entry was fine, no need to fix it\n",
      "DEBUG:root:Inserting entry Entry({'_id': ObjectId('6807f8a3dc8e1d84bba3036c'), 'user_id': None, 'metadata': Metadata({'key': 'stats/pipeline_time', 'platform': 'server', 'write_ts': 1745352867.975014, 'time_zone': 'America/Los_Angeles', 'write_local_dt': LocalDate({'year': 2025, 'month': 4, 'day': 22, 'hour': 13, 'minute': 14, 'second': 27, 'weekday': 1, 'timezone': 'America/Los_Angeles'}), 'write_fmt_time': '2025-04-22T13:14:27.975014-07:00'}), 'data': {'name': 'db_call/createIndexes', 'ts': 1745352867.974988, 'reading': \"['reset_user_to_start', '<module>']\"}}) into timeseries\n",
      "DEBUG:root:insert called with entry of type <class 'emission.core.wrapper.entry.Entry'>\n",
      "DEBUG:root:entry was fine, no need to fix it\n",
      "DEBUG:root:Inserting entry Entry({'_id': ObjectId('6807f8a3dc8e1d84bba3036d'), 'user_id': None, 'metadata': Metadata({'key': 'stats/pipeline_time', 'platform': 'server', 'write_ts': 1745352867.976365, 'time_zone': 'America/Los_Angeles', 'write_local_dt': LocalDate({'year': 2025, 'month': 4, 'day': 22, 'hour': 13, 'minute': 14, 'second': 27, 'weekday': 1, 'timezone': 'America/Los_Angeles'}), 'write_fmt_time': '2025-04-22T13:14:27.976365-07:00'}), 'data': {'name': 'db_call/createIndexes', 'ts': 1745352867.976346, 'reading': \"['reset_user_to_start', '<module>']\"}}) into timeseries\n",
      "DEBUG:root:insert called with entry of type <class 'emission.core.wrapper.entry.Entry'>\n",
      "DEBUG:root:entry was fine, no need to fix it\n",
      "DEBUG:root:Inserting entry Entry({'_id': ObjectId('6807f8a3dc8e1d84bba3036e'), 'user_id': None, 'metadata': Metadata({'key': 'stats/pipeline_time', 'platform': 'server', 'write_ts': 1745352867.977731, 'time_zone': 'America/Los_Angeles', 'write_local_dt': LocalDate({'year': 2025, 'month': 4, 'day': 22, 'hour': 13, 'minute': 14, 'second': 27, 'weekday': 1, 'timezone': 'America/Los_Angeles'}), 'write_fmt_time': '2025-04-22T13:14:27.977731-07:00'}), 'data': {'name': 'db_call/createIndexes', 'ts': 1745352867.9777112, 'reading': \"['reset_user_to_start', '<module>']\"}}) into timeseries\n",
      "DEBUG:root:insert called with entry of type <class 'emission.core.wrapper.entry.Entry'>\n",
      "DEBUG:root:entry was fine, no need to fix it\n",
      "DEBUG:root:Inserting entry Entry({'_id': ObjectId('6807f8a3dc8e1d84bba3036f'), 'user_id': None, 'metadata': Metadata({'key': 'stats/pipeline_time', 'platform': 'server', 'write_ts': 1745352867.979174, 'time_zone': 'America/Los_Angeles', 'write_local_dt': LocalDate({'year': 2025, 'month': 4, 'day': 22, 'hour': 13, 'minute': 14, 'second': 27, 'weekday': 1, 'timezone': 'America/Los_Angeles'}), 'write_fmt_time': '2025-04-22T13:14:27.979174-07:00'}), 'data': {'name': 'db_call/listIndexes', 'ts': 1745352867.9791539, 'reading': \"['_create_analysis_result_indices', 'get_analysis_timeseries_db', '_del_entries_for_query', 'reset_user_to_start', '<module>']\"}}) into timeseries\n",
      "DEBUG:root:insert called with entry of type <class 'emission.core.wrapper.entry.Entry'>\n",
      "DEBUG:root:entry was fine, no need to fix it\n",
      "DEBUG:root:Inserting entry Entry({'_id': ObjectId('6807f8a3dc8e1d84bba30370'), 'user_id': None, 'metadata': Metadata({'key': 'stats/pipeline_time', 'platform': 'server', 'write_ts': 1745352867.980937, 'time_zone': 'America/Los_Angeles', 'write_local_dt': LocalDate({'year': 2025, 'month': 4, 'day': 22, 'hour': 13, 'minute': 14, 'second': 27, 'weekday': 1, 'timezone': 'America/Los_Angeles'}), 'write_fmt_time': '2025-04-22T13:14:27.980937-07:00'}), 'data': {'name': 'db_call/listIndexes', 'ts': 1745352867.9809191, 'reading': \"['_create_analysis_result_indices', 'get_analysis_timeseries_db', '_del_entries_for_query', 'reset_user_to_start', '<module>']\"}}) into timeseries\n",
      "DEBUG:root:insert called with entry of type <class 'emission.core.wrapper.entry.Entry'>\n",
      "DEBUG:root:entry was fine, no need to fix it\n",
      "DEBUG:root:Inserting entry Entry({'_id': ObjectId('6807f8a3dc8e1d84bba30371'), 'user_id': None, 'metadata': Metadata({'key': 'stats/pipeline_time', 'platform': 'server', 'write_ts': 1745352867.98266, 'time_zone': 'America/Los_Angeles', 'write_local_dt': LocalDate({'year': 2025, 'month': 4, 'day': 22, 'hour': 13, 'minute': 14, 'second': 27, 'weekday': 1, 'timezone': 'America/Los_Angeles'}), 'write_fmt_time': '2025-04-22T13:14:27.982660-07:00'}), 'data': {'name': 'db_call/createIndexes', 'ts': 1745352867.9826372, 'reading': \"['reset_user_to_start', '<module>']\"}}) into timeseries\n",
      "DEBUG:root:insert called with entry of type <class 'emission.core.wrapper.entry.Entry'>\n",
      "DEBUG:root:entry was fine, no need to fix it\n",
      "DEBUG:root:Inserting entry Entry({'_id': ObjectId('6807f8a3dc8e1d84bba30372'), 'user_id': None, 'metadata': Metadata({'key': 'stats/pipeline_time', 'platform': 'server', 'write_ts': 1745352867.983844, 'time_zone': 'America/Los_Angeles', 'write_local_dt': LocalDate({'year': 2025, 'month': 4, 'day': 22, 'hour': 13, 'minute': 14, 'second': 27, 'weekday': 1, 'timezone': 'America/Los_Angeles'}), 'write_fmt_time': '2025-04-22T13:14:27.983844-07:00'}), 'data': {'name': 'db_call/createIndexes', 'ts': 1745352867.983826, 'reading': \"['reset_user_to_start', '<module>']\"}}) into timeseries\n",
      "DEBUG:root:insert called with entry of type <class 'emission.core.wrapper.entry.Entry'>\n",
      "DEBUG:root:entry was fine, no need to fix it\n",
      "DEBUG:root:Inserting entry Entry({'_id': ObjectId('6807f8a3dc8e1d84bba30373'), 'user_id': None, 'metadata': Metadata({'key': 'stats/pipeline_time', 'platform': 'server', 'write_ts': 1745352867.9852118, 'time_zone': 'America/Los_Angeles', 'write_local_dt': LocalDate({'year': 2025, 'month': 4, 'day': 22, 'hour': 13, 'minute': 14, 'second': 27, 'weekday': 1, 'timezone': 'America/Los_Angeles'}), 'write_fmt_time': '2025-04-22T13:14:27.985212-07:00'}), 'data': {'name': 'db_call/createIndexes', 'ts': 1745352867.985194, 'reading': \"['_del_entries_for_query', 'reset_user_to_start', '<module>']\"}}) into timeseries\n",
      "DEBUG:root:insert called with entry of type <class 'emission.core.wrapper.entry.Entry'>\n",
      "DEBUG:root:entry was fine, no need to fix it\n",
      "DEBUG:root:Inserting entry Entry({'_id': ObjectId('6807f8a3dc8e1d84bba30374'), 'user_id': None, 'metadata': Metadata({'key': 'stats/pipeline_time', 'platform': 'server', 'write_ts': 1745352867.986519, 'time_zone': 'America/Los_Angeles', 'write_local_dt': LocalDate({'year': 2025, 'month': 4, 'day': 22, 'hour': 13, 'minute': 14, 'second': 27, 'weekday': 1, 'timezone': 'America/Los_Angeles'}), 'write_fmt_time': '2025-04-22T13:14:27.986519-07:00'}), 'data': {'name': 'db_call/createIndexes', 'ts': 1745352867.986502, 'reading': \"['_del_entries_for_query', 'reset_user_to_start', '<module>']\"}}) into timeseries\n",
      "DEBUG:root:insert called with entry of type <class 'emission.core.wrapper.entry.Entry'>\n",
      "DEBUG:root:entry was fine, no need to fix it\n",
      "DEBUG:root:Inserting entry Entry({'_id': ObjectId('6807f8a3dc8e1d84bba30375'), 'user_id': None, 'metadata': Metadata({'key': 'stats/pipeline_time', 'platform': 'server', 'write_ts': 1745352867.9878242, 'time_zone': 'America/Los_Angeles', 'write_local_dt': LocalDate({'year': 2025, 'month': 4, 'day': 22, 'hour': 13, 'minute': 14, 'second': 27, 'weekday': 1, 'timezone': 'America/Los_Angeles'}), 'write_fmt_time': '2025-04-22T13:14:27.987824-07:00'}), 'data': {'name': 'db_call/createIndexes', 'ts': 1745352867.9878058, 'reading': \"['_del_entries_for_query', 'reset_user_to_start', '<module>']\"}}) into timeseries\n",
      "DEBUG:root:insert called with entry of type <class 'emission.core.wrapper.entry.Entry'>\n",
      "DEBUG:root:entry was fine, no need to fix it\n",
      "DEBUG:root:Inserting entry Entry({'_id': ObjectId('6807f8a3dc8e1d84bba30376'), 'user_id': None, 'metadata': Metadata({'key': 'stats/pipeline_time', 'platform': 'server', 'write_ts': 1745352867.9891672, 'time_zone': 'America/Los_Angeles', 'write_local_dt': LocalDate({'year': 2025, 'month': 4, 'day': 22, 'hour': 13, 'minute': 14, 'second': 27, 'weekday': 1, 'timezone': 'America/Los_Angeles'}), 'write_fmt_time': '2025-04-22T13:14:27.989167-07:00'}), 'data': {'name': 'db_call/createIndexes', 'ts': 1745352867.9891489, 'reading': \"['_del_entries_for_query', 'reset_user_to_start', '<module>']\"}}) into timeseries\n",
      "DEBUG:root:insert called with entry of type <class 'emission.core.wrapper.entry.Entry'>\n",
      "DEBUG:root:entry was fine, no need to fix it\n",
      "DEBUG:root:Inserting entry Entry({'_id': ObjectId('6807f8a3dc8e1d84bba30377'), 'user_id': None, 'metadata': Metadata({'key': 'stats/pipeline_time', 'platform': 'server', 'write_ts': 1745352867.990664, 'time_zone': 'America/Los_Angeles', 'write_local_dt': LocalDate({'year': 2025, 'month': 4, 'day': 22, 'hour': 13, 'minute': 14, 'second': 27, 'weekday': 1, 'timezone': 'America/Los_Angeles'}), 'write_fmt_time': '2025-04-22T13:14:27.990664-07:00'}), 'data': {'name': 'db_call/createIndexes', 'ts': 1745352867.990637, 'reading': \"['_del_entries_for_query', 'reset_user_to_start', '<module>']\"}}) into timeseries\n",
      "DEBUG:root:insert called with entry of type <class 'emission.core.wrapper.entry.Entry'>\n",
      "DEBUG:root:entry was fine, no need to fix it\n",
      "DEBUG:root:Inserting entry Entry({'_id': ObjectId('6807f8a3dc8e1d84bba30378'), 'user_id': None, 'metadata': Metadata({'key': 'stats/pipeline_time', 'platform': 'server', 'write_ts': 1745352867.992199, 'time_zone': 'America/Los_Angeles', 'write_local_dt': LocalDate({'year': 2025, 'month': 4, 'day': 22, 'hour': 13, 'minute': 14, 'second': 27, 'weekday': 1, 'timezone': 'America/Los_Angeles'}), 'write_fmt_time': '2025-04-22T13:14:27.992199-07:00'}), 'data': {'name': 'db_call/createIndexes', 'ts': 1745352867.9921741, 'reading': \"['_del_entries_for_query', 'reset_user_to_start', '<module>']\"}}) into timeseries\n",
      "DEBUG:root:insert called with entry of type <class 'emission.core.wrapper.entry.Entry'>\n",
      "DEBUG:root:entry was fine, no need to fix it\n",
      "DEBUG:root:Inserting entry Entry({'_id': ObjectId('6807f8a3dc8e1d84bba30379'), 'user_id': None, 'metadata': Metadata({'key': 'stats/pipeline_time', 'platform': 'server', 'write_ts': 1745352867.99362, 'time_zone': 'America/Los_Angeles', 'write_local_dt': LocalDate({'year': 2025, 'month': 4, 'day': 22, 'hour': 13, 'minute': 14, 'second': 27, 'weekday': 1, 'timezone': 'America/Los_Angeles'}), 'write_fmt_time': '2025-04-22T13:14:27.993620-07:00'}), 'data': {'name': 'db_call/createIndexes', 'ts': 1745352867.993602, 'reading': \"['_del_entries_for_query', 'reset_user_to_start', '<module>']\"}}) into timeseries\n",
      "DEBUG:root:insert called with entry of type <class 'emission.core.wrapper.entry.Entry'>\n",
      "DEBUG:root:entry was fine, no need to fix it\n",
      "DEBUG:root:Inserting entry Entry({'_id': ObjectId('6807f8a3dc8e1d84bba3037a'), 'user_id': None, 'metadata': Metadata({'key': 'stats/pipeline_time', 'platform': 'server', 'write_ts': 1745352867.99493, 'time_zone': 'America/Los_Angeles', 'write_local_dt': LocalDate({'year': 2025, 'month': 4, 'day': 22, 'hour': 13, 'minute': 14, 'second': 27, 'weekday': 1, 'timezone': 'America/Los_Angeles'}), 'write_fmt_time': '2025-04-22T13:14:27.994930-07:00'}), 'data': {'name': 'db_call/createIndexes', 'ts': 1745352867.994907, 'reading': \"['_del_entries_for_query', 'reset_user_to_start', '<module>']\"}}) into timeseries\n",
      "DEBUG:root:insert called with entry of type <class 'emission.core.wrapper.entry.Entry'>\n",
      "DEBUG:root:entry was fine, no need to fix it\n",
      "DEBUG:root:Inserting entry Entry({'_id': ObjectId('6807f8a3dc8e1d84bba3037b'), 'user_id': None, 'metadata': Metadata({'key': 'stats/pipeline_time', 'platform': 'server', 'write_ts': 1745352867.996267, 'time_zone': 'America/Los_Angeles', 'write_local_dt': LocalDate({'year': 2025, 'month': 4, 'day': 22, 'hour': 13, 'minute': 14, 'second': 27, 'weekday': 1, 'timezone': 'America/Los_Angeles'}), 'write_fmt_time': '2025-04-22T13:14:27.996267-07:00'}), 'data': {'name': 'db_call/createIndexes', 'ts': 1745352867.9962502, 'reading': \"['_del_entries_for_query', 'reset_user_to_start', '<module>']\"}}) into timeseries\n",
      "DEBUG:root:insert called with entry of type <class 'emission.core.wrapper.entry.Entry'>\n",
      "DEBUG:root:entry was fine, no need to fix it\n",
      "DEBUG:root:Inserting entry Entry({'_id': ObjectId('6807f8a3dc8e1d84bba3037c'), 'user_id': None, 'metadata': Metadata({'key': 'stats/pipeline_time', 'platform': 'server', 'write_ts': 1745352867.9976552, 'time_zone': 'America/Los_Angeles', 'write_local_dt': LocalDate({'year': 2025, 'month': 4, 'day': 22, 'hour': 13, 'minute': 14, 'second': 27, 'weekday': 1, 'timezone': 'America/Los_Angeles'}), 'write_fmt_time': '2025-04-22T13:14:27.997655-07:00'}), 'data': {'name': 'db_call/createIndexes', 'ts': 1745352867.997623, 'reading': \"['_del_entries_for_query', 'reset_user_to_start', '<module>']\"}}) into timeseries\n",
      "DEBUG:root:insert called with entry of type <class 'emission.core.wrapper.entry.Entry'>\n",
      "DEBUG:root:entry was fine, no need to fix it\n",
      "DEBUG:root:Inserting entry Entry({'_id': ObjectId('6807f8a3dc8e1d84bba3037d'), 'user_id': None, 'metadata': Metadata({'key': 'stats/pipeline_time', 'platform': 'server', 'write_ts': 1745352867.9992042, 'time_zone': 'America/Los_Angeles', 'write_local_dt': LocalDate({'year': 2025, 'month': 4, 'day': 22, 'hour': 13, 'minute': 14, 'second': 27, 'weekday': 1, 'timezone': 'America/Los_Angeles'}), 'write_fmt_time': '2025-04-22T13:14:27.999204-07:00'}), 'data': {'name': 'db_call/createIndexes', 'ts': 1745352867.99918, 'reading': \"['_del_entries_for_query', 'reset_user_to_start', '<module>']\"}}) into timeseries\n",
      "DEBUG:root:insert called with entry of type <class 'emission.core.wrapper.entry.Entry'>\n",
      "DEBUG:root:entry was fine, no need to fix it\n",
      "DEBUG:root:Inserting entry Entry({'_id': ObjectId('6807f8a4dc8e1d84bba3037e'), 'user_id': None, 'metadata': Metadata({'key': 'stats/pipeline_time', 'platform': 'server', 'write_ts': 1745352868.00066, 'time_zone': 'America/Los_Angeles', 'write_local_dt': LocalDate({'year': 2025, 'month': 4, 'day': 22, 'hour': 13, 'minute': 14, 'second': 28, 'weekday': 1, 'timezone': 'America/Los_Angeles'}), 'write_fmt_time': '2025-04-22T13:14:28.000660-07:00'}), 'data': {'name': 'db_call/createIndexes', 'ts': 1745352868.000638, 'reading': \"['_del_entries_for_query', 'reset_user_to_start', '<module>']\"}}) into timeseries\n",
      "DEBUG:root:insert called with entry of type <class 'emission.core.wrapper.entry.Entry'>\n",
      "DEBUG:root:entry was fine, no need to fix it\n",
      "DEBUG:root:Inserting entry Entry({'_id': ObjectId('6807f8a4dc8e1d84bba3037f'), 'user_id': None, 'metadata': Metadata({'key': 'stats/pipeline_time', 'platform': 'server', 'write_ts': 1745352868.002078, 'time_zone': 'America/Los_Angeles', 'write_local_dt': LocalDate({'year': 2025, 'month': 4, 'day': 22, 'hour': 13, 'minute': 14, 'second': 28, 'weekday': 1, 'timezone': 'America/Los_Angeles'}), 'write_fmt_time': '2025-04-22T13:14:28.002078-07:00'}), 'data': {'name': 'db_call/createIndexes', 'ts': 1745352868.002053, 'reading': \"['_del_entries_for_query', 'reset_user_to_start', '<module>']\"}}) into timeseries\n",
      "DEBUG:root:insert called with entry of type <class 'emission.core.wrapper.entry.Entry'>\n",
      "DEBUG:root:entry was fine, no need to fix it\n",
      "DEBUG:root:Inserting entry Entry({'_id': ObjectId('6807f8a4dc8e1d84bba30380'), 'user_id': None, 'metadata': Metadata({'key': 'stats/pipeline_time', 'platform': 'server', 'write_ts': 1745352868.003468, 'time_zone': 'America/Los_Angeles', 'write_local_dt': LocalDate({'year': 2025, 'month': 4, 'day': 22, 'hour': 13, 'minute': 14, 'second': 28, 'weekday': 1, 'timezone': 'America/Los_Angeles'}), 'write_fmt_time': '2025-04-22T13:14:28.003468-07:00'}), 'data': {'name': 'db_call/createIndexes', 'ts': 1745352868.003448, 'reading': \"['_del_entries_for_query', 'reset_user_to_start', '<module>']\"}}) into timeseries\n",
      "DEBUG:root:insert called with entry of type <class 'emission.core.wrapper.entry.Entry'>\n",
      "DEBUG:root:entry was fine, no need to fix it\n",
      "DEBUG:root:Inserting entry Entry({'_id': ObjectId('6807f8a4dc8e1d84bba30381'), 'user_id': None, 'metadata': Metadata({'key': 'stats/pipeline_time', 'platform': 'server', 'write_ts': 1745352868.004867, 'time_zone': 'America/Los_Angeles', 'write_local_dt': LocalDate({'year': 2025, 'month': 4, 'day': 22, 'hour': 13, 'minute': 14, 'second': 28, 'weekday': 1, 'timezone': 'America/Los_Angeles'}), 'write_fmt_time': '2025-04-22T13:14:28.004867-07:00'}), 'data': {'name': 'db_call/createIndexes', 'ts': 1745352868.004849, 'reading': \"['reset_user_to_start', '<module>']\"}}) into timeseries\n",
      "DEBUG:root:insert called with entry of type <class 'emission.core.wrapper.entry.Entry'>\n",
      "DEBUG:root:entry was fine, no need to fix it\n",
      "DEBUG:root:Inserting entry Entry({'_id': ObjectId('6807f8a4dc8e1d84bba30382'), 'user_id': None, 'metadata': Metadata({'key': 'stats/pipeline_time', 'platform': 'server', 'write_ts': 1745352868.006214, 'time_zone': 'America/Los_Angeles', 'write_local_dt': LocalDate({'year': 2025, 'month': 4, 'day': 22, 'hour': 13, 'minute': 14, 'second': 28, 'weekday': 1, 'timezone': 'America/Los_Angeles'}), 'write_fmt_time': '2025-04-22T13:14:28.006214-07:00'}), 'data': {'name': 'db_call/createIndexes', 'ts': 1745352868.006196, 'reading': \"['reset_user_to_start', '<module>']\"}}) into timeseries\n",
      "DEBUG:root:insert called with entry of type <class 'emission.core.wrapper.entry.Entry'>\n",
      "DEBUG:root:entry was fine, no need to fix it\n",
      "DEBUG:root:Inserting entry Entry({'_id': ObjectId('6807f8a4dc8e1d84bba30383'), 'user_id': None, 'metadata': Metadata({'key': 'stats/pipeline_time', 'platform': 'server', 'write_ts': 1745352868.0075462, 'time_zone': 'America/Los_Angeles', 'write_local_dt': LocalDate({'year': 2025, 'month': 4, 'day': 22, 'hour': 13, 'minute': 14, 'second': 28, 'weekday': 1, 'timezone': 'America/Los_Angeles'}), 'write_fmt_time': '2025-04-22T13:14:28.007546-07:00'}), 'data': {'name': 'db_call/createIndexes', 'ts': 1745352868.007524, 'reading': \"['_del_entries_for_query', 'reset_user_to_start', '<module>']\"}}) into timeseries\n",
      "DEBUG:root:insert called with entry of type <class 'emission.core.wrapper.entry.Entry'>\n",
      "DEBUG:root:entry was fine, no need to fix it\n",
      "DEBUG:root:Inserting entry Entry({'_id': ObjectId('6807f8a4dc8e1d84bba30384'), 'user_id': None, 'metadata': Metadata({'key': 'stats/pipeline_time', 'platform': 'server', 'write_ts': 1745352868.008863, 'time_zone': 'America/Los_Angeles', 'write_local_dt': LocalDate({'year': 2025, 'month': 4, 'day': 22, 'hour': 13, 'minute': 14, 'second': 28, 'weekday': 1, 'timezone': 'America/Los_Angeles'}), 'write_fmt_time': '2025-04-22T13:14:28.008863-07:00'}), 'data': {'name': 'db_call/createIndexes', 'ts': 1745352868.0088441, 'reading': \"['_del_entries_for_query', 'reset_user_to_start', '<module>']\"}}) into timeseries\n",
      "DEBUG:root:insert called with entry of type <class 'emission.core.wrapper.entry.Entry'>\n",
      "DEBUG:root:entry was fine, no need to fix it\n",
      "DEBUG:root:Inserting entry Entry({'_id': ObjectId('6807f8a4dc8e1d84bba30385'), 'user_id': None, 'metadata': Metadata({'key': 'stats/pipeline_time', 'platform': 'server', 'write_ts': 1745352868.0103118, 'time_zone': 'America/Los_Angeles', 'write_local_dt': LocalDate({'year': 2025, 'month': 4, 'day': 22, 'hour': 13, 'minute': 14, 'second': 28, 'weekday': 1, 'timezone': 'America/Los_Angeles'}), 'write_fmt_time': '2025-04-22T13:14:28.010312-07:00'}), 'data': {'name': 'db_call/createIndexes', 'ts': 1745352868.010292, 'reading': \"['_del_entries_for_query', 'reset_user_to_start', '<module>']\"}}) into timeseries\n",
      "DEBUG:root:insert called with entry of type <class 'emission.core.wrapper.entry.Entry'>\n",
      "DEBUG:root:entry was fine, no need to fix it\n",
      "DEBUG:root:Inserting entry Entry({'_id': ObjectId('6807f8a4dc8e1d84bba30386'), 'user_id': None, 'metadata': Metadata({'key': 'stats/pipeline_time', 'platform': 'server', 'write_ts': 1745352868.012688, 'time_zone': 'America/Los_Angeles', 'write_local_dt': LocalDate({'year': 2025, 'month': 4, 'day': 22, 'hour': 13, 'minute': 14, 'second': 28, 'weekday': 1, 'timezone': 'America/Los_Angeles'}), 'write_fmt_time': '2025-04-22T13:14:28.012688-07:00'}), 'data': {'name': 'db_call/createIndexes', 'ts': 1745352868.0126588, 'reading': \"['_del_entries_for_query', 'reset_user_to_start', '<module>']\"}}) into timeseries\n",
      "DEBUG:root:insert called with entry of type <class 'emission.core.wrapper.entry.Entry'>\n",
      "DEBUG:root:entry was fine, no need to fix it\n",
      "DEBUG:root:Inserting entry Entry({'_id': ObjectId('6807f8a4dc8e1d84bba30387'), 'user_id': None, 'metadata': Metadata({'key': 'stats/pipeline_time', 'platform': 'server', 'write_ts': 1745352868.014069, 'time_zone': 'America/Los_Angeles', 'write_local_dt': LocalDate({'year': 2025, 'month': 4, 'day': 22, 'hour': 13, 'minute': 14, 'second': 28, 'weekday': 1, 'timezone': 'America/Los_Angeles'}), 'write_fmt_time': '2025-04-22T13:14:28.014069-07:00'}), 'data': {'name': 'db_call/createIndexes', 'ts': 1745352868.014051, 'reading': \"['_del_entries_for_query', 'reset_user_to_start', '<module>']\"}}) into timeseries\n",
      "DEBUG:root:insert called with entry of type <class 'emission.core.wrapper.entry.Entry'>\n",
      "DEBUG:root:entry was fine, no need to fix it\n",
      "DEBUG:root:Inserting entry Entry({'_id': ObjectId('6807f8a4dc8e1d84bba30388'), 'user_id': None, 'metadata': Metadata({'key': 'stats/pipeline_time', 'platform': 'server', 'write_ts': 1745352868.0154529, 'time_zone': 'America/Los_Angeles', 'write_local_dt': LocalDate({'year': 2025, 'month': 4, 'day': 22, 'hour': 13, 'minute': 14, 'second': 28, 'weekday': 1, 'timezone': 'America/Los_Angeles'}), 'write_fmt_time': '2025-04-22T13:14:28.015453-07:00'}), 'data': {'name': 'db_call/createIndexes', 'ts': 1745352868.015434, 'reading': \"['_del_entries_for_query', 'reset_user_to_start', '<module>']\"}}) into timeseries\n",
      "DEBUG:root:insert called with entry of type <class 'emission.core.wrapper.entry.Entry'>\n",
      "DEBUG:root:entry was fine, no need to fix it\n",
      "DEBUG:root:Inserting entry Entry({'_id': ObjectId('6807f8a4dc8e1d84bba30389'), 'user_id': None, 'metadata': Metadata({'key': 'stats/pipeline_time', 'platform': 'server', 'write_ts': 1745352868.016858, 'time_zone': 'America/Los_Angeles', 'write_local_dt': LocalDate({'year': 2025, 'month': 4, 'day': 22, 'hour': 13, 'minute': 14, 'second': 28, 'weekday': 1, 'timezone': 'America/Los_Angeles'}), 'write_fmt_time': '2025-04-22T13:14:28.016858-07:00'}), 'data': {'name': 'db_call/createIndexes', 'ts': 1745352868.016839, 'reading': \"['_del_entries_for_query', 'reset_user_to_start', '<module>']\"}}) into timeseries\n",
      "DEBUG:root:insert called with entry of type <class 'emission.core.wrapper.entry.Entry'>\n",
      "DEBUG:root:entry was fine, no need to fix it\n",
      "DEBUG:root:Inserting entry Entry({'_id': ObjectId('6807f8a4dc8e1d84bba3038a'), 'user_id': None, 'metadata': Metadata({'key': 'stats/pipeline_time', 'platform': 'server', 'write_ts': 1745352868.01825, 'time_zone': 'America/Los_Angeles', 'write_local_dt': LocalDate({'year': 2025, 'month': 4, 'day': 22, 'hour': 13, 'minute': 14, 'second': 28, 'weekday': 1, 'timezone': 'America/Los_Angeles'}), 'write_fmt_time': '2025-04-22T13:14:28.018250-07:00'}), 'data': {'name': 'db_call/createIndexes', 'ts': 1745352868.018223, 'reading': \"['_del_entries_for_query', 'reset_user_to_start', '<module>']\"}}) into timeseries\n",
      "DEBUG:root:insert called with entry of type <class 'emission.core.wrapper.entry.Entry'>\n",
      "DEBUG:root:entry was fine, no need to fix it\n",
      "DEBUG:root:Inserting entry Entry({'_id': ObjectId('6807f8a4dc8e1d84bba3038b'), 'user_id': None, 'metadata': Metadata({'key': 'stats/pipeline_time', 'platform': 'server', 'write_ts': 1745352868.019624, 'time_zone': 'America/Los_Angeles', 'write_local_dt': LocalDate({'year': 2025, 'month': 4, 'day': 22, 'hour': 13, 'minute': 14, 'second': 28, 'weekday': 1, 'timezone': 'America/Los_Angeles'}), 'write_fmt_time': '2025-04-22T13:14:28.019624-07:00'}), 'data': {'name': 'db_call/createIndexes', 'ts': 1745352868.019607, 'reading': \"['_del_entries_for_query', 'reset_user_to_start', '<module>']\"}}) into timeseries\n",
      "DEBUG:root:insert called with entry of type <class 'emission.core.wrapper.entry.Entry'>\n",
      "DEBUG:root:entry was fine, no need to fix it\n",
      "DEBUG:root:Inserting entry Entry({'_id': ObjectId('6807f8a4dc8e1d84bba3038c'), 'user_id': None, 'metadata': Metadata({'key': 'stats/pipeline_time', 'platform': 'server', 'write_ts': 1745352868.020951, 'time_zone': 'America/Los_Angeles', 'write_local_dt': LocalDate({'year': 2025, 'month': 4, 'day': 22, 'hour': 13, 'minute': 14, 'second': 28, 'weekday': 1, 'timezone': 'America/Los_Angeles'}), 'write_fmt_time': '2025-04-22T13:14:28.020951-07:00'}), 'data': {'name': 'db_call/createIndexes', 'ts': 1745352868.0209322, 'reading': \"['_del_entries_for_query', 'reset_user_to_start', '<module>']\"}}) into timeseries\n",
      "DEBUG:root:insert called with entry of type <class 'emission.core.wrapper.entry.Entry'>\n",
      "DEBUG:root:entry was fine, no need to fix it\n",
      "DEBUG:root:Inserting entry Entry({'_id': ObjectId('6807f8a4dc8e1d84bba3038d'), 'user_id': None, 'metadata': Metadata({'key': 'stats/pipeline_time', 'platform': 'server', 'write_ts': 1745352868.022239, 'time_zone': 'America/Los_Angeles', 'write_local_dt': LocalDate({'year': 2025, 'month': 4, 'day': 22, 'hour': 13, 'minute': 14, 'second': 28, 'weekday': 1, 'timezone': 'America/Los_Angeles'}), 'write_fmt_time': '2025-04-22T13:14:28.022239-07:00'}), 'data': {'name': 'db_call/createIndexes', 'ts': 1745352868.022222, 'reading': \"['_del_entries_for_query', 'reset_user_to_start', '<module>']\"}}) into timeseries\n",
      "DEBUG:root:insert called with entry of type <class 'emission.core.wrapper.entry.Entry'>\n",
      "DEBUG:root:entry was fine, no need to fix it\n",
      "DEBUG:root:Inserting entry Entry({'_id': ObjectId('6807f8a4dc8e1d84bba3038e'), 'user_id': None, 'metadata': Metadata({'key': 'stats/pipeline_time', 'platform': 'server', 'write_ts': 1745352868.023558, 'time_zone': 'America/Los_Angeles', 'write_local_dt': LocalDate({'year': 2025, 'month': 4, 'day': 22, 'hour': 13, 'minute': 14, 'second': 28, 'weekday': 1, 'timezone': 'America/Los_Angeles'}), 'write_fmt_time': '2025-04-22T13:14:28.023558-07:00'}), 'data': {'name': 'db_call/createIndexes', 'ts': 1745352868.0235388, 'reading': \"['_del_entries_for_query', 'reset_user_to_start', '<module>']\"}}) into timeseries\n",
      "DEBUG:root:insert called with entry of type <class 'emission.core.wrapper.entry.Entry'>\n",
      "DEBUG:root:entry was fine, no need to fix it\n",
      "DEBUG:root:Inserting entry Entry({'_id': ObjectId('6807f8a4dc8e1d84bba3038f'), 'user_id': None, 'metadata': Metadata({'key': 'stats/pipeline_time', 'platform': 'server', 'write_ts': 1745352868.024985, 'time_zone': 'America/Los_Angeles', 'write_local_dt': LocalDate({'year': 2025, 'month': 4, 'day': 22, 'hour': 13, 'minute': 14, 'second': 28, 'weekday': 1, 'timezone': 'America/Los_Angeles'}), 'write_fmt_time': '2025-04-22T13:14:28.024985-07:00'}), 'data': {'name': 'db_call/createIndexes', 'ts': 1745352868.024968, 'reading': \"['_del_entries_for_query', 'reset_user_to_start', '<module>']\"}}) into timeseries\n",
      "DEBUG:root:insert called with entry of type <class 'emission.core.wrapper.entry.Entry'>\n",
      "DEBUG:root:entry was fine, no need to fix it\n",
      "DEBUG:root:Inserting entry Entry({'_id': ObjectId('6807f8a4dc8e1d84bba30390'), 'user_id': None, 'metadata': Metadata({'key': 'stats/pipeline_time', 'platform': 'server', 'write_ts': 1745352868.026326, 'time_zone': 'America/Los_Angeles', 'write_local_dt': LocalDate({'year': 2025, 'month': 4, 'day': 22, 'hour': 13, 'minute': 14, 'second': 28, 'weekday': 1, 'timezone': 'America/Los_Angeles'}), 'write_fmt_time': '2025-04-22T13:14:28.026326-07:00'}), 'data': {'name': 'db_call/createIndexes', 'ts': 1745352868.026309, 'reading': \"['_del_entries_for_query', 'reset_user_to_start', '<module>']\"}}) into timeseries\n",
      "DEBUG:root:insert called with entry of type <class 'emission.core.wrapper.entry.Entry'>\n",
      "DEBUG:root:entry was fine, no need to fix it\n",
      "DEBUG:root:Inserting entry Entry({'_id': ObjectId('6807f8a4dc8e1d84bba30391'), 'user_id': None, 'metadata': Metadata({'key': 'stats/pipeline_time', 'platform': 'server', 'write_ts': 1745352868.0276868, 'time_zone': 'America/Los_Angeles', 'write_local_dt': LocalDate({'year': 2025, 'month': 4, 'day': 22, 'hour': 13, 'minute': 14, 'second': 28, 'weekday': 1, 'timezone': 'America/Los_Angeles'}), 'write_fmt_time': '2025-04-22T13:14:28.027687-07:00'}), 'data': {'name': 'db_call/listIndexes', 'ts': 1745352868.027664, 'reading': \"['_create_analysis_result_indices', 'get_analysis_timeseries_db', '_del_entries_for_query', 'reset_user_to_start', '<module>']\"}}) into timeseries\n",
      "DEBUG:root:insert called with entry of type <class 'emission.core.wrapper.entry.Entry'>\n",
      "DEBUG:root:entry was fine, no need to fix it\n",
      "DEBUG:root:Inserting entry Entry({'_id': ObjectId('6807f8a4dc8e1d84bba30392'), 'user_id': None, 'metadata': Metadata({'key': 'stats/pipeline_time', 'platform': 'server', 'write_ts': 1745352868.029391, 'time_zone': 'America/Los_Angeles', 'write_local_dt': LocalDate({'year': 2025, 'month': 4, 'day': 22, 'hour': 13, 'minute': 14, 'second': 28, 'weekday': 1, 'timezone': 'America/Los_Angeles'}), 'write_fmt_time': '2025-04-22T13:14:28.029391-07:00'}), 'data': {'name': 'db_call/createIndexes', 'ts': 1745352868.029373, 'reading': \"['reset_user_to_start', '<module>']\"}}) into timeseries\n",
      "DEBUG:root:insert called with entry of type <class 'emission.core.wrapper.entry.Entry'>\n",
      "DEBUG:root:entry was fine, no need to fix it\n",
      "DEBUG:root:Inserting entry Entry({'_id': ObjectId('6807f8a4dc8e1d84bba30393'), 'user_id': None, 'metadata': Metadata({'key': 'stats/pipeline_time', 'platform': 'server', 'write_ts': 1745352868.0306602, 'time_zone': 'America/Los_Angeles', 'write_local_dt': LocalDate({'year': 2025, 'month': 4, 'day': 22, 'hour': 13, 'minute': 14, 'second': 28, 'weekday': 1, 'timezone': 'America/Los_Angeles'}), 'write_fmt_time': '2025-04-22T13:14:28.030660-07:00'}), 'data': {'name': 'db_call/createIndexes', 'ts': 1745352868.030642, 'reading': \"['reset_user_to_start', '<module>']\"}}) into timeseries\n",
      "DEBUG:root:insert called with entry of type <class 'emission.core.wrapper.entry.Entry'>\n",
      "DEBUG:root:entry was fine, no need to fix it\n",
      "DEBUG:root:Inserting entry Entry({'_id': ObjectId('6807f8a4dc8e1d84bba30394'), 'user_id': None, 'metadata': Metadata({'key': 'stats/pipeline_time', 'platform': 'server', 'write_ts': 1745352868.032085, 'time_zone': 'America/Los_Angeles', 'write_local_dt': LocalDate({'year': 2025, 'month': 4, 'day': 22, 'hour': 13, 'minute': 14, 'second': 28, 'weekday': 1, 'timezone': 'America/Los_Angeles'}), 'write_fmt_time': '2025-04-22T13:14:28.032085-07:00'}), 'data': {'name': 'db_call/createIndexes', 'ts': 1745352868.032062, 'reading': \"['reset_user_to_start', '<module>']\"}}) into timeseries\n",
      "DEBUG:root:insert called with entry of type <class 'emission.core.wrapper.entry.Entry'>\n",
      "DEBUG:root:entry was fine, no need to fix it\n",
      "DEBUG:root:Inserting entry Entry({'_id': ObjectId('6807f8a4dc8e1d84bba30395'), 'user_id': None, 'metadata': Metadata({'key': 'stats/pipeline_time', 'platform': 'server', 'write_ts': 1745352868.0333838, 'time_zone': 'America/Los_Angeles', 'write_local_dt': LocalDate({'year': 2025, 'month': 4, 'day': 22, 'hour': 13, 'minute': 14, 'second': 28, 'weekday': 1, 'timezone': 'America/Los_Angeles'}), 'write_fmt_time': '2025-04-22T13:14:28.033384-07:00'}), 'data': {'name': 'db_call/createIndexes', 'ts': 1745352868.033368, 'reading': \"['reset_user_to_start', '<module>']\"}}) into timeseries\n",
      "DEBUG:root:insert called with entry of type <class 'emission.core.wrapper.entry.Entry'>\n",
      "DEBUG:root:entry was fine, no need to fix it\n",
      "DEBUG:root:Inserting entry Entry({'_id': ObjectId('6807f8a4dc8e1d84bba30396'), 'user_id': None, 'metadata': Metadata({'key': 'stats/pipeline_time', 'platform': 'server', 'write_ts': 1745352868.034629, 'time_zone': 'America/Los_Angeles', 'write_local_dt': LocalDate({'year': 2025, 'month': 4, 'day': 22, 'hour': 13, 'minute': 14, 'second': 28, 'weekday': 1, 'timezone': 'America/Los_Angeles'}), 'write_fmt_time': '2025-04-22T13:14:28.034629-07:00'}), 'data': {'name': 'db_call/createIndexes', 'ts': 1745352868.034613, 'reading': \"['reset_user_to_start', '<module>']\"}}) into timeseries\n",
      "DEBUG:root:insert called with entry of type <class 'emission.core.wrapper.entry.Entry'>\n",
      "DEBUG:root:entry was fine, no need to fix it\n",
      "DEBUG:root:Inserting entry Entry({'_id': ObjectId('6807f8a4dc8e1d84bba30397'), 'user_id': None, 'metadata': Metadata({'key': 'stats/pipeline_time', 'platform': 'server', 'write_ts': 1745352868.03708, 'time_zone': 'America/Los_Angeles', 'write_local_dt': LocalDate({'year': 2025, 'month': 4, 'day': 22, 'hour': 13, 'minute': 14, 'second': 28, 'weekday': 1, 'timezone': 'America/Los_Angeles'}), 'write_fmt_time': '2025-04-22T13:14:28.037080-07:00'}), 'data': {'name': 'db_call/createIndexes', 'ts': 1745352868.037057, 'reading': \"['reset_user_to_start', '<module>']\"}}) into timeseries\n",
      "DEBUG:root:insert called with entry of type <class 'emission.core.wrapper.entry.Entry'>\n",
      "DEBUG:root:entry was fine, no need to fix it\n",
      "DEBUG:root:Inserting entry Entry({'_id': ObjectId('6807f8a4dc8e1d84bba30398'), 'user_id': None, 'metadata': Metadata({'key': 'stats/pipeline_time', 'platform': 'server', 'write_ts': 1745352868.0389419, 'time_zone': 'America/Los_Angeles', 'write_local_dt': LocalDate({'year': 2025, 'month': 4, 'day': 22, 'hour': 13, 'minute': 14, 'second': 28, 'weekday': 1, 'timezone': 'America/Los_Angeles'}), 'write_fmt_time': '2025-04-22T13:14:28.038942-07:00'}), 'data': {'name': 'db_call/listIndexes', 'ts': 1745352868.0389252, 'reading': \"['_create_analysis_result_indices', 'get_analysis_timeseries_db', '_del_entries_for_query', 'reset_user_to_start', '<module>']\"}}) into timeseries\n",
      "DEBUG:root:insert called with entry of type <class 'emission.core.wrapper.entry.Entry'>\n",
      "DEBUG:root:entry was fine, no need to fix it\n",
      "DEBUG:root:Inserting entry Entry({'_id': ObjectId('6807f8a4dc8e1d84bba30399'), 'user_id': None, 'metadata': Metadata({'key': 'stats/pipeline_time', 'platform': 'server', 'write_ts': 1745352868.041109, 'time_zone': 'America/Los_Angeles', 'write_local_dt': LocalDate({'year': 2025, 'month': 4, 'day': 22, 'hour': 13, 'minute': 14, 'second': 28, 'weekday': 1, 'timezone': 'America/Los_Angeles'}), 'write_fmt_time': '2025-04-22T13:14:28.041109-07:00'}), 'data': {'name': 'db_call/createIndexes', 'ts': 1745352868.0410922, 'reading': \"['reset_user_to_start', '<module>']\"}}) into timeseries\n",
      "DEBUG:root:insert called with entry of type <class 'emission.core.wrapper.entry.Entry'>\n",
      "DEBUG:root:entry was fine, no need to fix it\n",
      "DEBUG:root:Inserting entry Entry({'_id': ObjectId('6807f8a4dc8e1d84bba3039a'), 'user_id': None, 'metadata': Metadata({'key': 'stats/pipeline_time', 'platform': 'server', 'write_ts': 1745352868.042791, 'time_zone': 'America/Los_Angeles', 'write_local_dt': LocalDate({'year': 2025, 'month': 4, 'day': 22, 'hour': 13, 'minute': 14, 'second': 28, 'weekday': 1, 'timezone': 'America/Los_Angeles'}), 'write_fmt_time': '2025-04-22T13:14:28.042791-07:00'}), 'data': {'name': 'db_call/createIndexes', 'ts': 1745352868.042772, 'reading': \"['_del_entries_for_query', 'reset_user_to_start', '<module>']\"}}) into timeseries\n",
      "DEBUG:root:insert called with entry of type <class 'emission.core.wrapper.entry.Entry'>\n",
      "DEBUG:root:entry was fine, no need to fix it\n",
      "DEBUG:root:Inserting entry Entry({'_id': ObjectId('6807f8a4dc8e1d84bba3039b'), 'user_id': None, 'metadata': Metadata({'key': 'stats/pipeline_time', 'platform': 'server', 'write_ts': 1745352868.044936, 'time_zone': 'America/Los_Angeles', 'write_local_dt': LocalDate({'year': 2025, 'month': 4, 'day': 22, 'hour': 13, 'minute': 14, 'second': 28, 'weekday': 1, 'timezone': 'America/Los_Angeles'}), 'write_fmt_time': '2025-04-22T13:14:28.044936-07:00'}), 'data': {'name': 'db_call/createIndexes', 'ts': 1745352868.0449128, 'reading': \"['_del_entries_for_query', 'reset_user_to_start', '<module>']\"}}) into timeseries\n",
      "DEBUG:root:insert called with entry of type <class 'emission.core.wrapper.entry.Entry'>\n",
      "DEBUG:root:entry was fine, no need to fix it\n",
      "DEBUG:root:Inserting entry Entry({'_id': ObjectId('6807f8a4dc8e1d84bba3039c'), 'user_id': None, 'metadata': Metadata({'key': 'stats/pipeline_time', 'platform': 'server', 'write_ts': 1745352868.046849, 'time_zone': 'America/Los_Angeles', 'write_local_dt': LocalDate({'year': 2025, 'month': 4, 'day': 22, 'hour': 13, 'minute': 14, 'second': 28, 'weekday': 1, 'timezone': 'America/Los_Angeles'}), 'write_fmt_time': '2025-04-22T13:14:28.046849-07:00'}), 'data': {'name': 'db_call/createIndexes', 'ts': 1745352868.046826, 'reading': \"['_del_entries_for_query', 'reset_user_to_start', '<module>']\"}}) into timeseries\n",
      "DEBUG:root:insert called with entry of type <class 'emission.core.wrapper.entry.Entry'>\n",
      "DEBUG:root:entry was fine, no need to fix it\n",
      "DEBUG:root:Inserting entry Entry({'_id': ObjectId('6807f8a4dc8e1d84bba3039d'), 'user_id': None, 'metadata': Metadata({'key': 'stats/pipeline_time', 'platform': 'server', 'write_ts': 1745352868.048715, 'time_zone': 'America/Los_Angeles', 'write_local_dt': LocalDate({'year': 2025, 'month': 4, 'day': 22, 'hour': 13, 'minute': 14, 'second': 28, 'weekday': 1, 'timezone': 'America/Los_Angeles'}), 'write_fmt_time': '2025-04-22T13:14:28.048715-07:00'}), 'data': {'name': 'db_call/createIndexes', 'ts': 1745352868.0486872, 'reading': \"['_del_entries_for_query', 'reset_user_to_start', '<module>']\"}}) into timeseries\n",
      "DEBUG:root:insert called with entry of type <class 'emission.core.wrapper.entry.Entry'>\n",
      "DEBUG:root:entry was fine, no need to fix it\n",
      "DEBUG:root:Inserting entry Entry({'_id': ObjectId('6807f8a4dc8e1d84bba3039e'), 'user_id': None, 'metadata': Metadata({'key': 'stats/pipeline_time', 'platform': 'server', 'write_ts': 1745352868.050635, 'time_zone': 'America/Los_Angeles', 'write_local_dt': LocalDate({'year': 2025, 'month': 4, 'day': 22, 'hour': 13, 'minute': 14, 'second': 28, 'weekday': 1, 'timezone': 'America/Los_Angeles'}), 'write_fmt_time': '2025-04-22T13:14:28.050635-07:00'}), 'data': {'name': 'db_call/createIndexes', 'ts': 1745352868.0506098, 'reading': \"['_del_entries_for_query', 'reset_user_to_start', '<module>']\"}}) into timeseries\n",
      "DEBUG:root:insert called with entry of type <class 'emission.core.wrapper.entry.Entry'>\n",
      "DEBUG:root:entry was fine, no need to fix it\n",
      "DEBUG:root:Inserting entry Entry({'_id': ObjectId('6807f8a4dc8e1d84bba3039f'), 'user_id': None, 'metadata': Metadata({'key': 'stats/pipeline_time', 'platform': 'server', 'write_ts': 1745352868.052525, 'time_zone': 'America/Los_Angeles', 'write_local_dt': LocalDate({'year': 2025, 'month': 4, 'day': 22, 'hour': 13, 'minute': 14, 'second': 28, 'weekday': 1, 'timezone': 'America/Los_Angeles'}), 'write_fmt_time': '2025-04-22T13:14:28.052525-07:00'}), 'data': {'name': 'db_call/createIndexes', 'ts': 1745352868.052503, 'reading': \"['_del_entries_for_query', 'reset_user_to_start', '<module>']\"}}) into timeseries\n",
      "DEBUG:root:insert called with entry of type <class 'emission.core.wrapper.entry.Entry'>\n",
      "DEBUG:root:entry was fine, no need to fix it\n",
      "DEBUG:root:Inserting entry Entry({'_id': ObjectId('6807f8a4dc8e1d84bba303a0'), 'user_id': None, 'metadata': Metadata({'key': 'stats/pipeline_time', 'platform': 'server', 'write_ts': 1745352868.054382, 'time_zone': 'America/Los_Angeles', 'write_local_dt': LocalDate({'year': 2025, 'month': 4, 'day': 22, 'hour': 13, 'minute': 14, 'second': 28, 'weekday': 1, 'timezone': 'America/Los_Angeles'}), 'write_fmt_time': '2025-04-22T13:14:28.054382-07:00'}), 'data': {'name': 'db_call/createIndexes', 'ts': 1745352868.054365, 'reading': \"['_del_entries_for_query', 'reset_user_to_start', '<module>']\"}}) into timeseries\n",
      "DEBUG:root:insert called with entry of type <class 'emission.core.wrapper.entry.Entry'>\n",
      "DEBUG:root:entry was fine, no need to fix it\n",
      "DEBUG:root:Inserting entry Entry({'_id': ObjectId('6807f8a4dc8e1d84bba303a1'), 'user_id': None, 'metadata': Metadata({'key': 'stats/pipeline_time', 'platform': 'server', 'write_ts': 1745352868.056027, 'time_zone': 'America/Los_Angeles', 'write_local_dt': LocalDate({'year': 2025, 'month': 4, 'day': 22, 'hour': 13, 'minute': 14, 'second': 28, 'weekday': 1, 'timezone': 'America/Los_Angeles'}), 'write_fmt_time': '2025-04-22T13:14:28.056027-07:00'}), 'data': {'name': 'db_call/distinct', 'ts': 1745352868.056011, 'reading': \"['_del_entries_for_query', 'reset_user_to_start', '<module>']\"}}) into timeseries\n",
      "INFO:root:About to delete entries with keys []\n",
      "DEBUG:root:insert called with entry of type <class 'emission.core.wrapper.entry.Entry'>\n",
      "DEBUG:root:entry was fine, no need to fix it\n",
      "DEBUG:root:Inserting entry Entry({'_id': ObjectId('6807f8a4dc8e1d84bba303a2'), 'user_id': None, 'metadata': Metadata({'key': 'stats/pipeline_time', 'platform': 'server', 'write_ts': 1745352868.0580769, 'time_zone': 'America/Los_Angeles', 'write_local_dt': LocalDate({'year': 2025, 'month': 4, 'day': 22, 'hour': 13, 'minute': 14, 'second': 28, 'weekday': 1, 'timezone': 'America/Los_Angeles'}), 'write_fmt_time': '2025-04-22T13:14:28.058077-07:00'}), 'data': {'name': 'db_call/aggregate', 'ts': 1745352868.058059, 'reading': \"['_del_entries_for_query', 'reset_user_to_start', '<module>']\"}}) into timeseries\n",
      "INFO:root:About to delete 0 pipeline states\n",
      "DEBUG:root:insert called with entry of type <class 'emission.core.wrapper.entry.Entry'>\n",
      "DEBUG:root:entry was fine, no need to fix it\n",
      "DEBUG:root:Inserting entry Entry({'_id': ObjectId('6807f8a4dc8e1d84bba303a3'), 'user_id': None, 'metadata': Metadata({'key': 'stats/pipeline_time', 'platform': 'server', 'write_ts': 1745352868.060438, 'time_zone': 'America/Los_Angeles', 'write_local_dt': LocalDate({'year': 2025, 'month': 4, 'day': 22, 'hour': 13, 'minute': 14, 'second': 28, 'weekday': 1, 'timezone': 'America/Los_Angeles'}), 'write_fmt_time': '2025-04-22T13:14:28.060438-07:00'}), 'data': {'name': 'db_call/createIndexes', 'ts': 1745352868.0604212, 'reading': \"['<module>']\"}}) into timeseries\n",
      "DEBUG:root:insert called with entry of type <class 'emission.core.wrapper.entry.Entry'>\n",
      "DEBUG:root:entry was fine, no need to fix it\n",
      "DEBUG:root:Inserting entry Entry({'_id': ObjectId('6807f8a4dc8e1d84bba303a4'), 'user_id': None, 'metadata': Metadata({'key': 'stats/pipeline_time', 'platform': 'server', 'write_ts': 1745352868.062371, 'time_zone': 'America/Los_Angeles', 'write_local_dt': LocalDate({'year': 2025, 'month': 4, 'day': 22, 'hour': 13, 'minute': 14, 'second': 28, 'weekday': 1, 'timezone': 'America/Los_Angeles'}), 'write_fmt_time': '2025-04-22T13:14:28.062371-07:00'}), 'data': {'name': 'db_call/createIndexes', 'ts': 1745352868.062345, 'reading': \"['reset_user_to_start', '<module>']\"}}) into timeseries\n",
      "DEBUG:root:insert called with entry of type <class 'emission.core.wrapper.entry.Entry'>\n",
      "DEBUG:root:entry was fine, no need to fix it\n",
      "DEBUG:root:Inserting entry Entry({'_id': ObjectId('6807f8a4dc8e1d84bba303a5'), 'user_id': None, 'metadata': Metadata({'key': 'stats/pipeline_time', 'platform': 'server', 'write_ts': 1745352868.0640461, 'time_zone': 'America/Los_Angeles', 'write_local_dt': LocalDate({'year': 2025, 'month': 4, 'day': 22, 'hour': 13, 'minute': 14, 'second': 28, 'weekday': 1, 'timezone': 'America/Los_Angeles'}), 'write_fmt_time': '2025-04-22T13:14:28.064046-07:00'}), 'data': {'name': 'db_call/createIndexes', 'ts': 1745352868.064029, 'reading': \"['reset_user_to_start', '<module>']\"}}) into timeseries\n",
      "DEBUG:root:insert called with entry of type <class 'emission.core.wrapper.entry.Entry'>\n",
      "DEBUG:root:entry was fine, no need to fix it\n",
      "DEBUG:root:Inserting entry Entry({'_id': ObjectId('6807f8a4dc8e1d84bba303a6'), 'user_id': None, 'metadata': Metadata({'key': 'stats/pipeline_time', 'platform': 'server', 'write_ts': 1745352868.065929, 'time_zone': 'America/Los_Angeles', 'write_local_dt': LocalDate({'year': 2025, 'month': 4, 'day': 22, 'hour': 13, 'minute': 14, 'second': 28, 'weekday': 1, 'timezone': 'America/Los_Angeles'}), 'write_fmt_time': '2025-04-22T13:14:28.065929-07:00'}), 'data': {'name': 'db_call/createIndexes', 'ts': 1745352868.065909, 'reading': \"['reset_user_to_start', '<module>']\"}}) into timeseries\n",
      "DEBUG:root:insert called with entry of type <class 'emission.core.wrapper.entry.Entry'>\n",
      "DEBUG:root:entry was fine, no need to fix it\n",
      "DEBUG:root:Inserting entry Entry({'_id': ObjectId('6807f8a4dc8e1d84bba303a7'), 'user_id': None, 'metadata': Metadata({'key': 'stats/pipeline_time', 'platform': 'server', 'write_ts': 1745352868.067785, 'time_zone': 'America/Los_Angeles', 'write_local_dt': LocalDate({'year': 2025, 'month': 4, 'day': 22, 'hour': 13, 'minute': 14, 'second': 28, 'weekday': 1, 'timezone': 'America/Los_Angeles'}), 'write_fmt_time': '2025-04-22T13:14:28.067785-07:00'}), 'data': {'name': 'db_call/listIndexes', 'ts': 1745352868.067766, 'reading': \"['_create_analysis_result_indices', 'get_analysis_timeseries_db', '_del_entries_for_query', 'reset_user_to_start', '<module>']\"}}) into timeseries\n",
      "DEBUG:root:insert called with entry of type <class 'emission.core.wrapper.entry.Entry'>\n",
      "DEBUG:root:entry was fine, no need to fix it\n",
      "DEBUG:root:Inserting entry Entry({'_id': ObjectId('6807f8a4dc8e1d84bba303a8'), 'user_id': None, 'metadata': Metadata({'key': 'stats/pipeline_time', 'platform': 'server', 'write_ts': 1745352868.070369, 'time_zone': 'America/Los_Angeles', 'write_local_dt': LocalDate({'year': 2025, 'month': 4, 'day': 22, 'hour': 13, 'minute': 14, 'second': 28, 'weekday': 1, 'timezone': 'America/Los_Angeles'}), 'write_fmt_time': '2025-04-22T13:14:28.070369-07:00'}), 'data': {'name': 'db_call/listIndexes', 'ts': 1745352868.0703511, 'reading': \"['_create_analysis_result_indices', 'get_analysis_timeseries_db', '_del_entries_for_query', 'reset_user_to_start', '<module>']\"}}) into timeseries\n",
      "DEBUG:root:insert called with entry of type <class 'emission.core.wrapper.entry.Entry'>\n",
      "DEBUG:root:entry was fine, no need to fix it\n",
      "DEBUG:root:Inserting entry Entry({'_id': ObjectId('6807f8a4dc8e1d84bba303a9'), 'user_id': None, 'metadata': Metadata({'key': 'stats/pipeline_time', 'platform': 'server', 'write_ts': 1745352868.0728488, 'time_zone': 'America/Los_Angeles', 'write_local_dt': LocalDate({'year': 2025, 'month': 4, 'day': 22, 'hour': 13, 'minute': 14, 'second': 28, 'weekday': 1, 'timezone': 'America/Los_Angeles'}), 'write_fmt_time': '2025-04-22T13:14:28.072849-07:00'}), 'data': {'name': 'db_call/createIndexes', 'ts': 1745352868.072833, 'reading': \"['reset_user_to_start', '<module>']\"}}) into timeseries\n",
      "DEBUG:root:insert called with entry of type <class 'emission.core.wrapper.entry.Entry'>\n",
      "DEBUG:root:entry was fine, no need to fix it\n",
      "DEBUG:root:Inserting entry Entry({'_id': ObjectId('6807f8a4dc8e1d84bba303aa'), 'user_id': None, 'metadata': Metadata({'key': 'stats/pipeline_time', 'platform': 'server', 'write_ts': 1745352868.074615, 'time_zone': 'America/Los_Angeles', 'write_local_dt': LocalDate({'year': 2025, 'month': 4, 'day': 22, 'hour': 13, 'minute': 14, 'second': 28, 'weekday': 1, 'timezone': 'America/Los_Angeles'}), 'write_fmt_time': '2025-04-22T13:14:28.074615-07:00'}), 'data': {'name': 'db_call/createIndexes', 'ts': 1745352868.0745978, 'reading': \"['reset_user_to_start', '<module>']\"}}) into timeseries\n",
      "DEBUG:root:insert called with entry of type <class 'emission.core.wrapper.entry.Entry'>\n",
      "DEBUG:root:entry was fine, no need to fix it\n",
      "DEBUG:root:Inserting entry Entry({'_id': ObjectId('6807f8a4dc8e1d84bba303ab'), 'user_id': None, 'metadata': Metadata({'key': 'stats/pipeline_time', 'platform': 'server', 'write_ts': 1745352868.0763772, 'time_zone': 'America/Los_Angeles', 'write_local_dt': LocalDate({'year': 2025, 'month': 4, 'day': 22, 'hour': 13, 'minute': 14, 'second': 28, 'weekday': 1, 'timezone': 'America/Los_Angeles'}), 'write_fmt_time': '2025-04-22T13:14:28.076377-07:00'}), 'data': {'name': 'db_call/createIndexes', 'ts': 1745352868.076361, 'reading': \"['_del_entries_for_query', 'reset_user_to_start', '<module>']\"}}) into timeseries\n",
      "DEBUG:root:insert called with entry of type <class 'emission.core.wrapper.entry.Entry'>\n",
      "DEBUG:root:entry was fine, no need to fix it\n",
      "DEBUG:root:Inserting entry Entry({'_id': ObjectId('6807f8a4dc8e1d84bba303ac'), 'user_id': None, 'metadata': Metadata({'key': 'stats/pipeline_time', 'platform': 'server', 'write_ts': 1745352868.0782568, 'time_zone': 'America/Los_Angeles', 'write_local_dt': LocalDate({'year': 2025, 'month': 4, 'day': 22, 'hour': 13, 'minute': 14, 'second': 28, 'weekday': 1, 'timezone': 'America/Los_Angeles'}), 'write_fmt_time': '2025-04-22T13:14:28.078257-07:00'}), 'data': {'name': 'db_call/createIndexes', 'ts': 1745352868.078238, 'reading': \"['_del_entries_for_query', 'reset_user_to_start', '<module>']\"}}) into timeseries\n",
      "DEBUG:root:insert called with entry of type <class 'emission.core.wrapper.entry.Entry'>\n",
      "DEBUG:root:entry was fine, no need to fix it\n",
      "DEBUG:root:Inserting entry Entry({'_id': ObjectId('6807f8a4dc8e1d84bba303ad'), 'user_id': None, 'metadata': Metadata({'key': 'stats/pipeline_time', 'platform': 'server', 'write_ts': 1745352868.08012, 'time_zone': 'America/Los_Angeles', 'write_local_dt': LocalDate({'year': 2025, 'month': 4, 'day': 22, 'hour': 13, 'minute': 14, 'second': 28, 'weekday': 1, 'timezone': 'America/Los_Angeles'}), 'write_fmt_time': '2025-04-22T13:14:28.080120-07:00'}), 'data': {'name': 'db_call/createIndexes', 'ts': 1745352868.08009, 'reading': \"['_del_entries_for_query', 'reset_user_to_start', '<module>']\"}}) into timeseries\n",
      "DEBUG:root:insert called with entry of type <class 'emission.core.wrapper.entry.Entry'>\n",
      "DEBUG:root:entry was fine, no need to fix it\n",
      "DEBUG:root:Inserting entry Entry({'_id': ObjectId('6807f8a4dc8e1d84bba303ae'), 'user_id': None, 'metadata': Metadata({'key': 'stats/pipeline_time', 'platform': 'server', 'write_ts': 1745352868.082001, 'time_zone': 'America/Los_Angeles', 'write_local_dt': LocalDate({'year': 2025, 'month': 4, 'day': 22, 'hour': 13, 'minute': 14, 'second': 28, 'weekday': 1, 'timezone': 'America/Los_Angeles'}), 'write_fmt_time': '2025-04-22T13:14:28.082001-07:00'}), 'data': {'name': 'db_call/createIndexes', 'ts': 1745352868.08197, 'reading': \"['_del_entries_for_query', 'reset_user_to_start', '<module>']\"}}) into timeseries\n",
      "DEBUG:root:insert called with entry of type <class 'emission.core.wrapper.entry.Entry'>\n",
      "DEBUG:root:entry was fine, no need to fix it\n",
      "DEBUG:root:Inserting entry Entry({'_id': ObjectId('6807f8a4dc8e1d84bba303af'), 'user_id': None, 'metadata': Metadata({'key': 'stats/pipeline_time', 'platform': 'server', 'write_ts': 1745352868.084094, 'time_zone': 'America/Los_Angeles', 'write_local_dt': LocalDate({'year': 2025, 'month': 4, 'day': 22, 'hour': 13, 'minute': 14, 'second': 28, 'weekday': 1, 'timezone': 'America/Los_Angeles'}), 'write_fmt_time': '2025-04-22T13:14:28.084094-07:00'}), 'data': {'name': 'db_call/createIndexes', 'ts': 1745352868.084054, 'reading': \"['_del_entries_for_query', 'reset_user_to_start', '<module>']\"}}) into timeseries\n",
      "DEBUG:root:insert called with entry of type <class 'emission.core.wrapper.entry.Entry'>\n",
      "DEBUG:root:entry was fine, no need to fix it\n",
      "DEBUG:root:Inserting entry Entry({'_id': ObjectId('6807f8a4dc8e1d84bba303b0'), 'user_id': None, 'metadata': Metadata({'key': 'stats/pipeline_time', 'platform': 'server', 'write_ts': 1745352868.086567, 'time_zone': 'America/Los_Angeles', 'write_local_dt': LocalDate({'year': 2025, 'month': 4, 'day': 22, 'hour': 13, 'minute': 14, 'second': 28, 'weekday': 1, 'timezone': 'America/Los_Angeles'}), 'write_fmt_time': '2025-04-22T13:14:28.086567-07:00'}), 'data': {'name': 'db_call/createIndexes', 'ts': 1745352868.0865479, 'reading': \"['_del_entries_for_query', 'reset_user_to_start', '<module>']\"}}) into timeseries\n",
      "DEBUG:root:insert called with entry of type <class 'emission.core.wrapper.entry.Entry'>\n",
      "DEBUG:root:entry was fine, no need to fix it\n",
      "DEBUG:root:Inserting entry Entry({'_id': ObjectId('6807f8a4dc8e1d84bba303b1'), 'user_id': None, 'metadata': Metadata({'key': 'stats/pipeline_time', 'platform': 'server', 'write_ts': 1745352868.088864, 'time_zone': 'America/Los_Angeles', 'write_local_dt': LocalDate({'year': 2025, 'month': 4, 'day': 22, 'hour': 13, 'minute': 14, 'second': 28, 'weekday': 1, 'timezone': 'America/Los_Angeles'}), 'write_fmt_time': '2025-04-22T13:14:28.088864-07:00'}), 'data': {'name': 'db_call/createIndexes', 'ts': 1745352868.088846, 'reading': \"['_del_entries_for_query', 'reset_user_to_start', '<module>']\"}}) into timeseries\n",
      "DEBUG:root:insert called with entry of type <class 'emission.core.wrapper.entry.Entry'>\n",
      "DEBUG:root:entry was fine, no need to fix it\n",
      "DEBUG:root:Inserting entry Entry({'_id': ObjectId('6807f8a4dc8e1d84bba303b2'), 'user_id': None, 'metadata': Metadata({'key': 'stats/pipeline_time', 'platform': 'server', 'write_ts': 1745352868.0906188, 'time_zone': 'America/Los_Angeles', 'write_local_dt': LocalDate({'year': 2025, 'month': 4, 'day': 22, 'hour': 13, 'minute': 14, 'second': 28, 'weekday': 1, 'timezone': 'America/Los_Angeles'}), 'write_fmt_time': '2025-04-22T13:14:28.090619-07:00'}), 'data': {'name': 'db_call/createIndexes', 'ts': 1745352868.090601, 'reading': \"['_del_entries_for_query', 'reset_user_to_start', '<module>']\"}}) into timeseries\n",
      "DEBUG:root:insert called with entry of type <class 'emission.core.wrapper.entry.Entry'>\n",
      "DEBUG:root:entry was fine, no need to fix it\n",
      "DEBUG:root:Inserting entry Entry({'_id': ObjectId('6807f8a4dc8e1d84bba303b3'), 'user_id': None, 'metadata': Metadata({'key': 'stats/pipeline_time', 'platform': 'server', 'write_ts': 1745352868.092256, 'time_zone': 'America/Los_Angeles', 'write_local_dt': LocalDate({'year': 2025, 'month': 4, 'day': 22, 'hour': 13, 'minute': 14, 'second': 28, 'weekday': 1, 'timezone': 'America/Los_Angeles'}), 'write_fmt_time': '2025-04-22T13:14:28.092256-07:00'}), 'data': {'name': 'db_call/createIndexes', 'ts': 1745352868.0922382, 'reading': \"['_del_entries_for_query', 'reset_user_to_start', '<module>']\"}}) into timeseries\n",
      "DEBUG:root:insert called with entry of type <class 'emission.core.wrapper.entry.Entry'>\n",
      "DEBUG:root:entry was fine, no need to fix it\n",
      "DEBUG:root:Inserting entry Entry({'_id': ObjectId('6807f8a4dc8e1d84bba303b4'), 'user_id': None, 'metadata': Metadata({'key': 'stats/pipeline_time', 'platform': 'server', 'write_ts': 1745352868.094084, 'time_zone': 'America/Los_Angeles', 'write_local_dt': LocalDate({'year': 2025, 'month': 4, 'day': 22, 'hour': 13, 'minute': 14, 'second': 28, 'weekday': 1, 'timezone': 'America/Los_Angeles'}), 'write_fmt_time': '2025-04-22T13:14:28.094084-07:00'}), 'data': {'name': 'db_call/createIndexes', 'ts': 1745352868.094062, 'reading': \"['_del_entries_for_query', 'reset_user_to_start', '<module>']\"}}) into timeseries\n",
      "DEBUG:root:insert called with entry of type <class 'emission.core.wrapper.entry.Entry'>\n",
      "DEBUG:root:entry was fine, no need to fix it\n",
      "DEBUG:root:Inserting entry Entry({'_id': ObjectId('6807f8a4dc8e1d84bba303b5'), 'user_id': None, 'metadata': Metadata({'key': 'stats/pipeline_time', 'platform': 'server', 'write_ts': 1745352868.096172, 'time_zone': 'America/Los_Angeles', 'write_local_dt': LocalDate({'year': 2025, 'month': 4, 'day': 22, 'hour': 13, 'minute': 14, 'second': 28, 'weekday': 1, 'timezone': 'America/Los_Angeles'}), 'write_fmt_time': '2025-04-22T13:14:28.096172-07:00'}), 'data': {'name': 'db_call/createIndexes', 'ts': 1745352868.096155, 'reading': \"['_del_entries_for_query', 'reset_user_to_start', '<module>']\"}}) into timeseries\n",
      "DEBUG:root:insert called with entry of type <class 'emission.core.wrapper.entry.Entry'>\n",
      "DEBUG:root:entry was fine, no need to fix it\n",
      "DEBUG:root:Inserting entry Entry({'_id': ObjectId('6807f8a4dc8e1d84bba303b6'), 'user_id': None, 'metadata': Metadata({'key': 'stats/pipeline_time', 'platform': 'server', 'write_ts': 1745352868.097978, 'time_zone': 'America/Los_Angeles', 'write_local_dt': LocalDate({'year': 2025, 'month': 4, 'day': 22, 'hour': 13, 'minute': 14, 'second': 28, 'weekday': 1, 'timezone': 'America/Los_Angeles'}), 'write_fmt_time': '2025-04-22T13:14:28.097978-07:00'}), 'data': {'name': 'db_call/createIndexes', 'ts': 1745352868.0979588, 'reading': \"['_del_entries_for_query', 'reset_user_to_start', '<module>']\"}}) into timeseries\n",
      "DEBUG:root:insert called with entry of type <class 'emission.core.wrapper.entry.Entry'>\n",
      "DEBUG:root:entry was fine, no need to fix it\n",
      "DEBUG:root:Inserting entry Entry({'_id': ObjectId('6807f8a4dc8e1d84bba303b7'), 'user_id': None, 'metadata': Metadata({'key': 'stats/pipeline_time', 'platform': 'server', 'write_ts': 1745352868.099828, 'time_zone': 'America/Los_Angeles', 'write_local_dt': LocalDate({'year': 2025, 'month': 4, 'day': 22, 'hour': 13, 'minute': 14, 'second': 28, 'weekday': 1, 'timezone': 'America/Los_Angeles'}), 'write_fmt_time': '2025-04-22T13:14:28.099828-07:00'}), 'data': {'name': 'db_call/createIndexes', 'ts': 1745352868.099804, 'reading': \"['_del_entries_for_query', 'reset_user_to_start', '<module>']\"}}) into timeseries\n",
      "DEBUG:root:insert called with entry of type <class 'emission.core.wrapper.entry.Entry'>\n",
      "DEBUG:root:entry was fine, no need to fix it\n",
      "DEBUG:root:Inserting entry Entry({'_id': ObjectId('6807f8a4dc8e1d84bba303b8'), 'user_id': None, 'metadata': Metadata({'key': 'stats/pipeline_time', 'platform': 'server', 'write_ts': 1745352868.1016572, 'time_zone': 'America/Los_Angeles', 'write_local_dt': LocalDate({'year': 2025, 'month': 4, 'day': 22, 'hour': 13, 'minute': 14, 'second': 28, 'weekday': 1, 'timezone': 'America/Los_Angeles'}), 'write_fmt_time': '2025-04-22T13:14:28.101657-07:00'}), 'data': {'name': 'db_call/createIndexes', 'ts': 1745352868.1016252, 'reading': \"['_del_entries_for_query', 'reset_user_to_start', '<module>']\"}}) into timeseries\n",
      "DEBUG:root:insert called with entry of type <class 'emission.core.wrapper.entry.Entry'>\n",
      "DEBUG:root:entry was fine, no need to fix it\n",
      "DEBUG:root:Inserting entry Entry({'_id': ObjectId('6807f8a4dc8e1d84bba303b9'), 'user_id': None, 'metadata': Metadata({'key': 'stats/pipeline_time', 'platform': 'server', 'write_ts': 1745352868.103783, 'time_zone': 'America/Los_Angeles', 'write_local_dt': LocalDate({'year': 2025, 'month': 4, 'day': 22, 'hour': 13, 'minute': 14, 'second': 28, 'weekday': 1, 'timezone': 'America/Los_Angeles'}), 'write_fmt_time': '2025-04-22T13:14:28.103783-07:00'}), 'data': {'name': 'db_call/createIndexes', 'ts': 1745352868.103765, 'reading': \"['reset_user_to_start', '<module>']\"}}) into timeseries\n",
      "DEBUG:root:insert called with entry of type <class 'emission.core.wrapper.entry.Entry'>\n",
      "DEBUG:root:entry was fine, no need to fix it\n",
      "DEBUG:root:Inserting entry Entry({'_id': ObjectId('6807f8a4dc8e1d84bba303ba'), 'user_id': None, 'metadata': Metadata({'key': 'stats/pipeline_time', 'platform': 'server', 'write_ts': 1745352868.105587, 'time_zone': 'America/Los_Angeles', 'write_local_dt': LocalDate({'year': 2025, 'month': 4, 'day': 22, 'hour': 13, 'minute': 14, 'second': 28, 'weekday': 1, 'timezone': 'America/Los_Angeles'}), 'write_fmt_time': '2025-04-22T13:14:28.105587-07:00'}), 'data': {'name': 'db_call/createIndexes', 'ts': 1745352868.105566, 'reading': \"['reset_user_to_start', '<module>']\"}}) into timeseries\n",
      "DEBUG:root:insert called with entry of type <class 'emission.core.wrapper.entry.Entry'>\n",
      "DEBUG:root:entry was fine, no need to fix it\n",
      "DEBUG:root:Inserting entry Entry({'_id': ObjectId('6807f8a4dc8e1d84bba303bb'), 'user_id': None, 'metadata': Metadata({'key': 'stats/pipeline_time', 'platform': 'server', 'write_ts': 1745352868.1073909, 'time_zone': 'America/Los_Angeles', 'write_local_dt': LocalDate({'year': 2025, 'month': 4, 'day': 22, 'hour': 13, 'minute': 14, 'second': 28, 'weekday': 1, 'timezone': 'America/Los_Angeles'}), 'write_fmt_time': '2025-04-22T13:14:28.107391-07:00'}), 'data': {'name': 'db_call/createIndexes', 'ts': 1745352868.107368, 'reading': \"['_del_entries_for_query', 'reset_user_to_start', '<module>']\"}}) into timeseries\n",
      "DEBUG:root:insert called with entry of type <class 'emission.core.wrapper.entry.Entry'>\n",
      "DEBUG:root:entry was fine, no need to fix it\n",
      "DEBUG:root:Inserting entry Entry({'_id': ObjectId('6807f8a4dc8e1d84bba303bc'), 'user_id': None, 'metadata': Metadata({'key': 'stats/pipeline_time', 'platform': 'server', 'write_ts': 1745352868.10919, 'time_zone': 'America/Los_Angeles', 'write_local_dt': LocalDate({'year': 2025, 'month': 4, 'day': 22, 'hour': 13, 'minute': 14, 'second': 28, 'weekday': 1, 'timezone': 'America/Los_Angeles'}), 'write_fmt_time': '2025-04-22T13:14:28.109190-07:00'}), 'data': {'name': 'db_call/createIndexes', 'ts': 1745352868.109171, 'reading': \"['_del_entries_for_query', 'reset_user_to_start', '<module>']\"}}) into timeseries\n",
      "DEBUG:root:insert called with entry of type <class 'emission.core.wrapper.entry.Entry'>\n",
      "DEBUG:root:entry was fine, no need to fix it\n",
      "DEBUG:root:Inserting entry Entry({'_id': ObjectId('6807f8a4dc8e1d84bba303bd'), 'user_id': None, 'metadata': Metadata({'key': 'stats/pipeline_time', 'platform': 'server', 'write_ts': 1745352868.1112099, 'time_zone': 'America/Los_Angeles', 'write_local_dt': LocalDate({'year': 2025, 'month': 4, 'day': 22, 'hour': 13, 'minute': 14, 'second': 28, 'weekday': 1, 'timezone': 'America/Los_Angeles'}), 'write_fmt_time': '2025-04-22T13:14:28.111210-07:00'}), 'data': {'name': 'db_call/createIndexes', 'ts': 1745352868.111187, 'reading': \"['_del_entries_for_query', 'reset_user_to_start', '<module>']\"}}) into timeseries\n",
      "DEBUG:root:insert called with entry of type <class 'emission.core.wrapper.entry.Entry'>\n",
      "DEBUG:root:entry was fine, no need to fix it\n",
      "DEBUG:root:Inserting entry Entry({'_id': ObjectId('6807f8a4dc8e1d84bba303be'), 'user_id': None, 'metadata': Metadata({'key': 'stats/pipeline_time', 'platform': 'server', 'write_ts': 1745352868.1133, 'time_zone': 'America/Los_Angeles', 'write_local_dt': LocalDate({'year': 2025, 'month': 4, 'day': 22, 'hour': 13, 'minute': 14, 'second': 28, 'weekday': 1, 'timezone': 'America/Los_Angeles'}), 'write_fmt_time': '2025-04-22T13:14:28.113300-07:00'}), 'data': {'name': 'db_call/createIndexes', 'ts': 1745352868.113277, 'reading': \"['_del_entries_for_query', 'reset_user_to_start', '<module>']\"}}) into timeseries\n",
      "DEBUG:root:insert called with entry of type <class 'emission.core.wrapper.entry.Entry'>\n",
      "DEBUG:root:entry was fine, no need to fix it\n",
      "DEBUG:root:Inserting entry Entry({'_id': ObjectId('6807f8a4dc8e1d84bba303bf'), 'user_id': None, 'metadata': Metadata({'key': 'stats/pipeline_time', 'platform': 'server', 'write_ts': 1745352868.115319, 'time_zone': 'America/Los_Angeles', 'write_local_dt': LocalDate({'year': 2025, 'month': 4, 'day': 22, 'hour': 13, 'minute': 14, 'second': 28, 'weekday': 1, 'timezone': 'America/Los_Angeles'}), 'write_fmt_time': '2025-04-22T13:14:28.115319-07:00'}), 'data': {'name': 'db_call/createIndexes', 'ts': 1745352868.115296, 'reading': \"['_del_entries_for_query', 'reset_user_to_start', '<module>']\"}}) into timeseries\n",
      "DEBUG:root:insert called with entry of type <class 'emission.core.wrapper.entry.Entry'>\n",
      "DEBUG:root:entry was fine, no need to fix it\n",
      "DEBUG:root:Inserting entry Entry({'_id': ObjectId('6807f8a4dc8e1d84bba303c0'), 'user_id': None, 'metadata': Metadata({'key': 'stats/pipeline_time', 'platform': 'server', 'write_ts': 1745352868.117354, 'time_zone': 'America/Los_Angeles', 'write_local_dt': LocalDate({'year': 2025, 'month': 4, 'day': 22, 'hour': 13, 'minute': 14, 'second': 28, 'weekday': 1, 'timezone': 'America/Los_Angeles'}), 'write_fmt_time': '2025-04-22T13:14:28.117354-07:00'}), 'data': {'name': 'db_call/createIndexes', 'ts': 1745352868.117331, 'reading': \"['_del_entries_for_query', 'reset_user_to_start', '<module>']\"}}) into timeseries\n",
      "DEBUG:root:insert called with entry of type <class 'emission.core.wrapper.entry.Entry'>\n",
      "DEBUG:root:entry was fine, no need to fix it\n",
      "DEBUG:root:Inserting entry Entry({'_id': ObjectId('6807f8a4dc8e1d84bba303c1'), 'user_id': None, 'metadata': Metadata({'key': 'stats/pipeline_time', 'platform': 'server', 'write_ts': 1745352868.119107, 'time_zone': 'America/Los_Angeles', 'write_local_dt': LocalDate({'year': 2025, 'month': 4, 'day': 22, 'hour': 13, 'minute': 14, 'second': 28, 'weekday': 1, 'timezone': 'America/Los_Angeles'}), 'write_fmt_time': '2025-04-22T13:14:28.119107-07:00'}), 'data': {'name': 'db_call/createIndexes', 'ts': 1745352868.1190882, 'reading': \"['_del_entries_for_query', 'reset_user_to_start', '<module>']\"}}) into timeseries\n",
      "DEBUG:root:insert called with entry of type <class 'emission.core.wrapper.entry.Entry'>\n",
      "DEBUG:root:entry was fine, no need to fix it\n",
      "DEBUG:root:Inserting entry Entry({'_id': ObjectId('6807f8a4dc8e1d84bba303c2'), 'user_id': None, 'metadata': Metadata({'key': 'stats/pipeline_time', 'platform': 'server', 'write_ts': 1745352868.1212, 'time_zone': 'America/Los_Angeles', 'write_local_dt': LocalDate({'year': 2025, 'month': 4, 'day': 22, 'hour': 13, 'minute': 14, 'second': 28, 'weekday': 1, 'timezone': 'America/Los_Angeles'}), 'write_fmt_time': '2025-04-22T13:14:28.121200-07:00'}), 'data': {'name': 'db_call/createIndexes', 'ts': 1745352868.1211782, 'reading': \"['_del_entries_for_query', 'reset_user_to_start', '<module>']\"}}) into timeseries\n",
      "DEBUG:root:insert called with entry of type <class 'emission.core.wrapper.entry.Entry'>\n",
      "DEBUG:root:entry was fine, no need to fix it\n",
      "DEBUG:root:Inserting entry Entry({'_id': ObjectId('6807f8a4dc8e1d84bba303c3'), 'user_id': None, 'metadata': Metadata({'key': 'stats/pipeline_time', 'platform': 'server', 'write_ts': 1745352868.1234372, 'time_zone': 'America/Los_Angeles', 'write_local_dt': LocalDate({'year': 2025, 'month': 4, 'day': 22, 'hour': 13, 'minute': 14, 'second': 28, 'weekday': 1, 'timezone': 'America/Los_Angeles'}), 'write_fmt_time': '2025-04-22T13:14:28.123437-07:00'}), 'data': {'name': 'db_call/createIndexes', 'ts': 1745352868.123416, 'reading': \"['_del_entries_for_query', 'reset_user_to_start', '<module>']\"}}) into timeseries\n",
      "DEBUG:root:insert called with entry of type <class 'emission.core.wrapper.entry.Entry'>\n",
      "DEBUG:root:entry was fine, no need to fix it\n",
      "DEBUG:root:Inserting entry Entry({'_id': ObjectId('6807f8a4dc8e1d84bba303c4'), 'user_id': None, 'metadata': Metadata({'key': 'stats/pipeline_time', 'platform': 'server', 'write_ts': 1745352868.12534, 'time_zone': 'America/Los_Angeles', 'write_local_dt': LocalDate({'year': 2025, 'month': 4, 'day': 22, 'hour': 13, 'minute': 14, 'second': 28, 'weekday': 1, 'timezone': 'America/Los_Angeles'}), 'write_fmt_time': '2025-04-22T13:14:28.125340-07:00'}), 'data': {'name': 'db_call/createIndexes', 'ts': 1745352868.125319, 'reading': \"['_del_entries_for_query', 'reset_user_to_start', '<module>']\"}}) into timeseries\n",
      "DEBUG:root:insert called with entry of type <class 'emission.core.wrapper.entry.Entry'>\n",
      "DEBUG:root:entry was fine, no need to fix it\n",
      "DEBUG:root:Inserting entry Entry({'_id': ObjectId('6807f8a4dc8e1d84bba303c5'), 'user_id': None, 'metadata': Metadata({'key': 'stats/pipeline_time', 'platform': 'server', 'write_ts': 1745352868.1270442, 'time_zone': 'America/Los_Angeles', 'write_local_dt': LocalDate({'year': 2025, 'month': 4, 'day': 22, 'hour': 13, 'minute': 14, 'second': 28, 'weekday': 1, 'timezone': 'America/Los_Angeles'}), 'write_fmt_time': '2025-04-22T13:14:28.127044-07:00'}), 'data': {'name': 'db_call/createIndexes', 'ts': 1745352868.1270258, 'reading': \"['_del_entries_for_query', 'reset_user_to_start', '<module>']\"}}) into timeseries\n",
      "DEBUG:root:insert called with entry of type <class 'emission.core.wrapper.entry.Entry'>\n",
      "DEBUG:root:entry was fine, no need to fix it\n",
      "DEBUG:root:Inserting entry Entry({'_id': ObjectId('6807f8a4dc8e1d84bba303c6'), 'user_id': None, 'metadata': Metadata({'key': 'stats/pipeline_time', 'platform': 'server', 'write_ts': 1745352868.1291049, 'time_zone': 'America/Los_Angeles', 'write_local_dt': LocalDate({'year': 2025, 'month': 4, 'day': 22, 'hour': 13, 'minute': 14, 'second': 28, 'weekday': 1, 'timezone': 'America/Los_Angeles'}), 'write_fmt_time': '2025-04-22T13:14:28.129105-07:00'}), 'data': {'name': 'db_call/createIndexes', 'ts': 1745352868.129083, 'reading': \"['_del_entries_for_query', 'reset_user_to_start', '<module>']\"}}) into timeseries\n",
      "DEBUG:root:insert called with entry of type <class 'emission.core.wrapper.entry.Entry'>\n",
      "DEBUG:root:entry was fine, no need to fix it\n",
      "DEBUG:root:Inserting entry Entry({'_id': ObjectId('6807f8a4dc8e1d84bba303c7'), 'user_id': None, 'metadata': Metadata({'key': 'stats/pipeline_time', 'platform': 'server', 'write_ts': 1745352868.130901, 'time_zone': 'America/Los_Angeles', 'write_local_dt': LocalDate({'year': 2025, 'month': 4, 'day': 22, 'hour': 13, 'minute': 14, 'second': 28, 'weekday': 1, 'timezone': 'America/Los_Angeles'}), 'write_fmt_time': '2025-04-22T13:14:28.130901-07:00'}), 'data': {'name': 'db_call/createIndexes', 'ts': 1745352868.130883, 'reading': \"['_del_entries_for_query', 'reset_user_to_start', '<module>']\"}}) into timeseries\n",
      "DEBUG:root:insert called with entry of type <class 'emission.core.wrapper.entry.Entry'>\n",
      "DEBUG:root:entry was fine, no need to fix it\n",
      "DEBUG:root:Inserting entry Entry({'_id': ObjectId('6807f8a4dc8e1d84bba303c8'), 'user_id': None, 'metadata': Metadata({'key': 'stats/pipeline_time', 'platform': 'server', 'write_ts': 1745352868.132965, 'time_zone': 'America/Los_Angeles', 'write_local_dt': LocalDate({'year': 2025, 'month': 4, 'day': 22, 'hour': 13, 'minute': 14, 'second': 28, 'weekday': 1, 'timezone': 'America/Los_Angeles'}), 'write_fmt_time': '2025-04-22T13:14:28.132965-07:00'}), 'data': {'name': 'db_call/createIndexes', 'ts': 1745352868.132941, 'reading': \"['_del_entries_for_query', 'reset_user_to_start', '<module>']\"}}) into timeseries\n",
      "DEBUG:root:insert called with entry of type <class 'emission.core.wrapper.entry.Entry'>\n",
      "DEBUG:root:entry was fine, no need to fix it\n",
      "DEBUG:root:Inserting entry Entry({'_id': ObjectId('6807f8a4dc8e1d84bba303c9'), 'user_id': None, 'metadata': Metadata({'key': 'stats/pipeline_time', 'platform': 'server', 'write_ts': 1745352868.134748, 'time_zone': 'America/Los_Angeles', 'write_local_dt': LocalDate({'year': 2025, 'month': 4, 'day': 22, 'hour': 13, 'minute': 14, 'second': 28, 'weekday': 1, 'timezone': 'America/Los_Angeles'}), 'write_fmt_time': '2025-04-22T13:14:28.134748-07:00'}), 'data': {'name': 'db_call/listIndexes', 'ts': 1745352868.134729, 'reading': \"['_create_analysis_result_indices', 'get_analysis_timeseries_db', '_del_entries_for_query', 'reset_user_to_start', '<module>']\"}}) into timeseries\n",
      "DEBUG:root:insert called with entry of type <class 'emission.core.wrapper.entry.Entry'>\n",
      "DEBUG:root:entry was fine, no need to fix it\n",
      "DEBUG:root:Inserting entry Entry({'_id': ObjectId('6807f8a4dc8e1d84bba303ca'), 'user_id': None, 'metadata': Metadata({'key': 'stats/pipeline_time', 'platform': 'server', 'write_ts': 1745352868.137504, 'time_zone': 'America/Los_Angeles', 'write_local_dt': LocalDate({'year': 2025, 'month': 4, 'day': 22, 'hour': 13, 'minute': 14, 'second': 28, 'weekday': 1, 'timezone': 'America/Los_Angeles'}), 'write_fmt_time': '2025-04-22T13:14:28.137504-07:00'}), 'data': {'name': 'db_call/createIndexes', 'ts': 1745352868.1374772, 'reading': \"['reset_user_to_start', '<module>']\"}}) into timeseries\n",
      "DEBUG:root:insert called with entry of type <class 'emission.core.wrapper.entry.Entry'>\n",
      "DEBUG:root:entry was fine, no need to fix it\n",
      "DEBUG:root:Inserting entry Entry({'_id': ObjectId('6807f8a4dc8e1d84bba303cb'), 'user_id': None, 'metadata': Metadata({'key': 'stats/pipeline_time', 'platform': 'server', 'write_ts': 1745352868.140576, 'time_zone': 'America/Los_Angeles', 'write_local_dt': LocalDate({'year': 2025, 'month': 4, 'day': 22, 'hour': 13, 'minute': 14, 'second': 28, 'weekday': 1, 'timezone': 'America/Los_Angeles'}), 'write_fmt_time': '2025-04-22T13:14:28.140576-07:00'}), 'data': {'name': 'db_call/createIndexes', 'ts': 1745352868.140544, 'reading': \"['reset_user_to_start', '<module>']\"}}) into timeseries\n",
      "DEBUG:root:insert called with entry of type <class 'emission.core.wrapper.entry.Entry'>\n",
      "DEBUG:root:entry was fine, no need to fix it\n",
      "DEBUG:root:Inserting entry Entry({'_id': ObjectId('6807f8a4dc8e1d84bba303cc'), 'user_id': None, 'metadata': Metadata({'key': 'stats/pipeline_time', 'platform': 'server', 'write_ts': 1745352868.142782, 'time_zone': 'America/Los_Angeles', 'write_local_dt': LocalDate({'year': 2025, 'month': 4, 'day': 22, 'hour': 13, 'minute': 14, 'second': 28, 'weekday': 1, 'timezone': 'America/Los_Angeles'}), 'write_fmt_time': '2025-04-22T13:14:28.142782-07:00'}), 'data': {'name': 'db_call/createIndexes', 'ts': 1745352868.142758, 'reading': \"['reset_user_to_start', '<module>']\"}}) into timeseries\n",
      "DEBUG:root:insert called with entry of type <class 'emission.core.wrapper.entry.Entry'>\n",
      "DEBUG:root:entry was fine, no need to fix it\n",
      "DEBUG:root:Inserting entry Entry({'_id': ObjectId('6807f8a4dc8e1d84bba303cd'), 'user_id': None, 'metadata': Metadata({'key': 'stats/pipeline_time', 'platform': 'server', 'write_ts': 1745352868.144999, 'time_zone': 'America/Los_Angeles', 'write_local_dt': LocalDate({'year': 2025, 'month': 4, 'day': 22, 'hour': 13, 'minute': 14, 'second': 28, 'weekday': 1, 'timezone': 'America/Los_Angeles'}), 'write_fmt_time': '2025-04-22T13:14:28.144999-07:00'}), 'data': {'name': 'db_call/createIndexes', 'ts': 1745352868.144981, 'reading': \"['reset_user_to_start', '<module>']\"}}) into timeseries\n",
      "DEBUG:root:insert called with entry of type <class 'emission.core.wrapper.entry.Entry'>\n",
      "DEBUG:root:entry was fine, no need to fix it\n",
      "DEBUG:root:Inserting entry Entry({'_id': ObjectId('6807f8a4dc8e1d84bba303ce'), 'user_id': None, 'metadata': Metadata({'key': 'stats/pipeline_time', 'platform': 'server', 'write_ts': 1745352868.147421, 'time_zone': 'America/Los_Angeles', 'write_local_dt': LocalDate({'year': 2025, 'month': 4, 'day': 22, 'hour': 13, 'minute': 14, 'second': 28, 'weekday': 1, 'timezone': 'America/Los_Angeles'}), 'write_fmt_time': '2025-04-22T13:14:28.147421-07:00'}), 'data': {'name': 'db_call/createIndexes', 'ts': 1745352868.147402, 'reading': \"['reset_user_to_start', '<module>']\"}}) into timeseries\n",
      "DEBUG:root:insert called with entry of type <class 'emission.core.wrapper.entry.Entry'>\n",
      "DEBUG:root:entry was fine, no need to fix it\n",
      "DEBUG:root:Inserting entry Entry({'_id': ObjectId('6807f8a4dc8e1d84bba303cf'), 'user_id': None, 'metadata': Metadata({'key': 'stats/pipeline_time', 'platform': 'server', 'write_ts': 1745352868.1495428, 'time_zone': 'America/Los_Angeles', 'write_local_dt': LocalDate({'year': 2025, 'month': 4, 'day': 22, 'hour': 13, 'minute': 14, 'second': 28, 'weekday': 1, 'timezone': 'America/Los_Angeles'}), 'write_fmt_time': '2025-04-22T13:14:28.149543-07:00'}), 'data': {'name': 'db_call/createIndexes', 'ts': 1745352868.149523, 'reading': \"['reset_user_to_start', '<module>']\"}}) into timeseries\n",
      "DEBUG:root:insert called with entry of type <class 'emission.core.wrapper.entry.Entry'>\n",
      "DEBUG:root:entry was fine, no need to fix it\n",
      "DEBUG:root:Inserting entry Entry({'_id': ObjectId('6807f8a4dc8e1d84bba303d0'), 'user_id': None, 'metadata': Metadata({'key': 'stats/pipeline_time', 'platform': 'server', 'write_ts': 1745352868.153107, 'time_zone': 'America/Los_Angeles', 'write_local_dt': LocalDate({'year': 2025, 'month': 4, 'day': 22, 'hour': 13, 'minute': 14, 'second': 28, 'weekday': 1, 'timezone': 'America/Los_Angeles'}), 'write_fmt_time': '2025-04-22T13:14:28.153107-07:00'}), 'data': {'name': 'db_call/listIndexes', 'ts': 1745352868.153087, 'reading': \"['_create_analysis_result_indices', 'get_analysis_timeseries_db', '_del_entries_for_query', 'reset_user_to_start', '<module>']\"}}) into timeseries\n",
      "DEBUG:root:insert called with entry of type <class 'emission.core.wrapper.entry.Entry'>\n",
      "DEBUG:root:entry was fine, no need to fix it\n",
      "DEBUG:root:Inserting entry Entry({'_id': ObjectId('6807f8a4dc8e1d84bba303d1'), 'user_id': None, 'metadata': Metadata({'key': 'stats/pipeline_time', 'platform': 'server', 'write_ts': 1745352868.1567218, 'time_zone': 'America/Los_Angeles', 'write_local_dt': LocalDate({'year': 2025, 'month': 4, 'day': 22, 'hour': 13, 'minute': 14, 'second': 28, 'weekday': 1, 'timezone': 'America/Los_Angeles'}), 'write_fmt_time': '2025-04-22T13:14:28.156722-07:00'}), 'data': {'name': 'db_call/createIndexes', 'ts': 1745352868.156699, 'reading': \"['reset_user_to_start', '<module>']\"}}) into timeseries\n",
      "DEBUG:root:insert called with entry of type <class 'emission.core.wrapper.entry.Entry'>\n",
      "DEBUG:root:entry was fine, no need to fix it\n",
      "DEBUG:root:Inserting entry Entry({'_id': ObjectId('6807f8a4dc8e1d84bba303d2'), 'user_id': None, 'metadata': Metadata({'key': 'stats/pipeline_time', 'platform': 'server', 'write_ts': 1745352868.158565, 'time_zone': 'America/Los_Angeles', 'write_local_dt': LocalDate({'year': 2025, 'month': 4, 'day': 22, 'hour': 13, 'minute': 14, 'second': 28, 'weekday': 1, 'timezone': 'America/Los_Angeles'}), 'write_fmt_time': '2025-04-22T13:14:28.158565-07:00'}), 'data': {'name': 'db_call/createIndexes', 'ts': 1745352868.158543, 'reading': \"['_del_entries_for_query', 'reset_user_to_start', '<module>']\"}}) into timeseries\n",
      "DEBUG:root:insert called with entry of type <class 'emission.core.wrapper.entry.Entry'>\n",
      "DEBUG:root:entry was fine, no need to fix it\n",
      "DEBUG:root:Inserting entry Entry({'_id': ObjectId('6807f8a4dc8e1d84bba303d3'), 'user_id': None, 'metadata': Metadata({'key': 'stats/pipeline_time', 'platform': 'server', 'write_ts': 1745352868.1609569, 'time_zone': 'America/Los_Angeles', 'write_local_dt': LocalDate({'year': 2025, 'month': 4, 'day': 22, 'hour': 13, 'minute': 14, 'second': 28, 'weekday': 1, 'timezone': 'America/Los_Angeles'}), 'write_fmt_time': '2025-04-22T13:14:28.160957-07:00'}), 'data': {'name': 'db_call/createIndexes', 'ts': 1745352868.160938, 'reading': \"['_del_entries_for_query', 'reset_user_to_start', '<module>']\"}}) into timeseries\n",
      "DEBUG:root:insert called with entry of type <class 'emission.core.wrapper.entry.Entry'>\n",
      "DEBUG:root:entry was fine, no need to fix it\n",
      "DEBUG:root:Inserting entry Entry({'_id': ObjectId('6807f8a4dc8e1d84bba303d4'), 'user_id': None, 'metadata': Metadata({'key': 'stats/pipeline_time', 'platform': 'server', 'write_ts': 1745352868.163601, 'time_zone': 'America/Los_Angeles', 'write_local_dt': LocalDate({'year': 2025, 'month': 4, 'day': 22, 'hour': 13, 'minute': 14, 'second': 28, 'weekday': 1, 'timezone': 'America/Los_Angeles'}), 'write_fmt_time': '2025-04-22T13:14:28.163601-07:00'}), 'data': {'name': 'db_call/createIndexes', 'ts': 1745352868.1635818, 'reading': \"['_del_entries_for_query', 'reset_user_to_start', '<module>']\"}}) into timeseries\n",
      "DEBUG:root:insert called with entry of type <class 'emission.core.wrapper.entry.Entry'>\n",
      "DEBUG:root:entry was fine, no need to fix it\n",
      "DEBUG:root:Inserting entry Entry({'_id': ObjectId('6807f8a4dc8e1d84bba303d5'), 'user_id': None, 'metadata': Metadata({'key': 'stats/pipeline_time', 'platform': 'server', 'write_ts': 1745352868.1658409, 'time_zone': 'America/Los_Angeles', 'write_local_dt': LocalDate({'year': 2025, 'month': 4, 'day': 22, 'hour': 13, 'minute': 14, 'second': 28, 'weekday': 1, 'timezone': 'America/Los_Angeles'}), 'write_fmt_time': '2025-04-22T13:14:28.165841-07:00'}), 'data': {'name': 'db_call/createIndexes', 'ts': 1745352868.165816, 'reading': \"['_del_entries_for_query', 'reset_user_to_start', '<module>']\"}}) into timeseries\n",
      "DEBUG:root:insert called with entry of type <class 'emission.core.wrapper.entry.Entry'>\n",
      "DEBUG:root:entry was fine, no need to fix it\n",
      "DEBUG:root:Inserting entry Entry({'_id': ObjectId('6807f8a4dc8e1d84bba303d6'), 'user_id': None, 'metadata': Metadata({'key': 'stats/pipeline_time', 'platform': 'server', 'write_ts': 1745352868.167604, 'time_zone': 'America/Los_Angeles', 'write_local_dt': LocalDate({'year': 2025, 'month': 4, 'day': 22, 'hour': 13, 'minute': 14, 'second': 28, 'weekday': 1, 'timezone': 'America/Los_Angeles'}), 'write_fmt_time': '2025-04-22T13:14:28.167604-07:00'}), 'data': {'name': 'db_call/createIndexes', 'ts': 1745352868.1675851, 'reading': \"['_del_entries_for_query', 'reset_user_to_start', '<module>']\"}}) into timeseries\n",
      "DEBUG:root:insert called with entry of type <class 'emission.core.wrapper.entry.Entry'>\n",
      "DEBUG:root:entry was fine, no need to fix it\n",
      "DEBUG:root:Inserting entry Entry({'_id': ObjectId('6807f8a4dc8e1d84bba303d7'), 'user_id': None, 'metadata': Metadata({'key': 'stats/pipeline_time', 'platform': 'server', 'write_ts': 1745352868.1693718, 'time_zone': 'America/Los_Angeles', 'write_local_dt': LocalDate({'year': 2025, 'month': 4, 'day': 22, 'hour': 13, 'minute': 14, 'second': 28, 'weekday': 1, 'timezone': 'America/Los_Angeles'}), 'write_fmt_time': '2025-04-22T13:14:28.169372-07:00'}), 'data': {'name': 'db_call/createIndexes', 'ts': 1745352868.169354, 'reading': \"['_del_entries_for_query', 'reset_user_to_start', '<module>']\"}}) into timeseries\n",
      "DEBUG:root:insert called with entry of type <class 'emission.core.wrapper.entry.Entry'>\n",
      "DEBUG:root:entry was fine, no need to fix it\n",
      "DEBUG:root:Inserting entry Entry({'_id': ObjectId('6807f8a4dc8e1d84bba303d8'), 'user_id': None, 'metadata': Metadata({'key': 'stats/pipeline_time', 'platform': 'server', 'write_ts': 1745352868.171455, 'time_zone': 'America/Los_Angeles', 'write_local_dt': LocalDate({'year': 2025, 'month': 4, 'day': 22, 'hour': 13, 'minute': 14, 'second': 28, 'weekday': 1, 'timezone': 'America/Los_Angeles'}), 'write_fmt_time': '2025-04-22T13:14:28.171455-07:00'}), 'data': {'name': 'db_call/createIndexes', 'ts': 1745352868.171434, 'reading': \"['_del_entries_for_query', 'reset_user_to_start', '<module>']\"}}) into timeseries\n",
      "DEBUG:root:insert called with entry of type <class 'emission.core.wrapper.entry.Entry'>\n",
      "DEBUG:root:entry was fine, no need to fix it\n",
      "DEBUG:root:Inserting entry Entry({'_id': ObjectId('6807f8a4dc8e1d84bba303d9'), 'user_id': None, 'metadata': Metadata({'key': 'stats/pipeline_time', 'platform': 'server', 'write_ts': 1745352868.173748, 'time_zone': 'America/Los_Angeles', 'write_local_dt': LocalDate({'year': 2025, 'month': 4, 'day': 22, 'hour': 13, 'minute': 14, 'second': 28, 'weekday': 1, 'timezone': 'America/Los_Angeles'}), 'write_fmt_time': '2025-04-22T13:14:28.173748-07:00'}), 'data': {'name': 'db_call/delete', 'ts': 1745352868.1737201, 'reading': \"['delete_many', '_del_entries_for_query', 'reset_user_to_start', '<module>']\"}}) into timeseries\n",
      "INFO:root:this is not a dry run, result of removing analysis objects = <pymongo.results.DeleteResult object at 0x1809d5cd0>\n",
      "DEBUG:root:insert called with entry of type <class 'emission.core.wrapper.entry.Entry'>\n",
      "DEBUG:root:entry was fine, no need to fix it\n",
      "DEBUG:root:Inserting entry Entry({'_id': ObjectId('6807f8a4dc8e1d84bba303da'), 'user_id': None, 'metadata': Metadata({'key': 'stats/pipeline_time', 'platform': 'server', 'write_ts': 1745352868.176796, 'time_zone': 'America/Los_Angeles', 'write_local_dt': LocalDate({'year': 2025, 'month': 4, 'day': 22, 'hour': 13, 'minute': 14, 'second': 28, 'weekday': 1, 'timezone': 'America/Los_Angeles'}), 'write_fmt_time': '2025-04-22T13:14:28.176796-07:00'}), 'data': {'name': 'db_call/delete', 'ts': 1745352868.176773, 'reading': \"['delete_many', '_del_entries_for_query', 'reset_user_to_start', '<module>']\"}}) into timeseries\n",
      "INFO:root:this is not a dry run, result of removing pipeline states = <pymongo.results.DeleteResult object at 0x1809d5970>\n",
      "Config file not found, returning a copy of the environment variables instead...\n",
      "Retrieved config: {'DB_HOST': None, 'DB_RESULT_LIMIT': '5000000', 'USE_HINTS': 'True', 'MONITOR_DB': 'True'}\n",
      "Registering DB query monitor\n",
      "URL not formatted, defaulting to \"Stage_database\"\n",
      "Connecting to database URL localhost\n",
      "Trying to open debug.conf.json\n",
      "analysis.debug.conf.json not configured, falling back to sample, default configuration\n",
      "INFO:root:NOMINATIM_QUERY_URL: None\n",
      "Nominatim Query URL Configured: None\n",
      "Nominatim URL not configured, place decoding must happen on the client\n",
      "overpass not configured, falling back to public overpass api\n",
      "transit stops query not configured, falling back to default\n",
      "The Zen of Python, by Tim Peters\n",
      "\n",
      "Beautiful is better than ugly.\n",
      "Explicit is better than implicit.\n",
      "Simple is better than complex.\n",
      "Complex is better than complicated.\n",
      "Flat is better than nested.\n",
      "Sparse is better than dense.\n",
      "Readability counts.\n",
      "Special cases aren't special enough to break the rules.\n",
      "Although practicality beats purity.\n",
      "Errors should never pass silently.\n",
      "Unless explicitly silenced.\n",
      "In the face of ambiguity, refuse the temptation to guess.\n",
      "There should be one-- and preferably only one --obvious way to do it.\n",
      "Although that way may not be obvious at first unless you're Dutch.\n",
      "Now is better than never.\n",
      "Although never is often better than *right* now.\n",
      "If the implementation is hard to explain, it's a bad idea.\n",
      "If the implementation is easy to explain, it may be a good idea.\n",
      "Namespaces are one honking great idea -- let's do more of those!\n",
      "analysis.trip_model.conf.json not configured, falling back to sample, default configuration\n",
      "expectations.conf.json not configured, falling back to sample, default configuration\n",
      "ERROR:root:habitica not configured, game functions not supported\n",
      "Traceback (most recent call last):\n",
      "  File \"/Users/rsimpson/e-mission-server/emission/net/ext_service/habitica/proxy.py\", line 22, in <module>\n",
      "    key_file = open('conf/net/ext_service/habitica.json')\n",
      "FileNotFoundError: [Errno 2] No such file or directory: 'conf/net/ext_service/habitica.json'\n",
      "DEBUG:root:insert called with entry of type <class 'emission.core.wrapper.entry.Entry'>\n",
      "DEBUG:root:entry was fine, no need to fix it\n",
      "DEBUG:root:Inserting entry Entry({'_id': ObjectId('6807f8a7c20445bff98db81d'), 'user_id': None, 'metadata': Metadata({'key': 'stats/pipeline_time', 'platform': 'server', 'write_ts': 1745352871.030872, 'time_zone': 'America/Los_Angeles', 'write_local_dt': LocalDate({'year': 2025, 'month': 4, 'day': 22, 'hour': 13, 'minute': 14, 'second': 31, 'weekday': 1, 'timezone': 'America/Los_Angeles'}), 'write_fmt_time': '2025-04-22T13:14:31.030872-07:00'}), 'data': {'name': 'db_call/find', 'ts': 1745352871.030818, 'reading': \"['find_one', 'fromEmail', '<module>']\"}}) into timeseries\n",
      "For uuid=UUID('774a4944-f086-40b0-b64f-9cd5ddb60eb9'), last location entry is at 1970-01-01T00:00:00+00:00(0.0), pipeline has run until 1970-01-01T00:00:00+00:00(0.0), difference = 0:00:00(0.0), skipping\n",
      "Ran pipeline on Numpyzation from 1745352866.4476 to 1745352871.6928399\n",
      "Switching back to Numpyzation\n",
      "Already on 'Numpyzation'\n",
      "Your branch is up to date with 'fork/Numpyzation'.\n"
     ]
    }
   ],
   "source": [
    "if REAL_EXAMPLES:\n",
    "    print(f\"Loading {REAL_EXAMPLES} for {OPCODE}\")\n",
    "    !./e-mission-py.bash bin/debug/purge_user.py -e $OPCODE\n",
    "    for DAY in REAL_EXAMPLES:\n",
    "        !./e-mission-py.bash bin/debug/load_timeline_for_day_and_user.py emission/tests/data/real_examples/$DAY $OPCODE\n",
    "\n",
    "def run_intake_on_branch(branch_name, intake_stat_name):\n",
    "    curr_branch_name_name = subprocess.check_output(['git', 'rev-parse', '--abbrev-ref', 'HEAD']).decode('utf-8').strip()\n",
    "    print(f\"Checking out {branch_name} to measure pipeline runtime\")\n",
    "    !git checkout $branch_name\n",
    "    with ect.Timer() as t:\n",
    "        if OPCODE:\n",
    "            !./e-mission-py.bash ./bin/reset_pipeline.py -e $OPCODE\n",
    "            !./e-mission-py.bash bin/debug/intake_single_user.py -e $OPCODE\n",
    "        else:\n",
    "            !./e-mission-py.bash ./bin/reset_pipeline.py --all\n",
    "            !./e-mission-py.bash bin/intake_multiprocess.py 3\n",
    "    assert t.elapsed > 1\n",
    "    end_ts = time.time()\n",
    "    start_ts = end_ts - t.elapsed\n",
    "    esds.store_pipeline_time(ecwu.User.fromEmail(OPCODE).uuid if OPCODE else None,\n",
    "                             intake_stat_name,\n",
    "                             end_ts,\n",
    "                             t.elapsed)\n",
    "    print(f\"Ran pipeline on {branch_name} from {start_ts} to {end_ts}\")\n",
    "    print(f\"Switching back to {curr_branch_name_name}\")\n",
    "    !git checkout $curr_branch_name_name\n",
    "    return (start_ts, end_ts)\n",
    "\n",
    "ts = esta.TimeSeries.get_aggregate_time_series()\n",
    "\n",
    "pipeline_stats_dfs = []\n",
    "if USE_REAL_DATA and HISTORICAL_DAYS:\n",
    "    for (START_DAY, END_DAY) in HISTORICAL_DAYS:\n",
    "        start_ts = datetime.datetime.strptime(START_DAY, '%Y-%m-%d').timestamp()\n",
    "        end_ts = datetime.datetime.strptime(END_DAY, '%Y-%m-%d').timestamp()\n",
    "        tq = estt.TimeQuery('data.ts', start_ts, end_ts)\n",
    "        df = ts.get_data_df('stats/pipeline_time', time_query=tq).assign(branch=f'{START_DAY} to {END_DAY}')\n",
    "        pipeline_stats_dfs.append(df)\n",
    "else:\n",
    "    for branch_name in BRANCHES:\n",
    "        commit_hash = subprocess.check_output(['git', 'rev-parse', branch_name]).decode('utf-8').strip()\n",
    "        intake_stat_name = f'INTAKE/{commit_hash}/{DB_NAME}/{OPCODE or \"all\"}'\n",
    "        intake_stats = list(edb.get_timeseries_db().find({ 'data.name': intake_stat_name }).sort('_id', -1).limit(1))\n",
    "        if USE_OLD_PIPELINE_RUNS and intake_stats:\n",
    "            start_ts = intake_stats[0]['data']['ts'] - intake_stats[0]['data']['reading']\n",
    "            end_ts = intake_stats[0]['data']['ts']\n",
    "            print(f\"Using previous pipeline run on {branch_name}: at commit {commit_hash}, from {start_ts} to {end_ts}\")\n",
    "        else:\n",
    "            (start_ts, end_ts) = run_intake_on_branch(branch_name, intake_stat_name)\n",
    "        tq = estt.TimeQuery('data.ts', start_ts, end_ts)\n",
    "        df = ts.get_data_df('stats/pipeline_time', time_query=tq).assign(branch=branch_name)\n",
    "        pipeline_stats_dfs.append(df)\n",
    "\n",
    "pipeline_stats_df = pd.concat(pipeline_stats_dfs).reset_index(drop=True)\n",
    "pipeline_stages_df = pipeline_stats_df[pipeline_stats_df['name'].isin(STAGES.keys())]\n",
    "\n",
    "def get_stage(row):\n",
    "    for stage, fn_name in STAGES.items():\n",
    "        if row['name'].startswith(stage):\n",
    "            return stage\n",
    "        if isinstance(row['reading'], str) and fn_name in row['reading']:\n",
    "            return stage\n",
    "    return None\n",
    "pipeline_stats_df['stage'] = pipeline_stats_df.apply(get_stage, axis=1)"
   ]
  },
  {
   "cell_type": "code",
   "execution_count": 5,
   "metadata": {},
   "outputs": [],
   "source": [
    "def plot_runtimes(df, color='branch', pattern_shape=None, x='reading', y='name', barmode='group', title='Pipeline runtimes'):\n",
    "    if df.empty: return print(f'No {title}')\n",
    "    \n",
    "    df['user_id'] = df['user_id'].astype(str)\n",
    "    fig = px.bar(\n",
    "        df,\n",
    "        y=y,\n",
    "        x=x,\n",
    "        color=color,\n",
    "        orientation=\"h\",\n",
    "        hover_data=['user_id']\n",
    "    )\n",
    "    fig.update_layout(\n",
    "        title=f\"{title}<br>({REAL_EXAMPLES or DB_NAME})\",\n",
    "        barmode=barmode,\n",
    "        legend=dict(yref=\"container\", xanchor=\"right\", x=1, y=0),\n",
    "    )\n",
    "    fig.show()\n",
    "\n",
    "\n",
    "def plot_db_calls_by_stage(db_calls_df, title='DB calls'):\n",
    "    if db_calls_df.empty: return print(f'No {title}')\n",
    "    \n",
    "    db_calls_counts_df = db_calls_df.groupby(['stage', 'name', 'reading'])['branch'].value_counts(sort=False).reset_index(name='count')\n",
    "    # display(db_calls_counts_df.sort_values(['count'], ascending=False))\n",
    "    db_calls_counts_df['reading_wrapped'] = db_calls_counts_df['reading'].str.replace(',', '<br>')\n",
    "    fig = px.bar(\n",
    "        db_calls_counts_df,\n",
    "        y='stage',\n",
    "        x='count',\n",
    "        color='branch',\n",
    "        orientation=\"h\",\n",
    "        hover_data=['name', 'reading_wrapped'],\n",
    "    )\n",
    "    fig.update_layout(\n",
    "        title=f\"{title}<br>({REAL_EXAMPLES or DB_NAME})\",\n",
    "        barmode='group',\n",
    "        xaxis=dict(title=\"# DB calls\"),\n",
    "        legend=dict(yref=\"container\", xanchor=\"right\", x=1, y=0),\n",
    "    )\n",
    "    fig.show()\n",
    "    return db_calls_counts_df\n",
    "\n",
    "\n",
    "def plot_db_calls_by_name(db_calls_df, title='DB calls'):\n",
    "    if db_calls_df.empty: return print(f'No {title}')\n",
    "\n",
    "    db_calls_counts_df = db_calls_df.groupby(['name', 'reading'])['branch'].value_counts(sort=False).reset_index(name='count')\n",
    "    db_calls_counts_df['reading_wrapped'] = db_calls_counts_df['reading'].str.replace(',', '<br>')\n",
    "    fig = px.bar(\n",
    "        db_calls_counts_df,\n",
    "        y='name',\n",
    "        x='count',\n",
    "        color='branch',\n",
    "        orientation=\"h\",\n",
    "        hover_data=['reading_wrapped'],\n",
    "    )\n",
    "    fig.update_layout(\n",
    "        title=f\"{title}<br>({REAL_EXAMPLES or DB_NAME})\",\n",
    "        barmode='group',\n",
    "        xaxis=dict(title=\"# DB calls\"),\n",
    "        legend=dict(yref=\"container\", xanchor=\"right\", x=1, y=0),\n",
    "    )\n",
    "    fig.show()\n",
    "    return db_calls_counts_df"
   ]
  },
  {
   "cell_type": "code",
   "execution_count": 6,
   "metadata": {},
   "outputs": [
    {
     "name": "stdout",
     "output_type": "stream",
     "text": [
      "No Pipeline runtimes, overall\n",
      "No Pipeline runtimes by stage\n"
     ]
    },
    {
     "data": {
      "application/vnd.plotly.v1+json": {
       "config": {
        "plotlyServerURL": "https://plot.ly"
       },
       "data": [
        {
         "customdata": [
          [
           "['_del_entries_for_query'<br> 'reset_user_to_start'<br> '<module>']"
          ],
          [
           "['<module>']"
          ],
          [
           "['_del_entries_for_query'<br> 'reset_user_to_start'<br> '<module>']"
          ],
          [
           "['reset_user_to_start'<br> '<module>']"
          ],
          [
           "['delete_many'<br> '_del_entries_for_query'<br> 'reset_user_to_start'<br> '<module>']"
          ],
          [
           "['_del_entries_for_query'<br> 'reset_user_to_start'<br> '<module>']"
          ],
          [
           "['find_one'<br> 'fromEmail'<br> '<listcomp>'<br> '_email_2_user_list'<br> '_get_user_list'<br> '<module>']"
          ],
          [
           "['find_one'<br> 'fromEmail'<br> '<module>']"
          ],
          [
           "['find_one'<br> 'run_intake_pipeline_for_user'<br> 'run_intake_pipeline'<br> '<module>']"
          ],
          [
           "['_create_analysis_result_indices'<br> 'get_analysis_timeseries_db'<br> '_del_entries_for_query'<br> 'reset_user_to_start'<br> '<module>']"
          ]
         ],
         "hovertemplate": "branch=Numpyzation<br>count=%{x}<br>name=%{y}<br>reading_wrapped=%{customdata[0]}<extra></extra>",
         "legendgroup": "Numpyzation",
         "marker": {
          "color": "#636efa",
          "pattern": {
           "shape": ""
          }
         },
         "name": "Numpyzation",
         "orientation": "h",
         "showlegend": true,
         "textposition": "auto",
         "type": "bar",
         "x": {
          "bdata": "AgNpKgIBAQEBDA==",
          "dtype": "i1"
         },
         "xaxis": "x",
         "y": [
          "db_call/aggregate",
          "db_call/createIndexes",
          "db_call/createIndexes",
          "db_call/createIndexes",
          "db_call/delete",
          "db_call/distinct",
          "db_call/find",
          "db_call/find",
          "db_call/find",
          "db_call/listIndexes"
         ],
         "yaxis": "y"
        }
       ],
       "layout": {
        "barmode": "group",
        "legend": {
         "title": {
          "text": "branch"
         },
         "tracegroupgap": 0,
         "x": 1,
         "xanchor": "right",
         "y": 0,
         "yref": "container"
        },
        "margin": {
         "t": 60
        },
        "template": {
         "data": {
          "bar": [
           {
            "error_x": {
             "color": "#2a3f5f"
            },
            "error_y": {
             "color": "#2a3f5f"
            },
            "marker": {
             "line": {
              "color": "#E5ECF6",
              "width": 0.5
             },
             "pattern": {
              "fillmode": "overlay",
              "size": 10,
              "solidity": 0.2
             }
            },
            "type": "bar"
           }
          ],
          "barpolar": [
           {
            "marker": {
             "line": {
              "color": "#E5ECF6",
              "width": 0.5
             },
             "pattern": {
              "fillmode": "overlay",
              "size": 10,
              "solidity": 0.2
             }
            },
            "type": "barpolar"
           }
          ],
          "carpet": [
           {
            "aaxis": {
             "endlinecolor": "#2a3f5f",
             "gridcolor": "white",
             "linecolor": "white",
             "minorgridcolor": "white",
             "startlinecolor": "#2a3f5f"
            },
            "baxis": {
             "endlinecolor": "#2a3f5f",
             "gridcolor": "white",
             "linecolor": "white",
             "minorgridcolor": "white",
             "startlinecolor": "#2a3f5f"
            },
            "type": "carpet"
           }
          ],
          "choropleth": [
           {
            "colorbar": {
             "outlinewidth": 0,
             "ticks": ""
            },
            "type": "choropleth"
           }
          ],
          "contour": [
           {
            "colorbar": {
             "outlinewidth": 0,
             "ticks": ""
            },
            "colorscale": [
             [
              0,
              "#0d0887"
             ],
             [
              0.1111111111111111,
              "#46039f"
             ],
             [
              0.2222222222222222,
              "#7201a8"
             ],
             [
              0.3333333333333333,
              "#9c179e"
             ],
             [
              0.4444444444444444,
              "#bd3786"
             ],
             [
              0.5555555555555556,
              "#d8576b"
             ],
             [
              0.6666666666666666,
              "#ed7953"
             ],
             [
              0.7777777777777778,
              "#fb9f3a"
             ],
             [
              0.8888888888888888,
              "#fdca26"
             ],
             [
              1,
              "#f0f921"
             ]
            ],
            "type": "contour"
           }
          ],
          "contourcarpet": [
           {
            "colorbar": {
             "outlinewidth": 0,
             "ticks": ""
            },
            "type": "contourcarpet"
           }
          ],
          "heatmap": [
           {
            "colorbar": {
             "outlinewidth": 0,
             "ticks": ""
            },
            "colorscale": [
             [
              0,
              "#0d0887"
             ],
             [
              0.1111111111111111,
              "#46039f"
             ],
             [
              0.2222222222222222,
              "#7201a8"
             ],
             [
              0.3333333333333333,
              "#9c179e"
             ],
             [
              0.4444444444444444,
              "#bd3786"
             ],
             [
              0.5555555555555556,
              "#d8576b"
             ],
             [
              0.6666666666666666,
              "#ed7953"
             ],
             [
              0.7777777777777778,
              "#fb9f3a"
             ],
             [
              0.8888888888888888,
              "#fdca26"
             ],
             [
              1,
              "#f0f921"
             ]
            ],
            "type": "heatmap"
           }
          ],
          "histogram": [
           {
            "marker": {
             "pattern": {
              "fillmode": "overlay",
              "size": 10,
              "solidity": 0.2
             }
            },
            "type": "histogram"
           }
          ],
          "histogram2d": [
           {
            "colorbar": {
             "outlinewidth": 0,
             "ticks": ""
            },
            "colorscale": [
             [
              0,
              "#0d0887"
             ],
             [
              0.1111111111111111,
              "#46039f"
             ],
             [
              0.2222222222222222,
              "#7201a8"
             ],
             [
              0.3333333333333333,
              "#9c179e"
             ],
             [
              0.4444444444444444,
              "#bd3786"
             ],
             [
              0.5555555555555556,
              "#d8576b"
             ],
             [
              0.6666666666666666,
              "#ed7953"
             ],
             [
              0.7777777777777778,
              "#fb9f3a"
             ],
             [
              0.8888888888888888,
              "#fdca26"
             ],
             [
              1,
              "#f0f921"
             ]
            ],
            "type": "histogram2d"
           }
          ],
          "histogram2dcontour": [
           {
            "colorbar": {
             "outlinewidth": 0,
             "ticks": ""
            },
            "colorscale": [
             [
              0,
              "#0d0887"
             ],
             [
              0.1111111111111111,
              "#46039f"
             ],
             [
              0.2222222222222222,
              "#7201a8"
             ],
             [
              0.3333333333333333,
              "#9c179e"
             ],
             [
              0.4444444444444444,
              "#bd3786"
             ],
             [
              0.5555555555555556,
              "#d8576b"
             ],
             [
              0.6666666666666666,
              "#ed7953"
             ],
             [
              0.7777777777777778,
              "#fb9f3a"
             ],
             [
              0.8888888888888888,
              "#fdca26"
             ],
             [
              1,
              "#f0f921"
             ]
            ],
            "type": "histogram2dcontour"
           }
          ],
          "mesh3d": [
           {
            "colorbar": {
             "outlinewidth": 0,
             "ticks": ""
            },
            "type": "mesh3d"
           }
          ],
          "parcoords": [
           {
            "line": {
             "colorbar": {
              "outlinewidth": 0,
              "ticks": ""
             }
            },
            "type": "parcoords"
           }
          ],
          "pie": [
           {
            "automargin": true,
            "type": "pie"
           }
          ],
          "scatter": [
           {
            "fillpattern": {
             "fillmode": "overlay",
             "size": 10,
             "solidity": 0.2
            },
            "type": "scatter"
           }
          ],
          "scatter3d": [
           {
            "line": {
             "colorbar": {
              "outlinewidth": 0,
              "ticks": ""
             }
            },
            "marker": {
             "colorbar": {
              "outlinewidth": 0,
              "ticks": ""
             }
            },
            "type": "scatter3d"
           }
          ],
          "scattercarpet": [
           {
            "marker": {
             "colorbar": {
              "outlinewidth": 0,
              "ticks": ""
             }
            },
            "type": "scattercarpet"
           }
          ],
          "scattergeo": [
           {
            "marker": {
             "colorbar": {
              "outlinewidth": 0,
              "ticks": ""
             }
            },
            "type": "scattergeo"
           }
          ],
          "scattergl": [
           {
            "marker": {
             "colorbar": {
              "outlinewidth": 0,
              "ticks": ""
             }
            },
            "type": "scattergl"
           }
          ],
          "scattermap": [
           {
            "marker": {
             "colorbar": {
              "outlinewidth": 0,
              "ticks": ""
             }
            },
            "type": "scattermap"
           }
          ],
          "scattermapbox": [
           {
            "marker": {
             "colorbar": {
              "outlinewidth": 0,
              "ticks": ""
             }
            },
            "type": "scattermapbox"
           }
          ],
          "scatterpolar": [
           {
            "marker": {
             "colorbar": {
              "outlinewidth": 0,
              "ticks": ""
             }
            },
            "type": "scatterpolar"
           }
          ],
          "scatterpolargl": [
           {
            "marker": {
             "colorbar": {
              "outlinewidth": 0,
              "ticks": ""
             }
            },
            "type": "scatterpolargl"
           }
          ],
          "scatterternary": [
           {
            "marker": {
             "colorbar": {
              "outlinewidth": 0,
              "ticks": ""
             }
            },
            "type": "scatterternary"
           }
          ],
          "surface": [
           {
            "colorbar": {
             "outlinewidth": 0,
             "ticks": ""
            },
            "colorscale": [
             [
              0,
              "#0d0887"
             ],
             [
              0.1111111111111111,
              "#46039f"
             ],
             [
              0.2222222222222222,
              "#7201a8"
             ],
             [
              0.3333333333333333,
              "#9c179e"
             ],
             [
              0.4444444444444444,
              "#bd3786"
             ],
             [
              0.5555555555555556,
              "#d8576b"
             ],
             [
              0.6666666666666666,
              "#ed7953"
             ],
             [
              0.7777777777777778,
              "#fb9f3a"
             ],
             [
              0.8888888888888888,
              "#fdca26"
             ],
             [
              1,
              "#f0f921"
             ]
            ],
            "type": "surface"
           }
          ],
          "table": [
           {
            "cells": {
             "fill": {
              "color": "#EBF0F8"
             },
             "line": {
              "color": "white"
             }
            },
            "header": {
             "fill": {
              "color": "#C8D4E3"
             },
             "line": {
              "color": "white"
             }
            },
            "type": "table"
           }
          ]
         },
         "layout": {
          "annotationdefaults": {
           "arrowcolor": "#2a3f5f",
           "arrowhead": 0,
           "arrowwidth": 1
          },
          "autotypenumbers": "strict",
          "coloraxis": {
           "colorbar": {
            "outlinewidth": 0,
            "ticks": ""
           }
          },
          "colorscale": {
           "diverging": [
            [
             0,
             "#8e0152"
            ],
            [
             0.1,
             "#c51b7d"
            ],
            [
             0.2,
             "#de77ae"
            ],
            [
             0.3,
             "#f1b6da"
            ],
            [
             0.4,
             "#fde0ef"
            ],
            [
             0.5,
             "#f7f7f7"
            ],
            [
             0.6,
             "#e6f5d0"
            ],
            [
             0.7,
             "#b8e186"
            ],
            [
             0.8,
             "#7fbc41"
            ],
            [
             0.9,
             "#4d9221"
            ],
            [
             1,
             "#276419"
            ]
           ],
           "sequential": [
            [
             0,
             "#0d0887"
            ],
            [
             0.1111111111111111,
             "#46039f"
            ],
            [
             0.2222222222222222,
             "#7201a8"
            ],
            [
             0.3333333333333333,
             "#9c179e"
            ],
            [
             0.4444444444444444,
             "#bd3786"
            ],
            [
             0.5555555555555556,
             "#d8576b"
            ],
            [
             0.6666666666666666,
             "#ed7953"
            ],
            [
             0.7777777777777778,
             "#fb9f3a"
            ],
            [
             0.8888888888888888,
             "#fdca26"
            ],
            [
             1,
             "#f0f921"
            ]
           ],
           "sequentialminus": [
            [
             0,
             "#0d0887"
            ],
            [
             0.1111111111111111,
             "#46039f"
            ],
            [
             0.2222222222222222,
             "#7201a8"
            ],
            [
             0.3333333333333333,
             "#9c179e"
            ],
            [
             0.4444444444444444,
             "#bd3786"
            ],
            [
             0.5555555555555556,
             "#d8576b"
            ],
            [
             0.6666666666666666,
             "#ed7953"
            ],
            [
             0.7777777777777778,
             "#fb9f3a"
            ],
            [
             0.8888888888888888,
             "#fdca26"
            ],
            [
             1,
             "#f0f921"
            ]
           ]
          },
          "colorway": [
           "#636efa",
           "#EF553B",
           "#00cc96",
           "#ab63fa",
           "#FFA15A",
           "#19d3f3",
           "#FF6692",
           "#B6E880",
           "#FF97FF",
           "#FECB52"
          ],
          "font": {
           "color": "#2a3f5f"
          },
          "geo": {
           "bgcolor": "white",
           "lakecolor": "white",
           "landcolor": "#E5ECF6",
           "showlakes": true,
           "showland": true,
           "subunitcolor": "white"
          },
          "hoverlabel": {
           "align": "left"
          },
          "hovermode": "closest",
          "mapbox": {
           "style": "light"
          },
          "paper_bgcolor": "white",
          "plot_bgcolor": "#E5ECF6",
          "polar": {
           "angularaxis": {
            "gridcolor": "white",
            "linecolor": "white",
            "ticks": ""
           },
           "bgcolor": "#E5ECF6",
           "radialaxis": {
            "gridcolor": "white",
            "linecolor": "white",
            "ticks": ""
           }
          },
          "scene": {
           "xaxis": {
            "backgroundcolor": "#E5ECF6",
            "gridcolor": "white",
            "gridwidth": 2,
            "linecolor": "white",
            "showbackground": true,
            "ticks": "",
            "zerolinecolor": "white"
           },
           "yaxis": {
            "backgroundcolor": "#E5ECF6",
            "gridcolor": "white",
            "gridwidth": 2,
            "linecolor": "white",
            "showbackground": true,
            "ticks": "",
            "zerolinecolor": "white"
           },
           "zaxis": {
            "backgroundcolor": "#E5ECF6",
            "gridcolor": "white",
            "gridwidth": 2,
            "linecolor": "white",
            "showbackground": true,
            "ticks": "",
            "zerolinecolor": "white"
           }
          },
          "shapedefaults": {
           "line": {
            "color": "#2a3f5f"
           }
          },
          "ternary": {
           "aaxis": {
            "gridcolor": "white",
            "linecolor": "white",
            "ticks": ""
           },
           "baxis": {
            "gridcolor": "white",
            "linecolor": "white",
            "ticks": ""
           },
           "bgcolor": "#E5ECF6",
           "caxis": {
            "gridcolor": "white",
            "linecolor": "white",
            "ticks": ""
           }
          },
          "title": {
           "x": 0.05
          },
          "xaxis": {
           "automargin": true,
           "gridcolor": "white",
           "linecolor": "white",
           "ticks": "",
           "title": {
            "standoff": 15
           },
           "zerolinecolor": "white",
           "zerolinewidth": 2
          },
          "yaxis": {
           "automargin": true,
           "gridcolor": "white",
           "linecolor": "white",
           "ticks": "",
           "title": {
            "standoff": 15
           },
           "zerolinecolor": "white",
           "zerolinewidth": 2
          }
         }
        },
        "title": {
         "text": "DB calls during pipeline (all types)<br>(['shankari_2016-07-27'])"
        },
        "xaxis": {
         "anchor": "y",
         "domain": [
          0,
          1
         ],
         "title": {
          "text": "# DB calls"
         }
        },
        "yaxis": {
         "anchor": "x",
         "domain": [
          0,
          1
         ],
         "title": {
          "text": "name"
         }
        }
       }
      }
     },
     "metadata": {},
     "output_type": "display_data"
    },
    {
     "data": {
      "text/html": [
       "<div>\n",
       "<style scoped>\n",
       "    .dataframe tbody tr th:only-of-type {\n",
       "        vertical-align: middle;\n",
       "    }\n",
       "\n",
       "    .dataframe tbody tr th {\n",
       "        vertical-align: top;\n",
       "    }\n",
       "\n",
       "    .dataframe thead th {\n",
       "        text-align: right;\n",
       "    }\n",
       "</style>\n",
       "<table border=\"1\" class=\"dataframe\">\n",
       "  <thead>\n",
       "    <tr style=\"text-align: right;\">\n",
       "      <th></th>\n",
       "      <th>reading</th>\n",
       "      <th>count</th>\n",
       "    </tr>\n",
       "  </thead>\n",
       "  <tbody>\n",
       "  </tbody>\n",
       "</table>\n",
       "</div>"
      ],
      "text/plain": [
       "Empty DataFrame\n",
       "Columns: [reading, count]\n",
       "Index: []"
      ]
     },
     "metadata": {},
     "output_type": "display_data"
    },
    {
     "data": {
      "application/vnd.plotly.v1+json": {
       "config": {
        "plotlyServerURL": "https://plot.ly"
       },
       "data": [],
       "layout": {
        "barmode": "group",
        "legend": {
         "tracegroupgap": 0,
         "x": 1,
         "xanchor": "right",
         "y": 0,
         "yref": "container"
        },
        "margin": {
         "t": 60
        },
        "template": {
         "data": {
          "bar": [
           {
            "error_x": {
             "color": "#2a3f5f"
            },
            "error_y": {
             "color": "#2a3f5f"
            },
            "marker": {
             "line": {
              "color": "#E5ECF6",
              "width": 0.5
             },
             "pattern": {
              "fillmode": "overlay",
              "size": 10,
              "solidity": 0.2
             }
            },
            "type": "bar"
           }
          ],
          "barpolar": [
           {
            "marker": {
             "line": {
              "color": "#E5ECF6",
              "width": 0.5
             },
             "pattern": {
              "fillmode": "overlay",
              "size": 10,
              "solidity": 0.2
             }
            },
            "type": "barpolar"
           }
          ],
          "carpet": [
           {
            "aaxis": {
             "endlinecolor": "#2a3f5f",
             "gridcolor": "white",
             "linecolor": "white",
             "minorgridcolor": "white",
             "startlinecolor": "#2a3f5f"
            },
            "baxis": {
             "endlinecolor": "#2a3f5f",
             "gridcolor": "white",
             "linecolor": "white",
             "minorgridcolor": "white",
             "startlinecolor": "#2a3f5f"
            },
            "type": "carpet"
           }
          ],
          "choropleth": [
           {
            "colorbar": {
             "outlinewidth": 0,
             "ticks": ""
            },
            "type": "choropleth"
           }
          ],
          "contour": [
           {
            "colorbar": {
             "outlinewidth": 0,
             "ticks": ""
            },
            "colorscale": [
             [
              0,
              "#0d0887"
             ],
             [
              0.1111111111111111,
              "#46039f"
             ],
             [
              0.2222222222222222,
              "#7201a8"
             ],
             [
              0.3333333333333333,
              "#9c179e"
             ],
             [
              0.4444444444444444,
              "#bd3786"
             ],
             [
              0.5555555555555556,
              "#d8576b"
             ],
             [
              0.6666666666666666,
              "#ed7953"
             ],
             [
              0.7777777777777778,
              "#fb9f3a"
             ],
             [
              0.8888888888888888,
              "#fdca26"
             ],
             [
              1,
              "#f0f921"
             ]
            ],
            "type": "contour"
           }
          ],
          "contourcarpet": [
           {
            "colorbar": {
             "outlinewidth": 0,
             "ticks": ""
            },
            "type": "contourcarpet"
           }
          ],
          "heatmap": [
           {
            "colorbar": {
             "outlinewidth": 0,
             "ticks": ""
            },
            "colorscale": [
             [
              0,
              "#0d0887"
             ],
             [
              0.1111111111111111,
              "#46039f"
             ],
             [
              0.2222222222222222,
              "#7201a8"
             ],
             [
              0.3333333333333333,
              "#9c179e"
             ],
             [
              0.4444444444444444,
              "#bd3786"
             ],
             [
              0.5555555555555556,
              "#d8576b"
             ],
             [
              0.6666666666666666,
              "#ed7953"
             ],
             [
              0.7777777777777778,
              "#fb9f3a"
             ],
             [
              0.8888888888888888,
              "#fdca26"
             ],
             [
              1,
              "#f0f921"
             ]
            ],
            "type": "heatmap"
           }
          ],
          "histogram": [
           {
            "marker": {
             "pattern": {
              "fillmode": "overlay",
              "size": 10,
              "solidity": 0.2
             }
            },
            "type": "histogram"
           }
          ],
          "histogram2d": [
           {
            "colorbar": {
             "outlinewidth": 0,
             "ticks": ""
            },
            "colorscale": [
             [
              0,
              "#0d0887"
             ],
             [
              0.1111111111111111,
              "#46039f"
             ],
             [
              0.2222222222222222,
              "#7201a8"
             ],
             [
              0.3333333333333333,
              "#9c179e"
             ],
             [
              0.4444444444444444,
              "#bd3786"
             ],
             [
              0.5555555555555556,
              "#d8576b"
             ],
             [
              0.6666666666666666,
              "#ed7953"
             ],
             [
              0.7777777777777778,
              "#fb9f3a"
             ],
             [
              0.8888888888888888,
              "#fdca26"
             ],
             [
              1,
              "#f0f921"
             ]
            ],
            "type": "histogram2d"
           }
          ],
          "histogram2dcontour": [
           {
            "colorbar": {
             "outlinewidth": 0,
             "ticks": ""
            },
            "colorscale": [
             [
              0,
              "#0d0887"
             ],
             [
              0.1111111111111111,
              "#46039f"
             ],
             [
              0.2222222222222222,
              "#7201a8"
             ],
             [
              0.3333333333333333,
              "#9c179e"
             ],
             [
              0.4444444444444444,
              "#bd3786"
             ],
             [
              0.5555555555555556,
              "#d8576b"
             ],
             [
              0.6666666666666666,
              "#ed7953"
             ],
             [
              0.7777777777777778,
              "#fb9f3a"
             ],
             [
              0.8888888888888888,
              "#fdca26"
             ],
             [
              1,
              "#f0f921"
             ]
            ],
            "type": "histogram2dcontour"
           }
          ],
          "mesh3d": [
           {
            "colorbar": {
             "outlinewidth": 0,
             "ticks": ""
            },
            "type": "mesh3d"
           }
          ],
          "parcoords": [
           {
            "line": {
             "colorbar": {
              "outlinewidth": 0,
              "ticks": ""
             }
            },
            "type": "parcoords"
           }
          ],
          "pie": [
           {
            "automargin": true,
            "type": "pie"
           }
          ],
          "scatter": [
           {
            "fillpattern": {
             "fillmode": "overlay",
             "size": 10,
             "solidity": 0.2
            },
            "type": "scatter"
           }
          ],
          "scatter3d": [
           {
            "line": {
             "colorbar": {
              "outlinewidth": 0,
              "ticks": ""
             }
            },
            "marker": {
             "colorbar": {
              "outlinewidth": 0,
              "ticks": ""
             }
            },
            "type": "scatter3d"
           }
          ],
          "scattercarpet": [
           {
            "marker": {
             "colorbar": {
              "outlinewidth": 0,
              "ticks": ""
             }
            },
            "type": "scattercarpet"
           }
          ],
          "scattergeo": [
           {
            "marker": {
             "colorbar": {
              "outlinewidth": 0,
              "ticks": ""
             }
            },
            "type": "scattergeo"
           }
          ],
          "scattergl": [
           {
            "marker": {
             "colorbar": {
              "outlinewidth": 0,
              "ticks": ""
             }
            },
            "type": "scattergl"
           }
          ],
          "scattermap": [
           {
            "marker": {
             "colorbar": {
              "outlinewidth": 0,
              "ticks": ""
             }
            },
            "type": "scattermap"
           }
          ],
          "scattermapbox": [
           {
            "marker": {
             "colorbar": {
              "outlinewidth": 0,
              "ticks": ""
             }
            },
            "type": "scattermapbox"
           }
          ],
          "scatterpolar": [
           {
            "marker": {
             "colorbar": {
              "outlinewidth": 0,
              "ticks": ""
             }
            },
            "type": "scatterpolar"
           }
          ],
          "scatterpolargl": [
           {
            "marker": {
             "colorbar": {
              "outlinewidth": 0,
              "ticks": ""
             }
            },
            "type": "scatterpolargl"
           }
          ],
          "scatterternary": [
           {
            "marker": {
             "colorbar": {
              "outlinewidth": 0,
              "ticks": ""
             }
            },
            "type": "scatterternary"
           }
          ],
          "surface": [
           {
            "colorbar": {
             "outlinewidth": 0,
             "ticks": ""
            },
            "colorscale": [
             [
              0,
              "#0d0887"
             ],
             [
              0.1111111111111111,
              "#46039f"
             ],
             [
              0.2222222222222222,
              "#7201a8"
             ],
             [
              0.3333333333333333,
              "#9c179e"
             ],
             [
              0.4444444444444444,
              "#bd3786"
             ],
             [
              0.5555555555555556,
              "#d8576b"
             ],
             [
              0.6666666666666666,
              "#ed7953"
             ],
             [
              0.7777777777777778,
              "#fb9f3a"
             ],
             [
              0.8888888888888888,
              "#fdca26"
             ],
             [
              1,
              "#f0f921"
             ]
            ],
            "type": "surface"
           }
          ],
          "table": [
           {
            "cells": {
             "fill": {
              "color": "#EBF0F8"
             },
             "line": {
              "color": "white"
             }
            },
            "header": {
             "fill": {
              "color": "#C8D4E3"
             },
             "line": {
              "color": "white"
             }
            },
            "type": "table"
           }
          ]
         },
         "layout": {
          "annotationdefaults": {
           "arrowcolor": "#2a3f5f",
           "arrowhead": 0,
           "arrowwidth": 1
          },
          "autotypenumbers": "strict",
          "coloraxis": {
           "colorbar": {
            "outlinewidth": 0,
            "ticks": ""
           }
          },
          "colorscale": {
           "diverging": [
            [
             0,
             "#8e0152"
            ],
            [
             0.1,
             "#c51b7d"
            ],
            [
             0.2,
             "#de77ae"
            ],
            [
             0.3,
             "#f1b6da"
            ],
            [
             0.4,
             "#fde0ef"
            ],
            [
             0.5,
             "#f7f7f7"
            ],
            [
             0.6,
             "#e6f5d0"
            ],
            [
             0.7,
             "#b8e186"
            ],
            [
             0.8,
             "#7fbc41"
            ],
            [
             0.9,
             "#4d9221"
            ],
            [
             1,
             "#276419"
            ]
           ],
           "sequential": [
            [
             0,
             "#0d0887"
            ],
            [
             0.1111111111111111,
             "#46039f"
            ],
            [
             0.2222222222222222,
             "#7201a8"
            ],
            [
             0.3333333333333333,
             "#9c179e"
            ],
            [
             0.4444444444444444,
             "#bd3786"
            ],
            [
             0.5555555555555556,
             "#d8576b"
            ],
            [
             0.6666666666666666,
             "#ed7953"
            ],
            [
             0.7777777777777778,
             "#fb9f3a"
            ],
            [
             0.8888888888888888,
             "#fdca26"
            ],
            [
             1,
             "#f0f921"
            ]
           ],
           "sequentialminus": [
            [
             0,
             "#0d0887"
            ],
            [
             0.1111111111111111,
             "#46039f"
            ],
            [
             0.2222222222222222,
             "#7201a8"
            ],
            [
             0.3333333333333333,
             "#9c179e"
            ],
            [
             0.4444444444444444,
             "#bd3786"
            ],
            [
             0.5555555555555556,
             "#d8576b"
            ],
            [
             0.6666666666666666,
             "#ed7953"
            ],
            [
             0.7777777777777778,
             "#fb9f3a"
            ],
            [
             0.8888888888888888,
             "#fdca26"
            ],
            [
             1,
             "#f0f921"
            ]
           ]
          },
          "colorway": [
           "#636efa",
           "#EF553B",
           "#00cc96",
           "#ab63fa",
           "#FFA15A",
           "#19d3f3",
           "#FF6692",
           "#B6E880",
           "#FF97FF",
           "#FECB52"
          ],
          "font": {
           "color": "#2a3f5f"
          },
          "geo": {
           "bgcolor": "white",
           "lakecolor": "white",
           "landcolor": "#E5ECF6",
           "showlakes": true,
           "showland": true,
           "subunitcolor": "white"
          },
          "hoverlabel": {
           "align": "left"
          },
          "hovermode": "closest",
          "mapbox": {
           "style": "light"
          },
          "paper_bgcolor": "white",
          "plot_bgcolor": "#E5ECF6",
          "polar": {
           "angularaxis": {
            "gridcolor": "white",
            "linecolor": "white",
            "ticks": ""
           },
           "bgcolor": "#E5ECF6",
           "radialaxis": {
            "gridcolor": "white",
            "linecolor": "white",
            "ticks": ""
           }
          },
          "scene": {
           "xaxis": {
            "backgroundcolor": "#E5ECF6",
            "gridcolor": "white",
            "gridwidth": 2,
            "linecolor": "white",
            "showbackground": true,
            "ticks": "",
            "zerolinecolor": "white"
           },
           "yaxis": {
            "backgroundcolor": "#E5ECF6",
            "gridcolor": "white",
            "gridwidth": 2,
            "linecolor": "white",
            "showbackground": true,
            "ticks": "",
            "zerolinecolor": "white"
           },
           "zaxis": {
            "backgroundcolor": "#E5ECF6",
            "gridcolor": "white",
            "gridwidth": 2,
            "linecolor": "white",
            "showbackground": true,
            "ticks": "",
            "zerolinecolor": "white"
           }
          },
          "shapedefaults": {
           "line": {
            "color": "#2a3f5f"
           }
          },
          "ternary": {
           "aaxis": {
            "gridcolor": "white",
            "linecolor": "white",
            "ticks": ""
           },
           "baxis": {
            "gridcolor": "white",
            "linecolor": "white",
            "ticks": ""
           },
           "bgcolor": "#E5ECF6",
           "caxis": {
            "gridcolor": "white",
            "linecolor": "white",
            "ticks": ""
           }
          },
          "title": {
           "x": 0.05
          },
          "xaxis": {
           "automargin": true,
           "gridcolor": "white",
           "linecolor": "white",
           "ticks": "",
           "title": {
            "standoff": 15
           },
           "zerolinecolor": "white",
           "zerolinewidth": 2
          },
          "yaxis": {
           "automargin": true,
           "gridcolor": "white",
           "linecolor": "white",
           "ticks": "",
           "title": {
            "standoff": 15
           },
           "zerolinecolor": "white",
           "zerolinewidth": 2
          }
         }
        },
        "title": {
         "text": "DB calls during pipeline by stage (all types)<br>(['shankari_2016-07-27'])"
        },
        "xaxis": {
         "anchor": "y",
         "domain": [
          0,
          1
         ],
         "title": {
          "text": "# DB calls"
         }
        },
        "yaxis": {
         "anchor": "x",
         "domain": [
          0,
          1
         ],
         "title": {
          "text": "stage"
         }
        }
       }
      }
     },
     "metadata": {},
     "output_type": "display_data"
    },
    {
     "data": {
      "application/vnd.plotly.v1+json": {
       "config": {
        "plotlyServerURL": "https://plot.ly"
       },
       "data": [
        {
         "customdata": [
          [
           "['_del_entries_for_query'<br> 'reset_user_to_start'<br> '<module>']"
          ],
          [
           "['delete_many'<br> '_del_entries_for_query'<br> 'reset_user_to_start'<br> '<module>']"
          ],
          [
           "['find_one'<br> 'fromEmail'<br> '<listcomp>'<br> '_email_2_user_list'<br> '_get_user_list'<br> '<module>']"
          ],
          [
           "['find_one'<br> 'fromEmail'<br> '<module>']"
          ],
          [
           "['find_one'<br> 'run_intake_pipeline_for_user'<br> 'run_intake_pipeline'<br> '<module>']"
          ]
         ],
         "hovertemplate": "branch=Numpyzation<br>count=%{x}<br>name=%{y}<br>reading_wrapped=%{customdata[0]}<extra></extra>",
         "legendgroup": "Numpyzation",
         "marker": {
          "color": "#636efa",
          "pattern": {
           "shape": ""
          }
         },
         "name": "Numpyzation",
         "orientation": "h",
         "showlegend": true,
         "textposition": "auto",
         "type": "bar",
         "x": {
          "bdata": "AgIBAQE=",
          "dtype": "i1"
         },
         "xaxis": "x",
         "y": [
          "db_call/aggregate",
          "db_call/delete",
          "db_call/find",
          "db_call/find",
          "db_call/find"
         ],
         "yaxis": "y"
        }
       ],
       "layout": {
        "barmode": "group",
        "legend": {
         "title": {
          "text": "branch"
         },
         "tracegroupgap": 0,
         "x": 1,
         "xanchor": "right",
         "y": 0,
         "yref": "container"
        },
        "margin": {
         "t": 60
        },
        "template": {
         "data": {
          "bar": [
           {
            "error_x": {
             "color": "#2a3f5f"
            },
            "error_y": {
             "color": "#2a3f5f"
            },
            "marker": {
             "line": {
              "color": "#E5ECF6",
              "width": 0.5
             },
             "pattern": {
              "fillmode": "overlay",
              "size": 10,
              "solidity": 0.2
             }
            },
            "type": "bar"
           }
          ],
          "barpolar": [
           {
            "marker": {
             "line": {
              "color": "#E5ECF6",
              "width": 0.5
             },
             "pattern": {
              "fillmode": "overlay",
              "size": 10,
              "solidity": 0.2
             }
            },
            "type": "barpolar"
           }
          ],
          "carpet": [
           {
            "aaxis": {
             "endlinecolor": "#2a3f5f",
             "gridcolor": "white",
             "linecolor": "white",
             "minorgridcolor": "white",
             "startlinecolor": "#2a3f5f"
            },
            "baxis": {
             "endlinecolor": "#2a3f5f",
             "gridcolor": "white",
             "linecolor": "white",
             "minorgridcolor": "white",
             "startlinecolor": "#2a3f5f"
            },
            "type": "carpet"
           }
          ],
          "choropleth": [
           {
            "colorbar": {
             "outlinewidth": 0,
             "ticks": ""
            },
            "type": "choropleth"
           }
          ],
          "contour": [
           {
            "colorbar": {
             "outlinewidth": 0,
             "ticks": ""
            },
            "colorscale": [
             [
              0,
              "#0d0887"
             ],
             [
              0.1111111111111111,
              "#46039f"
             ],
             [
              0.2222222222222222,
              "#7201a8"
             ],
             [
              0.3333333333333333,
              "#9c179e"
             ],
             [
              0.4444444444444444,
              "#bd3786"
             ],
             [
              0.5555555555555556,
              "#d8576b"
             ],
             [
              0.6666666666666666,
              "#ed7953"
             ],
             [
              0.7777777777777778,
              "#fb9f3a"
             ],
             [
              0.8888888888888888,
              "#fdca26"
             ],
             [
              1,
              "#f0f921"
             ]
            ],
            "type": "contour"
           }
          ],
          "contourcarpet": [
           {
            "colorbar": {
             "outlinewidth": 0,
             "ticks": ""
            },
            "type": "contourcarpet"
           }
          ],
          "heatmap": [
           {
            "colorbar": {
             "outlinewidth": 0,
             "ticks": ""
            },
            "colorscale": [
             [
              0,
              "#0d0887"
             ],
             [
              0.1111111111111111,
              "#46039f"
             ],
             [
              0.2222222222222222,
              "#7201a8"
             ],
             [
              0.3333333333333333,
              "#9c179e"
             ],
             [
              0.4444444444444444,
              "#bd3786"
             ],
             [
              0.5555555555555556,
              "#d8576b"
             ],
             [
              0.6666666666666666,
              "#ed7953"
             ],
             [
              0.7777777777777778,
              "#fb9f3a"
             ],
             [
              0.8888888888888888,
              "#fdca26"
             ],
             [
              1,
              "#f0f921"
             ]
            ],
            "type": "heatmap"
           }
          ],
          "histogram": [
           {
            "marker": {
             "pattern": {
              "fillmode": "overlay",
              "size": 10,
              "solidity": 0.2
             }
            },
            "type": "histogram"
           }
          ],
          "histogram2d": [
           {
            "colorbar": {
             "outlinewidth": 0,
             "ticks": ""
            },
            "colorscale": [
             [
              0,
              "#0d0887"
             ],
             [
              0.1111111111111111,
              "#46039f"
             ],
             [
              0.2222222222222222,
              "#7201a8"
             ],
             [
              0.3333333333333333,
              "#9c179e"
             ],
             [
              0.4444444444444444,
              "#bd3786"
             ],
             [
              0.5555555555555556,
              "#d8576b"
             ],
             [
              0.6666666666666666,
              "#ed7953"
             ],
             [
              0.7777777777777778,
              "#fb9f3a"
             ],
             [
              0.8888888888888888,
              "#fdca26"
             ],
             [
              1,
              "#f0f921"
             ]
            ],
            "type": "histogram2d"
           }
          ],
          "histogram2dcontour": [
           {
            "colorbar": {
             "outlinewidth": 0,
             "ticks": ""
            },
            "colorscale": [
             [
              0,
              "#0d0887"
             ],
             [
              0.1111111111111111,
              "#46039f"
             ],
             [
              0.2222222222222222,
              "#7201a8"
             ],
             [
              0.3333333333333333,
              "#9c179e"
             ],
             [
              0.4444444444444444,
              "#bd3786"
             ],
             [
              0.5555555555555556,
              "#d8576b"
             ],
             [
              0.6666666666666666,
              "#ed7953"
             ],
             [
              0.7777777777777778,
              "#fb9f3a"
             ],
             [
              0.8888888888888888,
              "#fdca26"
             ],
             [
              1,
              "#f0f921"
             ]
            ],
            "type": "histogram2dcontour"
           }
          ],
          "mesh3d": [
           {
            "colorbar": {
             "outlinewidth": 0,
             "ticks": ""
            },
            "type": "mesh3d"
           }
          ],
          "parcoords": [
           {
            "line": {
             "colorbar": {
              "outlinewidth": 0,
              "ticks": ""
             }
            },
            "type": "parcoords"
           }
          ],
          "pie": [
           {
            "automargin": true,
            "type": "pie"
           }
          ],
          "scatter": [
           {
            "fillpattern": {
             "fillmode": "overlay",
             "size": 10,
             "solidity": 0.2
            },
            "type": "scatter"
           }
          ],
          "scatter3d": [
           {
            "line": {
             "colorbar": {
              "outlinewidth": 0,
              "ticks": ""
             }
            },
            "marker": {
             "colorbar": {
              "outlinewidth": 0,
              "ticks": ""
             }
            },
            "type": "scatter3d"
           }
          ],
          "scattercarpet": [
           {
            "marker": {
             "colorbar": {
              "outlinewidth": 0,
              "ticks": ""
             }
            },
            "type": "scattercarpet"
           }
          ],
          "scattergeo": [
           {
            "marker": {
             "colorbar": {
              "outlinewidth": 0,
              "ticks": ""
             }
            },
            "type": "scattergeo"
           }
          ],
          "scattergl": [
           {
            "marker": {
             "colorbar": {
              "outlinewidth": 0,
              "ticks": ""
             }
            },
            "type": "scattergl"
           }
          ],
          "scattermap": [
           {
            "marker": {
             "colorbar": {
              "outlinewidth": 0,
              "ticks": ""
             }
            },
            "type": "scattermap"
           }
          ],
          "scattermapbox": [
           {
            "marker": {
             "colorbar": {
              "outlinewidth": 0,
              "ticks": ""
             }
            },
            "type": "scattermapbox"
           }
          ],
          "scatterpolar": [
           {
            "marker": {
             "colorbar": {
              "outlinewidth": 0,
              "ticks": ""
             }
            },
            "type": "scatterpolar"
           }
          ],
          "scatterpolargl": [
           {
            "marker": {
             "colorbar": {
              "outlinewidth": 0,
              "ticks": ""
             }
            },
            "type": "scatterpolargl"
           }
          ],
          "scatterternary": [
           {
            "marker": {
             "colorbar": {
              "outlinewidth": 0,
              "ticks": ""
             }
            },
            "type": "scatterternary"
           }
          ],
          "surface": [
           {
            "colorbar": {
             "outlinewidth": 0,
             "ticks": ""
            },
            "colorscale": [
             [
              0,
              "#0d0887"
             ],
             [
              0.1111111111111111,
              "#46039f"
             ],
             [
              0.2222222222222222,
              "#7201a8"
             ],
             [
              0.3333333333333333,
              "#9c179e"
             ],
             [
              0.4444444444444444,
              "#bd3786"
             ],
             [
              0.5555555555555556,
              "#d8576b"
             ],
             [
              0.6666666666666666,
              "#ed7953"
             ],
             [
              0.7777777777777778,
              "#fb9f3a"
             ],
             [
              0.8888888888888888,
              "#fdca26"
             ],
             [
              1,
              "#f0f921"
             ]
            ],
            "type": "surface"
           }
          ],
          "table": [
           {
            "cells": {
             "fill": {
              "color": "#EBF0F8"
             },
             "line": {
              "color": "white"
             }
            },
            "header": {
             "fill": {
              "color": "#C8D4E3"
             },
             "line": {
              "color": "white"
             }
            },
            "type": "table"
           }
          ]
         },
         "layout": {
          "annotationdefaults": {
           "arrowcolor": "#2a3f5f",
           "arrowhead": 0,
           "arrowwidth": 1
          },
          "autotypenumbers": "strict",
          "coloraxis": {
           "colorbar": {
            "outlinewidth": 0,
            "ticks": ""
           }
          },
          "colorscale": {
           "diverging": [
            [
             0,
             "#8e0152"
            ],
            [
             0.1,
             "#c51b7d"
            ],
            [
             0.2,
             "#de77ae"
            ],
            [
             0.3,
             "#f1b6da"
            ],
            [
             0.4,
             "#fde0ef"
            ],
            [
             0.5,
             "#f7f7f7"
            ],
            [
             0.6,
             "#e6f5d0"
            ],
            [
             0.7,
             "#b8e186"
            ],
            [
             0.8,
             "#7fbc41"
            ],
            [
             0.9,
             "#4d9221"
            ],
            [
             1,
             "#276419"
            ]
           ],
           "sequential": [
            [
             0,
             "#0d0887"
            ],
            [
             0.1111111111111111,
             "#46039f"
            ],
            [
             0.2222222222222222,
             "#7201a8"
            ],
            [
             0.3333333333333333,
             "#9c179e"
            ],
            [
             0.4444444444444444,
             "#bd3786"
            ],
            [
             0.5555555555555556,
             "#d8576b"
            ],
            [
             0.6666666666666666,
             "#ed7953"
            ],
            [
             0.7777777777777778,
             "#fb9f3a"
            ],
            [
             0.8888888888888888,
             "#fdca26"
            ],
            [
             1,
             "#f0f921"
            ]
           ],
           "sequentialminus": [
            [
             0,
             "#0d0887"
            ],
            [
             0.1111111111111111,
             "#46039f"
            ],
            [
             0.2222222222222222,
             "#7201a8"
            ],
            [
             0.3333333333333333,
             "#9c179e"
            ],
            [
             0.4444444444444444,
             "#bd3786"
            ],
            [
             0.5555555555555556,
             "#d8576b"
            ],
            [
             0.6666666666666666,
             "#ed7953"
            ],
            [
             0.7777777777777778,
             "#fb9f3a"
            ],
            [
             0.8888888888888888,
             "#fdca26"
            ],
            [
             1,
             "#f0f921"
            ]
           ]
          },
          "colorway": [
           "#636efa",
           "#EF553B",
           "#00cc96",
           "#ab63fa",
           "#FFA15A",
           "#19d3f3",
           "#FF6692",
           "#B6E880",
           "#FF97FF",
           "#FECB52"
          ],
          "font": {
           "color": "#2a3f5f"
          },
          "geo": {
           "bgcolor": "white",
           "lakecolor": "white",
           "landcolor": "#E5ECF6",
           "showlakes": true,
           "showland": true,
           "subunitcolor": "white"
          },
          "hoverlabel": {
           "align": "left"
          },
          "hovermode": "closest",
          "mapbox": {
           "style": "light"
          },
          "paper_bgcolor": "white",
          "plot_bgcolor": "#E5ECF6",
          "polar": {
           "angularaxis": {
            "gridcolor": "white",
            "linecolor": "white",
            "ticks": ""
           },
           "bgcolor": "#E5ECF6",
           "radialaxis": {
            "gridcolor": "white",
            "linecolor": "white",
            "ticks": ""
           }
          },
          "scene": {
           "xaxis": {
            "backgroundcolor": "#E5ECF6",
            "gridcolor": "white",
            "gridwidth": 2,
            "linecolor": "white",
            "showbackground": true,
            "ticks": "",
            "zerolinecolor": "white"
           },
           "yaxis": {
            "backgroundcolor": "#E5ECF6",
            "gridcolor": "white",
            "gridwidth": 2,
            "linecolor": "white",
            "showbackground": true,
            "ticks": "",
            "zerolinecolor": "white"
           },
           "zaxis": {
            "backgroundcolor": "#E5ECF6",
            "gridcolor": "white",
            "gridwidth": 2,
            "linecolor": "white",
            "showbackground": true,
            "ticks": "",
            "zerolinecolor": "white"
           }
          },
          "shapedefaults": {
           "line": {
            "color": "#2a3f5f"
           }
          },
          "ternary": {
           "aaxis": {
            "gridcolor": "white",
            "linecolor": "white",
            "ticks": ""
           },
           "baxis": {
            "gridcolor": "white",
            "linecolor": "white",
            "ticks": ""
           },
           "bgcolor": "#E5ECF6",
           "caxis": {
            "gridcolor": "white",
            "linecolor": "white",
            "ticks": ""
           }
          },
          "title": {
           "x": 0.05
          },
          "xaxis": {
           "automargin": true,
           "gridcolor": "white",
           "linecolor": "white",
           "ticks": "",
           "title": {
            "standoff": 15
           },
           "zerolinecolor": "white",
           "zerolinewidth": 2
          },
          "yaxis": {
           "automargin": true,
           "gridcolor": "white",
           "linecolor": "white",
           "ticks": "",
           "title": {
            "standoff": 15
           },
           "zerolinecolor": "white",
           "zerolinewidth": 2
          }
         }
        },
        "title": {
         "text": "DB calls during pipeline (['find', 'aggregate', 'insert', 'update', 'delete'])<br>(['shankari_2016-07-27'])"
        },
        "xaxis": {
         "anchor": "y",
         "domain": [
          0,
          1
         ],
         "title": {
          "text": "# DB calls"
         }
        },
        "yaxis": {
         "anchor": "x",
         "domain": [
          0,
          1
         ],
         "title": {
          "text": "name"
         }
        }
       }
      }
     },
     "metadata": {},
     "output_type": "display_data"
    },
    {
     "data": {
      "application/vnd.plotly.v1+json": {
       "config": {
        "plotlyServerURL": "https://plot.ly"
       },
       "data": [],
       "layout": {
        "barmode": "group",
        "legend": {
         "tracegroupgap": 0,
         "x": 1,
         "xanchor": "right",
         "y": 0,
         "yref": "container"
        },
        "margin": {
         "t": 60
        },
        "template": {
         "data": {
          "bar": [
           {
            "error_x": {
             "color": "#2a3f5f"
            },
            "error_y": {
             "color": "#2a3f5f"
            },
            "marker": {
             "line": {
              "color": "#E5ECF6",
              "width": 0.5
             },
             "pattern": {
              "fillmode": "overlay",
              "size": 10,
              "solidity": 0.2
             }
            },
            "type": "bar"
           }
          ],
          "barpolar": [
           {
            "marker": {
             "line": {
              "color": "#E5ECF6",
              "width": 0.5
             },
             "pattern": {
              "fillmode": "overlay",
              "size": 10,
              "solidity": 0.2
             }
            },
            "type": "barpolar"
           }
          ],
          "carpet": [
           {
            "aaxis": {
             "endlinecolor": "#2a3f5f",
             "gridcolor": "white",
             "linecolor": "white",
             "minorgridcolor": "white",
             "startlinecolor": "#2a3f5f"
            },
            "baxis": {
             "endlinecolor": "#2a3f5f",
             "gridcolor": "white",
             "linecolor": "white",
             "minorgridcolor": "white",
             "startlinecolor": "#2a3f5f"
            },
            "type": "carpet"
           }
          ],
          "choropleth": [
           {
            "colorbar": {
             "outlinewidth": 0,
             "ticks": ""
            },
            "type": "choropleth"
           }
          ],
          "contour": [
           {
            "colorbar": {
             "outlinewidth": 0,
             "ticks": ""
            },
            "colorscale": [
             [
              0,
              "#0d0887"
             ],
             [
              0.1111111111111111,
              "#46039f"
             ],
             [
              0.2222222222222222,
              "#7201a8"
             ],
             [
              0.3333333333333333,
              "#9c179e"
             ],
             [
              0.4444444444444444,
              "#bd3786"
             ],
             [
              0.5555555555555556,
              "#d8576b"
             ],
             [
              0.6666666666666666,
              "#ed7953"
             ],
             [
              0.7777777777777778,
              "#fb9f3a"
             ],
             [
              0.8888888888888888,
              "#fdca26"
             ],
             [
              1,
              "#f0f921"
             ]
            ],
            "type": "contour"
           }
          ],
          "contourcarpet": [
           {
            "colorbar": {
             "outlinewidth": 0,
             "ticks": ""
            },
            "type": "contourcarpet"
           }
          ],
          "heatmap": [
           {
            "colorbar": {
             "outlinewidth": 0,
             "ticks": ""
            },
            "colorscale": [
             [
              0,
              "#0d0887"
             ],
             [
              0.1111111111111111,
              "#46039f"
             ],
             [
              0.2222222222222222,
              "#7201a8"
             ],
             [
              0.3333333333333333,
              "#9c179e"
             ],
             [
              0.4444444444444444,
              "#bd3786"
             ],
             [
              0.5555555555555556,
              "#d8576b"
             ],
             [
              0.6666666666666666,
              "#ed7953"
             ],
             [
              0.7777777777777778,
              "#fb9f3a"
             ],
             [
              0.8888888888888888,
              "#fdca26"
             ],
             [
              1,
              "#f0f921"
             ]
            ],
            "type": "heatmap"
           }
          ],
          "histogram": [
           {
            "marker": {
             "pattern": {
              "fillmode": "overlay",
              "size": 10,
              "solidity": 0.2
             }
            },
            "type": "histogram"
           }
          ],
          "histogram2d": [
           {
            "colorbar": {
             "outlinewidth": 0,
             "ticks": ""
            },
            "colorscale": [
             [
              0,
              "#0d0887"
             ],
             [
              0.1111111111111111,
              "#46039f"
             ],
             [
              0.2222222222222222,
              "#7201a8"
             ],
             [
              0.3333333333333333,
              "#9c179e"
             ],
             [
              0.4444444444444444,
              "#bd3786"
             ],
             [
              0.5555555555555556,
              "#d8576b"
             ],
             [
              0.6666666666666666,
              "#ed7953"
             ],
             [
              0.7777777777777778,
              "#fb9f3a"
             ],
             [
              0.8888888888888888,
              "#fdca26"
             ],
             [
              1,
              "#f0f921"
             ]
            ],
            "type": "histogram2d"
           }
          ],
          "histogram2dcontour": [
           {
            "colorbar": {
             "outlinewidth": 0,
             "ticks": ""
            },
            "colorscale": [
             [
              0,
              "#0d0887"
             ],
             [
              0.1111111111111111,
              "#46039f"
             ],
             [
              0.2222222222222222,
              "#7201a8"
             ],
             [
              0.3333333333333333,
              "#9c179e"
             ],
             [
              0.4444444444444444,
              "#bd3786"
             ],
             [
              0.5555555555555556,
              "#d8576b"
             ],
             [
              0.6666666666666666,
              "#ed7953"
             ],
             [
              0.7777777777777778,
              "#fb9f3a"
             ],
             [
              0.8888888888888888,
              "#fdca26"
             ],
             [
              1,
              "#f0f921"
             ]
            ],
            "type": "histogram2dcontour"
           }
          ],
          "mesh3d": [
           {
            "colorbar": {
             "outlinewidth": 0,
             "ticks": ""
            },
            "type": "mesh3d"
           }
          ],
          "parcoords": [
           {
            "line": {
             "colorbar": {
              "outlinewidth": 0,
              "ticks": ""
             }
            },
            "type": "parcoords"
           }
          ],
          "pie": [
           {
            "automargin": true,
            "type": "pie"
           }
          ],
          "scatter": [
           {
            "fillpattern": {
             "fillmode": "overlay",
             "size": 10,
             "solidity": 0.2
            },
            "type": "scatter"
           }
          ],
          "scatter3d": [
           {
            "line": {
             "colorbar": {
              "outlinewidth": 0,
              "ticks": ""
             }
            },
            "marker": {
             "colorbar": {
              "outlinewidth": 0,
              "ticks": ""
             }
            },
            "type": "scatter3d"
           }
          ],
          "scattercarpet": [
           {
            "marker": {
             "colorbar": {
              "outlinewidth": 0,
              "ticks": ""
             }
            },
            "type": "scattercarpet"
           }
          ],
          "scattergeo": [
           {
            "marker": {
             "colorbar": {
              "outlinewidth": 0,
              "ticks": ""
             }
            },
            "type": "scattergeo"
           }
          ],
          "scattergl": [
           {
            "marker": {
             "colorbar": {
              "outlinewidth": 0,
              "ticks": ""
             }
            },
            "type": "scattergl"
           }
          ],
          "scattermap": [
           {
            "marker": {
             "colorbar": {
              "outlinewidth": 0,
              "ticks": ""
             }
            },
            "type": "scattermap"
           }
          ],
          "scattermapbox": [
           {
            "marker": {
             "colorbar": {
              "outlinewidth": 0,
              "ticks": ""
             }
            },
            "type": "scattermapbox"
           }
          ],
          "scatterpolar": [
           {
            "marker": {
             "colorbar": {
              "outlinewidth": 0,
              "ticks": ""
             }
            },
            "type": "scatterpolar"
           }
          ],
          "scatterpolargl": [
           {
            "marker": {
             "colorbar": {
              "outlinewidth": 0,
              "ticks": ""
             }
            },
            "type": "scatterpolargl"
           }
          ],
          "scatterternary": [
           {
            "marker": {
             "colorbar": {
              "outlinewidth": 0,
              "ticks": ""
             }
            },
            "type": "scatterternary"
           }
          ],
          "surface": [
           {
            "colorbar": {
             "outlinewidth": 0,
             "ticks": ""
            },
            "colorscale": [
             [
              0,
              "#0d0887"
             ],
             [
              0.1111111111111111,
              "#46039f"
             ],
             [
              0.2222222222222222,
              "#7201a8"
             ],
             [
              0.3333333333333333,
              "#9c179e"
             ],
             [
              0.4444444444444444,
              "#bd3786"
             ],
             [
              0.5555555555555556,
              "#d8576b"
             ],
             [
              0.6666666666666666,
              "#ed7953"
             ],
             [
              0.7777777777777778,
              "#fb9f3a"
             ],
             [
              0.8888888888888888,
              "#fdca26"
             ],
             [
              1,
              "#f0f921"
             ]
            ],
            "type": "surface"
           }
          ],
          "table": [
           {
            "cells": {
             "fill": {
              "color": "#EBF0F8"
             },
             "line": {
              "color": "white"
             }
            },
            "header": {
             "fill": {
              "color": "#C8D4E3"
             },
             "line": {
              "color": "white"
             }
            },
            "type": "table"
           }
          ]
         },
         "layout": {
          "annotationdefaults": {
           "arrowcolor": "#2a3f5f",
           "arrowhead": 0,
           "arrowwidth": 1
          },
          "autotypenumbers": "strict",
          "coloraxis": {
           "colorbar": {
            "outlinewidth": 0,
            "ticks": ""
           }
          },
          "colorscale": {
           "diverging": [
            [
             0,
             "#8e0152"
            ],
            [
             0.1,
             "#c51b7d"
            ],
            [
             0.2,
             "#de77ae"
            ],
            [
             0.3,
             "#f1b6da"
            ],
            [
             0.4,
             "#fde0ef"
            ],
            [
             0.5,
             "#f7f7f7"
            ],
            [
             0.6,
             "#e6f5d0"
            ],
            [
             0.7,
             "#b8e186"
            ],
            [
             0.8,
             "#7fbc41"
            ],
            [
             0.9,
             "#4d9221"
            ],
            [
             1,
             "#276419"
            ]
           ],
           "sequential": [
            [
             0,
             "#0d0887"
            ],
            [
             0.1111111111111111,
             "#46039f"
            ],
            [
             0.2222222222222222,
             "#7201a8"
            ],
            [
             0.3333333333333333,
             "#9c179e"
            ],
            [
             0.4444444444444444,
             "#bd3786"
            ],
            [
             0.5555555555555556,
             "#d8576b"
            ],
            [
             0.6666666666666666,
             "#ed7953"
            ],
            [
             0.7777777777777778,
             "#fb9f3a"
            ],
            [
             0.8888888888888888,
             "#fdca26"
            ],
            [
             1,
             "#f0f921"
            ]
           ],
           "sequentialminus": [
            [
             0,
             "#0d0887"
            ],
            [
             0.1111111111111111,
             "#46039f"
            ],
            [
             0.2222222222222222,
             "#7201a8"
            ],
            [
             0.3333333333333333,
             "#9c179e"
            ],
            [
             0.4444444444444444,
             "#bd3786"
            ],
            [
             0.5555555555555556,
             "#d8576b"
            ],
            [
             0.6666666666666666,
             "#ed7953"
            ],
            [
             0.7777777777777778,
             "#fb9f3a"
            ],
            [
             0.8888888888888888,
             "#fdca26"
            ],
            [
             1,
             "#f0f921"
            ]
           ]
          },
          "colorway": [
           "#636efa",
           "#EF553B",
           "#00cc96",
           "#ab63fa",
           "#FFA15A",
           "#19d3f3",
           "#FF6692",
           "#B6E880",
           "#FF97FF",
           "#FECB52"
          ],
          "font": {
           "color": "#2a3f5f"
          },
          "geo": {
           "bgcolor": "white",
           "lakecolor": "white",
           "landcolor": "#E5ECF6",
           "showlakes": true,
           "showland": true,
           "subunitcolor": "white"
          },
          "hoverlabel": {
           "align": "left"
          },
          "hovermode": "closest",
          "mapbox": {
           "style": "light"
          },
          "paper_bgcolor": "white",
          "plot_bgcolor": "#E5ECF6",
          "polar": {
           "angularaxis": {
            "gridcolor": "white",
            "linecolor": "white",
            "ticks": ""
           },
           "bgcolor": "#E5ECF6",
           "radialaxis": {
            "gridcolor": "white",
            "linecolor": "white",
            "ticks": ""
           }
          },
          "scene": {
           "xaxis": {
            "backgroundcolor": "#E5ECF6",
            "gridcolor": "white",
            "gridwidth": 2,
            "linecolor": "white",
            "showbackground": true,
            "ticks": "",
            "zerolinecolor": "white"
           },
           "yaxis": {
            "backgroundcolor": "#E5ECF6",
            "gridcolor": "white",
            "gridwidth": 2,
            "linecolor": "white",
            "showbackground": true,
            "ticks": "",
            "zerolinecolor": "white"
           },
           "zaxis": {
            "backgroundcolor": "#E5ECF6",
            "gridcolor": "white",
            "gridwidth": 2,
            "linecolor": "white",
            "showbackground": true,
            "ticks": "",
            "zerolinecolor": "white"
           }
          },
          "shapedefaults": {
           "line": {
            "color": "#2a3f5f"
           }
          },
          "ternary": {
           "aaxis": {
            "gridcolor": "white",
            "linecolor": "white",
            "ticks": ""
           },
           "baxis": {
            "gridcolor": "white",
            "linecolor": "white",
            "ticks": ""
           },
           "bgcolor": "#E5ECF6",
           "caxis": {
            "gridcolor": "white",
            "linecolor": "white",
            "ticks": ""
           }
          },
          "title": {
           "x": 0.05
          },
          "xaxis": {
           "automargin": true,
           "gridcolor": "white",
           "linecolor": "white",
           "ticks": "",
           "title": {
            "standoff": 15
           },
           "zerolinecolor": "white",
           "zerolinewidth": 2
          },
          "yaxis": {
           "automargin": true,
           "gridcolor": "white",
           "linecolor": "white",
           "ticks": "",
           "title": {
            "standoff": 15
           },
           "zerolinecolor": "white",
           "zerolinewidth": 2
          }
         }
        },
        "title": {
         "text": "DB calls during pipeline by stage (['find', 'aggregate', 'insert', 'update', 'delete'])<br>(['shankari_2016-07-27'])"
        },
        "xaxis": {
         "anchor": "y",
         "domain": [
          0,
          1
         ],
         "title": {
          "text": "# DB calls"
         }
        },
        "yaxis": {
         "anchor": "x",
         "domain": [
          0,
          1
         ],
         "title": {
          "text": "stage"
         }
        }
       }
      }
     },
     "metadata": {},
     "output_type": "display_data"
    },
    {
     "data": {
      "text/html": [
       "<div>\n",
       "<style scoped>\n",
       "    .dataframe tbody tr th:only-of-type {\n",
       "        vertical-align: middle;\n",
       "    }\n",
       "\n",
       "    .dataframe tbody tr th {\n",
       "        vertical-align: top;\n",
       "    }\n",
       "\n",
       "    .dataframe thead th {\n",
       "        text-align: right;\n",
       "    }\n",
       "</style>\n",
       "<table border=\"1\" class=\"dataframe\">\n",
       "  <thead>\n",
       "    <tr style=\"text-align: right;\">\n",
       "      <th></th>\n",
       "      <th>stage</th>\n",
       "      <th>name</th>\n",
       "      <th>reading</th>\n",
       "      <th>branch</th>\n",
       "      <th>count</th>\n",
       "      <th>reading_wrapped</th>\n",
       "    </tr>\n",
       "  </thead>\n",
       "  <tbody>\n",
       "  </tbody>\n",
       "</table>\n",
       "</div>"
      ],
      "text/plain": [
       "Empty DataFrame\n",
       "Columns: [stage, name, reading, branch, count, reading_wrapped]\n",
       "Index: []"
      ]
     },
     "execution_count": 6,
     "metadata": {},
     "output_type": "execute_result"
    }
   ],
   "source": [
    "plot_runtimes(\n",
    "    pipeline_stages_df,\n",
    "    y='branch',\n",
    "    color='branch',\n",
    "    pattern_shape='name',\n",
    "    barmode='stack',\n",
    "    title='Pipeline runtimes, overall',\n",
    ")\n",
    "\n",
    "plot_runtimes(\n",
    "    pipeline_stages_df,\n",
    "    title='Pipeline runtimes by stage',\n",
    ")\n",
    "\n",
    "df = plot_db_calls_by_name(\n",
    "    pipeline_stats_df[pipeline_stats_df['name'].str.startswith('db_call/')],\n",
    "    title='DB calls during pipeline (all types)'\n",
    ")\n",
    "display(df[(df['name'] == 'db_call/createIndexes') & (df['branch'] == 'master')][['reading', 'count']])\n",
    "\n",
    "\n",
    "plot_db_calls_by_stage(\n",
    "    pipeline_stats_df[pipeline_stats_df['name'].str.startswith('db_call/')],\n",
    "    title='DB calls during pipeline by stage (all types)'\n",
    ")\n",
    "\n",
    "NON_INDEX_DB_CMDS = ['find', 'aggregate', 'insert', 'update', 'delete']\n",
    "\n",
    "plot_db_calls_by_name(\n",
    "    pipeline_stats_df[\n",
    "        pipeline_stats_df['name'].isin([f'db_call/{n}' for n in NON_INDEX_DB_CMDS])\n",
    "    ],\n",
    "    title=f'DB calls during pipeline ({NON_INDEX_DB_CMDS})'\n",
    ")\n",
    "\n",
    "plot_db_calls_by_stage(\n",
    "    pipeline_stats_df[\n",
    "        pipeline_stats_df['name'].isin([f'db_call/{n}' for n in NON_INDEX_DB_CMDS])\n",
    "    ],\n",
    "    title=f'DB calls during pipeline by stage ({NON_INDEX_DB_CMDS})'\n",
    ")"
   ]
  },
  {
   "cell_type": "code",
   "execution_count": 7,
   "metadata": {},
   "outputs": [
    {
     "name": "stdout",
     "output_type": "stream",
     "text": [
      "No Pipeline runtimes of JUMP_SMOOTHING\n",
      "No Substage runtimes of JUMP_SMOOTHING\n",
      "No DB calls during JUMP_SMOOTHING (all types)\n",
      "No DB calls during JUMP_SMOOTHING (all types)\n",
      "No DB calls during JUMP_SMOOTHING (all types)\n",
      "No DB calls during JUMP_SMOOTHING (['find', 'aggregate', 'insert', 'update', 'delete'])\n",
      "No Pipeline runtimes of CLEAN_RESAMPLING\n",
      "No Substage runtimes of CLEAN_RESAMPLING\n",
      "No DB calls during CLEAN_RESAMPLING (all types)\n",
      "No DB calls during CLEAN_RESAMPLING (all types)\n",
      "No DB calls during CLEAN_RESAMPLING (all types)\n",
      "No DB calls during CLEAN_RESAMPLING (['find', 'aggregate', 'insert', 'update', 'delete'])\n"
     ]
    }
   ],
   "source": [
    "for stage in [\n",
    "    # 'USERCACHE',\n",
    "    # 'USER_INPUT_MATCH_INCOMING',\n",
    "    # 'ACCURACY_FILTERING',\n",
    "    # 'TRIP_SEGMENTATION',\n",
    "    # 'SECTION_SEGMENTATION',\n",
    "    'JUMP_SMOOTHING',\n",
    "    'CLEAN_RESAMPLING',\n",
    "    # 'MODE_INFERENCE',\n",
    "    # 'LABEL_INFERENCE',\n",
    "    # 'EXPECTATION_POPULATION',\n",
    "    # 'CREATE_CONFIRMED_OBJECTS',\n",
    "    # 'CREATE_COMPOSITE_OBJECTS',\n",
    "    # 'STORE_PIPELINE_DEPENDENT_USER_STATS',\n",
    "]:\n",
    "    plot_runtimes(\n",
    "        pipeline_stages_df[pipeline_stages_df['name'] == stage],\n",
    "        title=f'Pipeline runtimes of {stage}'\n",
    "    )\n",
    "\n",
    "    plot_runtimes(\n",
    "        pipeline_stats_df[pipeline_stats_df['name'].str.match(f'{stage}/')],\n",
    "        title=f'Substage runtimes of {stage}',\n",
    "    )\n",
    "\n",
    "    plot_db_calls_by_stage(\n",
    "        pipeline_stats_df[\n",
    "            (pipeline_stats_df['name'].str.startswith('db_call/'))\n",
    "            & (pipeline_stats_df['reading'].str.contains(STAGES[stage]))\n",
    "        ],\n",
    "        title=f'DB calls during {stage} (all types)',\n",
    "    )\n",
    "\n",
    "    plot_db_calls_by_stage(\n",
    "        pipeline_stats_df[\n",
    "            (pipeline_stats_df['name'].isin([f'db_call/{n}' for n in NON_INDEX_DB_CMDS]))\n",
    "            & (pipeline_stats_df['reading'].str.contains(STAGES[stage]))\n",
    "        ],\n",
    "        title=f'DB calls during {stage} (all types)',\n",
    "    )\n",
    "\n",
    "    plot_db_calls_by_name(\n",
    "        pipeline_stats_df[\n",
    "            (pipeline_stats_df['name'].str.startswith('db_call/'))\n",
    "            & (pipeline_stats_df['reading'].str.contains(STAGES[stage]))\n",
    "        ],\n",
    "        title=f'DB calls during {stage} (all types)'\n",
    "    )\n",
    "\n",
    "    plot_db_calls_by_name(\n",
    "        pipeline_stats_df[\n",
    "            (pipeline_stats_df['name'].isin([f'db_call/{n}' for n in NON_INDEX_DB_CMDS]))\n",
    "            & (pipeline_stats_df['reading'].str.contains(STAGES[stage]))\n",
    "        ],\n",
    "        title=f'DB calls during {stage} ({NON_INDEX_DB_CMDS})'\n",
    "    )\n"
   ]
  }
 ],
 "metadata": {
  "kernelspec": {
   "display_name": "emission",
   "language": "python",
   "name": "python3"
  },
  "language_info": {
   "codemirror_mode": {
    "name": "ipython",
    "version": 3
   },
   "file_extension": ".py",
   "mimetype": "text/x-python",
   "name": "python",
   "nbconvert_exporter": "python",
   "pygments_lexer": "ipython3",
   "version": "3.9.20"
  }
 },
 "nbformat": 4,
 "nbformat_minor": 2
}
