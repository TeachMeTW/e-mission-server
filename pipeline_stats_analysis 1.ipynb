{
 "cells": [
  {
   "cell_type": "markdown",
   "metadata": {},
   "source": [
    "## Analysis of pipeline execution time across different branches"
   ]
  },
  {
   "cell_type": "code",
   "execution_count": 57,
   "metadata": {},
   "outputs": [
    {
     "name": "stdout",
     "output_type": "stream",
     "text": [
      "Requirement already satisfied: plotly in /Users/rsimpson/miniconda-23.5.2/envs/emission/lib/python3.9/site-packages (6.0.0)\n",
      "Requirement already satisfied: narwhals>=1.15.1 in /Users/rsimpson/miniconda-23.5.2/envs/emission/lib/python3.9/site-packages (from plotly) (1.25.0)\n",
      "Requirement already satisfied: packaging in /Users/rsimpson/miniconda-23.5.2/envs/emission/lib/python3.9/site-packages (from plotly) (24.1)\n",
      "Requirement already satisfied: nbformat in /Users/rsimpson/miniconda-23.5.2/envs/emission/lib/python3.9/site-packages (5.10.4)\n",
      "Requirement already satisfied: fastjsonschema>=2.15 in /Users/rsimpson/miniconda-23.5.2/envs/emission/lib/python3.9/site-packages (from nbformat) (2.20.0)\n",
      "Requirement already satisfied: jsonschema>=2.6 in /Users/rsimpson/miniconda-23.5.2/envs/emission/lib/python3.9/site-packages (from nbformat) (4.23.0)\n",
      "Requirement already satisfied: jupyter-core!=5.0.*,>=4.12 in /Users/rsimpson/miniconda-23.5.2/envs/emission/lib/python3.9/site-packages (from nbformat) (5.7.2)\n",
      "Requirement already satisfied: traitlets>=5.1 in /Users/rsimpson/miniconda-23.5.2/envs/emission/lib/python3.9/site-packages (from nbformat) (5.14.3)\n",
      "Requirement already satisfied: attrs>=22.2.0 in /Users/rsimpson/miniconda-23.5.2/envs/emission/lib/python3.9/site-packages (from jsonschema>=2.6->nbformat) (24.2.0)\n",
      "Requirement already satisfied: jsonschema-specifications>=2023.03.6 in /Users/rsimpson/miniconda-23.5.2/envs/emission/lib/python3.9/site-packages (from jsonschema>=2.6->nbformat) (2024.10.1)\n",
      "Requirement already satisfied: referencing>=0.28.4 in /Users/rsimpson/miniconda-23.5.2/envs/emission/lib/python3.9/site-packages (from jsonschema>=2.6->nbformat) (0.35.1)\n",
      "Requirement already satisfied: rpds-py>=0.7.1 in /Users/rsimpson/miniconda-23.5.2/envs/emission/lib/python3.9/site-packages (from jsonschema>=2.6->nbformat) (0.20.0)\n",
      "Requirement already satisfied: platformdirs>=2.5 in /Users/rsimpson/miniconda-23.5.2/envs/emission/lib/python3.9/site-packages (from jupyter-core!=5.0.*,>=4.12->nbformat) (4.3.6)\n"
     ]
    }
   ],
   "source": [
    "# dependencies for this notebook that aren't already in the 'emission' environment\n",
    "!pip install plotly\n",
    "!pip install nbformat\n",
    "\n",
    "# db_name = \"openpath_prod_ca_ebike\"\n",
    "# %env DB_HOST=mongodb://localhost:27017/$db_name\n",
    "\n",
    "from __future__ import annotations\n",
    "import subprocess\n",
    "import time\n",
    "import pandas as pd\n",
    "import plotly.express as px\n",
    "import arrow\n",
    "import emission.core.timer as ect\n",
    "import emission.storage.decorations.stats_queries as esds\n",
    "import emission.storage.timeseries.abstract_timeseries as esta\n",
    "import emission.storage.timeseries.timequery as estt"
   ]
  },
  {
   "cell_type": "code",
   "execution_count": 58,
   "metadata": {},
   "outputs": [
    {
     "name": "stdout",
     "output_type": "stream",
     "text": [
      "Checking out master to measure pipeline runtime\n",
      "Switched to branch 'master'\n",
      "Your branch is up to date with 'origin/master'.\n",
      "Config file not found, returning a copy of the environment variables instead...\n",
      "Retrieved config: {'DB_HOST': None, 'DB_RESULT_LIMIT': None}\n",
      "URL not formatted, defaulting to \"Stage_database\"\n",
      "Connecting to database URL localhost\n",
      "Namespace(all=True, platform=None, user_list=None, email_list=None, date=None, dry_run=False)\n",
      "INFO:root:About to delete 0 analysis results\n",
      "INFO:root:About to delete entries with keys []\n",
      "INFO:root:About to delete 3 pipeline states\n",
      "INFO:root:this is not a dry run, result of removing analysis objects = <pymongo.results.DeleteResult object at 0x1804f0c10>\n",
      "INFO:root:this is not a dry run, result of removing pipeline states = <pymongo.results.DeleteResult object at 0x1804f06d0>\n",
      "Config file not found, returning a copy of the environment variables instead...\n",
      "Retrieved config: {'DB_HOST': None, 'DB_RESULT_LIMIT': None}\n",
      "URL not formatted, defaulting to \"Stage_database\"\n",
      "Connecting to database URL localhost\n",
      "emission/tests/data/real_examples/iphone_2016-02-22\n",
      "Loading file emission/tests/data/real_examples/iphone_2016-02-22\n",
      "After registration, nrelop_dev-emulator-study_69 -> ad2a8037-7ea7-4b29-b19a-e4b51a0ceaef\n",
      "Finished loading 0 entries into the usercache and 1238 entries into the timeseries\n",
      "Config file not found, returning a copy of the environment variables instead...\n",
      "Retrieved config: {'DB_HOST': None, 'DB_RESULT_LIMIT': None}\n",
      "URL not formatted, defaulting to \"Stage_database\"\n",
      "Connecting to database URL localhost\n",
      "Trying to open debug.conf.json\n",
      "analysis.debug.conf.json not configured, falling back to sample, default configuration\n",
      "INFO:root:NOMINATIM_QUERY_URL: None\n",
      "Nominatim Query URL Configured: None\n",
      "Nominatim URL not configured, place decoding must happen on the client\n",
      "overpass not configured, falling back to public overpass api\n",
      "transit stops query not configured, falling back to default\n",
      "The Zen of Python, by Tim Peters\n",
      "\n",
      "Beautiful is better than ugly.\n",
      "Explicit is better than implicit.\n",
      "Simple is better than complex.\n",
      "Complex is better than complicated.\n",
      "Flat is better than nested.\n",
      "Sparse is better than dense.\n",
      "Readability counts.\n",
      "Special cases aren't special enough to break the rules.\n",
      "Although practicality beats purity.\n",
      "Errors should never pass silently.\n",
      "Unless explicitly silenced.\n",
      "In the face of ambiguity, refuse the temptation to guess.\n",
      "There should be one-- and preferably only one --obvious way to do it.\n",
      "Although that way may not be obvious at first unless you're Dutch.\n",
      "Now is better than never.\n",
      "Although never is often better than *right* now.\n",
      "If the implementation is hard to explain, it's a bad idea.\n",
      "If the implementation is easy to explain, it may be a good idea.\n",
      "Namespaces are one honking great idea -- let's do more of those!\n",
      "analysis.trip_model.conf.json not configured, falling back to sample, default configuration\n",
      "expectations.conf.json not configured, falling back to sample, default configuration\n",
      "ERROR:root:habitica not configured, game functions not supported\n",
      "Traceback (most recent call last):\n",
      "  File \"/Users/rsimpson/e-mission-server/emission/net/ext_service/habitica/proxy.py\", line 22, in <module>\n",
      "    key_file = open('conf/net/ext_service/habitica.json')\n",
      "FileNotFoundError: [Errno 2] No such file or directory: 'conf/net/ext_service/habitica.json'\n",
      "2025-02-07T13:57:46.447130-08:00**********UUID ad2a8037-7ea7-4b29-b19a-e4b51a0ceaef: moving to long term**********\n",
      "New entry count == 0 and skip_if_no_new_data = False, continuing\n",
      "2025-02-07T13:57:46.456863-08:00**********UUID ad2a8037-7ea7-4b29-b19a-e4b51a0ceaef: updating incoming user inputs**********\n",
      "2025-02-07T13:57:46.533713-08:00**********UUID ad2a8037-7ea7-4b29-b19a-e4b51a0ceaef: filter accuracy if needed**********\n",
      "2025-02-07T13:57:46.539600-08:00**********UUID ad2a8037-7ea7-4b29-b19a-e4b51a0ceaef: segmenting into trips**********\n",
      "2025-02-07T13:57:49.078414-08:00**********UUID ad2a8037-7ea7-4b29-b19a-e4b51a0ceaef: segmenting into sections**********\n",
      "2025-02-07T13:57:51.854642-08:00**********UUID ad2a8037-7ea7-4b29-b19a-e4b51a0ceaef: smoothing sections**********\n",
      "/Users/rsimpson/e-mission-server/emission/analysis/intake/cleaning/cleaning_methods/speed_outlier_detection.py:27: FutureWarning: The default value of numeric_only in DataFrame.quantile is deprecated. In a future version, it will default to False. Select only valid columns or specify the value of numeric_only to silence this warning.\n",
      "  quartile_vals = df_to_use.quantile([0.25, 0.75]).speed\n",
      "/Users/rsimpson/e-mission-server/emission/analysis/intake/cleaning/cleaning_methods/speed_outlier_detection.py:27: FutureWarning: The default value of numeric_only in DataFrame.quantile is deprecated. In a future version, it will default to False. Select only valid columns or specify the value of numeric_only to silence this warning.\n",
      "  quartile_vals = df_to_use.quantile([0.25, 0.75]).speed\n",
      "/Users/rsimpson/e-mission-server/emission/analysis/intake/cleaning/cleaning_methods/speed_outlier_detection.py:27: FutureWarning: The default value of numeric_only in DataFrame.quantile is deprecated. In a future version, it will default to False. Select only valid columns or specify the value of numeric_only to silence this warning.\n",
      "  quartile_vals = df_to_use.quantile([0.25, 0.75]).speed\n",
      "/Users/rsimpson/e-mission-server/emission/analysis/intake/cleaning/cleaning_methods/speed_outlier_detection.py:27: FutureWarning: The default value of numeric_only in DataFrame.quantile is deprecated. In a future version, it will default to False. Select only valid columns or specify the value of numeric_only to silence this warning.\n",
      "  quartile_vals = df_to_use.quantile([0.25, 0.75]).speed\n",
      "/Users/rsimpson/e-mission-server/emission/analysis/intake/cleaning/cleaning_methods/speed_outlier_detection.py:27: FutureWarning: The default value of numeric_only in DataFrame.quantile is deprecated. In a future version, it will default to False. Select only valid columns or specify the value of numeric_only to silence this warning.\n",
      "  quartile_vals = df_to_use.quantile([0.25, 0.75]).speed\n",
      "/Users/rsimpson/e-mission-server/emission/analysis/intake/cleaning/cleaning_methods/speed_outlier_detection.py:27: FutureWarning: The default value of numeric_only in DataFrame.quantile is deprecated. In a future version, it will default to False. Select only valid columns or specify the value of numeric_only to silence this warning.\n",
      "  quartile_vals = df_to_use.quantile([0.25, 0.75]).speed\n",
      "/Users/rsimpson/e-mission-server/emission/analysis/intake/cleaning/cleaning_methods/speed_outlier_detection.py:27: FutureWarning: The default value of numeric_only in DataFrame.quantile is deprecated. In a future version, it will default to False. Select only valid columns or specify the value of numeric_only to silence this warning.\n",
      "  quartile_vals = df_to_use.quantile([0.25, 0.75]).speed\n",
      "/Users/rsimpson/e-mission-server/emission/analysis/intake/cleaning/cleaning_methods/speed_outlier_detection.py:27: FutureWarning: The default value of numeric_only in DataFrame.quantile is deprecated. In a future version, it will default to False. Select only valid columns or specify the value of numeric_only to silence this warning.\n",
      "  quartile_vals = df_to_use.quantile([0.25, 0.75]).speed\n",
      "2025-02-07T13:57:52.855093-08:00**********UUID ad2a8037-7ea7-4b29-b19a-e4b51a0ceaef: cleaning and resampling timeline**********\n",
      "/Users/rsimpson/e-mission-server/emission/analysis/intake/cleaning/cleaning_methods/speed_outlier_detection.py:27: FutureWarning: The default value of numeric_only in DataFrame.quantile is deprecated. In a future version, it will default to False. Select only valid columns or specify the value of numeric_only to silence this warning.\n",
      "  quartile_vals = df_to_use.quantile([0.25, 0.75]).speed\n",
      "/Users/rsimpson/e-mission-server/emission/analysis/intake/cleaning/cleaning_methods/speed_outlier_detection.py:27: FutureWarning: The default value of numeric_only in DataFrame.quantile is deprecated. In a future version, it will default to False. Select only valid columns or specify the value of numeric_only to silence this warning.\n",
      "  quartile_vals = df_to_use.quantile([0.25, 0.75]).speed\n",
      "/Users/rsimpson/e-mission-server/emission/analysis/intake/cleaning/cleaning_methods/speed_outlier_detection.py:27: FutureWarning: The default value of numeric_only in DataFrame.quantile is deprecated. In a future version, it will default to False. Select only valid columns or specify the value of numeric_only to silence this warning.\n",
      "  quartile_vals = df_to_use.quantile([0.25, 0.75]).speed\n",
      "/Users/rsimpson/e-mission-server/emission/analysis/intake/cleaning/cleaning_methods/speed_outlier_detection.py:27: FutureWarning: The default value of numeric_only in DataFrame.quantile is deprecated. In a future version, it will default to False. Select only valid columns or specify the value of numeric_only to silence this warning.\n",
      "  quartile_vals = df_to_use.quantile([0.25, 0.75]).speed\n",
      "/Users/rsimpson/e-mission-server/emission/analysis/intake/cleaning/cleaning_methods/speed_outlier_detection.py:27: FutureWarning: The default value of numeric_only in DataFrame.quantile is deprecated. In a future version, it will default to False. Select only valid columns or specify the value of numeric_only to silence this warning.\n",
      "  quartile_vals = df_to_use.quantile([0.25, 0.75]).speed\n",
      "2025-02-07T13:57:54.713188-08:00**********UUID ad2a8037-7ea7-4b29-b19a-e4b51a0ceaef: inferring transportation mode**********\n",
      "2025-02-07T13:58:02.675204-08:00**********UUID ad2a8037-7ea7-4b29-b19a-e4b51a0ceaef: inferring labels**********\n",
      "2025-02-07T13:58:02.737500-08:00**********UUID ad2a8037-7ea7-4b29-b19a-e4b51a0ceaef: populating expectations**********\n",
      "2025-02-07T13:58:02.761796-08:00**********UUID ad2a8037-7ea7-4b29-b19a-e4b51a0ceaef: creating confirmed objects **********\n",
      "2025-02-07T13:58:03.698112-08:00**********UUID ad2a8037-7ea7-4b29-b19a-e4b51a0ceaef: creating composite objects **********\n",
      "2025-02-07T13:58:04.152900-08:00**********UUID ad2a8037-7ea7-4b29-b19a-e4b51a0ceaef: storing user stats **********\n",
      "2025-02-07T13:58:04.163607-08:00**********UUID ad2a8037-7ea7-4b29-b19a-e4b51a0ceaef: storing pipeline independent user stats **********\n",
      "Ran pipeline on master, TimeQuery data.ts with range [1738965465.0660658, 1738965484.639731)\n",
      "Switching back to Dist_Optimize\n",
      "Switched to branch 'Dist_Optimize'\n",
      "Checking out Dist_Optimize to measure pipeline runtime\n",
      "Already on 'Dist_Optimize'\n",
      "Config file not found, returning a copy of the environment variables instead...\n",
      "Retrieved config: {'DB_HOST': None, 'DB_RESULT_LIMIT': None}\n",
      "URL not formatted, defaulting to \"Stage_database\"\n",
      "Connecting to database URL localhost\n",
      "Namespace(all=True, platform=None, user_list=None, email_list=None, date=None, dry_run=False)\n",
      "INFO:root:About to delete 235 analysis results\n",
      "INFO:root:About to delete entries with keys ['analysis/cleaned_place', 'analysis/cleaned_section', 'analysis/cleaned_stop', 'analysis/cleaned_trip', 'analysis/composite_trip', 'analysis/confirmed_place', 'analysis/confirmed_trip', 'analysis/expected_trip', 'analysis/inferred_labels', 'analysis/inferred_section', 'analysis/inferred_trip', 'analysis/recreated_location', 'analysis/smoothing', 'inference/labels', 'inference/prediction', 'segmentation/raw_place', 'segmentation/raw_section', 'segmentation/raw_stop', 'segmentation/raw_trip']\n",
      "INFO:root:About to delete 11 pipeline states\n",
      "INFO:root:this is not a dry run, result of removing analysis objects = <pymongo.results.DeleteResult object at 0x180e13b50>\n",
      "INFO:root:this is not a dry run, result of removing pipeline states = <pymongo.results.DeleteResult object at 0x180e13640>\n",
      "Config file not found, returning a copy of the environment variables instead...\n",
      "Retrieved config: {'DB_HOST': None, 'DB_RESULT_LIMIT': None}\n",
      "URL not formatted, defaulting to \"Stage_database\"\n",
      "Connecting to database URL localhost\n",
      "emission/tests/data/real_examples/iphone_2016-02-22\n",
      "Loading file emission/tests/data/real_examples/iphone_2016-02-22\n",
      "After registration, nrelop_dev-emulator-study_69 -> ad2a8037-7ea7-4b29-b19a-e4b51a0ceaef\n",
      "Finished loading 0 entries into the usercache and 1238 entries into the timeseries\n",
      "Config file not found, returning a copy of the environment variables instead...\n",
      "Retrieved config: {'DB_HOST': None, 'DB_RESULT_LIMIT': None}\n",
      "URL not formatted, defaulting to \"Stage_database\"\n",
      "Connecting to database URL localhost\n",
      "Trying to open debug.conf.json\n",
      "analysis.debug.conf.json not configured, falling back to sample, default configuration\n",
      "INFO:root:NOMINATIM_QUERY_URL: None\n",
      "Nominatim Query URL Configured: None\n",
      "Nominatim URL not configured, place decoding must happen on the client\n",
      "overpass not configured, falling back to public overpass api\n",
      "transit stops query not configured, falling back to default\n",
      "The Zen of Python, by Tim Peters\n",
      "\n",
      "Beautiful is better than ugly.\n",
      "Explicit is better than implicit.\n",
      "Simple is better than complex.\n",
      "Complex is better than complicated.\n",
      "Flat is better than nested.\n",
      "Sparse is better than dense.\n",
      "Readability counts.\n",
      "Special cases aren't special enough to break the rules.\n",
      "Although practicality beats purity.\n",
      "Errors should never pass silently.\n",
      "Unless explicitly silenced.\n",
      "In the face of ambiguity, refuse the temptation to guess.\n",
      "There should be one-- and preferably only one --obvious way to do it.\n",
      "Although that way may not be obvious at first unless you're Dutch.\n",
      "Now is better than never.\n",
      "Although never is often better than *right* now.\n",
      "If the implementation is hard to explain, it's a bad idea.\n",
      "If the implementation is easy to explain, it may be a good idea.\n",
      "Namespaces are one honking great idea -- let's do more of those!\n",
      "analysis.trip_model.conf.json not configured, falling back to sample, default configuration\n",
      "expectations.conf.json not configured, falling back to sample, default configuration\n",
      "ERROR:root:habitica not configured, game functions not supported\n",
      "Traceback (most recent call last):\n",
      "  File \"/Users/rsimpson/e-mission-server/emission/net/ext_service/habitica/proxy.py\", line 22, in <module>\n",
      "    key_file = open('conf/net/ext_service/habitica.json')\n",
      "FileNotFoundError: [Errno 2] No such file or directory: 'conf/net/ext_service/habitica.json'\n",
      "2025-02-07T13:58:09.726051-08:00**********UUID ad2a8037-7ea7-4b29-b19a-e4b51a0ceaef: moving to long term**********\n",
      "New entry count == 0 and skip_if_no_new_data = False, continuing\n",
      "2025-02-07T13:58:09.734730-08:00**********UUID ad2a8037-7ea7-4b29-b19a-e4b51a0ceaef: updating incoming user inputs**********\n",
      "2025-02-07T13:58:09.824767-08:00**********UUID ad2a8037-7ea7-4b29-b19a-e4b51a0ceaef: filter accuracy if needed**********\n",
      "2025-02-07T13:58:09.830004-08:00**********UUID ad2a8037-7ea7-4b29-b19a-e4b51a0ceaef: segmenting into trips**********\n",
      "Found error 'latitude' while processing pipeline for user ad2a8037-7ea7-4b29-b19a-e4b51a0ceaef, skipping\n",
      "Traceback (most recent call last):\n",
      "  File \"/Users/rsimpson/e-mission-server/emission/pipeline/intake_stage.py\", line 78, in run_intake_pipeline\n",
      "    run_intake_pipeline_for_user(uuid, skip_if_no_new_data)\n",
      "  File \"/Users/rsimpson/e-mission-server/emission/pipeline/intake_stage.py\", line 140, in run_intake_pipeline_for_user\n",
      "    eaist.segment_current_trips(uuid)\n",
      "  File \"/Users/rsimpson/e-mission-server/emission/analysis/intake/segmentation/trip_segmentation.py\", line 103, in segment_current_trips\n",
      "    segmentation_points = filter_methods[filters_in_df[0]].segment_into_trips(ts, time_query, loc_df)\n",
      "  File \"/Users/rsimpson/e-mission-server/emission/analysis/intake/segmentation/trip_segmentation_methods/dwell_segmentation_dist_filter.py\", line 86, in segment_into_trips\n",
      "    df[\"distance_diff\"] = self.vectorized_calDistance(df)\n",
      "  File \"/Users/rsimpson/e-mission-server/emission/analysis/intake/segmentation/trip_segmentation_methods/dwell_segmentation_dist_filter.py\", line 42, in vectorized_calDistance\n",
      "    lats = df[\"loc\"].apply(lambda loc: loc[\"latitude\"]).to_numpy()\n",
      "  File \"/Users/rsimpson/miniconda-23.5.2/envs/emission/lib/python3.9/site-packages/pandas/core/series.py\", line 4771, in apply\n",
      "    return SeriesApply(self, func, convert_dtype, args, kwargs).apply()\n",
      "  File \"/Users/rsimpson/miniconda-23.5.2/envs/emission/lib/python3.9/site-packages/pandas/core/apply.py\", line 1123, in apply\n",
      "    return self.apply_standard()\n",
      "  File \"/Users/rsimpson/miniconda-23.5.2/envs/emission/lib/python3.9/site-packages/pandas/core/apply.py\", line 1174, in apply_standard\n",
      "    mapped = lib.map_infer(\n",
      "  File \"pandas/_libs/lib.pyx\", line 2924, in pandas._libs.lib.map_infer\n",
      "  File \"/Users/rsimpson/e-mission-server/emission/analysis/intake/segmentation/trip_segmentation_methods/dwell_segmentation_dist_filter.py\", line 42, in <lambda>\n",
      "    lats = df[\"loc\"].apply(lambda loc: loc[\"latitude\"]).to_numpy()\n",
      "KeyError: 'latitude'\n",
      "Ran pipeline on Dist_Optimize, TimeQuery data.ts with range [1738965488.5502677, 1738965492.5026932)\n",
      "Switching back to Dist_Optimize\n",
      "Already on 'Dist_Optimize'\n"
     ]
    }
   ],
   "source": [
    "branches = {'master': {}, 'Dist_Optimize': {}}\n",
    "\n",
    "day = \"iphone_2016-02-22\"\n",
    "opcode = \"nrelop_dev-emulator-study_69\"\n",
    "\n",
    "curr_git_branch_name = subprocess.check_output(['git', 'rev-parse', '--abbrev-ref', 'HEAD']).decode('utf-8').strip()\n",
    "\n",
    "for branch_name in branches.keys():\n",
    "    print(f\"Checking out {branch_name} to measure pipeline runtime\")\n",
    "    !git checkout $branch_name\n",
    "    \n",
    "    !./e-mission-py.bash ./bin/reset_pipeline.py --all\n",
    "    !./e-mission-py.bash bin/debug/load_timeline_for_day_and_user.py emission/tests/data/real_examples/$day $opcode\n",
    "    with ect.Timer() as t:\n",
    "        !./e-mission-py.bash bin/debug/intake_single_user.py -e $opcode\n",
    "    \n",
    "    now = time.time()\n",
    "    tq = estt.TimeQuery(\"data.ts\", now - t.elapsed, now)\n",
    "    print(f\"Ran pipeline on {branch_name}, {tq}\")\n",
    "    branches[branch_name]['tq'] = tq\n",
    "\n",
    "    print(f\"Switching back to {curr_git_branch_name}\")\n",
    "    !git checkout $curr_git_branch_name\n",
    "    \n",
    "\n",
    "\n",
    "# !./e-mission-py.bash ./bin/reset_pipeline.py --all\n",
    "# if db_host:=os.environ.get('DB_HOST'):\n",
    "#     with ect.Timer() as t:\n",
    "#         !./e-mission-py.bash ./bin/intake_multiprocess.py 5\n",
    "#     esds.store_pipeline_time(None, f\"{curr_git_branch_name}_intake_multiprocess/{db_host}\", time.time(), t.elapsed)"
   ]
  },
  {
   "cell_type": "code",
   "execution_count": 59,
   "metadata": {},
   "outputs": [
    {
     "data": {
      "application/vnd.plotly.v1+json": {
       "config": {
        "plotlyServerURL": "https://plot.ly"
       },
       "data": [
        {
         "hovertemplate": "branch_name=master<br>reading=%{x}<br>name=%{y}<extra></extra>",
         "legendgroup": "master",
         "marker": {
          "color": "#636efa",
          "pattern": {
           "shape": ""
          }
         },
         "name": "master",
         "orientation": "h",
         "showlegend": true,
         "textposition": "auto",
         "type": "bar",
         "x": {
          "bdata": "AKDjF4nJbj8AaAqd19iBP4B7aeAAAN0/oM3jMJjv7T8AKOYg6GiXPwDgJSFZDK8/zFDnGv7WH0BQpq7VTrf9PzC8E2XP++8/xoLCoEwzBkBQYZpZs0wEQADskpSbeHQ/AB6epEfzej8AGjOJesF/Pw==",
          "dtype": "f8"
         },
         "xaxis": "x",
         "y": [
          "STORE_PIPELINE_INDEPENDENT_USER_STATS",
          "STORE_PIPELINE_DEPENDENT_USER_STATS",
          "CREATE_COMPOSITE_OBJECTS",
          "CREATE_CONFIRMED_OBJECTS",
          "EXPECTATION_POPULATION",
          "LABEL_INFERENCE",
          "MODE_INFERENCE",
          "CLEAN_RESAMPLING",
          "JUMP_SMOOTHING",
          "SECTION_SEGMENTATION",
          "TRIP_SEGMENTATION",
          "ACCURACY_FILTERING",
          "USER_INPUT_MATCH_INCOMING",
          "USERCACHE"
         ],
         "yaxis": "y"
        },
        {
         "hovertemplate": "branch_name=Dist_Optimize<br>reading=%{x}<br>name=%{y}<extra></extra>",
         "legendgroup": "Dist_Optimize",
         "marker": {
          "color": "#EF553B",
          "pattern": {
           "shape": ""
          }
         },
         "name": "Dist_Optimize",
         "orientation": "h",
         "showlegend": true,
         "textposition": "auto",
         "type": "bar",
         "x": {
          "bdata": "gNmSVRFucj8Ao6RkksGAPwCfQcR/Gnw/",
          "dtype": "f8"
         },
         "xaxis": "x",
         "y": [
          "ACCURACY_FILTERING",
          "USER_INPUT_MATCH_INCOMING",
          "USERCACHE"
         ],
         "yaxis": "y"
        }
       ],
       "layout": {
        "barmode": "group",
        "legend": {
         "title": {
          "text": "branch_name"
         },
         "tracegroupgap": 0,
         "xanchor": "right",
         "yanchor": "bottom"
        },
        "margin": {
         "t": 60
        },
        "template": {
         "data": {
          "bar": [
           {
            "error_x": {
             "color": "#2a3f5f"
            },
            "error_y": {
             "color": "#2a3f5f"
            },
            "marker": {
             "line": {
              "color": "#E5ECF6",
              "width": 0.5
             },
             "pattern": {
              "fillmode": "overlay",
              "size": 10,
              "solidity": 0.2
             }
            },
            "type": "bar"
           }
          ],
          "barpolar": [
           {
            "marker": {
             "line": {
              "color": "#E5ECF6",
              "width": 0.5
             },
             "pattern": {
              "fillmode": "overlay",
              "size": 10,
              "solidity": 0.2
             }
            },
            "type": "barpolar"
           }
          ],
          "carpet": [
           {
            "aaxis": {
             "endlinecolor": "#2a3f5f",
             "gridcolor": "white",
             "linecolor": "white",
             "minorgridcolor": "white",
             "startlinecolor": "#2a3f5f"
            },
            "baxis": {
             "endlinecolor": "#2a3f5f",
             "gridcolor": "white",
             "linecolor": "white",
             "minorgridcolor": "white",
             "startlinecolor": "#2a3f5f"
            },
            "type": "carpet"
           }
          ],
          "choropleth": [
           {
            "colorbar": {
             "outlinewidth": 0,
             "ticks": ""
            },
            "type": "choropleth"
           }
          ],
          "contour": [
           {
            "colorbar": {
             "outlinewidth": 0,
             "ticks": ""
            },
            "colorscale": [
             [
              0,
              "#0d0887"
             ],
             [
              0.1111111111111111,
              "#46039f"
             ],
             [
              0.2222222222222222,
              "#7201a8"
             ],
             [
              0.3333333333333333,
              "#9c179e"
             ],
             [
              0.4444444444444444,
              "#bd3786"
             ],
             [
              0.5555555555555556,
              "#d8576b"
             ],
             [
              0.6666666666666666,
              "#ed7953"
             ],
             [
              0.7777777777777778,
              "#fb9f3a"
             ],
             [
              0.8888888888888888,
              "#fdca26"
             ],
             [
              1,
              "#f0f921"
             ]
            ],
            "type": "contour"
           }
          ],
          "contourcarpet": [
           {
            "colorbar": {
             "outlinewidth": 0,
             "ticks": ""
            },
            "type": "contourcarpet"
           }
          ],
          "heatmap": [
           {
            "colorbar": {
             "outlinewidth": 0,
             "ticks": ""
            },
            "colorscale": [
             [
              0,
              "#0d0887"
             ],
             [
              0.1111111111111111,
              "#46039f"
             ],
             [
              0.2222222222222222,
              "#7201a8"
             ],
             [
              0.3333333333333333,
              "#9c179e"
             ],
             [
              0.4444444444444444,
              "#bd3786"
             ],
             [
              0.5555555555555556,
              "#d8576b"
             ],
             [
              0.6666666666666666,
              "#ed7953"
             ],
             [
              0.7777777777777778,
              "#fb9f3a"
             ],
             [
              0.8888888888888888,
              "#fdca26"
             ],
             [
              1,
              "#f0f921"
             ]
            ],
            "type": "heatmap"
           }
          ],
          "histogram": [
           {
            "marker": {
             "pattern": {
              "fillmode": "overlay",
              "size": 10,
              "solidity": 0.2
             }
            },
            "type": "histogram"
           }
          ],
          "histogram2d": [
           {
            "colorbar": {
             "outlinewidth": 0,
             "ticks": ""
            },
            "colorscale": [
             [
              0,
              "#0d0887"
             ],
             [
              0.1111111111111111,
              "#46039f"
             ],
             [
              0.2222222222222222,
              "#7201a8"
             ],
             [
              0.3333333333333333,
              "#9c179e"
             ],
             [
              0.4444444444444444,
              "#bd3786"
             ],
             [
              0.5555555555555556,
              "#d8576b"
             ],
             [
              0.6666666666666666,
              "#ed7953"
             ],
             [
              0.7777777777777778,
              "#fb9f3a"
             ],
             [
              0.8888888888888888,
              "#fdca26"
             ],
             [
              1,
              "#f0f921"
             ]
            ],
            "type": "histogram2d"
           }
          ],
          "histogram2dcontour": [
           {
            "colorbar": {
             "outlinewidth": 0,
             "ticks": ""
            },
            "colorscale": [
             [
              0,
              "#0d0887"
             ],
             [
              0.1111111111111111,
              "#46039f"
             ],
             [
              0.2222222222222222,
              "#7201a8"
             ],
             [
              0.3333333333333333,
              "#9c179e"
             ],
             [
              0.4444444444444444,
              "#bd3786"
             ],
             [
              0.5555555555555556,
              "#d8576b"
             ],
             [
              0.6666666666666666,
              "#ed7953"
             ],
             [
              0.7777777777777778,
              "#fb9f3a"
             ],
             [
              0.8888888888888888,
              "#fdca26"
             ],
             [
              1,
              "#f0f921"
             ]
            ],
            "type": "histogram2dcontour"
           }
          ],
          "mesh3d": [
           {
            "colorbar": {
             "outlinewidth": 0,
             "ticks": ""
            },
            "type": "mesh3d"
           }
          ],
          "parcoords": [
           {
            "line": {
             "colorbar": {
              "outlinewidth": 0,
              "ticks": ""
             }
            },
            "type": "parcoords"
           }
          ],
          "pie": [
           {
            "automargin": true,
            "type": "pie"
           }
          ],
          "scatter": [
           {
            "fillpattern": {
             "fillmode": "overlay",
             "size": 10,
             "solidity": 0.2
            },
            "type": "scatter"
           }
          ],
          "scatter3d": [
           {
            "line": {
             "colorbar": {
              "outlinewidth": 0,
              "ticks": ""
             }
            },
            "marker": {
             "colorbar": {
              "outlinewidth": 0,
              "ticks": ""
             }
            },
            "type": "scatter3d"
           }
          ],
          "scattercarpet": [
           {
            "marker": {
             "colorbar": {
              "outlinewidth": 0,
              "ticks": ""
             }
            },
            "type": "scattercarpet"
           }
          ],
          "scattergeo": [
           {
            "marker": {
             "colorbar": {
              "outlinewidth": 0,
              "ticks": ""
             }
            },
            "type": "scattergeo"
           }
          ],
          "scattergl": [
           {
            "marker": {
             "colorbar": {
              "outlinewidth": 0,
              "ticks": ""
             }
            },
            "type": "scattergl"
           }
          ],
          "scattermap": [
           {
            "marker": {
             "colorbar": {
              "outlinewidth": 0,
              "ticks": ""
             }
            },
            "type": "scattermap"
           }
          ],
          "scattermapbox": [
           {
            "marker": {
             "colorbar": {
              "outlinewidth": 0,
              "ticks": ""
             }
            },
            "type": "scattermapbox"
           }
          ],
          "scatterpolar": [
           {
            "marker": {
             "colorbar": {
              "outlinewidth": 0,
              "ticks": ""
             }
            },
            "type": "scatterpolar"
           }
          ],
          "scatterpolargl": [
           {
            "marker": {
             "colorbar": {
              "outlinewidth": 0,
              "ticks": ""
             }
            },
            "type": "scatterpolargl"
           }
          ],
          "scatterternary": [
           {
            "marker": {
             "colorbar": {
              "outlinewidth": 0,
              "ticks": ""
             }
            },
            "type": "scatterternary"
           }
          ],
          "surface": [
           {
            "colorbar": {
             "outlinewidth": 0,
             "ticks": ""
            },
            "colorscale": [
             [
              0,
              "#0d0887"
             ],
             [
              0.1111111111111111,
              "#46039f"
             ],
             [
              0.2222222222222222,
              "#7201a8"
             ],
             [
              0.3333333333333333,
              "#9c179e"
             ],
             [
              0.4444444444444444,
              "#bd3786"
             ],
             [
              0.5555555555555556,
              "#d8576b"
             ],
             [
              0.6666666666666666,
              "#ed7953"
             ],
             [
              0.7777777777777778,
              "#fb9f3a"
             ],
             [
              0.8888888888888888,
              "#fdca26"
             ],
             [
              1,
              "#f0f921"
             ]
            ],
            "type": "surface"
           }
          ],
          "table": [
           {
            "cells": {
             "fill": {
              "color": "#EBF0F8"
             },
             "line": {
              "color": "white"
             }
            },
            "header": {
             "fill": {
              "color": "#C8D4E3"
             },
             "line": {
              "color": "white"
             }
            },
            "type": "table"
           }
          ]
         },
         "layout": {
          "annotationdefaults": {
           "arrowcolor": "#2a3f5f",
           "arrowhead": 0,
           "arrowwidth": 1
          },
          "autotypenumbers": "strict",
          "coloraxis": {
           "colorbar": {
            "outlinewidth": 0,
            "ticks": ""
           }
          },
          "colorscale": {
           "diverging": [
            [
             0,
             "#8e0152"
            ],
            [
             0.1,
             "#c51b7d"
            ],
            [
             0.2,
             "#de77ae"
            ],
            [
             0.3,
             "#f1b6da"
            ],
            [
             0.4,
             "#fde0ef"
            ],
            [
             0.5,
             "#f7f7f7"
            ],
            [
             0.6,
             "#e6f5d0"
            ],
            [
             0.7,
             "#b8e186"
            ],
            [
             0.8,
             "#7fbc41"
            ],
            [
             0.9,
             "#4d9221"
            ],
            [
             1,
             "#276419"
            ]
           ],
           "sequential": [
            [
             0,
             "#0d0887"
            ],
            [
             0.1111111111111111,
             "#46039f"
            ],
            [
             0.2222222222222222,
             "#7201a8"
            ],
            [
             0.3333333333333333,
             "#9c179e"
            ],
            [
             0.4444444444444444,
             "#bd3786"
            ],
            [
             0.5555555555555556,
             "#d8576b"
            ],
            [
             0.6666666666666666,
             "#ed7953"
            ],
            [
             0.7777777777777778,
             "#fb9f3a"
            ],
            [
             0.8888888888888888,
             "#fdca26"
            ],
            [
             1,
             "#f0f921"
            ]
           ],
           "sequentialminus": [
            [
             0,
             "#0d0887"
            ],
            [
             0.1111111111111111,
             "#46039f"
            ],
            [
             0.2222222222222222,
             "#7201a8"
            ],
            [
             0.3333333333333333,
             "#9c179e"
            ],
            [
             0.4444444444444444,
             "#bd3786"
            ],
            [
             0.5555555555555556,
             "#d8576b"
            ],
            [
             0.6666666666666666,
             "#ed7953"
            ],
            [
             0.7777777777777778,
             "#fb9f3a"
            ],
            [
             0.8888888888888888,
             "#fdca26"
            ],
            [
             1,
             "#f0f921"
            ]
           ]
          },
          "colorway": [
           "#636efa",
           "#EF553B",
           "#00cc96",
           "#ab63fa",
           "#FFA15A",
           "#19d3f3",
           "#FF6692",
           "#B6E880",
           "#FF97FF",
           "#FECB52"
          ],
          "font": {
           "color": "#2a3f5f"
          },
          "geo": {
           "bgcolor": "white",
           "lakecolor": "white",
           "landcolor": "#E5ECF6",
           "showlakes": true,
           "showland": true,
           "subunitcolor": "white"
          },
          "hoverlabel": {
           "align": "left"
          },
          "hovermode": "closest",
          "mapbox": {
           "style": "light"
          },
          "paper_bgcolor": "white",
          "plot_bgcolor": "#E5ECF6",
          "polar": {
           "angularaxis": {
            "gridcolor": "white",
            "linecolor": "white",
            "ticks": ""
           },
           "bgcolor": "#E5ECF6",
           "radialaxis": {
            "gridcolor": "white",
            "linecolor": "white",
            "ticks": ""
           }
          },
          "scene": {
           "xaxis": {
            "backgroundcolor": "#E5ECF6",
            "gridcolor": "white",
            "gridwidth": 2,
            "linecolor": "white",
            "showbackground": true,
            "ticks": "",
            "zerolinecolor": "white"
           },
           "yaxis": {
            "backgroundcolor": "#E5ECF6",
            "gridcolor": "white",
            "gridwidth": 2,
            "linecolor": "white",
            "showbackground": true,
            "ticks": "",
            "zerolinecolor": "white"
           },
           "zaxis": {
            "backgroundcolor": "#E5ECF6",
            "gridcolor": "white",
            "gridwidth": 2,
            "linecolor": "white",
            "showbackground": true,
            "ticks": "",
            "zerolinecolor": "white"
           }
          },
          "shapedefaults": {
           "line": {
            "color": "#2a3f5f"
           }
          },
          "ternary": {
           "aaxis": {
            "gridcolor": "white",
            "linecolor": "white",
            "ticks": ""
           },
           "baxis": {
            "gridcolor": "white",
            "linecolor": "white",
            "ticks": ""
           },
           "bgcolor": "#E5ECF6",
           "caxis": {
            "gridcolor": "white",
            "linecolor": "white",
            "ticks": ""
           }
          },
          "title": {
           "x": 0.05
          },
          "xaxis": {
           "automargin": true,
           "gridcolor": "white",
           "linecolor": "white",
           "ticks": "",
           "title": {
            "standoff": 15
           },
           "zerolinecolor": "white",
           "zerolinewidth": 2
          },
          "yaxis": {
           "automargin": true,
           "gridcolor": "white",
           "linecolor": "white",
           "ticks": "",
           "title": {
            "standoff": 15
           },
           "zerolinecolor": "white",
           "zerolinewidth": 2
          }
         }
        },
        "title": {
         "text": "Pipeline stage runtimes (iphone_2016-02-22)"
        },
        "xaxis": {
         "anchor": "y",
         "domain": [
          0,
          1
         ],
         "title": {
          "text": "reading"
         }
        },
        "yaxis": {
         "anchor": "x",
         "domain": [
          0,
          1
         ],
         "dtick": 1,
         "title": {
          "text": "name"
         }
        }
       }
      }
     },
     "metadata": {},
     "output_type": "display_data"
    }
   ],
   "source": [
    "ts = esta.TimeSeries.get_aggregate_time_series()\n",
    "\n",
    "pipeline_stats_dfs = [\n",
    "    ts.get_data_df('stats/pipeline_time', time_query=stats['tq']).assign(branch_name=branch_name)\n",
    "    for branch_name, stats in branches.items()\n",
    "]\n",
    "pipeline_stats_df = pd.concat(pipeline_stats_dfs)\n",
    "\n",
    "pipeline_stages_df = pipeline_stats_df[\n",
    "    pipeline_stats_df['name'].str.isupper() & ~pipeline_stats_df['name'].str.contains('/')\n",
    "]\n",
    "fig = px.bar(\n",
    "    pipeline_stages_df,\n",
    "    y=\"name\",\n",
    "    x=\"reading\",\n",
    "    color=\"branch_name\",\n",
    "    orientation=\"h\",\n",
    ")\n",
    "fig.update_layout(\n",
    "    title=f\"Pipeline stage runtimes ({day})\",\n",
    "    barmode='group',\n",
    "    yaxis=dict(dtick=1),\n",
    "    legend=dict(\n",
    "        yanchor=\"bottom\",\n",
    "        xanchor=\"right\",\n",
    "    )\n",
    ")\n",
    "fig.show()"
   ]
  },
  {
   "cell_type": "code",
   "execution_count": 60,
   "metadata": {},
   "outputs": [
    {
     "data": {
      "application/vnd.plotly.v1+json": {
       "config": {
        "plotlyServerURL": "https://plot.ly"
       },
       "data": [
        {
         "hovertemplate": "branch_name=master<br>reading=%{x}<br>name=%{y}<extra></extra>",
         "legendgroup": "master",
         "marker": {
          "color": "#636efa",
          "pattern": {
           "shape": ""
          }
         },
         "name": "master",
         "orientation": "h",
         "showlegend": true,
         "textposition": "auto",
         "type": "bar",
         "x": {
          "bdata": "UDqp2UpCwT8AALetW3QKPw==",
          "dtype": "f8"
         },
         "xaxis": "x",
         "y": [
          "TRIP_SEGMENTATION/segment_into_trips_dist/loop",
          "TRIP_SEGMENTATION/segment_into_trips_dist/get_filtered_points_df"
         ],
         "yaxis": "y"
        },
        {
         "hovertemplate": "branch_name=Dist_Optimize<br>reading=%{x}<br>name=%{y}<extra></extra>",
         "legendgroup": "Dist_Optimize",
         "marker": {
          "color": "#EF553B",
          "pattern": {
           "shape": ""
          }
         },
         "name": "Dist_Optimize",
         "orientation": "h",
         "showlegend": true,
         "textposition": "auto",
         "type": "bar",
         "x": {
          "bdata": "AIDlRnoZIT8=",
          "dtype": "f8"
         },
         "xaxis": "x",
         "y": [
          "TRIP_SEGMENTATION/segment_into_trips_dist/get_filtered_points_df"
         ],
         "yaxis": "y"
        }
       ],
       "layout": {
        "barmode": "group",
        "legend": {
         "title": {
          "text": "branch_name"
         },
         "tracegroupgap": 0,
         "xanchor": "right",
         "yanchor": "bottom"
        },
        "margin": {
         "t": 60
        },
        "template": {
         "data": {
          "bar": [
           {
            "error_x": {
             "color": "#2a3f5f"
            },
            "error_y": {
             "color": "#2a3f5f"
            },
            "marker": {
             "line": {
              "color": "#E5ECF6",
              "width": 0.5
             },
             "pattern": {
              "fillmode": "overlay",
              "size": 10,
              "solidity": 0.2
             }
            },
            "type": "bar"
           }
          ],
          "barpolar": [
           {
            "marker": {
             "line": {
              "color": "#E5ECF6",
              "width": 0.5
             },
             "pattern": {
              "fillmode": "overlay",
              "size": 10,
              "solidity": 0.2
             }
            },
            "type": "barpolar"
           }
          ],
          "carpet": [
           {
            "aaxis": {
             "endlinecolor": "#2a3f5f",
             "gridcolor": "white",
             "linecolor": "white",
             "minorgridcolor": "white",
             "startlinecolor": "#2a3f5f"
            },
            "baxis": {
             "endlinecolor": "#2a3f5f",
             "gridcolor": "white",
             "linecolor": "white",
             "minorgridcolor": "white",
             "startlinecolor": "#2a3f5f"
            },
            "type": "carpet"
           }
          ],
          "choropleth": [
           {
            "colorbar": {
             "outlinewidth": 0,
             "ticks": ""
            },
            "type": "choropleth"
           }
          ],
          "contour": [
           {
            "colorbar": {
             "outlinewidth": 0,
             "ticks": ""
            },
            "colorscale": [
             [
              0,
              "#0d0887"
             ],
             [
              0.1111111111111111,
              "#46039f"
             ],
             [
              0.2222222222222222,
              "#7201a8"
             ],
             [
              0.3333333333333333,
              "#9c179e"
             ],
             [
              0.4444444444444444,
              "#bd3786"
             ],
             [
              0.5555555555555556,
              "#d8576b"
             ],
             [
              0.6666666666666666,
              "#ed7953"
             ],
             [
              0.7777777777777778,
              "#fb9f3a"
             ],
             [
              0.8888888888888888,
              "#fdca26"
             ],
             [
              1,
              "#f0f921"
             ]
            ],
            "type": "contour"
           }
          ],
          "contourcarpet": [
           {
            "colorbar": {
             "outlinewidth": 0,
             "ticks": ""
            },
            "type": "contourcarpet"
           }
          ],
          "heatmap": [
           {
            "colorbar": {
             "outlinewidth": 0,
             "ticks": ""
            },
            "colorscale": [
             [
              0,
              "#0d0887"
             ],
             [
              0.1111111111111111,
              "#46039f"
             ],
             [
              0.2222222222222222,
              "#7201a8"
             ],
             [
              0.3333333333333333,
              "#9c179e"
             ],
             [
              0.4444444444444444,
              "#bd3786"
             ],
             [
              0.5555555555555556,
              "#d8576b"
             ],
             [
              0.6666666666666666,
              "#ed7953"
             ],
             [
              0.7777777777777778,
              "#fb9f3a"
             ],
             [
              0.8888888888888888,
              "#fdca26"
             ],
             [
              1,
              "#f0f921"
             ]
            ],
            "type": "heatmap"
           }
          ],
          "histogram": [
           {
            "marker": {
             "pattern": {
              "fillmode": "overlay",
              "size": 10,
              "solidity": 0.2
             }
            },
            "type": "histogram"
           }
          ],
          "histogram2d": [
           {
            "colorbar": {
             "outlinewidth": 0,
             "ticks": ""
            },
            "colorscale": [
             [
              0,
              "#0d0887"
             ],
             [
              0.1111111111111111,
              "#46039f"
             ],
             [
              0.2222222222222222,
              "#7201a8"
             ],
             [
              0.3333333333333333,
              "#9c179e"
             ],
             [
              0.4444444444444444,
              "#bd3786"
             ],
             [
              0.5555555555555556,
              "#d8576b"
             ],
             [
              0.6666666666666666,
              "#ed7953"
             ],
             [
              0.7777777777777778,
              "#fb9f3a"
             ],
             [
              0.8888888888888888,
              "#fdca26"
             ],
             [
              1,
              "#f0f921"
             ]
            ],
            "type": "histogram2d"
           }
          ],
          "histogram2dcontour": [
           {
            "colorbar": {
             "outlinewidth": 0,
             "ticks": ""
            },
            "colorscale": [
             [
              0,
              "#0d0887"
             ],
             [
              0.1111111111111111,
              "#46039f"
             ],
             [
              0.2222222222222222,
              "#7201a8"
             ],
             [
              0.3333333333333333,
              "#9c179e"
             ],
             [
              0.4444444444444444,
              "#bd3786"
             ],
             [
              0.5555555555555556,
              "#d8576b"
             ],
             [
              0.6666666666666666,
              "#ed7953"
             ],
             [
              0.7777777777777778,
              "#fb9f3a"
             ],
             [
              0.8888888888888888,
              "#fdca26"
             ],
             [
              1,
              "#f0f921"
             ]
            ],
            "type": "histogram2dcontour"
           }
          ],
          "mesh3d": [
           {
            "colorbar": {
             "outlinewidth": 0,
             "ticks": ""
            },
            "type": "mesh3d"
           }
          ],
          "parcoords": [
           {
            "line": {
             "colorbar": {
              "outlinewidth": 0,
              "ticks": ""
             }
            },
            "type": "parcoords"
           }
          ],
          "pie": [
           {
            "automargin": true,
            "type": "pie"
           }
          ],
          "scatter": [
           {
            "fillpattern": {
             "fillmode": "overlay",
             "size": 10,
             "solidity": 0.2
            },
            "type": "scatter"
           }
          ],
          "scatter3d": [
           {
            "line": {
             "colorbar": {
              "outlinewidth": 0,
              "ticks": ""
             }
            },
            "marker": {
             "colorbar": {
              "outlinewidth": 0,
              "ticks": ""
             }
            },
            "type": "scatter3d"
           }
          ],
          "scattercarpet": [
           {
            "marker": {
             "colorbar": {
              "outlinewidth": 0,
              "ticks": ""
             }
            },
            "type": "scattercarpet"
           }
          ],
          "scattergeo": [
           {
            "marker": {
             "colorbar": {
              "outlinewidth": 0,
              "ticks": ""
             }
            },
            "type": "scattergeo"
           }
          ],
          "scattergl": [
           {
            "marker": {
             "colorbar": {
              "outlinewidth": 0,
              "ticks": ""
             }
            },
            "type": "scattergl"
           }
          ],
          "scattermap": [
           {
            "marker": {
             "colorbar": {
              "outlinewidth": 0,
              "ticks": ""
             }
            },
            "type": "scattermap"
           }
          ],
          "scattermapbox": [
           {
            "marker": {
             "colorbar": {
              "outlinewidth": 0,
              "ticks": ""
             }
            },
            "type": "scattermapbox"
           }
          ],
          "scatterpolar": [
           {
            "marker": {
             "colorbar": {
              "outlinewidth": 0,
              "ticks": ""
             }
            },
            "type": "scatterpolar"
           }
          ],
          "scatterpolargl": [
           {
            "marker": {
             "colorbar": {
              "outlinewidth": 0,
              "ticks": ""
             }
            },
            "type": "scatterpolargl"
           }
          ],
          "scatterternary": [
           {
            "marker": {
             "colorbar": {
              "outlinewidth": 0,
              "ticks": ""
             }
            },
            "type": "scatterternary"
           }
          ],
          "surface": [
           {
            "colorbar": {
             "outlinewidth": 0,
             "ticks": ""
            },
            "colorscale": [
             [
              0,
              "#0d0887"
             ],
             [
              0.1111111111111111,
              "#46039f"
             ],
             [
              0.2222222222222222,
              "#7201a8"
             ],
             [
              0.3333333333333333,
              "#9c179e"
             ],
             [
              0.4444444444444444,
              "#bd3786"
             ],
             [
              0.5555555555555556,
              "#d8576b"
             ],
             [
              0.6666666666666666,
              "#ed7953"
             ],
             [
              0.7777777777777778,
              "#fb9f3a"
             ],
             [
              0.8888888888888888,
              "#fdca26"
             ],
             [
              1,
              "#f0f921"
             ]
            ],
            "type": "surface"
           }
          ],
          "table": [
           {
            "cells": {
             "fill": {
              "color": "#EBF0F8"
             },
             "line": {
              "color": "white"
             }
            },
            "header": {
             "fill": {
              "color": "#C8D4E3"
             },
             "line": {
              "color": "white"
             }
            },
            "type": "table"
           }
          ]
         },
         "layout": {
          "annotationdefaults": {
           "arrowcolor": "#2a3f5f",
           "arrowhead": 0,
           "arrowwidth": 1
          },
          "autotypenumbers": "strict",
          "coloraxis": {
           "colorbar": {
            "outlinewidth": 0,
            "ticks": ""
           }
          },
          "colorscale": {
           "diverging": [
            [
             0,
             "#8e0152"
            ],
            [
             0.1,
             "#c51b7d"
            ],
            [
             0.2,
             "#de77ae"
            ],
            [
             0.3,
             "#f1b6da"
            ],
            [
             0.4,
             "#fde0ef"
            ],
            [
             0.5,
             "#f7f7f7"
            ],
            [
             0.6,
             "#e6f5d0"
            ],
            [
             0.7,
             "#b8e186"
            ],
            [
             0.8,
             "#7fbc41"
            ],
            [
             0.9,
             "#4d9221"
            ],
            [
             1,
             "#276419"
            ]
           ],
           "sequential": [
            [
             0,
             "#0d0887"
            ],
            [
             0.1111111111111111,
             "#46039f"
            ],
            [
             0.2222222222222222,
             "#7201a8"
            ],
            [
             0.3333333333333333,
             "#9c179e"
            ],
            [
             0.4444444444444444,
             "#bd3786"
            ],
            [
             0.5555555555555556,
             "#d8576b"
            ],
            [
             0.6666666666666666,
             "#ed7953"
            ],
            [
             0.7777777777777778,
             "#fb9f3a"
            ],
            [
             0.8888888888888888,
             "#fdca26"
            ],
            [
             1,
             "#f0f921"
            ]
           ],
           "sequentialminus": [
            [
             0,
             "#0d0887"
            ],
            [
             0.1111111111111111,
             "#46039f"
            ],
            [
             0.2222222222222222,
             "#7201a8"
            ],
            [
             0.3333333333333333,
             "#9c179e"
            ],
            [
             0.4444444444444444,
             "#bd3786"
            ],
            [
             0.5555555555555556,
             "#d8576b"
            ],
            [
             0.6666666666666666,
             "#ed7953"
            ],
            [
             0.7777777777777778,
             "#fb9f3a"
            ],
            [
             0.8888888888888888,
             "#fdca26"
            ],
            [
             1,
             "#f0f921"
            ]
           ]
          },
          "colorway": [
           "#636efa",
           "#EF553B",
           "#00cc96",
           "#ab63fa",
           "#FFA15A",
           "#19d3f3",
           "#FF6692",
           "#B6E880",
           "#FF97FF",
           "#FECB52"
          ],
          "font": {
           "color": "#2a3f5f"
          },
          "geo": {
           "bgcolor": "white",
           "lakecolor": "white",
           "landcolor": "#E5ECF6",
           "showlakes": true,
           "showland": true,
           "subunitcolor": "white"
          },
          "hoverlabel": {
           "align": "left"
          },
          "hovermode": "closest",
          "mapbox": {
           "style": "light"
          },
          "paper_bgcolor": "white",
          "plot_bgcolor": "#E5ECF6",
          "polar": {
           "angularaxis": {
            "gridcolor": "white",
            "linecolor": "white",
            "ticks": ""
           },
           "bgcolor": "#E5ECF6",
           "radialaxis": {
            "gridcolor": "white",
            "linecolor": "white",
            "ticks": ""
           }
          },
          "scene": {
           "xaxis": {
            "backgroundcolor": "#E5ECF6",
            "gridcolor": "white",
            "gridwidth": 2,
            "linecolor": "white",
            "showbackground": true,
            "ticks": "",
            "zerolinecolor": "white"
           },
           "yaxis": {
            "backgroundcolor": "#E5ECF6",
            "gridcolor": "white",
            "gridwidth": 2,
            "linecolor": "white",
            "showbackground": true,
            "ticks": "",
            "zerolinecolor": "white"
           },
           "zaxis": {
            "backgroundcolor": "#E5ECF6",
            "gridcolor": "white",
            "gridwidth": 2,
            "linecolor": "white",
            "showbackground": true,
            "ticks": "",
            "zerolinecolor": "white"
           }
          },
          "shapedefaults": {
           "line": {
            "color": "#2a3f5f"
           }
          },
          "ternary": {
           "aaxis": {
            "gridcolor": "white",
            "linecolor": "white",
            "ticks": ""
           },
           "baxis": {
            "gridcolor": "white",
            "linecolor": "white",
            "ticks": ""
           },
           "bgcolor": "#E5ECF6",
           "caxis": {
            "gridcolor": "white",
            "linecolor": "white",
            "ticks": ""
           }
          },
          "title": {
           "x": 0.05
          },
          "xaxis": {
           "automargin": true,
           "gridcolor": "white",
           "linecolor": "white",
           "ticks": "",
           "title": {
            "standoff": 15
           },
           "zerolinecolor": "white",
           "zerolinewidth": 2
          },
          "yaxis": {
           "automargin": true,
           "gridcolor": "white",
           "linecolor": "white",
           "ticks": "",
           "title": {
            "standoff": 15
           },
           "zerolinecolor": "white",
           "zerolinewidth": 2
          }
         }
        },
        "title": {
         "text": "Trip segmentation substage runtimes (iphone_2016-02-22)"
        },
        "xaxis": {
         "anchor": "y",
         "domain": [
          0,
          1
         ],
         "title": {
          "text": "reading"
         }
        },
        "yaxis": {
         "anchor": "x",
         "domain": [
          0,
          1
         ],
         "title": {
          "text": "name"
         }
        }
       }
      }
     },
     "metadata": {},
     "output_type": "display_data"
    }
   ],
   "source": [
    "trip_segmentation_df = pipeline_stats_df[\n",
    "    pipeline_stats_df['name'].str.contains('TRIP_SEGMENTATION/segment_into_trips_dist/')\n",
    "]\n",
    "fig = px.bar(\n",
    "    trip_segmentation_df,\n",
    "    y=\"name\",\n",
    "    x=\"reading\",\n",
    "    color=\"branch_name\",\n",
    "    orientation=\"h\",\n",
    ")\n",
    "fig.update_layout(\n",
    "    title=f\"Trip segmentation substage runtimes ({day})\",\n",
    "    barmode='group',\n",
    "    legend=dict(\n",
    "        yanchor=\"bottom\",\n",
    "        xanchor=\"right\",\n",
    "    )\n",
    ")\n",
    "fig.show()"
   ]
  },
  {
   "cell_type": "code",
   "execution_count": 61,
   "metadata": {},
   "outputs": [],
   "source": [
    "# !./e-mission-py.bash bin/debug/purge_user.py -e $opcode"
   ]
  }
 ],
 "metadata": {
  "kernelspec": {
   "display_name": "emission",
   "language": "python",
   "name": "python3"
  },
  "language_info": {
   "codemirror_mode": {
    "name": "ipython",
    "version": 3
   },
   "file_extension": ".py",
   "mimetype": "text/x-python",
   "name": "python",
   "nbconvert_exporter": "python",
   "pygments_lexer": "ipython3",
   "version": "3.9.20"
  }
 },
 "nbformat": 4,
 "nbformat_minor": 2
}
